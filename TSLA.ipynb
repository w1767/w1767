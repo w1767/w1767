{
  "nbformat": 4,
  "nbformat_minor": 0,
  "metadata": {
    "colab": {
      "name": "Untitled0.ipynb",
      "provenance": [],
      "authorship_tag": "ABX9TyPjmhzxyOv+NVUQ9td3FYDV",
      "include_colab_link": true
    },
    "kernelspec": {
      "name": "python3",
      "display_name": "Python 3"
    },
    "language_info": {
      "name": "python"
    }
  },
  "cells": [
    {
      "cell_type": "markdown",
      "metadata": {
        "id": "view-in-github",
        "colab_type": "text"
      },
      "source": [
        "<a href=\"https://colab.research.google.com/github/w1767/w1767/blob/main/TSLA.ipynb\" target=\"_parent\"><img src=\"https://colab.research.google.com/assets/colab-badge.svg\" alt=\"Open In Colab\"/></a>"
      ]
    },
    {
      "cell_type": "code",
      "metadata": {
        "id": "jF-rA78EBttL"
      },
      "source": [
        "# Description: this program uses an aritificial recurrent neural network called Long Short Term Memory (LSTM) to predict\n",
        "# the closing stock price of a corporation (Apple Inc.) using the past 60 day stock price. "
      ],
      "execution_count": 185,
      "outputs": []
    },
    {
      "cell_type": "code",
      "metadata": {
        "id": "wpTDFiYaHooV"
      },
      "source": [
        ""
      ],
      "execution_count": 185,
      "outputs": []
    },
    {
      "cell_type": "code",
      "metadata": {
        "id": "4t9te_ZzCKmA",
        "colab": {
          "base_uri": "https://localhost:8080/"
        },
        "outputId": "8dddeb63-aaa3-4bb7-926b-57c3b23cc58d"
      },
      "source": [
        "# Import the libraries\n",
        "!pip install pandas_datareader\n",
        "!pip install yfinance\n",
        "!pip install mplfinance\n",
        "import os\n",
        "import argparse\n",
        "import signal\n",
        "import yfinance as yf\n",
        "import pickle\n",
        "import mplfinance as mpf\n",
        "import math\n",
        "import pandas_datareader.data as web\n",
        "from datetime import datetime, timedelta\n",
        "import numpy as np\n",
        "import pandas as pd\n",
        "from sklearn.preprocessing import MinMaxScaler\n",
        "from keras.models import Sequential\n",
        "from keras.layers import Dense, LSTM\n",
        "#from yfinance import stock_info\n",
        "from dateutil.parser import parse\n",
        "from urllib.request import urlopen, Request\n",
        "from bs4 import BeautifulSoup\n",
        "import matplotlib.pyplot as plt\n",
        "plt.style.use('fivethirtyeight')\n",
        "start_date = datetime(2020, 1,1)\n",
        "end_date = datetime(2021, 8, 2)\n"
      ],
      "execution_count": 186,
      "outputs": [
        {
          "output_type": "stream",
          "text": [
            "Requirement already satisfied: pandas_datareader in /usr/local/lib/python3.7/dist-packages (0.9.0)\n",
            "Requirement already satisfied: lxml in /usr/local/lib/python3.7/dist-packages (from pandas_datareader) (4.6.3)\n",
            "Requirement already satisfied: requests>=2.19.0 in /usr/local/lib/python3.7/dist-packages (from pandas_datareader) (2.23.0)\n",
            "Requirement already satisfied: pandas>=0.23 in /usr/local/lib/python3.7/dist-packages (from pandas_datareader) (1.1.5)\n",
            "Requirement already satisfied: numpy>=1.15.4 in /usr/local/lib/python3.7/dist-packages (from pandas>=0.23->pandas_datareader) (1.19.5)\n",
            "Requirement already satisfied: python-dateutil>=2.7.3 in /usr/local/lib/python3.7/dist-packages (from pandas>=0.23->pandas_datareader) (2.8.1)\n",
            "Requirement already satisfied: pytz>=2017.2 in /usr/local/lib/python3.7/dist-packages (from pandas>=0.23->pandas_datareader) (2018.9)\n",
            "Requirement already satisfied: six>=1.5 in /usr/local/lib/python3.7/dist-packages (from python-dateutil>=2.7.3->pandas>=0.23->pandas_datareader) (1.15.0)\n",
            "Requirement already satisfied: chardet<4,>=3.0.2 in /usr/local/lib/python3.7/dist-packages (from requests>=2.19.0->pandas_datareader) (3.0.4)\n",
            "Requirement already satisfied: urllib3!=1.25.0,!=1.25.1,<1.26,>=1.21.1 in /usr/local/lib/python3.7/dist-packages (from requests>=2.19.0->pandas_datareader) (1.24.3)\n",
            "Requirement already satisfied: certifi>=2017.4.17 in /usr/local/lib/python3.7/dist-packages (from requests>=2.19.0->pandas_datareader) (2021.5.30)\n",
            "Requirement already satisfied: idna<3,>=2.5 in /usr/local/lib/python3.7/dist-packages (from requests>=2.19.0->pandas_datareader) (2.10)\n",
            "Requirement already satisfied: yfinance in /usr/local/lib/python3.7/dist-packages (0.1.63)\n",
            "Requirement already satisfied: requests>=2.20 in /usr/local/lib/python3.7/dist-packages (from yfinance) (2.23.0)\n",
            "Requirement already satisfied: multitasking>=0.0.7 in /usr/local/lib/python3.7/dist-packages (from yfinance) (0.0.9)\n",
            "Requirement already satisfied: lxml>=4.5.1 in /usr/local/lib/python3.7/dist-packages (from yfinance) (4.6.3)\n",
            "Requirement already satisfied: numpy>=1.15 in /usr/local/lib/python3.7/dist-packages (from yfinance) (1.19.5)\n",
            "Requirement already satisfied: pandas>=0.24 in /usr/local/lib/python3.7/dist-packages (from yfinance) (1.1.5)\n",
            "Requirement already satisfied: pytz>=2017.2 in /usr/local/lib/python3.7/dist-packages (from pandas>=0.24->yfinance) (2018.9)\n",
            "Requirement already satisfied: python-dateutil>=2.7.3 in /usr/local/lib/python3.7/dist-packages (from pandas>=0.24->yfinance) (2.8.1)\n",
            "Requirement already satisfied: six>=1.5 in /usr/local/lib/python3.7/dist-packages (from python-dateutil>=2.7.3->pandas>=0.24->yfinance) (1.15.0)\n",
            "Requirement already satisfied: certifi>=2017.4.17 in /usr/local/lib/python3.7/dist-packages (from requests>=2.20->yfinance) (2021.5.30)\n",
            "Requirement already satisfied: urllib3!=1.25.0,!=1.25.1,<1.26,>=1.21.1 in /usr/local/lib/python3.7/dist-packages (from requests>=2.20->yfinance) (1.24.3)\n",
            "Requirement already satisfied: idna<3,>=2.5 in /usr/local/lib/python3.7/dist-packages (from requests>=2.20->yfinance) (2.10)\n",
            "Requirement already satisfied: chardet<4,>=3.0.2 in /usr/local/lib/python3.7/dist-packages (from requests>=2.20->yfinance) (3.0.4)\n",
            "Requirement already satisfied: mplfinance in /usr/local/lib/python3.7/dist-packages (0.12.7a17)\n",
            "Requirement already satisfied: pandas in /usr/local/lib/python3.7/dist-packages (from mplfinance) (1.1.5)\n",
            "Requirement already satisfied: matplotlib in /usr/local/lib/python3.7/dist-packages (from mplfinance) (3.2.2)\n",
            "Requirement already satisfied: kiwisolver>=1.0.1 in /usr/local/lib/python3.7/dist-packages (from matplotlib->mplfinance) (1.3.1)\n",
            "Requirement already satisfied: pyparsing!=2.0.4,!=2.1.2,!=2.1.6,>=2.0.1 in /usr/local/lib/python3.7/dist-packages (from matplotlib->mplfinance) (2.4.7)\n",
            "Requirement already satisfied: python-dateutil>=2.1 in /usr/local/lib/python3.7/dist-packages (from matplotlib->mplfinance) (2.8.1)\n",
            "Requirement already satisfied: cycler>=0.10 in /usr/local/lib/python3.7/dist-packages (from matplotlib->mplfinance) (0.10.0)\n",
            "Requirement already satisfied: numpy>=1.11 in /usr/local/lib/python3.7/dist-packages (from matplotlib->mplfinance) (1.19.5)\n",
            "Requirement already satisfied: six in /usr/local/lib/python3.7/dist-packages (from cycler>=0.10->matplotlib->mplfinance) (1.15.0)\n",
            "Requirement already satisfied: pytz>=2017.2 in /usr/local/lib/python3.7/dist-packages (from pandas->mplfinance) (2018.9)\n"
          ],
          "name": "stdout"
        }
      ]
    },
    {
      "cell_type": "code",
      "metadata": {
        "colab": {
          "base_uri": "https://localhost:8080/",
          "height": 467
        },
        "id": "Tkat1PpYDTgp",
        "outputId": "7cd34d52-51ea-4230-85c7-ba37eda8b57d"
      },
      "source": [
        "#Get the stock quote\n",
        "data = yf.download('TSLA', start=start_date, end=end_date)\n",
        "#df = web.DataReader('TSLA', data_source='yahoo',start='2012-01',end='2019-12-17')\n",
        "#show the data\n",
        "data.head(391)"
      ],
      "execution_count": 187,
      "outputs": [
        {
          "output_type": "stream",
          "text": [
            "\r[*********************100%***********************]  1 of 1 completed\n"
          ],
          "name": "stdout"
        },
        {
          "output_type": "execute_result",
          "data": {
            "text/html": [
              "<div>\n",
              "<style scoped>\n",
              "    .dataframe tbody tr th:only-of-type {\n",
              "        vertical-align: middle;\n",
              "    }\n",
              "\n",
              "    .dataframe tbody tr th {\n",
              "        vertical-align: top;\n",
              "    }\n",
              "\n",
              "    .dataframe thead th {\n",
              "        text-align: right;\n",
              "    }\n",
              "</style>\n",
              "<table border=\"1\" class=\"dataframe\">\n",
              "  <thead>\n",
              "    <tr style=\"text-align: right;\">\n",
              "      <th></th>\n",
              "      <th>Open</th>\n",
              "      <th>High</th>\n",
              "      <th>Low</th>\n",
              "      <th>Close</th>\n",
              "      <th>Adj Close</th>\n",
              "      <th>Volume</th>\n",
              "    </tr>\n",
              "    <tr>\n",
              "      <th>Date</th>\n",
              "      <th></th>\n",
              "      <th></th>\n",
              "      <th></th>\n",
              "      <th></th>\n",
              "      <th></th>\n",
              "      <th></th>\n",
              "    </tr>\n",
              "  </thead>\n",
              "  <tbody>\n",
              "    <tr>\n",
              "      <th>2020-01-02</th>\n",
              "      <td>84.900002</td>\n",
              "      <td>86.139999</td>\n",
              "      <td>84.342003</td>\n",
              "      <td>86.052002</td>\n",
              "      <td>86.052002</td>\n",
              "      <td>47660500</td>\n",
              "    </tr>\n",
              "    <tr>\n",
              "      <th>2020-01-03</th>\n",
              "      <td>88.099998</td>\n",
              "      <td>90.800003</td>\n",
              "      <td>87.384003</td>\n",
              "      <td>88.601997</td>\n",
              "      <td>88.601997</td>\n",
              "      <td>88892500</td>\n",
              "    </tr>\n",
              "    <tr>\n",
              "      <th>2020-01-06</th>\n",
              "      <td>88.094002</td>\n",
              "      <td>90.311996</td>\n",
              "      <td>88.000000</td>\n",
              "      <td>90.307999</td>\n",
              "      <td>90.307999</td>\n",
              "      <td>50665000</td>\n",
              "    </tr>\n",
              "    <tr>\n",
              "      <th>2020-01-07</th>\n",
              "      <td>92.279999</td>\n",
              "      <td>94.325996</td>\n",
              "      <td>90.671997</td>\n",
              "      <td>93.811996</td>\n",
              "      <td>93.811996</td>\n",
              "      <td>89410500</td>\n",
              "    </tr>\n",
              "    <tr>\n",
              "      <th>2020-01-08</th>\n",
              "      <td>94.739998</td>\n",
              "      <td>99.697998</td>\n",
              "      <td>93.646004</td>\n",
              "      <td>98.428001</td>\n",
              "      <td>98.428001</td>\n",
              "      <td>155721500</td>\n",
              "    </tr>\n",
              "    <tr>\n",
              "      <th>...</th>\n",
              "      <td>...</td>\n",
              "      <td>...</td>\n",
              "      <td>...</td>\n",
              "      <td>...</td>\n",
              "      <td>...</td>\n",
              "      <td>...</td>\n",
              "    </tr>\n",
              "    <tr>\n",
              "      <th>2021-07-15</th>\n",
              "      <td>658.390015</td>\n",
              "      <td>666.140015</td>\n",
              "      <td>637.880005</td>\n",
              "      <td>650.599976</td>\n",
              "      <td>650.599976</td>\n",
              "      <td>20209600</td>\n",
              "    </tr>\n",
              "    <tr>\n",
              "      <th>2021-07-16</th>\n",
              "      <td>654.679993</td>\n",
              "      <td>656.700012</td>\n",
              "      <td>642.200012</td>\n",
              "      <td>644.219971</td>\n",
              "      <td>644.219971</td>\n",
              "      <td>16339800</td>\n",
              "    </tr>\n",
              "    <tr>\n",
              "      <th>2021-07-19</th>\n",
              "      <td>629.890015</td>\n",
              "      <td>647.200012</td>\n",
              "      <td>621.289978</td>\n",
              "      <td>646.219971</td>\n",
              "      <td>646.219971</td>\n",
              "      <td>21297100</td>\n",
              "    </tr>\n",
              "    <tr>\n",
              "      <th>2021-07-20</th>\n",
              "      <td>651.989990</td>\n",
              "      <td>662.390015</td>\n",
              "      <td>640.500000</td>\n",
              "      <td>660.500000</td>\n",
              "      <td>660.500000</td>\n",
              "      <td>15487100</td>\n",
              "    </tr>\n",
              "    <tr>\n",
              "      <th>2021-07-21</th>\n",
              "      <td>659.609985</td>\n",
              "      <td>664.859985</td>\n",
              "      <td>650.289978</td>\n",
              "      <td>655.289978</td>\n",
              "      <td>655.289978</td>\n",
              "      <td>13953300</td>\n",
              "    </tr>\n",
              "  </tbody>\n",
              "</table>\n",
              "<p>391 rows × 6 columns</p>\n",
              "</div>"
            ],
            "text/plain": [
              "                  Open        High  ...   Adj Close     Volume\n",
              "Date                                ...                       \n",
              "2020-01-02   84.900002   86.139999  ...   86.052002   47660500\n",
              "2020-01-03   88.099998   90.800003  ...   88.601997   88892500\n",
              "2020-01-06   88.094002   90.311996  ...   90.307999   50665000\n",
              "2020-01-07   92.279999   94.325996  ...   93.811996   89410500\n",
              "2020-01-08   94.739998   99.697998  ...   98.428001  155721500\n",
              "...                ...         ...  ...         ...        ...\n",
              "2021-07-15  658.390015  666.140015  ...  650.599976   20209600\n",
              "2021-07-16  654.679993  656.700012  ...  644.219971   16339800\n",
              "2021-07-19  629.890015  647.200012  ...  646.219971   21297100\n",
              "2021-07-20  651.989990  662.390015  ...  660.500000   15487100\n",
              "2021-07-21  659.609985  664.859985  ...  655.289978   13953300\n",
              "\n",
              "[391 rows x 6 columns]"
            ]
          },
          "metadata": {
            "tags": []
          },
          "execution_count": 187
        }
      ]
    },
    {
      "cell_type": "code",
      "metadata": {
        "id": "iINONBjJCmEs"
      },
      "source": [
        ""
      ],
      "execution_count": 187,
      "outputs": []
    },
    {
      "cell_type": "code",
      "metadata": {
        "colab": {
          "base_uri": "https://localhost:8080/"
        },
        "id": "-1NflEs4D4Bv",
        "outputId": "1c11082f-be62-4a4f-9dda-551dbddbebc9"
      },
      "source": [
        "#Get the number of rows and columns in the data set\n",
        "data.shape\n",
        "\n"
      ],
      "execution_count": 189,
      "outputs": [
        {
          "output_type": "execute_result",
          "data": {
            "text/plain": [
              "(398, 6)"
            ]
          },
          "metadata": {
            "tags": []
          },
          "execution_count": 189
        }
      ]
    },
    {
      "cell_type": "code",
      "metadata": {
        "colab": {
          "base_uri": "https://localhost:8080/",
          "height": 523
        },
        "id": "nASYYE3wEFyH",
        "outputId": "ed1300d0-bba4-4921-d1dc-32a35f93e0af"
      },
      "source": [
        "mpf.plot(data, type='candle', mav= (3,6,9), volume=True, show_nontrading=True)\n",
        "#Visualize the closing price history\n",
        "#plt.figure(figsize=(16,8))\n",
        "#plt.title('Close Price History')\n",
        "#plt.plot(df['Close'])\n",
        "#plt.xlabel('Date',fontsize=18)\n",
        "#plt.ylabel('Close Price USD($)',fontsize=18)\n",
        "#plt.show()"
      ],
      "execution_count": 190,
      "outputs": [
        {
          "output_type": "display_data",
          "data": {
            "image/png": "[encoded data removed]",
            "text/plain": [
              "<Figure size 800x575 with 4 Axes>"
            ]
          },
          "metadata": {
            "tags": []
          }
        }
      ]
    },
    {
      "cell_type": "code",
      "metadata": {
        "id": "5u3vU4T5HqUi"
      },
      "source": [
        ""
      ],
      "execution_count": null,
      "outputs": []
    },
    {
      "cell_type": "code",
      "metadata": {
        "colab": {
          "base_uri": "https://localhost:8080/"
        },
        "id": "LhjmcNHG7Tbm",
        "outputId": "8b197623-0619-4a0f-d3b0-b47ccf08fd26"
      },
      "source": [
        "#Create a new dataframe with only the 'Close column'\n",
        "data = data.filter(['Close'])\n",
        "#Convert the dataframe to a numpy array\n",
        "dataset = data.values\n",
        "#Get the number of rows to train the model on \n",
        "training_data_len = math.ceil(len(dataset) * .8)\n",
        "\n",
        "training_data_len"
      ],
      "execution_count": 191,
      "outputs": [
        {
          "output_type": "execute_result",
          "data": {
            "text/plain": [
              "319"
            ]
          },
          "metadata": {
            "tags": []
          },
          "execution_count": 191
        }
      ]
    },
    {
      "cell_type": "code",
      "metadata": {
        "colab": {
          "base_uri": "https://localhost:8080/"
        },
        "id": "7KFZs2c38gaO",
        "outputId": "10eed731-1a1e-43b0-8e2c-6933c1f683c2"
      },
      "source": [
        "#Scale the data\n",
        "scaler = MinMaxScaler(feature_range=(0,1))\n",
        "scaled_data = scaler.fit_transform(dataset)\n",
        "scaled_data\n",
        "\n"
      ],
      "execution_count": 199,
      "outputs": [
        {
          "output_type": "execute_result",
          "data": {
            "text/plain": [
              "array([[0.01702913],\n",
              "       [0.02017398],\n",
              "       [0.02227796],\n",
              "       [0.02659937],\n",
              "       [0.0322922 ],\n",
              "       [0.02962831],\n",
              "       [0.02884147],\n",
              "       [0.04036278],\n",
              "       [0.0435841 ],\n",
              "       [0.03879404],\n",
              "       [0.0375583 ],\n",
              "       [0.03682079],\n",
              "       [0.04587307],\n",
              "       [0.0513883 ],\n",
              "       [0.05203947],\n",
              "       [0.05021914],\n",
              "       [0.04854188],\n",
              "       [0.05073219],\n",
              "       [0.05420757],\n",
              "       [0.06896254],\n",
              "       [0.07136989],\n",
              "       [0.10329458],\n",
              "       [0.12970157],\n",
              "       [0.09212106],\n",
              "       [0.09563838],\n",
              "       [0.09541885],\n",
              "       [0.10114373],\n",
              "       [0.10190838],\n",
              "       [0.10015957],\n",
              "       [0.10921432],\n",
              "       [0.10823509],\n",
              "       [0.12263239],\n",
              "       [0.13719003],\n",
              "       [0.13274777],\n",
              "       [0.13313994],\n",
              "       [0.11656219],\n",
              "       [0.10820549],\n",
              "       [0.10299858],\n",
              "       [0.07838233],\n",
              "       [0.07566665],\n",
              "       [0.09432123],\n",
              "       [0.09478742],\n",
              "       [0.09577156],\n",
              "       [0.08961504],\n",
              "       [0.08442046],\n",
              "       [0.06086975],\n",
              "       [0.07007741],\n",
              "       [0.06733954],\n",
              "       [0.04916593],\n",
              "       [0.04573001],\n",
              "       [0.0206821 ],\n",
              "       [0.01701432],\n",
              "       [0.        ],\n",
              "       [0.01638288],\n",
              "       [0.01635575],\n",
              "       [0.01802315],\n",
              "       [0.03546419],\n",
              "       [0.04391215],\n",
              "       [0.04117675],\n",
              "       [0.03777289],\n",
              "       [0.03475629],\n",
              "       [0.04015066],\n",
              "       [0.02968257],\n",
              "       [0.02300066],\n",
              "       [0.02930026],\n",
              "       [0.0382366 ],\n",
              "       [0.04544142],\n",
              "       [0.04627758],\n",
              "       [0.05223679],\n",
              "       [0.07146363],\n",
              "       [0.08600152],\n",
              "       [0.09091985],\n",
              "       [0.09471343],\n",
              "       [0.09685439],\n",
              "       [0.09499707],\n",
              "       [0.0802865 ],\n",
              "       [0.09148222],\n",
              "       [0.08495078],\n",
              "       [0.0897655 ],\n",
              "       [0.10791938],\n",
              "       [0.10061097],\n",
              "       [0.1083535 ],\n",
              "       [0.1037583 ],\n",
              "       [0.0838877 ],\n",
              "       [0.09865499],\n",
              "       [0.1003865 ],\n",
              "       [0.10393096],\n",
              "       [0.10330444],\n",
              "       [0.11301776],\n",
              "       [0.11101244],\n",
              "       [0.11054873],\n",
              "       [0.10599793],\n",
              "       [0.10904906],\n",
              "       [0.10802297],\n",
              "       [0.11158961],\n",
              "       [0.11020342],\n",
              "       [0.11206566],\n",
              "       [0.11503541],\n",
              "       [0.11239126],\n",
              "       [0.1128821 ],\n",
              "       [0.11321755],\n",
              "       [0.10966077],\n",
              "       [0.11686065],\n",
              "       [0.13242464],\n",
              "       [0.12834495],\n",
              "       [0.12869027],\n",
              "       [0.12410741],\n",
              "       [0.12935625],\n",
              "       [0.14520635],\n",
              "       [0.14292479],\n",
              "       [0.16373761],\n",
              "       [0.1508597 ],\n",
              "       [0.14159531],\n",
              "       [0.15531431],\n",
              "       [0.15315114],\n",
              "       [0.15553384],\n",
              "       [0.15853565],\n",
              "       [0.15778087],\n",
              "       [0.15615788],\n",
              "       [0.15799794],\n",
              "       [0.1479023 ],\n",
              "       [0.15410077],\n",
              "       [0.14762852],\n",
              "       [0.15986511],\n",
              "       [0.17724451],\n",
              "       [0.18706633],\n",
              "       [0.20902611],\n",
              "       [0.24921132],\n",
              "       [0.25372016],\n",
              "       [0.24780536],\n",
              "       [0.25481038],\n",
              "       [0.29190004],\n",
              "       [0.28016168],\n",
              "       [0.28503067],\n",
              "       [0.2922355 ],\n",
              "       [0.28104471],\n",
              "       [0.28109405],\n",
              "       [0.31615867],\n",
              "       [0.29774826],\n",
              "       [0.30366061],\n",
              "       [0.28411067],\n",
              "       [0.26041441],\n",
              "       [0.29065446],\n",
              "       [0.27508799],\n",
              "       [0.28066733],\n",
              "       [0.27780118],\n",
              "       [0.26380842],\n",
              "       [0.27718702],\n",
              "       [0.27768033],\n",
              "       [0.27719196],\n",
              "       [0.27831669],\n",
              "       [0.26922249],\n",
              "       [0.26080166],\n",
              "       [0.2499044 ],\n",
              "       [0.29439374],\n",
              "       [0.31073225],\n",
              "       [0.31806038],\n",
              "       [0.36367446],\n",
              "       [0.37636492],\n",
              "       [0.37425353],\n",
              "       [0.40466622],\n",
              "       [0.41654271],\n",
              "       [0.40771735],\n",
              "       [0.40997179],\n",
              "       [0.44199514],\n",
              "       [0.46310395],\n",
              "       [0.45685121],\n",
              "       [0.52547092],\n",
              "       [0.49677247],\n",
              "       [0.4626353 ],\n",
              "       [0.4128478 ],\n",
              "       [0.42680854],\n",
              "       [0.31814424],\n",
              "       [0.36262865],\n",
              "       [0.36886904],\n",
              "       [0.37057097],\n",
              "       [0.42841178],\n",
              "       [0.46558285],\n",
              "       [0.45571662],\n",
              "       [0.43311058],\n",
              "       [0.45619758],\n",
              "       [0.46512655],\n",
              "       [0.43409722],\n",
              "       [0.37999321],\n",
              "       [0.38915651],\n",
              "       [0.41326711],\n",
              "       [0.43036039],\n",
              "       [0.4277335 ],\n",
              "       [0.4399923 ],\n",
              "       [0.4636096 ],\n",
              "       [0.42282503],\n",
              "       [0.43588546],\n",
              "       [0.42145611],\n",
              "       [0.4354168 ],\n",
              "       [0.43618147],\n",
              "       [0.44614635],\n",
              "       [0.45638256],\n",
              "       [0.46174734],\n",
              "       [0.47981488],\n",
              "       [0.46449756],\n",
              "       [0.45313907],\n",
              "       [0.44223684],\n",
              "       [0.431273  ],\n",
              "       [0.43213631],\n",
              "       [0.43602114],\n",
              "       [0.42965741],\n",
              "       [0.42922575],\n",
              "       [0.43465218],\n",
              "       [0.41163917],\n",
              "       [0.41757124],\n",
              "       [0.38946483],\n",
              "       [0.40484383],\n",
              "       [0.43369022],\n",
              "       [0.43008906],\n",
              "       [0.45119046],\n",
              "       [0.44115159],\n",
              "       [0.43043438],\n",
              "       [0.4169916 ],\n",
              "       [0.42534093],\n",
              "       [0.41871822],\n",
              "       [0.41469772],\n",
              "       [0.41419207],\n",
              "       [0.45553159],\n",
              "       [0.51106622],\n",
              "       [0.52664251],\n",
              "       [0.51472902],\n",
              "       [0.55448995],\n",
              "       [0.59584186],\n",
              "       [0.61880552],\n",
              "       [0.6333089 ],\n",
              "       [0.6109125 ],\n",
              "       [0.63207562],\n",
              "       [0.61241714],\n",
              "       [0.64270649],\n",
              "       [0.64968682],\n",
              "       [0.70237257],\n",
              "       [0.7123868 ],\n",
              "       [0.65639587],\n",
              "       [0.68425569],\n",
              "       [0.66319125],\n",
              "       [0.69999235],\n",
              "       [0.69187735],\n",
              "       [0.6789526 ],\n",
              "       [0.71981117],\n",
              "       [0.76803237],\n",
              "       [0.71236211],\n",
              "       [0.70062134],\n",
              "       [0.70757698],\n",
              "       [0.72705051],\n",
              "       [0.72941839],\n",
              "       [0.73225492],\n",
              "       [0.76776109],\n",
              "       [0.78119145],\n",
              "       [0.81091354],\n",
              "       [0.81749921],\n",
              "       [0.84323775],\n",
              "       [0.91730853],\n",
              "       [0.99621382],\n",
              "       [0.91132715],\n",
              "       [0.95850011],\n",
              "       [0.96462947],\n",
              "       [0.95302434],\n",
              "       [0.92978932],\n",
              "       [0.95246935],\n",
              "       [0.95974573],\n",
              "       [0.953012  ],\n",
              "       [0.95504694],\n",
              "       [0.99717574],\n",
              "       [1.        ],\n",
              "       [0.97665395],\n",
              "       [0.94122184],\n",
              "       [0.88954747],\n",
              "       [0.94662362],\n",
              "       [0.98729716],\n",
              "       [0.96497482],\n",
              "       [0.95917839],\n",
              "       [0.96194093],\n",
              "       [0.97574133],\n",
              "       [0.9585248 ],\n",
              "       [0.90347117],\n",
              "       [0.91190676],\n",
              "       [0.91740721],\n",
              "       [0.89286492],\n",
              "       [0.89524521],\n",
              "       [0.88196277],\n",
              "       [0.8744644 ],\n",
              "       [0.79208133],\n",
              "       [0.7727682 ],\n",
              "       [0.82602121],\n",
              "       [0.75227102],\n",
              "       [0.74398342],\n",
              "       [0.79692811],\n",
              "       [0.7574755 ],\n",
              "       [0.71648129],\n",
              "       [0.67731232],\n",
              "       [0.64834259],\n",
              "       [0.60523944],\n",
              "       [0.74161554],\n",
              "       [0.73480781],\n",
              "       [0.77370543],\n",
              "       [0.76646608],\n",
              "       [0.78399102],\n",
              "       [0.74568535],\n",
              "       [0.77643101],\n",
              "       [0.71643192],\n",
              "       [0.71854085],\n",
              "       [0.73720038],\n",
              "       [0.72753143],\n",
              "       [0.6882022 ],\n",
              "       [0.70068298],\n",
              "       [0.67394549],\n",
              "       [0.6647945 ],\n",
              "       [0.69480022],\n",
              "       [0.73464748],\n",
              "       [0.72702582],\n",
              "       [0.7631609 ],\n",
              "       [0.76386388],\n",
              "       [0.73839663],\n",
              "       [0.75421963],\n",
              "       [0.74585803],\n",
              "       [0.77664064],\n",
              "       [0.85105678],\n",
              "       [0.81394736],\n",
              "       [0.82211166],\n",
              "       [0.82325868],\n",
              "       [0.79224166],\n",
              "       [0.79761874],\n",
              "       [0.82861107],\n",
              "       [0.79848205],\n",
              "       [0.81045723],\n",
              "       [0.82131008],\n",
              "       [0.78004451],\n",
              "       [0.76729244],\n",
              "       [0.74583334],\n",
              "       [0.78584094],\n",
              "       [0.75557628],\n",
              "       [0.74164016],\n",
              "       [0.73835967],\n",
              "       [0.72923337],\n",
              "       [0.74012325],\n",
              "       [0.68668521],\n",
              "       [0.67208322],\n",
              "       [0.63840236],\n",
              "       [0.61595665],\n",
              "       [0.63821733],\n",
              "       [0.62229572],\n",
              "       [0.62357831],\n",
              "       [0.60580678],\n",
              "       [0.63456687],\n",
              "       [0.62729049],\n",
              "       [0.65881312],\n",
              "       [0.65665488],\n",
              "       [0.67446344],\n",
              "       [0.68891745],\n",
              "       [0.68197408],\n",
              "       [0.68034621],\n",
              "       [0.65718518],\n",
              "       [0.61737495],\n",
              "       [0.64969917],\n",
              "       [0.65719753],\n",
              "       [0.6552983 ],\n",
              "       [0.64936623],\n",
              "       [0.66335158],\n",
              "       [0.66306795],\n",
              "       [0.67268752],\n",
              "       [0.65008148],\n",
              "       [0.65687686],\n",
              "       [0.67134321],\n",
              "       [0.67961854],\n",
              "       [0.67656003],\n",
              "       [0.68011189],\n",
              "       [0.72063744],\n",
              "       [0.7493112 ],\n",
              "       [0.73950661],\n",
              "       [0.76028734],\n",
              "       [0.75047048],\n",
              "       [0.74916321],\n",
              "       [0.74696793],\n",
              "       [0.7481766 ],\n",
              "       [0.72434963],\n",
              "       [0.70593677],\n",
              "       [0.7160003 ],\n",
              "       [0.72110609],\n",
              "       [0.75656289],\n",
              "       [0.73539976],\n",
              "       [0.71670328],\n",
              "       [0.71327472],\n",
              "       [0.70540639],\n",
              "       [0.70787295],\n",
              "       [0.72548422],\n",
              "       [0.71905881],\n",
              "       [0.71162217],\n",
              "       [0.70437048],\n",
              "       [0.72193237],\n",
              "       [0.7060971 ],\n",
              "       [0.70881026],\n",
              "       [0.74626496],\n",
              "       [0.75841281]])"
            ]
          },
          "metadata": {
            "tags": []
          },
          "execution_count": 199
        }
      ]
    },
    {
      "cell_type": "code",
      "metadata": {
        "colab": {
          "base_uri": "https://localhost:8080/"
        },
        "id": "ryDBUAM-9WEv",
        "outputId": "b61698b1-0f3f-4c3d-e41c-3063da14110d"
      },
      "source": [
        "#Create the training data set\n",
        "#Create the scaled training data set\n",
        "train_data = scaled_data[0:training_data_len , :]\n",
        "#Split the data into x_train and y_train data sets\n",
        "x_train = []\n",
        "y_train = []\n",
        "\n",
        "for i in range(60, len(train_data)):\n",
        "  x_train.append(train_data[i-60:i, 0])\n",
        "  y_train.append(train_data[i,0])\n",
        "  if i <= 60:\n",
        "    print (x_train)\n",
        "    print (y_train)\n",
        "    print ()"
      ],
      "execution_count": 200,
      "outputs": [
        {
          "output_type": "stream",
          "text": [
            "[array([0.01702913, 0.02017398, 0.02227796, 0.02659937, 0.0322922 ,\n",
            "       0.02962831, 0.02884147, 0.04036278, 0.0435841 , 0.03879404,\n",
            "       0.0375583 , 0.03682079, 0.04587307, 0.0513883 , 0.05203947,\n",
            "       0.05021914, 0.04854188, 0.05073219, 0.05420757, 0.06896254,\n",
            "       0.07136989, 0.10329458, 0.12970157, 0.09212106, 0.09563838,\n",
            "       0.09541885, 0.10114373, 0.10190838, 0.10015957, 0.10921432,\n",
            "       0.10823509, 0.12263239, 0.13719003, 0.13274777, 0.13313994,\n",
            "       0.11656219, 0.10820549, 0.10299858, 0.07838233, 0.07566665,\n",
            "       0.09432123, 0.09478742, 0.09577156, 0.08961504, 0.08442046,\n",
            "       0.06086975, 0.07007741, 0.06733954, 0.04916593, 0.04573001,\n",
            "       0.0206821 , 0.01701432, 0.        , 0.01638288, 0.01635575,\n",
            "       0.01802315, 0.03546419, 0.04391215, 0.04117675, 0.03777289])]\n",
            "[0.03475628958852818]\n",
            "\n"
          ],
          "name": "stdout"
        }
      ]
    },
    {
      "cell_type": "code",
      "metadata": {
        "colab": {
          "base_uri": "https://localhost:8080/"
        },
        "id": "dmJfr5Rh-me3",
        "outputId": "98aae5b9-98c7-4b95-c784-cd8ef7be378e"
      },
      "source": [
        "#Convert the x_train and y_train to numpy arrays\n",
        "x_train, y_train = np.array(x_train), np.array(y_train)\n",
        "\n",
        "#Reshape the data\n",
        "x_train = np.reshape(x_train, (x_train.shape[0], x_train.shape[1], 1))\n",
        "x_train.shape\n"
      ],
      "execution_count": 201,
      "outputs": [
        {
          "output_type": "execute_result",
          "data": {
            "text/plain": [
              "(259, 60, 1)"
            ]
          },
          "metadata": {
            "tags": []
          },
          "execution_count": 201
        }
      ]
    },
    {
      "cell_type": "code",
      "metadata": {
        "id": "asLm_vfh_s7Y"
      },
      "source": [
        "#Build the LSTM model\n",
        "model = Sequential()\n",
        "model.add(LSTM(50, return_sequences=True, input_shape=(x_train.shape[1], 1)))\n",
        "model.add(LSTM(50, return_sequences= False))\n",
        "model.add(Dense(25))\n",
        "model.add(Dense(1))\n",
        "\n"
      ],
      "execution_count": 202,
      "outputs": []
    },
    {
      "cell_type": "code",
      "metadata": {
        "id": "t2HR6Nd_CnK7"
      },
      "source": [
        "#Compile the model\n",
        "model.compile(optimizer = 'adam', loss = 'mean_squared_error')"
      ],
      "execution_count": 203,
      "outputs": []
    },
    {
      "cell_type": "code",
      "metadata": {
        "id": "9oWMWd78DgoF"
      },
      "source": [
        ""
      ],
      "execution_count": null,
      "outputs": []
    },
    {
      "cell_type": "code",
      "metadata": {
        "colab": {
          "base_uri": "https://localhost:8080/"
        },
        "id": "26KDGTykD8p2",
        "outputId": "fc9550a3-2fce-4415-ad2c-785218c66279"
      },
      "source": [
        "#train the model\n",
        "model.fit(x_train, y_train, batch_size=1, epochs=1)"
      ],
      "execution_count": 204,
      "outputs": [
        {
          "output_type": "stream",
          "text": [
            "259/259 [==============================] - 12s 33ms/step - loss: 0.0230\n"
          ],
          "name": "stdout"
        },
        {
          "output_type": "execute_result",
          "data": {
            "text/plain": [
              "<keras.callbacks.History at 0x7faf7e3092d0>"
            ]
          },
          "metadata": {
            "tags": []
          },
          "execution_count": 204
        }
      ]
    },
    {
      "cell_type": "code",
      "metadata": {
        "id": "ftOrs7HgEdBX"
      },
      "source": [
        "#Create the testing data set\n",
        "#Create a new array containing scaled values from index 1543 to 2003\n",
        "test_data = scaled_data[training_data_len - 60: , :]\n",
        "#Create the data sets x_test and y_test\n",
        "x_test = []\n",
        "y_test = dataset[training_data_len:, :]\n",
        "for i in range(60, len(test_data)):\n",
        "  x_test.append(test_data[i-60:i,0])"
      ],
      "execution_count": 205,
      "outputs": []
    },
    {
      "cell_type": "code",
      "metadata": {
        "id": "4gRIhRssFQx2"
      },
      "source": [
        "#Convert the data to a numpy array\n",
        "x_test = np.array(x_test)\n",
        "\n"
      ],
      "execution_count": 206,
      "outputs": []
    },
    {
      "cell_type": "code",
      "metadata": {
        "id": "6GXuXBDkFk0-"
      },
      "source": [
        "#Reshape the data\n",
        "x_test = np.reshape(x_test, (x_test.shape[0], x_test.shape[1],1))\n",
        "\n",
        "#Get the models predicted price values\n",
        "predictions = model.predict(x_test)\n",
        "predictions = scaler.inverse_transform(predictions)\n"
      ],
      "execution_count": 207,
      "outputs": []
    },
    {
      "cell_type": "code",
      "metadata": {
        "colab": {
          "base_uri": "https://localhost:8080/"
        },
        "id": "R_bqn0kwGHWu",
        "outputId": "c258c150-8cdd-44a7-c3e2-f2a2d0beb9b8"
      },
      "source": [
        "#Get the root mean squared error (RMSE)\n",
        "rmse = np.sqrt( np.mean(predictions - y_test)**2)\n",
        "rmse"
      ],
      "execution_count": 208,
      "outputs": [
        {
          "output_type": "execute_result",
          "data": {
            "text/plain": [
              "50.247458928748024"
            ]
          },
          "metadata": {
            "tags": []
          },
          "execution_count": 208
        }
      ]
    },
    {
      "cell_type": "code",
      "metadata": {
        "colab": {
          "base_uri": "https://localhost:8080/",
          "height": 827
        },
        "id": "H3fHhAOjGr-y",
        "outputId": "d9601d1c-7a57-4c30-9e9c-86e7d8c8e3ab"
      },
      "source": [
        "#Plot the data\n",
        "train = data[:training_data_len]\n",
        "valid = data[training_data_len:]\n",
        "valid['Predictions'] = predictions\n",
        "#Visualise the data\n",
        "plt.figure(figsize=(16,8))\n",
        "plt.title('Model')\n",
        "plt.xlabel('Date',fontsize=18)\n",
        "plt.ylabel('Close Price USD ($)', fontsize=18)\n",
        "plt.plot(train['Close'])\n",
        "plt.plot(valid[['Close','Predictions']])\n",
        "plt.legend(['Train', 'Val', 'Predictions'], loc='lower right')\n",
        "plt.show()\n"
      ],
      "execution_count": 209,
      "outputs": [
        {
          "output_type": "stream",
          "text": [
            "/usr/local/lib/python3.7/dist-packages/ipykernel_launcher.py:4: SettingWithCopyWarning: \n",
            "A value is trying to be set on a copy of a slice from a DataFrame.\n",
            "Try using .loc[row_indexer,col_indexer] = value instead\n",
            "\n",
            "See the caveats in the documentation: https://pandas.pydata.org/pandas-docs/stable/user_guide/indexing.html#returning-a-view-versus-a-copy\n",
            "  after removing the cwd from sys.path.\n"
          ],
          "name": "stderr"
        },
        {
          "output_type": "display_data",
          "data": {
            "image/png": "[encoded data removed]",
            "text/plain": [
              "<Figure size 1600x800 with 1 Axes>"
            ]
          },
          "metadata": {
            "tags": []
          }
        }
      ]
    },
    {
      "cell_type": "code",
      "metadata": {
        "colab": {
          "base_uri": "https://localhost:8080/",
          "height": 450
        },
        "id": "8MziIYyZKV8k",
        "outputId": "9338e17e-0b22-4be6-ffec-d2e402d4a536"
      },
      "source": [
        "#show the valid and predicted return\n",
        "valid"
      ],
      "execution_count": 210,
      "outputs": [
        {
          "output_type": "execute_result",
          "data": {
            "text/html": [
              "<div>\n",
              "<style scoped>\n",
              "    .dataframe tbody tr th:only-of-type {\n",
              "        vertical-align: middle;\n",
              "    }\n",
              "\n",
              "    .dataframe tbody tr th {\n",
              "        vertical-align: top;\n",
              "    }\n",
              "\n",
              "    .dataframe thead th {\n",
              "        text-align: right;\n",
              "    }\n",
              "</style>\n",
              "<table border=\"1\" class=\"dataframe\">\n",
              "  <thead>\n",
              "    <tr style=\"text-align: right;\">\n",
              "      <th></th>\n",
              "      <th>Close</th>\n",
              "      <th>Predictions</th>\n",
              "    </tr>\n",
              "    <tr>\n",
              "      <th>Date</th>\n",
              "      <th></th>\n",
              "      <th></th>\n",
              "    </tr>\n",
              "  </thead>\n",
              "  <tbody>\n",
              "    <tr>\n",
              "      <th>2021-04-09</th>\n",
              "      <td>677.020020</td>\n",
              "      <td>609.807617</td>\n",
              "    </tr>\n",
              "    <tr>\n",
              "      <th>2021-04-12</th>\n",
              "      <td>701.979980</td>\n",
              "      <td>613.096008</td>\n",
              "    </tr>\n",
              "    <tr>\n",
              "      <th>2021-04-13</th>\n",
              "      <td>762.320007</td>\n",
              "      <td>617.319153</td>\n",
              "    </tr>\n",
              "    <tr>\n",
              "      <th>2021-04-14</th>\n",
              "      <td>732.229980</td>\n",
              "      <td>625.426758</td>\n",
              "    </tr>\n",
              "    <tr>\n",
              "      <th>2021-04-15</th>\n",
              "      <td>738.849976</td>\n",
              "      <td>633.356262</td>\n",
              "    </tr>\n",
              "    <tr>\n",
              "      <th>...</th>\n",
              "      <td>...</td>\n",
              "      <td>...</td>\n",
              "    </tr>\n",
              "    <tr>\n",
              "      <th>2021-07-26</th>\n",
              "      <td>657.619995</td>\n",
              "      <td>603.176575</td>\n",
              "    </tr>\n",
              "    <tr>\n",
              "      <th>2021-07-27</th>\n",
              "      <td>644.780029</td>\n",
              "      <td>602.527771</td>\n",
              "    </tr>\n",
              "    <tr>\n",
              "      <th>2021-07-28</th>\n",
              "      <td>646.979980</td>\n",
              "      <td>601.574341</td>\n",
              "    </tr>\n",
              "    <tr>\n",
              "      <th>2021-07-29</th>\n",
              "      <td>677.349976</td>\n",
              "      <td>600.682190</td>\n",
              "    </tr>\n",
              "    <tr>\n",
              "      <th>2021-07-30</th>\n",
              "      <td>687.200012</td>\n",
              "      <td>601.735352</td>\n",
              "    </tr>\n",
              "  </tbody>\n",
              "</table>\n",
              "<p>79 rows × 2 columns</p>\n",
              "</div>"
            ],
            "text/plain": [
              "                 Close  Predictions\n",
              "Date                               \n",
              "2021-04-09  677.020020   609.807617\n",
              "2021-04-12  701.979980   613.096008\n",
              "2021-04-13  762.320007   617.319153\n",
              "2021-04-14  732.229980   625.426758\n",
              "2021-04-15  738.849976   633.356262\n",
              "...                ...          ...\n",
              "2021-07-26  657.619995   603.176575\n",
              "2021-07-27  644.780029   602.527771\n",
              "2021-07-28  646.979980   601.574341\n",
              "2021-07-29  677.349976   600.682190\n",
              "2021-07-30  687.200012   601.735352\n",
              "\n",
              "[79 rows x 2 columns]"
            ]
          },
          "metadata": {
            "tags": []
          },
          "execution_count": 210
        }
      ]
    },
    {
      "cell_type": "code",
      "metadata": {
        "colab": {
          "base_uri": "https://localhost:8080/"
        },
        "id": "1_Z2x6IdK0eM",
        "outputId": "e6b037ec-c0e3-4fc8-9743-84760a8abf15"
      },
      "source": [
        "#get the quote\n",
        "apple_quote = yf.download('TSLA', start=start_date, end=end_date)\n",
        "#Create a new dataframe\n",
        "new_data = apple_quote.filter(['Close'])\n",
        "#Get the last 60 day closing price values and convert the dataframe to an array\n",
        "last_60_days = new_data[-60:].values\n",
        "last_60_days_scaled = scaler.transform(last_60_days)\n",
        "#Create an empty list\n",
        "X_test = []\n",
        "#Append the past 60 days\n",
        "X_test.append(last_60_days_scaled)\n",
        "#Convert the X_test data set to a numpy array\n",
        "X_test = np.array(X_test)\n",
        "#Reshape the data\n",
        "X_test = np.reshape(X_test, (X_test.shape[0], X_test.shape[1],1))\n",
        "#Get the predicted scaled price\n",
        "pred_price = model.predict(X_test)\n",
        "#undo the scaling\n",
        "pred_price = scaler.inverse_transform(pred_price)\n",
        "print(pred_price)\n"
      ],
      "execution_count": 211,
      "outputs": [
        {
          "output_type": "stream",
          "text": [
            "\r[*********************100%***********************]  1 of 1 completed\n",
            "[[604.4299]]\n"
          ],
          "name": "stdout"
        }
      ]
    }
  ]
}