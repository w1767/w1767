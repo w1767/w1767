{
  "nbformat": 4,
  "nbformat_minor": 0,
  "metadata": {
    "colab": {
      "name": "Untitled0.ipynb",
      "provenance": [],
      "authorship_tag": "ABX9TyN1hxkAzrd63WHw2s00wyHZ",
      "include_colab_link": true
    },
    "kernelspec": {
      "name": "python3",
      "display_name": "Python 3"
    },
    "language_info": {
      "name": "python"
    }
  },
  "cells": [
    {
      "cell_type": "markdown",
      "metadata": {
        "id": "view-in-github",
        "colab_type": "text"
      },
      "source": [
        "<a href=\"https://colab.research.google.com/github/w1767/w1767/blob/main/GOOG.ipynb\" target=\"_parent\"><img src=\"https://colab.research.google.com/assets/colab-badge.svg\" alt=\"Open In Colab\"/></a>"
      ]
    },
    {
      "cell_type": "code",
      "metadata": {
        "id": "jF-rA78EBttL"
      },
      "source": [
        "# Description: this program uses an aritificial recurrent neural network called Long Short Term Memory (LSTM) to predict\n",
        "# the closing stock price of a corporation (Apple Inc.) using the past 60 day stock price. "
      ],
      "execution_count": null,
      "outputs": []
    },
    {
      "cell_type": "code",
      "metadata": {
        "id": "wpTDFiYaHooV"
      },
      "source": [
        ""
      ],
      "execution_count": null,
      "outputs": []
    },
    {
      "cell_type": "code",
      "metadata": {
        "id": "4t9te_ZzCKmA",
        "colab": {
          "base_uri": "https://localhost:8080/"
        },
        "outputId": "833f64db-2e46-48e2-9b56-af3a66c144e3"
      },
      "source": [
        "# Import the libraries\n",
        "!pip install pandas_datareader\n",
        "!pip install yfinance\n",
        "!pip install mplfinance\n",
        "import os\n",
        "import argparse\n",
        "import signal\n",
        "import yfinance as yf\n",
        "import pickle\n",
        "import mplfinance as mpf\n",
        "import math\n",
        "import pandas_datareader.data as web\n",
        "from datetime import datetime, timedelta\n",
        "import numpy as np\n",
        "import pandas as pd\n",
        "from sklearn.preprocessing import MinMaxScaler\n",
        "from keras.models import Sequential\n",
        "from keras.layers import Dense, LSTM\n",
        "#from yfinance import stock_info\n",
        "from dateutil.parser import parse\n",
        "from urllib.request import urlopen, Request\n",
        "from bs4 import BeautifulSoup\n",
        "import matplotlib.pyplot as plt\n",
        "plt.style.use('fivethirtyeight')\n",
        "start_date = datetime(2020, 1,1)\n",
        "end_date = datetime(2021, 8, 2)\n"
      ],
      "execution_count": 269,
      "outputs": [
        {
          "output_type": "stream",
          "text": [
            "Requirement already satisfied: pandas_datareader in /usr/local/lib/python3.7/dist-packages (0.9.0)\n",
            "Requirement already satisfied: pandas>=0.23 in /usr/local/lib/python3.7/dist-packages (from pandas_datareader) (1.1.5)\n",
            "Requirement already satisfied: lxml in /usr/local/lib/python3.7/dist-packages (from pandas_datareader) (4.6.3)\n",
            "Requirement already satisfied: requests>=2.19.0 in /usr/local/lib/python3.7/dist-packages (from pandas_datareader) (2.23.0)\n",
            "Requirement already satisfied: numpy>=1.15.4 in /usr/local/lib/python3.7/dist-packages (from pandas>=0.23->pandas_datareader) (1.19.5)\n",
            "Requirement already satisfied: python-dateutil>=2.7.3 in /usr/local/lib/python3.7/dist-packages (from pandas>=0.23->pandas_datareader) (2.8.1)\n",
            "Requirement already satisfied: pytz>=2017.2 in /usr/local/lib/python3.7/dist-packages (from pandas>=0.23->pandas_datareader) (2018.9)\n",
            "Requirement already satisfied: six>=1.5 in /usr/local/lib/python3.7/dist-packages (from python-dateutil>=2.7.3->pandas>=0.23->pandas_datareader) (1.15.0)\n",
            "Requirement already satisfied: idna<3,>=2.5 in /usr/local/lib/python3.7/dist-packages (from requests>=2.19.0->pandas_datareader) (2.10)\n",
            "Requirement already satisfied: certifi>=2017.4.17 in /usr/local/lib/python3.7/dist-packages (from requests>=2.19.0->pandas_datareader) (2021.5.30)\n",
            "Requirement already satisfied: urllib3!=1.25.0,!=1.25.1,<1.26,>=1.21.1 in /usr/local/lib/python3.7/dist-packages (from requests>=2.19.0->pandas_datareader) (1.24.3)\n",
            "Requirement already satisfied: chardet<4,>=3.0.2 in /usr/local/lib/python3.7/dist-packages (from requests>=2.19.0->pandas_datareader) (3.0.4)\n",
            "Requirement already satisfied: yfinance in /usr/local/lib/python3.7/dist-packages (0.1.63)\n",
            "Requirement already satisfied: pandas>=0.24 in /usr/local/lib/python3.7/dist-packages (from yfinance) (1.1.5)\n",
            "Requirement already satisfied: lxml>=4.5.1 in /usr/local/lib/python3.7/dist-packages (from yfinance) (4.6.3)\n",
            "Requirement already satisfied: requests>=2.20 in /usr/local/lib/python3.7/dist-packages (from yfinance) (2.23.0)\n",
            "Requirement already satisfied: numpy>=1.15 in /usr/local/lib/python3.7/dist-packages (from yfinance) (1.19.5)\n",
            "Requirement already satisfied: multitasking>=0.0.7 in /usr/local/lib/python3.7/dist-packages (from yfinance) (0.0.9)\n",
            "Requirement already satisfied: pytz>=2017.2 in /usr/local/lib/python3.7/dist-packages (from pandas>=0.24->yfinance) (2018.9)\n",
            "Requirement already satisfied: python-dateutil>=2.7.3 in /usr/local/lib/python3.7/dist-packages (from pandas>=0.24->yfinance) (2.8.1)\n",
            "Requirement already satisfied: six>=1.5 in /usr/local/lib/python3.7/dist-packages (from python-dateutil>=2.7.3->pandas>=0.24->yfinance) (1.15.0)\n",
            "Requirement already satisfied: urllib3!=1.25.0,!=1.25.1,<1.26,>=1.21.1 in /usr/local/lib/python3.7/dist-packages (from requests>=2.20->yfinance) (1.24.3)\n",
            "Requirement already satisfied: idna<3,>=2.5 in /usr/local/lib/python3.7/dist-packages (from requests>=2.20->yfinance) (2.10)\n",
            "Requirement already satisfied: chardet<4,>=3.0.2 in /usr/local/lib/python3.7/dist-packages (from requests>=2.20->yfinance) (3.0.4)\n",
            "Requirement already satisfied: certifi>=2017.4.17 in /usr/local/lib/python3.7/dist-packages (from requests>=2.20->yfinance) (2021.5.30)\n",
            "Requirement already satisfied: mplfinance in /usr/local/lib/python3.7/dist-packages (0.12.7a17)\n",
            "Requirement already satisfied: pandas in /usr/local/lib/python3.7/dist-packages (from mplfinance) (1.1.5)\n",
            "Requirement already satisfied: matplotlib in /usr/local/lib/python3.7/dist-packages (from mplfinance) (3.2.2)\n",
            "Requirement already satisfied: pyparsing!=2.0.4,!=2.1.2,!=2.1.6,>=2.0.1 in /usr/local/lib/python3.7/dist-packages (from matplotlib->mplfinance) (2.4.7)\n",
            "Requirement already satisfied: python-dateutil>=2.1 in /usr/local/lib/python3.7/dist-packages (from matplotlib->mplfinance) (2.8.1)\n",
            "Requirement already satisfied: numpy>=1.11 in /usr/local/lib/python3.7/dist-packages (from matplotlib->mplfinance) (1.19.5)\n",
            "Requirement already satisfied: kiwisolver>=1.0.1 in /usr/local/lib/python3.7/dist-packages (from matplotlib->mplfinance) (1.3.1)\n",
            "Requirement already satisfied: cycler>=0.10 in /usr/local/lib/python3.7/dist-packages (from matplotlib->mplfinance) (0.10.0)\n",
            "Requirement already satisfied: six in /usr/local/lib/python3.7/dist-packages (from cycler>=0.10->matplotlib->mplfinance) (1.15.0)\n",
            "Requirement already satisfied: pytz>=2017.2 in /usr/local/lib/python3.7/dist-packages (from pandas->mplfinance) (2018.9)\n"
          ],
          "name": "stdout"
        }
      ]
    },
    {
      "cell_type": "code",
      "metadata": {
        "colab": {
          "base_uri": "https://localhost:8080/",
          "height": 467
        },
        "id": "Tkat1PpYDTgp",
        "outputId": "d7032a8e-b657-45e3-92d9-be4f485fe2fd"
      },
      "source": [
        "#Get the stock quote\n",
        "data = yf.download('GOOG', start=start_date, end=end_date)\n",
        "#df = web.DataReader('GOOG', data_source='yahoo',start='2012-01',end='2019-12-17')\n",
        "#show the data\n",
        "data.head(391)"
      ],
      "execution_count": 270,
      "outputs": [
        {
          "output_type": "stream",
          "text": [
            "\r[*********************100%***********************]  1 of 1 completed\n"
          ],
          "name": "stdout"
        },
        {
          "output_type": "execute_result",
          "data": {
            "text/html": [
              "<div>\n",
              "<style scoped>\n",
              "    .dataframe tbody tr th:only-of-type {\n",
              "        vertical-align: middle;\n",
              "    }\n",
              "\n",
              "    .dataframe tbody tr th {\n",
              "        vertical-align: top;\n",
              "    }\n",
              "\n",
              "    .dataframe thead th {\n",
              "        text-align: right;\n",
              "    }\n",
              "</style>\n",
              "<table border=\"1\" class=\"dataframe\">\n",
              "  <thead>\n",
              "    <tr style=\"text-align: right;\">\n",
              "      <th></th>\n",
              "      <th>Open</th>\n",
              "      <th>High</th>\n",
              "      <th>Low</th>\n",
              "      <th>Close</th>\n",
              "      <th>Adj Close</th>\n",
              "      <th>Volume</th>\n",
              "    </tr>\n",
              "    <tr>\n",
              "      <th>Date</th>\n",
              "      <th></th>\n",
              "      <th></th>\n",
              "      <th></th>\n",
              "      <th></th>\n",
              "      <th></th>\n",
              "      <th></th>\n",
              "    </tr>\n",
              "  </thead>\n",
              "  <tbody>\n",
              "    <tr>\n",
              "      <th>2020-01-02</th>\n",
              "      <td>1341.550049</td>\n",
              "      <td>1368.140015</td>\n",
              "      <td>1341.550049</td>\n",
              "      <td>1367.369995</td>\n",
              "      <td>1367.369995</td>\n",
              "      <td>1406600</td>\n",
              "    </tr>\n",
              "    <tr>\n",
              "      <th>2020-01-03</th>\n",
              "      <td>1347.859985</td>\n",
              "      <td>1372.500000</td>\n",
              "      <td>1345.543945</td>\n",
              "      <td>1360.660034</td>\n",
              "      <td>1360.660034</td>\n",
              "      <td>1186400</td>\n",
              "    </tr>\n",
              "    <tr>\n",
              "      <th>2020-01-06</th>\n",
              "      <td>1350.000000</td>\n",
              "      <td>1396.500000</td>\n",
              "      <td>1350.000000</td>\n",
              "      <td>1394.209961</td>\n",
              "      <td>1394.209961</td>\n",
              "      <td>1732300</td>\n",
              "    </tr>\n",
              "    <tr>\n",
              "      <th>2020-01-07</th>\n",
              "      <td>1397.939941</td>\n",
              "      <td>1402.989990</td>\n",
              "      <td>1390.380005</td>\n",
              "      <td>1393.339966</td>\n",
              "      <td>1393.339966</td>\n",
              "      <td>1502700</td>\n",
              "    </tr>\n",
              "    <tr>\n",
              "      <th>2020-01-08</th>\n",
              "      <td>1392.079956</td>\n",
              "      <td>1411.579956</td>\n",
              "      <td>1390.839966</td>\n",
              "      <td>1404.319946</td>\n",
              "      <td>1404.319946</td>\n",
              "      <td>1528000</td>\n",
              "    </tr>\n",
              "    <tr>\n",
              "      <th>...</th>\n",
              "      <td>...</td>\n",
              "      <td>...</td>\n",
              "      <td>...</td>\n",
              "      <td>...</td>\n",
              "      <td>...</td>\n",
              "      <td>...</td>\n",
              "    </tr>\n",
              "    <tr>\n",
              "      <th>2021-07-15</th>\n",
              "      <td>2650.000000</td>\n",
              "      <td>2651.899902</td>\n",
              "      <td>2611.959961</td>\n",
              "      <td>2625.330078</td>\n",
              "      <td>2625.330078</td>\n",
              "      <td>829300</td>\n",
              "    </tr>\n",
              "    <tr>\n",
              "      <th>2021-07-16</th>\n",
              "      <td>2632.820068</td>\n",
              "      <td>2643.659912</td>\n",
              "      <td>2616.429932</td>\n",
              "      <td>2636.909912</td>\n",
              "      <td>2636.909912</td>\n",
              "      <td>742800</td>\n",
              "    </tr>\n",
              "    <tr>\n",
              "      <th>2021-07-19</th>\n",
              "      <td>2623.110107</td>\n",
              "      <td>2624.939941</td>\n",
              "      <td>2570.739990</td>\n",
              "      <td>2585.080078</td>\n",
              "      <td>2585.080078</td>\n",
              "      <td>1285500</td>\n",
              "    </tr>\n",
              "    <tr>\n",
              "      <th>2021-07-20</th>\n",
              "      <td>2600.080078</td>\n",
              "      <td>2640.027100</td>\n",
              "      <td>2583.768066</td>\n",
              "      <td>2622.030029</td>\n",
              "      <td>2622.030029</td>\n",
              "      <td>954200</td>\n",
              "    </tr>\n",
              "    <tr>\n",
              "      <th>2021-07-21</th>\n",
              "      <td>2615.739990</td>\n",
              "      <td>2652.344971</td>\n",
              "      <td>2612.030029</td>\n",
              "      <td>2652.010010</td>\n",
              "      <td>2652.010010</td>\n",
              "      <td>737100</td>\n",
              "    </tr>\n",
              "  </tbody>\n",
              "</table>\n",
              "<p>391 rows × 6 columns</p>\n",
              "</div>"
            ],
            "text/plain": [
              "                   Open         High  ...    Adj Close   Volume\n",
              "Date                                  ...                      \n",
              "2020-01-02  1341.550049  1368.140015  ...  1367.369995  1406600\n",
              "2020-01-03  1347.859985  1372.500000  ...  1360.660034  1186400\n",
              "2020-01-06  1350.000000  1396.500000  ...  1394.209961  1732300\n",
              "2020-01-07  1397.939941  1402.989990  ...  1393.339966  1502700\n",
              "2020-01-08  1392.079956  1411.579956  ...  1404.319946  1528000\n",
              "...                 ...          ...  ...          ...      ...\n",
              "2021-07-15  2650.000000  2651.899902  ...  2625.330078   829300\n",
              "2021-07-16  2632.820068  2643.659912  ...  2636.909912   742800\n",
              "2021-07-19  2623.110107  2624.939941  ...  2585.080078  1285500\n",
              "2021-07-20  2600.080078  2640.027100  ...  2622.030029   954200\n",
              "2021-07-21  2615.739990  2652.344971  ...  2652.010010   737100\n",
              "\n",
              "[391 rows x 6 columns]"
            ]
          },
          "metadata": {
            "tags": []
          },
          "execution_count": 270
        }
      ]
    },
    {
      "cell_type": "code",
      "metadata": {
        "id": "iINONBjJCmEs"
      },
      "source": [
        ""
      ],
      "execution_count": null,
      "outputs": []
    },
    {
      "cell_type": "code",
      "metadata": {
        "colab": {
          "base_uri": "https://localhost:8080/"
        },
        "id": "-1NflEs4D4Bv",
        "outputId": "9e2d0b85-e7f9-4e03-ac8f-aa82c81a7f7f"
      },
      "source": [
        "#Get the number of rows and columns in the data set\n",
        "data.shape\n",
        "\n"
      ],
      "execution_count": 271,
      "outputs": [
        {
          "output_type": "execute_result",
          "data": {
            "text/plain": [
              "(398, 6)"
            ]
          },
          "metadata": {
            "tags": []
          },
          "execution_count": 271
        }
      ]
    },
    {
      "cell_type": "code",
      "metadata": {
        "colab": {
          "base_uri": "https://localhost:8080/",
          "height": 523
        },
        "id": "nASYYE3wEFyH",
        "outputId": "36b5846f-10b4-4f0d-a1b5-7839996b2b7e"
      },
      "source": [
        "mpf.plot(data, type='candle', mav= (3,6,9), volume=True, show_nontrading=True)\n",
        "#Visualize the closing price history\n",
        "#plt.figure(figsize=(16,8))\n",
        "#plt.title('Close Price History')\n",
        "#plt.plot(df['Close'])\n",
        "#plt.xlabel('Date',fontsize=18)\n",
        "#plt.ylabel('Close Price USD($)',fontsize=18)\n",
        "#plt.show()"
      ],
      "execution_count": 272,
      "outputs": [
        {
          "output_type": "display_data",
          "data": {
            "image/png": "[encoded data removed]",
            "text/plain": [
              "<Figure size 800x575 with 4 Axes>"
            ]
          },
          "metadata": {
            "tags": []
          }
        }
      ]
    },
    {
      "cell_type": "code",
      "metadata": {
        "id": "5u3vU4T5HqUi"
      },
      "source": [
        ""
      ],
      "execution_count": 272,
      "outputs": []
    },
    {
      "cell_type": "code",
      "metadata": {
        "colab": {
          "base_uri": "https://localhost:8080/"
        },
        "id": "LhjmcNHG7Tbm",
        "outputId": "3b6ac300-7503-4f83-d21c-02ad749abfe9"
      },
      "source": [
        "#Create a new dataframe with only the 'Close column'\n",
        "data = data.filter(['Close'])\n",
        "#Convert the dataframe to a numpy array\n",
        "dataset = data.values\n",
        "#Get the number of rows to train the model on \n",
        "training_data_len = math.ceil(len(dataset) * .8)\n",
        "\n",
        "training_data_len"
      ],
      "execution_count": 273,
      "outputs": [
        {
          "output_type": "execute_result",
          "data": {
            "text/plain": [
              "319"
            ]
          },
          "metadata": {
            "tags": []
          },
          "execution_count": 273
        }
      ]
    },
    {
      "cell_type": "code",
      "metadata": {
        "colab": {
          "base_uri": "https://localhost:8080/"
        },
        "id": "7KFZs2c38gaO",
        "outputId": "c7310358-4d5a-410c-d446-e2a1df613e8e"
      },
      "source": [
        "#Scale the data\n",
        "scaler = MinMaxScaler(feature_range=(0,1))\n",
        "scaled_data = scaler.fit_transform(dataset)\n",
        "scaled_data\n",
        "\n"
      ],
      "execution_count": 274,
      "outputs": [
        {
          "output_type": "execute_result",
          "data": {
            "text/plain": [
              "array([[0.17897563],\n",
              "       [0.17511105],\n",
              "       [0.19443404],\n",
              "       [0.19393297],\n",
              "       [0.20025686],\n",
              "       [0.2091898 ],\n",
              "       [0.2148917 ],\n",
              "       [0.2203632 ],\n",
              "       [0.21555405],\n",
              "       [0.2203459 ],\n",
              "       [0.22754524],\n",
              "       [0.24406921],\n",
              "       [0.24637876],\n",
              "       [0.24727144],\n",
              "       [0.24767464],\n",
              "       [0.23619022],\n",
              "       [0.21729342],\n",
              "       [0.22804062],\n",
              "       [0.23153659],\n",
              "       [0.22992967],\n",
              "       [0.21748346],\n",
              "       [0.24726567],\n",
              "       [0.2248786 ],\n",
              "       [0.22554672],\n",
              "       [0.24167325],\n",
              "       [0.24340109],\n",
              "       [0.26036278],\n",
              "       [0.26042613],\n",
              "       [0.2658861 ],\n",
              "       [0.26380693],\n",
              "       [0.26730867],\n",
              "       [0.26669244],\n",
              "       [0.27073553],\n",
              "       [0.26581699],\n",
              "       [0.24678766],\n",
              "       [0.21020348],\n",
              "       [0.19111657],\n",
              "       [0.19384086],\n",
              "       [0.15059293],\n",
              "       [0.16282605],\n",
              "       [0.19149672],\n",
              "       [0.16401253],\n",
              "       [0.19000504],\n",
              "       [0.15114012],\n",
              "       [0.13925833],\n",
              "       [0.0915411 ],\n",
              "       [0.12887974],\n",
              "       [0.0914547 ],\n",
              "       [0.03357199],\n",
              "       [0.09394276],\n",
              "       [0.01595948],\n",
              "       [0.03638838],\n",
              "       [0.02314159],\n",
              "       [0.03379085],\n",
              "       [0.00904234],\n",
              "       [0.        ],\n",
              "       [0.04483172],\n",
              "       [0.0264187 ],\n",
              "       [0.06054934],\n",
              "       [0.03115297],\n",
              "       [0.05195042],\n",
              "       [0.06115988],\n",
              "       [0.02822142],\n",
              "       [0.03698732],\n",
              "       [0.02376359],\n",
              "       [0.07504596],\n",
              "       [0.07480981],\n",
              "       [0.08850009],\n",
              "       [0.0891739 ],\n",
              "       [0.092693  ],\n",
              "       [0.12245215],\n",
              "       [0.11855874],\n",
              "       [0.11913469],\n",
              "       [0.13052694],\n",
              "       [0.12094317],\n",
              "       [0.09199029],\n",
              "       [0.11898494],\n",
              "       [0.1265299 ],\n",
              "       [0.12825775],\n",
              "       [0.12628222],\n",
              "       [0.1019715 ],\n",
              "       [0.16406435],\n",
              "       [0.16819968],\n",
              "       [0.15204433],\n",
              "       [0.15560948],\n",
              "       [0.16961072],\n",
              "       [0.1674164 ],\n",
              "       [0.18196483],\n",
              "       [0.19107052],\n",
              "       [0.19964639],\n",
              "       [0.18379631],\n",
              "       [0.16858552],\n",
              "       [0.17250199],\n",
              "       [0.18232761],\n",
              "       [0.18851905],\n",
              "       [0.18249754],\n",
              "       [0.20163914],\n",
              "       [0.19938148],\n",
              "       [0.20377019],\n",
              "       [0.20757143],\n",
              "       [0.20804368],\n",
              "       [0.20740438],\n",
              "       [0.21442522],\n",
              "       [0.21609541],\n",
              "       [0.22035743],\n",
              "       [0.21872176],\n",
              "       [0.20478386],\n",
              "       [0.21987942],\n",
              "       [0.22461369],\n",
              "       [0.23011402],\n",
              "       [0.23569491],\n",
              "       [0.19998041],\n",
              "       [0.20535981],\n",
              "       [0.20920133],\n",
              "       [0.22237325],\n",
              "       [0.22721122],\n",
              "       [0.21847984],\n",
              "       [0.21603783],\n",
              "       [0.22763741],\n",
              "       [0.23486558],\n",
              "       [0.21618181],\n",
              "       [0.22157267],\n",
              "       [0.17467332],\n",
              "       [0.19487176],\n",
              "       [0.20560743],\n",
              "       [0.21967785],\n",
              "       [0.23503256],\n",
              "       [0.25288693],\n",
              "       [0.24682802],\n",
              "       [0.25305974],\n",
              "       [0.26169318],\n",
              "       [0.27940356],\n",
              "       [0.26189475],\n",
              "       [0.2672165 ],\n",
              "       [0.26321946],\n",
              "       [0.26573058],\n",
              "       [0.26431954],\n",
              "       [0.29321477],\n",
              "       [0.28901039],\n",
              "       [0.29481015],\n",
              "       [0.26439441],\n",
              "       [0.26220002],\n",
              "       [0.27275711],\n",
              "       [0.25555933],\n",
              "       [0.2680459 ],\n",
              "       [0.27347704],\n",
              "       [0.24554936],\n",
              "       [0.24064804],\n",
              "       [0.23518808],\n",
              "       [0.24016427],\n",
              "       [0.25542111],\n",
              "       [0.25219005],\n",
              "       [0.25311732],\n",
              "       [0.24402885],\n",
              "       [0.2591763 ],\n",
              "       [0.26598973],\n",
              "       [0.25981559],\n",
              "       [0.26571905],\n",
              "       [0.28911403],\n",
              "       [0.28273832],\n",
              "       [0.30244722],\n",
              "       [0.30168124],\n",
              "       [0.30616205],\n",
              "       [0.31769253],\n",
              "       [0.34312638],\n",
              "       [0.33273051],\n",
              "       [0.3385361 ],\n",
              "       [0.33264417],\n",
              "       [0.347924  ],\n",
              "       [0.3868408 ],\n",
              "       [0.33705588],\n",
              "       [0.30779779],\n",
              "       [0.27401847],\n",
              "       [0.28816946],\n",
              "       [0.27380537],\n",
              "       [0.26729714],\n",
              "       [0.26646781],\n",
              "       [0.27923075],\n",
              "       [0.26740084],\n",
              "       [0.25278906],\n",
              "       [0.23231987],\n",
              "       [0.21571533],\n",
              "       [0.23547028],\n",
              "       [0.20652893],\n",
              "       [0.21406237],\n",
              "       [0.22366336],\n",
              "       [0.23492893],\n",
              "       [0.2376992 ],\n",
              "       [0.23785471],\n",
              "       [0.24965587],\n",
              "       [0.23141566],\n",
              "       [0.24731179],\n",
              "       [0.22854739],\n",
              "       [0.23249268],\n",
              "       [0.24725998],\n",
              "       [0.26412943],\n",
              "       [0.2951903 ],\n",
              "       [0.29664746],\n",
              "       [0.294574  ],\n",
              "       [0.2894193 ],\n",
              "       [0.29741345],\n",
              "       [0.27529706],\n",
              "       [0.28757629],\n",
              "       [0.30910521],\n",
              "       [0.32178751],\n",
              "       [0.3365721 ],\n",
              "       [0.30745793],\n",
              "       [0.3154118 ],\n",
              "       [0.26493577],\n",
              "       [0.29409022],\n",
              "       [0.32505892],\n",
              "       [0.32795019],\n",
              "       [0.34187655],\n",
              "       [0.39884929],\n",
              "       [0.40705077],\n",
              "       [0.40611774],\n",
              "       [0.40683767],\n",
              "       [0.39381551],\n",
              "       [0.40091115],\n",
              "       [0.39925819],\n",
              "       [0.41491247],\n",
              "       [0.41742359],\n",
              "       [0.41095571],\n",
              "       [0.39749582],\n",
              "       [0.40736757],\n",
              "       [0.39485218],\n",
              "       [0.39063051],\n",
              "       [0.41022425],\n",
              "       [0.41169294],\n",
              "       [0.42422549],\n",
              "       [0.40553603],\n",
              "       [0.42705341],\n",
              "       [0.44424542],\n",
              "       [0.44356585],\n",
              "       [0.44426848],\n",
              "       [0.43936717],\n",
              "       [0.43883157],\n",
              "       [0.41900744],\n",
              "       [0.41393908],\n",
              "       [0.41764822],\n",
              "       [0.40514442],\n",
              "       [0.40958495],\n",
              "       [0.40683767],\n",
              "       [0.39814088],\n",
              "       [0.38841312],\n",
              "       [0.39322803],\n",
              "       [0.38408775],\n",
              "       [0.38920217],\n",
              "       [0.39292853],\n",
              "       [0.4143768 ],\n",
              "       [0.4043726 ],\n",
              "       [0.39331444],\n",
              "       [0.40043314],\n",
              "       [0.38681774],\n",
              "       [0.39412078],\n",
              "       [0.3908782 ],\n",
              "       [0.4208044 ],\n",
              "       [0.43230028],\n",
              "       [0.40898018],\n",
              "       [0.39736337],\n",
              "       [0.40188454],\n",
              "       [0.39369459],\n",
              "       [0.39139649],\n",
              "       [0.42288356],\n",
              "       [0.47819756],\n",
              "       [0.48070292],\n",
              "       [0.48634723],\n",
              "       [0.4853969 ],\n",
              "       [0.49567178],\n",
              "       [0.44588116],\n",
              "       [0.46449575],\n",
              "       [0.44873208],\n",
              "       [0.48651997],\n",
              "       [0.50158677],\n",
              "       [0.58369386],\n",
              "       [0.57925909],\n",
              "       [0.59978003],\n",
              "       [0.5968484 ],\n",
              "       [0.59143456],\n",
              "       [0.59827098],\n",
              "       [0.59856472],\n",
              "       [0.60329913],\n",
              "       [0.61354511],\n",
              "       [0.61723702],\n",
              "       [0.61083819],\n",
              "       [0.60158844],\n",
              "       [0.58070458],\n",
              "       [0.58414888],\n",
              "       [0.59815005],\n",
              "       [0.56139889],\n",
              "       [0.5645666 ],\n",
              "       [0.59028266],\n",
              "       [0.58701708],\n",
              "       [0.55872072],\n",
              "       [0.57161049],\n",
              "       [0.60585053],\n",
              "       [0.55725786],\n",
              "       [0.57368958],\n",
              "       [0.57503159],\n",
              "       [0.60943867],\n",
              "       [0.5789998 ],\n",
              "       [0.58163192],\n",
              "       [0.59662385],\n",
              "       [0.59579452],\n",
              "       [0.56419798],\n",
              "       [0.56821808],\n",
              "       [0.56556298],\n",
              "       [0.57383934],\n",
              "       [0.56928941],\n",
              "       [0.5688862 ],\n",
              "       [0.56381214],\n",
              "       [0.57556141],\n",
              "       [0.57532533],\n",
              "       [0.58286439],\n",
              "       [0.62267393],\n",
              "       [0.67324214],\n",
              "       [0.67278135],\n",
              "       [0.68713968],\n",
              "       [0.69621661],\n",
              "       [0.70798894],\n",
              "       [0.69008283],\n",
              "       [0.69727064],\n",
              "       [0.69011166],\n",
              "       [0.71419767],\n",
              "       [0.71483127],\n",
              "       [0.7175036 ],\n",
              "       [0.71245253],\n",
              "       [0.7122568 ],\n",
              "       [0.69764495],\n",
              "       [0.72493341],\n",
              "       [0.73152221],\n",
              "       [0.7202222 ],\n",
              "       [0.76214529],\n",
              "       [0.79093112],\n",
              "       [0.77954477],\n",
              "       [0.77093425],\n",
              "       [0.74736653],\n",
              "       [0.74880063],\n",
              "       [0.76297476],\n",
              "       [0.77296159],\n",
              "       [0.7401153 ],\n",
              "       [0.72116669],\n",
              "       [0.68103472],\n",
              "       [0.69421809],\n",
              "       [0.72542864],\n",
              "       [0.72845237],\n",
              "       [0.71809685],\n",
              "       [0.72113786],\n",
              "       [0.74842632],\n",
              "       [0.74209667],\n",
              "       [0.77755764],\n",
              "       [0.77894   ],\n",
              "       [0.79302765],\n",
              "       [0.77516175],\n",
              "       [0.7803741 ],\n",
              "       [0.79088514],\n",
              "       [0.78597229],\n",
              "       [0.7763713 ],\n",
              "       [0.80352716],\n",
              "       [0.81178053],\n",
              "       [0.82143341],\n",
              "       [0.82635765],\n",
              "       [0.84375137],\n",
              "       [0.83933376],\n",
              "       [0.84688449],\n",
              "       [0.84320987],\n",
              "       [0.83933376],\n",
              "       [0.84710328],\n",
              "       [0.83784791],\n",
              "       [0.84807097],\n",
              "       [0.85434298],\n",
              "       [0.84814578],\n",
              "       [0.85759702],\n",
              "       [0.85429109],\n",
              "       [0.85226951],\n",
              "       [0.84304296],\n",
              "       [0.83495088],\n",
              "       [0.8470746 ],\n",
              "       [0.87414974],\n",
              "       [0.8862677 ],\n",
              "       [0.88979833],\n",
              "       [0.87942551],\n",
              "       [0.88400427],\n",
              "       [0.89540229],\n",
              "       [0.90036111],\n",
              "       [0.91289373],\n",
              "       [0.90349437],\n",
              "       [0.91016375],\n",
              "       [0.88031249],\n",
              "       [0.90159372],\n",
              "       [0.91886061],\n",
              "       [0.92724644],\n",
              "       [0.97893771],\n",
              "       [1.        ],\n",
              "       [0.96719406],\n",
              "       [0.96241367],\n",
              "       [0.96424529],\n",
              "       [0.94904596]])"
            ]
          },
          "metadata": {
            "tags": []
          },
          "execution_count": 274
        }
      ]
    },
    {
      "cell_type": "code",
      "metadata": {
        "colab": {
          "base_uri": "https://localhost:8080/"
        },
        "id": "ryDBUAM-9WEv",
        "outputId": "151197e4-226e-489b-f4f3-0f1a98825247"
      },
      "source": [
        "#Create the training data set\n",
        "#Create the scaled training data set\n",
        "train_data = scaled_data[0:training_data_len , :]\n",
        "#Split the data into x_train and y_train data sets\n",
        "x_train = []\n",
        "y_train = []\n",
        "\n",
        "for i in range(60, len(train_data)):\n",
        "  x_train.append(train_data[i-60:i, 0])\n",
        "  y_train.append(train_data[i,0])\n",
        "  if i <= 60:\n",
        "    print (x_train)\n",
        "    print (y_train)\n",
        "    print ()"
      ],
      "execution_count": 275,
      "outputs": [
        {
          "output_type": "stream",
          "text": [
            "[array([0.17897563, 0.17511105, 0.19443404, 0.19393297, 0.20025686,\n",
            "       0.2091898 , 0.2148917 , 0.2203632 , 0.21555405, 0.2203459 ,\n",
            "       0.22754524, 0.24406921, 0.24637876, 0.24727144, 0.24767464,\n",
            "       0.23619022, 0.21729342, 0.22804062, 0.23153659, 0.22992967,\n",
            "       0.21748346, 0.24726567, 0.2248786 , 0.22554672, 0.24167325,\n",
            "       0.24340109, 0.26036278, 0.26042613, 0.2658861 , 0.26380693,\n",
            "       0.26730867, 0.26669244, 0.27073553, 0.26581699, 0.24678766,\n",
            "       0.21020348, 0.19111657, 0.19384086, 0.15059293, 0.16282605,\n",
            "       0.19149672, 0.16401253, 0.19000504, 0.15114012, 0.13925833,\n",
            "       0.0915411 , 0.12887974, 0.0914547 , 0.03357199, 0.09394276,\n",
            "       0.01595948, 0.03638838, 0.02314159, 0.03379085, 0.00904234,\n",
            "       0.        , 0.04483172, 0.0264187 , 0.06054934, 0.03115297])]\n",
            "[0.05195042044084297]\n",
            "\n"
          ],
          "name": "stdout"
        }
      ]
    },
    {
      "cell_type": "code",
      "metadata": {
        "colab": {
          "base_uri": "https://localhost:8080/"
        },
        "id": "dmJfr5Rh-me3",
        "outputId": "319dcdf0-4311-4292-c9a2-c872df4c0990"
      },
      "source": [
        "#Convert the x_train and y_train to numpy arrays\n",
        "x_train, y_train = np.array(x_train), np.array(y_train)\n",
        "\n",
        "#Reshape the data\n",
        "x_train = np.reshape(x_train, (x_train.shape[0], x_train.shape[1], 1))\n",
        "x_train.shape\n"
      ],
      "execution_count": 276,
      "outputs": [
        {
          "output_type": "execute_result",
          "data": {
            "text/plain": [
              "(259, 60, 1)"
            ]
          },
          "metadata": {
            "tags": []
          },
          "execution_count": 276
        }
      ]
    },
    {
      "cell_type": "code",
      "metadata": {
        "id": "asLm_vfh_s7Y"
      },
      "source": [
        "#Build the LSTM model\n",
        "model = Sequential()\n",
        "model.add(LSTM(50, return_sequences=True, input_shape=(x_train.shape[1], 1)))\n",
        "model.add(LSTM(50, return_sequences= False))\n",
        "model.add(Dense(25))\n",
        "model.add(Dense(1))\n",
        "\n"
      ],
      "execution_count": 277,
      "outputs": []
    },
    {
      "cell_type": "code",
      "metadata": {
        "id": "t2HR6Nd_CnK7"
      },
      "source": [
        "#Compile the model\n",
        "model.compile(optimizer = 'adam', loss = 'mean_squared_error')"
      ],
      "execution_count": 278,
      "outputs": []
    },
    {
      "cell_type": "code",
      "metadata": {
        "id": "9oWMWd78DgoF"
      },
      "source": [
        ""
      ],
      "execution_count": null,
      "outputs": []
    },
    {
      "cell_type": "code",
      "metadata": {
        "colab": {
          "base_uri": "https://localhost:8080/"
        },
        "id": "26KDGTykD8p2",
        "outputId": "91f6c31c-ee4e-46b3-b626-d99cbc966ea1"
      },
      "source": [
        "#train the model\n",
        "model.fit(x_train, y_train, batch_size=1, epochs=1)"
      ],
      "execution_count": 279,
      "outputs": [
        {
          "output_type": "stream",
          "text": [
            "259/259 [==============================] - 13s 36ms/step - loss: 0.0087\n"
          ],
          "name": "stdout"
        },
        {
          "output_type": "execute_result",
          "data": {
            "text/plain": [
              "<keras.callbacks.History at 0x7faf7949ca50>"
            ]
          },
          "metadata": {
            "tags": []
          },
          "execution_count": 279
        }
      ]
    },
    {
      "cell_type": "code",
      "metadata": {
        "id": "ftOrs7HgEdBX"
      },
      "source": [
        "#Create the testing data set\n",
        "#Create a new array containing scaled values from index 1543 to 2003\n",
        "test_data = scaled_data[training_data_len - 60: , :]\n",
        "#Create the data sets x_test and y_test\n",
        "x_test = []\n",
        "y_test = dataset[training_data_len:, :]\n",
        "for i in range(60, len(test_data)):\n",
        "  x_test.append(test_data[i-60:i,0])"
      ],
      "execution_count": 280,
      "outputs": []
    },
    {
      "cell_type": "code",
      "metadata": {
        "id": "4gRIhRssFQx2"
      },
      "source": [
        "#Convert the data to a numpy array\n",
        "x_test = np.array(x_test)\n",
        "\n"
      ],
      "execution_count": 281,
      "outputs": []
    },
    {
      "cell_type": "code",
      "metadata": {
        "id": "6GXuXBDkFk0-"
      },
      "source": [
        "#Reshape the data\n",
        "x_test = np.reshape(x_test, (x_test.shape[0], x_test.shape[1],1))\n",
        "\n",
        "#Get the models predicted price values\n",
        "predictions = model.predict(x_test)\n",
        "predictions = scaler.inverse_transform(predictions)\n"
      ],
      "execution_count": 282,
      "outputs": []
    },
    {
      "cell_type": "code",
      "metadata": {
        "colab": {
          "base_uri": "https://localhost:8080/"
        },
        "id": "R_bqn0kwGHWu",
        "outputId": "036a19d4-0fc9-400b-de39-3c22b2df1ca9"
      },
      "source": [
        "#Get the root mean squared error (RMSE)\n",
        "rmse = np.sqrt( np.mean(predictions - y_test)**2)\n",
        "rmse"
      ],
      "execution_count": 283,
      "outputs": [
        {
          "output_type": "execute_result",
          "data": {
            "text/plain": [
              "48.248488800435126"
            ]
          },
          "metadata": {
            "tags": []
          },
          "execution_count": 283
        }
      ]
    },
    {
      "cell_type": "code",
      "metadata": {
        "colab": {
          "base_uri": "https://localhost:8080/",
          "height": 827
        },
        "id": "H3fHhAOjGr-y",
        "outputId": "05351876-f34d-4dc7-8a7d-2f0f658bc8f9"
      },
      "source": [
        "#Plot the data\n",
        "train = data[:training_data_len]\n",
        "valid = data[training_data_len:]\n",
        "valid['Predictions'] = predictions\n",
        "#Visualise the data\n",
        "plt.figure(figsize=(16,8))\n",
        "plt.title('Model')\n",
        "plt.xlabel('Date',fontsize=18)\n",
        "plt.ylabel('Close Price USD ($)', fontsize=18)\n",
        "plt.plot(train['Close'])\n",
        "plt.plot(valid[['Close','Predictions']])\n",
        "plt.legend(['Train', 'Val', 'Predictions'], loc='lower right')\n",
        "plt.show()\n"
      ],
      "execution_count": 284,
      "outputs": [
        {
          "output_type": "stream",
          "text": [
            "/usr/local/lib/python3.7/dist-packages/ipykernel_launcher.py:4: SettingWithCopyWarning: \n",
            "A value is trying to be set on a copy of a slice from a DataFrame.\n",
            "Try using .loc[row_indexer,col_indexer] = value instead\n",
            "\n",
            "See the caveats in the documentation: https://pandas.pydata.org/pandas-docs/stable/user_guide/indexing.html#returning-a-view-versus-a-copy\n",
            "  after removing the cwd from sys.path.\n"
          ],
          "name": "stderr"
        },
        {
          "output_type": "display_data",
          "data": {
            "image/png": "[encoded data removed]",
            "text/plain": [
              "<Figure size 1600x800 with 1 Axes>"
            ]
          },
          "metadata": {
            "tags": []
          }
        }
      ]
    },
    {
      "cell_type": "code",
      "metadata": {
        "colab": {
          "base_uri": "https://localhost:8080/",
          "height": 450
        },
        "id": "8MziIYyZKV8k",
        "outputId": "bb224ab3-fa62-4302-bc1b-fc21d0a84c9a"
      },
      "source": [
        "#show the valid and predicted return\n",
        "valid"
      ],
      "execution_count": 285,
      "outputs": [
        {
          "output_type": "execute_result",
          "data": {
            "text/html": [
              "<div>\n",
              "<style scoped>\n",
              "    .dataframe tbody tr th:only-of-type {\n",
              "        vertical-align: middle;\n",
              "    }\n",
              "\n",
              "    .dataframe tbody tr th {\n",
              "        vertical-align: top;\n",
              "    }\n",
              "\n",
              "    .dataframe thead th {\n",
              "        text-align: right;\n",
              "    }\n",
              "</style>\n",
              "<table border=\"1\" class=\"dataframe\">\n",
              "  <thead>\n",
              "    <tr style=\"text-align: right;\">\n",
              "      <th></th>\n",
              "      <th>Close</th>\n",
              "      <th>Predictions</th>\n",
              "    </tr>\n",
              "    <tr>\n",
              "      <th>Date</th>\n",
              "      <th></th>\n",
              "      <th></th>\n",
              "    </tr>\n",
              "  </thead>\n",
              "  <tbody>\n",
              "    <tr>\n",
              "      <th>2021-04-09</th>\n",
              "      <td>2285.879883</td>\n",
              "      <td>2213.286133</td>\n",
              "    </tr>\n",
              "    <tr>\n",
              "      <th>2021-04-12</th>\n",
              "      <td>2254.790039</td>\n",
              "      <td>2235.630615</td>\n",
              "    </tr>\n",
              "    <tr>\n",
              "      <th>2021-04-13</th>\n",
              "      <td>2267.270020</td>\n",
              "      <td>2255.705078</td>\n",
              "    </tr>\n",
              "    <tr>\n",
              "      <th>2021-04-14</th>\n",
              "      <td>2254.840088</td>\n",
              "      <td>2274.073975</td>\n",
              "    </tr>\n",
              "    <tr>\n",
              "      <th>2021-04-15</th>\n",
              "      <td>2296.659912</td>\n",
              "      <td>2289.625977</td>\n",
              "    </tr>\n",
              "    <tr>\n",
              "      <th>...</th>\n",
              "      <td>...</td>\n",
              "      <td>...</td>\n",
              "    </tr>\n",
              "    <tr>\n",
              "      <th>2021-07-26</th>\n",
              "      <td>2792.889893</td>\n",
              "      <td>2723.380371</td>\n",
              "    </tr>\n",
              "    <tr>\n",
              "      <th>2021-07-27</th>\n",
              "      <td>2735.929932</td>\n",
              "      <td>2739.567871</td>\n",
              "    </tr>\n",
              "    <tr>\n",
              "      <th>2021-07-28</th>\n",
              "      <td>2727.629883</td>\n",
              "      <td>2754.394775</td>\n",
              "    </tr>\n",
              "    <tr>\n",
              "      <th>2021-07-29</th>\n",
              "      <td>2730.810059</td>\n",
              "      <td>2767.407227</td>\n",
              "    </tr>\n",
              "    <tr>\n",
              "      <th>2021-07-30</th>\n",
              "      <td>2704.419922</td>\n",
              "      <td>2778.784668</td>\n",
              "    </tr>\n",
              "  </tbody>\n",
              "</table>\n",
              "<p>79 rows × 2 columns</p>\n",
              "</div>"
            ],
            "text/plain": [
              "                  Close  Predictions\n",
              "Date                                \n",
              "2021-04-09  2285.879883  2213.286133\n",
              "2021-04-12  2254.790039  2235.630615\n",
              "2021-04-13  2267.270020  2255.705078\n",
              "2021-04-14  2254.840088  2274.073975\n",
              "2021-04-15  2296.659912  2289.625977\n",
              "...                 ...          ...\n",
              "2021-07-26  2792.889893  2723.380371\n",
              "2021-07-27  2735.929932  2739.567871\n",
              "2021-07-28  2727.629883  2754.394775\n",
              "2021-07-29  2730.810059  2767.407227\n",
              "2021-07-30  2704.419922  2778.784668\n",
              "\n",
              "[79 rows x 2 columns]"
            ]
          },
          "metadata": {
            "tags": []
          },
          "execution_count": 285
        }
      ]
    },
    {
      "cell_type": "code",
      "metadata": {
        "colab": {
          "base_uri": "https://localhost:8080/"
        },
        "id": "1_Z2x6IdK0eM",
        "outputId": "46796912-b634-47f3-c9a4-e2518e3aa026"
      },
      "source": [
        "#get the quote\n",
        "apple_quote = yf.download('GOOG', start=start_date, end=end_date)\n",
        "#Create a new dataframe\n",
        "new_data = apple_quote.filter(['Close'])\n",
        "#Get the last 60 day closing price values and convert the dataframe to an array\n",
        "last_60_days = new_data[-60:].values\n",
        "last_60_days_scaled = scaler.transform(last_60_days)\n",
        "#Create an empty list\n",
        "X_test = []\n",
        "#Append the past 60 days\n",
        "X_test.append(last_60_days_scaled)\n",
        "#Convert the X_test data set to a numpy array\n",
        "X_test = np.array(X_test)\n",
        "#Reshape the data\n",
        "X_test = np.reshape(X_test, (X_test.shape[0], X_test.shape[1],1))\n",
        "#Get the predicted scaled price\n",
        "pred_price = model.predict(X_test)\n",
        "#undo the scaling\n",
        "pred_price = scaler.inverse_transform(pred_price)\n",
        "print(pred_price)\n"
      ],
      "execution_count": 286,
      "outputs": [
        {
          "output_type": "stream",
          "text": [
            "\r[*********************100%***********************]  1 of 1 completed\n",
            "[[2787.0325]]\n"
          ],
          "name": "stdout"
        }
      ]
    }
  ]
}