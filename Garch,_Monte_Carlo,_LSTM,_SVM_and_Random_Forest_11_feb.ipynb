{
  "nbformat": 4,
  "nbformat_minor": 0,
  "metadata": {
    "colab": {
      "name": "Copy of Garch,_Monte_Carlo,_LSTM,_SVM_and_Random_Forest_(1)[1].ipynb",
      "provenance": [],
      "collapsed_sections": [],
      "include_colab_link": true
    },
    "kernelspec": {
      "name": "python3",
      "display_name": "Python 3"
    },
    "language_info": {
      "name": "python"
    }
  },
  "cells": [
    {
      "cell_type": "markdown",
      "metadata": {
        "id": "view-in-github",
        "colab_type": "text"
      },
      "source": [
        "<a href=\"https://colab.research.google.com/github/w1767/w1767/blob/main/Garch%2C_Monte_Carlo%2C_LSTM%2C_SVM_and_Random_Forest_11_feb.ipynb\" target=\"_parent\"><img src=\"https://colab.research.google.com/assets/colab-badge.svg\" alt=\"Open In Colab\"/></a>"
      ]
    },
    {
      "cell_type": "code",
      "execution_count": 2,
      "metadata": {
        "colab": {
          "base_uri": "https://localhost:8080/"
        },
        "id": "BG-d69Kxah8W",
        "outputId": "8a5fb236-b426-4141-ad23-c4c644fb875e"
      },
      "outputs": [
        {
          "output_type": "stream",
          "name": "stdout",
          "text": [
            "Requirement already satisfied: matplotlib==3.1.3 in /usr/local/lib/python3.7/dist-packages (3.1.3)\n",
            "Requirement already satisfied: pyparsing!=2.0.4,!=2.1.2,!=2.1.6,>=2.0.1 in /usr/local/lib/python3.7/dist-packages (from matplotlib==3.1.3) (3.0.7)\n",
            "Requirement already satisfied: kiwisolver>=1.0.1 in /usr/local/lib/python3.7/dist-packages (from matplotlib==3.1.3) (1.3.2)\n",
            "Requirement already satisfied: python-dateutil>=2.1 in /usr/local/lib/python3.7/dist-packages (from matplotlib==3.1.3) (2.8.2)\n",
            "Requirement already satisfied: numpy>=1.11 in /usr/local/lib/python3.7/dist-packages (from matplotlib==3.1.3) (1.19.5)\n",
            "Requirement already satisfied: cycler>=0.10 in /usr/local/lib/python3.7/dist-packages (from matplotlib==3.1.3) (0.11.0)\n",
            "Requirement already satisfied: six>=1.5 in /usr/local/lib/python3.7/dist-packages (from python-dateutil>=2.1->matplotlib==3.1.3) (1.15.0)\n"
          ]
        }
      ],
      "source": [
        "!pip install matplotlib==3.1.3"
      ]
    },
    {
      "cell_type": "code",
      "source": [
        "%%HTML\n",
        "<style type=\"text/css\">\n",
        "table.dataframe td, table.dataframe th {\n",
        "    border: 1px black solid !important;\n",
        "    color: black !important;\n",
        "}\n",
        "</style>"
      ],
      "metadata": {
        "colab": {
          "base_uri": "https://localhost:8080/",
          "height": 16
        },
        "id": "j577KjJPh7OS",
        "outputId": "0913ffd9-aa4a-4095-dbf4-b63ad9d75030"
      },
      "execution_count": 1,
      "outputs": [
        {
          "output_type": "display_data",
          "data": {
            "text/html": [
              "<style type=\"text/css\">\n",
              "table.dataframe td, table.dataframe th {\n",
              "    border: 1px black solid !important;\n",
              "    color: black !important;\n",
              "}\n",
              "</style>"
            ],
            "text/plain": [
              "<IPython.core.display.HTML object>"
            ]
          },
          "metadata": {}
        }
      ]
    },
    {
      "cell_type": "code",
      "source": [
        "!pip install arch\n",
        "!pip install tensor\n",
        "!pip install tensorflow\n",
        "!pip install statsmodels\n",
        "!pip install keras\n",
        "!pip install sklearn\n",
        "import tensorflow\n",
        "import keras\n",
        "import sklearn\n",
        "from pathlib import Path\n",
        "from datetime import datetime, timedelta\n",
        "import datetime as dt\n",
        "import pandas as pd\n",
        "import matplotlib.pyplot as plt\n",
        "%matplotlib inline\n",
        "from matplotlib import style\n",
        "from arch import arch_model\n",
        "from sklearn.svm import SVR\n",
        "from sklearn.model_selection import GridSearchCV\n",
        "from sklearn import metrics\n",
        "from statsmodels.graphics.tsaplots import plot_acf, plot_pacf\n",
        "import numpy as np\n",
        "import os\n",
        "import glob\n",
        "import csv\n",
        "from statsmodels.tsa.stattools import adfuller\n",
        "import warnings\n",
        "warnings.filterwarnings(\"ignore\")\n",
        "from keras.models import Sequential\n",
        "from keras.layers import Dense\n",
        "from keras.layers import LSTM\n",
        "from keras.layers import Dropout\n",
        "from sklearn.ensemble import RandomForestRegressor\n",
        "from keras.wrappers.scikit_learn import KerasRegressor\n",
        "from keras.models import load_model\n",
        "from sklearn import metrics\n",
        "from sklearn.metrics import mean_absolute_error as MAE\n",
        "from sklearn.metrics import mean_absolute_percentage_error"
      ],
      "metadata": {
        "colab": {
          "base_uri": "https://localhost:8080/"
        },
        "id": "VDydbYYvl2E8",
        "outputId": "bb5c3693-3679-4a85-a623-45b2e136a441"
      },
      "execution_count": 3,
      "outputs": [
        {
          "output_type": "stream",
          "name": "stdout",
          "text": [
            "Collecting arch\n",
            "  Downloading arch-5.1.0-cp37-cp37m-manylinux_2_17_x86_64.manylinux2014_x86_64.whl (902 kB)\n",
            "\u001b[?25l\r\u001b[K     |▍                               | 10 kB 17.7 MB/s eta 0:00:01\r\u001b[K     |▊                               | 20 kB 20.6 MB/s eta 0:00:01\r\u001b[K     |█                               | 30 kB 22.9 MB/s eta 0:00:01\r\u001b[K     |█▌                              | 40 kB 24.8 MB/s eta 0:00:01\r\u001b[K     |█▉                              | 51 kB 26.4 MB/s eta 0:00:01\r\u001b[K     |██▏                             | 61 kB 25.1 MB/s eta 0:00:01\r\u001b[K     |██▌                             | 71 kB 20.4 MB/s eta 0:00:01\r\u001b[K     |███                             | 81 kB 20.8 MB/s eta 0:00:01\r\u001b[K     |███▎                            | 92 kB 21.4 MB/s eta 0:00:01\r\u001b[K     |███▋                            | 102 kB 22.8 MB/s eta 0:00:01\r\u001b[K     |████                            | 112 kB 22.8 MB/s eta 0:00:01\r\u001b[K     |████▍                           | 122 kB 22.8 MB/s eta 0:00:01\r\u001b[K     |████▊                           | 133 kB 22.8 MB/s eta 0:00:01\r\u001b[K     |█████                           | 143 kB 22.8 MB/s eta 0:00:01\r\u001b[K     |█████▌                          | 153 kB 22.8 MB/s eta 0:00:01\r\u001b[K     |█████▉                          | 163 kB 22.8 MB/s eta 0:00:01\r\u001b[K     |██████▏                         | 174 kB 22.8 MB/s eta 0:00:01\r\u001b[K     |██████▌                         | 184 kB 22.8 MB/s eta 0:00:01\r\u001b[K     |███████                         | 194 kB 22.8 MB/s eta 0:00:01\r\u001b[K     |███████▎                        | 204 kB 22.8 MB/s eta 0:00:01\r\u001b[K     |███████▋                        | 215 kB 22.8 MB/s eta 0:00:01\r\u001b[K     |████████                        | 225 kB 22.8 MB/s eta 0:00:01\r\u001b[K     |████████▍                       | 235 kB 22.8 MB/s eta 0:00:01\r\u001b[K     |████████▊                       | 245 kB 22.8 MB/s eta 0:00:01\r\u001b[K     |█████████                       | 256 kB 22.8 MB/s eta 0:00:01\r\u001b[K     |█████████▍                      | 266 kB 22.8 MB/s eta 0:00:01\r\u001b[K     |█████████▉                      | 276 kB 22.8 MB/s eta 0:00:01\r\u001b[K     |██████████▏                     | 286 kB 22.8 MB/s eta 0:00:01\r\u001b[K     |██████████▌                     | 296 kB 22.8 MB/s eta 0:00:01\r\u001b[K     |███████████                     | 307 kB 22.8 MB/s eta 0:00:01\r\u001b[K     |███████████▎                    | 317 kB 22.8 MB/s eta 0:00:01\r\u001b[K     |███████████▋                    | 327 kB 22.8 MB/s eta 0:00:01\r\u001b[K     |████████████                    | 337 kB 22.8 MB/s eta 0:00:01\r\u001b[K     |████████████▍                   | 348 kB 22.8 MB/s eta 0:00:01\r\u001b[K     |████████████▊                   | 358 kB 22.8 MB/s eta 0:00:01\r\u001b[K     |█████████████                   | 368 kB 22.8 MB/s eta 0:00:01\r\u001b[K     |█████████████▍                  | 378 kB 22.8 MB/s eta 0:00:01\r\u001b[K     |█████████████▉                  | 389 kB 22.8 MB/s eta 0:00:01\r\u001b[K     |██████████████▏                 | 399 kB 22.8 MB/s eta 0:00:01\r\u001b[K     |██████████████▌                 | 409 kB 22.8 MB/s eta 0:00:01\r\u001b[K     |██████████████▉                 | 419 kB 22.8 MB/s eta 0:00:01\r\u001b[K     |███████████████▎                | 430 kB 22.8 MB/s eta 0:00:01\r\u001b[K     |███████████████▋                | 440 kB 22.8 MB/s eta 0:00:01\r\u001b[K     |████████████████                | 450 kB 22.8 MB/s eta 0:00:01\r\u001b[K     |████████████████▍               | 460 kB 22.8 MB/s eta 0:00:01\r\u001b[K     |████████████████▊               | 471 kB 22.8 MB/s eta 0:00:01\r\u001b[K     |█████████████████               | 481 kB 22.8 MB/s eta 0:00:01\r\u001b[K     |█████████████████▍              | 491 kB 22.8 MB/s eta 0:00:01\r\u001b[K     |█████████████████▉              | 501 kB 22.8 MB/s eta 0:00:01\r\u001b[K     |██████████████████▏             | 512 kB 22.8 MB/s eta 0:00:01\r\u001b[K     |██████████████████▌             | 522 kB 22.8 MB/s eta 0:00:01\r\u001b[K     |██████████████████▉             | 532 kB 22.8 MB/s eta 0:00:01\r\u001b[K     |███████████████████▎            | 542 kB 22.8 MB/s eta 0:00:01\r\u001b[K     |███████████████████▋            | 552 kB 22.8 MB/s eta 0:00:01\r\u001b[K     |████████████████████            | 563 kB 22.8 MB/s eta 0:00:01\r\u001b[K     |████████████████████▎           | 573 kB 22.8 MB/s eta 0:00:01\r\u001b[K     |████████████████████▊           | 583 kB 22.8 MB/s eta 0:00:01\r\u001b[K     |█████████████████████           | 593 kB 22.8 MB/s eta 0:00:01\r\u001b[K     |█████████████████████▍          | 604 kB 22.8 MB/s eta 0:00:01\r\u001b[K     |█████████████████████▉          | 614 kB 22.8 MB/s eta 0:00:01\r\u001b[K     |██████████████████████▏         | 624 kB 22.8 MB/s eta 0:00:01\r\u001b[K     |██████████████████████▌         | 634 kB 22.8 MB/s eta 0:00:01\r\u001b[K     |██████████████████████▉         | 645 kB 22.8 MB/s eta 0:00:01\r\u001b[K     |███████████████████████▎        | 655 kB 22.8 MB/s eta 0:00:01\r\u001b[K     |███████████████████████▋        | 665 kB 22.8 MB/s eta 0:00:01\r\u001b[K     |████████████████████████        | 675 kB 22.8 MB/s eta 0:00:01\r\u001b[K     |████████████████████████▎       | 686 kB 22.8 MB/s eta 0:00:01\r\u001b[K     |████████████████████████▊       | 696 kB 22.8 MB/s eta 0:00:01\r\u001b[K     |█████████████████████████       | 706 kB 22.8 MB/s eta 0:00:01\r\u001b[K     |█████████████████████████▍      | 716 kB 22.8 MB/s eta 0:00:01\r\u001b[K     |█████████████████████████▉      | 727 kB 22.8 MB/s eta 0:00:01\r\u001b[K     |██████████████████████████▏     | 737 kB 22.8 MB/s eta 0:00:01\r\u001b[K     |██████████████████████████▌     | 747 kB 22.8 MB/s eta 0:00:01\r\u001b[K     |██████████████████████████▉     | 757 kB 22.8 MB/s eta 0:00:01\r\u001b[K     |███████████████████████████▎    | 768 kB 22.8 MB/s eta 0:00:01\r\u001b[K     |███████████████████████████▋    | 778 kB 22.8 MB/s eta 0:00:01\r\u001b[K     |████████████████████████████    | 788 kB 22.8 MB/s eta 0:00:01\r\u001b[K     |████████████████████████████▎   | 798 kB 22.8 MB/s eta 0:00:01\r\u001b[K     |████████████████████████████▊   | 808 kB 22.8 MB/s eta 0:00:01\r\u001b[K     |█████████████████████████████   | 819 kB 22.8 MB/s eta 0:00:01\r\u001b[K     |█████████████████████████████▍  | 829 kB 22.8 MB/s eta 0:00:01\r\u001b[K     |█████████████████████████████▊  | 839 kB 22.8 MB/s eta 0:00:01\r\u001b[K     |██████████████████████████████▏ | 849 kB 22.8 MB/s eta 0:00:01\r\u001b[K     |██████████████████████████████▌ | 860 kB 22.8 MB/s eta 0:00:01\r\u001b[K     |██████████████████████████████▉ | 870 kB 22.8 MB/s eta 0:00:01\r\u001b[K     |███████████████████████████████▎| 880 kB 22.8 MB/s eta 0:00:01\r\u001b[K     |███████████████████████████████▋| 890 kB 22.8 MB/s eta 0:00:01\r\u001b[K     |████████████████████████████████| 901 kB 22.8 MB/s eta 0:00:01\r\u001b[K     |████████████████████████████████| 902 kB 22.8 MB/s \n",
            "\u001b[?25hRequirement already satisfied: pandas>=1.0 in /usr/local/lib/python3.7/dist-packages (from arch) (1.3.5)\n",
            "Requirement already satisfied: numpy>=1.17 in /usr/local/lib/python3.7/dist-packages (from arch) (1.19.5)\n",
            "Collecting property-cached>=1.6.4\n",
            "  Downloading property_cached-1.6.4-py2.py3-none-any.whl (7.8 kB)\n",
            "Requirement already satisfied: scipy>=1.3 in /usr/local/lib/python3.7/dist-packages (from arch) (1.4.1)\n",
            "Collecting statsmodels>=0.11\n",
            "  Downloading statsmodels-0.13.2-cp37-cp37m-manylinux_2_17_x86_64.manylinux2014_x86_64.whl (9.8 MB)\n",
            "\u001b[K     |████████████████████████████████| 9.8 MB 49.9 MB/s \n",
            "\u001b[?25hRequirement already satisfied: pytz>=2017.3 in /usr/local/lib/python3.7/dist-packages (from pandas>=1.0->arch) (2018.9)\n",
            "Requirement already satisfied: python-dateutil>=2.7.3 in /usr/local/lib/python3.7/dist-packages (from pandas>=1.0->arch) (2.8.2)\n",
            "Requirement already satisfied: six>=1.5 in /usr/local/lib/python3.7/dist-packages (from python-dateutil>=2.7.3->pandas>=1.0->arch) (1.15.0)\n",
            "Requirement already satisfied: packaging>=21.3 in /usr/local/lib/python3.7/dist-packages (from statsmodels>=0.11->arch) (21.3)\n",
            "Requirement already satisfied: patsy>=0.5.2 in /usr/local/lib/python3.7/dist-packages (from statsmodels>=0.11->arch) (0.5.2)\n",
            "Requirement already satisfied: pyparsing!=3.0.5,>=2.0.2 in /usr/local/lib/python3.7/dist-packages (from packaging>=21.3->statsmodels>=0.11->arch) (3.0.7)\n",
            "Installing collected packages: statsmodels, property-cached, arch\n",
            "  Attempting uninstall: statsmodels\n",
            "    Found existing installation: statsmodels 0.10.2\n",
            "    Uninstalling statsmodels-0.10.2:\n",
            "      Successfully uninstalled statsmodels-0.10.2\n",
            "Successfully installed arch-5.1.0 property-cached-1.6.4 statsmodels-0.13.2\n",
            "Collecting tensor\n",
            "  Downloading tensor-0.3.6.tar.gz (50 kB)\n",
            "\u001b[K     |████████████████████████████████| 50 kB 2.8 MB/s \n",
            "\u001b[?25hCollecting Twisted\n",
            "  Downloading Twisted-22.1.0-py3-none-any.whl (3.1 MB)\n",
            "\u001b[K     |████████████████████████████████| 3.1 MB 17.7 MB/s \n",
            "\u001b[?25hRequirement already satisfied: PyYaml in /usr/local/lib/python3.7/dist-packages (from tensor) (3.13)\n",
            "Requirement already satisfied: protobuf in /usr/local/lib/python3.7/dist-packages (from tensor) (3.17.3)\n",
            "Collecting construct\n",
            "  Downloading construct-2.10.67.tar.gz (57 kB)\n",
            "\u001b[K     |████████████████████████████████| 57 kB 1.9 MB/s \n",
            "\u001b[?25hCollecting pysnmp\n",
            "  Downloading pysnmp-4.4.12-py2.py3-none-any.whl (296 kB)\n",
            "\u001b[K     |████████████████████████████████| 296 kB 35.9 MB/s \n",
            "\u001b[?25hRequirement already satisfied: six>=1.9 in /usr/local/lib/python3.7/dist-packages (from protobuf->tensor) (1.15.0)\n",
            "Requirement already satisfied: pyasn1>=0.2.3 in /usr/local/lib/python3.7/dist-packages (from pysnmp->tensor) (0.4.8)\n",
            "Collecting pysmi\n",
            "  Downloading pysmi-0.3.4-py2.py3-none-any.whl (80 kB)\n",
            "\u001b[K     |████████████████████████████████| 80 kB 7.7 MB/s \n",
            "\u001b[?25hCollecting pycryptodomex\n",
            "  Downloading pycryptodomex-3.14.1-cp35-abi3-manylinux2010_x86_64.whl (2.0 MB)\n",
            "\u001b[K     |████████████████████████████████| 2.0 MB 6.1 MB/s \n",
            "\u001b[?25hCollecting ply\n",
            "  Downloading ply-3.11-py2.py3-none-any.whl (49 kB)\n",
            "\u001b[K     |████████████████████████████████| 49 kB 3.6 MB/s \n",
            "\u001b[?25hCollecting Automat>=0.8.0\n",
            "  Downloading Automat-20.2.0-py2.py3-none-any.whl (31 kB)\n",
            "Collecting hyperlink>=17.1.1\n",
            "  Downloading hyperlink-21.0.0-py2.py3-none-any.whl (74 kB)\n",
            "\u001b[K     |████████████████████████████████| 74 kB 3.3 MB/s \n",
            "\u001b[?25hCollecting constantly>=15.1\n",
            "  Downloading constantly-15.1.0-py2.py3-none-any.whl (7.9 kB)\n",
            "Requirement already satisfied: attrs>=19.2.0 in /usr/local/lib/python3.7/dist-packages (from Twisted->tensor) (21.4.0)\n",
            "Collecting incremental>=21.3.0\n",
            "  Downloading incremental-21.3.0-py2.py3-none-any.whl (15 kB)\n",
            "Collecting zope.interface>=4.4.2\n",
            "  Downloading zope.interface-5.4.0-cp37-cp37m-manylinux2010_x86_64.whl (251 kB)\n",
            "\u001b[K     |████████████████████████████████| 251 kB 45.8 MB/s \n",
            "\u001b[?25hRequirement already satisfied: typing-extensions>=3.6.5 in /usr/local/lib/python3.7/dist-packages (from Twisted->tensor) (3.10.0.2)\n",
            "Requirement already satisfied: idna>=2.5 in /usr/local/lib/python3.7/dist-packages (from hyperlink>=17.1.1->Twisted->tensor) (2.10)\n",
            "Requirement already satisfied: setuptools in /usr/local/lib/python3.7/dist-packages (from zope.interface>=4.4.2->Twisted->tensor) (57.4.0)\n",
            "Building wheels for collected packages: tensor, construct\n",
            "  Building wheel for tensor (setup.py) ... \u001b[?25l\u001b[?25hdone\n",
            "  Created wheel for tensor: filename=tensor-0.3.6-py3-none-any.whl size=71568 sha256=9163e36411582696f552474c32ec789387358b4ce524c0c1d2e09eb9e665e950\n",
            "  Stored in directory: /root/.cache/pip/wheels/66/49/9d/4c43e89065768fec7ab631d87d9ac21d619b6b0b3d45de1714\n",
            "  Building wheel for construct (setup.py) ... \u001b[?25l\u001b[?25hdone\n",
            "  Created wheel for construct: filename=construct-2.10.67-py3-none-any.whl size=59053 sha256=04dad05a1b9b6102c259bbb888e56fe85d524517426d4999c6f2b5f09dc3fa9f\n",
            "  Stored in directory: /root/.cache/pip/wheels/d1/06/5d/727e9a49d1f306661bbaa5b1b9aa91a8207e53e4c5e5b7f361\n",
            "Successfully built tensor construct\n",
            "Installing collected packages: ply, zope.interface, pysmi, pycryptodomex, incremental, hyperlink, constantly, Automat, Twisted, pysnmp, construct, tensor\n",
            "Successfully installed Automat-20.2.0 Twisted-22.1.0 constantly-15.1.0 construct-2.10.67 hyperlink-21.0.0 incremental-21.3.0 ply-3.11 pycryptodomex-3.14.1 pysmi-0.3.4 pysnmp-4.4.12 tensor-0.3.6 zope.interface-5.4.0\n",
            "Requirement already satisfied: tensorflow in /usr/local/lib/python3.7/dist-packages (2.7.0)\n",
            "Requirement already satisfied: typing-extensions>=3.6.6 in /usr/local/lib/python3.7/dist-packages (from tensorflow) (3.10.0.2)\n",
            "Requirement already satisfied: grpcio<2.0,>=1.24.3 in /usr/local/lib/python3.7/dist-packages (from tensorflow) (1.43.0)\n",
            "Requirement already satisfied: gast<0.5.0,>=0.2.1 in /usr/local/lib/python3.7/dist-packages (from tensorflow) (0.4.0)\n",
            "Requirement already satisfied: tensorboard~=2.6 in /usr/local/lib/python3.7/dist-packages (from tensorflow) (2.7.0)\n",
            "Requirement already satisfied: protobuf>=3.9.2 in /usr/local/lib/python3.7/dist-packages (from tensorflow) (3.17.3)\n",
            "Requirement already satisfied: keras-preprocessing>=1.1.1 in /usr/local/lib/python3.7/dist-packages (from tensorflow) (1.1.2)\n",
            "Requirement already satisfied: tensorflow-io-gcs-filesystem>=0.21.0 in /usr/local/lib/python3.7/dist-packages (from tensorflow) (0.24.0)\n",
            "Requirement already satisfied: libclang>=9.0.1 in /usr/local/lib/python3.7/dist-packages (from tensorflow) (13.0.0)\n",
            "Requirement already satisfied: google-pasta>=0.1.1 in /usr/local/lib/python3.7/dist-packages (from tensorflow) (0.2.0)\n",
            "Requirement already satisfied: keras<2.8,>=2.7.0rc0 in /usr/local/lib/python3.7/dist-packages (from tensorflow) (2.7.0)\n",
            "Requirement already satisfied: tensorflow-estimator<2.8,~=2.7.0rc0 in /usr/local/lib/python3.7/dist-packages (from tensorflow) (2.7.0)\n",
            "Requirement already satisfied: opt-einsum>=2.3.2 in /usr/local/lib/python3.7/dist-packages (from tensorflow) (3.3.0)\n",
            "Requirement already satisfied: astunparse>=1.6.0 in /usr/local/lib/python3.7/dist-packages (from tensorflow) (1.6.3)\n",
            "Requirement already satisfied: six>=1.12.0 in /usr/local/lib/python3.7/dist-packages (from tensorflow) (1.15.0)\n",
            "Requirement already satisfied: flatbuffers<3.0,>=1.12 in /usr/local/lib/python3.7/dist-packages (from tensorflow) (2.0)\n",
            "Requirement already satisfied: termcolor>=1.1.0 in /usr/local/lib/python3.7/dist-packages (from tensorflow) (1.1.0)\n",
            "Requirement already satisfied: wheel<1.0,>=0.32.0 in /usr/local/lib/python3.7/dist-packages (from tensorflow) (0.37.1)\n",
            "Requirement already satisfied: numpy>=1.14.5 in /usr/local/lib/python3.7/dist-packages (from tensorflow) (1.19.5)\n",
            "Requirement already satisfied: h5py>=2.9.0 in /usr/local/lib/python3.7/dist-packages (from tensorflow) (3.1.0)\n",
            "Requirement already satisfied: wrapt>=1.11.0 in /usr/local/lib/python3.7/dist-packages (from tensorflow) (1.13.3)\n",
            "Requirement already satisfied: absl-py>=0.4.0 in /usr/local/lib/python3.7/dist-packages (from tensorflow) (1.0.0)\n",
            "Requirement already satisfied: cached-property in /usr/local/lib/python3.7/dist-packages (from h5py>=2.9.0->tensorflow) (1.5.2)\n",
            "Requirement already satisfied: werkzeug>=0.11.15 in /usr/local/lib/python3.7/dist-packages (from tensorboard~=2.6->tensorflow) (1.0.1)\n",
            "Requirement already satisfied: markdown>=2.6.8 in /usr/local/lib/python3.7/dist-packages (from tensorboard~=2.6->tensorflow) (3.3.6)\n",
            "Requirement already satisfied: requests<3,>=2.21.0 in /usr/local/lib/python3.7/dist-packages (from tensorboard~=2.6->tensorflow) (2.23.0)\n",
            "Requirement already satisfied: tensorboard-plugin-wit>=1.6.0 in /usr/local/lib/python3.7/dist-packages (from tensorboard~=2.6->tensorflow) (1.8.1)\n",
            "Requirement already satisfied: google-auth-oauthlib<0.5,>=0.4.1 in /usr/local/lib/python3.7/dist-packages (from tensorboard~=2.6->tensorflow) (0.4.6)\n",
            "Requirement already satisfied: google-auth<3,>=1.6.3 in /usr/local/lib/python3.7/dist-packages (from tensorboard~=2.6->tensorflow) (1.35.0)\n",
            "Requirement already satisfied: setuptools>=41.0.0 in /usr/local/lib/python3.7/dist-packages (from tensorboard~=2.6->tensorflow) (57.4.0)\n",
            "Requirement already satisfied: tensorboard-data-server<0.7.0,>=0.6.0 in /usr/local/lib/python3.7/dist-packages (from tensorboard~=2.6->tensorflow) (0.6.1)\n",
            "Requirement already satisfied: cachetools<5.0,>=2.0.0 in /usr/local/lib/python3.7/dist-packages (from google-auth<3,>=1.6.3->tensorboard~=2.6->tensorflow) (4.2.4)\n",
            "Requirement already satisfied: pyasn1-modules>=0.2.1 in /usr/local/lib/python3.7/dist-packages (from google-auth<3,>=1.6.3->tensorboard~=2.6->tensorflow) (0.2.8)\n",
            "Requirement already satisfied: rsa<5,>=3.1.4 in /usr/local/lib/python3.7/dist-packages (from google-auth<3,>=1.6.3->tensorboard~=2.6->tensorflow) (4.8)\n",
            "Requirement already satisfied: requests-oauthlib>=0.7.0 in /usr/local/lib/python3.7/dist-packages (from google-auth-oauthlib<0.5,>=0.4.1->tensorboard~=2.6->tensorflow) (1.3.1)\n",
            "Requirement already satisfied: importlib-metadata>=4.4 in /usr/local/lib/python3.7/dist-packages (from markdown>=2.6.8->tensorboard~=2.6->tensorflow) (4.10.1)\n",
            "Requirement already satisfied: zipp>=0.5 in /usr/local/lib/python3.7/dist-packages (from importlib-metadata>=4.4->markdown>=2.6.8->tensorboard~=2.6->tensorflow) (3.7.0)\n",
            "Requirement already satisfied: pyasn1<0.5.0,>=0.4.6 in /usr/local/lib/python3.7/dist-packages (from pyasn1-modules>=0.2.1->google-auth<3,>=1.6.3->tensorboard~=2.6->tensorflow) (0.4.8)\n",
            "Requirement already satisfied: idna<3,>=2.5 in /usr/local/lib/python3.7/dist-packages (from requests<3,>=2.21.0->tensorboard~=2.6->tensorflow) (2.10)\n",
            "Requirement already satisfied: urllib3!=1.25.0,!=1.25.1,<1.26,>=1.21.1 in /usr/local/lib/python3.7/dist-packages (from requests<3,>=2.21.0->tensorboard~=2.6->tensorflow) (1.24.3)\n",
            "Requirement already satisfied: chardet<4,>=3.0.2 in /usr/local/lib/python3.7/dist-packages (from requests<3,>=2.21.0->tensorboard~=2.6->tensorflow) (3.0.4)\n",
            "Requirement already satisfied: certifi>=2017.4.17 in /usr/local/lib/python3.7/dist-packages (from requests<3,>=2.21.0->tensorboard~=2.6->tensorflow) (2021.10.8)\n",
            "Requirement already satisfied: oauthlib>=3.0.0 in /usr/local/lib/python3.7/dist-packages (from requests-oauthlib>=0.7.0->google-auth-oauthlib<0.5,>=0.4.1->tensorboard~=2.6->tensorflow) (3.2.0)\n",
            "Requirement already satisfied: statsmodels in /usr/local/lib/python3.7/dist-packages (0.13.2)\n",
            "Requirement already satisfied: numpy>=1.17 in /usr/local/lib/python3.7/dist-packages (from statsmodels) (1.19.5)\n",
            "Requirement already satisfied: packaging>=21.3 in /usr/local/lib/python3.7/dist-packages (from statsmodels) (21.3)\n",
            "Requirement already satisfied: scipy>=1.3 in /usr/local/lib/python3.7/dist-packages (from statsmodels) (1.4.1)\n",
            "Requirement already satisfied: pandas>=0.25 in /usr/local/lib/python3.7/dist-packages (from statsmodels) (1.3.5)\n",
            "Requirement already satisfied: patsy>=0.5.2 in /usr/local/lib/python3.7/dist-packages (from statsmodels) (0.5.2)\n",
            "Requirement already satisfied: pyparsing!=3.0.5,>=2.0.2 in /usr/local/lib/python3.7/dist-packages (from packaging>=21.3->statsmodels) (3.0.7)\n",
            "Requirement already satisfied: python-dateutil>=2.7.3 in /usr/local/lib/python3.7/dist-packages (from pandas>=0.25->statsmodels) (2.8.2)\n",
            "Requirement already satisfied: pytz>=2017.3 in /usr/local/lib/python3.7/dist-packages (from pandas>=0.25->statsmodels) (2018.9)\n",
            "Requirement already satisfied: six in /usr/local/lib/python3.7/dist-packages (from patsy>=0.5.2->statsmodels) (1.15.0)\n",
            "Requirement already satisfied: keras in /usr/local/lib/python3.7/dist-packages (2.7.0)\n",
            "Requirement already satisfied: sklearn in /usr/local/lib/python3.7/dist-packages (0.0)\n",
            "Requirement already satisfied: scikit-learn in /usr/local/lib/python3.7/dist-packages (from sklearn) (1.0.2)\n",
            "Requirement already satisfied: joblib>=0.11 in /usr/local/lib/python3.7/dist-packages (from scikit-learn->sklearn) (1.1.0)\n",
            "Requirement already satisfied: numpy>=1.14.6 in /usr/local/lib/python3.7/dist-packages (from scikit-learn->sklearn) (1.19.5)\n",
            "Requirement already satisfied: threadpoolctl>=2.0.0 in /usr/local/lib/python3.7/dist-packages (from scikit-learn->sklearn) (3.1.0)\n",
            "Requirement already satisfied: scipy>=1.1.0 in /usr/local/lib/python3.7/dist-packages (from scikit-learn->sklearn) (1.4.1)\n"
          ]
        }
      ]
    },
    {
      "cell_type": "code",
      "source": [
        "from google.colab import drive\n",
        "drive.mount('/content/drive')"
      ],
      "metadata": {
        "colab": {
          "base_uri": "https://localhost:8080/"
        },
        "id": "1Y9a6sJjrc6N",
        "outputId": "7997e604-c07d-4fb4-aac0-18fc3b20fffd"
      },
      "execution_count": 4,
      "outputs": [
        {
          "output_type": "stream",
          "name": "stdout",
          "text": [
            "Mounted at /content/drive\n"
          ]
        }
      ]
    },
    {
      "cell_type": "code",
      "source": [
        "path = \"/content/drive/MyDrive/Master thesis/Vix.csv\""
      ],
      "metadata": {
        "id": "FqsKm1kJr-_0"
      },
      "execution_count": 5,
      "outputs": []
    },
    {
      "cell_type": "code",
      "source": [
        "VI_db=pd.read_csv(\"/content/drive/MyDrive/Master thesis/VIX.csv\")"
      ],
      "metadata": {
        "id": "Cl-DtmR_sJ0c"
      },
      "execution_count": 6,
      "outputs": []
    },
    {
      "cell_type": "code",
      "source": [
        "VI_db"
      ],
      "metadata": {
        "colab": {
          "base_uri": "https://localhost:8080/",
          "height": 423
        },
        "id": "qg5aGjRisXcW",
        "outputId": "e870835a-40eb-4f17-84ea-67a7191388da"
      },
      "execution_count": 7,
      "outputs": [
        {
          "output_type": "execute_result",
          "data": {
            "text/html": [
              "\n",
              "  <div id=\"df-7ebb43b9-fa88-4d02-aa02-8e3abd9e5321\">\n",
              "    <div class=\"colab-df-container\">\n",
              "      <div>\n",
              "<style scoped>\n",
              "    .dataframe tbody tr th:only-of-type {\n",
              "        vertical-align: middle;\n",
              "    }\n",
              "\n",
              "    .dataframe tbody tr th {\n",
              "        vertical-align: top;\n",
              "    }\n",
              "\n",
              "    .dataframe thead th {\n",
              "        text-align: right;\n",
              "    }\n",
              "</style>\n",
              "<table border=\"1\" class=\"dataframe\">\n",
              "  <thead>\n",
              "    <tr style=\"text-align: right;\">\n",
              "      <th></th>\n",
              "      <th>Date</th>\n",
              "      <th>Open</th>\n",
              "      <th>High</th>\n",
              "      <th>Low</th>\n",
              "      <th>Close</th>\n",
              "      <th>Adj Close</th>\n",
              "      <th>Volume</th>\n",
              "    </tr>\n",
              "  </thead>\n",
              "  <tbody>\n",
              "    <tr>\n",
              "      <th>0</th>\n",
              "      <td>02/01/1990</td>\n",
              "      <td>17.240000</td>\n",
              "      <td>17.240000</td>\n",
              "      <td>17.240000</td>\n",
              "      <td>17.240000</td>\n",
              "      <td>17.240000</td>\n",
              "      <td>0</td>\n",
              "    </tr>\n",
              "    <tr>\n",
              "      <th>1</th>\n",
              "      <td>03/01/1990</td>\n",
              "      <td>18.190001</td>\n",
              "      <td>18.190001</td>\n",
              "      <td>18.190001</td>\n",
              "      <td>18.190001</td>\n",
              "      <td>18.190001</td>\n",
              "      <td>0</td>\n",
              "    </tr>\n",
              "    <tr>\n",
              "      <th>2</th>\n",
              "      <td>04/01/1990</td>\n",
              "      <td>19.219999</td>\n",
              "      <td>19.219999</td>\n",
              "      <td>19.219999</td>\n",
              "      <td>19.219999</td>\n",
              "      <td>19.219999</td>\n",
              "      <td>0</td>\n",
              "    </tr>\n",
              "    <tr>\n",
              "      <th>3</th>\n",
              "      <td>05/01/1990</td>\n",
              "      <td>20.110001</td>\n",
              "      <td>20.110001</td>\n",
              "      <td>20.110001</td>\n",
              "      <td>20.110001</td>\n",
              "      <td>20.110001</td>\n",
              "      <td>0</td>\n",
              "    </tr>\n",
              "    <tr>\n",
              "      <th>4</th>\n",
              "      <td>08/01/1990</td>\n",
              "      <td>20.260000</td>\n",
              "      <td>20.260000</td>\n",
              "      <td>20.260000</td>\n",
              "      <td>20.260000</td>\n",
              "      <td>20.260000</td>\n",
              "      <td>0</td>\n",
              "    </tr>\n",
              "    <tr>\n",
              "      <th>...</th>\n",
              "      <td>...</td>\n",
              "      <td>...</td>\n",
              "      <td>...</td>\n",
              "      <td>...</td>\n",
              "      <td>...</td>\n",
              "      <td>...</td>\n",
              "      <td>...</td>\n",
              "    </tr>\n",
              "    <tr>\n",
              "      <th>7929</th>\n",
              "      <td>22/06/2021</td>\n",
              "      <td>17.910000</td>\n",
              "      <td>18.320000</td>\n",
              "      <td>15.760000</td>\n",
              "      <td>16.660000</td>\n",
              "      <td>16.660000</td>\n",
              "      <td>0</td>\n",
              "    </tr>\n",
              "    <tr>\n",
              "      <th>7930</th>\n",
              "      <td>23/06/2021</td>\n",
              "      <td>16.250000</td>\n",
              "      <td>16.840000</td>\n",
              "      <td>14.860000</td>\n",
              "      <td>16.320000</td>\n",
              "      <td>16.320000</td>\n",
              "      <td>0</td>\n",
              "    </tr>\n",
              "    <tr>\n",
              "      <th>7931</th>\n",
              "      <td>24/06/2021</td>\n",
              "      <td>15.990000</td>\n",
              "      <td>16.049999</td>\n",
              "      <td>14.190000</td>\n",
              "      <td>15.970000</td>\n",
              "      <td>15.970000</td>\n",
              "      <td>0</td>\n",
              "    </tr>\n",
              "    <tr>\n",
              "      <th>7932</th>\n",
              "      <td>25/06/2021</td>\n",
              "      <td>16.040001</td>\n",
              "      <td>16.170000</td>\n",
              "      <td>15.210000</td>\n",
              "      <td>15.620000</td>\n",
              "      <td>15.620000</td>\n",
              "      <td>0</td>\n",
              "    </tr>\n",
              "    <tr>\n",
              "      <th>7933</th>\n",
              "      <td>28/06/2021</td>\n",
              "      <td>16.070000</td>\n",
              "      <td>16.459999</td>\n",
              "      <td>15.390000</td>\n",
              "      <td>15.760000</td>\n",
              "      <td>15.760000</td>\n",
              "      <td>0</td>\n",
              "    </tr>\n",
              "  </tbody>\n",
              "</table>\n",
              "<p>7934 rows × 7 columns</p>\n",
              "</div>\n",
              "      <button class=\"colab-df-convert\" onclick=\"convertToInteractive('df-7ebb43b9-fa88-4d02-aa02-8e3abd9e5321')\"\n",
              "              title=\"Convert this dataframe to an interactive table.\"\n",
              "              style=\"display:none;\">\n",
              "        \n",
              "  <svg xmlns=\"http://www.w3.org/2000/svg\" height=\"24px\"viewBox=\"0 0 24 24\"\n",
              "       width=\"24px\">\n",
              "    <path d=\"M0 0h24v24H0V0z\" fill=\"none\"/>\n",
              "    <path d=\"M18.56 5.44l.94 2.06.94-2.06 2.06-.94-2.06-.94-.94-2.06-.94 2.06-2.06.94zm-11 1L8.5 8.5l.94-2.06 2.06-.94-2.06-.94L8.5 2.5l-.94 2.06-2.06.94zm10 10l.94 2.06.94-2.06 2.06-.94-2.06-.94-.94-2.06-.94 2.06-2.06.94z\"/><path d=\"M17.41 7.96l-1.37-1.37c-.4-.4-.92-.59-1.43-.59-.52 0-1.04.2-1.43.59L10.3 9.45l-7.72 7.72c-.78.78-.78 2.05 0 2.83L4 21.41c.39.39.9.59 1.41.59.51 0 1.02-.2 1.41-.59l7.78-7.78 2.81-2.81c.8-.78.8-2.07 0-2.86zM5.41 20L4 18.59l7.72-7.72 1.47 1.35L5.41 20z\"/>\n",
              "  </svg>\n",
              "      </button>\n",
              "      \n",
              "  <style>\n",
              "    .colab-df-container {\n",
              "      display:flex;\n",
              "      flex-wrap:wrap;\n",
              "      gap: 12px;\n",
              "    }\n",
              "\n",
              "    .colab-df-convert {\n",
              "      background-color: #E8F0FE;\n",
              "      border: none;\n",
              "      border-radius: 50%;\n",
              "      cursor: pointer;\n",
              "      display: none;\n",
              "      fill: #1967D2;\n",
              "      height: 32px;\n",
              "      padding: 0 0 0 0;\n",
              "      width: 32px;\n",
              "    }\n",
              "\n",
              "    .colab-df-convert:hover {\n",
              "      background-color: #E2EBFA;\n",
              "      box-shadow: 0px 1px 2px rgba(60, 64, 67, 0.3), 0px 1px 3px 1px rgba(60, 64, 67, 0.15);\n",
              "      fill: #174EA6;\n",
              "    }\n",
              "\n",
              "    [theme=dark] .colab-df-convert {\n",
              "      background-color: #3B4455;\n",
              "      fill: #D2E3FC;\n",
              "    }\n",
              "\n",
              "    [theme=dark] .colab-df-convert:hover {\n",
              "      background-color: #434B5C;\n",
              "      box-shadow: 0px 1px 3px 1px rgba(0, 0, 0, 0.15);\n",
              "      filter: drop-shadow(0px 1px 2px rgba(0, 0, 0, 0.3));\n",
              "      fill: #FFFFFF;\n",
              "    }\n",
              "  </style>\n",
              "\n",
              "      <script>\n",
              "        const buttonEl =\n",
              "          document.querySelector('#df-7ebb43b9-fa88-4d02-aa02-8e3abd9e5321 button.colab-df-convert');\n",
              "        buttonEl.style.display =\n",
              "          google.colab.kernel.accessAllowed ? 'block' : 'none';\n",
              "\n",
              "        async function convertToInteractive(key) {\n",
              "          const element = document.querySelector('#df-7ebb43b9-fa88-4d02-aa02-8e3abd9e5321');\n",
              "          const dataTable =\n",
              "            await google.colab.kernel.invokeFunction('convertToInteractive',\n",
              "                                                     [key], {});\n",
              "          if (!dataTable) return;\n",
              "\n",
              "          const docLinkHtml = 'Like what you see? Visit the ' +\n",
              "            '<a target=\"_blank\" href=https://colab.research.google.com/notebooks/data_table.ipynb>data table notebook</a>'\n",
              "            + ' to learn more about interactive tables.';\n",
              "          element.innerHTML = '';\n",
              "          dataTable['output_type'] = 'display_data';\n",
              "          await google.colab.output.renderOutput(dataTable, element);\n",
              "          const docLink = document.createElement('div');\n",
              "          docLink.innerHTML = docLinkHtml;\n",
              "          element.appendChild(docLink);\n",
              "        }\n",
              "      </script>\n",
              "    </div>\n",
              "  </div>\n",
              "  "
            ],
            "text/plain": [
              "            Date       Open       High        Low      Close  Adj Close  Volume\n",
              "0     02/01/1990  17.240000  17.240000  17.240000  17.240000  17.240000       0\n",
              "1     03/01/1990  18.190001  18.190001  18.190001  18.190001  18.190001       0\n",
              "2     04/01/1990  19.219999  19.219999  19.219999  19.219999  19.219999       0\n",
              "3     05/01/1990  20.110001  20.110001  20.110001  20.110001  20.110001       0\n",
              "4     08/01/1990  20.260000  20.260000  20.260000  20.260000  20.260000       0\n",
              "...          ...        ...        ...        ...        ...        ...     ...\n",
              "7929  22/06/2021  17.910000  18.320000  15.760000  16.660000  16.660000       0\n",
              "7930  23/06/2021  16.250000  16.840000  14.860000  16.320000  16.320000       0\n",
              "7931  24/06/2021  15.990000  16.049999  14.190000  15.970000  15.970000       0\n",
              "7932  25/06/2021  16.040001  16.170000  15.210000  15.620000  15.620000       0\n",
              "7933  28/06/2021  16.070000  16.459999  15.390000  15.760000  15.760000       0\n",
              "\n",
              "[7934 rows x 7 columns]"
            ]
          },
          "metadata": {},
          "execution_count": 7
        }
      ]
    },
    {
      "cell_type": "code",
      "source": [
        "import seaborn as sns\n",
        "sns.heatmap(VI_db.isnull(), yticklabels=False, cmap=\"viridis\")"
      ],
      "metadata": {
        "colab": {
          "base_uri": "https://localhost:8080/",
          "height": 324
        },
        "id": "nXf2oMPmsbwD",
        "outputId": "46f96c25-0dd0-4669-9520-86480eb29ea4"
      },
      "execution_count": 8,
      "outputs": [
        {
          "output_type": "execute_result",
          "data": {
            "text/plain": [
              "<matplotlib.axes._subplots.AxesSubplot at 0x7f88ddb23490>"
            ]
          },
          "metadata": {},
          "execution_count": 8
        },
        {
          "output_type": "display_data",
          "data": {
            "image/png": "[encoded data removed]",
            "text/plain": [
              "<Figure size 432x288 with 2 Axes>"
            ]
          },
          "metadata": {
            "needs_background": "light"
          }
        }
      ]
    },
    {
      "cell_type": "code",
      "source": [
        "import numpy as np"
      ],
      "metadata": {
        "id": "n2zFes_eyMYx"
      },
      "execution_count": 9,
      "outputs": []
    },
    {
      "cell_type": "code",
      "source": [
        "#DATA TYPE FORMATTING OF THE REQUIRED FEATURES\n",
        "VI_db['Date'] = pd.to_datetime(VI_db['Date'])\n",
        "VI_db['log_price'] = np.log(VI_db['Close'])\n",
        "VI_db['pct_change'] = VI_db['log_price'].diff()\n",
        "VI_db['st_dev'] = VI_db['pct_change'].rolling(window=30, center=False).std()\n"
      ],
      "metadata": {
        "id": "j4pq0NOxsyoL"
      },
      "execution_count": 10,
      "outputs": []
    },
    {
      "cell_type": "code",
      "source": [
        "VI_db['Volatility'] = VI_db['st_dev']*(252**0.5)"
      ],
      "metadata": {
        "id": "f6uVQhQgyah6"
      },
      "execution_count": 11,
      "outputs": []
    },
    {
      "cell_type": "code",
      "source": [
        "VI_db.head(100)"
      ],
      "metadata": {
        "colab": {
          "base_uri": "https://localhost:8080/",
          "height": 467
        },
        "id": "I1p3oozRAdQX",
        "outputId": "c46d7c3f-29d4-4922-fdf3-22242c244cc7"
      },
      "execution_count": 12,
      "outputs": [
        {
          "output_type": "execute_result",
          "data": {
            "text/html": [
              "\n",
              "  <div id=\"df-68982fcc-e019-4d7a-9ddc-3e7bf6c0c898\">\n",
              "    <div class=\"colab-df-container\">\n",
              "      <div>\n",
              "<style scoped>\n",
              "    .dataframe tbody tr th:only-of-type {\n",
              "        vertical-align: middle;\n",
              "    }\n",
              "\n",
              "    .dataframe tbody tr th {\n",
              "        vertical-align: top;\n",
              "    }\n",
              "\n",
              "    .dataframe thead th {\n",
              "        text-align: right;\n",
              "    }\n",
              "</style>\n",
              "<table border=\"1\" class=\"dataframe\">\n",
              "  <thead>\n",
              "    <tr style=\"text-align: right;\">\n",
              "      <th></th>\n",
              "      <th>Date</th>\n",
              "      <th>Open</th>\n",
              "      <th>High</th>\n",
              "      <th>Low</th>\n",
              "      <th>Close</th>\n",
              "      <th>Adj Close</th>\n",
              "      <th>Volume</th>\n",
              "      <th>log_price</th>\n",
              "      <th>pct_change</th>\n",
              "      <th>st_dev</th>\n",
              "      <th>Volatility</th>\n",
              "    </tr>\n",
              "  </thead>\n",
              "  <tbody>\n",
              "    <tr>\n",
              "      <th>0</th>\n",
              "      <td>1990-02-01</td>\n",
              "      <td>17.240000</td>\n",
              "      <td>17.240000</td>\n",
              "      <td>17.240000</td>\n",
              "      <td>17.240000</td>\n",
              "      <td>17.240000</td>\n",
              "      <td>0</td>\n",
              "      <td>2.847232</td>\n",
              "      <td>NaN</td>\n",
              "      <td>NaN</td>\n",
              "      <td>NaN</td>\n",
              "    </tr>\n",
              "    <tr>\n",
              "      <th>1</th>\n",
              "      <td>1990-03-01</td>\n",
              "      <td>18.190001</td>\n",
              "      <td>18.190001</td>\n",
              "      <td>18.190001</td>\n",
              "      <td>18.190001</td>\n",
              "      <td>18.190001</td>\n",
              "      <td>0</td>\n",
              "      <td>2.900872</td>\n",
              "      <td>0.053640</td>\n",
              "      <td>NaN</td>\n",
              "      <td>NaN</td>\n",
              "    </tr>\n",
              "    <tr>\n",
              "      <th>2</th>\n",
              "      <td>1990-04-01</td>\n",
              "      <td>19.219999</td>\n",
              "      <td>19.219999</td>\n",
              "      <td>19.219999</td>\n",
              "      <td>19.219999</td>\n",
              "      <td>19.219999</td>\n",
              "      <td>0</td>\n",
              "      <td>2.955951</td>\n",
              "      <td>0.055079</td>\n",
              "      <td>NaN</td>\n",
              "      <td>NaN</td>\n",
              "    </tr>\n",
              "    <tr>\n",
              "      <th>3</th>\n",
              "      <td>1990-05-01</td>\n",
              "      <td>20.110001</td>\n",
              "      <td>20.110001</td>\n",
              "      <td>20.110001</td>\n",
              "      <td>20.110001</td>\n",
              "      <td>20.110001</td>\n",
              "      <td>0</td>\n",
              "      <td>3.001217</td>\n",
              "      <td>0.045266</td>\n",
              "      <td>NaN</td>\n",
              "      <td>NaN</td>\n",
              "    </tr>\n",
              "    <tr>\n",
              "      <th>4</th>\n",
              "      <td>1990-08-01</td>\n",
              "      <td>20.260000</td>\n",
              "      <td>20.260000</td>\n",
              "      <td>20.260000</td>\n",
              "      <td>20.260000</td>\n",
              "      <td>20.260000</td>\n",
              "      <td>0</td>\n",
              "      <td>3.008648</td>\n",
              "      <td>0.007431</td>\n",
              "      <td>NaN</td>\n",
              "      <td>NaN</td>\n",
              "    </tr>\n",
              "    <tr>\n",
              "      <th>...</th>\n",
              "      <td>...</td>\n",
              "      <td>...</td>\n",
              "      <td>...</td>\n",
              "      <td>...</td>\n",
              "      <td>...</td>\n",
              "      <td>...</td>\n",
              "      <td>...</td>\n",
              "      <td>...</td>\n",
              "      <td>...</td>\n",
              "      <td>...</td>\n",
              "      <td>...</td>\n",
              "    </tr>\n",
              "    <tr>\n",
              "      <th>95</th>\n",
              "      <td>1990-05-17</td>\n",
              "      <td>17.270000</td>\n",
              "      <td>17.270000</td>\n",
              "      <td>17.270000</td>\n",
              "      <td>17.270000</td>\n",
              "      <td>17.270000</td>\n",
              "      <td>0</td>\n",
              "      <td>2.848971</td>\n",
              "      <td>-0.025159</td>\n",
              "      <td>0.069642</td>\n",
              "      <td>1.105535</td>\n",
              "    </tr>\n",
              "    <tr>\n",
              "      <th>96</th>\n",
              "      <td>1990-05-18</td>\n",
              "      <td>17.200001</td>\n",
              "      <td>17.200001</td>\n",
              "      <td>17.200001</td>\n",
              "      <td>17.200001</td>\n",
              "      <td>17.200001</td>\n",
              "      <td>0</td>\n",
              "      <td>2.844909</td>\n",
              "      <td>-0.004061</td>\n",
              "      <td>0.069416</td>\n",
              "      <td>1.101950</td>\n",
              "    </tr>\n",
              "    <tr>\n",
              "      <th>97</th>\n",
              "      <td>1990-05-21</td>\n",
              "      <td>16.719999</td>\n",
              "      <td>16.719999</td>\n",
              "      <td>16.719999</td>\n",
              "      <td>16.719999</td>\n",
              "      <td>16.719999</td>\n",
              "      <td>0</td>\n",
              "      <td>2.816606</td>\n",
              "      <td>-0.028304</td>\n",
              "      <td>0.069241</td>\n",
              "      <td>1.099169</td>\n",
              "    </tr>\n",
              "    <tr>\n",
              "      <th>98</th>\n",
              "      <td>1990-05-22</td>\n",
              "      <td>17.840000</td>\n",
              "      <td>17.840000</td>\n",
              "      <td>17.840000</td>\n",
              "      <td>17.840000</td>\n",
              "      <td>17.840000</td>\n",
              "      <td>0</td>\n",
              "      <td>2.881443</td>\n",
              "      <td>0.064838</td>\n",
              "      <td>0.070293</td>\n",
              "      <td>1.115870</td>\n",
              "    </tr>\n",
              "    <tr>\n",
              "      <th>99</th>\n",
              "      <td>1990-05-23</td>\n",
              "      <td>17.180000</td>\n",
              "      <td>17.180000</td>\n",
              "      <td>17.180000</td>\n",
              "      <td>17.180000</td>\n",
              "      <td>17.180000</td>\n",
              "      <td>0</td>\n",
              "      <td>2.843746</td>\n",
              "      <td>-0.037697</td>\n",
              "      <td>0.070416</td>\n",
              "      <td>1.117817</td>\n",
              "    </tr>\n",
              "  </tbody>\n",
              "</table>\n",
              "<p>100 rows × 11 columns</p>\n",
              "</div>\n",
              "      <button class=\"colab-df-convert\" onclick=\"convertToInteractive('df-68982fcc-e019-4d7a-9ddc-3e7bf6c0c898')\"\n",
              "              title=\"Convert this dataframe to an interactive table.\"\n",
              "              style=\"display:none;\">\n",
              "        \n",
              "  <svg xmlns=\"http://www.w3.org/2000/svg\" height=\"24px\"viewBox=\"0 0 24 24\"\n",
              "       width=\"24px\">\n",
              "    <path d=\"M0 0h24v24H0V0z\" fill=\"none\"/>\n",
              "    <path d=\"M18.56 5.44l.94 2.06.94-2.06 2.06-.94-2.06-.94-.94-2.06-.94 2.06-2.06.94zm-11 1L8.5 8.5l.94-2.06 2.06-.94-2.06-.94L8.5 2.5l-.94 2.06-2.06.94zm10 10l.94 2.06.94-2.06 2.06-.94-2.06-.94-.94-2.06-.94 2.06-2.06.94z\"/><path d=\"M17.41 7.96l-1.37-1.37c-.4-.4-.92-.59-1.43-.59-.52 0-1.04.2-1.43.59L10.3 9.45l-7.72 7.72c-.78.78-.78 2.05 0 2.83L4 21.41c.39.39.9.59 1.41.59.51 0 1.02-.2 1.41-.59l7.78-7.78 2.81-2.81c.8-.78.8-2.07 0-2.86zM5.41 20L4 18.59l7.72-7.72 1.47 1.35L5.41 20z\"/>\n",
              "  </svg>\n",
              "      </button>\n",
              "      \n",
              "  <style>\n",
              "    .colab-df-container {\n",
              "      display:flex;\n",
              "      flex-wrap:wrap;\n",
              "      gap: 12px;\n",
              "    }\n",
              "\n",
              "    .colab-df-convert {\n",
              "      background-color: #E8F0FE;\n",
              "      border: none;\n",
              "      border-radius: 50%;\n",
              "      cursor: pointer;\n",
              "      display: none;\n",
              "      fill: #1967D2;\n",
              "      height: 32px;\n",
              "      padding: 0 0 0 0;\n",
              "      width: 32px;\n",
              "    }\n",
              "\n",
              "    .colab-df-convert:hover {\n",
              "      background-color: #E2EBFA;\n",
              "      box-shadow: 0px 1px 2px rgba(60, 64, 67, 0.3), 0px 1px 3px 1px rgba(60, 64, 67, 0.15);\n",
              "      fill: #174EA6;\n",
              "    }\n",
              "\n",
              "    [theme=dark] .colab-df-convert {\n",
              "      background-color: #3B4455;\n",
              "      fill: #D2E3FC;\n",
              "    }\n",
              "\n",
              "    [theme=dark] .colab-df-convert:hover {\n",
              "      background-color: #434B5C;\n",
              "      box-shadow: 0px 1px 3px 1px rgba(0, 0, 0, 0.15);\n",
              "      filter: drop-shadow(0px 1px 2px rgba(0, 0, 0, 0.3));\n",
              "      fill: #FFFFFF;\n",
              "    }\n",
              "  </style>\n",
              "\n",
              "      <script>\n",
              "        const buttonEl =\n",
              "          document.querySelector('#df-68982fcc-e019-4d7a-9ddc-3e7bf6c0c898 button.colab-df-convert');\n",
              "        buttonEl.style.display =\n",
              "          google.colab.kernel.accessAllowed ? 'block' : 'none';\n",
              "\n",
              "        async function convertToInteractive(key) {\n",
              "          const element = document.querySelector('#df-68982fcc-e019-4d7a-9ddc-3e7bf6c0c898');\n",
              "          const dataTable =\n",
              "            await google.colab.kernel.invokeFunction('convertToInteractive',\n",
              "                                                     [key], {});\n",
              "          if (!dataTable) return;\n",
              "\n",
              "          const docLinkHtml = 'Like what you see? Visit the ' +\n",
              "            '<a target=\"_blank\" href=https://colab.research.google.com/notebooks/data_table.ipynb>data table notebook</a>'\n",
              "            + ' to learn more about interactive tables.';\n",
              "          element.innerHTML = '';\n",
              "          dataTable['output_type'] = 'display_data';\n",
              "          await google.colab.output.renderOutput(dataTable, element);\n",
              "          const docLink = document.createElement('div');\n",
              "          docLink.innerHTML = docLinkHtml;\n",
              "          element.appendChild(docLink);\n",
              "        }\n",
              "      </script>\n",
              "    </div>\n",
              "  </div>\n",
              "  "
            ],
            "text/plain": [
              "         Date       Open       High  ...  pct_change    st_dev  Volatility\n",
              "0  1990-02-01  17.240000  17.240000  ...         NaN       NaN         NaN\n",
              "1  1990-03-01  18.190001  18.190001  ...    0.053640       NaN         NaN\n",
              "2  1990-04-01  19.219999  19.219999  ...    0.055079       NaN         NaN\n",
              "3  1990-05-01  20.110001  20.110001  ...    0.045266       NaN         NaN\n",
              "4  1990-08-01  20.260000  20.260000  ...    0.007431       NaN         NaN\n",
              "..        ...        ...        ...  ...         ...       ...         ...\n",
              "95 1990-05-17  17.270000  17.270000  ...   -0.025159  0.069642    1.105535\n",
              "96 1990-05-18  17.200001  17.200001  ...   -0.004061  0.069416    1.101950\n",
              "97 1990-05-21  16.719999  16.719999  ...   -0.028304  0.069241    1.099169\n",
              "98 1990-05-22  17.840000  17.840000  ...    0.064838  0.070293    1.115870\n",
              "99 1990-05-23  17.180000  17.180000  ...   -0.037697  0.070416    1.117817\n",
              "\n",
              "[100 rows x 11 columns]"
            ]
          },
          "metadata": {},
          "execution_count": 12
        }
      ]
    },
    {
      "cell_type": "code",
      "source": [
        "df.iloc[:, 9:10].values\n"
      ],
      "metadata": {
        "colab": {
          "base_uri": "https://localhost:8080/"
        },
        "id": "OZZm1J5eRmJa",
        "outputId": "fb539fae-54c8-4b41-e7d8-39bbb47f8350"
      },
      "execution_count": 21,
      "outputs": [
        {
          "output_type": "execute_result",
          "data": {
            "text/plain": [
              "array([[0.89358872],\n",
              "       [1.33428262],\n",
              "       [0.88196488],\n",
              "       ...,\n",
              "       [1.49021561],\n",
              "       [1.12274356],\n",
              "       [1.14826017]])"
            ]
          },
          "metadata": {},
          "execution_count": 21
        }
      ]
    },
    {
      "cell_type": "code",
      "source": [
        "df['Volatility'].head(20)"
      ],
      "metadata": {
        "colab": {
          "base_uri": "https://localhost:8080/"
        },
        "id": "SkmZMX0qStme",
        "outputId": "53551347-9f4d-4799-c3bf-41185f7fdc1e"
      },
      "execution_count": 22,
      "outputs": [
        {
          "output_type": "execute_result",
          "data": {
            "text/plain": [
              "Date\n",
              "1990-01-03    0.893589\n",
              "1990-01-05    1.334283\n",
              "1990-01-06    0.881965\n",
              "1990-01-08    1.712147\n",
              "1990-01-10    0.947622\n",
              "1990-01-11    0.618401\n",
              "1990-02-03    0.895341\n",
              "1990-02-04    1.017414\n",
              "1990-02-05    1.335973\n",
              "1990-02-07    1.268275\n",
              "1990-02-08    1.723761\n",
              "1990-02-10    0.943967\n",
              "1990-02-11    0.603746\n",
              "1990-02-13    1.072026\n",
              "1990-02-14    1.091692\n",
              "1990-02-15    1.133728\n",
              "1990-02-16    1.136526\n",
              "1990-02-20    1.166584\n",
              "1990-02-21    1.144704\n",
              "1990-02-22    1.157712\n",
              "Name: Volatility, dtype: float64"
            ]
          },
          "metadata": {},
          "execution_count": 22
        }
      ]
    },
    {
      "cell_type": "code",
      "source": [
        "# Set 'Date' as index\n"
      ],
      "metadata": {
        "id": "nk5ckMzYKHK2"
      },
      "execution_count": 15,
      "outputs": []
    },
    {
      "cell_type": "code",
      "source": [
        "to_plt = VI_db.sort_values(by = 'Date').set_index('Date')"
      ],
      "metadata": {
        "id": "3XmO6WWXKNK1"
      },
      "execution_count": 16,
      "outputs": []
    },
    {
      "cell_type": "code",
      "source": [
        "plt.figure(figsize=(16,6))\n",
        "plt.plot(to_plt['Volatility'])\n",
        "plt.ylabel('Pct Return', fontsize=16)\n",
        "plt.title('Vix Rolling Volatility considering 30 Time Periods with Standard Deviation Annualized', fontsize=20)"
      ],
      "metadata": {
        "colab": {
          "base_uri": "https://localhost:8080/",
          "height": 401
        },
        "id": "Suwr9zVmN9R_",
        "outputId": "f84d26c9-53a5-441c-bdbc-a4c1d11d3d02"
      },
      "execution_count": 17,
      "outputs": [
        {
          "output_type": "execute_result",
          "data": {
            "text/plain": [
              "Text(0.5, 1.0, 'Vix Rolling Volatility considering 30 Time Periods with Standard Deviation Annualized')"
            ]
          },
          "metadata": {},
          "execution_count": 17
        },
        {
          "output_type": "display_data",
          "data": {
            "image/png": "[encoded data removed]",
            "text/plain": [
              "<Figure size 1152x432 with 1 Axes>"
            ]
          },
          "metadata": {
            "needs_background": "light"
          }
        }
      ]
    },
    {
      "cell_type": "code",
      "source": [
        "df=to_plt.dropna()"
      ],
      "metadata": {
        "id": "xQ1dax4kd0SI"
      },
      "execution_count": 18,
      "outputs": []
    },
    {
      "cell_type": "code",
      "source": [
        "vol = df['Volatility'] * 100"
      ],
      "metadata": {
        "id": "GUH4Scq5d5xn"
      },
      "execution_count": 19,
      "outputs": []
    },
    {
      "cell_type": "code",
      "source": [
        "df.info()"
      ],
      "metadata": {
        "colab": {
          "base_uri": "https://localhost:8080/"
        },
        "id": "aFPaLHQtehIc",
        "outputId": "963e7a5a-142e-4fd4-d039-716076c91279"
      },
      "execution_count": 20,
      "outputs": [
        {
          "output_type": "stream",
          "name": "stdout",
          "text": [
            "<class 'pandas.core.frame.DataFrame'>\n",
            "DatetimeIndex: 7904 entries, 1990-01-03 to 2021-12-05\n",
            "Data columns (total 10 columns):\n",
            " #   Column      Non-Null Count  Dtype  \n",
            "---  ------      --------------  -----  \n",
            " 0   Open        7904 non-null   float64\n",
            " 1   High        7904 non-null   float64\n",
            " 2   Low         7904 non-null   float64\n",
            " 3   Close       7904 non-null   float64\n",
            " 4   Adj Close   7904 non-null   float64\n",
            " 5   Volume      7904 non-null   int64  \n",
            " 6   log_price   7904 non-null   float64\n",
            " 7   pct_change  7904 non-null   float64\n",
            " 8   st_dev      7904 non-null   float64\n",
            " 9   Volatility  7904 non-null   float64\n",
            "dtypes: float64(9), int64(1)\n",
            "memory usage: 679.2 KB\n"
          ]
        }
      ]
    },
    {
      "cell_type": "code",
      "source": [
        "# To check if there is null value in any of the column\n",
        "df.isnull().any()"
      ],
      "metadata": {
        "colab": {
          "base_uri": "https://localhost:8080/"
        },
        "id": "zEOex1Ajermx",
        "outputId": "426e8007-81e3-4952-853e-e06427daf4f8"
      },
      "execution_count": 23,
      "outputs": [
        {
          "output_type": "execute_result",
          "data": {
            "text/plain": [
              "Open          False\n",
              "High          False\n",
              "Low           False\n",
              "Close         False\n",
              "Adj Close     False\n",
              "Volume        False\n",
              "log_price     False\n",
              "pct_change    False\n",
              "st_dev        False\n",
              "Volatility    False\n",
              "dtype: bool"
            ]
          },
          "metadata": {},
          "execution_count": 23
        }
      ]
    },
    {
      "cell_type": "code",
      "source": [
        "# Replacing the missing values with df.mean()\n",
        "VI_db.replace([np.inf, -np.inf], np.nan, inplace=True)\n",
        "VI_db.fillna(df.mean(), inplace=True)"
      ],
      "metadata": {
        "id": "HXF8Hi-xiNfD"
      },
      "execution_count": 24,
      "outputs": []
    },
    {
      "cell_type": "code",
      "source": [
        "#Performing the ADF test to identify if the return series is stationary or non-stationary"
      ],
      "metadata": {
        "id": "WLwPrwaEkoah"
      },
      "execution_count": 25,
      "outputs": []
    },
    {
      "cell_type": "code",
      "source": [
        "result = adfuller(df.Volatility)\n",
        "print('ADF Statistic: %f' % result[0])\n",
        "print('p-value: %f' % result[1])\n",
        "print('Critical Values:')\n",
        "for key, value in result[4].items():\n",
        "  print('\\t%s: %.3f' % (key, value))"
      ],
      "metadata": {
        "colab": {
          "base_uri": "https://localhost:8080/"
        },
        "id": "4Ajtkfi8lBzM",
        "outputId": "948988a3-70a5-4f5d-91ad-f97947532219"
      },
      "execution_count": 26,
      "outputs": [
        {
          "output_type": "stream",
          "name": "stdout",
          "text": [
            "ADF Statistic: -8.631603\n",
            "p-value: 0.000000\n",
            "Critical Values:\n",
            "\t1%: -3.431\n",
            "\t5%: -2.862\n",
            "\t10%: -2.567\n"
          ]
        }
      ]
    },
    {
      "cell_type": "code",
      "source": [
        "#Volatility Prediction using Garch(3,1)"
      ],
      "metadata": {
        "id": "uAWjmNMfn_AJ"
      },
      "execution_count": 27,
      "outputs": []
    },
    {
      "cell_type": "code",
      "source": [
        "GARCH_Mod = arch_model(vol, vol='Garch', p=3, o=0, q=1, dist='Normal')"
      ],
      "metadata": {
        "id": "Cho5DuYjoLMl"
      },
      "execution_count": 28,
      "outputs": []
    },
    {
      "cell_type": "code",
      "source": [
        "#GARCH SUMMARY"
      ],
      "metadata": {
        "id": "9_KL6FDyok_v"
      },
      "execution_count": 29,
      "outputs": []
    },
    {
      "cell_type": "code",
      "source": [
        "re = GARCH_Mod = arch_model(vol, vol='Garch', p=3, o=0, q=1, dist='Normal')"
      ],
      "metadata": {
        "id": "QvrCG2DfonPD"
      },
      "execution_count": 30,
      "outputs": []
    },
    {
      "cell_type": "code",
      "source": [
        "#GARCH SUMMARY"
      ],
      "metadata": {
        "id": "4wn4iS1Kp9yK"
      },
      "execution_count": 31,
      "outputs": []
    },
    {
      "cell_type": "code",
      "source": [
        "res = GARCH_Mod.fit(disp='off')\n",
        "display(res.summary())"
      ],
      "metadata": {
        "id": "lt-hqCmoqGK2",
        "outputId": "18976e5b-4826-4bcd-e53c-505e14bbe908",
        "colab": {
          "base_uri": "https://localhost:8080/",
          "height": 451
        }
      },
      "execution_count": 32,
      "outputs": [
        {
          "output_type": "display_data",
          "data": {
            "text/html": [
              "<table class=\"simpletable\">\n",
              "<caption>Constant Mean - GARCH Model Results</caption>\n",
              "<tr>\n",
              "  <th>Dep. Variable:</th>     <td>Volatility</td>     <th>  R-squared:         </th>  <td>   0.000</td> \n",
              "</tr>\n",
              "<tr>\n",
              "  <th>Mean Model:</th>       <td>Constant Mean</td>   <th>  Adj. R-squared:    </th>  <td>   0.000</td> \n",
              "</tr>\n",
              "<tr>\n",
              "  <th>Vol Model:</th>            <td>GARCH</td>       <th>  Log-Likelihood:    </th> <td>  -38027.9</td>\n",
              "</tr>\n",
              "<tr>\n",
              "  <th>Distribution:</th>        <td>Normal</td>       <th>  AIC:               </th> <td>   76067.8</td>\n",
              "</tr>\n",
              "<tr>\n",
              "  <th>Method:</th>        <td>Maximum Likelihood</td> <th>  BIC:               </th> <td>   76109.7</td>\n",
              "</tr>\n",
              "<tr>\n",
              "  <th></th>                        <td></td>          <th>  No. Observations:  </th>    <td>7904</td>   \n",
              "</tr>\n",
              "<tr>\n",
              "  <th>Date:</th>           <td>Fri, Feb 11 2022</td>  <th>  Df Residuals:      </th>    <td>7903</td>   \n",
              "</tr>\n",
              "<tr>\n",
              "  <th>Time:</th>               <td>09:55:39</td>      <th>  Df Model:          </th>      <td>1</td>    \n",
              "</tr>\n",
              "</table>\n",
              "<table class=\"simpletable\">\n",
              "<caption>Mean Model</caption>\n",
              "<tr>\n",
              "   <td></td>     <th>coef</th>     <th>std err</th>      <th>t</th>     <th>P>|t|</th> <th>95.0% Conf. Int.</th> \n",
              "</tr>\n",
              "<tr>\n",
              "  <th>mu</th> <td>   88.8884</td> <td>    0.975</td> <td>   91.129</td> <td>0.000</td> <td>[ 86.977, 90.800]</td>\n",
              "</tr>\n",
              "</table>\n",
              "<table class=\"simpletable\">\n",
              "<caption>Volatility Model</caption>\n",
              "<tr>\n",
              "      <td></td>        <th>coef</th>     <th>std err</th>      <th>t</th>       <th>P>|t|</th>    <th>95.0% Conf. Int.</th>  \n",
              "</tr>\n",
              "<tr>\n",
              "  <th>omega</th>    <td>  110.8323</td> <td>   42.483</td> <td>    2.609</td> <td>9.084e-03</td> <td>[ 27.567,1.941e+02]</td>\n",
              "</tr>\n",
              "<tr>\n",
              "  <th>alpha[1]</th> <td>    0.4793</td> <td>5.058e-02</td> <td>    9.476</td> <td>2.640e-21</td>  <td>[  0.380,  0.578]</td> \n",
              "</tr>\n",
              "<tr>\n",
              "  <th>alpha[2]</th> <td>1.2435e-09</td> <td>    0.101</td> <td>1.235e-08</td> <td>    1.000</td>  <td>[ -0.197,  0.197]</td> \n",
              "</tr>\n",
              "<tr>\n",
              "  <th>alpha[3]</th>   <td>0.0000</td>   <td>8.964e-02</td>   <td>0.000</td>   <td>    1.000</td>  <td>[ -0.176,  0.176]</td> \n",
              "</tr>\n",
              "<tr>\n",
              "  <th>beta[1]</th>  <td>    0.5048</td> <td>    0.175</td> <td>    2.890</td> <td>3.856e-03</td>  <td>[  0.162,  0.847]</td> \n",
              "</tr>\n",
              "</table><br/><br/>Covariance estimator: robust"
            ],
            "text/plain": [
              "<class 'statsmodels.iolib.summary.Summary'>\n",
              "\"\"\"\n",
              "                     Constant Mean - GARCH Model Results                      \n",
              "==============================================================================\n",
              "Dep. Variable:             Volatility   R-squared:                       0.000\n",
              "Mean Model:             Constant Mean   Adj. R-squared:                  0.000\n",
              "Vol Model:                      GARCH   Log-Likelihood:               -38027.9\n",
              "Distribution:                  Normal   AIC:                           76067.8\n",
              "Method:            Maximum Likelihood   BIC:                           76109.7\n",
              "                                        No. Observations:                 7904\n",
              "Date:                Fri, Feb 11 2022   Df Residuals:                     7903\n",
              "Time:                        09:55:39   Df Model:                            1\n",
              "                               Mean Model                               \n",
              "========================================================================\n",
              "                 coef    std err          t      P>|t|  95.0% Conf. Int.\n",
              "------------------------------------------------------------------------\n",
              "mu            88.8884      0.975     91.129      0.000 [ 86.977, 90.800]\n",
              "                             Volatility Model                             \n",
              "==========================================================================\n",
              "                 coef    std err          t      P>|t|    95.0% Conf. Int.\n",
              "--------------------------------------------------------------------------\n",
              "omega        110.8323     42.483      2.609  9.084e-03 [ 27.567,1.941e+02]\n",
              "alpha[1]       0.4793  5.058e-02      9.476  2.640e-21   [  0.380,  0.578]\n",
              "alpha[2]   1.2435e-09      0.101  1.235e-08      1.000   [ -0.197,  0.197]\n",
              "alpha[3]       0.0000  8.964e-02      0.000      1.000   [ -0.176,  0.176]\n",
              "beta[1]        0.5048      0.175      2.890  3.856e-03   [  0.162,  0.847]\n",
              "==========================================================================\n",
              "\n",
              "Covariance estimator: robust\n",
              "\"\"\""
            ]
          },
          "metadata": {}
        }
      ]
    },
    {
      "cell_type": "code",
      "source": [
        "#CREATING FORECASTED VOLATILITY FEATURE\n",
        "# The below is straightforward. i will use the garch function provided by the arch python module to get omega, beta and alpha.\n",
        "#following the formula σ2t=ω+α1a2t−1+β1σ2t−1, i execute the following code. th ecorrect formula for forecast_vol should be:\n",
        "#0.01 * np.sqrt(res.params['omega'] + res.params['alpha[1]'] * res.resid2 + res.conditional_volatility2 * res.params['beta[1]'])"
      ],
      "metadata": {
        "id": "EH84IdN1rceK"
      },
      "execution_count": 33,
      "outputs": []
    },
    {
      "cell_type": "code",
      "source": [
        "df['forecast_vol'] = 0.01 * np.sqrt(res.params['omega'] + res.params['alpha[1]']* res.resid**2 + res.conditional_volatility**2 * res.params['beta[1]'])"
      ],
      "metadata": {
        "id": "J1ohzrOLsTTa"
      },
      "execution_count": 34,
      "outputs": []
    },
    {
      "cell_type": "code",
      "source": [
        "df['Volatility'].head(20)"
      ],
      "metadata": {
        "id": "MltHG3SevDGO",
        "outputId": "209fd286-a194-496c-be69-c89d4ab86f0d",
        "colab": {
          "base_uri": "https://localhost:8080/"
        }
      },
      "execution_count": 35,
      "outputs": [
        {
          "output_type": "execute_result",
          "data": {
            "text/plain": [
              "Date\n",
              "1990-01-03    0.893589\n",
              "1990-01-05    1.334283\n",
              "1990-01-06    0.881965\n",
              "1990-01-08    1.712147\n",
              "1990-01-10    0.947622\n",
              "1990-01-11    0.618401\n",
              "1990-02-03    0.895341\n",
              "1990-02-04    1.017414\n",
              "1990-02-05    1.335973\n",
              "1990-02-07    1.268275\n",
              "1990-02-08    1.723761\n",
              "1990-02-10    0.943967\n",
              "1990-02-11    0.603746\n",
              "1990-02-13    1.072026\n",
              "1990-02-14    1.091692\n",
              "1990-02-15    1.133728\n",
              "1990-02-16    1.136526\n",
              "1990-02-20    1.166584\n",
              "1990-02-21    1.144704\n",
              "1990-02-22    1.157712\n",
              "Name: Volatility, dtype: float64"
            ]
          },
          "metadata": {},
          "execution_count": 35
        }
      ]
    },
    {
      "cell_type": "code",
      "source": [
        "df['forecast_vol'].head(20)"
      ],
      "metadata": {
        "colab": {
          "base_uri": "https://localhost:8080/"
        },
        "id": "W-NzRbbxvJGg",
        "outputId": "b7c9dd22-2346-45cc-cd37-96c82f180c4c"
      },
      "execution_count": 36,
      "outputs": [
        {
          "output_type": "execute_result",
          "data": {
            "text/plain": [
              "Date\n",
              "1990-01-03    0.251570\n",
              "1990-01-05    0.371623\n",
              "1990-01-06    0.284285\n",
              "1990-01-08    0.613758\n",
              "1990-01-10    0.450428\n",
              "1990-01-11    0.385432\n",
              "1990-02-03    0.293414\n",
              "1990-02-04    0.249915\n",
              "1990-02-05    0.372032\n",
              "1990-02-07    0.387209\n",
              "1990-02-08    0.648702\n",
              "1990-02-10    0.474294\n",
              "1990-02-11    0.404476\n",
              "1990-02-13    0.331270\n",
              "1990-02-14    0.293580\n",
              "1990-02-15    0.288653\n",
              "1990-02-16    0.287285\n",
              "1990-02-20    0.299504\n",
              "1990-02-21    0.296188\n",
              "1990-02-22    0.300002\n",
              "Name: forecast_vol, dtype: float64"
            ]
          },
          "metadata": {},
          "execution_count": 36
        }
      ]
    },
    {
      "cell_type": "code",
      "source": [
        "pip install openpyxl"
      ],
      "metadata": {
        "colab": {
          "base_uri": "https://localhost:8080/"
        },
        "id": "mfAwtIVAvdth",
        "outputId": "1c6ae1b1-4aea-44e2-86d7-605411108aba"
      },
      "execution_count": 37,
      "outputs": [
        {
          "output_type": "stream",
          "name": "stdout",
          "text": [
            "Requirement already satisfied: openpyxl in /usr/local/lib/python3.7/dist-packages (3.0.9)\n",
            "Requirement already satisfied: et-xmlfile in /usr/local/lib/python3.7/dist-packages (from openpyxl) (1.1.0)\n"
          ]
        }
      ]
    },
    {
      "cell_type": "code",
      "source": [
        "df['Volatility'].to_excel('g_a.xlsx') #to export actual value of Garch Model"
      ],
      "metadata": {
        "id": "XlWwHOUKvjAv"
      },
      "execution_count": 38,
      "outputs": []
    },
    {
      "cell_type": "code",
      "source": [
        "df['forecast_vol'].to_excel('g_p.xlsx')#to export predicted value of Garch Model"
      ],
      "metadata": {
        "id": "ufJczyGFwJ39"
      },
      "execution_count": 39,
      "outputs": []
    },
    {
      "cell_type": "code",
      "source": [
        "#PLOTTING ACTUAL VOLATILITY VS FORECASTED VOLATILITY"
      ],
      "metadata": {
        "id": "f8-l2Z_OxyfN"
      },
      "execution_count": 40,
      "outputs": []
    },
    {
      "cell_type": "code",
      "source": [
        "plt.figure(figsize=(16,6))\n",
        "df[\"Volatility\"].plot()\n",
        "df[\"forecast_vol\"].plot()\n",
        "plt.title(\"Real Rolling Volatility vs Forecast by GARCH(3,1)\")\n",
        "plt.legend()\n",
        "plt.show()"
      ],
      "metadata": {
        "colab": {
          "base_uri": "https://localhost:8080/",
          "height": 378
        },
        "id": "1ByrFIB8x3Zh",
        "outputId": "3136f006-2c78-400d-b4ab-b6f22bca1169"
      },
      "execution_count": 41,
      "outputs": [
        {
          "output_type": "display_data",
          "data": {
            "image/png": "[encoded data removed]",
            "text/plain": [
              "<Figure size 1152x432 with 1 Axes>"
            ]
          },
          "metadata": {
            "needs_background": "light"
          }
        }
      ]
    },
    {
      "cell_type": "code",
      "source": [
        "#Calculating RMSE value for GARCH Model\n",
        "print('RMSE calculated for GARCH(3,1) model:', np.sqrt(metrics.mean_squared_error(df.loc[df.index[1000:], 'Volatility'], df.loc[df.index[1000:], 'forecast_vol'])))"
      ],
      "metadata": {
        "colab": {
          "base_uri": "https://localhost:8080/"
        },
        "id": "G5JTnOnd2yHH",
        "outputId": "f3b4d92e-cc73-4f1a-cf3d-cf72c56778b4"
      },
      "execution_count": 42,
      "outputs": [
        {
          "output_type": "stream",
          "name": "stdout",
          "text": [
            "RMSE calculated for GARCH(3,1) model: 0.7096122252850938\n"
          ]
        }
      ]
    },
    {
      "cell_type": "code",
      "source": [
        "print('MAE calculated for GARCH(3,1) model:', MAE(df.loc[df.index[1000:], 'Volatility'], df.loc[df.index[1000:], 'forecast_vol']))"
      ],
      "metadata": {
        "colab": {
          "base_uri": "https://localhost:8080/"
        },
        "id": "pdhI_pB2-Gw8",
        "outputId": "0e58fa29-3150-4598-9feb-437dba1e1c03"
      },
      "execution_count": 43,
      "outputs": [
        {
          "output_type": "stream",
          "name": "stdout",
          "text": [
            "MAE calculated for GARCH(3,1) model: 0.6689068286747392\n"
          ]
        }
      ]
    },
    {
      "cell_type": "code",
      "source": [
        "print('MAPE calculated for GARCH:', mean_absolute_percentage_error(df.loc[df.index[1000:], 'Volatility'], df.loc[df.index[1000:], 'forecast_vol' ]))"
      ],
      "metadata": {
        "colab": {
          "base_uri": "https://localhost:8080/"
        },
        "id": "NROC-3DFA_f2",
        "outputId": "39856f50-8b1f-4e30-b5ae-db543231a699"
      },
      "execution_count": 44,
      "outputs": [
        {
          "output_type": "stream",
          "name": "stdout",
          "text": [
            "MAPE calculated for GARCH: 0.6595012286192034\n"
          ]
        }
      ]
    },
    {
      "cell_type": "code",
      "source": [
        "#Volatility Prediction using LSTM"
      ],
      "metadata": {
        "id": "PFCPwZx4EvCZ"
      },
      "execution_count": 45,
      "outputs": []
    },
    {
      "cell_type": "code",
      "source": [
        "training_set = df.iloc[:, 9:10].values\n",
        "X_train = []\n",
        "y_train = []\n",
        "for i in range(100, df.shape[0]):\n",
        "    X_train.append(training_set[i-100:i,0])\n",
        "    y_train.append(training_set[i,0])\n",
        "X_train, y_train = np.array(X_train), np.array(y_train)"
      ],
      "metadata": {
        "id": "SBvOb9IIEzoZ"
      },
      "execution_count": 46,
      "outputs": []
    },
    {
      "cell_type": "code",
      "source": [
        "df.shape"
      ],
      "metadata": {
        "colab": {
          "base_uri": "https://localhost:8080/"
        },
        "id": "oxIx6i73Q7g2",
        "outputId": "b59f858b-16e2-4e74-e458-1cdff544e797"
      },
      "execution_count": 47,
      "outputs": [
        {
          "output_type": "execute_result",
          "data": {
            "text/plain": [
              "(7904, 11)"
            ]
          },
          "metadata": {},
          "execution_count": 47
        }
      ]
    },
    {
      "cell_type": "code",
      "source": [
        "#Preparing X_train for RNN using LSTM"
      ],
      "metadata": {
        "id": "6sdBw2OqRBbk"
      },
      "execution_count": 48,
      "outputs": []
    },
    {
      "cell_type": "code",
      "source": [
        "X_train = np.reshape(X_train, (X_train.shape[0], X_train.shape[1], 1))"
      ],
      "metadata": {
        "id": "17c0AvX6Tkgn"
      },
      "execution_count": 49,
      "outputs": []
    },
    {
      "cell_type": "code",
      "source": [
        "#Creating RNN with LSTM"
      ],
      "metadata": {
        "id": "A_UxHhrcT78q"
      },
      "execution_count": 50,
      "outputs": []
    },
    {
      "cell_type": "code",
      "source": [
        "from keras.wrappers.scikit_learn import KerasRegressor\n",
        "from sklearn.datasets import make_classification\n",
        "from sklearn.preprocessing import LabelBinarizer\n",
        "from sklearn.base import BaseEstimator, ClassifierMixin\n",
        "#Initiliasing the RNN\n",
        "def model():\n",
        "  regressor = Sequential()\n",
        "  regressor.add(LSTM(units=100, return_sequences=True, input_shape=(X_train.shape[1],1)))\n",
        "  regressor.add(Dropout(0.2))\n",
        "  regressor.add(LSTM(units=50, activation = \"selu\", kernel_initializer=\"lecun_normal\", kernel_constraint=keras.constraints.max_norm(1.), return_sequences=True))\n",
        "  regressor.add(Dropout(0.2))\n",
        "  regressor.add(LSTM(units=50,  activation = \"selu\", kernel_initializer=\"lecun_normal\", kernel_constraint=keras.constraints.max_norm(1.)))\n",
        "  regressor.add(Dropout(0.2))\n",
        "  regressor.add(Dense(units=1))\n",
        "  regressor.compile(optimizer='nadam', loss='mean_squared_error', metrics= ['accuracy'])\n",
        "  return regressor\n",
        "\n",
        "  estimator = KerasRegressor(build_fn=model, epochs=50, batch_size=32)\n",
        "  estimator.fit(X_train, y_train, epochs = 50, batch_size = 32)\n",
        "  #regressor = KerasRegressor(build_fn=lstm_model, epochs=50, batch_size=32, verbose=0)\n",
        "  #regressor.fit(X_train, y_train, epochs = 50, batch_size =32)\n",
        "\n",
        "  # Initiliasing the RNN\n",
        " \n"
      ],
      "metadata": {
        "id": "W6xHMxVBVFBX"
      },
      "execution_count": 52,
      "outputs": []
    },
    {
      "cell_type": "code",
      "source": [
        "len(model.get_weights())"
      ],
      "metadata": {
        "colab": {
          "base_uri": "https://localhost:8080/",
          "height": 172
        },
        "id": "XwEdC5UXeBeY",
        "outputId": "139800ae-3a52-4551-9a8b-2d1210adef4b"
      },
      "execution_count": 53,
      "outputs": [
        {
          "output_type": "error",
          "ename": "AttributeError",
          "evalue": "ignored",
          "traceback": [
            "\u001b[0;31m---------------------------------------------------------------------------\u001b[0m",
            "\u001b[0;31mAttributeError\u001b[0m                            Traceback (most recent call last)",
            "\u001b[0;32m<ipython-input-53-12bbd88df854>\u001b[0m in \u001b[0;36m<module>\u001b[0;34m()\u001b[0m\n\u001b[0;32m----> 1\u001b[0;31m \u001b[0mlen\u001b[0m\u001b[0;34m(\u001b[0m\u001b[0mmodel\u001b[0m\u001b[0;34m.\u001b[0m\u001b[0mget_weights\u001b[0m\u001b[0;34m(\u001b[0m\u001b[0;34m)\u001b[0m\u001b[0;34m)\u001b[0m\u001b[0;34m\u001b[0m\u001b[0;34m\u001b[0m\u001b[0m\n\u001b[0m",
            "\u001b[0;31mAttributeError\u001b[0m: 'function' object has no attribute 'get_weights'"
          ]
        }
      ]
    },
    {
      "cell_type": "code",
      "source": [
        "#Grid Search\n",
        "from sklearn.model_selection import GridSearchCV\n",
        "batch_size = [8,16, 32, 48]\n",
        "epochs = [1]\n",
        "param_grid = dict(batch_size=batch_size, epochs=epochs)"
      ],
      "metadata": {
        "id": "ETjsWskReKrA"
      },
      "execution_count": 55,
      "outputs": []
    },
    {
      "cell_type": "code",
      "source": [
        " estimator = KerasRegressor(build_fn=model, epochs=50, batch_size=32)"
      ],
      "metadata": {
        "id": "_VBAYTdcknld"
      },
      "execution_count": 56,
      "outputs": []
    },
    {
      "cell_type": "code",
      "source": [
        "clf1 = GridSearchCV(estimator, param_grid)"
      ],
      "metadata": {
        "id": "J0fVsYbKeuBR"
      },
      "execution_count": 57,
      "outputs": []
    },
    {
      "cell_type": "code",
      "source": [
        "gs = clf1.fit(X_train, y_train)"
      ],
      "metadata": {
        "colab": {
          "base_uri": "https://localhost:8080/"
        },
        "id": "vvqsZ-BYkqrV",
        "outputId": "47770179-7ba1-402f-e5ec-075366e26174"
      },
      "execution_count": 58,
      "outputs": [
        {
          "output_type": "stream",
          "name": "stdout",
          "text": [
            "781/781 [==============================] - 101s 123ms/step - loss: 0.1175 - accuracy: 0.0000e+00\n",
            "196/196 [==============================] - 6s 25ms/step - loss: 0.0447 - accuracy: 0.0000e+00\n",
            "781/781 [==============================] - 103s 126ms/step - loss: 0.1358 - accuracy: 0.0000e+00\n",
            "196/196 [==============================] - 6s 25ms/step - loss: 0.0317 - accuracy: 0.0000e+00\n",
            "781/781 [==============================] - 103s 126ms/step - loss: 0.1126 - accuracy: 0.0000e+00\n",
            "196/196 [==============================] - 6s 25ms/step - loss: 0.1128 - accuracy: 0.0000e+00\n",
            "781/781 [==============================] - 103s 126ms/step - loss: 0.1047 - accuracy: 0.0000e+00\n",
            "196/196 [==============================] - 6s 25ms/step - loss: 0.1072 - accuracy: 0.0000e+00\n",
            "781/781 [==============================] - 103s 126ms/step - loss: 0.0844 - accuracy: 0.0000e+00\n",
            "195/195 [==============================] - 6s 25ms/step - loss: 0.1548 - accuracy: 0.0000e+00\n",
            "391/391 [==============================] - 60s 140ms/step - loss: 0.1293 - accuracy: 0.0000e+00\n",
            "98/98 [==============================] - 4s 32ms/step - loss: 0.0461 - accuracy: 0.0000e+00\n",
            "391/391 [==============================] - 59s 139ms/step - loss: 0.1368 - accuracy: 0.0000e+00\n",
            "98/98 [==============================] - 4s 32ms/step - loss: 0.0372 - accuracy: 0.0000e+00\n",
            "391/391 [==============================] - 60s 140ms/step - loss: 0.1200 - accuracy: 0.0000e+00\n",
            "98/98 [==============================] - 4s 32ms/step - loss: 0.2453 - accuracy: 0.0000e+00\n",
            "391/391 [==============================] - 60s 139ms/step - loss: 0.1092 - accuracy: 0.0000e+00\n",
            "98/98 [==============================] - 4s 32ms/step - loss: 0.0861 - accuracy: 0.0000e+00\n",
            "391/391 [==============================] - 59s 138ms/step - loss: 0.0884 - accuracy: 0.0000e+00\n",
            "98/98 [==============================] - 4s 31ms/step - loss: 0.1558 - accuracy: 0.0000e+00\n",
            "196/196 [==============================] - 38s 165ms/step - loss: 0.1478 - accuracy: 0.0000e+00\n",
            "49/49 [==============================] - 3s 45ms/step - loss: 0.1448 - accuracy: 0.0000e+00\n",
            "196/196 [==============================] - 37s 166ms/step - loss: 0.1402 - accuracy: 0.0000e+00\n",
            "49/49 [==============================] - 3s 44ms/step - loss: 0.0735 - accuracy: 0.0000e+00\n",
            "196/196 [==============================] - 38s 166ms/step - loss: 0.1284 - accuracy: 0.0000e+00\n",
            "49/49 [==============================] - 3s 45ms/step - loss: 0.0766 - accuracy: 0.0000e+00\n",
            "196/196 [==============================] - 38s 166ms/step - loss: 0.1139 - accuracy: 0.0000e+00\n",
            "49/49 [==============================] - 3s 46ms/step - loss: 0.0920 - accuracy: 0.0000e+00\n",
            "196/196 [==============================] - 37s 165ms/step - loss: 0.1144 - accuracy: 0.0000e+00\n",
            "49/49 [==============================] - 3s 45ms/step - loss: 0.1981 - accuracy: 0.0000e+00\n",
            "131/131 [==============================] - 31s 195ms/step - loss: 0.1437 - accuracy: 0.0000e+00\n",
            "33/33 [==============================] - 3s 59ms/step - loss: 0.3533 - accuracy: 0.0000e+00\n",
            "131/131 [==============================] - 30s 194ms/step - loss: 0.1432 - accuracy: 0.0000e+00\n",
            "33/33 [==============================] - 3s 60ms/step - loss: 0.0356 - accuracy: 0.0000e+00\n",
            "131/131 [==============================] - 31s 194ms/step - loss: 0.1339 - accuracy: 0.0000e+00\n",
            "33/33 [==============================] - 3s 59ms/step - loss: 0.0778 - accuracy: 0.0000e+00\n",
            "131/131 [==============================] - 30s 195ms/step - loss: 0.1327 - accuracy: 0.0000e+00\n",
            "33/33 [==============================] - 3s 59ms/step - loss: 0.1125 - accuracy: 0.0000e+00\n",
            "131/131 [==============================] - 31s 195ms/step - loss: 0.1139 - accuracy: 0.0000e+00\n",
            "33/33 [==============================] - 3s 60ms/step - loss: 0.1932 - accuracy: 0.0000e+00\n",
            "976/976 [==============================] - 127s 125ms/step - loss: 0.1065 - accuracy: 0.0000e+00\n"
          ]
        }
      ]
    },
    {
      "cell_type": "code",
      "source": [
        "gs.get_params()"
      ],
      "metadata": {
        "colab": {
          "base_uri": "https://localhost:8080/"
        },
        "id": "V4RnxVqK2-bC",
        "outputId": "789b031b-3682-44ed-c667-fc6dd4bf9349"
      },
      "execution_count": 59,
      "outputs": [
        {
          "output_type": "execute_result",
          "data": {
            "text/plain": [
              "{'cv': None,\n",
              " 'error_score': nan,\n",
              " 'estimator': <keras.wrappers.scikit_learn.KerasRegressor at 0x7f88d14f5a90>,\n",
              " 'estimator__batch_size': 32,\n",
              " 'estimator__build_fn': <function __main__.model>,\n",
              " 'estimator__epochs': 50,\n",
              " 'n_jobs': None,\n",
              " 'param_grid': {'batch_size': [8, 16, 32, 48], 'epochs': [1]},\n",
              " 'pre_dispatch': '2*n_jobs',\n",
              " 'refit': True,\n",
              " 'return_train_score': False,\n",
              " 'scoring': None,\n",
              " 'verbose': 0}"
            ]
          },
          "metadata": {},
          "execution_count": 59
        }
      ]
    },
    {
      "cell_type": "code",
      "source": [
        " estimator = KerasRegressor(build_fn=model, epochs=50, batch_size=32)"
      ],
      "metadata": {
        "id": "dL4aIJHZ-LY4"
      },
      "execution_count": 60,
      "outputs": []
    },
    {
      "cell_type": "code",
      "source": [
        "#regressor.evaluate(X_train, y_train, verbose=0, batch_size = 32)\n",
        "gs.score(X_train, y_train)"
      ],
      "metadata": {
        "colab": {
          "base_uri": "https://localhost:8080/"
        },
        "id": "dJ39YYJm6YMR",
        "outputId": "07f2f399-8a5b-4610-f7a3-f9ba99bd5724"
      },
      "execution_count": 61,
      "outputs": [
        {
          "output_type": "stream",
          "name": "stdout",
          "text": [
            "976/976 [==============================] - 25s 25ms/step - loss: 0.0739 - accuracy: 0.0000e+00\n"
          ]
        },
        {
          "output_type": "execute_result",
          "data": {
            "text/plain": [
              "-0.0739220380783081"
            ]
          },
          "metadata": {},
          "execution_count": 61
        }
      ]
    },
    {
      "cell_type": "code",
      "source": [
        "from sklearn.model_selection import GridSearchCV"
      ],
      "metadata": {
        "id": "hbq9LUP5Mt5T"
      },
      "execution_count": 62,
      "outputs": []
    },
    {
      "cell_type": "code",
      "source": [
        "gs.save('Volatility_VI.h5')"
      ],
      "metadata": {
        "colab": {
          "base_uri": "https://localhost:8080/",
          "height": 172
        },
        "id": "SU5hQOsV-GKo",
        "outputId": "a0200eed-e2f1-4cb9-ac3b-094a24acd7ed"
      },
      "execution_count": 65,
      "outputs": [
        {
          "output_type": "error",
          "ename": "AttributeError",
          "evalue": "ignored",
          "traceback": [
            "\u001b[0;31m---------------------------------------------------------------------------\u001b[0m",
            "\u001b[0;31mAttributeError\u001b[0m                            Traceback (most recent call last)",
            "\u001b[0;32m<ipython-input-65-5f625edd7535>\u001b[0m in \u001b[0;36m<module>\u001b[0;34m()\u001b[0m\n\u001b[0;32m----> 1\u001b[0;31m \u001b[0mgs\u001b[0m\u001b[0;34m.\u001b[0m\u001b[0msave\u001b[0m\u001b[0;34m(\u001b[0m\u001b[0;34m'Volatility_VI.h5'\u001b[0m\u001b[0;34m)\u001b[0m\u001b[0;34m\u001b[0m\u001b[0;34m\u001b[0m\u001b[0m\n\u001b[0m",
            "\u001b[0;31mAttributeError\u001b[0m: 'GridSearchCV' object has no attribute 'save'"
          ]
        }
      ]
    },
    {
      "cell_type": "code",
      "source": [
        ""
      ],
      "metadata": {
        "id": "PThu8gO4NNGq"
      },
      "execution_count": null,
      "outputs": []
    },
    {
      "cell_type": "code",
      "source": [
        "predicted_vol = gs.predict(X_train)"
      ],
      "metadata": {
        "id": "Sm4aQkV88XBg"
      },
      "execution_count": 66,
      "outputs": []
    },
    {
      "cell_type": "code",
      "source": [
        "p_d = pd.DataFrame(df.iloc[100:, 9:10].values)"
      ],
      "metadata": {
        "id": "ZyYuzIgWOhL6"
      },
      "execution_count": 67,
      "outputs": []
    },
    {
      "cell_type": "code",
      "source": [
        "p_d.head(20)"
      ],
      "metadata": {
        "colab": {
          "base_uri": "https://localhost:8080/",
          "height": 676
        },
        "id": "LnK7zx23OqG-",
        "outputId": "eecd2365-5548-4104-b2ba-4e1479be71bc"
      },
      "execution_count": null,
      "outputs": [
        {
          "output_type": "execute_result",
          "data": {
            "text/html": [
              "\n",
              "  <div id=\"df-bf50ebbe-6fd1-4129-b5ae-38476d4d1b2b\">\n",
              "    <div class=\"colab-df-container\">\n",
              "      <div>\n",
              "<style scoped>\n",
              "    .dataframe tbody tr th:only-of-type {\n",
              "        vertical-align: middle;\n",
              "    }\n",
              "\n",
              "    .dataframe tbody tr th {\n",
              "        vertical-align: top;\n",
              "    }\n",
              "\n",
              "    .dataframe thead th {\n",
              "        text-align: right;\n",
              "    }\n",
              "</style>\n",
              "<table border=\"1\" class=\"dataframe\">\n",
              "  <thead>\n",
              "    <tr style=\"text-align: right;\">\n",
              "      <th></th>\n",
              "      <th>0</th>\n",
              "    </tr>\n",
              "  </thead>\n",
              "  <tbody>\n",
              "    <tr>\n",
              "      <th>0</th>\n",
              "      <td>1.283156</td>\n",
              "    </tr>\n",
              "    <tr>\n",
              "      <th>1</th>\n",
              "      <td>1.255701</td>\n",
              "    </tr>\n",
              "    <tr>\n",
              "      <th>2</th>\n",
              "      <td>1.259477</td>\n",
              "    </tr>\n",
              "    <tr>\n",
              "      <th>3</th>\n",
              "      <td>0.724509</td>\n",
              "    </tr>\n",
              "    <tr>\n",
              "      <th>4</th>\n",
              "      <td>1.262567</td>\n",
              "    </tr>\n",
              "    <tr>\n",
              "      <th>5</th>\n",
              "      <td>0.881149</td>\n",
              "    </tr>\n",
              "    <tr>\n",
              "      <th>6</th>\n",
              "      <td>1.893820</td>\n",
              "    </tr>\n",
              "    <tr>\n",
              "      <th>7</th>\n",
              "      <td>1.712935</td>\n",
              "    </tr>\n",
              "    <tr>\n",
              "      <th>8</th>\n",
              "      <td>0.600804</td>\n",
              "    </tr>\n",
              "    <tr>\n",
              "      <th>9</th>\n",
              "      <td>0.751765</td>\n",
              "    </tr>\n",
              "    <tr>\n",
              "      <th>10</th>\n",
              "      <td>1.230687</td>\n",
              "    </tr>\n",
              "    <tr>\n",
              "      <th>11</th>\n",
              "      <td>1.231164</td>\n",
              "    </tr>\n",
              "    <tr>\n",
              "      <th>12</th>\n",
              "      <td>1.211033</td>\n",
              "    </tr>\n",
              "    <tr>\n",
              "      <th>13</th>\n",
              "      <td>1.264648</td>\n",
              "    </tr>\n",
              "    <tr>\n",
              "      <th>14</th>\n",
              "      <td>1.240121</td>\n",
              "    </tr>\n",
              "    <tr>\n",
              "      <th>15</th>\n",
              "      <td>1.336136</td>\n",
              "    </tr>\n",
              "    <tr>\n",
              "      <th>16</th>\n",
              "      <td>1.801851</td>\n",
              "    </tr>\n",
              "    <tr>\n",
              "      <th>17</th>\n",
              "      <td>1.806101</td>\n",
              "    </tr>\n",
              "    <tr>\n",
              "      <th>18</th>\n",
              "      <td>1.822984</td>\n",
              "    </tr>\n",
              "    <tr>\n",
              "      <th>19</th>\n",
              "      <td>1.819161</td>\n",
              "    </tr>\n",
              "  </tbody>\n",
              "</table>\n",
              "</div>\n",
              "      <button class=\"colab-df-convert\" onclick=\"convertToInteractive('df-bf50ebbe-6fd1-4129-b5ae-38476d4d1b2b')\"\n",
              "              title=\"Convert this dataframe to an interactive table.\"\n",
              "              style=\"display:none;\">\n",
              "        \n",
              "  <svg xmlns=\"http://www.w3.org/2000/svg\" height=\"24px\"viewBox=\"0 0 24 24\"\n",
              "       width=\"24px\">\n",
              "    <path d=\"M0 0h24v24H0V0z\" fill=\"none\"/>\n",
              "    <path d=\"M18.56 5.44l.94 2.06.94-2.06 2.06-.94-2.06-.94-.94-2.06-.94 2.06-2.06.94zm-11 1L8.5 8.5l.94-2.06 2.06-.94-2.06-.94L8.5 2.5l-.94 2.06-2.06.94zm10 10l.94 2.06.94-2.06 2.06-.94-2.06-.94-.94-2.06-.94 2.06-2.06.94z\"/><path d=\"M17.41 7.96l-1.37-1.37c-.4-.4-.92-.59-1.43-.59-.52 0-1.04.2-1.43.59L10.3 9.45l-7.72 7.72c-.78.78-.78 2.05 0 2.83L4 21.41c.39.39.9.59 1.41.59.51 0 1.02-.2 1.41-.59l7.78-7.78 2.81-2.81c.8-.78.8-2.07 0-2.86zM5.41 20L4 18.59l7.72-7.72 1.47 1.35L5.41 20z\"/>\n",
              "  </svg>\n",
              "      </button>\n",
              "      \n",
              "  <style>\n",
              "    .colab-df-container {\n",
              "      display:flex;\n",
              "      flex-wrap:wrap;\n",
              "      gap: 12px;\n",
              "    }\n",
              "\n",
              "    .colab-df-convert {\n",
              "      background-color: #E8F0FE;\n",
              "      border: none;\n",
              "      border-radius: 50%;\n",
              "      cursor: pointer;\n",
              "      display: none;\n",
              "      fill: #1967D2;\n",
              "      height: 32px;\n",
              "      padding: 0 0 0 0;\n",
              "      width: 32px;\n",
              "    }\n",
              "\n",
              "    .colab-df-convert:hover {\n",
              "      background-color: #E2EBFA;\n",
              "      box-shadow: 0px 1px 2px rgba(60, 64, 67, 0.3), 0px 1px 3px 1px rgba(60, 64, 67, 0.15);\n",
              "      fill: #174EA6;\n",
              "    }\n",
              "\n",
              "    [theme=dark] .colab-df-convert {\n",
              "      background-color: #3B4455;\n",
              "      fill: #D2E3FC;\n",
              "    }\n",
              "\n",
              "    [theme=dark] .colab-df-convert:hover {\n",
              "      background-color: #434B5C;\n",
              "      box-shadow: 0px 1px 3px 1px rgba(0, 0, 0, 0.15);\n",
              "      filter: drop-shadow(0px 1px 2px rgba(0, 0, 0, 0.3));\n",
              "      fill: #FFFFFF;\n",
              "    }\n",
              "  </style>\n",
              "\n",
              "      <script>\n",
              "        const buttonEl =\n",
              "          document.querySelector('#df-bf50ebbe-6fd1-4129-b5ae-38476d4d1b2b button.colab-df-convert');\n",
              "        buttonEl.style.display =\n",
              "          google.colab.kernel.accessAllowed ? 'block' : 'none';\n",
              "\n",
              "        async function convertToInteractive(key) {\n",
              "          const element = document.querySelector('#df-bf50ebbe-6fd1-4129-b5ae-38476d4d1b2b');\n",
              "          const dataTable =\n",
              "            await google.colab.kernel.invokeFunction('convertToInteractive',\n",
              "                                                     [key], {});\n",
              "          if (!dataTable) return;\n",
              "\n",
              "          const docLinkHtml = 'Like what you see? Visit the ' +\n",
              "            '<a target=\"_blank\" href=https://colab.research.google.com/notebooks/data_table.ipynb>data table notebook</a>'\n",
              "            + ' to learn more about interactive tables.';\n",
              "          element.innerHTML = '';\n",
              "          dataTable['output_type'] = 'display_data';\n",
              "          await google.colab.output.renderOutput(dataTable, element);\n",
              "          const docLink = document.createElement('div');\n",
              "          docLink.innerHTML = docLinkHtml;\n",
              "          element.appendChild(docLink);\n",
              "        }\n",
              "      </script>\n",
              "    </div>\n",
              "  </div>\n",
              "  "
            ],
            "text/plain": [
              "           0\n",
              "0   1.283156\n",
              "1   1.255701\n",
              "2   1.259477\n",
              "3   0.724509\n",
              "4   1.262567\n",
              "5   0.881149\n",
              "6   1.893820\n",
              "7   1.712935\n",
              "8   0.600804\n",
              "9   0.751765\n",
              "10  1.230687\n",
              "11  1.231164\n",
              "12  1.211033\n",
              "13  1.264648\n",
              "14  1.240121\n",
              "15  1.336136\n",
              "16  1.801851\n",
              "17  1.806101\n",
              "18  1.822984\n",
              "19  1.819161"
            ]
          },
          "metadata": {},
          "execution_count": 67
        }
      ]
    },
    {
      "cell_type": "code",
      "source": [
        "p_d.to_excel('lst_a.xlsx') #print actual value"
      ],
      "metadata": {
        "id": "OKqKF1s3O0sd"
      },
      "execution_count": 68,
      "outputs": []
    },
    {
      "cell_type": "code",
      "source": [
        "p_d_2=pd.DataFrame(predicted_vol)"
      ],
      "metadata": {
        "id": "TXOp4x75O9ES"
      },
      "execution_count": 69,
      "outputs": []
    },
    {
      "cell_type": "code",
      "source": [
        "p_d_2.to_excel('lst_p.xlsx') # print predicted value"
      ],
      "metadata": {
        "id": "Wm1lD-7YPD7Y"
      },
      "execution_count": 70,
      "outputs": []
    },
    {
      "cell_type": "code",
      "source": [
        "plt.scatter(p_d, p_d_2)"
      ],
      "metadata": {
        "colab": {
          "base_uri": "https://localhost:8080/",
          "height": 283
        },
        "id": "2tU2rOkzPNr0",
        "outputId": "00660ca1-f3c1-458e-9f45-c17b1ed6697c"
      },
      "execution_count": 71,
      "outputs": [
        {
          "output_type": "execute_result",
          "data": {
            "text/plain": [
              "<matplotlib.collections.PathCollection at 0x7f88cdd0c950>"
            ]
          },
          "metadata": {},
          "execution_count": 71
        },
        {
          "output_type": "display_data",
          "data": {
            "image/png": "[encoded data removed]",
            "text/plain": [
              "<Figure size 432x288 with 1 Axes>"
            ]
          },
          "metadata": {
            "needs_background": "light"
          }
        }
      ]
    },
    {
      "cell_type": "code",
      "source": [
        "#Visualising the results\n",
        "plt.figure(figsize=(16,6))\n",
        "plt.plot(df.iloc[100:, 9:10].values, color = 'red', label = 'Volatility Observed')\n",
        "plt.plot(predicted_vol, color = 'green', label = 'LSTM Predicted Volatility')\n",
        "plt.title('Volatility Real Rolling vs LSTM Forecast')\n",
        "plt.xlabel('Time')\n",
        "plt.ylabel('Volatility')\n",
        "plt.legend()\n",
        "plt.show()"
      ],
      "metadata": {
        "colab": {
          "base_uri": "https://localhost:8080/",
          "height": 393
        },
        "id": "WzxcRmsMPTh9",
        "outputId": "c452ef6e-5f6c-405a-83de-50ab74a1f858"
      },
      "execution_count": 72,
      "outputs": [
        {
          "output_type": "display_data",
          "data": {
            "image/png": "[encoded data removed]",
            "text/plain": [
              "<Figure size 1152x432 with 1 Axes>"
            ]
          },
          "metadata": {
            "needs_background": "light"
          }
        }
      ]
    },
    {
      "cell_type": "code",
      "source": [
        "gs.score(X_train, y_train)"
      ],
      "metadata": {
        "colab": {
          "base_uri": "https://localhost:8080/"
        },
        "id": "I-tSqSQvSDAU",
        "outputId": "4779695f-6630-4e4b-ae43-c78f0e0fcd49"
      },
      "execution_count": 73,
      "outputs": [
        {
          "output_type": "stream",
          "name": "stdout",
          "text": [
            "976/976 [==============================] - 29s 29ms/step - loss: 0.0739 - accuracy: 0.0000e+00\n"
          ]
        },
        {
          "output_type": "execute_result",
          "data": {
            "text/plain": [
              "-0.0739220380783081"
            ]
          },
          "metadata": {},
          "execution_count": 73
        }
      ]
    },
    {
      "cell_type": "code",
      "source": [
        "gs.score(df.iloc[100:, 9:10], predicted_vol)\n"
      ],
      "metadata": {
        "colab": {
          "base_uri": "https://localhost:8080/"
        },
        "id": "OFvKpSrfSSYy",
        "outputId": "351f1b79-f03b-47a0-f58f-375a1166d429"
      },
      "execution_count": 74,
      "outputs": [
        {
          "output_type": "stream",
          "name": "stdout",
          "text": [
            "WARNING:tensorflow:Model was constructed with shape (None, 100, 1) for input KerasTensor(type_spec=TensorSpec(shape=(None, 100, 1), dtype=tf.float32, name='lstm_60_input'), name='lstm_60_input', description=\"created by layer 'lstm_60_input'\"), but it was called on an input with incompatible shape (None, 1, 1).\n",
            "976/976 [==============================] - 3s 3ms/step - loss: 0.7886 - accuracy: 0.0000e+00\n"
          ]
        },
        {
          "output_type": "execute_result",
          "data": {
            "text/plain": [
              "-0.7885988354682922"
            ]
          },
          "metadata": {},
          "execution_count": 74
        }
      ]
    },
    {
      "cell_type": "code",
      "source": [
        "print('RMSE calculated for LSTM model:', np.sqrt(metrics.mean_squared_error(df.iloc[100:, 9:10].values, predicted_vol)))"
      ],
      "metadata": {
        "colab": {
          "base_uri": "https://localhost:8080/"
        },
        "id": "H7V0HfLgS7Ug",
        "outputId": "77f633e8-b2e7-47bc-b20d-841a23a3ddba"
      },
      "execution_count": 75,
      "outputs": [
        {
          "output_type": "stream",
          "name": "stdout",
          "text": [
            "RMSE calculated for LSTM model: 0.2718861425856857\n"
          ]
        }
      ]
    },
    {
      "cell_type": "code",
      "source": [
        "print('MAE calculated for LSTM model:', MAE(df.iloc[100:,9:10].values, predicted_vol))"
      ],
      "metadata": {
        "colab": {
          "base_uri": "https://localhost:8080/"
        },
        "id": "534C1tTTUGDK",
        "outputId": "845760a2-1755-41a1-a7a0-f835d32786eb"
      },
      "execution_count": 76,
      "outputs": [
        {
          "output_type": "stream",
          "name": "stdout",
          "text": [
            "MAE calculated for LSTM model: 0.18350163552589888\n"
          ]
        }
      ]
    },
    {
      "cell_type": "code",
      "source": [
        "print('MAPE calculated for LSTM model:', mean_absolute_percentage_error(df.iloc[100:, 9:10], predicted_vol))"
      ],
      "metadata": {
        "colab": {
          "base_uri": "https://localhost:8080/"
        },
        "id": "BHkZXqyoUUJh",
        "outputId": "b545a6c1-d568-42b5-83eb-8909c61c6985"
      },
      "execution_count": 77,
      "outputs": [
        {
          "output_type": "stream",
          "name": "stdout",
          "text": [
            "MAPE calculated for LSTM model: 0.19126352013478892\n"
          ]
        }
      ]
    },
    {
      "cell_type": "code",
      "source": [
        "#Volatility Prediction using Monte Carlo Simulation"
      ],
      "metadata": {
        "id": "_Yk71Imu_kat"
      },
      "execution_count": 78,
      "outputs": []
    },
    {
      "cell_type": "code",
      "source": [
        "returns_M=df['Volatility']"
      ],
      "metadata": {
        "id": "bljZUFiBrHPa"
      },
      "execution_count": 79,
      "outputs": []
    },
    {
      "cell_type": "code",
      "source": [
        "last_Close = df.Volatility[-1]"
      ],
      "metadata": {
        "id": "0J7b_gWGrSQp"
      },
      "execution_count": 80,
      "outputs": []
    },
    {
      "cell_type": "code",
      "source": [
        "# Number of Simulations"
      ],
      "metadata": {
        "id": "SHcmHAZ2rXwp"
      },
      "execution_count": null,
      "outputs": []
    },
    {
      "cell_type": "code",
      "source": [
        "num_simulations = 100000\n",
        "num_days = 252"
      ],
      "metadata": {
        "id": "Bt7WoA3er2NZ"
      },
      "execution_count": 83,
      "outputs": []
    },
    {
      "cell_type": "code",
      "source": [
        "#from scipy.stats import levy"
      ],
      "metadata": {
        "id": "DGPnl00xr7G3"
      },
      "execution_count": 84,
      "outputs": []
    },
    {
      "cell_type": "code",
      "source": [
        "simulation_df = pd.DataFrame()\n",
        "for x in range(num_simulations):\n",
        "    count = 0\n",
        "    daily_vol = returns_M.std()\n",
        "    \n",
        "    price_series = []\n",
        "    ## try different distributions\n",
        "    price = last_Close * (1 + np.random.normal(0, daily_vol))\n",
        "    price_series.append(price)\n",
        "    \n",
        "    for y in range(num_days):\n",
        "        if count == 251:\n",
        "            break\n",
        "        price = price_series[count] * (1 + np.random.normal(0, daily_vol))\n",
        "        price_series.append(price)\n",
        "        count += 1\n",
        "    \n",
        "    simulation_df[x] = price_series\n",
        "\n"
      ],
      "metadata": {
        "id": "PkBbydH1sF9W"
      },
      "execution_count": 85,
      "outputs": []
    },
    {
      "cell_type": "code",
      "source": [
        "MC_a=df['Volatility'].head(252)"
      ],
      "metadata": {
        "id": "JCEBgqY50knO"
      },
      "execution_count": 86,
      "outputs": []
    },
    {
      "cell_type": "code",
      "source": [
        "MC_a.to_excel('MC_a.xlsx') # to export actual values of MC Model"
      ],
      "metadata": {
        "id": "nMKPBQnX09YU"
      },
      "execution_count": 87,
      "outputs": []
    },
    {
      "cell_type": "code",
      "source": [
        "simulation_df.to_excel('MC.xlsx') #for top 252 days predicted value using MC"
      ],
      "metadata": {
        "id": "ki7IizoM1FbA",
        "colab": {
          "base_uri": "https://localhost:8080/",
          "height": 343
        },
        "outputId": "58936e99-a69e-4f48-f785-c8ab66a61d39"
      },
      "execution_count": 88,
      "outputs": [
        {
          "output_type": "error",
          "ename": "ValueError",
          "evalue": "ignored",
          "traceback": [
            "\u001b[0;31m---------------------------------------------------------------------------\u001b[0m",
            "\u001b[0;31mValueError\u001b[0m                                Traceback (most recent call last)",
            "\u001b[0;32m<ipython-input-88-0859caf3415b>\u001b[0m in \u001b[0;36m<module>\u001b[0;34m()\u001b[0m\n\u001b[0;32m----> 1\u001b[0;31m \u001b[0msimulation_df\u001b[0m\u001b[0;34m.\u001b[0m\u001b[0mto_excel\u001b[0m\u001b[0;34m(\u001b[0m\u001b[0;34m'MC.xlsx'\u001b[0m\u001b[0;34m)\u001b[0m \u001b[0;31m#for top 252 days predicted value using MC\u001b[0m\u001b[0;34m\u001b[0m\u001b[0;34m\u001b[0m\u001b[0m\n\u001b[0m",
            "\u001b[0;32m/usr/local/lib/python3.7/dist-packages/pandas/core/generic.py\u001b[0m in \u001b[0;36mto_excel\u001b[0;34m(self, excel_writer, sheet_name, na_rep, float_format, columns, header, index, index_label, startrow, startcol, engine, merge_cells, encoding, inf_rep, verbose, freeze_panes, storage_options)\u001b[0m\n\u001b[1;32m   2289\u001b[0m             \u001b[0mfreeze_panes\u001b[0m\u001b[0;34m=\u001b[0m\u001b[0mfreeze_panes\u001b[0m\u001b[0;34m,\u001b[0m\u001b[0;34m\u001b[0m\u001b[0;34m\u001b[0m\u001b[0m\n\u001b[1;32m   2290\u001b[0m             \u001b[0mengine\u001b[0m\u001b[0;34m=\u001b[0m\u001b[0mengine\u001b[0m\u001b[0;34m,\u001b[0m\u001b[0;34m\u001b[0m\u001b[0;34m\u001b[0m\u001b[0m\n\u001b[0;32m-> 2291\u001b[0;31m             \u001b[0mstorage_options\u001b[0m\u001b[0;34m=\u001b[0m\u001b[0mstorage_options\u001b[0m\u001b[0;34m,\u001b[0m\u001b[0;34m\u001b[0m\u001b[0;34m\u001b[0m\u001b[0m\n\u001b[0m\u001b[1;32m   2292\u001b[0m         )\n\u001b[1;32m   2293\u001b[0m \u001b[0;34m\u001b[0m\u001b[0m\n",
            "\u001b[0;32m/usr/local/lib/python3.7/dist-packages/pandas/io/formats/excel.py\u001b[0m in \u001b[0;36mwrite\u001b[0;34m(self, writer, sheet_name, startrow, startcol, freeze_panes, engine, storage_options)\u001b[0m\n\u001b[1;32m    822\u001b[0m         \u001b[0;32mif\u001b[0m \u001b[0mnum_rows\u001b[0m \u001b[0;34m>\u001b[0m \u001b[0mself\u001b[0m\u001b[0;34m.\u001b[0m\u001b[0mmax_rows\u001b[0m \u001b[0;32mor\u001b[0m \u001b[0mnum_cols\u001b[0m \u001b[0;34m>\u001b[0m \u001b[0mself\u001b[0m\u001b[0;34m.\u001b[0m\u001b[0mmax_cols\u001b[0m\u001b[0;34m:\u001b[0m\u001b[0;34m\u001b[0m\u001b[0;34m\u001b[0m\u001b[0m\n\u001b[1;32m    823\u001b[0m             raise ValueError(\n\u001b[0;32m--> 824\u001b[0;31m                 \u001b[0;34mf\"This sheet is too large! Your sheet size is: {num_rows}, {num_cols} \"\u001b[0m\u001b[0;34m\u001b[0m\u001b[0;34m\u001b[0m\u001b[0m\n\u001b[0m\u001b[1;32m    825\u001b[0m                 \u001b[0;34mf\"Max sheet size is: {self.max_rows}, {self.max_cols}\"\u001b[0m\u001b[0;34m\u001b[0m\u001b[0;34m\u001b[0m\u001b[0m\n\u001b[1;32m    826\u001b[0m             )\n",
            "\u001b[0;31mValueError\u001b[0m: This sheet is too large! Your sheet size is: 252, 100000 Max sheet size is: 1048576, 16384"
          ]
        }
      ]
    },
    {
      "cell_type": "code",
      "source": [
        "#plotting Monte Carlo Volatility"
      ],
      "metadata": {
        "id": "95CCYOF21P4C"
      },
      "execution_count": null,
      "outputs": []
    },
    {
      "cell_type": "code",
      "source": [
        "fig = plt.figure(figsize=(30,9))\n",
        "fig.suptitle('Monte Carlo Simulation')\n",
        "plt.plot(simulation_df)\n",
        "plt.axhline(y = last_Close, color = 'r', linestyle = '-')\n",
        "plt.xlabel('Day')\n",
        "plt.ylabel('Price')\n",
        "plt.show()"
      ],
      "metadata": {
        "id": "V3iJEXXW1bma",
        "outputId": "8069ec42-cf14-4026-d8d8-cdaa2bf43a2b",
        "colab": {
          "base_uri": "https://localhost:8080/",
          "height": 334
        }
      },
      "execution_count": null,
      "outputs": [
        {
          "output_type": "display_data",
          "data": {
            "image/png": "[encoded data removed]",
            "text/plain": [
              "<Figure size 2160x648 with 1 Axes>"
            ]
          },
          "metadata": {
            "needs_background": "light"
          }
        }
      ]
    },
    {
      "cell_type": "code",
      "source": [
        "print('RMSE calculated for MC model:', np.sqrt(metrics.mean_squared_error(df.iloc[0:252:, 9:10].values,  simulation_df[0])))"
      ],
      "metadata": {
        "id": "y6SylAvW2sDF",
        "outputId": "48da08b4-efe0-4eae-d108-07e8d1778da7",
        "colab": {
          "base_uri": "https://localhost:8080/"
        }
      },
      "execution_count": 89,
      "outputs": [
        {
          "output_type": "stream",
          "name": "stdout",
          "text": [
            "RMSE calculated for MC model: 1.1400996382040385\n"
          ]
        }
      ]
    },
    {
      "cell_type": "code",
      "source": [
        "print('MAE calculated for MC model:',MAE(df.iloc[0:252, 9:10].values, simulation_df[0]))"
      ],
      "metadata": {
        "id": "BRCPRFBORuAt",
        "outputId": "ed8d24cb-6cfd-4d08-b83a-4041310d6d8a",
        "colab": {
          "base_uri": "https://localhost:8080/"
        }
      },
      "execution_count": 90,
      "outputs": [
        {
          "output_type": "stream",
          "name": "stdout",
          "text": [
            "MAE calculated for MC model: 1.0563262855952582\n"
          ]
        }
      ]
    },
    {
      "cell_type": "code",
      "source": [
        "print('MAPE calculated for MC model:',mean_absolute_percentage_error(df.iloc[0:252, 9:10].values, simulation_df[0]))"
      ],
      "metadata": {
        "id": "o5C8VEtrRwIy",
        "outputId": "61d78eb3-95cf-44f8-cd81-879a2d51ca1b",
        "colab": {
          "base_uri": "https://localhost:8080/"
        }
      },
      "execution_count": 91,
      "outputs": [
        {
          "output_type": "stream",
          "name": "stdout",
          "text": [
            "MAPE calculated for MC model: 0.9656985968745695\n"
          ]
        }
      ]
    },
    {
      "cell_type": "code",
      "source": [
        "#Volatility Prediction Using SVM"
      ],
      "metadata": {
        "id": "pK_d4ksVRy8a"
      },
      "execution_count": null,
      "outputs": []
    },
    {
      "cell_type": "code",
      "source": [
        "#Preparing testing and training dataset"
      ],
      "metadata": {
        "id": "yv07eaiBScsu"
      },
      "execution_count": null,
      "outputs": []
    },
    {
      "cell_type": "code",
      "source": [
        "training_set = df.iloc[:, 9:10].values\n",
        "X_tr = []\n",
        "y_tr = []\n",
        "for i in range(10, df.shape[0]):\n",
        "    X_tr.append(training_set[i-10:i,0])\n",
        "    y_tr.append(training_set[i,0])\n",
        "X_tr, y_tr = np.array(X_tr), np.array(y_tr)"
      ],
      "metadata": {
        "id": "X2S2tp36ShAV"
      },
      "execution_count": 92,
      "outputs": []
    },
    {
      "cell_type": "code",
      "source": [
        "print(df.shape[0])"
      ],
      "metadata": {
        "colab": {
          "base_uri": "https://localhost:8080/"
        },
        "id": "FpuxrAn6fvpc",
        "outputId": "5e1ca1a2-4c48-425f-94be-6875a6436630"
      },
      "execution_count": 123,
      "outputs": [
        {
          "output_type": "stream",
          "name": "stdout",
          "text": [
            "7904\n"
          ]
        }
      ]
    },
    {
      "cell_type": "code",
      "source": [
        "print(training_set[i-10:i,0])"
      ],
      "metadata": {
        "colab": {
          "base_uri": "https://localhost:8080/"
        },
        "id": "zHVlSKcAf1pl",
        "outputId": "d6c07f7f-6675-42c9-a61e-c78b1298d3c3"
      },
      "execution_count": 124,
      "outputs": [
        {
          "output_type": "stream",
          "name": "stdout",
          "text": [
            "[1.46500145 1.00573572 1.90141505 1.59056028 0.95085884 1.46544159\n",
            " 1.00883287 1.90900987 1.49021561 1.12274356]\n"
          ]
        }
      ]
    },
    {
      "cell_type": "code",
      "source": [
        "df.iloc[:,9:10]"
      ],
      "metadata": {
        "id": "Q4aV92Xzd7js",
        "outputId": "17f3c196-59bc-4e6f-c1a0-4fb8eef1fd55",
        "colab": {
          "base_uri": "https://localhost:8080/",
          "height": 454
        }
      },
      "execution_count": 93,
      "outputs": [
        {
          "output_type": "execute_result",
          "data": {
            "text/html": [
              "\n",
              "  <div id=\"df-96a4b4b3-dfe6-4d9e-8164-d2b283525f39\">\n",
              "    <div class=\"colab-df-container\">\n",
              "      <div>\n",
              "<style scoped>\n",
              "    .dataframe tbody tr th:only-of-type {\n",
              "        vertical-align: middle;\n",
              "    }\n",
              "\n",
              "    .dataframe tbody tr th {\n",
              "        vertical-align: top;\n",
              "    }\n",
              "\n",
              "    .dataframe thead th {\n",
              "        text-align: right;\n",
              "    }\n",
              "</style>\n",
              "<table border=\"1\" class=\"dataframe\">\n",
              "  <thead>\n",
              "    <tr style=\"text-align: right;\">\n",
              "      <th></th>\n",
              "      <th>Volatility</th>\n",
              "    </tr>\n",
              "    <tr>\n",
              "      <th>Date</th>\n",
              "      <th></th>\n",
              "    </tr>\n",
              "  </thead>\n",
              "  <tbody>\n",
              "    <tr>\n",
              "      <th>1990-01-03</th>\n",
              "      <td>0.893589</td>\n",
              "    </tr>\n",
              "    <tr>\n",
              "      <th>1990-01-05</th>\n",
              "      <td>1.334283</td>\n",
              "    </tr>\n",
              "    <tr>\n",
              "      <th>1990-01-06</th>\n",
              "      <td>0.881965</td>\n",
              "    </tr>\n",
              "    <tr>\n",
              "      <th>1990-01-08</th>\n",
              "      <td>1.712147</td>\n",
              "    </tr>\n",
              "    <tr>\n",
              "      <th>1990-01-10</th>\n",
              "      <td>0.947622</td>\n",
              "    </tr>\n",
              "    <tr>\n",
              "      <th>...</th>\n",
              "      <td>...</td>\n",
              "    </tr>\n",
              "    <tr>\n",
              "      <th>2021-12-01</th>\n",
              "      <td>1.008833</td>\n",
              "    </tr>\n",
              "    <tr>\n",
              "      <th>2021-12-02</th>\n",
              "      <td>1.909010</td>\n",
              "    </tr>\n",
              "    <tr>\n",
              "      <th>2021-12-03</th>\n",
              "      <td>1.490216</td>\n",
              "    </tr>\n",
              "    <tr>\n",
              "      <th>2021-12-04</th>\n",
              "      <td>1.122744</td>\n",
              "    </tr>\n",
              "    <tr>\n",
              "      <th>2021-12-05</th>\n",
              "      <td>1.148260</td>\n",
              "    </tr>\n",
              "  </tbody>\n",
              "</table>\n",
              "<p>7904 rows × 1 columns</p>\n",
              "</div>\n",
              "      <button class=\"colab-df-convert\" onclick=\"convertToInteractive('df-96a4b4b3-dfe6-4d9e-8164-d2b283525f39')\"\n",
              "              title=\"Convert this dataframe to an interactive table.\"\n",
              "              style=\"display:none;\">\n",
              "        \n",
              "  <svg xmlns=\"http://www.w3.org/2000/svg\" height=\"24px\"viewBox=\"0 0 24 24\"\n",
              "       width=\"24px\">\n",
              "    <path d=\"M0 0h24v24H0V0z\" fill=\"none\"/>\n",
              "    <path d=\"M18.56 5.44l.94 2.06.94-2.06 2.06-.94-2.06-.94-.94-2.06-.94 2.06-2.06.94zm-11 1L8.5 8.5l.94-2.06 2.06-.94-2.06-.94L8.5 2.5l-.94 2.06-2.06.94zm10 10l.94 2.06.94-2.06 2.06-.94-2.06-.94-.94-2.06-.94 2.06-2.06.94z\"/><path d=\"M17.41 7.96l-1.37-1.37c-.4-.4-.92-.59-1.43-.59-.52 0-1.04.2-1.43.59L10.3 9.45l-7.72 7.72c-.78.78-.78 2.05 0 2.83L4 21.41c.39.39.9.59 1.41.59.51 0 1.02-.2 1.41-.59l7.78-7.78 2.81-2.81c.8-.78.8-2.07 0-2.86zM5.41 20L4 18.59l7.72-7.72 1.47 1.35L5.41 20z\"/>\n",
              "  </svg>\n",
              "      </button>\n",
              "      \n",
              "  <style>\n",
              "    .colab-df-container {\n",
              "      display:flex;\n",
              "      flex-wrap:wrap;\n",
              "      gap: 12px;\n",
              "    }\n",
              "\n",
              "    .colab-df-convert {\n",
              "      background-color: #E8F0FE;\n",
              "      border: none;\n",
              "      border-radius: 50%;\n",
              "      cursor: pointer;\n",
              "      display: none;\n",
              "      fill: #1967D2;\n",
              "      height: 32px;\n",
              "      padding: 0 0 0 0;\n",
              "      width: 32px;\n",
              "    }\n",
              "\n",
              "    .colab-df-convert:hover {\n",
              "      background-color: #E2EBFA;\n",
              "      box-shadow: 0px 1px 2px rgba(60, 64, 67, 0.3), 0px 1px 3px 1px rgba(60, 64, 67, 0.15);\n",
              "      fill: #174EA6;\n",
              "    }\n",
              "\n",
              "    [theme=dark] .colab-df-convert {\n",
              "      background-color: #3B4455;\n",
              "      fill: #D2E3FC;\n",
              "    }\n",
              "\n",
              "    [theme=dark] .colab-df-convert:hover {\n",
              "      background-color: #434B5C;\n",
              "      box-shadow: 0px 1px 3px 1px rgba(0, 0, 0, 0.15);\n",
              "      filter: drop-shadow(0px 1px 2px rgba(0, 0, 0, 0.3));\n",
              "      fill: #FFFFFF;\n",
              "    }\n",
              "  </style>\n",
              "\n",
              "      <script>\n",
              "        const buttonEl =\n",
              "          document.querySelector('#df-96a4b4b3-dfe6-4d9e-8164-d2b283525f39 button.colab-df-convert');\n",
              "        buttonEl.style.display =\n",
              "          google.colab.kernel.accessAllowed ? 'block' : 'none';\n",
              "\n",
              "        async function convertToInteractive(key) {\n",
              "          const element = document.querySelector('#df-96a4b4b3-dfe6-4d9e-8164-d2b283525f39');\n",
              "          const dataTable =\n",
              "            await google.colab.kernel.invokeFunction('convertToInteractive',\n",
              "                                                     [key], {});\n",
              "          if (!dataTable) return;\n",
              "\n",
              "          const docLinkHtml = 'Like what you see? Visit the ' +\n",
              "            '<a target=\"_blank\" href=https://colab.research.google.com/notebooks/data_table.ipynb>data table notebook</a>'\n",
              "            + ' to learn more about interactive tables.';\n",
              "          element.innerHTML = '';\n",
              "          dataTable['output_type'] = 'display_data';\n",
              "          await google.colab.output.renderOutput(dataTable, element);\n",
              "          const docLink = document.createElement('div');\n",
              "          docLink.innerHTML = docLinkHtml;\n",
              "          element.appendChild(docLink);\n",
              "        }\n",
              "      </script>\n",
              "    </div>\n",
              "  </div>\n",
              "  "
            ],
            "text/plain": [
              "            Volatility\n",
              "Date                  \n",
              "1990-01-03    0.893589\n",
              "1990-01-05    1.334283\n",
              "1990-01-06    0.881965\n",
              "1990-01-08    1.712147\n",
              "1990-01-10    0.947622\n",
              "...                ...\n",
              "2021-12-01    1.008833\n",
              "2021-12-02    1.909010\n",
              "2021-12-03    1.490216\n",
              "2021-12-04    1.122744\n",
              "2021-12-05    1.148260\n",
              "\n",
              "[7904 rows x 1 columns]"
            ]
          },
          "metadata": {},
          "execution_count": 93
        }
      ]
    },
    {
      "cell_type": "code",
      "source": [
        "#RBF model"
      ],
      "metadata": {
        "id": "5y966m8Fd-mf"
      },
      "execution_count": null,
      "outputs": []
    },
    {
      "cell_type": "code",
      "source": [
        "svr_rbf = SVR(kernel='rbf', C=5, gamma=9, epsilon=0.01)"
      ],
      "metadata": {
        "id": "3hGBJnmtef_P"
      },
      "execution_count": 94,
      "outputs": []
    },
    {
      "cell_type": "code",
      "source": [
        "parameters = {'kernel': ('linear', 'rbf'), 'C':[1, 10]}\n",
        "clf = GridSearchCV(svr_rbf, parameters)"
      ],
      "metadata": {
        "id": "qyghmvfMepsg"
      },
      "execution_count": 95,
      "outputs": []
    },
    {
      "cell_type": "code",
      "source": [
        "y_rbf = clf.fit(X_tr, y_tr).predict(X_tr)"
      ],
      "metadata": {
        "id": "QCTc1ieMe5BP"
      },
      "execution_count": 96,
      "outputs": []
    },
    {
      "cell_type": "code",
      "source": [
        "clf.get_params()"
      ],
      "metadata": {
        "id": "GblHhQt9fLBe",
        "outputId": "6c6b4c70-d02a-4d06-af1d-23e420b08b72",
        "colab": {
          "base_uri": "https://localhost:8080/"
        }
      },
      "execution_count": 97,
      "outputs": [
        {
          "output_type": "execute_result",
          "data": {
            "text/plain": [
              "{'cv': None,\n",
              " 'error_score': nan,\n",
              " 'estimator': SVR(C=5, epsilon=0.01, gamma=9),\n",
              " 'estimator__C': 5,\n",
              " 'estimator__cache_size': 200,\n",
              " 'estimator__coef0': 0.0,\n",
              " 'estimator__degree': 3,\n",
              " 'estimator__epsilon': 0.01,\n",
              " 'estimator__gamma': 9,\n",
              " 'estimator__kernel': 'rbf',\n",
              " 'estimator__max_iter': -1,\n",
              " 'estimator__shrinking': True,\n",
              " 'estimator__tol': 0.001,\n",
              " 'estimator__verbose': False,\n",
              " 'n_jobs': None,\n",
              " 'param_grid': {'C': [1, 10], 'kernel': ('linear', 'rbf')},\n",
              " 'pre_dispatch': '2*n_jobs',\n",
              " 'refit': True,\n",
              " 'return_train_score': False,\n",
              " 'scoring': None,\n",
              " 'verbose': 0}"
            ]
          },
          "metadata": {},
          "execution_count": 97
        }
      ]
    },
    {
      "cell_type": "code",
      "source": [
        "predicted_vol_rbf = np.exp(y_rbf)"
      ],
      "metadata": {
        "id": "gzywzVdWfN7H"
      },
      "execution_count": 98,
      "outputs": []
    },
    {
      "cell_type": "code",
      "source": [
        "print(metrics.r2_score(y_tr, y_rbf))"
      ],
      "metadata": {
        "id": "JKZdLzrTfXbn",
        "outputId": "42e45bf5-d81f-4e52-eefd-0e148d9491c0",
        "colab": {
          "base_uri": "https://localhost:8080/"
        }
      },
      "execution_count": 99,
      "outputs": [
        {
          "output_type": "stream",
          "name": "stdout",
          "text": [
            "0.5122842521234788\n"
          ]
        }
      ]
    },
    {
      "cell_type": "code",
      "source": [
        "#Linear Model"
      ],
      "metadata": {
        "id": "wCaRMQMrfcyz"
      },
      "execution_count": null,
      "outputs": []
    },
    {
      "cell_type": "code",
      "source": [
        "svr_linear = SVR(kernel='linear', C=9, gamma = 7, epsilon=0.01)"
      ],
      "metadata": {
        "id": "yrWUep3ufejB"
      },
      "execution_count": 100,
      "outputs": []
    },
    {
      "cell_type": "code",
      "source": [
        "parameters = {'kernel': ('linear', 'rbf'), 'C':[1,10]}\n",
        "clf1 = GridSearchCV(svr_linear, parameters)"
      ],
      "metadata": {
        "id": "4A8azlvuftYV"
      },
      "execution_count": 101,
      "outputs": []
    },
    {
      "cell_type": "code",
      "source": [
        "clf1.get_params()"
      ],
      "metadata": {
        "id": "iEO4f_Y0gPJp",
        "outputId": "32f06f7d-7752-4cea-fed8-03dcc21bce47",
        "colab": {
          "base_uri": "https://localhost:8080/"
        }
      },
      "execution_count": 102,
      "outputs": [
        {
          "output_type": "execute_result",
          "data": {
            "text/plain": [
              "{'cv': None,\n",
              " 'error_score': nan,\n",
              " 'estimator': SVR(C=9, epsilon=0.01, gamma=7, kernel='linear'),\n",
              " 'estimator__C': 9,\n",
              " 'estimator__cache_size': 200,\n",
              " 'estimator__coef0': 0.0,\n",
              " 'estimator__degree': 3,\n",
              " 'estimator__epsilon': 0.01,\n",
              " 'estimator__gamma': 7,\n",
              " 'estimator__kernel': 'linear',\n",
              " 'estimator__max_iter': -1,\n",
              " 'estimator__shrinking': True,\n",
              " 'estimator__tol': 0.001,\n",
              " 'estimator__verbose': False,\n",
              " 'n_jobs': None,\n",
              " 'param_grid': {'C': [1, 10], 'kernel': ('linear', 'rbf')},\n",
              " 'pre_dispatch': '2*n_jobs',\n",
              " 'refit': True,\n",
              " 'return_train_score': False,\n",
              " 'scoring': None,\n",
              " 'verbose': 0}"
            ]
          },
          "metadata": {},
          "execution_count": 102
        }
      ]
    },
    {
      "cell_type": "code",
      "source": [
        "y_linear = clf1.fit(X_tr, y_tr).predict(X_tr)"
      ],
      "metadata": {
        "id": "MDbWiWdHhA3E"
      },
      "execution_count": 103,
      "outputs": []
    },
    {
      "cell_type": "code",
      "source": [
        "clf1.score(X_tr, y_tr)"
      ],
      "metadata": {
        "id": "ybq1XB6ShrDe",
        "outputId": "9c40f9b4-8c8f-4888-b193-956f5c6db9c6",
        "colab": {
          "base_uri": "https://localhost:8080/"
        }
      },
      "execution_count": 104,
      "outputs": [
        {
          "output_type": "execute_result",
          "data": {
            "text/plain": [
              "0.5122842521234788"
            ]
          },
          "metadata": {},
          "execution_count": 104
        }
      ]
    },
    {
      "cell_type": "code",
      "source": [
        "predicted_vol_linear = np.exp(y_linear)"
      ],
      "metadata": {
        "id": "4LdX_J-ghShK"
      },
      "execution_count": 105,
      "outputs": []
    },
    {
      "cell_type": "code",
      "source": [
        "p_d_s_o = pd.DataFrame(df.iloc[10:, 9:10].values)"
      ],
      "metadata": {
        "id": "dKDplQQcnyGn"
      },
      "execution_count": 106,
      "outputs": []
    },
    {
      "cell_type": "code",
      "source": [
        "p_d_s_R = pd.DataFrame(predicted_vol_rbf)"
      ],
      "metadata": {
        "id": "RAD6d_T2qrl8"
      },
      "execution_count": 107,
      "outputs": []
    },
    {
      "cell_type": "code",
      "source": [
        "p_d_s_l = pd.DataFrame(predicted_vol_linear)"
      ],
      "metadata": {
        "id": "bFs6l-y6q1Aq"
      },
      "execution_count": 108,
      "outputs": []
    },
    {
      "cell_type": "code",
      "source": [
        "p_d_s_o = pd.DataFrame(df.iloc[10:, 9:10].values) #actual values"
      ],
      "metadata": {
        "id": "7Y4GF1Vhop90"
      },
      "execution_count": 109,
      "outputs": []
    },
    {
      "cell_type": "code",
      "source": [
        "p_d_s_R.to_excel('SVR_A.xlsx') #print actual values"
      ],
      "metadata": {
        "id": "zyQqoVFVrFi9"
      },
      "execution_count": 110,
      "outputs": []
    },
    {
      "cell_type": "code",
      "source": [
        "p_d_s_R.to_excel('SVR_r_p.xlsx') #print RBF SVR value forecast"
      ],
      "metadata": {
        "id": "lUJ0CMvyrRth"
      },
      "execution_count": 111,
      "outputs": []
    },
    {
      "cell_type": "code",
      "source": [
        "p_d_s_l.to_excel('SVR_r_p.xlsx') #print rbf svr value forecast"
      ],
      "metadata": {
        "id": "Mcy84mV3rjCk"
      },
      "execution_count": 112,
      "outputs": []
    },
    {
      "cell_type": "code",
      "source": [
        "p_d_s_l.head(20)"
      ],
      "metadata": {
        "id": "78Sb-CtjrxtW",
        "outputId": "ecd857fb-df50-4038-f337-ff75d5e3329b",
        "colab": {
          "base_uri": "https://localhost:8080/",
          "height": 676
        }
      },
      "execution_count": 113,
      "outputs": [
        {
          "output_type": "execute_result",
          "data": {
            "text/html": [
              "\n",
              "  <div id=\"df-9035fc96-a12b-486b-b506-f929c59eaab3\">\n",
              "    <div class=\"colab-df-container\">\n",
              "      <div>\n",
              "<style scoped>\n",
              "    .dataframe tbody tr th:only-of-type {\n",
              "        vertical-align: middle;\n",
              "    }\n",
              "\n",
              "    .dataframe tbody tr th {\n",
              "        vertical-align: top;\n",
              "    }\n",
              "\n",
              "    .dataframe thead th {\n",
              "        text-align: right;\n",
              "    }\n",
              "</style>\n",
              "<table border=\"1\" class=\"dataframe\">\n",
              "  <thead>\n",
              "    <tr style=\"text-align: right;\">\n",
              "      <th></th>\n",
              "      <th>0</th>\n",
              "    </tr>\n",
              "  </thead>\n",
              "  <tbody>\n",
              "    <tr>\n",
              "      <th>0</th>\n",
              "      <td>3.447266</td>\n",
              "    </tr>\n",
              "    <tr>\n",
              "      <th>1</th>\n",
              "      <td>4.963910</td>\n",
              "    </tr>\n",
              "    <tr>\n",
              "      <th>2</th>\n",
              "      <td>2.885342</td>\n",
              "    </tr>\n",
              "    <tr>\n",
              "      <th>3</th>\n",
              "      <td>2.086143</td>\n",
              "    </tr>\n",
              "    <tr>\n",
              "      <th>4</th>\n",
              "      <td>2.788607</td>\n",
              "    </tr>\n",
              "    <tr>\n",
              "      <th>5</th>\n",
              "      <td>2.916752</td>\n",
              "    </tr>\n",
              "    <tr>\n",
              "      <th>6</th>\n",
              "      <td>3.026878</td>\n",
              "    </tr>\n",
              "    <tr>\n",
              "      <th>7</th>\n",
              "      <td>3.056575</td>\n",
              "    </tr>\n",
              "    <tr>\n",
              "      <th>8</th>\n",
              "      <td>3.158408</td>\n",
              "    </tr>\n",
              "    <tr>\n",
              "      <th>9</th>\n",
              "      <td>3.136051</td>\n",
              "    </tr>\n",
              "    <tr>\n",
              "      <th>10</th>\n",
              "      <td>3.177045</td>\n",
              "    </tr>\n",
              "    <tr>\n",
              "      <th>11</th>\n",
              "      <td>3.060208</td>\n",
              "    </tr>\n",
              "    <tr>\n",
              "      <th>12</th>\n",
              "      <td>2.655131</td>\n",
              "    </tr>\n",
              "    <tr>\n",
              "      <th>13</th>\n",
              "      <td>2.565559</td>\n",
              "    </tr>\n",
              "    <tr>\n",
              "      <th>14</th>\n",
              "      <td>2.482592</td>\n",
              "    </tr>\n",
              "    <tr>\n",
              "      <th>15</th>\n",
              "      <td>2.743644</td>\n",
              "    </tr>\n",
              "    <tr>\n",
              "      <th>16</th>\n",
              "      <td>3.538281</td>\n",
              "    </tr>\n",
              "    <tr>\n",
              "      <th>17</th>\n",
              "      <td>3.466635</td>\n",
              "    </tr>\n",
              "    <tr>\n",
              "      <th>18</th>\n",
              "      <td>6.012596</td>\n",
              "    </tr>\n",
              "    <tr>\n",
              "      <th>19</th>\n",
              "      <td>2.895380</td>\n",
              "    </tr>\n",
              "  </tbody>\n",
              "</table>\n",
              "</div>\n",
              "      <button class=\"colab-df-convert\" onclick=\"convertToInteractive('df-9035fc96-a12b-486b-b506-f929c59eaab3')\"\n",
              "              title=\"Convert this dataframe to an interactive table.\"\n",
              "              style=\"display:none;\">\n",
              "        \n",
              "  <svg xmlns=\"http://www.w3.org/2000/svg\" height=\"24px\"viewBox=\"0 0 24 24\"\n",
              "       width=\"24px\">\n",
              "    <path d=\"M0 0h24v24H0V0z\" fill=\"none\"/>\n",
              "    <path d=\"M18.56 5.44l.94 2.06.94-2.06 2.06-.94-2.06-.94-.94-2.06-.94 2.06-2.06.94zm-11 1L8.5 8.5l.94-2.06 2.06-.94-2.06-.94L8.5 2.5l-.94 2.06-2.06.94zm10 10l.94 2.06.94-2.06 2.06-.94-2.06-.94-.94-2.06-.94 2.06-2.06.94z\"/><path d=\"M17.41 7.96l-1.37-1.37c-.4-.4-.92-.59-1.43-.59-.52 0-1.04.2-1.43.59L10.3 9.45l-7.72 7.72c-.78.78-.78 2.05 0 2.83L4 21.41c.39.39.9.59 1.41.59.51 0 1.02-.2 1.41-.59l7.78-7.78 2.81-2.81c.8-.78.8-2.07 0-2.86zM5.41 20L4 18.59l7.72-7.72 1.47 1.35L5.41 20z\"/>\n",
              "  </svg>\n",
              "      </button>\n",
              "      \n",
              "  <style>\n",
              "    .colab-df-container {\n",
              "      display:flex;\n",
              "      flex-wrap:wrap;\n",
              "      gap: 12px;\n",
              "    }\n",
              "\n",
              "    .colab-df-convert {\n",
              "      background-color: #E8F0FE;\n",
              "      border: none;\n",
              "      border-radius: 50%;\n",
              "      cursor: pointer;\n",
              "      display: none;\n",
              "      fill: #1967D2;\n",
              "      height: 32px;\n",
              "      padding: 0 0 0 0;\n",
              "      width: 32px;\n",
              "    }\n",
              "\n",
              "    .colab-df-convert:hover {\n",
              "      background-color: #E2EBFA;\n",
              "      box-shadow: 0px 1px 2px rgba(60, 64, 67, 0.3), 0px 1px 3px 1px rgba(60, 64, 67, 0.15);\n",
              "      fill: #174EA6;\n",
              "    }\n",
              "\n",
              "    [theme=dark] .colab-df-convert {\n",
              "      background-color: #3B4455;\n",
              "      fill: #D2E3FC;\n",
              "    }\n",
              "\n",
              "    [theme=dark] .colab-df-convert:hover {\n",
              "      background-color: #434B5C;\n",
              "      box-shadow: 0px 1px 3px 1px rgba(0, 0, 0, 0.15);\n",
              "      filter: drop-shadow(0px 1px 2px rgba(0, 0, 0, 0.3));\n",
              "      fill: #FFFFFF;\n",
              "    }\n",
              "  </style>\n",
              "\n",
              "      <script>\n",
              "        const buttonEl =\n",
              "          document.querySelector('#df-9035fc96-a12b-486b-b506-f929c59eaab3 button.colab-df-convert');\n",
              "        buttonEl.style.display =\n",
              "          google.colab.kernel.accessAllowed ? 'block' : 'none';\n",
              "\n",
              "        async function convertToInteractive(key) {\n",
              "          const element = document.querySelector('#df-9035fc96-a12b-486b-b506-f929c59eaab3');\n",
              "          const dataTable =\n",
              "            await google.colab.kernel.invokeFunction('convertToInteractive',\n",
              "                                                     [key], {});\n",
              "          if (!dataTable) return;\n",
              "\n",
              "          const docLinkHtml = 'Like what you see? Visit the ' +\n",
              "            '<a target=\"_blank\" href=https://colab.research.google.com/notebooks/data_table.ipynb>data table notebook</a>'\n",
              "            + ' to learn more about interactive tables.';\n",
              "          element.innerHTML = '';\n",
              "          dataTable['output_type'] = 'display_data';\n",
              "          await google.colab.output.renderOutput(dataTable, element);\n",
              "          const docLink = document.createElement('div');\n",
              "          docLink.innerHTML = docLinkHtml;\n",
              "          element.appendChild(docLink);\n",
              "        }\n",
              "      </script>\n",
              "    </div>\n",
              "  </div>\n",
              "  "
            ],
            "text/plain": [
              "           0\n",
              "0   3.447266\n",
              "1   4.963910\n",
              "2   2.885342\n",
              "3   2.086143\n",
              "4   2.788607\n",
              "5   2.916752\n",
              "6   3.026878\n",
              "7   3.056575\n",
              "8   3.158408\n",
              "9   3.136051\n",
              "10  3.177045\n",
              "11  3.060208\n",
              "12  2.655131\n",
              "13  2.565559\n",
              "14  2.482592\n",
              "15  2.743644\n",
              "16  3.538281\n",
              "17  3.466635\n",
              "18  6.012596\n",
              "19  2.895380"
            ]
          },
          "metadata": {},
          "execution_count": 113
        }
      ]
    },
    {
      "cell_type": "code",
      "source": [
        "df.iloc[10:, 9:10].values"
      ],
      "metadata": {
        "id": "v_-QWS2Tr9l6",
        "outputId": "526bf9da-2ebb-4afc-ff0e-6b51f93d03c0",
        "colab": {
          "base_uri": "https://localhost:8080/"
        }
      },
      "execution_count": 114,
      "outputs": [
        {
          "output_type": "execute_result",
          "data": {
            "text/plain": [
              "array([[1.72376114],\n",
              "       [0.94396685],\n",
              "       [0.60374578],\n",
              "       ...,\n",
              "       [1.49021561],\n",
              "       [1.12274356],\n",
              "       [1.14826017]])"
            ]
          },
          "metadata": {},
          "execution_count": 114
        }
      ]
    },
    {
      "cell_type": "code",
      "source": [
        "p_d_s_l.head(20)"
      ],
      "metadata": {
        "id": "zjzg-9V9s2yf",
        "outputId": "b60a519a-86d7-4cce-93dd-166236cef019",
        "colab": {
          "base_uri": "https://localhost:8080/",
          "height": 676
        }
      },
      "execution_count": 115,
      "outputs": [
        {
          "output_type": "execute_result",
          "data": {
            "text/html": [
              "\n",
              "  <div id=\"df-64c29272-34fa-423c-a200-b8a264ea6da4\">\n",
              "    <div class=\"colab-df-container\">\n",
              "      <div>\n",
              "<style scoped>\n",
              "    .dataframe tbody tr th:only-of-type {\n",
              "        vertical-align: middle;\n",
              "    }\n",
              "\n",
              "    .dataframe tbody tr th {\n",
              "        vertical-align: top;\n",
              "    }\n",
              "\n",
              "    .dataframe thead th {\n",
              "        text-align: right;\n",
              "    }\n",
              "</style>\n",
              "<table border=\"1\" class=\"dataframe\">\n",
              "  <thead>\n",
              "    <tr style=\"text-align: right;\">\n",
              "      <th></th>\n",
              "      <th>0</th>\n",
              "    </tr>\n",
              "  </thead>\n",
              "  <tbody>\n",
              "    <tr>\n",
              "      <th>0</th>\n",
              "      <td>3.447266</td>\n",
              "    </tr>\n",
              "    <tr>\n",
              "      <th>1</th>\n",
              "      <td>4.963910</td>\n",
              "    </tr>\n",
              "    <tr>\n",
              "      <th>2</th>\n",
              "      <td>2.885342</td>\n",
              "    </tr>\n",
              "    <tr>\n",
              "      <th>3</th>\n",
              "      <td>2.086143</td>\n",
              "    </tr>\n",
              "    <tr>\n",
              "      <th>4</th>\n",
              "      <td>2.788607</td>\n",
              "    </tr>\n",
              "    <tr>\n",
              "      <th>5</th>\n",
              "      <td>2.916752</td>\n",
              "    </tr>\n",
              "    <tr>\n",
              "      <th>6</th>\n",
              "      <td>3.026878</td>\n",
              "    </tr>\n",
              "    <tr>\n",
              "      <th>7</th>\n",
              "      <td>3.056575</td>\n",
              "    </tr>\n",
              "    <tr>\n",
              "      <th>8</th>\n",
              "      <td>3.158408</td>\n",
              "    </tr>\n",
              "    <tr>\n",
              "      <th>9</th>\n",
              "      <td>3.136051</td>\n",
              "    </tr>\n",
              "    <tr>\n",
              "      <th>10</th>\n",
              "      <td>3.177045</td>\n",
              "    </tr>\n",
              "    <tr>\n",
              "      <th>11</th>\n",
              "      <td>3.060208</td>\n",
              "    </tr>\n",
              "    <tr>\n",
              "      <th>12</th>\n",
              "      <td>2.655131</td>\n",
              "    </tr>\n",
              "    <tr>\n",
              "      <th>13</th>\n",
              "      <td>2.565559</td>\n",
              "    </tr>\n",
              "    <tr>\n",
              "      <th>14</th>\n",
              "      <td>2.482592</td>\n",
              "    </tr>\n",
              "    <tr>\n",
              "      <th>15</th>\n",
              "      <td>2.743644</td>\n",
              "    </tr>\n",
              "    <tr>\n",
              "      <th>16</th>\n",
              "      <td>3.538281</td>\n",
              "    </tr>\n",
              "    <tr>\n",
              "      <th>17</th>\n",
              "      <td>3.466635</td>\n",
              "    </tr>\n",
              "    <tr>\n",
              "      <th>18</th>\n",
              "      <td>6.012596</td>\n",
              "    </tr>\n",
              "    <tr>\n",
              "      <th>19</th>\n",
              "      <td>2.895380</td>\n",
              "    </tr>\n",
              "  </tbody>\n",
              "</table>\n",
              "</div>\n",
              "      <button class=\"colab-df-convert\" onclick=\"convertToInteractive('df-64c29272-34fa-423c-a200-b8a264ea6da4')\"\n",
              "              title=\"Convert this dataframe to an interactive table.\"\n",
              "              style=\"display:none;\">\n",
              "        \n",
              "  <svg xmlns=\"http://www.w3.org/2000/svg\" height=\"24px\"viewBox=\"0 0 24 24\"\n",
              "       width=\"24px\">\n",
              "    <path d=\"M0 0h24v24H0V0z\" fill=\"none\"/>\n",
              "    <path d=\"M18.56 5.44l.94 2.06.94-2.06 2.06-.94-2.06-.94-.94-2.06-.94 2.06-2.06.94zm-11 1L8.5 8.5l.94-2.06 2.06-.94-2.06-.94L8.5 2.5l-.94 2.06-2.06.94zm10 10l.94 2.06.94-2.06 2.06-.94-2.06-.94-.94-2.06-.94 2.06-2.06.94z\"/><path d=\"M17.41 7.96l-1.37-1.37c-.4-.4-.92-.59-1.43-.59-.52 0-1.04.2-1.43.59L10.3 9.45l-7.72 7.72c-.78.78-.78 2.05 0 2.83L4 21.41c.39.39.9.59 1.41.59.51 0 1.02-.2 1.41-.59l7.78-7.78 2.81-2.81c.8-.78.8-2.07 0-2.86zM5.41 20L4 18.59l7.72-7.72 1.47 1.35L5.41 20z\"/>\n",
              "  </svg>\n",
              "      </button>\n",
              "      \n",
              "  <style>\n",
              "    .colab-df-container {\n",
              "      display:flex;\n",
              "      flex-wrap:wrap;\n",
              "      gap: 12px;\n",
              "    }\n",
              "\n",
              "    .colab-df-convert {\n",
              "      background-color: #E8F0FE;\n",
              "      border: none;\n",
              "      border-radius: 50%;\n",
              "      cursor: pointer;\n",
              "      display: none;\n",
              "      fill: #1967D2;\n",
              "      height: 32px;\n",
              "      padding: 0 0 0 0;\n",
              "      width: 32px;\n",
              "    }\n",
              "\n",
              "    .colab-df-convert:hover {\n",
              "      background-color: #E2EBFA;\n",
              "      box-shadow: 0px 1px 2px rgba(60, 64, 67, 0.3), 0px 1px 3px 1px rgba(60, 64, 67, 0.15);\n",
              "      fill: #174EA6;\n",
              "    }\n",
              "\n",
              "    [theme=dark] .colab-df-convert {\n",
              "      background-color: #3B4455;\n",
              "      fill: #D2E3FC;\n",
              "    }\n",
              "\n",
              "    [theme=dark] .colab-df-convert:hover {\n",
              "      background-color: #434B5C;\n",
              "      box-shadow: 0px 1px 3px 1px rgba(0, 0, 0, 0.15);\n",
              "      filter: drop-shadow(0px 1px 2px rgba(0, 0, 0, 0.3));\n",
              "      fill: #FFFFFF;\n",
              "    }\n",
              "  </style>\n",
              "\n",
              "      <script>\n",
              "        const buttonEl =\n",
              "          document.querySelector('#df-64c29272-34fa-423c-a200-b8a264ea6da4 button.colab-df-convert');\n",
              "        buttonEl.style.display =\n",
              "          google.colab.kernel.accessAllowed ? 'block' : 'none';\n",
              "\n",
              "        async function convertToInteractive(key) {\n",
              "          const element = document.querySelector('#df-64c29272-34fa-423c-a200-b8a264ea6da4');\n",
              "          const dataTable =\n",
              "            await google.colab.kernel.invokeFunction('convertToInteractive',\n",
              "                                                     [key], {});\n",
              "          if (!dataTable) return;\n",
              "\n",
              "          const docLinkHtml = 'Like what you see? Visit the ' +\n",
              "            '<a target=\"_blank\" href=https://colab.research.google.com/notebooks/data_table.ipynb>data table notebook</a>'\n",
              "            + ' to learn more about interactive tables.';\n",
              "          element.innerHTML = '';\n",
              "          dataTable['output_type'] = 'display_data';\n",
              "          await google.colab.output.renderOutput(dataTable, element);\n",
              "          const docLink = document.createElement('div');\n",
              "          docLink.innerHTML = docLinkHtml;\n",
              "          element.appendChild(docLink);\n",
              "        }\n",
              "      </script>\n",
              "    </div>\n",
              "  </div>\n",
              "  "
            ],
            "text/plain": [
              "           0\n",
              "0   3.447266\n",
              "1   4.963910\n",
              "2   2.885342\n",
              "3   2.086143\n",
              "4   2.788607\n",
              "5   2.916752\n",
              "6   3.026878\n",
              "7   3.056575\n",
              "8   3.158408\n",
              "9   3.136051\n",
              "10  3.177045\n",
              "11  3.060208\n",
              "12  2.655131\n",
              "13  2.565559\n",
              "14  2.482592\n",
              "15  2.743644\n",
              "16  3.538281\n",
              "17  3.466635\n",
              "18  6.012596\n",
              "19  2.895380"
            ]
          },
          "metadata": {},
          "execution_count": 115
        }
      ]
    },
    {
      "cell_type": "code",
      "source": [
        "#Visualising the results\n",
        "\n",
        "plt.figure(figsize=(16,6))\n",
        "plt.plot(df.iloc[10:, 9:10].values, color = 'red', label = 'Volatility Observed')\n",
        "plt.plot(predicted_vol_rbf, color = 'green', label = 'Predicted Volatility using RBF')\n",
        "plt.plot(predicted_vol_linear, color = 'yellow', label = 'Predicted Volatility using Linear SVR')\n",
        "#plt.plot(predicted_vol, color = 'green', label = 'LSTM Predicted Volatility')\n",
        "plt.title('Actual Volatility vs predicted Volatility')\n",
        "plt.xlabel('Duration')\n",
        "plt.ylabel('Volatility')\n",
        "plt.legend()\n",
        "plt.show()"
      ],
      "metadata": {
        "id": "rpu_gULer3Sj",
        "outputId": "a61313b3-5b6a-4f58-be3a-6194803193c7",
        "colab": {
          "base_uri": "https://localhost:8080/",
          "height": 391
        }
      },
      "execution_count": 116,
      "outputs": [
        {
          "output_type": "display_data",
          "data": {
            "image/png": "[encoded data removed]",
            "text/plain": [
              "<Figure size 1152x432 with 1 Axes>"
            ]
          },
          "metadata": {
            "needs_background": "light"
          }
        }
      ]
    },
    {
      "cell_type": "code",
      "source": [
        "print('RMSE calculated for SVM:', np.sqrt(metrics.mean_squared_error(df.iloc[10:, 9:10].values, predicted_vol_linear)))"
      ],
      "metadata": {
        "id": "AqPb07BXtmd4",
        "outputId": "93dd34dc-7eb4-42a3-b160-9080bed3ba48",
        "colab": {
          "base_uri": "https://localhost:8080/"
        }
      },
      "execution_count": 117,
      "outputs": [
        {
          "output_type": "stream",
          "name": "stdout",
          "text": [
            "RMSE calculated for SVM: 2.2677232584732354\n"
          ]
        }
      ]
    },
    {
      "cell_type": "code",
      "source": [
        "print('RMSE calculated for SVM:', np.sqrt(metrics.mean_squared_error(df.iloc[10:, 9:10].values, y_rbf)))"
      ],
      "metadata": {
        "id": "sodjIs6Xt4m9",
        "outputId": "76ee2e3b-ee35-4784-968d-099d683d81be",
        "colab": {
          "base_uri": "https://localhost:8080/"
        }
      },
      "execution_count": 118,
      "outputs": [
        {
          "output_type": "stream",
          "name": "stdout",
          "text": [
            "RMSE calculated for SVM: 0.2614755885413377\n"
          ]
        }
      ]
    },
    {
      "cell_type": "code",
      "source": [
        "print('MAE calculated for SVM model:', MAE(df.iloc[10:, 9:10].values, predicted_vol_linear))"
      ],
      "metadata": {
        "id": "9-PpID-WzWIY",
        "outputId": "efcc908c-1d22-48e8-80ec-809a7b0d233d",
        "colab": {
          "base_uri": "https://localhost:8080/"
        }
      },
      "execution_count": 119,
      "outputs": [
        {
          "output_type": "stream",
          "name": "stdout",
          "text": [
            "MAE calculated for SVM model: 1.9221314293816818\n"
          ]
        }
      ]
    },
    {
      "cell_type": "code",
      "source": [
        "print('MAE calculated for SVM model:',MAE(df.iloc[10:, 9:10].values, y_rbf))"
      ],
      "metadata": {
        "id": "01G-WQEGzwMd",
        "outputId": "b7452a1a-f888-4b16-b67f-7fe6234ac522",
        "colab": {
          "base_uri": "https://localhost:8080/"
        }
      },
      "execution_count": 120,
      "outputs": [
        {
          "output_type": "stream",
          "name": "stdout",
          "text": [
            "MAE calculated for SVM model: 0.14116210357305578\n"
          ]
        }
      ]
    },
    {
      "cell_type": "code",
      "source": [
        "print('MAPE calculated for SVM model:',mean_absolute_percentage_error(df.iloc[10:, 9:10].values, predicted_vol_linear))"
      ],
      "metadata": {
        "id": "8_RbG3d3zzdK",
        "outputId": "8ecca84d-594a-4341-c351-efeba603ca03",
        "colab": {
          "base_uri": "https://localhost:8080/"
        }
      },
      "execution_count": 121,
      "outputs": [
        {
          "output_type": "stream",
          "name": "stdout",
          "text": [
            "MAPE calculated for SVM model: 1.9794326120665864\n"
          ]
        }
      ]
    },
    {
      "cell_type": "code",
      "source": [
        "print('MAPE calculated for SVM model:',mean_absolute_percentage_error(df.iloc[10:, 9:10].values,y_rbf))"
      ],
      "metadata": {
        "id": "b35Cqsj_z2zT",
        "outputId": "d70e3732-4142-4ced-9686-dfa22b922914",
        "colab": {
          "base_uri": "https://localhost:8080/"
        }
      },
      "execution_count": 122,
      "outputs": [
        {
          "output_type": "stream",
          "name": "stdout",
          "text": [
            "MAPE calculated for SVM model: 0.1420456125157482\n"
          ]
        }
      ]
    },
    {
      "cell_type": "code",
      "source": [
        "#Volatility prediction using Random Forest"
      ],
      "metadata": {
        "id": "gqSZMzJdmCfM"
      },
      "execution_count": null,
      "outputs": []
    },
    {
      "cell_type": "code",
      "source": [
        "#Create Random Forest Regressor Model"
      ],
      "metadata": {
        "id": "evQQgQIVmIjH"
      },
      "execution_count": null,
      "outputs": []
    },
    {
      "cell_type": "code",
      "source": [
        "ran_mod = RandomForestRegressor(n_estimators=50, verbose=4, random_state=42, n_jobs=-1)"
      ],
      "metadata": {
        "id": "gbjlRybf0nov"
      },
      "execution_count": 136,
      "outputs": []
    },
    {
      "cell_type": "code",
      "source": [
        "rand_mod = ran_mod.fit(X_tr, y_tr)"
      ],
      "metadata": {
        "colab": {
          "base_uri": "https://localhost:8080/"
        },
        "id": "tPTj7u4f07vK",
        "outputId": "e95d7b2f-b428-4aae-bce1-6fe5d7f147e6"
      },
      "execution_count": 137,
      "outputs": [
        {
          "output_type": "stream",
          "name": "stderr",
          "text": [
            "[Parallel(n_jobs=-1)]: Using backend ThreadingBackend with 2 concurrent workers.\n"
          ]
        },
        {
          "output_type": "stream",
          "name": "stdout",
          "text": [
            "building tree 1 of 50building tree 2 of 50\n",
            "\n",
            "building tree 3 of 50\n",
            "building tree 4 of 50\n",
            "building tree 5 of 50\n",
            "building tree 6 of 50\n",
            "building tree 7 of 50\n",
            "building tree 8 of 50\n",
            "building tree 9 of 50\n",
            "building tree 10 of 50\n",
            "building tree 11 of 50\n",
            "building tree 12 of 50\n",
            "building tree 13 of 50\n",
            "building tree 14 of 50\n",
            "building tree 15 of 50\n",
            "building tree 16 of 50\n",
            "building tree 17 of 50\n",
            "building tree 18 of 50\n",
            "building tree 19 of 50\n",
            "building tree 20 of 50\n",
            "building tree 21 of 50\n",
            "building tree 22 of 50\n",
            "building tree 23 of 50\n",
            "building tree 24 of 50\n"
          ]
        },
        {
          "output_type": "stream",
          "name": "stderr",
          "text": [
            "[Parallel(n_jobs=-1)]: Done  21 tasks      | elapsed:    2.2s\n"
          ]
        },
        {
          "output_type": "stream",
          "name": "stdout",
          "text": [
            "building tree 25 of 50\n",
            "building tree 26 of 50\n",
            "building tree 27 of 50\n",
            "building tree 28 of 50\n",
            "building tree 29 of 50\n",
            "building tree 30 of 50\n",
            "building tree 31 of 50\n",
            "building tree 32 of 50\n",
            "building tree 33 of 50\n",
            "building tree 34 of 50\n",
            "building tree 35 of 50\n",
            "building tree 36 of 50\n",
            "building tree 37 of 50\n",
            "building tree 38 of 50\n",
            "building tree 39 of 50\n",
            "building tree 40 of 50\n",
            "building tree 41 of 50\n",
            "building tree 42 of 50\n",
            "building tree 43 of 50\n",
            "building tree 44 of 50\n",
            "building tree 45 of 50\n",
            "building tree 46 of 50\n",
            "building tree 47 of 50\n",
            "building tree 48 of 50\n",
            "building tree 49 of 50\n",
            "building tree 50 of 50\n"
          ]
        },
        {
          "output_type": "stream",
          "name": "stderr",
          "text": [
            "[Parallel(n_jobs=-1)]: Done  50 out of  50 | elapsed:    4.3s finished\n"
          ]
        }
      ]
    },
    {
      "cell_type": "code",
      "source": [
        "rand_mod.get_params()"
      ],
      "metadata": {
        "colab": {
          "base_uri": "https://localhost:8080/"
        },
        "id": "IgIdPWRH1EaK",
        "outputId": "150f7ac4-8cd9-4110-db35-7885df0e72cd"
      },
      "execution_count": 138,
      "outputs": [
        {
          "output_type": "execute_result",
          "data": {
            "text/plain": [
              "{'bootstrap': True,\n",
              " 'ccp_alpha': 0.0,\n",
              " 'criterion': 'squared_error',\n",
              " 'max_depth': None,\n",
              " 'max_features': 'auto',\n",
              " 'max_leaf_nodes': None,\n",
              " 'max_samples': None,\n",
              " 'min_impurity_decrease': 0.0,\n",
              " 'min_samples_leaf': 1,\n",
              " 'min_samples_split': 2,\n",
              " 'min_weight_fraction_leaf': 0.0,\n",
              " 'n_estimators': 50,\n",
              " 'n_jobs': -1,\n",
              " 'oob_score': False,\n",
              " 'random_state': 42,\n",
              " 'verbose': 4,\n",
              " 'warm_start': False}"
            ]
          },
          "metadata": {},
          "execution_count": 138
        }
      ]
    },
    {
      "cell_type": "code",
      "source": [
        "rand_mod.score(X_tr, y_tr)"
      ],
      "metadata": {
        "colab": {
          "base_uri": "https://localhost:8080/"
        },
        "id": "fX7Jc8Bb1mgw",
        "outputId": "725df25c-6903-461f-8ccc-a58b25de4d44"
      },
      "execution_count": 139,
      "outputs": [
        {
          "output_type": "stream",
          "name": "stderr",
          "text": [
            "[Parallel(n_jobs=2)]: Using backend ThreadingBackend with 2 concurrent workers.\n",
            "[Parallel(n_jobs=2)]: Done  21 tasks      | elapsed:    0.1s\n",
            "[Parallel(n_jobs=2)]: Done  50 out of  50 | elapsed:    0.1s finished\n"
          ]
        },
        {
          "output_type": "execute_result",
          "data": {
            "text/plain": [
              "0.9404159745429139"
            ]
          },
          "metadata": {},
          "execution_count": 139
        }
      ]
    },
    {
      "cell_type": "code",
      "source": [
        "#Predicted Volatility"
      ],
      "metadata": {
        "id": "tzNp5G001q_S"
      },
      "execution_count": null,
      "outputs": []
    },
    {
      "cell_type": "code",
      "source": [
        "predicted_vol_rand = rand_mod.predict(X_tr)\n",
        "predicted_vol_rand"
      ],
      "metadata": {
        "colab": {
          "base_uri": "https://localhost:8080/"
        },
        "id": "9lgPXBck1vHn",
        "outputId": "3538bc17-004a-4a97-f4eb-a4f47fdc5340"
      },
      "execution_count": 140,
      "outputs": [
        {
          "output_type": "stream",
          "name": "stderr",
          "text": [
            "[Parallel(n_jobs=2)]: Using backend ThreadingBackend with 2 concurrent workers.\n",
            "[Parallel(n_jobs=2)]: Done  21 tasks      | elapsed:    0.1s\n",
            "[Parallel(n_jobs=2)]: Done  50 out of  50 | elapsed:    0.1s finished\n"
          ]
        },
        {
          "output_type": "execute_result",
          "data": {
            "text/plain": [
              "array([1.601092  , 1.00142458, 0.76469523, ..., 1.58770518, 1.18231383,\n",
              "       1.12168416])"
            ]
          },
          "metadata": {},
          "execution_count": 140
        }
      ]
    },
    {
      "cell_type": "code",
      "source": [
        "p_d_For = pd.DataFrame(predicted_vol_rand)"
      ],
      "metadata": {
        "id": "VlM3qO3X12VN"
      },
      "execution_count": 141,
      "outputs": []
    },
    {
      "cell_type": "code",
      "source": [
        "p_d_For.to_excel('rand_For_p.xlsx') #print predicted value"
      ],
      "metadata": {
        "id": "FSscLW4U183f"
      },
      "execution_count": 143,
      "outputs": []
    },
    {
      "cell_type": "code",
      "source": [
        "p_d_s_o.to_excel('rand_For_a.xlsx') #print actual values"
      ],
      "metadata": {
        "id": "HudLijSu2JgP"
      },
      "execution_count": 145,
      "outputs": []
    },
    {
      "cell_type": "code",
      "source": [
        "p_d_For"
      ],
      "metadata": {
        "colab": {
          "base_uri": "https://localhost:8080/",
          "height": 423
        },
        "id": "Et8Ib6FT2XBV",
        "outputId": "0dbeaad8-9bcc-4a19-cd4d-ee5f6f8abcbf"
      },
      "execution_count": 147,
      "outputs": [
        {
          "output_type": "execute_result",
          "data": {
            "text/html": [
              "\n",
              "  <div id=\"df-47c9c31f-83f9-4620-b842-b5e49ddb5bde\">\n",
              "    <div class=\"colab-df-container\">\n",
              "      <div>\n",
              "<style scoped>\n",
              "    .dataframe tbody tr th:only-of-type {\n",
              "        vertical-align: middle;\n",
              "    }\n",
              "\n",
              "    .dataframe tbody tr th {\n",
              "        vertical-align: top;\n",
              "    }\n",
              "\n",
              "    .dataframe thead th {\n",
              "        text-align: right;\n",
              "    }\n",
              "</style>\n",
              "<table border=\"1\" class=\"dataframe\">\n",
              "  <thead>\n",
              "    <tr style=\"text-align: right;\">\n",
              "      <th></th>\n",
              "      <th>0</th>\n",
              "    </tr>\n",
              "  </thead>\n",
              "  <tbody>\n",
              "    <tr>\n",
              "      <th>0</th>\n",
              "      <td>1.601092</td>\n",
              "    </tr>\n",
              "    <tr>\n",
              "      <th>1</th>\n",
              "      <td>1.001425</td>\n",
              "    </tr>\n",
              "    <tr>\n",
              "      <th>2</th>\n",
              "      <td>0.764695</td>\n",
              "    </tr>\n",
              "    <tr>\n",
              "      <th>3</th>\n",
              "      <td>0.988486</td>\n",
              "    </tr>\n",
              "    <tr>\n",
              "      <th>4</th>\n",
              "      <td>1.027611</td>\n",
              "    </tr>\n",
              "    <tr>\n",
              "      <th>...</th>\n",
              "      <td>...</td>\n",
              "    </tr>\n",
              "    <tr>\n",
              "      <th>7889</th>\n",
              "      <td>1.154308</td>\n",
              "    </tr>\n",
              "    <tr>\n",
              "      <th>7890</th>\n",
              "      <td>1.672240</td>\n",
              "    </tr>\n",
              "    <tr>\n",
              "      <th>7891</th>\n",
              "      <td>1.587705</td>\n",
              "    </tr>\n",
              "    <tr>\n",
              "      <th>7892</th>\n",
              "      <td>1.182314</td>\n",
              "    </tr>\n",
              "    <tr>\n",
              "      <th>7893</th>\n",
              "      <td>1.121684</td>\n",
              "    </tr>\n",
              "  </tbody>\n",
              "</table>\n",
              "<p>7894 rows × 1 columns</p>\n",
              "</div>\n",
              "      <button class=\"colab-df-convert\" onclick=\"convertToInteractive('df-47c9c31f-83f9-4620-b842-b5e49ddb5bde')\"\n",
              "              title=\"Convert this dataframe to an interactive table.\"\n",
              "              style=\"display:none;\">\n",
              "        \n",
              "  <svg xmlns=\"http://www.w3.org/2000/svg\" height=\"24px\"viewBox=\"0 0 24 24\"\n",
              "       width=\"24px\">\n",
              "    <path d=\"M0 0h24v24H0V0z\" fill=\"none\"/>\n",
              "    <path d=\"M18.56 5.44l.94 2.06.94-2.06 2.06-.94-2.06-.94-.94-2.06-.94 2.06-2.06.94zm-11 1L8.5 8.5l.94-2.06 2.06-.94-2.06-.94L8.5 2.5l-.94 2.06-2.06.94zm10 10l.94 2.06.94-2.06 2.06-.94-2.06-.94-.94-2.06-.94 2.06-2.06.94z\"/><path d=\"M17.41 7.96l-1.37-1.37c-.4-.4-.92-.59-1.43-.59-.52 0-1.04.2-1.43.59L10.3 9.45l-7.72 7.72c-.78.78-.78 2.05 0 2.83L4 21.41c.39.39.9.59 1.41.59.51 0 1.02-.2 1.41-.59l7.78-7.78 2.81-2.81c.8-.78.8-2.07 0-2.86zM5.41 20L4 18.59l7.72-7.72 1.47 1.35L5.41 20z\"/>\n",
              "  </svg>\n",
              "      </button>\n",
              "      \n",
              "  <style>\n",
              "    .colab-df-container {\n",
              "      display:flex;\n",
              "      flex-wrap:wrap;\n",
              "      gap: 12px;\n",
              "    }\n",
              "\n",
              "    .colab-df-convert {\n",
              "      background-color: #E8F0FE;\n",
              "      border: none;\n",
              "      border-radius: 50%;\n",
              "      cursor: pointer;\n",
              "      display: none;\n",
              "      fill: #1967D2;\n",
              "      height: 32px;\n",
              "      padding: 0 0 0 0;\n",
              "      width: 32px;\n",
              "    }\n",
              "\n",
              "    .colab-df-convert:hover {\n",
              "      background-color: #E2EBFA;\n",
              "      box-shadow: 0px 1px 2px rgba(60, 64, 67, 0.3), 0px 1px 3px 1px rgba(60, 64, 67, 0.15);\n",
              "      fill: #174EA6;\n",
              "    }\n",
              "\n",
              "    [theme=dark] .colab-df-convert {\n",
              "      background-color: #3B4455;\n",
              "      fill: #D2E3FC;\n",
              "    }\n",
              "\n",
              "    [theme=dark] .colab-df-convert:hover {\n",
              "      background-color: #434B5C;\n",
              "      box-shadow: 0px 1px 3px 1px rgba(0, 0, 0, 0.15);\n",
              "      filter: drop-shadow(0px 1px 2px rgba(0, 0, 0, 0.3));\n",
              "      fill: #FFFFFF;\n",
              "    }\n",
              "  </style>\n",
              "\n",
              "      <script>\n",
              "        const buttonEl =\n",
              "          document.querySelector('#df-47c9c31f-83f9-4620-b842-b5e49ddb5bde button.colab-df-convert');\n",
              "        buttonEl.style.display =\n",
              "          google.colab.kernel.accessAllowed ? 'block' : 'none';\n",
              "\n",
              "        async function convertToInteractive(key) {\n",
              "          const element = document.querySelector('#df-47c9c31f-83f9-4620-b842-b5e49ddb5bde');\n",
              "          const dataTable =\n",
              "            await google.colab.kernel.invokeFunction('convertToInteractive',\n",
              "                                                     [key], {});\n",
              "          if (!dataTable) return;\n",
              "\n",
              "          const docLinkHtml = 'Like what you see? Visit the ' +\n",
              "            '<a target=\"_blank\" href=https://colab.research.google.com/notebooks/data_table.ipynb>data table notebook</a>'\n",
              "            + ' to learn more about interactive tables.';\n",
              "          element.innerHTML = '';\n",
              "          dataTable['output_type'] = 'display_data';\n",
              "          await google.colab.output.renderOutput(dataTable, element);\n",
              "          const docLink = document.createElement('div');\n",
              "          docLink.innerHTML = docLinkHtml;\n",
              "          element.appendChild(docLink);\n",
              "        }\n",
              "      </script>\n",
              "    </div>\n",
              "  </div>\n",
              "  "
            ],
            "text/plain": [
              "             0\n",
              "0     1.601092\n",
              "1     1.001425\n",
              "2     0.764695\n",
              "3     0.988486\n",
              "4     1.027611\n",
              "...        ...\n",
              "7889  1.154308\n",
              "7890  1.672240\n",
              "7891  1.587705\n",
              "7892  1.182314\n",
              "7893  1.121684\n",
              "\n",
              "[7894 rows x 1 columns]"
            ]
          },
          "metadata": {},
          "execution_count": 147
        }
      ]
    },
    {
      "cell_type": "code",
      "source": [
        "#plotting volatility observed, predicted Volatility using Random Forest"
      ],
      "metadata": {
        "id": "aL2iZNdA2aW2"
      },
      "execution_count": null,
      "outputs": []
    },
    {
      "cell_type": "code",
      "source": [
        "#Visualising the results"
      ],
      "metadata": {
        "id": "5CoD4R5I2n-c"
      },
      "execution_count": null,
      "outputs": []
    },
    {
      "cell_type": "code",
      "source": [
        "print(df.iloc[10:,9:10])"
      ],
      "metadata": {
        "colab": {
          "base_uri": "https://localhost:8080/"
        },
        "id": "tgis79s-2_gm",
        "outputId": "0717911b-f6e1-4168-f847-91084e108fa4"
      },
      "execution_count": 148,
      "outputs": [
        {
          "output_type": "stream",
          "name": "stdout",
          "text": [
            "            Volatility\n",
            "Date                  \n",
            "1990-02-08    1.723761\n",
            "1990-02-10    0.943967\n",
            "1990-02-11    0.603746\n",
            "1990-02-13    1.072026\n",
            "1990-02-14    1.091692\n",
            "...                ...\n",
            "2021-12-01    1.008833\n",
            "2021-12-02    1.909010\n",
            "2021-12-03    1.490216\n",
            "2021-12-04    1.122744\n",
            "2021-12-05    1.148260\n",
            "\n",
            "[7894 rows x 1 columns]\n"
          ]
        }
      ]
    },
    {
      "cell_type": "code",
      "source": [
        "print(df.iloc[:,9:10])"
      ],
      "metadata": {
        "colab": {
          "base_uri": "https://localhost:8080/"
        },
        "id": "0bk2dQmbyF6t",
        "outputId": "e0b9803d-34c9-4fe5-a688-ddc9980fedd0"
      },
      "execution_count": 152,
      "outputs": [
        {
          "output_type": "stream",
          "name": "stdout",
          "text": [
            "            Volatility\n",
            "Date                  \n",
            "1990-01-03    0.893589\n",
            "1990-01-05    1.334283\n",
            "1990-01-06    0.881965\n",
            "1990-01-08    1.712147\n",
            "1990-01-10    0.947622\n",
            "...                ...\n",
            "2021-12-01    1.008833\n",
            "2021-12-02    1.909010\n",
            "2021-12-03    1.490216\n",
            "2021-12-04    1.122744\n",
            "2021-12-05    1.148260\n",
            "\n",
            "[7904 rows x 1 columns]\n"
          ]
        }
      ]
    },
    {
      "cell_type": "code",
      "source": [
        "plt.figure(figsize=(16,6))\n",
        "plt.plot(df.iloc[10:, 9:10].values, color = 'red', label = 'Volatility Observed')\n",
        "plt.plot(predicted_vol_rand, color = 'green', label = 'predicted volatility')\n",
        "plt.title('Volatility vs predicted volatility using random forest')\n",
        "plt.xlabel('Duration')\n",
        "plt.ylabel('Volatility')\n",
        "plt.legend()\n",
        "plt.show()"
      ],
      "metadata": {
        "colab": {
          "base_uri": "https://localhost:8080/",
          "height": 393
        },
        "id": "sgZ930pl20DG",
        "outputId": "9b1312c6-3bff-4685-aeb9-9fb8cfb4a4f0"
      },
      "execution_count": 151,
      "outputs": [
        {
          "output_type": "display_data",
          "data": {
            "image/png": "[encoded data removed]",
            "text/plain": [
              "<Figure size 1152x432 with 1 Axes>"
            ]
          },
          "metadata": {
            "needs_background": "light"
          }
        }
      ]
    },
    {
      "cell_type": "code",
      "source": [
        "print('RMSE calculated for Random Forest:', np.sqrt(metrics.mean_squared_error(df.iloc[10:, 9:10].values, predicted_vol_rand)))"
      ],
      "metadata": {
        "colab": {
          "base_uri": "https://localhost:8080/"
        },
        "id": "SbVyvThyaiQB",
        "outputId": "9c1129bd-fd8d-4a83-f367-7c9be3df5122"
      },
      "execution_count": 153,
      "outputs": [
        {
          "output_type": "stream",
          "name": "stdout",
          "text": [
            "RMSE calculated for Random Forest: 0.09139294669083681\n"
          ]
        }
      ]
    },
    {
      "cell_type": "code",
      "source": [
        "print('MAE calculated for Random Forest:',MAE(df.iloc[10:,9:10].values, predicted_vol_rand))"
      ],
      "metadata": {
        "colab": {
          "base_uri": "https://localhost:8080/"
        },
        "id": "gepeFNg4ys98",
        "outputId": "95df63b9-83a5-43db-c7c4-9af894093463"
      },
      "execution_count": 154,
      "outputs": [
        {
          "output_type": "stream",
          "name": "stdout",
          "text": [
            "MAE calculated for Random Forest: 0.05512732712403428\n"
          ]
        }
      ]
    },
    {
      "cell_type": "code",
      "source": [
        "print('MAPE calculated for Random Forest:', mean_absolute_percentage_error(y_rbf, predicted_vol_rand))"
      ],
      "metadata": {
        "colab": {
          "base_uri": "https://localhost:8080/"
        },
        "id": "UjOOoPI8y_Zz",
        "outputId": "a1a793dd-4f80-4a56-ec73-ff0f8f80d9dd"
      },
      "execution_count": 155,
      "outputs": [
        {
          "output_type": "stream",
          "name": "stdout",
          "text": [
            "MAPE calculated for Random Forest: 0.1040726764666995\n"
          ]
        }
      ]
    }
  ]
}