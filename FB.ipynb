{
  "nbformat": 4,
  "nbformat_minor": 0,
  "metadata": {
    "colab": {
      "name": "Untitled0.ipynb",
      "provenance": [],
      "authorship_tag": "ABX9TyMFFlYrY7Nu4osNqdC7gm2v",
      "include_colab_link": true
    },
    "kernelspec": {
      "name": "python3",
      "display_name": "Python 3"
    },
    "language_info": {
      "name": "python"
    }
  },
  "cells": [
    {
      "cell_type": "markdown",
      "metadata": {
        "id": "view-in-github",
        "colab_type": "text"
      },
      "source": [
        "<a href=\"https://colab.research.google.com/github/w1767/w1767/blob/main/FB.ipynb\" target=\"_parent\"><img src=\"https://colab.research.google.com/assets/colab-badge.svg\" alt=\"Open In Colab\"/></a>"
      ]
    },
    {
      "cell_type": "code",
      "metadata": {
        "id": "jF-rA78EBttL"
      },
      "source": [
        "# Description: this program uses an aritificial recurrent neural network called Long Short Term Memory (LSTM) to predict\n",
        "# the closing stock price of a corporation (Apple Inc.) using the past 60 day stock price. "
      ],
      "execution_count": 53,
      "outputs": []
    },
    {
      "cell_type": "code",
      "metadata": {
        "id": "wpTDFiYaHooV"
      },
      "source": [
        ""
      ],
      "execution_count": null,
      "outputs": []
    },
    {
      "cell_type": "code",
      "metadata": {
        "id": "4t9te_ZzCKmA",
        "colab": {
          "base_uri": "https://localhost:8080/"
        },
        "outputId": "59098b59-3646-4737-bfb2-5a6abd613040"
      },
      "source": [
        "# Import the libraries\n",
        "!pip install pandas_datareader\n",
        "!pip install yfinance\n",
        "!pip install mplfinance\n",
        "import os\n",
        "import argparse\n",
        "import signal\n",
        "import yfinance as yf\n",
        "import pickle\n",
        "import mplfinance as mpf\n",
        "import math\n",
        "import pandas_datareader.data as web\n",
        "from datetime import datetime, timedelta\n",
        "import numpy as np\n",
        "import pandas as pd\n",
        "from sklearn.preprocessing import MinMaxScaler\n",
        "from keras.models import Sequential\n",
        "from keras.layers import Dense, LSTM\n",
        "#from yfinance import stock_info\n",
        "from dateutil.parser import parse\n",
        "from urllib.request import urlopen, Request\n",
        "from bs4 import BeautifulSoup\n",
        "import matplotlib.pyplot as plt\n",
        "plt.style.use('fivethirtyeight')\n",
        "start_date = datetime(2020, 1,1)\n",
        "end_date = datetime(2021, 7, 23)\n"
      ],
      "execution_count": 54,
      "outputs": [
        {
          "output_type": "stream",
          "text": [
            "Requirement already satisfied: pandas_datareader in /usr/local/lib/python3.7/dist-packages (0.9.0)\n",
            "Requirement already satisfied: requests>=2.19.0 in /usr/local/lib/python3.7/dist-packages (from pandas_datareader) (2.23.0)\n",
            "Requirement already satisfied: pandas>=0.23 in /usr/local/lib/python3.7/dist-packages (from pandas_datareader) (1.1.5)\n",
            "Requirement already satisfied: lxml in /usr/local/lib/python3.7/dist-packages (from pandas_datareader) (4.6.3)\n",
            "Requirement already satisfied: pytz>=2017.2 in /usr/local/lib/python3.7/dist-packages (from pandas>=0.23->pandas_datareader) (2018.9)\n",
            "Requirement already satisfied: python-dateutil>=2.7.3 in /usr/local/lib/python3.7/dist-packages (from pandas>=0.23->pandas_datareader) (2.8.1)\n",
            "Requirement already satisfied: numpy>=1.15.4 in /usr/local/lib/python3.7/dist-packages (from pandas>=0.23->pandas_datareader) (1.19.5)\n",
            "Requirement already satisfied: six>=1.5 in /usr/local/lib/python3.7/dist-packages (from python-dateutil>=2.7.3->pandas>=0.23->pandas_datareader) (1.15.0)\n",
            "Requirement already satisfied: idna<3,>=2.5 in /usr/local/lib/python3.7/dist-packages (from requests>=2.19.0->pandas_datareader) (2.10)\n",
            "Requirement already satisfied: chardet<4,>=3.0.2 in /usr/local/lib/python3.7/dist-packages (from requests>=2.19.0->pandas_datareader) (3.0.4)\n",
            "Requirement already satisfied: certifi>=2017.4.17 in /usr/local/lib/python3.7/dist-packages (from requests>=2.19.0->pandas_datareader) (2021.5.30)\n",
            "Requirement already satisfied: urllib3!=1.25.0,!=1.25.1,<1.26,>=1.21.1 in /usr/local/lib/python3.7/dist-packages (from requests>=2.19.0->pandas_datareader) (1.24.3)\n",
            "Requirement already satisfied: yfinance in /usr/local/lib/python3.7/dist-packages (0.1.63)\n",
            "Requirement already satisfied: multitasking>=0.0.7 in /usr/local/lib/python3.7/dist-packages (from yfinance) (0.0.9)\n",
            "Requirement already satisfied: numpy>=1.15 in /usr/local/lib/python3.7/dist-packages (from yfinance) (1.19.5)\n",
            "Requirement already satisfied: pandas>=0.24 in /usr/local/lib/python3.7/dist-packages (from yfinance) (1.1.5)\n",
            "Requirement already satisfied: requests>=2.20 in /usr/local/lib/python3.7/dist-packages (from yfinance) (2.23.0)\n",
            "Requirement already satisfied: lxml>=4.5.1 in /usr/local/lib/python3.7/dist-packages (from yfinance) (4.6.3)\n",
            "Requirement already satisfied: python-dateutil>=2.7.3 in /usr/local/lib/python3.7/dist-packages (from pandas>=0.24->yfinance) (2.8.1)\n",
            "Requirement already satisfied: pytz>=2017.2 in /usr/local/lib/python3.7/dist-packages (from pandas>=0.24->yfinance) (2018.9)\n",
            "Requirement already satisfied: six>=1.5 in /usr/local/lib/python3.7/dist-packages (from python-dateutil>=2.7.3->pandas>=0.24->yfinance) (1.15.0)\n",
            "Requirement already satisfied: idna<3,>=2.5 in /usr/local/lib/python3.7/dist-packages (from requests>=2.20->yfinance) (2.10)\n",
            "Requirement already satisfied: chardet<4,>=3.0.2 in /usr/local/lib/python3.7/dist-packages (from requests>=2.20->yfinance) (3.0.4)\n",
            "Requirement already satisfied: certifi>=2017.4.17 in /usr/local/lib/python3.7/dist-packages (from requests>=2.20->yfinance) (2021.5.30)\n",
            "Requirement already satisfied: urllib3!=1.25.0,!=1.25.1,<1.26,>=1.21.1 in /usr/local/lib/python3.7/dist-packages (from requests>=2.20->yfinance) (1.24.3)\n",
            "Requirement already satisfied: mplfinance in /usr/local/lib/python3.7/dist-packages (0.12.7a17)\n",
            "Requirement already satisfied: pandas in /usr/local/lib/python3.7/dist-packages (from mplfinance) (1.1.5)\n",
            "Requirement already satisfied: matplotlib in /usr/local/lib/python3.7/dist-packages (from mplfinance) (3.2.2)\n",
            "Requirement already satisfied: kiwisolver>=1.0.1 in /usr/local/lib/python3.7/dist-packages (from matplotlib->mplfinance) (1.3.1)\n",
            "Requirement already satisfied: cycler>=0.10 in /usr/local/lib/python3.7/dist-packages (from matplotlib->mplfinance) (0.10.0)\n",
            "Requirement already satisfied: python-dateutil>=2.1 in /usr/local/lib/python3.7/dist-packages (from matplotlib->mplfinance) (2.8.1)\n",
            "Requirement already satisfied: pyparsing!=2.0.4,!=2.1.2,!=2.1.6,>=2.0.1 in /usr/local/lib/python3.7/dist-packages (from matplotlib->mplfinance) (2.4.7)\n",
            "Requirement already satisfied: numpy>=1.11 in /usr/local/lib/python3.7/dist-packages (from matplotlib->mplfinance) (1.19.5)\n",
            "Requirement already satisfied: six in /usr/local/lib/python3.7/dist-packages (from cycler>=0.10->matplotlib->mplfinance) (1.15.0)\n",
            "Requirement already satisfied: pytz>=2017.2 in /usr/local/lib/python3.7/dist-packages (from pandas->mplfinance) (2018.9)\n"
          ],
          "name": "stdout"
        }
      ]
    },
    {
      "cell_type": "code",
      "metadata": {
        "colab": {
          "base_uri": "https://localhost:8080/",
          "height": 467
        },
        "id": "Tkat1PpYDTgp",
        "outputId": "95ed7181-75ef-4b85-c0ed-5084eca1c231"
      },
      "source": [
        "#Get the stock quote\n",
        "data = yf.download('FB', start=start_date, end=end_date)\n",
        "#df = web.DataReader('FB', data_source='yahoo',start='2012-01',end='2019-12-17')\n",
        "#show the data\n",
        "data.head(391)"
      ],
      "execution_count": 93,
      "outputs": [
        {
          "output_type": "stream",
          "text": [
            "\r[*********************100%***********************]  1 of 1 completed\n"
          ],
          "name": "stdout"
        },
        {
          "output_type": "execute_result",
          "data": {
            "text/html": [
              "<div>\n",
              "<style scoped>\n",
              "    .dataframe tbody tr th:only-of-type {\n",
              "        vertical-align: middle;\n",
              "    }\n",
              "\n",
              "    .dataframe tbody tr th {\n",
              "        vertical-align: top;\n",
              "    }\n",
              "\n",
              "    .dataframe thead th {\n",
              "        text-align: right;\n",
              "    }\n",
              "</style>\n",
              "<table border=\"1\" class=\"dataframe\">\n",
              "  <thead>\n",
              "    <tr style=\"text-align: right;\">\n",
              "      <th></th>\n",
              "      <th>Open</th>\n",
              "      <th>High</th>\n",
              "      <th>Low</th>\n",
              "      <th>Close</th>\n",
              "      <th>Adj Close</th>\n",
              "      <th>Volume</th>\n",
              "    </tr>\n",
              "    <tr>\n",
              "      <th>Date</th>\n",
              "      <th></th>\n",
              "      <th></th>\n",
              "      <th></th>\n",
              "      <th></th>\n",
              "      <th></th>\n",
              "      <th></th>\n",
              "    </tr>\n",
              "  </thead>\n",
              "  <tbody>\n",
              "    <tr>\n",
              "      <th>2020-01-02</th>\n",
              "      <td>206.750000</td>\n",
              "      <td>209.789993</td>\n",
              "      <td>206.270004</td>\n",
              "      <td>209.779999</td>\n",
              "      <td>209.779999</td>\n",
              "      <td>12077100</td>\n",
              "    </tr>\n",
              "    <tr>\n",
              "      <th>2020-01-03</th>\n",
              "      <td>207.210007</td>\n",
              "      <td>210.399994</td>\n",
              "      <td>206.949997</td>\n",
              "      <td>208.669998</td>\n",
              "      <td>208.669998</td>\n",
              "      <td>11188400</td>\n",
              "    </tr>\n",
              "    <tr>\n",
              "      <th>2020-01-06</th>\n",
              "      <td>206.699997</td>\n",
              "      <td>212.779999</td>\n",
              "      <td>206.520004</td>\n",
              "      <td>212.600006</td>\n",
              "      <td>212.600006</td>\n",
              "      <td>17058900</td>\n",
              "    </tr>\n",
              "    <tr>\n",
              "      <th>2020-01-07</th>\n",
              "      <td>212.820007</td>\n",
              "      <td>214.580002</td>\n",
              "      <td>211.750000</td>\n",
              "      <td>213.059998</td>\n",
              "      <td>213.059998</td>\n",
              "      <td>14912400</td>\n",
              "    </tr>\n",
              "    <tr>\n",
              "      <th>2020-01-08</th>\n",
              "      <td>213.000000</td>\n",
              "      <td>216.240005</td>\n",
              "      <td>212.610001</td>\n",
              "      <td>215.220001</td>\n",
              "      <td>215.220001</td>\n",
              "      <td>13475000</td>\n",
              "    </tr>\n",
              "    <tr>\n",
              "      <th>...</th>\n",
              "      <td>...</td>\n",
              "      <td>...</td>\n",
              "      <td>...</td>\n",
              "      <td>...</td>\n",
              "      <td>...</td>\n",
              "      <td>...</td>\n",
              "    </tr>\n",
              "    <tr>\n",
              "      <th>2021-07-15</th>\n",
              "      <td>349.230011</td>\n",
              "      <td>349.230011</td>\n",
              "      <td>340.220001</td>\n",
              "      <td>344.459991</td>\n",
              "      <td>344.459991</td>\n",
              "      <td>14781600</td>\n",
              "    </tr>\n",
              "    <tr>\n",
              "      <th>2021-07-16</th>\n",
              "      <td>344.910004</td>\n",
              "      <td>345.989990</td>\n",
              "      <td>340.140015</td>\n",
              "      <td>341.160004</td>\n",
              "      <td>341.160004</td>\n",
              "      <td>11020300</td>\n",
              "    </tr>\n",
              "    <tr>\n",
              "      <th>2021-07-19</th>\n",
              "      <td>337.570007</td>\n",
              "      <td>339.790009</td>\n",
              "      <td>334.540009</td>\n",
              "      <td>336.950012</td>\n",
              "      <td>336.950012</td>\n",
              "      <td>14372300</td>\n",
              "    </tr>\n",
              "    <tr>\n",
              "      <th>2021-07-20</th>\n",
              "      <td>338.799988</td>\n",
              "      <td>343.450012</td>\n",
              "      <td>334.500000</td>\n",
              "      <td>341.660004</td>\n",
              "      <td>341.660004</td>\n",
              "      <td>11016000</td>\n",
              "    </tr>\n",
              "    <tr>\n",
              "      <th>2021-07-21</th>\n",
              "      <td>341.500000</td>\n",
              "      <td>346.519989</td>\n",
              "      <td>341.250000</td>\n",
              "      <td>346.230011</td>\n",
              "      <td>346.230011</td>\n",
              "      <td>9270000</td>\n",
              "    </tr>\n",
              "  </tbody>\n",
              "</table>\n",
              "<p>391 rows × 6 columns</p>\n",
              "</div>"
            ],
            "text/plain": [
              "                  Open        High  ...   Adj Close    Volume\n",
              "Date                                ...                      \n",
              "2020-01-02  206.750000  209.789993  ...  209.779999  12077100\n",
              "2020-01-03  207.210007  210.399994  ...  208.669998  11188400\n",
              "2020-01-06  206.699997  212.779999  ...  212.600006  17058900\n",
              "2020-01-07  212.820007  214.580002  ...  213.059998  14912400\n",
              "2020-01-08  213.000000  216.240005  ...  215.220001  13475000\n",
              "...                ...         ...  ...         ...       ...\n",
              "2021-07-15  349.230011  349.230011  ...  344.459991  14781600\n",
              "2021-07-16  344.910004  345.989990  ...  341.160004  11020300\n",
              "2021-07-19  337.570007  339.790009  ...  336.950012  14372300\n",
              "2021-07-20  338.799988  343.450012  ...  341.660004  11016000\n",
              "2021-07-21  341.500000  346.519989  ...  346.230011   9270000\n",
              "\n",
              "[391 rows x 6 columns]"
            ]
          },
          "metadata": {
            "tags": []
          },
          "execution_count": 93
        }
      ]
    },
    {
      "cell_type": "code",
      "metadata": {
        "id": "iINONBjJCmEs"
      },
      "source": [
        ""
      ],
      "execution_count": 55,
      "outputs": []
    },
    {
      "cell_type": "code",
      "metadata": {
        "colab": {
          "base_uri": "https://localhost:8080/"
        },
        "id": "-1NflEs4D4Bv",
        "outputId": "e8dd7742-a040-427d-ac6b-e6181fd1f443"
      },
      "source": [
        "#Get the number of rows and columns in the data set\n",
        "data.shape\n",
        "\n"
      ],
      "execution_count": 94,
      "outputs": [
        {
          "output_type": "execute_result",
          "data": {
            "text/plain": [
              "(392, 6)"
            ]
          },
          "metadata": {
            "tags": []
          },
          "execution_count": 94
        }
      ]
    },
    {
      "cell_type": "code",
      "metadata": {
        "colab": {
          "base_uri": "https://localhost:8080/",
          "height": 523
        },
        "id": "nASYYE3wEFyH",
        "outputId": "033669e9-3f23-43da-a5a2-64fc9c1ca358"
      },
      "source": [
        "mpf.plot(data, type='candle', mav= (3,6,9), volume=True, show_nontrading=True)\n",
        "#Visualize the closing price history\n",
        "#plt.figure(figsize=(16,8))\n",
        "#plt.title('Close Price History')\n",
        "#plt.plot(df['Close'])\n",
        "#plt.xlabel('Date',fontsize=18)\n",
        "#plt.ylabel('Close Price USD($)',fontsize=18)\n",
        "#plt.show()"
      ],
      "execution_count": 95,
      "outputs": [
        {
          "output_type": "display_data",
          "data": {
            "image/png": "[encoded data removed]",
            "text/plain": [
              "<Figure size 800x575 with 4 Axes>"
            ]
          },
          "metadata": {
            "tags": []
          }
        }
      ]
    },
    {
      "cell_type": "code",
      "metadata": {
        "id": "5u3vU4T5HqUi"
      },
      "source": [
        ""
      ],
      "execution_count": 95,
      "outputs": []
    },
    {
      "cell_type": "code",
      "metadata": {
        "colab": {
          "base_uri": "https://localhost:8080/"
        },
        "id": "LhjmcNHG7Tbm",
        "outputId": "391d8576-ab45-4c06-f296-18d3e7741d16"
      },
      "source": [
        "#Create a new dataframe with only the 'Close column'\n",
        "data = data.filter(['Close'])\n",
        "#Convert the dataframe to a numpy array\n",
        "dataset = data.values\n",
        "#Get the number of rows to train the model on \n",
        "training_data_len = math.ceil(len(dataset) * .8)\n",
        "\n",
        "training_data_len"
      ],
      "execution_count": 96,
      "outputs": [
        {
          "output_type": "execute_result",
          "data": {
            "text/plain": [
              "314"
            ]
          },
          "metadata": {
            "tags": []
          },
          "execution_count": 96
        }
      ]
    },
    {
      "cell_type": "code",
      "metadata": {
        "colab": {
          "base_uri": "https://localhost:8080/"
        },
        "id": "7KFZs2c38gaO",
        "outputId": "ac9b39b4-454f-44b4-ac1d-d7c4eb5fd4e2"
      },
      "source": [
        "#Scale the data\n",
        "scaler = MinMaxScaler(feature_range=(0,1))\n",
        "scaled_data = scaler.fit_transform(dataset)\n",
        "scaled_data\n",
        "\n"
      ],
      "execution_count": 97,
      "outputs": [
        {
          "output_type": "execute_result",
          "data": {
            "text/plain": [
              "array([[0.30420263],\n",
              "       [0.29890759],\n",
              "       [0.31765494],\n",
              "       [0.31984924],\n",
              "       [0.33015313],\n",
              "       [0.34484569],\n",
              "       [0.34370079],\n",
              "       [0.36206651],\n",
              "       [0.3484711 ],\n",
              "       [0.35844103],\n",
              "       [0.36139867],\n",
              "       [0.36316366],\n",
              "       [0.35982446],\n",
              "       [0.35925204],\n",
              "       [0.3518103 ],\n",
              "       [0.34312837],\n",
              "       [0.32848349],\n",
              "       [0.34241278],\n",
              "       [0.36836328],\n",
              "       [0.30301006],\n",
              "       [0.26666032],\n",
              "       [0.27753662],\n",
              "       [0.30444116],\n",
              "       [0.30577684],\n",
              "       [0.3093069 ],\n",
              "       [0.31636694],\n",
              "       [0.31984924],\n",
              "       [0.29184755],\n",
              "       [0.30887752],\n",
              "       [0.32023088],\n",
              "       [0.32519196],\n",
              "       [0.34246053],\n",
              "       [0.34098175],\n",
              "       [0.32710013],\n",
              "       [0.30611073],\n",
              "       [0.26098364],\n",
              "       [0.24214094],\n",
              "       [0.24419214],\n",
              "       [0.20865335],\n",
              "       [0.22162859],\n",
              "       [0.24056673],\n",
              "       [0.19023995],\n",
              "       [0.21824164],\n",
              "       [0.18680532],\n",
              "       [0.16734245],\n",
              "       [0.11205459],\n",
              "       [0.15350859],\n",
              "       [0.11558464],\n",
              "       [0.04035685],\n",
              "       [0.11577542],\n",
              "       [0.        ],\n",
              "       [0.01626677],\n",
              "       [0.00453185],\n",
              "       [0.03396465],\n",
              "       [0.01774556],\n",
              "       [0.00997   ],\n",
              "       [0.07141153],\n",
              "       [0.04865721],\n",
              "       [0.08266947],\n",
              "       [0.05142393],\n",
              "       [0.09511998],\n",
              "       [0.09917477],\n",
              "       [0.06482856],\n",
              "       [0.0581024 ],\n",
              "       [0.03897342],\n",
              "       [0.09321188],\n",
              "       [0.10885849],\n",
              "       [0.13485666],\n",
              "       [0.13919766],\n",
              "       [0.13728949],\n",
              "       [0.15341316],\n",
              "       [0.1476888 ],\n",
              "       [0.14425417],\n",
              "       [0.15851742],\n",
              "       [0.15374712],\n",
              "       [0.118256  ],\n",
              "       [0.17301913],\n",
              "       [0.18661454],\n",
              "       [0.21017988],\n",
              "       [0.19792015],\n",
              "       [0.17602445],\n",
              "       [0.22983353],\n",
              "       [0.2800172 ],\n",
              "       [0.26837764],\n",
              "       [0.28264082],\n",
              "       [0.29127514],\n",
              "       [0.29795354],\n",
              "       [0.31126267],\n",
              "       [0.31646236],\n",
              "       [0.32042166],\n",
              "       [0.30572917],\n",
              "       [0.28187762],\n",
              "       [0.29003481],\n",
              "       [0.30945   ],\n",
              "       [0.32046941],\n",
              "       [0.33807186],\n",
              "       [0.40051519],\n",
              "       [0.40728902],\n",
              "       [0.42408053],\n",
              "       [0.41115296],\n",
              "       [0.39655582],\n",
              "       [0.37900112],\n",
              "       [0.37723606],\n",
              "       [0.4097696 ],\n",
              "       [0.41363354],\n",
              "       [0.40142156],\n",
              "       [0.38296041],\n",
              "       [0.40433145],\n",
              "       [0.40733669],\n",
              "       [0.44201686],\n",
              "       [0.43276245],\n",
              "       [0.37408763],\n",
              "       [0.39388446],\n",
              "       [0.41258406],\n",
              "       [0.42761051],\n",
              "       [0.42703809],\n",
              "       [0.42899394],\n",
              "       [0.44258928],\n",
              "       [0.44464055],\n",
              "       [0.4590469 ],\n",
              "       [0.41983495],\n",
              "       [0.42775361],\n",
              "       [0.3342556 ],\n",
              "       [0.35600819],\n",
              "       [0.38668132],\n",
              "       [0.43667414],\n",
              "       [0.41697274],\n",
              "       [0.44969706],\n",
              "       [0.45246385],\n",
              "       [0.4654391 ],\n",
              "       [0.46982777],\n",
              "       [0.47254688],\n",
              "       [0.44359107],\n",
              "       [0.44707338],\n",
              "       [0.44969706],\n",
              "       [0.45279773],\n",
              "       [0.4580451 ],\n",
              "       [0.47421645],\n",
              "       [0.45670942],\n",
              "       [0.44774122],\n",
              "       [0.41306112],\n",
              "       [0.40404524],\n",
              "       [0.41735437],\n",
              "       [0.4012307 ],\n",
              "       [0.41635258],\n",
              "       [0.42212468],\n",
              "       [0.5135715 ],\n",
              "       [0.50541431],\n",
              "       [0.49525353],\n",
              "       [0.49186658],\n",
              "       [0.56895479],\n",
              "       [0.58402899],\n",
              "       [0.55807849],\n",
              "       [0.52530649],\n",
              "       [0.5432429 ],\n",
              "       [0.54996891],\n",
              "       [0.5496827 ],\n",
              "       [0.54930114],\n",
              "       [0.55493007],\n",
              "       [0.55612265],\n",
              "       [0.5867481 ],\n",
              "       [0.57720748],\n",
              "       [0.59810146],\n",
              "       [0.64308544],\n",
              "       [0.75323186],\n",
              "       [0.70223724],\n",
              "       [0.70433619],\n",
              "       [0.70214189],\n",
              "       [0.71282733],\n",
              "       [0.7465057 ],\n",
              "       [0.69221956],\n",
              "       [0.65219674],\n",
              "       [0.59700423],\n",
              "       [0.60921621],\n",
              "       [0.58235935],\n",
              "       [0.57529924],\n",
              "       [0.57310494],\n",
              "       [0.60301487],\n",
              "       [0.560559  ],\n",
              "       [0.5190574 ],\n",
              "       [0.50813335],\n",
              "       [0.48723937],\n",
              "       [0.51872344],\n",
              "       [0.49138959],\n",
              "       [0.49382242],\n",
              "       [0.5190574 ],\n",
              "       [0.52859802],\n",
              "       [0.55230646],\n",
              "       [0.55283112],\n",
              "       [0.57539474],\n",
              "       [0.54348136],\n",
              "       [0.56594947],\n",
              "       [0.53737537],\n",
              "       [0.53479936],\n",
              "       [0.56170397],\n",
              "       [0.5649955 ],\n",
              "       [0.61889993],\n",
              "       [0.62076042],\n",
              "       [0.60015265],\n",
              "       [0.57582405],\n",
              "       [0.57205546],\n",
              "       [0.55044597],\n",
              "       [0.57983109],\n",
              "       [0.63311551],\n",
              "       [0.63020554],\n",
              "       [0.66202357],\n",
              "       [0.62538748],\n",
              "       [0.6548681 ],\n",
              "       [0.5803559 ],\n",
              "       [0.64313304],\n",
              "       [0.55860316],\n",
              "       [0.55025512],\n",
              "       [0.56905014],\n",
              "       [0.67437865],\n",
              "       [0.70920185],\n",
              "       [0.70314361],\n",
              "       [0.63330621],\n",
              "       [0.60306247],\n",
              "       [0.62238231],\n",
              "       [0.61570376],\n",
              "       [0.62462436],\n",
              "       [0.63421258],\n",
              "       [0.6153222 ],\n",
              "       [0.60086817],\n",
              "       [0.60549538],\n",
              "       [0.59003962],\n",
              "       [0.58398124],\n",
              "       [0.62448126],\n",
              "       [0.61813667],\n",
              "       [0.62872676],\n",
              "       [0.62471972],\n",
              "       [0.67041921],\n",
              "       [0.67504642],\n",
              "       [0.64799885],\n",
              "       [0.63774271],\n",
              "       [0.66579201],\n",
              "       [0.65539277],\n",
              "       [0.62925157],\n",
              "       [0.62543523],\n",
              "       [0.6084052 ],\n",
              "       [0.61145826],\n",
              "       [0.61794581],\n",
              "       [0.61851837],\n",
              "       [0.61284169],\n",
              "       [0.62200061],\n",
              "       [0.60477986],\n",
              "       [0.57758904],\n",
              "       [0.5824547 ],\n",
              "       [0.57906782],\n",
              "       [0.62486282],\n",
              "       [0.62381335],\n",
              "       [0.60039111],\n",
              "       [0.60654485],\n",
              "       [0.58641414],\n",
              "       [0.59609786],\n",
              "       [0.55955728],\n",
              "       [0.58546002],\n",
              "       [0.57987884],\n",
              "       [0.52869337],\n",
              "       [0.50126409],\n",
              "       [0.50388778],\n",
              "       [0.47526592],\n",
              "       [0.5025521 ],\n",
              "       [0.54901493],\n",
              "       [0.57944953],\n",
              "       [0.60516142],\n",
              "       [0.61293705],\n",
              "       [0.62968088],\n",
              "       [0.64895282],\n",
              "       [0.60167919],\n",
              "       [0.56761911],\n",
              "       [0.53580108],\n",
              "       [0.55335593],\n",
              "       [0.57754129],\n",
              "       [0.57549009],\n",
              "       [0.57472682],\n",
              "       [0.5824071 ],\n",
              "       [0.57515613],\n",
              "       [0.58884704],\n",
              "       [0.60039111],\n",
              "       [0.59333115],\n",
              "       [0.59385581],\n",
              "       [0.61040879],\n",
              "       [0.60850069],\n",
              "       [0.58856084],\n",
              "       [0.55120924],\n",
              "       [0.5453417 ],\n",
              "       [0.57172151],\n",
              "       [0.56432759],\n",
              "       [0.51843723],\n",
              "       [0.53241421],\n",
              "       [0.5671898 ],\n",
              "       [0.53899726],\n",
              "       [0.52187186],\n",
              "       [0.5325097 ],\n",
              "       [0.56418448],\n",
              "       [0.5213948 ],\n",
              "       [0.57114909],\n",
              "       [0.56714205],\n",
              "       [0.60997948],\n",
              "       [0.58383813],\n",
              "       [0.60935932],\n",
              "       [0.63573912],\n",
              "       [0.65830273],\n",
              "       [0.6325907 ],\n",
              "       [0.6874015 ],\n",
              "       [0.70376377],\n",
              "       [0.68988216],\n",
              "       [0.64938228],\n",
              "       [0.63316311],\n",
              "       [0.65358003],\n",
              "       [0.69078853],\n",
              "       [0.67733622],\n",
              "       [0.70848633],\n",
              "       [0.72818773],\n",
              "       [0.7770834 ],\n",
              "       [0.76444211],\n",
              "       [0.79702326],\n",
              "       [0.7966893 ],\n",
              "       [0.79401794],\n",
              "       [0.78962934],\n",
              "       [0.78113819],\n",
              "       [0.74803224],\n",
              "       [0.77188378],\n",
              "       [0.76406041],\n",
              "       [0.74526538],\n",
              "       [0.74722122],\n",
              "       [0.74159229],\n",
              "       [0.7179792 ],\n",
              "       [0.7399704 ],\n",
              "       [0.74908171],\n",
              "       [0.75160997],\n",
              "       [0.76844915],\n",
              "       [0.8753518 ],\n",
              "       [0.85421922],\n",
              "       [0.84229345],\n",
              "       [0.82216274],\n",
              "       [0.80622992],\n",
              "       [0.83008147],\n",
              "       [0.82559736],\n",
              "       [0.76305868],\n",
              "       [0.76573004],\n",
              "       [0.74674416],\n",
              "       [0.7596718 ],\n",
              "       [0.81061867],\n",
              "       [0.80832887],\n",
              "       [0.78209217],\n",
              "       [0.79940841],\n",
              "       [0.82335531],\n",
              "       [0.8120021 ],\n",
              "       [0.85207267],\n",
              "       [0.86714686],\n",
              "       [0.8665267 ],\n",
              "       [0.89080755],\n",
              "       [0.87163096],\n",
              "       [0.87353906],\n",
              "       [0.87363441],\n",
              "       [0.85879882],\n",
              "       [0.87935884],\n",
              "       [0.90907777],\n",
              "       [0.89524391],\n",
              "       [0.87888178],\n",
              "       [0.88942412],\n",
              "       [0.88369984],\n",
              "       [0.90998414],\n",
              "       [0.90988879],\n",
              "       [0.88284107],\n",
              "       [0.90874396],\n",
              "       [0.87606732],\n",
              "       [0.88861325],\n",
              "       [0.92076509],\n",
              "       [0.92820676],\n",
              "       [0.94056184],\n",
              "       [0.9319276 ],\n",
              "       [1.        ],\n",
              "       [0.98211134],\n",
              "       [0.96217134],\n",
              "       [0.99403711],\n",
              "       [0.9955159 ],\n",
              "       [0.98635684],\n",
              "       [0.97543279],\n",
              "       [0.95234451],\n",
              "       [0.97509898],\n",
              "       [0.98816958],\n",
              "       [0.98306532],\n",
              "       [0.96178978],\n",
              "       [0.94666783],\n",
              "       [0.93092587],\n",
              "       [0.91084291],\n",
              "       [0.93331103],\n",
              "       [0.95511137],\n",
              "       [0.97877207]])"
            ]
          },
          "metadata": {
            "tags": []
          },
          "execution_count": 97
        }
      ]
    },
    {
      "cell_type": "code",
      "metadata": {
        "colab": {
          "base_uri": "https://localhost:8080/"
        },
        "id": "ryDBUAM-9WEv",
        "outputId": "1e2c0fb5-6f33-4345-e46c-ee10e5dfa791"
      },
      "source": [
        "#Create the training data set\n",
        "#Create the scaled training data set\n",
        "train_data = scaled_data[0:training_data_len , :]\n",
        "#Split the data into x_train and y_train data sets\n",
        "x_train = []\n",
        "y_train = []\n",
        "\n",
        "for i in range(60, len(train_data)):\n",
        "  x_train.append(train_data[i-60:i, 0])\n",
        "  y_train.append(train_data[i,0])\n",
        "  if i <= 60:\n",
        "    print (x_train)\n",
        "    print (y_train)\n",
        "    print ()"
      ],
      "execution_count": 98,
      "outputs": [
        {
          "output_type": "stream",
          "text": [
            "[array([0.30420263, 0.29890759, 0.31765494, 0.31984924, 0.33015313,\n",
            "       0.34484569, 0.34370079, 0.36206651, 0.3484711 , 0.35844103,\n",
            "       0.36139867, 0.36316366, 0.35982446, 0.35925204, 0.3518103 ,\n",
            "       0.34312837, 0.32848349, 0.34241278, 0.36836328, 0.30301006,\n",
            "       0.26666032, 0.27753662, 0.30444116, 0.30577684, 0.3093069 ,\n",
            "       0.31636694, 0.31984924, 0.29184755, 0.30887752, 0.32023088,\n",
            "       0.32519196, 0.34246053, 0.34098175, 0.32710013, 0.30611073,\n",
            "       0.26098364, 0.24214094, 0.24419214, 0.20865335, 0.22162859,\n",
            "       0.24056673, 0.19023995, 0.21824164, 0.18680532, 0.16734245,\n",
            "       0.11205459, 0.15350859, 0.11558464, 0.04035685, 0.11577542,\n",
            "       0.        , 0.01626677, 0.00453185, 0.03396465, 0.01774556,\n",
            "       0.00997   , 0.07141153, 0.04865721, 0.08266947, 0.05142393])]\n",
            "[0.09511997579324338]\n",
            "\n"
          ],
          "name": "stdout"
        }
      ]
    },
    {
      "cell_type": "code",
      "metadata": {
        "colab": {
          "base_uri": "https://localhost:8080/"
        },
        "id": "dmJfr5Rh-me3",
        "outputId": "2ad98316-6c78-488e-aecc-05060c8fc211"
      },
      "source": [
        "#Convert the x_train and y_train to numpy arrays\n",
        "x_train, y_train = np.array(x_train), np.array(y_train)\n",
        "\n",
        "#Reshape the data\n",
        "x_train = np.reshape(x_train, (x_train.shape[0], x_train.shape[1], 1))\n",
        "x_train.shape\n"
      ],
      "execution_count": 99,
      "outputs": [
        {
          "output_type": "execute_result",
          "data": {
            "text/plain": [
              "(254, 60, 1)"
            ]
          },
          "metadata": {
            "tags": []
          },
          "execution_count": 99
        }
      ]
    },
    {
      "cell_type": "code",
      "metadata": {
        "id": "asLm_vfh_s7Y"
      },
      "source": [
        "#Build the LSTM model\n",
        "model = Sequential()\n",
        "model.add(LSTM(50, return_sequences=True, input_shape=(x_train.shape[1], 1)))\n",
        "model.add(LSTM(50, return_sequences= False))\n",
        "model.add(Dense(25))\n",
        "model.add(Dense(1))\n",
        "\n"
      ],
      "execution_count": 100,
      "outputs": []
    },
    {
      "cell_type": "code",
      "metadata": {
        "id": "t2HR6Nd_CnK7"
      },
      "source": [
        "#Compile the model\n",
        "model.compile(optimizer = 'adam', loss = 'mean_squared_error')"
      ],
      "execution_count": 101,
      "outputs": []
    },
    {
      "cell_type": "code",
      "metadata": {
        "id": "9oWMWd78DgoF"
      },
      "source": [
        ""
      ],
      "execution_count": null,
      "outputs": []
    },
    {
      "cell_type": "code",
      "metadata": {
        "colab": {
          "base_uri": "https://localhost:8080/"
        },
        "id": "26KDGTykD8p2",
        "outputId": "10611271-181f-4152-9bdc-3b49251853a5"
      },
      "source": [
        "#train the model\n",
        "model.fit(x_train, y_train, batch_size=1, epochs=1)"
      ],
      "execution_count": 102,
      "outputs": [
        {
          "output_type": "stream",
          "text": [
            "254/254 [==============================] - 9s 25ms/step - loss: 0.0140\n"
          ],
          "name": "stdout"
        },
        {
          "output_type": "execute_result",
          "data": {
            "text/plain": [
              "<keras.callbacks.History at 0x7f896a05a450>"
            ]
          },
          "metadata": {
            "tags": []
          },
          "execution_count": 102
        }
      ]
    },
    {
      "cell_type": "code",
      "metadata": {
        "id": "ftOrs7HgEdBX"
      },
      "source": [
        "#Create the testing data set\n",
        "#Create a new array containing scaled values from index 1543 to 2003\n",
        "test_data = scaled_data[training_data_len - 60: , :]\n",
        "#Create the data sets x_test and y_test\n",
        "x_test = []\n",
        "y_test = dataset[training_data_len:, :]\n",
        "for i in range(60, len(test_data)):\n",
        "  x_test.append(test_data[i-60:i,0])"
      ],
      "execution_count": 104,
      "outputs": []
    },
    {
      "cell_type": "code",
      "metadata": {
        "id": "4gRIhRssFQx2"
      },
      "source": [
        "#Convert the data to a numpy array\n",
        "x_test = np.array(x_test)\n",
        "\n"
      ],
      "execution_count": 105,
      "outputs": []
    },
    {
      "cell_type": "code",
      "metadata": {
        "id": "6GXuXBDkFk0-"
      },
      "source": [
        "#Reshape the data\n",
        "x_test = np.reshape(x_test, (x_test.shape[0], x_test.shape[1],1))\n",
        "\n",
        "#Get the models predicted price values\n",
        "predictions = model.predict(x_test)\n",
        "predictions = scaler.inverse_transform(predictions)\n"
      ],
      "execution_count": 106,
      "outputs": []
    },
    {
      "cell_type": "code",
      "metadata": {
        "colab": {
          "base_uri": "https://localhost:8080/"
        },
        "id": "R_bqn0kwGHWu",
        "outputId": "20c842f8-8b6e-44e4-cd5e-9678334bea5f"
      },
      "source": [
        "#Get the root mean squared error (RMSE)\n",
        "rmse = np.sqrt( np.mean(predictions - y_test)**2)\n",
        "rmse"
      ],
      "execution_count": 107,
      "outputs": [
        {
          "output_type": "execute_result",
          "data": {
            "text/plain": [
              "8.43649644118089"
            ]
          },
          "metadata": {
            "tags": []
          },
          "execution_count": 107
        }
      ]
    },
    {
      "cell_type": "code",
      "metadata": {
        "colab": {
          "base_uri": "https://localhost:8080/",
          "height": 578
        },
        "id": "H3fHhAOjGr-y",
        "outputId": "686d1bc3-c4ca-42d2-a403-65cc77ebec7f"
      },
      "source": [
        "#Plot the data\n",
        "train = data[:training_data_len]\n",
        "valid = data[training_data_len:]\n",
        "valid['Predictions'] = predictions\n",
        "#Visualise the data\n",
        "plt.figure(figsize=(16,8))\n",
        "plt.title('Model')\n",
        "plt.xlabel('Date',fontsize=18)\n",
        "plt.ylabel('Close Price USD ($)', fontsize=18)\n",
        "plt.plot(train['Close'])\n",
        "plt.plot(valid[['Close','Predictions']])\n",
        "plt.legend(['Train', 'Val', 'Predictions'], loc='lower right')\n",
        "plt.show()\n"
      ],
      "execution_count": 108,
      "outputs": [
        {
          "output_type": "stream",
          "text": [
            "/usr/local/lib/python3.7/dist-packages/ipykernel_launcher.py:4: SettingWithCopyWarning: \n",
            "A value is trying to be set on a copy of a slice from a DataFrame.\n",
            "Try using .loc[row_indexer,col_indexer] = value instead\n",
            "\n",
            "See the caveats in the documentation: https://pandas.pydata.org/pandas-docs/stable/user_guide/indexing.html#returning-a-view-versus-a-copy\n",
            "  after removing the cwd from sys.path.\n"
          ],
          "name": "stderr"
        },
        {
          "output_type": "display_data",
          "data": {
            "image/png": "[encoded data removed]",
            "text/plain": [
              "<Figure size 1600x800 with 1 Axes>"
            ]
          },
          "metadata": {
            "tags": []
          }
        }
      ]
    },
    {
      "cell_type": "code",
      "metadata": {
        "colab": {
          "base_uri": "https://localhost:8080/",
          "height": 450
        },
        "id": "8MziIYyZKV8k",
        "outputId": "83f0a376-38cc-48d0-e4c7-978c8b029931"
      },
      "source": [
        "#show the valid and predicted return\n",
        "valid"
      ],
      "execution_count": 109,
      "outputs": [
        {
          "output_type": "execute_result",
          "data": {
            "text/html": [
              "<div>\n",
              "<style scoped>\n",
              "    .dataframe tbody tr th:only-of-type {\n",
              "        vertical-align: middle;\n",
              "    }\n",
              "\n",
              "    .dataframe tbody tr th {\n",
              "        vertical-align: top;\n",
              "    }\n",
              "\n",
              "    .dataframe thead th {\n",
              "        text-align: right;\n",
              "    }\n",
              "</style>\n",
              "<table border=\"1\" class=\"dataframe\">\n",
              "  <thead>\n",
              "    <tr style=\"text-align: right;\">\n",
              "      <th></th>\n",
              "      <th>Close</th>\n",
              "      <th>Predictions</th>\n",
              "    </tr>\n",
              "    <tr>\n",
              "      <th>Date</th>\n",
              "      <th></th>\n",
              "      <th></th>\n",
              "    </tr>\n",
              "  </thead>\n",
              "  <tbody>\n",
              "    <tr>\n",
              "      <th>2021-04-01</th>\n",
              "      <td>298.660004</td>\n",
              "      <td>288.307495</td>\n",
              "    </tr>\n",
              "    <tr>\n",
              "      <th>2021-04-05</th>\n",
              "      <td>308.910004</td>\n",
              "      <td>289.664032</td>\n",
              "    </tr>\n",
              "    <tr>\n",
              "      <th>2021-04-06</th>\n",
              "      <td>306.260010</td>\n",
              "      <td>291.652679</td>\n",
              "    </tr>\n",
              "    <tr>\n",
              "      <th>2021-04-07</th>\n",
              "      <td>313.089996</td>\n",
              "      <td>293.757507</td>\n",
              "    </tr>\n",
              "    <tr>\n",
              "      <th>2021-04-08</th>\n",
              "      <td>313.019989</td>\n",
              "      <td>296.147064</td>\n",
              "    </tr>\n",
              "    <tr>\n",
              "      <th>...</th>\n",
              "      <td>...</td>\n",
              "      <td>...</td>\n",
              "    </tr>\n",
              "    <tr>\n",
              "      <th>2021-07-16</th>\n",
              "      <td>341.160004</td>\n",
              "      <td>339.534149</td>\n",
              "    </tr>\n",
              "    <tr>\n",
              "      <th>2021-07-19</th>\n",
              "      <td>336.950012</td>\n",
              "      <td>338.984406</td>\n",
              "    </tr>\n",
              "    <tr>\n",
              "      <th>2021-07-20</th>\n",
              "      <td>341.660004</td>\n",
              "      <td>338.071167</td>\n",
              "    </tr>\n",
              "    <tr>\n",
              "      <th>2021-07-21</th>\n",
              "      <td>346.230011</td>\n",
              "      <td>337.234680</td>\n",
              "    </tr>\n",
              "    <tr>\n",
              "      <th>2021-07-22</th>\n",
              "      <td>351.190002</td>\n",
              "      <td>336.724915</td>\n",
              "    </tr>\n",
              "  </tbody>\n",
              "</table>\n",
              "<p>78 rows × 2 columns</p>\n",
              "</div>"
            ],
            "text/plain": [
              "                 Close  Predictions\n",
              "Date                               \n",
              "2021-04-01  298.660004   288.307495\n",
              "2021-04-05  308.910004   289.664032\n",
              "2021-04-06  306.260010   291.652679\n",
              "2021-04-07  313.089996   293.757507\n",
              "2021-04-08  313.019989   296.147064\n",
              "...                ...          ...\n",
              "2021-07-16  341.160004   339.534149\n",
              "2021-07-19  336.950012   338.984406\n",
              "2021-07-20  341.660004   338.071167\n",
              "2021-07-21  346.230011   337.234680\n",
              "2021-07-22  351.190002   336.724915\n",
              "\n",
              "[78 rows x 2 columns]"
            ]
          },
          "metadata": {
            "tags": []
          },
          "execution_count": 109
        }
      ]
    },
    {
      "cell_type": "code",
      "metadata": {
        "colab": {
          "base_uri": "https://localhost:8080/"
        },
        "id": "1_Z2x6IdK0eM",
        "outputId": "bfdde406-66b6-45f8-f408-71aa1c8c6235"
      },
      "source": [
        "#get the quote\n",
        "apple_quote = yf.download('FB', start=start_date, end=end_date)\n",
        "#Create a new dataframe\n",
        "new_data = apple_quote.filter(['Close'])\n",
        "#Get the last 60 day closing price values and convert the dataframe to an array\n",
        "last_60_days = new_data[-60:].values\n",
        "last_60_days_scaled = scaler.transform(last_60_days)\n",
        "#Create an empty list\n",
        "X_test = []\n",
        "#Append the past 60 days\n",
        "X_test.append(last_60_days_scaled)\n",
        "#Convert the X_test data set to a numpy array\n",
        "X_test = np.array(X_test)\n",
        "#Reshape the data\n",
        "X_test = np.reshape(X_test, (X_test.shape[0], X_test.shape[1],1))\n",
        "#Get the predicted scaled price\n",
        "pred_price = model.predict(X_test)\n",
        "#undo the scaling\n",
        "pred_price = scaler.inverse_transform(pred_price)\n",
        "print(pred_price)\n"
      ],
      "execution_count": 111,
      "outputs": [
        {
          "output_type": "stream",
          "text": [
            "\r[*********************100%***********************]  1 of 1 completed\n",
            "[[336.68567]]\n"
          ],
          "name": "stdout"
        }
      ]
    }
  ]
}