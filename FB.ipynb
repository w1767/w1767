{
  "nbformat": 4,
  "nbformat_minor": 0,
  "metadata": {
    "colab": {
      "name": "Copy of Untitled0.ipynb",
      "provenance": [],
      "authorship_tag": "ABX9TyMRszCsGhaOaQ/jezgFwDQT",
      "include_colab_link": true
    },
    "kernelspec": {
      "name": "python3",
      "display_name": "Python 3"
    },
    "language_info": {
      "name": "python"
    }
  },
  "cells": [
    {
      "cell_type": "markdown",
      "metadata": {
        "id": "view-in-github",
        "colab_type": "text"
      },
      "source": [
        "<a href=\"https://colab.research.google.com/github/w1767/w1767/blob/main/FB.ipynb\" target=\"_parent\"><img src=\"https://colab.research.google.com/assets/colab-badge.svg\" alt=\"Open In Colab\"/></a>"
      ]
    },
    {
      "cell_type": "code",
      "metadata": {
        "id": "jF-rA78EBttL"
      },
      "source": [
        "# Description: this program uses an aritificial recurrent neural network called Long Short Term Memory (LSTM) to predict\n",
        "# the closing stock price of a corporation (FB Inc.) using the past 60 day stock price. "
      ],
      "execution_count": null,
      "outputs": []
    },
    {
      "cell_type": "code",
      "metadata": {
        "id": "wpTDFiYaHooV"
      },
      "source": [
        ""
      ],
      "execution_count": null,
      "outputs": []
    },
    {
      "cell_type": "code",
      "metadata": {
        "id": "4t9te_ZzCKmA",
        "colab": {
          "base_uri": "https://localhost:8080/"
        },
        "outputId": "445315b5-3ae3-47b0-ab03-7302d3081000"
      },
      "source": [
        "# Import the libraries\n",
        "!pip install pandas_datareader\n",
        "!pip install yfinance\n",
        "!pip install mplfinance\n",
        "import os\n",
        "import argparse\n",
        "import signal\n",
        "import yfinance as yf\n",
        "import pickle\n",
        "import mplfinance as mpf\n",
        "import math\n",
        "import pandas_datareader.data as web\n",
        "from datetime import datetime, timedelta\n",
        "import numpy as np\n",
        "import pandas as pd\n",
        "from sklearn.preprocessing import MinMaxScaler\n",
        "from keras.models import Sequential\n",
        "from keras.layers import Dense, LSTM\n",
        "#from yfinance import stock_info\n",
        "from dateutil.parser import parse\n",
        "from urllib.request import urlopen, Request\n",
        "from bs4 import BeautifulSoup\n",
        "import matplotlib.pyplot as plt\n",
        "plt.style.use('fivethirtyeight')\n",
        "start_date = datetime(2020, 1,1)\n",
        "end_date = datetime(2021, 8, 2)\n"
      ],
      "execution_count": null,
      "outputs": [
        {
          "output_type": "stream",
          "text": [
            "Requirement already satisfied: pandas_datareader in /usr/local/lib/python3.7/dist-packages (0.9.0)\n",
            "Requirement already satisfied: requests>=2.19.0 in /usr/local/lib/python3.7/dist-packages (from pandas_datareader) (2.23.0)\n",
            "Requirement already satisfied: pandas>=0.23 in /usr/local/lib/python3.7/dist-packages (from pandas_datareader) (1.1.5)\n",
            "Requirement already satisfied: lxml in /usr/local/lib/python3.7/dist-packages (from pandas_datareader) (4.6.3)\n",
            "Requirement already satisfied: pytz>=2017.2 in /usr/local/lib/python3.7/dist-packages (from pandas>=0.23->pandas_datareader) (2018.9)\n",
            "Requirement already satisfied: python-dateutil>=2.7.3 in /usr/local/lib/python3.7/dist-packages (from pandas>=0.23->pandas_datareader) (2.8.1)\n",
            "Requirement already satisfied: numpy>=1.15.4 in /usr/local/lib/python3.7/dist-packages (from pandas>=0.23->pandas_datareader) (1.19.5)\n",
            "Requirement already satisfied: six>=1.5 in /usr/local/lib/python3.7/dist-packages (from python-dateutil>=2.7.3->pandas>=0.23->pandas_datareader) (1.15.0)\n",
            "Requirement already satisfied: urllib3!=1.25.0,!=1.25.1,<1.26,>=1.21.1 in /usr/local/lib/python3.7/dist-packages (from requests>=2.19.0->pandas_datareader) (1.24.3)\n",
            "Requirement already satisfied: chardet<4,>=3.0.2 in /usr/local/lib/python3.7/dist-packages (from requests>=2.19.0->pandas_datareader) (3.0.4)\n",
            "Requirement already satisfied: certifi>=2017.4.17 in /usr/local/lib/python3.7/dist-packages (from requests>=2.19.0->pandas_datareader) (2021.5.30)\n",
            "Requirement already satisfied: idna<3,>=2.5 in /usr/local/lib/python3.7/dist-packages (from requests>=2.19.0->pandas_datareader) (2.10)\n",
            "Requirement already satisfied: yfinance in /usr/local/lib/python3.7/dist-packages (0.1.63)\n",
            "Requirement already satisfied: multitasking>=0.0.7 in /usr/local/lib/python3.7/dist-packages (from yfinance) (0.0.9)\n",
            "Requirement already satisfied: numpy>=1.15 in /usr/local/lib/python3.7/dist-packages (from yfinance) (1.19.5)\n",
            "Requirement already satisfied: lxml>=4.5.1 in /usr/local/lib/python3.7/dist-packages (from yfinance) (4.6.3)\n",
            "Requirement already satisfied: requests>=2.20 in /usr/local/lib/python3.7/dist-packages (from yfinance) (2.23.0)\n",
            "Requirement already satisfied: pandas>=0.24 in /usr/local/lib/python3.7/dist-packages (from yfinance) (1.1.5)\n",
            "Requirement already satisfied: pytz>=2017.2 in /usr/local/lib/python3.7/dist-packages (from pandas>=0.24->yfinance) (2018.9)\n",
            "Requirement already satisfied: python-dateutil>=2.7.3 in /usr/local/lib/python3.7/dist-packages (from pandas>=0.24->yfinance) (2.8.1)\n",
            "Requirement already satisfied: six>=1.5 in /usr/local/lib/python3.7/dist-packages (from python-dateutil>=2.7.3->pandas>=0.24->yfinance) (1.15.0)\n",
            "Requirement already satisfied: certifi>=2017.4.17 in /usr/local/lib/python3.7/dist-packages (from requests>=2.20->yfinance) (2021.5.30)\n",
            "Requirement already satisfied: chardet<4,>=3.0.2 in /usr/local/lib/python3.7/dist-packages (from requests>=2.20->yfinance) (3.0.4)\n",
            "Requirement already satisfied: idna<3,>=2.5 in /usr/local/lib/python3.7/dist-packages (from requests>=2.20->yfinance) (2.10)\n",
            "Requirement already satisfied: urllib3!=1.25.0,!=1.25.1,<1.26,>=1.21.1 in /usr/local/lib/python3.7/dist-packages (from requests>=2.20->yfinance) (1.24.3)\n",
            "Requirement already satisfied: mplfinance in /usr/local/lib/python3.7/dist-packages (0.12.7a17)\n",
            "Requirement already satisfied: pandas in /usr/local/lib/python3.7/dist-packages (from mplfinance) (1.1.5)\n",
            "Requirement already satisfied: matplotlib in /usr/local/lib/python3.7/dist-packages (from mplfinance) (3.2.2)\n",
            "Requirement already satisfied: cycler>=0.10 in /usr/local/lib/python3.7/dist-packages (from matplotlib->mplfinance) (0.10.0)\n",
            "Requirement already satisfied: python-dateutil>=2.1 in /usr/local/lib/python3.7/dist-packages (from matplotlib->mplfinance) (2.8.1)\n",
            "Requirement already satisfied: kiwisolver>=1.0.1 in /usr/local/lib/python3.7/dist-packages (from matplotlib->mplfinance) (1.3.1)\n",
            "Requirement already satisfied: numpy>=1.11 in /usr/local/lib/python3.7/dist-packages (from matplotlib->mplfinance) (1.19.5)\n",
            "Requirement already satisfied: pyparsing!=2.0.4,!=2.1.2,!=2.1.6,>=2.0.1 in /usr/local/lib/python3.7/dist-packages (from matplotlib->mplfinance) (2.4.7)\n",
            "Requirement already satisfied: six in /usr/local/lib/python3.7/dist-packages (from cycler>=0.10->matplotlib->mplfinance) (1.15.0)\n",
            "Requirement already satisfied: pytz>=2017.2 in /usr/local/lib/python3.7/dist-packages (from pandas->mplfinance) (2018.9)\n"
          ],
          "name": "stdout"
        }
      ]
    },
    {
      "cell_type": "code",
      "metadata": {
        "colab": {
          "base_uri": "https://localhost:8080/",
          "height": 467
        },
        "id": "Tkat1PpYDTgp",
        "outputId": "fcef3942-d3ca-4fd7-d7b0-f8a03b5264b7"
      },
      "source": [
        "#Get the stock quote\n",
        "data = yf.download('FB', start=start_date, end=end_date)\n",
        "#df = web.DataReader('FB', data_source='yahoo',start='2012-01',end='2019-12-17')\n",
        "#show the data\n",
        "data.head(391)"
      ],
      "execution_count": null,
      "outputs": [
        {
          "output_type": "stream",
          "text": [
            "\r[*********************100%***********************]  1 of 1 completed\n"
          ],
          "name": "stdout"
        },
        {
          "output_type": "execute_result",
          "data": {
            "text/html": [
              "<div>\n",
              "<style scoped>\n",
              "    .dataframe tbody tr th:only-of-type {\n",
              "        vertical-align: middle;\n",
              "    }\n",
              "\n",
              "    .dataframe tbody tr th {\n",
              "        vertical-align: top;\n",
              "    }\n",
              "\n",
              "    .dataframe thead th {\n",
              "        text-align: right;\n",
              "    }\n",
              "</style>\n",
              "<table border=\"1\" class=\"dataframe\">\n",
              "  <thead>\n",
              "    <tr style=\"text-align: right;\">\n",
              "      <th></th>\n",
              "      <th>Open</th>\n",
              "      <th>High</th>\n",
              "      <th>Low</th>\n",
              "      <th>Close</th>\n",
              "      <th>Adj Close</th>\n",
              "      <th>Volume</th>\n",
              "    </tr>\n",
              "    <tr>\n",
              "      <th>Date</th>\n",
              "      <th></th>\n",
              "      <th></th>\n",
              "      <th></th>\n",
              "      <th></th>\n",
              "      <th></th>\n",
              "      <th></th>\n",
              "    </tr>\n",
              "  </thead>\n",
              "  <tbody>\n",
              "    <tr>\n",
              "      <th>2020-01-02</th>\n",
              "      <td>206.750000</td>\n",
              "      <td>209.789993</td>\n",
              "      <td>206.270004</td>\n",
              "      <td>209.779999</td>\n",
              "      <td>209.779999</td>\n",
              "      <td>12077100</td>\n",
              "    </tr>\n",
              "    <tr>\n",
              "      <th>2020-01-03</th>\n",
              "      <td>207.210007</td>\n",
              "      <td>210.399994</td>\n",
              "      <td>206.949997</td>\n",
              "      <td>208.669998</td>\n",
              "      <td>208.669998</td>\n",
              "      <td>11188400</td>\n",
              "    </tr>\n",
              "    <tr>\n",
              "      <th>2020-01-06</th>\n",
              "      <td>206.699997</td>\n",
              "      <td>212.779999</td>\n",
              "      <td>206.520004</td>\n",
              "      <td>212.600006</td>\n",
              "      <td>212.600006</td>\n",
              "      <td>17058900</td>\n",
              "    </tr>\n",
              "    <tr>\n",
              "      <th>2020-01-07</th>\n",
              "      <td>212.820007</td>\n",
              "      <td>214.580002</td>\n",
              "      <td>211.750000</td>\n",
              "      <td>213.059998</td>\n",
              "      <td>213.059998</td>\n",
              "      <td>14912400</td>\n",
              "    </tr>\n",
              "    <tr>\n",
              "      <th>2020-01-08</th>\n",
              "      <td>213.000000</td>\n",
              "      <td>216.240005</td>\n",
              "      <td>212.610001</td>\n",
              "      <td>215.220001</td>\n",
              "      <td>215.220001</td>\n",
              "      <td>13475000</td>\n",
              "    </tr>\n",
              "    <tr>\n",
              "      <th>...</th>\n",
              "      <td>...</td>\n",
              "      <td>...</td>\n",
              "      <td>...</td>\n",
              "      <td>...</td>\n",
              "      <td>...</td>\n",
              "      <td>...</td>\n",
              "    </tr>\n",
              "    <tr>\n",
              "      <th>2021-07-15</th>\n",
              "      <td>349.230011</td>\n",
              "      <td>349.230011</td>\n",
              "      <td>340.220001</td>\n",
              "      <td>344.459991</td>\n",
              "      <td>344.459991</td>\n",
              "      <td>14781600</td>\n",
              "    </tr>\n",
              "    <tr>\n",
              "      <th>2021-07-16</th>\n",
              "      <td>344.910004</td>\n",
              "      <td>345.989990</td>\n",
              "      <td>340.140015</td>\n",
              "      <td>341.160004</td>\n",
              "      <td>341.160004</td>\n",
              "      <td>11020300</td>\n",
              "    </tr>\n",
              "    <tr>\n",
              "      <th>2021-07-19</th>\n",
              "      <td>337.570007</td>\n",
              "      <td>339.790009</td>\n",
              "      <td>334.540009</td>\n",
              "      <td>336.950012</td>\n",
              "      <td>336.950012</td>\n",
              "      <td>14372300</td>\n",
              "    </tr>\n",
              "    <tr>\n",
              "      <th>2021-07-20</th>\n",
              "      <td>338.799988</td>\n",
              "      <td>343.450012</td>\n",
              "      <td>334.500000</td>\n",
              "      <td>341.660004</td>\n",
              "      <td>341.660004</td>\n",
              "      <td>11024300</td>\n",
              "    </tr>\n",
              "    <tr>\n",
              "      <th>2021-07-21</th>\n",
              "      <td>341.500000</td>\n",
              "      <td>346.519989</td>\n",
              "      <td>341.250000</td>\n",
              "      <td>346.230011</td>\n",
              "      <td>346.230011</td>\n",
              "      <td>9279700</td>\n",
              "    </tr>\n",
              "  </tbody>\n",
              "</table>\n",
              "<p>391 rows × 6 columns</p>\n",
              "</div>"
            ],
            "text/plain": [
              "                  Open        High  ...   Adj Close    Volume\n",
              "Date                                ...                      \n",
              "2020-01-02  206.750000  209.789993  ...  209.779999  12077100\n",
              "2020-01-03  207.210007  210.399994  ...  208.669998  11188400\n",
              "2020-01-06  206.699997  212.779999  ...  212.600006  17058900\n",
              "2020-01-07  212.820007  214.580002  ...  213.059998  14912400\n",
              "2020-01-08  213.000000  216.240005  ...  215.220001  13475000\n",
              "...                ...         ...  ...         ...       ...\n",
              "2021-07-15  349.230011  349.230011  ...  344.459991  14781600\n",
              "2021-07-16  344.910004  345.989990  ...  341.160004  11020300\n",
              "2021-07-19  337.570007  339.790009  ...  336.950012  14372300\n",
              "2021-07-20  338.799988  343.450012  ...  341.660004  11024300\n",
              "2021-07-21  341.500000  346.519989  ...  346.230011   9279700\n",
              "\n",
              "[391 rows x 6 columns]"
            ]
          },
          "metadata": {
            "tags": []
          },
          "execution_count": 44
        }
      ]
    },
    {
      "cell_type": "code",
      "metadata": {
        "id": "iINONBjJCmEs"
      },
      "source": [
        ""
      ],
      "execution_count": null,
      "outputs": []
    },
    {
      "cell_type": "code",
      "metadata": {
        "colab": {
          "base_uri": "https://localhost:8080/"
        },
        "id": "-1NflEs4D4Bv",
        "outputId": "4300ce59-c13e-4b60-c733-0a794aeacf03"
      },
      "source": [
        "#Get the number of rows and columns in the data set\n",
        "data.shape\n",
        "\n"
      ],
      "execution_count": null,
      "outputs": [
        {
          "output_type": "execute_result",
          "data": {
            "text/plain": [
              "(398, 6)"
            ]
          },
          "metadata": {
            "tags": []
          },
          "execution_count": 46
        }
      ]
    },
    {
      "cell_type": "code",
      "metadata": {
        "colab": {
          "base_uri": "https://localhost:8080/",
          "height": 523
        },
        "id": "nASYYE3wEFyH",
        "outputId": "7efcffa1-aa69-438e-b675-5876367aaf1a"
      },
      "source": [
        "mpf.plot(data, type='candle', mav= (3,6,9), volume=True, show_nontrading=True)\n",
        "#Visualize the closing price history\n",
        "#plt.figure(figsize=(16,8))\n",
        "#plt.title('Close Price History')\n",
        "#plt.plot(df['Close'])\n",
        "#plt.xlabel('Date',fontsize=18)\n",
        "#plt.ylabel('Close Price USD($)',fontsize=18)\n",
        "#plt.show()"
      ],
      "execution_count": null,
      "outputs": [
        {
          "output_type": "display_data",
          "data": {
            "image/png": "[encoded data removed]",
            "text/plain": [
              "<Figure size 800x575 with 4 Axes>"
            ]
          },
          "metadata": {
            "tags": []
          }
        }
      ]
    },
    {
      "cell_type": "code",
      "metadata": {
        "id": "5u3vU4T5HqUi"
      },
      "source": [
        ""
      ],
      "execution_count": null,
      "outputs": []
    },
    {
      "cell_type": "code",
      "metadata": {
        "colab": {
          "base_uri": "https://localhost:8080/"
        },
        "id": "LhjmcNHG7Tbm",
        "outputId": "d6a663ab-0993-4c73-887e-1d3bfea100a6"
      },
      "source": [
        "#Create a new dataframe with only the 'Close column'\n",
        "data = data.filter(['Close'])\n",
        "#Convert the dataframe to a numpy array\n",
        "dataset = data.values\n",
        "#Get the number of rows to train the model on \n",
        "training_data_len = math.ceil(len(dataset) * .8)\n",
        "\n",
        "training_data_len"
      ],
      "execution_count": null,
      "outputs": [
        {
          "output_type": "execute_result",
          "data": {
            "text/plain": [
              "319"
            ]
          },
          "metadata": {
            "tags": []
          },
          "execution_count": 48
        }
      ]
    },
    {
      "cell_type": "code",
      "metadata": {
        "colab": {
          "base_uri": "https://localhost:8080/"
        },
        "id": "7KFZs2c38gaO",
        "outputId": "4dd9b3a8-035e-4ebb-bcc3-0f4edad530b7"
      },
      "source": [
        "#Scale the data\n",
        "scaler = MinMaxScaler(feature_range=(0,1))\n",
        "scaled_data = scaler.fit_transform(dataset)\n",
        "scaled_data\n",
        "\n"
      ],
      "execution_count": null,
      "outputs": [
        {
          "output_type": "execute_result",
          "data": {
            "text/plain": [
              "array([[0.28059138],\n",
              "       [0.27570732],\n",
              "       [0.29299956],\n",
              "       [0.29502355],\n",
              "       [0.30452768],\n",
              "       [0.31807985],\n",
              "       [0.31702381],\n",
              "       [0.33396404],\n",
              "       [0.32142386],\n",
              "       [0.33061996],\n",
              "       [0.33334804],\n",
              "       [0.33497603],\n",
              "       [0.33189601],\n",
              "       [0.33136803],\n",
              "       [0.32450389],\n",
              "       [0.31649583],\n",
              "       [0.30298763],\n",
              "       [0.31583578],\n",
              "       [0.33977208],\n",
              "       [0.27949137],\n",
              "       [0.24596299],\n",
              "       [0.2559951 ],\n",
              "       [0.2808114 ],\n",
              "       [0.28204341],\n",
              "       [0.28529947],\n",
              "       [0.29181153],\n",
              "       [0.29502355],\n",
              "       [0.26919526],\n",
              "       [0.28490341],\n",
              "       [0.29537556],\n",
              "       [0.29995159],\n",
              "       [0.31587982],\n",
              "       [0.31451582],\n",
              "       [0.30171165],\n",
              "       [0.28235137],\n",
              "       [0.24072691],\n",
              "       [0.22334672],\n",
              "       [0.22523871],\n",
              "       [0.19245833],\n",
              "       [0.20442648],\n",
              "       [0.22189469],\n",
              "       [0.17547412],\n",
              "       [0.20130241],\n",
              "       [0.17230608],\n",
              "       [0.15435386],\n",
              "       [0.10335726],\n",
              "       [0.14159373],\n",
              "       [0.10661333],\n",
              "       [0.03722448],\n",
              "       [0.1067893 ],\n",
              "       [0.        ],\n",
              "       [0.0150042 ],\n",
              "       [0.0041801 ],\n",
              "       [0.03132842],\n",
              "       [0.0163682 ],\n",
              "       [0.00919616],\n",
              "       [0.06586879],\n",
              "       [0.04488059],\n",
              "       [0.07625292],\n",
              "       [0.04743256],\n",
              "       [0.08773706],\n",
              "       [0.09147713],\n",
              "       [0.05979677],\n",
              "       [0.05359268],\n",
              "       [0.03594842],\n",
              "       [0.08597707],\n",
              "       [0.10040924],\n",
              "       [0.12438951],\n",
              "       [0.12839357],\n",
              "       [0.12663351],\n",
              "       [0.14150571],\n",
              "       [0.13622566],\n",
              "       [0.13305762],\n",
              "       [0.1462138 ],\n",
              "       [0.14181375],\n",
              "       [0.10907734],\n",
              "       [0.15958993],\n",
              "       [0.17213011],\n",
              "       [0.19386638],\n",
              "       [0.18255821],\n",
              "       [0.16236199],\n",
              "       [0.21199457],\n",
              "       [0.25828315],\n",
              "       [0.24754701],\n",
              "       [0.26070312],\n",
              "       [0.26866728],\n",
              "       [0.27482732],\n",
              "       [0.28710344],\n",
              "       [0.29189955],\n",
              "       [0.29555153],\n",
              "       [0.28199943],\n",
              "       [0.25999917],\n",
              "       [0.26752322],\n",
              "       [0.28543147],\n",
              "       [0.29559558],\n",
              "       [0.31183178],\n",
              "       [0.36942846],\n",
              "       [0.37567652],\n",
              "       [0.39116473],\n",
              "       [0.37924055],\n",
              "       [0.3657764 ],\n",
              "       [0.34958424],\n",
              "       [0.34795618],\n",
              "       [0.37796457],\n",
              "       [0.3815286 ],\n",
              "       [0.37026448],\n",
              "       [0.35323623],\n",
              "       [0.37294851],\n",
              "       [0.3757205 ],\n",
              "       [0.4077089 ],\n",
              "       [0.39917279],\n",
              "       [0.34505213],\n",
              "       [0.36331239],\n",
              "       [0.38056058],\n",
              "       [0.39442072],\n",
              "       [0.39389274],\n",
              "       [0.39569678],\n",
              "       [0.40823689],\n",
              "       [0.41012894],\n",
              "       [0.42341712],\n",
              "       [0.38724868],\n",
              "       [0.39455272],\n",
              "       [0.30831173],\n",
              "       [0.32837596],\n",
              "       [0.35666833],\n",
              "       [0.40278086],\n",
              "       [0.38460862],\n",
              "       [0.41479299],\n",
              "       [0.41734503],\n",
              "       [0.42931318],\n",
              "       [0.43336122],\n",
              "       [0.43586928],\n",
              "       [0.40916093],\n",
              "       [0.41237295],\n",
              "       [0.41479299],\n",
              "       [0.417653  ],\n",
              "       [0.42249308],\n",
              "       [0.43740926],\n",
              "       [0.42126107],\n",
              "       [0.41298895],\n",
              "       [0.38100062],\n",
              "       [0.37268452],\n",
              "       [0.38496064],\n",
              "       [0.37008844],\n",
              "       [0.3840366 ],\n",
              "       [0.38936069],\n",
              "       [0.47370969],\n",
              "       [0.46618564],\n",
              "       [0.45681351],\n",
              "       [0.45368944],\n",
              "       [0.52479431],\n",
              "       [0.53869849],\n",
              "       [0.51476219],\n",
              "       [0.48453385],\n",
              "       [0.50107809],\n",
              "       [0.50728205],\n",
              "       [0.50701806],\n",
              "       [0.50666611],\n",
              "       [0.51185814],\n",
              "       [0.51295815],\n",
              "       [0.54120655],\n",
              "       [0.53240645],\n",
              "       [0.5516787 ],\n",
              "       [0.59317116],\n",
              "       [0.69476836],\n",
              "       [0.64773179],\n",
              "       [0.64966782],\n",
              "       [0.64764384],\n",
              "       [0.65749991],\n",
              "       [0.68856427],\n",
              "       [0.63849165],\n",
              "       [0.60157528],\n",
              "       [0.55066664],\n",
              "       [0.56193076],\n",
              "       [0.53715844],\n",
              "       [0.53064632],\n",
              "       [0.52862233],\n",
              "       [0.55621075],\n",
              "       [0.51705017],\n",
              "       [0.47876979],\n",
              "       [0.46869363],\n",
              "       [0.44942138],\n",
              "       [0.47846176],\n",
              "       [0.45324947],\n",
              "       [0.45549348],\n",
              "       [0.47876979],\n",
              "       [0.4875699 ],\n",
              "       [0.50943817],\n",
              "       [0.50992211],\n",
              "       [0.5307344 ],\n",
              "       [0.50129804],\n",
              "       [0.52202225],\n",
              "       [0.49566598],\n",
              "       [0.49328991],\n",
              "       [0.51810627],\n",
              "       [0.52114232],\n",
              "       [0.57086286],\n",
              "       [0.57257895],\n",
              "       [0.55357069],\n",
              "       [0.53113039],\n",
              "       [0.52765431],\n",
              "       [0.50772208],\n",
              "       [0.53482642],\n",
              "       [0.58397507],\n",
              "       [0.58129097],\n",
              "       [0.61063938],\n",
              "       [0.57684687],\n",
              "       [0.6040393 ],\n",
              "       [0.5353105 ],\n",
              "       [0.59321507],\n",
              "       [0.51524613],\n",
              "       [0.50754604],\n",
              "       [0.52488226],\n",
              "       [0.6220355 ],\n",
              "       [0.65415583],\n",
              "       [0.64856781],\n",
              "       [0.58415097],\n",
              "       [0.55625466],\n",
              "       [0.57407495],\n",
              "       [0.56791477],\n",
              "       [0.57614298],\n",
              "       [0.584987  ],\n",
              "       [0.56756282],\n",
              "       [0.55423067],\n",
              "       [0.55849873],\n",
              "       [0.5442426 ],\n",
              "       [0.53865445],\n",
              "       [0.57601098],\n",
              "       [0.57015884],\n",
              "       [0.57992696],\n",
              "       [0.57623093],\n",
              "       [0.61838338],\n",
              "       [0.62265144],\n",
              "       [0.59770321],\n",
              "       [0.58824313],\n",
              "       [0.61411532],\n",
              "       [0.60452324],\n",
              "       [0.58041104],\n",
              "       [0.57689091],\n",
              "       [0.56118269],\n",
              "       [0.56399879],\n",
              "       [0.5699828 ],\n",
              "       [0.57051092],\n",
              "       [0.56527485],\n",
              "       [0.57372287],\n",
              "       [0.55783875],\n",
              "       [0.53275839],\n",
              "       [0.5372464 ],\n",
              "       [0.5341224 ],\n",
              "       [0.57636293],\n",
              "       [0.57539491],\n",
              "       [0.55379064],\n",
              "       [0.55946674],\n",
              "       [0.54089852],\n",
              "       [0.54983062],\n",
              "       [0.5161262 ],\n",
              "       [0.54001845],\n",
              "       [0.53487046],\n",
              "       [0.48765785],\n",
              "       [0.46235755],\n",
              "       [0.46477759],\n",
              "       [0.43837727],\n",
              "       [0.46354558],\n",
              "       [0.50640212],\n",
              "       [0.53447448],\n",
              "       [0.55819069],\n",
              "       [0.5653628 ],\n",
              "       [0.58080703],\n",
              "       [0.59858314],\n",
              "       [0.55497874],\n",
              "       [0.5235623 ],\n",
              "       [0.49421389],\n",
              "       [0.51040618],\n",
              "       [0.53271435],\n",
              "       [0.53082236],\n",
              "       [0.53011833],\n",
              "       [0.53720249],\n",
              "       [0.53051432],\n",
              "       [0.54314259],\n",
              "       [0.55379064],\n",
              "       [0.54727865],\n",
              "       [0.54776259],\n",
              "       [0.56303078],\n",
              "       [0.56127078],\n",
              "       [0.54287859],\n",
              "       [0.5084261 ],\n",
              "       [0.50301399],\n",
              "       [0.52734628],\n",
              "       [0.52052625],\n",
              "       [0.47819776],\n",
              "       [0.49108989],\n",
              "       [0.52316631],\n",
              "       [0.49716198],\n",
              "       [0.48136581],\n",
              "       [0.49117797],\n",
              "       [0.52039425],\n",
              "       [0.48092578],\n",
              "       [0.52681829],\n",
              "       [0.52312226],\n",
              "       [0.56263479],\n",
              "       [0.53852245],\n",
              "       [0.56206276],\n",
              "       [0.58639504],\n",
              "       [0.60720734],\n",
              "       [0.58349099],\n",
              "       [0.63404756],\n",
              "       [0.64913984],\n",
              "       [0.63633567],\n",
              "       [0.59897927],\n",
              "       [0.58401898],\n",
              "       [0.6028512 ],\n",
              "       [0.63717169],\n",
              "       [0.62476351],\n",
              "       [0.65349585],\n",
              "       [0.67166809],\n",
              "       [0.71676863],\n",
              "       [0.70510852],\n",
              "       [0.73516082],\n",
              "       [0.73485278],\n",
              "       [0.73238876],\n",
              "       [0.72834079],\n",
              "       [0.7205087 ],\n",
              "       [0.68997232],\n",
              "       [0.71197259],\n",
              "       [0.70475644],\n",
              "       [0.68742022],\n",
              "       [0.68922426],\n",
              "       [0.68403223],\n",
              "       [0.66225191],\n",
              "       [0.68253622],\n",
              "       [0.69094034],\n",
              "       [0.69327236],\n",
              "       [0.70880454],\n",
              "       [0.80740974],\n",
              "       [0.78791741],\n",
              "       [0.77691727],\n",
              "       [0.75834905],\n",
              "       [0.74365289],\n",
              "       [0.76565315],\n",
              "       [0.76151709],\n",
              "       [0.70383246],\n",
              "       [0.70629648],\n",
              "       [0.68878422],\n",
              "       [0.70070846],\n",
              "       [0.74770099],\n",
              "       [0.74558892],\n",
              "       [0.72138863],\n",
              "       [0.73736084],\n",
              "       [0.75944906],\n",
              "       [0.74897705],\n",
              "       [0.78593746],\n",
              "       [0.79984164],\n",
              "       [0.79926962],\n",
              "       [0.82166587],\n",
              "       [0.80397771],\n",
              "       [0.8057377 ],\n",
              "       [0.80582565],\n",
              "       [0.79214155],\n",
              "       [0.81110577],\n",
              "       [0.83851801],\n",
              "       [0.82575789],\n",
              "       [0.81066574],\n",
              "       [0.82038982],\n",
              "       [0.81510983],\n",
              "       [0.83935403],\n",
              "       [0.83926608],\n",
              "       [0.81431772],\n",
              "       [0.83821011],\n",
              "       [0.80806972],\n",
              "       [0.81964188],\n",
              "       [0.84929819],\n",
              "       [0.85616227],\n",
              "       [0.86755839],\n",
              "       [0.8595943 ],\n",
              "       [0.92238314],\n",
              "       [0.90588294],\n",
              "       [0.88749062],\n",
              "       [0.91688307],\n",
              "       [0.91824708],\n",
              "       [0.90979892],\n",
              "       [0.89972276],\n",
              "       [0.87842652],\n",
              "       [0.89941486],\n",
              "       [0.91147096],\n",
              "       [0.90676287],\n",
              "       [0.88713867],\n",
              "       [0.87319045],\n",
              "       [0.85867033],\n",
              "       [0.84014614],\n",
              "       [0.86087035],\n",
              "       [0.88097863],\n",
              "       [0.90280285],\n",
              "       [0.98464386],\n",
              "       [0.99639192],\n",
              "       [0.97593171],\n",
              "       [1.        ],\n",
              "       [0.93417525],\n",
              "       [0.92528706]])"
            ]
          },
          "metadata": {
            "tags": []
          },
          "execution_count": 49
        }
      ]
    },
    {
      "cell_type": "code",
      "metadata": {
        "colab": {
          "base_uri": "https://localhost:8080/"
        },
        "id": "ryDBUAM-9WEv",
        "outputId": "3ce9e3fe-8534-4852-e908-36477be7f68e"
      },
      "source": [
        "#Create the training data set\n",
        "#Create the scaled training data set\n",
        "train_data = scaled_data[0:training_data_len , :]\n",
        "#Split the data into x_train and y_train data sets\n",
        "x_train = []\n",
        "y_train = []\n",
        "\n",
        "for i in range(60, len(train_data)):\n",
        "  x_train.append(train_data[i-60:i, 0])\n",
        "  y_train.append(train_data[i,0])\n",
        "  if i <= 60:\n",
        "    print (x_train)\n",
        "    print (y_train)\n",
        "    print ()"
      ],
      "execution_count": null,
      "outputs": [
        {
          "output_type": "stream",
          "text": [
            "[array([0.28059138, 0.27570732, 0.29299956, 0.29502355, 0.30452768,\n",
            "       0.31807985, 0.31702381, 0.33396404, 0.32142386, 0.33061996,\n",
            "       0.33334804, 0.33497603, 0.33189601, 0.33136803, 0.32450389,\n",
            "       0.31649583, 0.30298763, 0.31583578, 0.33977208, 0.27949137,\n",
            "       0.24596299, 0.2559951 , 0.2808114 , 0.28204341, 0.28529947,\n",
            "       0.29181153, 0.29502355, 0.26919526, 0.28490341, 0.29537556,\n",
            "       0.29995159, 0.31587982, 0.31451582, 0.30171165, 0.28235137,\n",
            "       0.24072691, 0.22334672, 0.22523871, 0.19245833, 0.20442648,\n",
            "       0.22189469, 0.17547412, 0.20130241, 0.17230608, 0.15435386,\n",
            "       0.10335726, 0.14159373, 0.10661333, 0.03722448, 0.1067893 ,\n",
            "       0.        , 0.0150042 , 0.0041801 , 0.03132842, 0.0163682 ,\n",
            "       0.00919616, 0.06586879, 0.04488059, 0.07625292, 0.04743256])]\n",
            "[0.0877370619375768]\n",
            "\n"
          ],
          "name": "stdout"
        }
      ]
    },
    {
      "cell_type": "code",
      "metadata": {
        "colab": {
          "base_uri": "https://localhost:8080/"
        },
        "id": "dmJfr5Rh-me3",
        "outputId": "c693d465-5cfc-43e4-af7e-d6f4ffe89f07"
      },
      "source": [
        "#Convert the x_train and y_train to numpy arrays\n",
        "x_train, y_train = np.array(x_train), np.array(y_train)\n",
        "\n",
        "#Reshape the data\n",
        "x_train = np.reshape(x_train, (x_train.shape[0], x_train.shape[1], 1))\n",
        "x_train.shape\n"
      ],
      "execution_count": null,
      "outputs": [
        {
          "output_type": "execute_result",
          "data": {
            "text/plain": [
              "(259, 60, 1)"
            ]
          },
          "metadata": {
            "tags": []
          },
          "execution_count": 51
        }
      ]
    },
    {
      "cell_type": "code",
      "metadata": {
        "id": "asLm_vfh_s7Y"
      },
      "source": [
        "#Build the LSTM model\n",
        "model = Sequential()\n",
        "model.add(LSTM(50, return_sequences=True, input_shape=(x_train.shape[1], 1)))\n",
        "model.add(LSTM(50, return_sequences= False))\n",
        "model.add(Dense(25))\n",
        "model.add(Dense(1))\n",
        "\n"
      ],
      "execution_count": null,
      "outputs": []
    },
    {
      "cell_type": "code",
      "metadata": {
        "id": "t2HR6Nd_CnK7"
      },
      "source": [
        "#Compile the model\n",
        "model.compile(optimizer = 'adam', loss = 'mean_squared_error')"
      ],
      "execution_count": null,
      "outputs": []
    },
    {
      "cell_type": "code",
      "metadata": {
        "id": "9oWMWd78DgoF"
      },
      "source": [
        ""
      ],
      "execution_count": null,
      "outputs": []
    },
    {
      "cell_type": "code",
      "metadata": {
        "colab": {
          "base_uri": "https://localhost:8080/"
        },
        "id": "26KDGTykD8p2",
        "outputId": "70b25727-c2d9-43c2-ec56-345856674085"
      },
      "source": [
        "#train the model\n",
        "model.fit(x_train, y_train, batch_size=1, epochs=1)"
      ],
      "execution_count": null,
      "outputs": [
        {
          "output_type": "stream",
          "text": [
            "259/259 [==============================] - 11s 29ms/step - loss: 0.0276\n"
          ],
          "name": "stdout"
        },
        {
          "output_type": "execute_result",
          "data": {
            "text/plain": [
              "<keras.callbacks.History at 0x7faf8b246810>"
            ]
          },
          "metadata": {
            "tags": []
          },
          "execution_count": 54
        }
      ]
    },
    {
      "cell_type": "code",
      "metadata": {
        "id": "ftOrs7HgEdBX"
      },
      "source": [
        "#Create the testing data set\n",
        "#Create a new array containing scaled values from index 1543 to 2003\n",
        "test_data = scaled_data[training_data_len - 60: , :]\n",
        "#Create the data sets x_test and y_test\n",
        "x_test = []\n",
        "y_test = dataset[training_data_len:, :]\n",
        "for i in range(60, len(test_data)):\n",
        "  x_test.append(test_data[i-60:i,0])"
      ],
      "execution_count": null,
      "outputs": []
    },
    {
      "cell_type": "code",
      "metadata": {
        "id": "4gRIhRssFQx2"
      },
      "source": [
        "#Convert the data to a numpy array\n",
        "x_test = np.array(x_test)\n",
        "\n"
      ],
      "execution_count": null,
      "outputs": []
    },
    {
      "cell_type": "code",
      "metadata": {
        "id": "6GXuXBDkFk0-"
      },
      "source": [
        "#Reshape the data\n",
        "x_test = np.reshape(x_test, (x_test.shape[0], x_test.shape[1],1))\n",
        "\n",
        "#Get the models predicted price values\n",
        "predictions = model.predict(x_test)\n",
        "predictions = scaler.inverse_transform(predictions)\n"
      ],
      "execution_count": null,
      "outputs": []
    },
    {
      "cell_type": "code",
      "metadata": {
        "colab": {
          "base_uri": "https://localhost:8080/"
        },
        "id": "R_bqn0kwGHWu",
        "outputId": "9825cbbb-b19f-4487-821d-5ef0fba13098"
      },
      "source": [
        "#Get the root mean squared error (RMSE)\n",
        "rmse = np.sqrt( np.mean(predictions - y_test)**2)\n",
        "rmse"
      ],
      "execution_count": null,
      "outputs": [
        {
          "output_type": "execute_result",
          "data": {
            "text/plain": [
              "24.71690735635878"
            ]
          },
          "metadata": {
            "tags": []
          },
          "execution_count": 58
        }
      ]
    },
    {
      "cell_type": "code",
      "metadata": {
        "colab": {
          "base_uri": "https://localhost:8080/",
          "height": 827
        },
        "id": "H3fHhAOjGr-y",
        "outputId": "f296ced0-7f09-41f8-e4a2-b73b929771ee"
      },
      "source": [
        "#Plot the data\n",
        "train = data[:training_data_len]\n",
        "valid = data[training_data_len:]\n",
        "valid['Predictions'] = predictions\n",
        "#Visualise the data\n",
        "plt.figure(figsize=(16,8))\n",
        "plt.title('Model')\n",
        "plt.xlabel('Date',fontsize=18)\n",
        "plt.ylabel('Close Price USD ($)', fontsize=18)\n",
        "plt.plot(train['Close'])\n",
        "plt.plot(valid[['Close','Predictions']])\n",
        "plt.legend(['Train', 'Val', 'Predictions'], loc='lower right')\n",
        "plt.show()\n"
      ],
      "execution_count": null,
      "outputs": [
        {
          "output_type": "stream",
          "text": [
            "/usr/local/lib/python3.7/dist-packages/ipykernel_launcher.py:4: SettingWithCopyWarning: \n",
            "A value is trying to be set on a copy of a slice from a DataFrame.\n",
            "Try using .loc[row_indexer,col_indexer] = value instead\n",
            "\n",
            "See the caveats in the documentation: https://pandas.pydata.org/pandas-docs/stable/user_guide/indexing.html#returning-a-view-versus-a-copy\n",
            "  after removing the cwd from sys.path.\n"
          ],
          "name": "stderr"
        },
        {
          "output_type": "display_data",
          "data": {
            "image/png": "[encoded data removed]",
            "text/plain": [
              "<Figure size 1600x800 with 1 Axes>"
            ]
          },
          "metadata": {
            "tags": []
          }
        }
      ]
    },
    {
      "cell_type": "code",
      "metadata": {
        "colab": {
          "base_uri": "https://localhost:8080/",
          "height": 450
        },
        "id": "8MziIYyZKV8k",
        "outputId": "c272f429-4abf-4f37-dd45-3fce0424384f"
      },
      "source": [
        "#show the valid and predicted return\n",
        "valid"
      ],
      "execution_count": null,
      "outputs": [
        {
          "output_type": "execute_result",
          "data": {
            "text/html": [
              "<div>\n",
              "<style scoped>\n",
              "    .dataframe tbody tr th:only-of-type {\n",
              "        vertical-align: middle;\n",
              "    }\n",
              "\n",
              "    .dataframe tbody tr th {\n",
              "        vertical-align: top;\n",
              "    }\n",
              "\n",
              "    .dataframe thead th {\n",
              "        text-align: right;\n",
              "    }\n",
              "</style>\n",
              "<table border=\"1\" class=\"dataframe\">\n",
              "  <thead>\n",
              "    <tr style=\"text-align: right;\">\n",
              "      <th></th>\n",
              "      <th>Close</th>\n",
              "      <th>Predictions</th>\n",
              "    </tr>\n",
              "    <tr>\n",
              "      <th>Date</th>\n",
              "      <th></th>\n",
              "      <th></th>\n",
              "    </tr>\n",
              "  </thead>\n",
              "  <tbody>\n",
              "    <tr>\n",
              "      <th>2021-04-09</th>\n",
              "      <td>312.459991</td>\n",
              "      <td>282.932404</td>\n",
              "    </tr>\n",
              "    <tr>\n",
              "      <th>2021-04-12</th>\n",
              "      <td>311.540009</td>\n",
              "      <td>285.036957</td>\n",
              "    </tr>\n",
              "    <tr>\n",
              "      <th>2021-04-13</th>\n",
              "      <td>309.760010</td>\n",
              "      <td>286.932007</td>\n",
              "    </tr>\n",
              "    <tr>\n",
              "      <th>2021-04-14</th>\n",
              "      <td>302.820007</td>\n",
              "      <td>288.518799</td>\n",
              "    </tr>\n",
              "    <tr>\n",
              "      <th>2021-04-15</th>\n",
              "      <td>307.820007</td>\n",
              "      <td>289.534515</td>\n",
              "    </tr>\n",
              "    <tr>\n",
              "      <th>...</th>\n",
              "      <td>...</td>\n",
              "      <td>...</td>\n",
              "    </tr>\n",
              "    <tr>\n",
              "      <th>2021-07-26</th>\n",
              "      <td>372.459991</td>\n",
              "      <td>322.535065</td>\n",
              "    </tr>\n",
              "    <tr>\n",
              "      <th>2021-07-27</th>\n",
              "      <td>367.809998</td>\n",
              "      <td>324.057526</td>\n",
              "    </tr>\n",
              "    <tr>\n",
              "      <th>2021-07-28</th>\n",
              "      <td>373.279999</td>\n",
              "      <td>325.743225</td>\n",
              "    </tr>\n",
              "    <tr>\n",
              "      <th>2021-07-29</th>\n",
              "      <td>358.320007</td>\n",
              "      <td>327.691132</td>\n",
              "    </tr>\n",
              "    <tr>\n",
              "      <th>2021-07-30</th>\n",
              "      <td>356.299988</td>\n",
              "      <td>329.072723</td>\n",
              "    </tr>\n",
              "  </tbody>\n",
              "</table>\n",
              "<p>79 rows × 2 columns</p>\n",
              "</div>"
            ],
            "text/plain": [
              "                 Close  Predictions\n",
              "Date                               \n",
              "2021-04-09  312.459991   282.932404\n",
              "2021-04-12  311.540009   285.036957\n",
              "2021-04-13  309.760010   286.932007\n",
              "2021-04-14  302.820007   288.518799\n",
              "2021-04-15  307.820007   289.534515\n",
              "...                ...          ...\n",
              "2021-07-26  372.459991   322.535065\n",
              "2021-07-27  367.809998   324.057526\n",
              "2021-07-28  373.279999   325.743225\n",
              "2021-07-29  358.320007   327.691132\n",
              "2021-07-30  356.299988   329.072723\n",
              "\n",
              "[79 rows x 2 columns]"
            ]
          },
          "metadata": {
            "tags": []
          },
          "execution_count": 60
        }
      ]
    },
    {
      "cell_type": "code",
      "metadata": {
        "colab": {
          "base_uri": "https://localhost:8080/"
        },
        "id": "1_Z2x6IdK0eM",
        "outputId": "5c736485-b8be-4991-d164-a4bdb3e28424"
      },
      "source": [
        "#get the quote\n",
        "apple_quote = yf.download('FB', start=start_date, end=end_date)\n",
        "#Create a new dataframe\n",
        "new_data = apple_quote.filter(['Close'])\n",
        "#Get the last 60 day closing price values and convert the dataframe to an array\n",
        "last_60_days = new_data[-60:].values\n",
        "last_60_days_scaled = scaler.transform(last_60_days)\n",
        "#Create an empty list\n",
        "X_test = []\n",
        "#Append the past 60 days\n",
        "X_test.append(last_60_days_scaled)\n",
        "#Convert the X_test data set to a numpy array\n",
        "X_test = np.array(X_test)\n",
        "#Reshape the data\n",
        "X_test = np.reshape(X_test, (X_test.shape[0], X_test.shape[1],1))\n",
        "#Get the predicted scaled price\n",
        "pred_price = model.predict(X_test)\n",
        "#undo the scaling\n",
        "pred_price = scaler.inverse_transform(pred_price)\n",
        "print(pred_price)\n"
      ],
      "execution_count": null,
      "outputs": [
        {
          "output_type": "stream",
          "text": [
            "\r[*********************100%***********************]  1 of 1 completed\n",
            "[[329.9738]]\n"
          ],
          "name": "stdout"
        }
      ]
    }
  ]
}