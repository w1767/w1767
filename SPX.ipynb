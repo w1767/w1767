{
  "nbformat": 4,
  "nbformat_minor": 0,
  "metadata": {
    "colab": {
      "name": "Untitled0.ipynb",
      "provenance": [],
      "authorship_tag": "ABX9TyMYeoQh3uY9A9que0ZzjmH4",
      "include_colab_link": true
    },
    "kernelspec": {
      "name": "python3",
      "display_name": "Python 3"
    },
    "language_info": {
      "name": "python"
    }
  },
  "cells": [
    {
      "cell_type": "markdown",
      "metadata": {
        "id": "view-in-github",
        "colab_type": "text"
      },
      "source": [
        "<a href=\"https://colab.research.google.com/github/w1767/w1767/blob/main/SPX.ipynb\" target=\"_parent\"><img src=\"https://colab.research.google.com/assets/colab-badge.svg\" alt=\"Open In Colab\"/></a>"
      ]
    },
    {
      "cell_type": "code",
      "metadata": {
        "id": "jF-rA78EBttL"
      },
      "source": [
        "# Description: this program uses an aritificial recurrent neural network called Long Short Term Memory (LSTM) to predict\n",
        "# the closing stock price of a corporation (Apple Inc.) using the past 60 day stock price. "
      ],
      "execution_count": 135,
      "outputs": []
    },
    {
      "cell_type": "code",
      "metadata": {
        "id": "wpTDFiYaHooV"
      },
      "source": [
        ""
      ],
      "execution_count": null,
      "outputs": []
    },
    {
      "cell_type": "code",
      "metadata": {
        "id": "4t9te_ZzCKmA",
        "colab": {
          "base_uri": "https://localhost:8080/"
        },
        "outputId": "582ccea7-796b-437f-f842-52ec1a7437f5"
      },
      "source": [
        "# Import the libraries\n",
        "!pip install pandas_datareader\n",
        "!pip install yfinance\n",
        "!pip install mplfinance\n",
        "import os\n",
        "import argparse\n",
        "import signal\n",
        "import yfinance as yf\n",
        "import pickle\n",
        "import mplfinance as mpf\n",
        "import math\n",
        "import pandas_datareader.data as web\n",
        "from datetime import datetime, timedelta\n",
        "import numpy as np\n",
        "import pandas as pd\n",
        "from sklearn.preprocessing import MinMaxScaler\n",
        "from keras.models import Sequential\n",
        "from keras.layers import Dense, LSTM\n",
        "#from yfinance import stock_info\n",
        "from dateutil.parser import parse\n",
        "from urllib.request import urlopen, Request\n",
        "from bs4 import BeautifulSoup\n",
        "import matplotlib.pyplot as plt\n",
        "plt.style.use('fivethirtyeight')\n",
        "start_date = datetime(2020, 1,1)\n",
        "end_date = datetime(2021, 7, 23)\n"
      ],
      "execution_count": 136,
      "outputs": [
        {
          "output_type": "stream",
          "text": [
            "Requirement already satisfied: pandas_datareader in /usr/local/lib/python3.7/dist-packages (0.9.0)\n",
            "Requirement already satisfied: pandas>=0.23 in /usr/local/lib/python3.7/dist-packages (from pandas_datareader) (1.1.5)\n",
            "Requirement already satisfied: lxml in /usr/local/lib/python3.7/dist-packages (from pandas_datareader) (4.6.3)\n",
            "Requirement already satisfied: requests>=2.19.0 in /usr/local/lib/python3.7/dist-packages (from pandas_datareader) (2.23.0)\n",
            "Requirement already satisfied: numpy>=1.15.4 in /usr/local/lib/python3.7/dist-packages (from pandas>=0.23->pandas_datareader) (1.19.5)\n",
            "Requirement already satisfied: pytz>=2017.2 in /usr/local/lib/python3.7/dist-packages (from pandas>=0.23->pandas_datareader) (2018.9)\n",
            "Requirement already satisfied: python-dateutil>=2.7.3 in /usr/local/lib/python3.7/dist-packages (from pandas>=0.23->pandas_datareader) (2.8.1)\n",
            "Requirement already satisfied: six>=1.5 in /usr/local/lib/python3.7/dist-packages (from python-dateutil>=2.7.3->pandas>=0.23->pandas_datareader) (1.15.0)\n",
            "Requirement already satisfied: urllib3!=1.25.0,!=1.25.1,<1.26,>=1.21.1 in /usr/local/lib/python3.7/dist-packages (from requests>=2.19.0->pandas_datareader) (1.24.3)\n",
            "Requirement already satisfied: idna<3,>=2.5 in /usr/local/lib/python3.7/dist-packages (from requests>=2.19.0->pandas_datareader) (2.10)\n",
            "Requirement already satisfied: certifi>=2017.4.17 in /usr/local/lib/python3.7/dist-packages (from requests>=2.19.0->pandas_datareader) (2021.5.30)\n",
            "Requirement already satisfied: chardet<4,>=3.0.2 in /usr/local/lib/python3.7/dist-packages (from requests>=2.19.0->pandas_datareader) (3.0.4)\n",
            "Requirement already satisfied: yfinance in /usr/local/lib/python3.7/dist-packages (0.1.63)\n",
            "Requirement already satisfied: lxml>=4.5.1 in /usr/local/lib/python3.7/dist-packages (from yfinance) (4.6.3)\n",
            "Requirement already satisfied: multitasking>=0.0.7 in /usr/local/lib/python3.7/dist-packages (from yfinance) (0.0.9)\n",
            "Requirement already satisfied: requests>=2.20 in /usr/local/lib/python3.7/dist-packages (from yfinance) (2.23.0)\n",
            "Requirement already satisfied: pandas>=0.24 in /usr/local/lib/python3.7/dist-packages (from yfinance) (1.1.5)\n",
            "Requirement already satisfied: numpy>=1.15 in /usr/local/lib/python3.7/dist-packages (from yfinance) (1.19.5)\n",
            "Requirement already satisfied: python-dateutil>=2.7.3 in /usr/local/lib/python3.7/dist-packages (from pandas>=0.24->yfinance) (2.8.1)\n",
            "Requirement already satisfied: pytz>=2017.2 in /usr/local/lib/python3.7/dist-packages (from pandas>=0.24->yfinance) (2018.9)\n",
            "Requirement already satisfied: six>=1.5 in /usr/local/lib/python3.7/dist-packages (from python-dateutil>=2.7.3->pandas>=0.24->yfinance) (1.15.0)\n",
            "Requirement already satisfied: urllib3!=1.25.0,!=1.25.1,<1.26,>=1.21.1 in /usr/local/lib/python3.7/dist-packages (from requests>=2.20->yfinance) (1.24.3)\n",
            "Requirement already satisfied: idna<3,>=2.5 in /usr/local/lib/python3.7/dist-packages (from requests>=2.20->yfinance) (2.10)\n",
            "Requirement already satisfied: certifi>=2017.4.17 in /usr/local/lib/python3.7/dist-packages (from requests>=2.20->yfinance) (2021.5.30)\n",
            "Requirement already satisfied: chardet<4,>=3.0.2 in /usr/local/lib/python3.7/dist-packages (from requests>=2.20->yfinance) (3.0.4)\n",
            "Requirement already satisfied: mplfinance in /usr/local/lib/python3.7/dist-packages (0.12.7a17)\n",
            "Requirement already satisfied: pandas in /usr/local/lib/python3.7/dist-packages (from mplfinance) (1.1.5)\n",
            "Requirement already satisfied: matplotlib in /usr/local/lib/python3.7/dist-packages (from mplfinance) (3.2.2)\n",
            "Requirement already satisfied: numpy>=1.11 in /usr/local/lib/python3.7/dist-packages (from matplotlib->mplfinance) (1.19.5)\n",
            "Requirement already satisfied: kiwisolver>=1.0.1 in /usr/local/lib/python3.7/dist-packages (from matplotlib->mplfinance) (1.3.1)\n",
            "Requirement already satisfied: cycler>=0.10 in /usr/local/lib/python3.7/dist-packages (from matplotlib->mplfinance) (0.10.0)\n",
            "Requirement already satisfied: python-dateutil>=2.1 in /usr/local/lib/python3.7/dist-packages (from matplotlib->mplfinance) (2.8.1)\n",
            "Requirement already satisfied: pyparsing!=2.0.4,!=2.1.2,!=2.1.6,>=2.0.1 in /usr/local/lib/python3.7/dist-packages (from matplotlib->mplfinance) (2.4.7)\n",
            "Requirement already satisfied: six in /usr/local/lib/python3.7/dist-packages (from cycler>=0.10->matplotlib->mplfinance) (1.15.0)\n",
            "Requirement already satisfied: pytz>=2017.2 in /usr/local/lib/python3.7/dist-packages (from pandas->mplfinance) (2018.9)\n"
          ],
          "name": "stdout"
        }
      ]
    },
    {
      "cell_type": "code",
      "metadata": {
        "colab": {
          "base_uri": "https://localhost:8080/",
          "height": 467
        },
        "id": "Tkat1PpYDTgp",
        "outputId": "5cffc146-da40-43c7-de04-16a06609d42d"
      },
      "source": [
        "#Get the stock quote\n",
        "data = yf.download('^GSPC', start=start_date, end=end_date)\n",
        "#df = web.DataReader('^GSPC', data_source='yahoo',start='2012-01',end='2019-12-17')\n",
        "#show the data\n",
        "data.head(391)"
      ],
      "execution_count": 137,
      "outputs": [
        {
          "output_type": "stream",
          "text": [
            "\r[*********************100%***********************]  1 of 1 completed\n"
          ],
          "name": "stdout"
        },
        {
          "output_type": "execute_result",
          "data": {
            "text/html": [
              "<div>\n",
              "<style scoped>\n",
              "    .dataframe tbody tr th:only-of-type {\n",
              "        vertical-align: middle;\n",
              "    }\n",
              "\n",
              "    .dataframe tbody tr th {\n",
              "        vertical-align: top;\n",
              "    }\n",
              "\n",
              "    .dataframe thead th {\n",
              "        text-align: right;\n",
              "    }\n",
              "</style>\n",
              "<table border=\"1\" class=\"dataframe\">\n",
              "  <thead>\n",
              "    <tr style=\"text-align: right;\">\n",
              "      <th></th>\n",
              "      <th>Open</th>\n",
              "      <th>High</th>\n",
              "      <th>Low</th>\n",
              "      <th>Close</th>\n",
              "      <th>Adj Close</th>\n",
              "      <th>Volume</th>\n",
              "    </tr>\n",
              "    <tr>\n",
              "      <th>Date</th>\n",
              "      <th></th>\n",
              "      <th></th>\n",
              "      <th></th>\n",
              "      <th></th>\n",
              "      <th></th>\n",
              "      <th></th>\n",
              "    </tr>\n",
              "  </thead>\n",
              "  <tbody>\n",
              "    <tr>\n",
              "      <th>2020-01-02</th>\n",
              "      <td>3244.669922</td>\n",
              "      <td>3258.139893</td>\n",
              "      <td>3235.530029</td>\n",
              "      <td>3257.850098</td>\n",
              "      <td>3257.850098</td>\n",
              "      <td>3458250000</td>\n",
              "    </tr>\n",
              "    <tr>\n",
              "      <th>2020-01-03</th>\n",
              "      <td>3226.360107</td>\n",
              "      <td>3246.149902</td>\n",
              "      <td>3222.340088</td>\n",
              "      <td>3234.850098</td>\n",
              "      <td>3234.850098</td>\n",
              "      <td>3461290000</td>\n",
              "    </tr>\n",
              "    <tr>\n",
              "      <th>2020-01-06</th>\n",
              "      <td>3217.550049</td>\n",
              "      <td>3246.840088</td>\n",
              "      <td>3214.639893</td>\n",
              "      <td>3246.280029</td>\n",
              "      <td>3246.280029</td>\n",
              "      <td>3674070000</td>\n",
              "    </tr>\n",
              "    <tr>\n",
              "      <th>2020-01-07</th>\n",
              "      <td>3241.860107</td>\n",
              "      <td>3244.909912</td>\n",
              "      <td>3232.429932</td>\n",
              "      <td>3237.179932</td>\n",
              "      <td>3237.179932</td>\n",
              "      <td>3420380000</td>\n",
              "    </tr>\n",
              "    <tr>\n",
              "      <th>2020-01-08</th>\n",
              "      <td>3238.590088</td>\n",
              "      <td>3267.070068</td>\n",
              "      <td>3236.669922</td>\n",
              "      <td>3253.050049</td>\n",
              "      <td>3253.050049</td>\n",
              "      <td>3720890000</td>\n",
              "    </tr>\n",
              "    <tr>\n",
              "      <th>...</th>\n",
              "      <td>...</td>\n",
              "      <td>...</td>\n",
              "      <td>...</td>\n",
              "      <td>...</td>\n",
              "      <td>...</td>\n",
              "      <td>...</td>\n",
              "    </tr>\n",
              "    <tr>\n",
              "      <th>2021-07-15</th>\n",
              "      <td>4369.020020</td>\n",
              "      <td>4369.020020</td>\n",
              "      <td>4340.700195</td>\n",
              "      <td>4360.029785</td>\n",
              "      <td>4360.029785</td>\n",
              "      <td>3226930000</td>\n",
              "    </tr>\n",
              "    <tr>\n",
              "      <th>2021-07-16</th>\n",
              "      <td>4367.430176</td>\n",
              "      <td>4375.089844</td>\n",
              "      <td>4322.529785</td>\n",
              "      <td>4327.160156</td>\n",
              "      <td>4327.160156</td>\n",
              "      <td>3165160000</td>\n",
              "    </tr>\n",
              "    <tr>\n",
              "      <th>2021-07-19</th>\n",
              "      <td>4296.399902</td>\n",
              "      <td>4296.399902</td>\n",
              "      <td>4233.129883</td>\n",
              "      <td>4258.490234</td>\n",
              "      <td>4258.490234</td>\n",
              "      <td>4155790000</td>\n",
              "    </tr>\n",
              "    <tr>\n",
              "      <th>2021-07-20</th>\n",
              "      <td>4265.109863</td>\n",
              "      <td>4336.839844</td>\n",
              "      <td>4262.049805</td>\n",
              "      <td>4323.060059</td>\n",
              "      <td>4323.060059</td>\n",
              "      <td>3634190000</td>\n",
              "    </tr>\n",
              "    <tr>\n",
              "      <th>2021-07-21</th>\n",
              "      <td>4331.129883</td>\n",
              "      <td>4359.700195</td>\n",
              "      <td>4331.129883</td>\n",
              "      <td>4358.689941</td>\n",
              "      <td>4358.689941</td>\n",
              "      <td>3078550000</td>\n",
              "    </tr>\n",
              "  </tbody>\n",
              "</table>\n",
              "<p>391 rows × 6 columns</p>\n",
              "</div>"
            ],
            "text/plain": [
              "                   Open         High  ...    Adj Close      Volume\n",
              "Date                                  ...                         \n",
              "2020-01-02  3244.669922  3258.139893  ...  3257.850098  3458250000\n",
              "2020-01-03  3226.360107  3246.149902  ...  3234.850098  3461290000\n",
              "2020-01-06  3217.550049  3246.840088  ...  3246.280029  3674070000\n",
              "2020-01-07  3241.860107  3244.909912  ...  3237.179932  3420380000\n",
              "2020-01-08  3238.590088  3267.070068  ...  3253.050049  3720890000\n",
              "...                 ...          ...  ...          ...         ...\n",
              "2021-07-15  4369.020020  4369.020020  ...  4360.029785  3226930000\n",
              "2021-07-16  4367.430176  4375.089844  ...  4327.160156  3165160000\n",
              "2021-07-19  4296.399902  4296.399902  ...  4258.490234  4155790000\n",
              "2021-07-20  4265.109863  4336.839844  ...  4323.060059  3634190000\n",
              "2021-07-21  4331.129883  4359.700195  ...  4358.689941  3078550000\n",
              "\n",
              "[391 rows x 6 columns]"
            ]
          },
          "metadata": {
            "tags": []
          },
          "execution_count": 137
        }
      ]
    },
    {
      "cell_type": "code",
      "metadata": {
        "id": "iINONBjJCmEs"
      },
      "source": [
        ""
      ],
      "execution_count": 137,
      "outputs": []
    },
    {
      "cell_type": "code",
      "metadata": {
        "colab": {
          "base_uri": "https://localhost:8080/"
        },
        "id": "-1NflEs4D4Bv",
        "outputId": "a891d2b8-a005-4bbd-fe4f-73ce63d885fb"
      },
      "source": [
        "#Get the number of rows and columns in the data set\n",
        "data.shape\n",
        "\n"
      ],
      "execution_count": 138,
      "outputs": [
        {
          "output_type": "execute_result",
          "data": {
            "text/plain": [
              "(392, 6)"
            ]
          },
          "metadata": {
            "tags": []
          },
          "execution_count": 138
        }
      ]
    },
    {
      "cell_type": "code",
      "metadata": {
        "colab": {
          "base_uri": "https://localhost:8080/",
          "height": 528
        },
        "id": "nASYYE3wEFyH",
        "outputId": "a2943b12-08c9-480c-9f41-1a878a9f8282"
      },
      "source": [
        "mpf.plot(data, type='candle', mav= (3,6,9), volume=True, show_nontrading=True)\n",
        "#Visualize the closing price history\n",
        "#plt.figure(figsize=(16,8))\n",
        "#plt.title('Close Price History')\n",
        "#plt.plot(df['Close'])\n",
        "#plt.xlabel('Date',fontsize=18)\n",
        "#plt.ylabel('Close Price USD($)',fontsize=18)\n",
        "#plt.show()"
      ],
      "execution_count": 139,
      "outputs": [
        {
          "output_type": "display_data",
          "data": {
            "image/png": "[encoded data removed]",
            "text/plain": [
              "<Figure size 800x575 with 4 Axes>"
            ]
          },
          "metadata": {
            "tags": []
          }
        }
      ]
    },
    {
      "cell_type": "code",
      "metadata": {
        "id": "5u3vU4T5HqUi"
      },
      "source": [
        ""
      ],
      "execution_count": 139,
      "outputs": []
    },
    {
      "cell_type": "code",
      "metadata": {
        "colab": {
          "base_uri": "https://localhost:8080/"
        },
        "id": "LhjmcNHG7Tbm",
        "outputId": "6a7650d5-bcf7-4b1f-af4d-5cea6fe85fb8"
      },
      "source": [
        "#Create a new dataframe with only the 'Close column'\n",
        "data = data.filter(['Close'])\n",
        "#Convert the dataframe to a numpy array\n",
        "dataset = data.values\n",
        "#Get the number of rows to train the model on \n",
        "training_data_len = math.ceil(len(dataset) * .8)\n",
        "\n",
        "training_data_len"
      ],
      "execution_count": 140,
      "outputs": [
        {
          "output_type": "execute_result",
          "data": {
            "text/plain": [
              "314"
            ]
          },
          "metadata": {
            "tags": []
          },
          "execution_count": 140
        }
      ]
    },
    {
      "cell_type": "code",
      "metadata": {
        "colab": {
          "base_uri": "https://localhost:8080/"
        },
        "id": "7KFZs2c38gaO",
        "outputId": "38bb19ad-79b3-4175-aadb-c2877a86e951"
      },
      "source": [
        "#Scale the data\n",
        "scaler = MinMaxScaler(feature_range=(0,1))\n",
        "scaled_data = scaler.fit_transform(dataset)\n",
        "scaled_data\n",
        "\n"
      ],
      "execution_count": 141,
      "outputs": [
        {
          "output_type": "execute_result",
          "data": {
            "text/plain": [
              "array([[0.47524029],\n",
              "       [0.46452881],\n",
              "       [0.46985192],\n",
              "       [0.46561386],\n",
              "       [0.47300483],\n",
              "       [0.48308754],\n",
              "       [0.47873316],\n",
              "       [0.48934208],\n",
              "       [0.48702282],\n",
              "       [0.48988238],\n",
              "       [0.5026989 ],\n",
              "       [0.50866476],\n",
              "       [0.50455245],\n",
              "       [0.50499951],\n",
              "       [0.5067646 ],\n",
              "       [0.49276048],\n",
              "       [0.4686177 ],\n",
              "       [0.48380476],\n",
              "       [0.48248209],\n",
              "       [0.48726034],\n",
              "       [0.46018364],\n",
              "       [0.47108136],\n",
              "       [0.49374785],\n",
              "       [0.51102586],\n",
              "       [0.51619069],\n",
              "       [0.50777517],\n",
              "       [0.51912939],\n",
              "       [0.5217653 ],\n",
              "       [0.53187132],\n",
              "       [0.52930522],\n",
              "       [0.53220196],\n",
              "       [0.5276054 ],\n",
              "       [0.5349916 ],\n",
              "       [0.52897458],\n",
              "       [0.51245098],\n",
              "       [0.4603559 ],\n",
              "       [0.41486476],\n",
              "       [0.40935997],\n",
              "       [0.34526349],\n",
              "       [0.33383479],\n",
              "       [0.39717687],\n",
              "       [0.35672481],\n",
              "       [0.41575435],\n",
              "       [0.36630452],\n",
              "       [0.34228761],\n",
              "       [0.23712418],\n",
              "       [0.30030788],\n",
              "       [0.23471169],\n",
              "       [0.11328083],\n",
              "       [0.22057261],\n",
              "       [0.06926598],\n",
              "       [0.13589138],\n",
              "       [0.0748407 ],\n",
              "       [0.08009854],\n",
              "       [0.03144517],\n",
              "       [0.        ],\n",
              "       [0.0977679 ],\n",
              "       [0.11091507],\n",
              "       [0.1828729 ],\n",
              "       [0.14161039],\n",
              "       [0.18128007],\n",
              "       [0.16169213],\n",
              "       [0.10855851],\n",
              "       [0.13482487],\n",
              "       [0.11701122],\n",
              "       [0.19852556],\n",
              "       [0.19653694],\n",
              "       [0.2387169 ],\n",
              "       [0.25727108],\n",
              "       [0.24414245],\n",
              "       [0.28346296],\n",
              "       [0.25426257],\n",
              "       [0.26180249],\n",
              "       [0.29673587],\n",
              "       [0.27279798],\n",
              "       [0.23246702],\n",
              "       [0.26169072],\n",
              "       [0.26098748],\n",
              "       [0.27912245],\n",
              "       [0.29856144],\n",
              "       [0.29153374],\n",
              "       [0.32698412],\n",
              "       [0.31437249],\n",
              "       [0.27631416],\n",
              "       [0.28191675],\n",
              "       [0.29388563],\n",
              "       [0.28456198],\n",
              "       [0.29982351],\n",
              "       [0.32246203],\n",
              "       [0.32264361],\n",
              "       [0.29466812],\n",
              "       [0.27132636],\n",
              "       [0.28646214],\n",
              "       [0.29167814],\n",
              "       [0.33369039],\n",
              "       [0.31926717],\n",
              "       [0.34193366],\n",
              "       [0.33117557],\n",
              "       [0.33440761],\n",
              "       [0.35132246],\n",
              "       [0.37198157],\n",
              "       [0.36900103],\n",
              "       [0.37579121],\n",
              "       [0.38110966],\n",
              "       [0.39279452],\n",
              "       [0.41237791],\n",
              "       [0.40747857],\n",
              "       [0.44547163],\n",
              "       [0.46338306],\n",
              "       [0.45164237],\n",
              "       [0.44370654],\n",
              "       [0.35613334],\n",
              "       [0.37439406],\n",
              "       [0.38616738],\n",
              "       [0.41324874],\n",
              "       [0.40800943],\n",
              "       [0.40887105],\n",
              "       [0.4006744 ],\n",
              "       [0.41004467],\n",
              "       [0.41629921],\n",
              "       [0.37859483],\n",
              "       [0.3941637 ],\n",
              "       [0.35937005],\n",
              "       [0.37995003],\n",
              "       [0.401862  ],\n",
              "       [0.40911324],\n",
              "       [0.41570308],\n",
              "       [0.43885381],\n",
              "       [0.42283322],\n",
              "       [0.4342991 ],\n",
              "       [0.42596748],\n",
              "       [0.44133146],\n",
              "       [0.42744377],\n",
              "       [0.44714359],\n",
              "       [0.46066801],\n",
              "       [0.45554979],\n",
              "       [0.45981571],\n",
              "       [0.47244133],\n",
              "       [0.47498412],\n",
              "       [0.48370232],\n",
              "       [0.46490596],\n",
              "       [0.45557765],\n",
              "       [0.46665239],\n",
              "       [0.45688634],\n",
              "       [0.47551499],\n",
              "       [0.46982395],\n",
              "       [0.48142035],\n",
              "       [0.49236002],\n",
              "       [0.497902  ],\n",
              "       [0.50780314],\n",
              "       [0.51776476],\n",
              "       [0.51875213],\n",
              "       [0.52303204],\n",
              "       [0.51056014],\n",
              "       [0.53229054],\n",
              "       [0.5290677 ],\n",
              "       [0.52879766],\n",
              "       [0.53305426],\n",
              "       [0.53668221],\n",
              "       [0.5297291 ],\n",
              "       [0.53469359],\n",
              "       [0.54011914],\n",
              "       [0.55600943],\n",
              "       [0.56175641],\n",
              "       [0.57810765],\n",
              "       [0.58081815],\n",
              "       [0.59174384],\n",
              "       [0.58815784],\n",
              "       [0.60042474],\n",
              "       [0.62566199],\n",
              "       [0.56708418],\n",
              "       [0.55399751],\n",
              "       [0.50969863],\n",
              "       [0.54095745],\n",
              "       [0.51312158],\n",
              "       [0.51395057],\n",
              "       [0.53377614],\n",
              "       [0.54200065],\n",
              "       [0.53468427],\n",
              "       [0.52142068],\n",
              "       [0.50393767],\n",
              "       [0.48604955],\n",
              "       [0.50212142],\n",
              "       [0.46549276],\n",
              "       [0.46999632],\n",
              "       [0.49415296],\n",
              "       [0.51890119],\n",
              "       [0.51138913],\n",
              "       [0.52421031],\n",
              "       [0.53250008],\n",
              "       [0.51742013],\n",
              "       [0.54544702],\n",
              "       [0.52326489],\n",
              "       [0.55049531],\n",
              "       [0.56325135],\n",
              "       [0.57736712],\n",
              "       [0.60395024],\n",
              "       [0.59356941],\n",
              "       [0.58273684],\n",
              "       [0.58025465],\n",
              "       [0.58047353],\n",
              "       [0.55397886],\n",
              "       [0.56152356],\n",
              "       [0.55800271],\n",
              "       [0.56635298],\n",
              "       [0.57189495],\n",
              "       [0.54189355],\n",
              "       [0.53710131],\n",
              "       [0.4813784 ],\n",
              "       [0.49957863],\n",
              "       [0.48088005],\n",
              "       [0.49963912],\n",
              "       [0.52707908],\n",
              "       [0.5616725 ],\n",
              "       [0.59288016],\n",
              "       [0.59240978],\n",
              "       [0.61153212],\n",
              "       [0.60921752],\n",
              "       [0.62185235],\n",
              "       [0.60524961],\n",
              "       [0.62766914],\n",
              "       [0.64711746],\n",
              "       [0.63902336],\n",
              "       [0.61958437],\n",
              "       [0.62614169],\n",
              "       [0.61481078],\n",
              "       [0.62414841],\n",
              "       [0.65107605],\n",
              "       [0.64839352],\n",
              "       [0.65244534],\n",
              "       [0.64465846],\n",
              "       [0.66366903],\n",
              "       [0.66672416],\n",
              "       [0.66565765],\n",
              "       [0.68074693],\n",
              "       [0.67741233],\n",
              "       [0.68220457],\n",
              "       [0.66849857],\n",
              "       [0.6663004 ],\n",
              "       [0.66413941],\n",
              "       [0.65670194],\n",
              "       [0.67865121],\n",
              "       [0.68170156],\n",
              "       [0.691626  ],\n",
              "       [0.68553905],\n",
              "       [0.67879083],\n",
              "       [0.67522348],\n",
              "       [0.6765042 ],\n",
              "       [0.68258182],\n",
              "       [0.69762448],\n",
              "       [0.69374969],\n",
              "       [0.69607827],\n",
              "       [0.70726945],\n",
              "       [0.68145937],\n",
              "       [0.69366589],\n",
              "       [0.70357624],\n",
              "       [0.72949342],\n",
              "       [0.73922218],\n",
              "       [0.72754676],\n",
              "       [0.72828251],\n",
              "       [0.73231102],\n",
              "       [0.72565126],\n",
              "       [0.71294184],\n",
              "       [0.72722066],\n",
              "       [0.75187577],\n",
              "       [0.75244393],\n",
              "       [0.74704158],\n",
              "       [0.75351044],\n",
              "       [0.75083723],\n",
              "       [0.70480113],\n",
              "       [0.72185094],\n",
              "       [0.6877885 ],\n",
              "       [0.71555456],\n",
              "       [0.73998136],\n",
              "       [0.74177896],\n",
              "       [0.76113882],\n",
              "       [0.76816652],\n",
              "       [0.78156052],\n",
              "       [0.77952995],\n",
              "       [0.77890119],\n",
              "       [0.78192834],\n",
              "       [0.7905209 ],\n",
              "       [0.7894777 ],\n",
              "       [0.78889089],\n",
              "       [0.78080601],\n",
              "       [0.7774249 ],\n",
              "       [0.76335563],\n",
              "       [0.76562372],\n",
              "       [0.7861431 ],\n",
              "       [0.74139249],\n",
              "       [0.73292103],\n",
              "       [0.7751476 ],\n",
              "       [0.76046355],\n",
              "       [0.73691225],\n",
              "       [0.71304429],\n",
              "       [0.74726045],\n",
              "       [0.73767142],\n",
              "       [0.76286194],\n",
              "       [0.77374579],\n",
              "       [0.79262128],\n",
              "       [0.79448415],\n",
              "       [0.80640642],\n",
              "       [0.80350502],\n",
              "       [0.80881891],\n",
              "       [0.78149992],\n",
              "       [0.78040089],\n",
              "       [0.79320343],\n",
              "       [0.77919931],\n",
              "       [0.76924224],\n",
              "       [0.77873359],\n",
              "       [0.80901448],\n",
              "       [0.80740778],\n",
              "       [0.80156768],\n",
              "       [0.80824598],\n",
              "       [0.83012543],\n",
              "       [0.85715551],\n",
              "       [0.85530663],\n",
              "       [0.85810559],\n",
              "       [0.86612521],\n",
              "       [0.88085576],\n",
              "       [0.88047873],\n",
              "       [0.88681229],\n",
              "       [0.87892786],\n",
              "       [0.90023893],\n",
              "       [0.9072481 ],\n",
              "       [0.89690433],\n",
              "       [0.88371532],\n",
              "       [0.90163608],\n",
              "       [0.88373397],\n",
              "       [0.90477966],\n",
              "       [0.90824934],\n",
              "       [0.90783024],\n",
              "       [0.90618159],\n",
              "       [0.91935672],\n",
              "       [0.90524538],\n",
              "       [0.91059657],\n",
              "       [0.89755651],\n",
              "       [0.89892092],\n",
              "       [0.91476937],\n",
              "       [0.92919725],\n",
              "       [0.9086266 ],\n",
              "       [0.89170709],\n",
              "       [0.85023037],\n",
              "       [0.87326468],\n",
              "       [0.90183642],\n",
              "       [0.89691843],\n",
              "       [0.88040415],\n",
              "       [0.87474574],\n",
              "       [0.89497643],\n",
              "       [0.89345807],\n",
              "       [0.9126409 ],\n",
              "       [0.90848675],\n",
              "       [0.91214744],\n",
              "       [0.91442463],\n",
              "       [0.91592888],\n",
              "       [0.91496493],\n",
              "       [0.91779653],\n",
              "       [0.91068503],\n",
              "       [0.92793518],\n",
              "       [0.92636566],\n",
              "       [0.92671017],\n",
              "       [0.92311952],\n",
              "       [0.9322617 ],\n",
              "       [0.93610841],\n",
              "       [0.93969906],\n",
              "       [0.9357125 ],\n",
              "       [0.92505242],\n",
              "       [0.92419535],\n",
              "       [0.89839016],\n",
              "       [0.92555998],\n",
              "       [0.93564269],\n",
              "       [0.93350035],\n",
              "       [0.94498044],\n",
              "       [0.95159825],\n",
              "       [0.95621334],\n",
              "       [0.95676752],\n",
              "       [0.95942219],\n",
              "       [0.96987284],\n",
              "       [0.984962  ],\n",
              "       [0.98086379],\n",
              "       [0.98765852],\n",
              "       [0.97028262],\n",
              "       [0.99297696],\n",
              "       [1.        ],\n",
              "       [0.99281869],\n",
              "       [0.99518911],\n",
              "       [0.98854333],\n",
              "       [0.97323541],\n",
              "       [0.94125471],\n",
              "       [0.97132593],\n",
              "       [0.98791935],\n",
              "       [0.99201301]])"
            ]
          },
          "metadata": {
            "tags": []
          },
          "execution_count": 141
        }
      ]
    },
    {
      "cell_type": "code",
      "metadata": {
        "colab": {
          "base_uri": "https://localhost:8080/"
        },
        "id": "ryDBUAM-9WEv",
        "outputId": "e66579ba-00db-4a1f-fd0f-3ccd8f75720a"
      },
      "source": [
        "#Create the training data set\n",
        "#Create the scaled training data set\n",
        "train_data = scaled_data[0:training_data_len , :]\n",
        "#Split the data into x_train and y_train data sets\n",
        "x_train = []\n",
        "y_train = []\n",
        "\n",
        "for i in range(60, len(train_data)):\n",
        "  x_train.append(train_data[i-60:i, 0])\n",
        "  y_train.append(train_data[i,0])\n",
        "  if i <= 60:\n",
        "    print (x_train)\n",
        "    print (y_train)\n",
        "    print ()"
      ],
      "execution_count": 142,
      "outputs": [
        {
          "output_type": "stream",
          "text": [
            "[array([0.47524029, 0.46452881, 0.46985192, 0.46561386, 0.47300483,\n",
            "       0.48308754, 0.47873316, 0.48934208, 0.48702282, 0.48988238,\n",
            "       0.5026989 , 0.50866476, 0.50455245, 0.50499951, 0.5067646 ,\n",
            "       0.49276048, 0.4686177 , 0.48380476, 0.48248209, 0.48726034,\n",
            "       0.46018364, 0.47108136, 0.49374785, 0.51102586, 0.51619069,\n",
            "       0.50777517, 0.51912939, 0.5217653 , 0.53187132, 0.52930522,\n",
            "       0.53220196, 0.5276054 , 0.5349916 , 0.52897458, 0.51245098,\n",
            "       0.4603559 , 0.41486476, 0.40935997, 0.34526349, 0.33383479,\n",
            "       0.39717687, 0.35672481, 0.41575435, 0.36630452, 0.34228761,\n",
            "       0.23712418, 0.30030788, 0.23471169, 0.11328083, 0.22057261,\n",
            "       0.06926598, 0.13589138, 0.0748407 , 0.08009854, 0.03144517,\n",
            "       0.        , 0.0977679 , 0.11091507, 0.1828729 , 0.14161039])]\n",
            "[0.18128006945721986]\n",
            "\n"
          ],
          "name": "stdout"
        }
      ]
    },
    {
      "cell_type": "code",
      "metadata": {
        "colab": {
          "base_uri": "https://localhost:8080/"
        },
        "id": "dmJfr5Rh-me3",
        "outputId": "aed69c60-c29c-4844-b7f3-c9e861608a77"
      },
      "source": [
        "#Convert the x_train and y_train to numpy arrays\n",
        "x_train, y_train = np.array(x_train), np.array(y_train)\n",
        "\n",
        "#Reshape the data\n",
        "x_train = np.reshape(x_train, (x_train.shape[0], x_train.shape[1], 1))\n",
        "x_train.shape\n"
      ],
      "execution_count": 143,
      "outputs": [
        {
          "output_type": "execute_result",
          "data": {
            "text/plain": [
              "(254, 60, 1)"
            ]
          },
          "metadata": {
            "tags": []
          },
          "execution_count": 143
        }
      ]
    },
    {
      "cell_type": "code",
      "metadata": {
        "id": "asLm_vfh_s7Y"
      },
      "source": [
        "#Build the LSTM model\n",
        "model = Sequential()\n",
        "model.add(LSTM(50, return_sequences=True, input_shape=(x_train.shape[1], 1)))\n",
        "model.add(LSTM(50, return_sequences= False))\n",
        "model.add(Dense(25))\n",
        "model.add(Dense(1))\n",
        "\n"
      ],
      "execution_count": 144,
      "outputs": []
    },
    {
      "cell_type": "code",
      "metadata": {
        "id": "t2HR6Nd_CnK7"
      },
      "source": [
        "#Compile the model\n",
        "model.compile(optimizer = 'adam', loss = 'mean_squared_error')"
      ],
      "execution_count": 145,
      "outputs": []
    },
    {
      "cell_type": "code",
      "metadata": {
        "id": "9oWMWd78DgoF"
      },
      "source": [
        ""
      ],
      "execution_count": 145,
      "outputs": []
    },
    {
      "cell_type": "code",
      "metadata": {
        "colab": {
          "base_uri": "https://localhost:8080/"
        },
        "id": "26KDGTykD8p2",
        "outputId": "263d7a18-eb29-4297-9716-cf53d5a93449"
      },
      "source": [
        "#train the model\n",
        "model.fit(x_train, y_train, batch_size=1, epochs=1)"
      ],
      "execution_count": 146,
      "outputs": [
        {
          "output_type": "stream",
          "text": [
            "254/254 [==============================] - 10s 28ms/step - loss: 0.0195\n"
          ],
          "name": "stdout"
        },
        {
          "output_type": "execute_result",
          "data": {
            "text/plain": [
              "<keras.callbacks.History at 0x7f89648b04d0>"
            ]
          },
          "metadata": {
            "tags": []
          },
          "execution_count": 146
        }
      ]
    },
    {
      "cell_type": "code",
      "metadata": {
        "id": "ftOrs7HgEdBX"
      },
      "source": [
        "#Create the testing data set\n",
        "#Create a new array containing scaled values from index 1543 to 2003\n",
        "test_data = scaled_data[training_data_len - 60: , :]\n",
        "#Create the data sets x_test and y_test\n",
        "x_test = []\n",
        "y_test = dataset[training_data_len:, :]\n",
        "for i in range(60, len(test_data)):\n",
        "  x_test.append(test_data[i-60:i,0])"
      ],
      "execution_count": 147,
      "outputs": []
    },
    {
      "cell_type": "code",
      "metadata": {
        "id": "4gRIhRssFQx2"
      },
      "source": [
        "#Convert the data to a numpy array\n",
        "x_test = np.array(x_test)\n",
        "\n"
      ],
      "execution_count": 148,
      "outputs": []
    },
    {
      "cell_type": "code",
      "metadata": {
        "id": "6GXuXBDkFk0-"
      },
      "source": [
        "#Reshape the data\n",
        "x_test = np.reshape(x_test, (x_test.shape[0], x_test.shape[1],1))\n",
        "\n",
        "#Get the models predicted price values\n",
        "predictions = model.predict(x_test)\n",
        "predictions = scaler.inverse_transform(predictions)\n"
      ],
      "execution_count": 149,
      "outputs": []
    },
    {
      "cell_type": "code",
      "metadata": {
        "colab": {
          "base_uri": "https://localhost:8080/"
        },
        "id": "R_bqn0kwGHWu",
        "outputId": "bec14cc2-517c-46d4-ac52-81d5ac8deb6e"
      },
      "source": [
        "#Get the root mean squared error (RMSE)\n",
        "rmse = np.sqrt( np.mean(predictions - y_test)**2)\n",
        "rmse"
      ],
      "execution_count": 150,
      "outputs": [
        {
          "output_type": "execute_result",
          "data": {
            "text/plain": [
              "121.79405173277243"
            ]
          },
          "metadata": {
            "tags": []
          },
          "execution_count": 150
        }
      ]
    },
    {
      "cell_type": "code",
      "metadata": {
        "colab": {
          "base_uri": "https://localhost:8080/",
          "height": 575
        },
        "id": "H3fHhAOjGr-y",
        "outputId": "de92f597-f3db-420c-cfa8-ea010fc8388a"
      },
      "source": [
        "#Plot the data\n",
        "train = data[:training_data_len]\n",
        "valid = data[training_data_len:]\n",
        "valid['Predictions'] = predictions\n",
        "#Visualise the data\n",
        "plt.figure(figsize=(16,8))\n",
        "plt.title('Model')\n",
        "plt.xlabel('Date',fontsize=18)\n",
        "plt.ylabel('Close Price USD ($)', fontsize=18)\n",
        "plt.plot(train['Close'])\n",
        "plt.plot(valid[['Close','Predictions']])\n",
        "plt.legend(['Train', 'Val', 'Predictions'], loc='lower right')\n",
        "plt.show()\n"
      ],
      "execution_count": 151,
      "outputs": [
        {
          "output_type": "stream",
          "text": [
            "/usr/local/lib/python3.7/dist-packages/ipykernel_launcher.py:4: SettingWithCopyWarning: \n",
            "A value is trying to be set on a copy of a slice from a DataFrame.\n",
            "Try using .loc[row_indexer,col_indexer] = value instead\n",
            "\n",
            "See the caveats in the documentation: https://pandas.pydata.org/pandas-docs/stable/user_guide/indexing.html#returning-a-view-versus-a-copy\n",
            "  after removing the cwd from sys.path.\n"
          ],
          "name": "stderr"
        },
        {
          "output_type": "display_data",
          "data": {
            "image/png": "[encoded data removed]",
            "text/plain": [
              "<Figure size 1600x800 with 1 Axes>"
            ]
          },
          "metadata": {
            "tags": []
          }
        }
      ]
    },
    {
      "cell_type": "code",
      "metadata": {
        "colab": {
          "base_uri": "https://localhost:8080/",
          "height": 450
        },
        "id": "8MziIYyZKV8k",
        "outputId": "4cbfca7e-023b-4342-ed8c-c45e6af9be0e"
      },
      "source": [
        "#show the valid and predicted return\n",
        "valid"
      ],
      "execution_count": 152,
      "outputs": [
        {
          "output_type": "execute_result",
          "data": {
            "text/html": [
              "<div>\n",
              "<style scoped>\n",
              "    .dataframe tbody tr th:only-of-type {\n",
              "        vertical-align: middle;\n",
              "    }\n",
              "\n",
              "    .dataframe tbody tr th {\n",
              "        vertical-align: top;\n",
              "    }\n",
              "\n",
              "    .dataframe thead th {\n",
              "        text-align: right;\n",
              "    }\n",
              "</style>\n",
              "<table border=\"1\" class=\"dataframe\">\n",
              "  <thead>\n",
              "    <tr style=\"text-align: right;\">\n",
              "      <th></th>\n",
              "      <th>Close</th>\n",
              "      <th>Predictions</th>\n",
              "    </tr>\n",
              "    <tr>\n",
              "      <th>Date</th>\n",
              "      <th></th>\n",
              "      <th></th>\n",
              "    </tr>\n",
              "  </thead>\n",
              "  <tbody>\n",
              "    <tr>\n",
              "      <th>2021-04-01</th>\n",
              "      <td>4019.870117</td>\n",
              "      <td>4098.872559</td>\n",
              "    </tr>\n",
              "    <tr>\n",
              "      <th>2021-04-05</th>\n",
              "      <td>4077.909912</td>\n",
              "      <td>4105.395508</td>\n",
              "    </tr>\n",
              "    <tr>\n",
              "      <th>2021-04-06</th>\n",
              "      <td>4073.939941</td>\n",
              "      <td>4115.123535</td>\n",
              "    </tr>\n",
              "    <tr>\n",
              "      <th>2021-04-07</th>\n",
              "      <td>4079.949951</td>\n",
              "      <td>4126.405762</td>\n",
              "    </tr>\n",
              "    <tr>\n",
              "      <th>2021-04-08</th>\n",
              "      <td>4097.169922</td>\n",
              "      <td>4138.583008</td>\n",
              "    </tr>\n",
              "    <tr>\n",
              "      <th>...</th>\n",
              "      <td>...</td>\n",
              "      <td>...</td>\n",
              "    </tr>\n",
              "    <tr>\n",
              "      <th>2021-07-16</th>\n",
              "      <td>4327.160156</td>\n",
              "      <td>4488.291504</td>\n",
              "    </tr>\n",
              "    <tr>\n",
              "      <th>2021-07-19</th>\n",
              "      <td>4258.490234</td>\n",
              "      <td>4492.578125</td>\n",
              "    </tr>\n",
              "    <tr>\n",
              "      <th>2021-07-20</th>\n",
              "      <td>4323.060059</td>\n",
              "      <td>4492.689941</td>\n",
              "    </tr>\n",
              "    <tr>\n",
              "      <th>2021-07-21</th>\n",
              "      <td>4358.689941</td>\n",
              "      <td>4492.627930</td>\n",
              "    </tr>\n",
              "    <tr>\n",
              "      <th>2021-07-22</th>\n",
              "      <td>4367.479980</td>\n",
              "      <td>4493.603516</td>\n",
              "    </tr>\n",
              "  </tbody>\n",
              "</table>\n",
              "<p>78 rows × 2 columns</p>\n",
              "</div>"
            ],
            "text/plain": [
              "                  Close  Predictions\n",
              "Date                                \n",
              "2021-04-01  4019.870117  4098.872559\n",
              "2021-04-05  4077.909912  4105.395508\n",
              "2021-04-06  4073.939941  4115.123535\n",
              "2021-04-07  4079.949951  4126.405762\n",
              "2021-04-08  4097.169922  4138.583008\n",
              "...                 ...          ...\n",
              "2021-07-16  4327.160156  4488.291504\n",
              "2021-07-19  4258.490234  4492.578125\n",
              "2021-07-20  4323.060059  4492.689941\n",
              "2021-07-21  4358.689941  4492.627930\n",
              "2021-07-22  4367.479980  4493.603516\n",
              "\n",
              "[78 rows x 2 columns]"
            ]
          },
          "metadata": {
            "tags": []
          },
          "execution_count": 152
        }
      ]
    },
    {
      "cell_type": "code",
      "metadata": {
        "colab": {
          "base_uri": "https://localhost:8080/"
        },
        "id": "1_Z2x6IdK0eM",
        "outputId": "79bb43a3-ab1f-41af-8882-c985a88b61ea"
      },
      "source": [
        "#get the quote\n",
        "apple_quote = yf.download('^GSPC', start=start_date, end=end_date)\n",
        "#Create a new dataframe\n",
        "new_data = apple_quote.filter(['Close'])\n",
        "#Get the last 60 day closing price values and convert the dataframe to an array\n",
        "last_60_days = new_data[-60:].values\n",
        "last_60_days_scaled = scaler.transform(last_60_days)\n",
        "#Create an empty list\n",
        "X_test = []\n",
        "#Append the past 60 days\n",
        "X_test.append(last_60_days_scaled)\n",
        "#Convert the X_test data set to a numpy array\n",
        "X_test = np.array(X_test)\n",
        "#Reshape the data\n",
        "X_test = np.reshape(X_test, (X_test.shape[0], X_test.shape[1],1))\n",
        "#Get the predicted scaled price\n",
        "pred_price = model.predict(X_test)\n",
        "#undo the scaling\n",
        "pred_price = scaler.inverse_transform(pred_price)\n",
        "print(pred_price)\n"
      ],
      "execution_count": 153,
      "outputs": [
        {
          "output_type": "stream",
          "text": [
            "\r[*********************100%***********************]  1 of 1 completed\n",
            "[[4495.49]]\n"
          ],
          "name": "stdout"
        }
      ]
    }
  ]
}