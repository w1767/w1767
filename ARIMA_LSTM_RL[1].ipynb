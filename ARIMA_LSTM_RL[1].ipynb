{
  "cells": [
    {
      "cell_type": "markdown",
      "metadata": {
        "id": "view-in-github",
        "colab_type": "text"
      },
      "source": [
        "<a href=\"https://colab.research.google.com/github/w1767/w1767/blob/main/ARIMA_LSTM_RL%5B1%5D.ipynb\" target=\"_parent\"><img src=\"https://colab.research.google.com/assets/colab-badge.svg\" alt=\"Open In Colab\"/></a>"
      ]
    },
    {
      "cell_type": "code",
      "execution_count": 1,
      "id": "fe57de7a",
      "metadata": {
        "id": "fe57de7a",
        "colab": {
          "base_uri": "https://localhost:8080/"
        },
        "outputId": "52de842b-ec99-4fcf-e138-f7a00b94fe4d"
      },
      "outputs": [
        {
          "output_type": "stream",
          "name": "stdout",
          "text": [
            "Looking in indexes: https://pypi.org/simple, https://us-python.pkg.dev/colab-wheels/public/simple/\n",
            "Collecting arch\n",
            "  Downloading arch-5.2.0-cp37-cp37m-manylinux_2_17_x86_64.manylinux2014_x86_64.whl (902 kB)\n",
            "\u001b[K     |████████████████████████████████| 902 kB 5.1 MB/s \n",
            "\u001b[?25hRequirement already satisfied: pandas>=1.0 in /usr/local/lib/python3.7/dist-packages (from arch) (1.3.5)\n",
            "Requirement already satisfied: scipy>=1.3 in /usr/local/lib/python3.7/dist-packages (from arch) (1.4.1)\n",
            "Collecting property-cached>=1.6.4\n",
            "  Downloading property_cached-1.6.4-py2.py3-none-any.whl (7.8 kB)\n",
            "Collecting statsmodels>=0.11\n",
            "  Downloading statsmodels-0.13.2-cp37-cp37m-manylinux_2_17_x86_64.manylinux2014_x86_64.whl (9.8 MB)\n",
            "\u001b[K     |████████████████████████████████| 9.8 MB 34.8 MB/s \n",
            "\u001b[?25hRequirement already satisfied: numpy>=1.17 in /usr/local/lib/python3.7/dist-packages (from arch) (1.21.6)\n",
            "Requirement already satisfied: pytz>=2017.3 in /usr/local/lib/python3.7/dist-packages (from pandas>=1.0->arch) (2022.1)\n",
            "Requirement already satisfied: python-dateutil>=2.7.3 in /usr/local/lib/python3.7/dist-packages (from pandas>=1.0->arch) (2.8.2)\n",
            "Requirement already satisfied: six>=1.5 in /usr/local/lib/python3.7/dist-packages (from python-dateutil>=2.7.3->pandas>=1.0->arch) (1.15.0)\n",
            "Requirement already satisfied: patsy>=0.5.2 in /usr/local/lib/python3.7/dist-packages (from statsmodels>=0.11->arch) (0.5.2)\n",
            "Requirement already satisfied: packaging>=21.3 in /usr/local/lib/python3.7/dist-packages (from statsmodels>=0.11->arch) (21.3)\n",
            "Requirement already satisfied: pyparsing!=3.0.5,>=2.0.2 in /usr/local/lib/python3.7/dist-packages (from packaging>=21.3->statsmodels>=0.11->arch) (3.0.9)\n",
            "Installing collected packages: statsmodels, property-cached, arch\n",
            "  Attempting uninstall: statsmodels\n",
            "    Found existing installation: statsmodels 0.10.2\n",
            "    Uninstalling statsmodels-0.10.2:\n",
            "      Successfully uninstalled statsmodels-0.10.2\n",
            "Successfully installed arch-5.2.0 property-cached-1.6.4 statsmodels-0.13.2\n"
          ]
        }
      ],
      "source": [
        "!pip install arch\n",
        "#Importing libraries\n",
        "import tensorflow\n",
        "import glob\n",
        "import csv\n",
        "from pathlib import Path\n",
        "import pandas as pd\n",
        "from arch import arch_model\n",
        "import os\n",
        "\n",
        "#Checking the buisness day's\n",
        "from pandas.tseries.offsets import BDay\n",
        "\n",
        "# suppress future warnings\n",
        "import warnings\n",
        "warnings.filterwarnings(\"ignore\")\n",
        "warnings.simplefilter(action='ignore')\n",
        "\n",
        "#import Datetime for timeseries data\n",
        "import datetime as dt\n",
        "from datetime import datetime, timedelta\n",
        "\n",
        "#Import Visualisation tools\n",
        "from matplotlib import pyplot\n",
        "import matplotlib.pyplot as plt\n",
        "%matplotlib inline\n",
        "from matplotlib import style\n",
        "\n",
        "# Import math and numpy for calculations\n",
        "import numpy as np\n",
        "import math\n",
        "from math import sqrt\n",
        "from numpy import zeros, ones, expand_dims, asarray\n",
        "from numpy.random import randn, randint\n",
        "\n",
        "# Import statsmodels for Arima\n",
        "from statsmodels.tsa.arima.model import ARIMA\n",
        "from statsmodels.tsa.stattools import adfuller\n",
        "from statsmodels.graphics.tsaplots import plot_acf, plot_pacf\n",
        "\n",
        "#Import Keras \n",
        "import keras\n",
        "from keras.models import Sequential\n",
        "from keras.layers import LSTM\n",
        "from keras.optimizer_v2 import adam\n",
        "from keras.models import Model, load_model\n",
        "from keras.layers import Input, Dense, Reshape, Flatten\n",
        "from keras.layers import Conv2D, Conv2DTranspose, Concatenate\n",
        "from keras.layers import LeakyReLU, Dropout, Embedding\n",
        "from keras.layers import BatchNormalization, Activation\n",
        "from keras import initializers\n",
        "from keras.initializers import RandomNormal\n",
        "from keras.optimizers import adam_v2\n",
        "from keras.layers.convolutional import Conv1D   \n",
        "from keras.layers import Dense, Activation, Flatten\n",
        "from keras.models import Sequential\n",
        "from keras.utils.vis_utils import plot_model\n",
        "\n",
        "#importing Sklearn and its functions\n",
        "import sklearn\n",
        "from sklearn.ensemble import RandomForestRegressor\n",
        "from sklearn import metrics\n",
        "from sklearn.metrics import mean_absolute_error as MAE\n",
        "from sklearn.metrics import mean_absolute_percentage_error\n",
        "from sklearn.metrics import mean_squared_error\n",
        "from sklearn.svm import SVR\n",
        "from sklearn.model_selection import GridSearchCV"
      ]
    },
    {
      "cell_type": "code",
      "source": [
        "from google.colab import drive\n",
        "drive.mount('/content/drive')"
      ],
      "metadata": {
        "colab": {
          "base_uri": "https://localhost:8080/"
        },
        "id": "b-OtfElVxWT8",
        "outputId": "19e2b76e-9dc9-40ab-ebec-d01221beb9d8"
      },
      "id": "b-OtfElVxWT8",
      "execution_count": 2,
      "outputs": [
        {
          "output_type": "stream",
          "name": "stdout",
          "text": [
            "Mounted at /content/drive\n"
          ]
        }
      ]
    },
    {
      "cell_type": "code",
      "source": [
        "path = \"/content/drive/MyDrive/PhD research/VIX_daily.xlsx\" #importing dataset"
      ],
      "metadata": {
        "id": "jSZqCjAgyB0-"
      },
      "id": "jSZqCjAgyB0-",
      "execution_count": 9,
      "outputs": []
    },
    {
      "cell_type": "code",
      "execution_count": 10,
      "id": "f1b4271a",
      "metadata": {
        "id": "f1b4271a"
      },
      "outputs": [],
      "source": [
        "df=pd.read_excel(\"/content/drive/MyDrive/PhD research/VIX_daily.xlsx\", index_col = 'Date')\n",
        "             #  parse_dates=[\"Date\"],\n",
        "             #  index_col=[\"Date\"]) # parse the date column and tell pandas that column 1 is a datetime)"
      ]
    },
    {
      "cell_type": "code",
      "source": [
        "#path = \"/content/drive/MyDrive/PhD research/VIX daily.xlsx\""
      ],
      "metadata": {
        "id": "88kZ4DISSYCb"
      },
      "id": "88kZ4DISSYCb",
      "execution_count": null,
      "outputs": []
    },
    {
      "cell_type": "code",
      "source": [
        "#printing overview of dataset\n",
        "df"
      ],
      "metadata": {
        "colab": {
          "base_uri": "https://localhost:8080/",
          "height": 455
        },
        "id": "SorXq_fc34Pi",
        "outputId": "d5fa199e-c0c3-43c6-d168-38a4f82cd420"
      },
      "id": "SorXq_fc34Pi",
      "execution_count": 12,
      "outputs": [
        {
          "output_type": "execute_result",
          "data": {
            "text/plain": [
              "            Last Price\n",
              "Date                  \n",
              "2022-04-20       21.19\n",
              "2022-04-19       21.37\n",
              "2022-04-18       22.17\n",
              "2022-04-14       22.70\n",
              "2022-04-13       21.82\n",
              "...                ...\n",
              "1990-01-08       20.26\n",
              "1990-01-05       20.11\n",
              "1990-01-04       19.22\n",
              "1990-01-03       18.19\n",
              "1990-01-02       17.24\n",
              "\n",
              "[8136 rows x 1 columns]"
            ],
            "text/html": [
              "\n",
              "  <div id=\"df-fcf34826-7004-4204-bdfe-249b771ec941\">\n",
              "    <div class=\"colab-df-container\">\n",
              "      <div>\n",
              "<style scoped>\n",
              "    .dataframe tbody tr th:only-of-type {\n",
              "        vertical-align: middle;\n",
              "    }\n",
              "\n",
              "    .dataframe tbody tr th {\n",
              "        vertical-align: top;\n",
              "    }\n",
              "\n",
              "    .dataframe thead th {\n",
              "        text-align: right;\n",
              "    }\n",
              "</style>\n",
              "<table border=\"1\" class=\"dataframe\">\n",
              "  <thead>\n",
              "    <tr style=\"text-align: right;\">\n",
              "      <th></th>\n",
              "      <th>Last Price</th>\n",
              "    </tr>\n",
              "    <tr>\n",
              "      <th>Date</th>\n",
              "      <th></th>\n",
              "    </tr>\n",
              "  </thead>\n",
              "  <tbody>\n",
              "    <tr>\n",
              "      <th>2022-04-20</th>\n",
              "      <td>21.19</td>\n",
              "    </tr>\n",
              "    <tr>\n",
              "      <th>2022-04-19</th>\n",
              "      <td>21.37</td>\n",
              "    </tr>\n",
              "    <tr>\n",
              "      <th>2022-04-18</th>\n",
              "      <td>22.17</td>\n",
              "    </tr>\n",
              "    <tr>\n",
              "      <th>2022-04-14</th>\n",
              "      <td>22.70</td>\n",
              "    </tr>\n",
              "    <tr>\n",
              "      <th>2022-04-13</th>\n",
              "      <td>21.82</td>\n",
              "    </tr>\n",
              "    <tr>\n",
              "      <th>...</th>\n",
              "      <td>...</td>\n",
              "    </tr>\n",
              "    <tr>\n",
              "      <th>1990-01-08</th>\n",
              "      <td>20.26</td>\n",
              "    </tr>\n",
              "    <tr>\n",
              "      <th>1990-01-05</th>\n",
              "      <td>20.11</td>\n",
              "    </tr>\n",
              "    <tr>\n",
              "      <th>1990-01-04</th>\n",
              "      <td>19.22</td>\n",
              "    </tr>\n",
              "    <tr>\n",
              "      <th>1990-01-03</th>\n",
              "      <td>18.19</td>\n",
              "    </tr>\n",
              "    <tr>\n",
              "      <th>1990-01-02</th>\n",
              "      <td>17.24</td>\n",
              "    </tr>\n",
              "  </tbody>\n",
              "</table>\n",
              "<p>8136 rows × 1 columns</p>\n",
              "</div>\n",
              "      <button class=\"colab-df-convert\" onclick=\"convertToInteractive('df-fcf34826-7004-4204-bdfe-249b771ec941')\"\n",
              "              title=\"Convert this dataframe to an interactive table.\"\n",
              "              style=\"display:none;\">\n",
              "        \n",
              "  <svg xmlns=\"http://www.w3.org/2000/svg\" height=\"24px\"viewBox=\"0 0 24 24\"\n",
              "       width=\"24px\">\n",
              "    <path d=\"M0 0h24v24H0V0z\" fill=\"none\"/>\n",
              "    <path d=\"M18.56 5.44l.94 2.06.94-2.06 2.06-.94-2.06-.94-.94-2.06-.94 2.06-2.06.94zm-11 1L8.5 8.5l.94-2.06 2.06-.94-2.06-.94L8.5 2.5l-.94 2.06-2.06.94zm10 10l.94 2.06.94-2.06 2.06-.94-2.06-.94-.94-2.06-.94 2.06-2.06.94z\"/><path d=\"M17.41 7.96l-1.37-1.37c-.4-.4-.92-.59-1.43-.59-.52 0-1.04.2-1.43.59L10.3 9.45l-7.72 7.72c-.78.78-.78 2.05 0 2.83L4 21.41c.39.39.9.59 1.41.59.51 0 1.02-.2 1.41-.59l7.78-7.78 2.81-2.81c.8-.78.8-2.07 0-2.86zM5.41 20L4 18.59l7.72-7.72 1.47 1.35L5.41 20z\"/>\n",
              "  </svg>\n",
              "      </button>\n",
              "      \n",
              "  <style>\n",
              "    .colab-df-container {\n",
              "      display:flex;\n",
              "      flex-wrap:wrap;\n",
              "      gap: 12px;\n",
              "    }\n",
              "\n",
              "    .colab-df-convert {\n",
              "      background-color: #E8F0FE;\n",
              "      border: none;\n",
              "      border-radius: 50%;\n",
              "      cursor: pointer;\n",
              "      display: none;\n",
              "      fill: #1967D2;\n",
              "      height: 32px;\n",
              "      padding: 0 0 0 0;\n",
              "      width: 32px;\n",
              "    }\n",
              "\n",
              "    .colab-df-convert:hover {\n",
              "      background-color: #E2EBFA;\n",
              "      box-shadow: 0px 1px 2px rgba(60, 64, 67, 0.3), 0px 1px 3px 1px rgba(60, 64, 67, 0.15);\n",
              "      fill: #174EA6;\n",
              "    }\n",
              "\n",
              "    [theme=dark] .colab-df-convert {\n",
              "      background-color: #3B4455;\n",
              "      fill: #D2E3FC;\n",
              "    }\n",
              "\n",
              "    [theme=dark] .colab-df-convert:hover {\n",
              "      background-color: #434B5C;\n",
              "      box-shadow: 0px 1px 3px 1px rgba(0, 0, 0, 0.15);\n",
              "      filter: drop-shadow(0px 1px 2px rgba(0, 0, 0, 0.3));\n",
              "      fill: #FFFFFF;\n",
              "    }\n",
              "  </style>\n",
              "\n",
              "      <script>\n",
              "        const buttonEl =\n",
              "          document.querySelector('#df-fcf34826-7004-4204-bdfe-249b771ec941 button.colab-df-convert');\n",
              "        buttonEl.style.display =\n",
              "          google.colab.kernel.accessAllowed ? 'block' : 'none';\n",
              "\n",
              "        async function convertToInteractive(key) {\n",
              "          const element = document.querySelector('#df-fcf34826-7004-4204-bdfe-249b771ec941');\n",
              "          const dataTable =\n",
              "            await google.colab.kernel.invokeFunction('convertToInteractive',\n",
              "                                                     [key], {});\n",
              "          if (!dataTable) return;\n",
              "\n",
              "          const docLinkHtml = 'Like what you see? Visit the ' +\n",
              "            '<a target=\"_blank\" href=https://colab.research.google.com/notebooks/data_table.ipynb>data table notebook</a>'\n",
              "            + ' to learn more about interactive tables.';\n",
              "          element.innerHTML = '';\n",
              "          dataTable['output_type'] = 'display_data';\n",
              "          await google.colab.output.renderOutput(dataTable, element);\n",
              "          const docLink = document.createElement('div');\n",
              "          docLink.innerHTML = docLinkHtml;\n",
              "          element.appendChild(docLink);\n",
              "        }\n",
              "      </script>\n",
              "    </div>\n",
              "  </div>\n",
              "  "
            ]
          },
          "metadata": {},
          "execution_count": 12
        }
      ]
    },
    {
      "cell_type": "code",
      "source": [
        "df.isnull().any()"
      ],
      "metadata": {
        "colab": {
          "base_uri": "https://localhost:8080/"
        },
        "id": "0hGMhGQh3935",
        "outputId": "99b2f32f-f2d0-41a1-e0ba-f11525518838"
      },
      "id": "0hGMhGQh3935",
      "execution_count": 13,
      "outputs": [
        {
          "output_type": "execute_result",
          "data": {
            "text/plain": [
              "Last Price    False\n",
              "dtype: bool"
            ]
          },
          "metadata": {},
          "execution_count": 13
        }
      ]
    },
    {
      "cell_type": "code",
      "execution_count": 14,
      "id": "b5c99746",
      "metadata": {
        "id": "b5c99746",
        "outputId": "4e865599-16d8-421b-9971-e621a777c699",
        "colab": {
          "base_uri": "https://localhost:8080/"
        }
      },
      "outputs": [
        {
          "output_type": "stream",
          "name": "stdout",
          "text": [
            "<class 'pandas.core.frame.DataFrame'>\n",
            "DatetimeIndex: 8136 entries, 2022-04-20 to 1990-01-02\n",
            "Data columns (total 1 columns):\n",
            " #   Column      Non-Null Count  Dtype  \n",
            "---  ------      --------------  -----  \n",
            " 0   Last Price  8136 non-null   float64\n",
            "dtypes: float64(1)\n",
            "memory usage: 127.1 KB\n"
          ]
        }
      ],
      "source": [
        "df.info() #printing the statistics of dataframe"
      ]
    },
    {
      "cell_type": "code",
      "source": [
        "len(df) #length"
      ],
      "metadata": {
        "colab": {
          "base_uri": "https://localhost:8080/"
        },
        "id": "EfvCL_VA4DAn",
        "outputId": "7835a87f-61d9-4bf6-8eb7-d1aae1902d80"
      },
      "id": "EfvCL_VA4DAn",
      "execution_count": 16,
      "outputs": [
        {
          "output_type": "execute_result",
          "data": {
            "text/plain": [
              "8136"
            ]
          },
          "metadata": {},
          "execution_count": 16
        }
      ]
    },
    {
      "cell_type": "code",
      "source": [
        "df.index"
      ],
      "metadata": {
        "colab": {
          "base_uri": "https://localhost:8080/"
        },
        "id": "FiQylV5eCNSp",
        "outputId": "6598a776-7e91-4977-e035-f503932043b7"
      },
      "id": "FiQylV5eCNSp",
      "execution_count": 18,
      "outputs": [
        {
          "output_type": "execute_result",
          "data": {
            "text/plain": [
              "DatetimeIndex(['2022-04-20', '2022-04-19', '2022-04-18', '2022-04-14',\n",
              "               '2022-04-13', '2022-04-12', '2022-04-11', '2022-04-08',\n",
              "               '2022-04-07', '2022-04-06',\n",
              "               ...\n",
              "               '1990-01-15', '1990-01-12', '1990-01-11', '1990-01-10',\n",
              "               '1990-01-09', '1990-01-08', '1990-01-05', '1990-01-04',\n",
              "               '1990-01-03', '1990-01-02'],\n",
              "              dtype='datetime64[ns]', name='Date', length=8136, freq=None)"
            ]
          },
          "metadata": {},
          "execution_count": 18
        }
      ]
    },
    {
      "cell_type": "code",
      "execution_count": 19,
      "id": "fe5fd847",
      "metadata": {
        "id": "fe5fd847",
        "outputId": "50616f9c-9959-49da-9289-eefc7310da84",
        "colab": {
          "base_uri": "https://localhost:8080/"
        }
      },
      "outputs": [
        {
          "output_type": "execute_result",
          "data": {
            "text/plain": [
              "Index([True, True, True, True, True, True, True, True, True, True,\n",
              "       ...\n",
              "       True, True, True, True, True, True, True, True, True, True],\n",
              "      dtype='object', name='Date', length=8136)"
            ]
          },
          "metadata": {},
          "execution_count": 19
        }
      ],
      "source": [
        "## Checkning the business day's in the dataframe\n",
        "\n",
        "from pandas.tseries.offsets import BDay\n",
        "\n",
        "isBusinessDay = BDay().onOffset\n",
        "match_series = pd.to_datetime(df.index).map(isBusinessDay)\n",
        "match_series"
      ]
    },
    {
      "cell_type": "code",
      "source": [
        "#VIX_daily['Date'] = (VIX_daily['Date'].apply(lambda x: float(x[0].replace(',', ''))))"
      ],
      "metadata": {
        "id": "lWUgLVzNGG4d"
      },
      "id": "lWUgLVzNGG4d",
      "execution_count": null,
      "outputs": []
    },
    {
      "cell_type": "code",
      "source": [
        "#df.dropna()"
      ],
      "metadata": {
        "colab": {
          "base_uri": "https://localhost:8080/",
          "height": 49
        },
        "id": "ipueLZCYECj3",
        "outputId": "1fc4adc0-7583-4816-d3a9-49df8a2c1943"
      },
      "id": "ipueLZCYECj3",
      "execution_count": null,
      "outputs": [
        {
          "output_type": "execute_result",
          "data": {
            "text/plain": [
              "Empty DataFrame\n",
              "Columns: [Date, Last Price, Unnamed: 2, Unnamed: 3, Unnamed: 4, Unnamed: 5, Unnamed: 6, Unnamed: 7]\n",
              "Index: []"
            ],
            "text/html": [
              "\n",
              "  <div id=\"df-929725fb-ee70-49aa-b309-4f415ec14215\">\n",
              "    <div class=\"colab-df-container\">\n",
              "      <div>\n",
              "<style scoped>\n",
              "    .dataframe tbody tr th:only-of-type {\n",
              "        vertical-align: middle;\n",
              "    }\n",
              "\n",
              "    .dataframe tbody tr th {\n",
              "        vertical-align: top;\n",
              "    }\n",
              "\n",
              "    .dataframe thead th {\n",
              "        text-align: right;\n",
              "    }\n",
              "</style>\n",
              "<table border=\"1\" class=\"dataframe\">\n",
              "  <thead>\n",
              "    <tr style=\"text-align: right;\">\n",
              "      <th></th>\n",
              "      <th>Date</th>\n",
              "      <th>Last Price</th>\n",
              "      <th>Unnamed: 2</th>\n",
              "      <th>Unnamed: 3</th>\n",
              "      <th>Unnamed: 4</th>\n",
              "      <th>Unnamed: 5</th>\n",
              "      <th>Unnamed: 6</th>\n",
              "      <th>Unnamed: 7</th>\n",
              "    </tr>\n",
              "  </thead>\n",
              "  <tbody>\n",
              "  </tbody>\n",
              "</table>\n",
              "</div>\n",
              "      <button class=\"colab-df-convert\" onclick=\"convertToInteractive('df-929725fb-ee70-49aa-b309-4f415ec14215')\"\n",
              "              title=\"Convert this dataframe to an interactive table.\"\n",
              "              style=\"display:none;\">\n",
              "        \n",
              "  <svg xmlns=\"http://www.w3.org/2000/svg\" height=\"24px\"viewBox=\"0 0 24 24\"\n",
              "       width=\"24px\">\n",
              "    <path d=\"M0 0h24v24H0V0z\" fill=\"none\"/>\n",
              "    <path d=\"M18.56 5.44l.94 2.06.94-2.06 2.06-.94-2.06-.94-.94-2.06-.94 2.06-2.06.94zm-11 1L8.5 8.5l.94-2.06 2.06-.94-2.06-.94L8.5 2.5l-.94 2.06-2.06.94zm10 10l.94 2.06.94-2.06 2.06-.94-2.06-.94-.94-2.06-.94 2.06-2.06.94z\"/><path d=\"M17.41 7.96l-1.37-1.37c-.4-.4-.92-.59-1.43-.59-.52 0-1.04.2-1.43.59L10.3 9.45l-7.72 7.72c-.78.78-.78 2.05 0 2.83L4 21.41c.39.39.9.59 1.41.59.51 0 1.02-.2 1.41-.59l7.78-7.78 2.81-2.81c.8-.78.8-2.07 0-2.86zM5.41 20L4 18.59l7.72-7.72 1.47 1.35L5.41 20z\"/>\n",
              "  </svg>\n",
              "      </button>\n",
              "      \n",
              "  <style>\n",
              "    .colab-df-container {\n",
              "      display:flex;\n",
              "      flex-wrap:wrap;\n",
              "      gap: 12px;\n",
              "    }\n",
              "\n",
              "    .colab-df-convert {\n",
              "      background-color: #E8F0FE;\n",
              "      border: none;\n",
              "      border-radius: 50%;\n",
              "      cursor: pointer;\n",
              "      display: none;\n",
              "      fill: #1967D2;\n",
              "      height: 32px;\n",
              "      padding: 0 0 0 0;\n",
              "      width: 32px;\n",
              "    }\n",
              "\n",
              "    .colab-df-convert:hover {\n",
              "      background-color: #E2EBFA;\n",
              "      box-shadow: 0px 1px 2px rgba(60, 64, 67, 0.3), 0px 1px 3px 1px rgba(60, 64, 67, 0.15);\n",
              "      fill: #174EA6;\n",
              "    }\n",
              "\n",
              "    [theme=dark] .colab-df-convert {\n",
              "      background-color: #3B4455;\n",
              "      fill: #D2E3FC;\n",
              "    }\n",
              "\n",
              "    [theme=dark] .colab-df-convert:hover {\n",
              "      background-color: #434B5C;\n",
              "      box-shadow: 0px 1px 3px 1px rgba(0, 0, 0, 0.15);\n",
              "      filter: drop-shadow(0px 1px 2px rgba(0, 0, 0, 0.3));\n",
              "      fill: #FFFFFF;\n",
              "    }\n",
              "  </style>\n",
              "\n",
              "      <script>\n",
              "        const buttonEl =\n",
              "          document.querySelector('#df-929725fb-ee70-49aa-b309-4f415ec14215 button.colab-df-convert');\n",
              "        buttonEl.style.display =\n",
              "          google.colab.kernel.accessAllowed ? 'block' : 'none';\n",
              "\n",
              "        async function convertToInteractive(key) {\n",
              "          const element = document.querySelector('#df-929725fb-ee70-49aa-b309-4f415ec14215');\n",
              "          const dataTable =\n",
              "            await google.colab.kernel.invokeFunction('convertToInteractive',\n",
              "                                                     [key], {});\n",
              "          if (!dataTable) return;\n",
              "\n",
              "          const docLinkHtml = 'Like what you see? Visit the ' +\n",
              "            '<a target=\"_blank\" href=https://colab.research.google.com/notebooks/data_table.ipynb>data table notebook</a>'\n",
              "            + ' to learn more about interactive tables.';\n",
              "          element.innerHTML = '';\n",
              "          dataTable['output_type'] = 'display_data';\n",
              "          await google.colab.output.renderOutput(dataTable, element);\n",
              "          const docLink = document.createElement('div');\n",
              "          docLink.innerHTML = docLinkHtml;\n",
              "          element.appendChild(docLink);\n",
              "        }\n",
              "      </script>\n",
              "    </div>\n",
              "  </div>\n",
              "  "
            ]
          },
          "metadata": {},
          "execution_count": 18
        }
      ]
    },
    {
      "cell_type": "code",
      "execution_count": null,
      "id": "ef7932db",
      "metadata": {
        "id": "ef7932db"
      },
      "outputs": [],
      "source": [
        "#df['Date'] = pd.to_datetime(VIX_daily['Date'], errors='coerce', utc= True)"
      ]
    },
    {
      "cell_type": "code",
      "execution_count": 22,
      "id": "53573f39",
      "metadata": {
        "id": "53573f39",
        "outputId": "cf320e32-df6f-4e93-82e8-d33e3ea3d49e",
        "colab": {
          "base_uri": "https://localhost:8080/"
        }
      },
      "outputs": [
        {
          "output_type": "execute_result",
          "data": {
            "text/plain": [
              "5"
            ]
          },
          "metadata": {},
          "execution_count": 22
        }
      ],
      "source": [
        "df.index.dayofweek.nunique() #printing the number of unique value according to the data of week\n",
        "#dataset containes only the week days"
      ]
    },
    {
      "cell_type": "code",
      "source": [
        "#VIX_daily.shape"
      ],
      "metadata": {
        "colab": {
          "base_uri": "https://localhost:8080/"
        },
        "id": "WXTF-2dYqWQO",
        "outputId": "8803696d-24cb-4909-8199-33189d1f9264"
      },
      "id": "WXTF-2dYqWQO",
      "execution_count": null,
      "outputs": [
        {
          "output_type": "execute_result",
          "data": {
            "text/plain": [
              "(8136, 2)"
            ]
          },
          "metadata": {},
          "execution_count": 22
        }
      ]
    },
    {
      "cell_type": "code",
      "execution_count": 23,
      "id": "72554de6",
      "metadata": {
        "id": "72554de6",
        "outputId": "4b991939-4e10-45a7-88b9-cc63d94a5c2e",
        "colab": {
          "base_uri": "https://localhost:8080/",
          "height": 453
        }
      },
      "outputs": [
        {
          "output_type": "display_data",
          "data": {
            "text/plain": [
              "<Figure size 3000x1500 with 1 Axes>"
            ],
            "image/png": "[encoded data removed]"
          },
          "metadata": {
            "needs_background": "light"
          }
        }
      ],
      "source": [
        "plt.figure(figsize=(20, 10), dpi=150) #plotting time series to check frequency and trend\n",
        "plt.plot(df.index, df['Last Price'], color='tab:blue')\n",
        "plt.gca().set(title='Price over time', \n",
        "xlabel='Date', ylabel='Last Price')\n",
        "plt.show()"
      ]
    },
    {
      "cell_type": "code",
      "execution_count": 24,
      "id": "9350c472",
      "metadata": {
        "id": "9350c472",
        "outputId": "575a3ad3-cf71-4a6e-ab7b-3f0967488a7b",
        "colab": {
          "base_uri": "https://localhost:8080/"
        }
      },
      "outputs": [
        {
          "output_type": "stream",
          "name": "stdout",
          "text": [
            "Date\n",
            "2022-04-20          NaN\n",
            "2022-04-19          NaN\n",
            "2022-04-18          NaN\n",
            "2022-04-14          NaN\n",
            "2022-04-13          NaN\n",
            "                ...    \n",
            "1990-01-08    23.544167\n",
            "1990-01-05    23.160000\n",
            "1990-01-04    22.536667\n",
            "1990-01-03    22.177500\n",
            "1990-01-02    21.585833\n",
            "Name: Last Price, Length: 8136, dtype: float64 Date\n",
            "2022-04-20         NaN\n",
            "2022-04-19         NaN\n",
            "2022-04-18         NaN\n",
            "2022-04-14         NaN\n",
            "2022-04-13         NaN\n",
            "                ...   \n",
            "1990-01-08    2.108155\n",
            "1990-01-05    2.286868\n",
            "1990-01-04    2.253419\n",
            "1990-01-03    2.579659\n",
            "1990-01-02    2.839697\n",
            "Name: Last Price, Length: 8136, dtype: float64\n"
          ]
        }
      ],
      "source": [
        "#Determine rolling statistics\n",
        "rolmean = df['Last Price'].rolling(window=12).mean() #window size 12 denotes 12 months, giving rolling mean at yearly level\n",
        "rolstd = df['Last Price'].rolling(window=12).std()\n",
        "print(rolmean,rolstd)"
      ]
    },
    {
      "cell_type": "code",
      "execution_count": 25,
      "id": "5cfbd46b",
      "metadata": {
        "id": "5cfbd46b",
        "outputId": "3d396630-8131-4e0a-f89b-ce8cc465d563",
        "colab": {
          "base_uri": "https://localhost:8080/",
          "height": 281
        }
      },
      "outputs": [
        {
          "output_type": "display_data",
          "data": {
            "text/plain": [
              "<Figure size 432x288 with 1 Axes>"
            ],
            "image/png": "[encoded data removed]"
          },
          "metadata": {
            "needs_background": "light"
          }
        }
      ],
      "source": [
        "#Plot rolling statistics\n",
        "import matplotlib.pyplot as plt\n",
        "import numpy as np\n",
        "orig = plt.plot(df, color='tab:blue', label= 'Original')\n",
        "mean = plt.plot(rolmean, color='red', label='Rolling Mean')\n",
        "std = plt.plot(rolstd, color='black', label='Rolling Std')\n",
        "plt.legend(loc='best')\n",
        "plt.title('Rolling Mean & Standard Deviation')\n",
        "plt.show(block=False)"
      ]
    },
    {
      "cell_type": "code",
      "source": [
        "#Plot rolling statistics\n",
        "#orig = plt.plot(VIX_daily['Date'], VIX_daily['Last Price'], color='tab:blue')"
      ],
      "metadata": {
        "colab": {
          "base_uri": "https://localhost:8080/",
          "height": 265
        },
        "id": "hng4ybgVP5Wd",
        "outputId": "d8f7bc27-d350-4b95-d759-afc84df784b9"
      },
      "id": "hng4ybgVP5Wd",
      "execution_count": null,
      "outputs": [
        {
          "output_type": "display_data",
          "data": {
            "text/plain": [
              "<Figure size 432x288 with 1 Axes>"
            ],
            "image/png": "[encoded data removed]"
          },
          "metadata": {
            "needs_background": "light"
          }
        }
      ]
    },
    {
      "cell_type": "code",
      "execution_count": 26,
      "id": "caf94efc",
      "metadata": {
        "id": "caf94efc",
        "colab": {
          "base_uri": "https://localhost:8080/"
        },
        "outputId": "6bc05346-5796-4a84-8c6a-e78759df7d09"
      },
      "outputs": [
        {
          "output_type": "stream",
          "name": "stdout",
          "text": [
            "Results of Dickey Fuller Test:\n",
            "Test Statistic                -6.711864e+00\n",
            "p-value                        3.663477e-09\n",
            "#Lags Used                     1.000000e+01\n",
            "Number of Observations Used    8.125000e+03\n",
            "Critical Value (1%)           -3.431155e+00\n",
            "Critical Value (5%)           -2.861896e+00\n",
            "Critical Value (10%)          -2.566959e+00\n",
            "dtype: float64\n"
          ]
        }
      ],
      "source": [
        "#Perform Augmented Dickey–Fuller test:\n",
        "print('Results of Dickey Fuller Test:')\n",
        "dftest = adfuller(df['Last Price'], autolag='AIC')\n",
        "\n",
        "dfoutput = pd.Series(dftest[0:4], index=['Test Statistic','p-value','#Lags Used','Number of Observations Used'])\n",
        "for key,value in dftest[4].items():\n",
        "    dfoutput['Critical Value (%s)'%key] = value\n",
        "    \n",
        "print(dfoutput)"
      ]
    },
    {
      "cell_type": "markdown",
      "source": [
        "p-value is the probability. should be smaller than 0.05. "
      ],
      "metadata": {
        "id": "wnWB4JC-U-ey"
      },
      "id": "wnWB4JC-U-ey"
    },
    {
      "cell_type": "code",
      "execution_count": 28,
      "id": "5cdf2508",
      "metadata": {
        "id": "5cdf2508",
        "colab": {
          "base_uri": "https://localhost:8080/"
        },
        "outputId": "32d96a74-c351-401b-e2d8-78936c7de65a"
      },
      "outputs": [
        {
          "output_type": "execute_result",
          "data": {
            "text/plain": [
              "Date\n",
              "2022-04-20    3.053529\n",
              "2022-04-19    3.061988\n",
              "2022-04-18    3.098740\n",
              "2022-04-14    3.122365\n",
              "2022-04-13    3.082827\n",
              "                ...   \n",
              "1990-01-08    3.008648\n",
              "1990-01-05    3.001217\n",
              "1990-01-04    2.955951\n",
              "1990-01-03    2.900872\n",
              "1990-01-02    2.847232\n",
              "Name: Last Price, Length: 8136, dtype: float64"
            ]
          },
          "metadata": {},
          "execution_count": 28
        }
      ],
      "source": [
        "#Estimating trend/ taking logs of data series\n",
        "\n",
        "Dataset_logScale = np.log(df['Last Price'])\n",
        "Dataset_logScale = Dataset_logScale.dropna()\n",
        "Dataset_logScale"
      ]
    },
    {
      "cell_type": "code",
      "source": [
        "Dataset_logScale.plot()"
      ],
      "metadata": {
        "id": "EPOpMQq104IX",
        "colab": {
          "base_uri": "https://localhost:8080/",
          "height": 288
        },
        "outputId": "a6e360c5-05e4-4856-a0e3-42e191b1858f"
      },
      "id": "EPOpMQq104IX",
      "execution_count": 29,
      "outputs": [
        {
          "output_type": "execute_result",
          "data": {
            "text/plain": [
              "<matplotlib.axes._subplots.AxesSubplot at 0x7fbca68d9c10>"
            ]
          },
          "metadata": {},
          "execution_count": 29
        },
        {
          "output_type": "display_data",
          "data": {
            "text/plain": [
              "<Figure size 432x288 with 1 Axes>"
            ],
            "image/png": "[encoded data removed]"
          },
          "metadata": {
            "needs_background": "light"
          }
        }
      ]
    },
    {
      "cell_type": "code",
      "execution_count": 31,
      "id": "908bd84b",
      "metadata": {
        "id": "908bd84b",
        "colab": {
          "base_uri": "https://localhost:8080/"
        },
        "outputId": "948a5122-851a-4a33-ad97-e172bc40633f"
      },
      "outputs": [
        {
          "output_type": "execute_result",
          "data": {
            "text/plain": [
              "Date\n",
              "2022-04-19    0.008495\n",
              "2022-04-18    0.037436\n",
              "2022-04-14    0.023906\n",
              "2022-04-13   -0.038767\n",
              "2022-04-12    0.111824\n",
              "                ...   \n",
              "1990-01-08   -0.087387\n",
              "1990-01-05   -0.007404\n",
              "1990-01-04   -0.044257\n",
              "1990-01-03   -0.053590\n",
              "1990-01-02   -0.052226\n",
              "Name: Last Price, Length: 8135, dtype: float64"
            ]
          },
          "metadata": {},
          "execution_count": 31
        }
      ],
      "source": [
        "#Log difference/ returns \n",
        "Log_Return= df['Last Price'].pct_change()\n",
        "Log_Return = Dataset_Return.dropna()\n",
        "Log_Return"
      ]
    },
    {
      "cell_type": "code",
      "source": [
        "# copy the data and Normalise it\n",
        "df_min_max_scaled = Dataset_logScale.copy()\n",
        "\n",
        "# apply normalization techniques on logged data\n",
        "for i in df_min_max_scaled:\n",
        "    df_min_max_scaled  = (df_min_max_scaled  - df_min_max_scaled .min()) / (df_min_max_scaled .max() - df_min_max_scaled .min())\n",
        "\n",
        "# view normalized data\n",
        "print(df_min_max_scaled)"
      ],
      "metadata": {
        "id": "Xt2QdvpYlMRp",
        "colab": {
          "base_uri": "https://localhost:8080/"
        },
        "outputId": "e7b07891-7a1b-430e-fea5-e1d2e0e4aa6e"
      },
      "id": "Xt2QdvpYlMRp",
      "execution_count": 32,
      "outputs": [
        {
          "output_type": "stream",
          "name": "stdout",
          "text": [
            "Date\n",
            "2022-04-20    0.381790\n",
            "2022-04-19    0.385631\n",
            "2022-04-18    0.402318\n",
            "2022-04-14    0.413044\n",
            "2022-04-13    0.395092\n",
            "                ...   \n",
            "1990-01-08    0.361412\n",
            "1990-01-05    0.358038\n",
            "1990-01-04    0.337486\n",
            "1990-01-03    0.312477\n",
            "1990-01-02    0.288122\n",
            "Name: Last Price, Length: 8136, dtype: float64\n"
          ]
        }
      ]
    },
    {
      "cell_type": "code",
      "execution_count": 33,
      "id": "7d0f94d2",
      "metadata": {
        "id": "7d0f94d2",
        "colab": {
          "base_uri": "https://localhost:8080/"
        },
        "outputId": "21765e00-c8dd-4c0c-eab4-3837d511de58"
      },
      "outputs": [
        {
          "output_type": "stream",
          "name": "stdout",
          "text": [
            "Looking in indexes: https://pypi.org/simple, https://us-python.pkg.dev/colab-wheels/public/simple/\n",
            "Collecting pmdarima\n",
            "  Downloading pmdarima-1.8.5-cp37-cp37m-manylinux_2_17_x86_64.manylinux2014_x86_64.manylinux_2_24_x86_64.whl (1.4 MB)\n",
            "\u001b[K     |████████████████████████████████| 1.4 MB 5.2 MB/s \n",
            "\u001b[?25hRequirement already satisfied: scikit-learn>=0.22 in /usr/local/lib/python3.7/dist-packages (from pmdarima) (1.0.2)\n",
            "Requirement already satisfied: numpy>=1.19.3 in /usr/local/lib/python3.7/dist-packages (from pmdarima) (1.21.6)\n",
            "Requirement already satisfied: Cython!=0.29.18,>=0.29 in /usr/local/lib/python3.7/dist-packages (from pmdarima) (0.29.30)\n",
            "Requirement already satisfied: statsmodels!=0.12.0,>=0.11 in /usr/local/lib/python3.7/dist-packages (from pmdarima) (0.13.2)\n",
            "Requirement already satisfied: pandas>=0.19 in /usr/local/lib/python3.7/dist-packages (from pmdarima) (1.3.5)\n",
            "Requirement already satisfied: urllib3 in /usr/local/lib/python3.7/dist-packages (from pmdarima) (1.24.3)\n",
            "Requirement already satisfied: joblib>=0.11 in /usr/local/lib/python3.7/dist-packages (from pmdarima) (1.1.0)\n",
            "Requirement already satisfied: setuptools!=50.0.0,>=38.6.0 in /usr/local/lib/python3.7/dist-packages (from pmdarima) (57.4.0)\n",
            "Requirement already satisfied: scipy>=1.3.2 in /usr/local/lib/python3.7/dist-packages (from pmdarima) (1.4.1)\n",
            "Requirement already satisfied: pytz>=2017.3 in /usr/local/lib/python3.7/dist-packages (from pandas>=0.19->pmdarima) (2022.1)\n",
            "Requirement already satisfied: python-dateutil>=2.7.3 in /usr/local/lib/python3.7/dist-packages (from pandas>=0.19->pmdarima) (2.8.2)\n",
            "Requirement already satisfied: six>=1.5 in /usr/local/lib/python3.7/dist-packages (from python-dateutil>=2.7.3->pandas>=0.19->pmdarima) (1.15.0)\n",
            "Requirement already satisfied: threadpoolctl>=2.0.0 in /usr/local/lib/python3.7/dist-packages (from scikit-learn>=0.22->pmdarima) (3.1.0)\n",
            "Requirement already satisfied: packaging>=21.3 in /usr/local/lib/python3.7/dist-packages (from statsmodels!=0.12.0,>=0.11->pmdarima) (21.3)\n",
            "Requirement already satisfied: patsy>=0.5.2 in /usr/local/lib/python3.7/dist-packages (from statsmodels!=0.12.0,>=0.11->pmdarima) (0.5.2)\n",
            "Requirement already satisfied: pyparsing!=3.0.5,>=2.0.2 in /usr/local/lib/python3.7/dist-packages (from packaging>=21.3->statsmodels!=0.12.0,>=0.11->pmdarima) (3.0.9)\n",
            "Installing collected packages: pmdarima\n",
            "Successfully installed pmdarima-1.8.5\n"
          ]
        }
      ],
      "source": [
        "!pip install pmdarima\n",
        "from statsmodels.tsa.arima.model import ARIMA"
      ]
    },
    {
      "cell_type": "markdown",
      "source": [
        "auto"
      ],
      "metadata": {
        "id": "pxs2MXYPVLAL"
      },
      "id": "pxs2MXYPVLAL"
    },
    {
      "cell_type": "markdown",
      "id": "6832c5fc",
      "metadata": {
        "id": "6832c5fc"
      },
      "source": [
        "## On Normal Data Value"
      ]
    },
    {
      "cell_type": "markdown",
      "source": [
        "The Akaike information criterion (AIC) is a mathematical method for evaluating how well a model fits the data it was generated from. In statistics, AIC is used to compare different possible models and determine which one is the best fit for the data.The AIC function is 2K – 2(log-likelihood) = 2*(K - LL). Lower AIC values indicate a better-fit model. \n",
        "BIC = ln(n)k - 2l. https://www.roadlesstraveledstore.com/how-do-i-choose-between-aic-and-bic/.\n",
        "k = number of variables or input features or columns in the model. k is the numner of parameters estimated. \n"
      ],
      "metadata": {
        "id": "804XQrrWeIBZ"
      },
      "id": "804XQrrWeIBZ"
    },
    {
      "cell_type": "code",
      "source": [
        "#data shape\n",
        "print(df_min_max_scaled.shape)\n",
        "\n",
        "#making the train and test split\n",
        "\n",
        "train=df_min_max_scaled.iloc[:-30]\n",
        "test=df_min_max_scaled.iloc[-30:]\n",
        "\n",
        "#print the data shape\n",
        "print(train.shape, test.shape)\n",
        "print(test.iloc[0],test.iloc[-1])"
      ],
      "metadata": {
        "colab": {
          "base_uri": "https://localhost:8080/"
        },
        "id": "lrL1PJV_ugPb",
        "outputId": "13e5dca4-7bbd-4404-8c90-43435b5b0cd0"
      },
      "id": "lrL1PJV_ugPb",
      "execution_count": 59,
      "outputs": [
        {
          "output_type": "stream",
          "name": "stdout",
          "text": [
            "(8136,)\n",
            "(8106,) (30,)\n",
            "0.44546207851647696 0.2881224334745227\n"
          ]
        }
      ]
    },
    {
      "cell_type": "code",
      "source": [
        "#ARIMA MODEL"
      ],
      "metadata": {
        "id": "e88oJUaI2OoA"
      },
      "id": "e88oJUaI2OoA",
      "execution_count": null,
      "outputs": []
    },
    {
      "cell_type": "code",
      "execution_count": 36,
      "id": "bd05d511",
      "metadata": {
        "id": "bd05d511"
      },
      "outputs": [],
      "source": [
        "model = ARIMA(train, order = (1, 0, 5))  #fit arima on train data\n",
        "model = model.fit()  "
      ]
    },
    {
      "cell_type": "code",
      "execution_count": 38,
      "id": "c74c9731",
      "metadata": {
        "scrolled": false,
        "id": "c74c9731",
        "colab": {
          "base_uri": "https://localhost:8080/",
          "height": 537
        },
        "outputId": "ba3c1a4a-4674-4687-92f0-6313f5811bc0"
      },
      "outputs": [
        {
          "output_type": "execute_result",
          "data": {
            "text/plain": [
              "<class 'statsmodels.iolib.summary.Summary'>\n",
              "\"\"\"\n",
              "                               SARIMAX Results                                \n",
              "==============================================================================\n",
              "Dep. Variable:             Last Price   No. Observations:                 8106\n",
              "Model:                 ARIMA(1, 0, 5)   Log Likelihood               16858.285\n",
              "Date:                Tue, 24 May 2022   AIC                         -33700.571\n",
              "Time:                        15:50:48   BIC                         -33644.568\n",
              "Sample:                             0   HQIC                        -33681.415\n",
              "                               - 8106                                         \n",
              "Covariance Type:                  opg                                         \n",
              "==============================================================================\n",
              "                 coef    std err          z      P>|z|      [0.025      0.975]\n",
              "------------------------------------------------------------------------------\n",
              "const          0.3152      0.026     12.163      0.000       0.264       0.366\n",
              "ar.L1          0.9897      0.001    670.901      0.000       0.987       0.993\n",
              "ma.L1         -0.0955      0.007    -12.910      0.000      -0.110      -0.081\n",
              "ma.L2         -0.0628      0.008     -7.972      0.000      -0.078      -0.047\n",
              "ma.L3         -0.0397      0.009     -4.666      0.000      -0.056      -0.023\n",
              "ma.L4         -0.0475      0.009     -5.389      0.000      -0.065      -0.030\n",
              "ma.L5         -0.0220      0.008     -2.602      0.009      -0.039      -0.005\n",
              "sigma2         0.0009   8.13e-06    112.342      0.000       0.001       0.001\n",
              "===================================================================================\n",
              "Ljung-Box (L1) (Q):                   0.01   Jarque-Bera (JB):             11602.49\n",
              "Prob(Q):                              0.93   Prob(JB):                         0.00\n",
              "Heteroskedasticity (H):               0.50   Skew:                            -0.77\n",
              "Prob(H) (two-sided):                  0.00   Kurtosis:                         8.65\n",
              "===================================================================================\n",
              "\n",
              "Warnings:\n",
              "[1] Covariance matrix calculated using the outer product of gradients (complex-step).\n",
              "\"\"\""
            ],
            "text/html": [
              "<table class=\"simpletable\">\n",
              "<caption>SARIMAX Results</caption>\n",
              "<tr>\n",
              "  <th>Dep. Variable:</th>      <td>Last Price</td>    <th>  No. Observations:  </th>    <td>8106</td>   \n",
              "</tr>\n",
              "<tr>\n",
              "  <th>Model:</th>            <td>ARIMA(1, 0, 5)</td>  <th>  Log Likelihood     </th>  <td>16858.285</td>\n",
              "</tr>\n",
              "<tr>\n",
              "  <th>Date:</th>            <td>Tue, 24 May 2022</td> <th>  AIC                </th> <td>-33700.571</td>\n",
              "</tr>\n",
              "<tr>\n",
              "  <th>Time:</th>                <td>15:50:48</td>     <th>  BIC                </th> <td>-33644.568</td>\n",
              "</tr>\n",
              "<tr>\n",
              "  <th>Sample:</th>                  <td>0</td>        <th>  HQIC               </th> <td>-33681.415</td>\n",
              "</tr>\n",
              "<tr>\n",
              "  <th></th>                      <td> - 8106</td>     <th>                     </th>      <td> </td>    \n",
              "</tr>\n",
              "<tr>\n",
              "  <th>Covariance Type:</th>        <td>opg</td>       <th>                     </th>      <td> </td>    \n",
              "</tr>\n",
              "</table>\n",
              "<table class=\"simpletable\">\n",
              "<tr>\n",
              "     <td></td>       <th>coef</th>     <th>std err</th>      <th>z</th>      <th>P>|z|</th>  <th>[0.025</th>    <th>0.975]</th>  \n",
              "</tr>\n",
              "<tr>\n",
              "  <th>const</th>  <td>    0.3152</td> <td>    0.026</td> <td>   12.163</td> <td> 0.000</td> <td>    0.264</td> <td>    0.366</td>\n",
              "</tr>\n",
              "<tr>\n",
              "  <th>ar.L1</th>  <td>    0.9897</td> <td>    0.001</td> <td>  670.901</td> <td> 0.000</td> <td>    0.987</td> <td>    0.993</td>\n",
              "</tr>\n",
              "<tr>\n",
              "  <th>ma.L1</th>  <td>   -0.0955</td> <td>    0.007</td> <td>  -12.910</td> <td> 0.000</td> <td>   -0.110</td> <td>   -0.081</td>\n",
              "</tr>\n",
              "<tr>\n",
              "  <th>ma.L2</th>  <td>   -0.0628</td> <td>    0.008</td> <td>   -7.972</td> <td> 0.000</td> <td>   -0.078</td> <td>   -0.047</td>\n",
              "</tr>\n",
              "<tr>\n",
              "  <th>ma.L3</th>  <td>   -0.0397</td> <td>    0.009</td> <td>   -4.666</td> <td> 0.000</td> <td>   -0.056</td> <td>   -0.023</td>\n",
              "</tr>\n",
              "<tr>\n",
              "  <th>ma.L4</th>  <td>   -0.0475</td> <td>    0.009</td> <td>   -5.389</td> <td> 0.000</td> <td>   -0.065</td> <td>   -0.030</td>\n",
              "</tr>\n",
              "<tr>\n",
              "  <th>ma.L5</th>  <td>   -0.0220</td> <td>    0.008</td> <td>   -2.602</td> <td> 0.009</td> <td>   -0.039</td> <td>   -0.005</td>\n",
              "</tr>\n",
              "<tr>\n",
              "  <th>sigma2</th> <td>    0.0009</td> <td> 8.13e-06</td> <td>  112.342</td> <td> 0.000</td> <td>    0.001</td> <td>    0.001</td>\n",
              "</tr>\n",
              "</table>\n",
              "<table class=\"simpletable\">\n",
              "<tr>\n",
              "  <th>Ljung-Box (L1) (Q):</th>     <td>0.01</td> <th>  Jarque-Bera (JB):  </th> <td>11602.49</td>\n",
              "</tr>\n",
              "<tr>\n",
              "  <th>Prob(Q):</th>                <td>0.93</td> <th>  Prob(JB):          </th>   <td>0.00</td>  \n",
              "</tr>\n",
              "<tr>\n",
              "  <th>Heteroskedasticity (H):</th> <td>0.50</td> <th>  Skew:              </th>   <td>-0.77</td> \n",
              "</tr>\n",
              "<tr>\n",
              "  <th>Prob(H) (two-sided):</th>    <td>0.00</td> <th>  Kurtosis:          </th>   <td>8.65</td>  \n",
              "</tr>\n",
              "</table><br/><br/>Warnings:<br/>[1] Covariance matrix calculated using the outer product of gradients (complex-step)."
            ]
          },
          "metadata": {},
          "execution_count": 38
        }
      ],
      "source": [
        "model.summary() # print summary"
      ]
    },
    {
      "cell_type": "code",
      "execution_count": 39,
      "id": "3684ca18",
      "metadata": {
        "id": "3684ca18",
        "colab": {
          "base_uri": "https://localhost:8080/"
        },
        "outputId": "3394b8a5-dbe0-436c-81b6-fc72940388c6"
      },
      "outputs": [
        {
          "output_type": "execute_result",
          "data": {
            "text/plain": [
              "Date\n",
              "2022-04-20    0.315159\n",
              "2022-04-19    0.380511\n",
              "2022-04-18    0.384087\n",
              "2022-04-14    0.399271\n",
              "2022-04-13    0.409386\n",
              "                ...   \n",
              "1990-02-20    0.431740\n",
              "1990-02-16    0.413379\n",
              "1990-02-15    0.376839\n",
              "1990-02-14    0.353521\n",
              "1990-02-13    0.398110\n",
              "Length: 8106, dtype: float64"
            ]
          },
          "metadata": {},
          "execution_count": 39
        }
      ],
      "source": [
        "data = model.fittedvalues #print the fitted values (predicted values)\n",
        "data  "
      ]
    },
    {
      "cell_type": "code",
      "execution_count": 40,
      "id": "cd140155",
      "metadata": {
        "id": "cd140155",
        "colab": {
          "base_uri": "https://localhost:8080/",
          "height": 282
        },
        "outputId": "1c18f12a-23c9-40af-9e54-453e95945156"
      },
      "outputs": [
        {
          "output_type": "execute_result",
          "data": {
            "text/plain": [
              "[<matplotlib.lines.Line2D at 0x7fbca3c03d50>]"
            ]
          },
          "metadata": {},
          "execution_count": 40
        },
        {
          "output_type": "display_data",
          "data": {
            "text/plain": [
              "<Figure size 432x288 with 1 Axes>"
            ],
            "image/png": "[encoded data removed]"
          },
          "metadata": {
            "needs_background": "light"
          }
        }
      ],
      "source": [
        "# plotting actual vs predict \n",
        "plt.plot(df_min_max_scaled)\n",
        "plt.plot(model.fittedvalues, color='red')"
      ]
    },
    {
      "cell_type": "code",
      "execution_count": 41,
      "id": "5a596f5a",
      "metadata": {
        "id": "5a596f5a",
        "colab": {
          "base_uri": "https://localhost:8080/"
        },
        "outputId": "05a086f0-ba79-4107-d045-d4b61ffe9273"
      },
      "outputs": [
        {
          "output_type": "stream",
          "name": "stdout",
          "text": [
            "Date\n",
            "2022-04-20    0.315159\n",
            "2022-04-19    0.380511\n",
            "2022-04-18    0.384087\n",
            "2022-04-14    0.399271\n",
            "2022-04-13    0.409386\n",
            "                ...   \n",
            "1990-02-20    0.431740\n",
            "1990-02-16    0.413379\n",
            "1990-02-15    0.376839\n",
            "1990-02-14    0.353521\n",
            "1990-02-13    0.398110\n",
            "Length: 8106, dtype: float64\n"
          ]
        }
      ],
      "source": [
        "predictions_ARIMA_diff = pd.Series(model.fittedvalues) #calculating the difference\n",
        "print(predictions_ARIMA_diff)"
      ]
    },
    {
      "cell_type": "code",
      "execution_count": 44,
      "id": "1dce84d0",
      "metadata": {
        "id": "1dce84d0",
        "colab": {
          "base_uri": "https://localhost:8080/"
        },
        "outputId": "a734bf5f-8893-41e0-be47-5308b8015852"
      },
      "outputs": [
        {
          "output_type": "stream",
          "name": "stdout",
          "text": [
            "Date\n",
            "2022-04-20       0.315159\n",
            "2022-04-19       0.695670\n",
            "2022-04-18       1.079758\n",
            "2022-04-14       1.479029\n",
            "2022-04-13       1.888415\n",
            "                 ...     \n",
            "1990-02-20    2544.710788\n",
            "1990-02-16    2545.124167\n",
            "1990-02-15    2545.501006\n",
            "1990-02-14    2545.854528\n",
            "1990-02-13    2546.252638\n",
            "Length: 8106, dtype: float64\n"
          ]
        }
      ],
      "source": [
        "predictions_ARIMA_diff_cumsum = predictions_ARIMA_diff.cumsum() # convert to cumul. sum\n",
        "print(predictions_ARIMA_diff_cumsum)\n",
        " "
      ]
    },
    {
      "cell_type": "code",
      "execution_count": 46,
      "id": "6967102a",
      "metadata": {
        "id": "6967102a",
        "colab": {
          "base_uri": "https://localhost:8080/",
          "height": 286
        },
        "outputId": "2f8443b0-c37f-41ee-b058-905708b3b7da"
      },
      "outputs": [
        {
          "output_type": "execute_result",
          "data": {
            "text/plain": [
              "<matplotlib.axes._subplots.AxesSubplot at 0x7fbca3acd810>"
            ]
          },
          "metadata": {},
          "execution_count": 46
        },
        {
          "output_type": "display_data",
          "data": {
            "text/plain": [
              "<Figure size 432x288 with 1 Axes>"
            ],
            "image/png": "[encoded data removed]"
          },
          "metadata": {
            "needs_background": "light"
          }
        }
      ],
      "source": [
        "# plotting the predictive plot to check the overall future trend\n",
        "\n",
        "predictions_ARIMA_log = pd.Series(df_min_max_scaled, index=df_min_max_scaled.index)\n",
        "predictions_ARIMA_log = predictions_ARIMA_log.add(predictions_ARIMA_diff_cumsum)\n",
        "predictions_ARIMA_log.plot()"
      ]
    },
    {
      "cell_type": "code",
      "source": [
        "start=len(train) \n",
        "end=len(train)+len(test)-1\n",
        "#if the predicted values dont have date values as index, you will have to uncomment the following two commented lines to plot a graph\n",
        "index_future_dates=pd.date_range(start=start,end=end)\n",
        "pred=model.predict(start=start,end=end ).rename('ARIMA predictions')"
      ],
      "metadata": {
        "id": "8hjMJRDT3izR"
      },
      "id": "8hjMJRDT3izR",
      "execution_count": 54,
      "outputs": []
    },
    {
      "cell_type": "code",
      "source": [
        "pred.head"
      ],
      "metadata": {
        "colab": {
          "base_uri": "https://localhost:8080/"
        },
        "id": "T_GrhJX27ulX",
        "outputId": "16cbdd22-e317-4b9f-f54b-9d3d0690ceb2"
      },
      "id": "T_GrhJX27ulX",
      "execution_count": 60,
      "outputs": [
        {
          "output_type": "execute_result",
          "data": {
            "text/plain": [
              "<bound method NDFrame.head of 8106    0.429635\n",
              "8107    0.426594\n",
              "8108    0.422442\n",
              "8109    0.418618\n",
              "8110    0.416765\n",
              "8111    0.415716\n",
              "8112    0.414679\n",
              "8113    0.413652\n",
              "8114    0.412635\n",
              "8115    0.411630\n",
              "8116    0.410634\n",
              "8117    0.409649\n",
              "8118    0.408674\n",
              "8119    0.407709\n",
              "8120    0.406754\n",
              "8121    0.405809\n",
              "8122    0.404874\n",
              "8123    0.403948\n",
              "8124    0.403032\n",
              "8125    0.402125\n",
              "8126    0.401228\n",
              "8127    0.400339\n",
              "8128    0.399461\n",
              "8129    0.398591\n",
              "8130    0.397730\n",
              "8131    0.396878\n",
              "8132    0.396035\n",
              "8133    0.395200\n",
              "8134    0.394374\n",
              "8135    0.393557\n",
              "Name: ARIMA predictions, dtype: float64>"
            ]
          },
          "metadata": {},
          "execution_count": 60
        }
      ]
    },
    {
      "cell_type": "code",
      "execution_count": 55,
      "id": "083673d8",
      "metadata": {
        "id": "083673d8",
        "colab": {
          "base_uri": "https://localhost:8080/"
        },
        "outputId": "b1023458-cba8-44cd-871a-34f181edf02d"
      },
      "outputs": [
        {
          "output_type": "stream",
          "name": "stdout",
          "text": [
            "0.05168351378326319\n"
          ]
        }
      ],
      "source": [
        "# Printing the RMSE of ARIMA model\n",
        "\n",
        "rmse=sqrt(mean_squared_error(pred, test))\n",
        "print(rmse)"
      ]
    },
    {
      "cell_type": "code",
      "source": [
        "#adf_test(df_min_max_scaled)"
      ],
      "metadata": {
        "colab": {
          "base_uri": "https://localhost:8080/"
        },
        "id": "5eswjaQ71Mee",
        "outputId": "40ff7f5d-5ba1-4626-b0a1-40833f3ba5be"
      },
      "id": "5eswjaQ71Mee",
      "execution_count": null,
      "outputs": [
        {
          "output_type": "stream",
          "name": "stdout",
          "text": [
            "1. ADF :  -5.910609444040219\n",
            "2. P-Value :  2.644357297212957e-07\n",
            "3. Num Of Lags :  11\n",
            "4. Num Of Observations Used For ADF Regression and Critical Values Calculation : 8124\n",
            "5. Critical Values :\n",
            "\t 1% :  -3.4311551904760065\n",
            "\t 5% :  -2.861895837245016\n",
            "\t 10% :  -2.5669594074059123\n"
          ]
        }
      ]
    },
    {
      "cell_type": "code",
      "source": [
        "#adf_test(VIX_daily['Last Price'])"
      ],
      "metadata": {
        "colab": {
          "base_uri": "https://localhost:8080/"
        },
        "id": "m4fqpG_7wnAj",
        "outputId": "742e79e3-c173-4763-abe7-b57fd193aaea"
      },
      "id": "m4fqpG_7wnAj",
      "execution_count": null,
      "outputs": [
        {
          "output_type": "stream",
          "name": "stdout",
          "text": [
            "1. ADF :  -6.711863740946838\n",
            "2. P-Value :  3.663477254210863e-09\n",
            "3. Num Of Lags :  10\n",
            "4. Num Of Observations Used For ADF Regression and Critical Values Calculation : 8125\n",
            "5. Critical Values :\n",
            "\t 1% :  -3.4311550913443045\n",
            "\t 5% :  -2.8618957934417497\n",
            "\t 10% :  -2.566959384088994\n"
          ]
        }
      ]
    },
    {
      "cell_type": "code",
      "source": [
        "#adf_test(Dataset_logScale)"
      ],
      "metadata": {
        "colab": {
          "base_uri": "https://localhost:8080/",
          "height": 165
        },
        "id": "X7HkPHT31MuR",
        "outputId": "5659fe80-5014-4339-db41-a88193af46ff"
      },
      "id": "X7HkPHT31MuR",
      "execution_count": 57,
      "outputs": [
        {
          "output_type": "error",
          "ename": "NameError",
          "evalue": "ignored",
          "traceback": [
            "\u001b[0;31m---------------------------------------------------------------------------\u001b[0m",
            "\u001b[0;31mNameError\u001b[0m                                 Traceback (most recent call last)",
            "\u001b[0;32m<ipython-input-57-44e2164d9af3>\u001b[0m in \u001b[0;36m<module>\u001b[0;34m()\u001b[0m\n\u001b[0;32m----> 1\u001b[0;31m \u001b[0madf_test\u001b[0m\u001b[0;34m(\u001b[0m\u001b[0mDataset_logScale\u001b[0m\u001b[0;34m)\u001b[0m\u001b[0;34m\u001b[0m\u001b[0;34m\u001b[0m\u001b[0m\n\u001b[0m",
            "\u001b[0;31mNameError\u001b[0m: name 'adf_test' is not defined"
          ]
        }
      ]
    },
    {
      "cell_type": "code",
      "source": [
        "#adf_test(Dataset_Return)"
      ],
      "metadata": {
        "colab": {
          "base_uri": "https://localhost:8080/"
        },
        "id": "F1wgwxIH1Ptm",
        "outputId": "5ea3ca73-eebf-4fa7-a31d-c7816f62ec22"
      },
      "id": "F1wgwxIH1Ptm",
      "execution_count": null,
      "outputs": [
        {
          "output_type": "stream",
          "name": "stdout",
          "text": [
            "1. ADF :  -23.928622559697843\n",
            "2. P-Value :  0.0\n",
            "3. Num Of Lags :  33\n",
            "4. Num Of Observations Used For ADF Regression and Critical Values Calculation : 12212\n",
            "5. Critical Values :\n",
            "\t 1% :  -3.430885594094518\n",
            "\t 5% :  -2.8617767054517396\n",
            "\t 10% :  -2.5668959932869027\n"
          ]
        }
      ]
    },
    {
      "cell_type": "code",
      "source": [
        "#from pmdarima import auto_arima\n",
        "# Ignore harmless warnings\n",
        "#import warnings\n",
        "#warnings.filterwarnings(\"ignore\")"
      ],
      "metadata": {
        "id": "RhFBRkJ2yQnS"
      },
      "id": "RhFBRkJ2yQnS",
      "execution_count": null,
      "outputs": []
    },
    {
      "cell_type": "code",
      "source": [
        "#stepwise_fit = auto_arima(Dataset_logScale, \n",
        " #                         suppress_warnings=True)           \n",
        "\n",
        "#stepwise_fit.summary()"
      ],
      "metadata": {
        "colab": {
          "base_uri": "https://localhost:8080/",
          "height": 452
        },
        "id": "tgcITYKlyTjS",
        "outputId": "62825e62-d34f-466e-df28-0b6d91138e43"
      },
      "id": "tgcITYKlyTjS",
      "execution_count": null,
      "outputs": [
        {
          "output_type": "execute_result",
          "data": {
            "text/plain": [
              "<class 'statsmodels.iolib.summary.Summary'>\n",
              "\"\"\"\n",
              "                               SARIMAX Results                                \n",
              "==============================================================================\n",
              "Dep. Variable:                      y   No. Observations:                 8136\n",
              "Model:               SARIMAX(1, 1, 2)   Log Likelihood               10490.848\n",
              "Date:                Fri, 20 May 2022   AIC                         -20973.696\n",
              "Time:                        13:20:02   BIC                         -20945.680\n",
              "Sample:                             0   HQIC                        -20964.115\n",
              "                               - 8136                                         \n",
              "Covariance Type:                  opg                                         \n",
              "==============================================================================\n",
              "                 coef    std err          z      P>|z|      [0.025      0.975]\n",
              "------------------------------------------------------------------------------\n",
              "ar.L1          0.8682      0.016     54.866      0.000       0.837       0.899\n",
              "ma.L1         -0.9729      0.018    -54.858      0.000      -1.008      -0.938\n",
              "ma.L2          0.0381      0.009      4.095      0.000       0.020       0.056\n",
              "sigma2         0.0044   3.78e-05    117.518      0.000       0.004       0.005\n",
              "===================================================================================\n",
              "Ljung-Box (L1) (Q):                   0.00   Jarque-Bera (JB):             11880.09\n",
              "Prob(Q):                              0.96   Prob(JB):                         0.00\n",
              "Heteroskedasticity (H):               0.51   Skew:                            -0.80\n",
              "Prob(H) (two-sided):                  0.00   Kurtosis:                         8.70\n",
              "===================================================================================\n",
              "\n",
              "Warnings:\n",
              "[1] Covariance matrix calculated using the outer product of gradients (complex-step).\n",
              "\"\"\""
            ],
            "text/html": [
              "<table class=\"simpletable\">\n",
              "<caption>SARIMAX Results</caption>\n",
              "<tr>\n",
              "  <th>Dep. Variable:</th>           <td>y</td>        <th>  No. Observations:  </th>    <td>8136</td>   \n",
              "</tr>\n",
              "<tr>\n",
              "  <th>Model:</th>           <td>SARIMAX(1, 1, 2)</td> <th>  Log Likelihood     </th>  <td>10490.848</td>\n",
              "</tr>\n",
              "<tr>\n",
              "  <th>Date:</th>            <td>Fri, 20 May 2022</td> <th>  AIC                </th> <td>-20973.696</td>\n",
              "</tr>\n",
              "<tr>\n",
              "  <th>Time:</th>                <td>13:20:02</td>     <th>  BIC                </th> <td>-20945.680</td>\n",
              "</tr>\n",
              "<tr>\n",
              "  <th>Sample:</th>                  <td>0</td>        <th>  HQIC               </th> <td>-20964.115</td>\n",
              "</tr>\n",
              "<tr>\n",
              "  <th></th>                      <td> - 8136</td>     <th>                     </th>      <td> </td>    \n",
              "</tr>\n",
              "<tr>\n",
              "  <th>Covariance Type:</th>        <td>opg</td>       <th>                     </th>      <td> </td>    \n",
              "</tr>\n",
              "</table>\n",
              "<table class=\"simpletable\">\n",
              "<tr>\n",
              "     <td></td>       <th>coef</th>     <th>std err</th>      <th>z</th>      <th>P>|z|</th>  <th>[0.025</th>    <th>0.975]</th>  \n",
              "</tr>\n",
              "<tr>\n",
              "  <th>ar.L1</th>  <td>    0.8682</td> <td>    0.016</td> <td>   54.866</td> <td> 0.000</td> <td>    0.837</td> <td>    0.899</td>\n",
              "</tr>\n",
              "<tr>\n",
              "  <th>ma.L1</th>  <td>   -0.9729</td> <td>    0.018</td> <td>  -54.858</td> <td> 0.000</td> <td>   -1.008</td> <td>   -0.938</td>\n",
              "</tr>\n",
              "<tr>\n",
              "  <th>ma.L2</th>  <td>    0.0381</td> <td>    0.009</td> <td>    4.095</td> <td> 0.000</td> <td>    0.020</td> <td>    0.056</td>\n",
              "</tr>\n",
              "<tr>\n",
              "  <th>sigma2</th> <td>    0.0044</td> <td> 3.78e-05</td> <td>  117.518</td> <td> 0.000</td> <td>    0.004</td> <td>    0.005</td>\n",
              "</tr>\n",
              "</table>\n",
              "<table class=\"simpletable\">\n",
              "<tr>\n",
              "  <th>Ljung-Box (L1) (Q):</th>     <td>0.00</td> <th>  Jarque-Bera (JB):  </th> <td>11880.09</td>\n",
              "</tr>\n",
              "<tr>\n",
              "  <th>Prob(Q):</th>                <td>0.96</td> <th>  Prob(JB):          </th>   <td>0.00</td>  \n",
              "</tr>\n",
              "<tr>\n",
              "  <th>Heteroskedasticity (H):</th> <td>0.51</td> <th>  Skew:              </th>   <td>-0.80</td> \n",
              "</tr>\n",
              "<tr>\n",
              "  <th>Prob(H) (two-sided):</th>    <td>0.00</td> <th>  Kurtosis:          </th>   <td>8.70</td>  \n",
              "</tr>\n",
              "</table><br/><br/>Warnings:<br/>[1] Covariance matrix calculated using the outer product of gradients (complex-step)."
            ]
          },
          "metadata": {},
          "execution_count": 47
        }
      ]
    },
    {
      "cell_type": "code",
      "source": [
        "#from statsmodels.tsa.arima_model import ARIMA"
      ],
      "metadata": {
        "id": "OSBa_CnNyeoC"
      },
      "id": "OSBa_CnNyeoC",
      "execution_count": null,
      "outputs": []
    },
    {
      "cell_type": "code",
      "source": [
        "#from pmdarima import auto_arima\n",
        "# Ignore harmless warnings\n",
        "#import warnings\n",
        "#warnings.filterwarnings(\"ignore\")\n",
        "\n",
        "#stepwise_fit = auto_arima(df_min_max_scaled,\n",
        "#suppress_warnings=True)\n",
        "\n",
        "#stepwise_fit.summary()"
      ],
      "metadata": {
        "colab": {
          "base_uri": "https://localhost:8080/",
          "height": 473
        },
        "id": "IkDEh3KA1-BR",
        "outputId": "36350882-2257-47cf-dac9-4923301e0bf1"
      },
      "id": "IkDEh3KA1-BR",
      "execution_count": null,
      "outputs": [
        {
          "output_type": "execute_result",
          "data": {
            "text/plain": [
              "<class 'statsmodels.iolib.summary.Summary'>\n",
              "\"\"\"\n",
              "                               SARIMAX Results                                \n",
              "==============================================================================\n",
              "Dep. Variable:                      y   No. Observations:                 8136\n",
              "Model:               SARIMAX(1, 1, 3)   Log Likelihood               16918.264\n",
              "Date:                Fri, 20 May 2022   AIC                         -33826.528\n",
              "Time:                        13:23:11   BIC                         -33791.508\n",
              "Sample:                             0   HQIC                        -33814.551\n",
              "                               - 8136                                         \n",
              "Covariance Type:                  opg                                         \n",
              "==============================================================================\n",
              "                 coef    std err          z      P>|z|      [0.025      0.975]\n",
              "------------------------------------------------------------------------------\n",
              "ar.L1          0.9496      0.006    152.762      0.000       0.937       0.962\n",
              "ma.L1         -1.0554      0.010   -106.353      0.000      -1.075      -1.036\n",
              "ma.L2          0.0293      0.011      2.754      0.006       0.008       0.050\n",
              "ma.L3          0.0408      0.008      4.886      0.000       0.024       0.057\n",
              "sigma2         0.0009   7.94e-06    115.182      0.000       0.001       0.001\n",
              "===================================================================================\n",
              "Ljung-Box (L1) (Q):                   0.00   Jarque-Bera (JB):             11548.39\n",
              "Prob(Q):                              0.95   Prob(JB):                         0.00\n",
              "Heteroskedasticity (H):               0.51   Skew:                            -0.78\n",
              "Prob(H) (two-sided):                  0.00   Kurtosis:                         8.63\n",
              "===================================================================================\n",
              "\n",
              "Warnings:\n",
              "[1] Covariance matrix calculated using the outer product of gradients (complex-step).\n",
              "\"\"\""
            ],
            "text/html": [
              "<table class=\"simpletable\">\n",
              "<caption>SARIMAX Results</caption>\n",
              "<tr>\n",
              "  <th>Dep. Variable:</th>           <td>y</td>        <th>  No. Observations:  </th>    <td>8136</td>   \n",
              "</tr>\n",
              "<tr>\n",
              "  <th>Model:</th>           <td>SARIMAX(1, 1, 3)</td> <th>  Log Likelihood     </th>  <td>16918.264</td>\n",
              "</tr>\n",
              "<tr>\n",
              "  <th>Date:</th>            <td>Fri, 20 May 2022</td> <th>  AIC                </th> <td>-33826.528</td>\n",
              "</tr>\n",
              "<tr>\n",
              "  <th>Time:</th>                <td>13:23:11</td>     <th>  BIC                </th> <td>-33791.508</td>\n",
              "</tr>\n",
              "<tr>\n",
              "  <th>Sample:</th>                  <td>0</td>        <th>  HQIC               </th> <td>-33814.551</td>\n",
              "</tr>\n",
              "<tr>\n",
              "  <th></th>                      <td> - 8136</td>     <th>                     </th>      <td> </td>    \n",
              "</tr>\n",
              "<tr>\n",
              "  <th>Covariance Type:</th>        <td>opg</td>       <th>                     </th>      <td> </td>    \n",
              "</tr>\n",
              "</table>\n",
              "<table class=\"simpletable\">\n",
              "<tr>\n",
              "     <td></td>       <th>coef</th>     <th>std err</th>      <th>z</th>      <th>P>|z|</th>  <th>[0.025</th>    <th>0.975]</th>  \n",
              "</tr>\n",
              "<tr>\n",
              "  <th>ar.L1</th>  <td>    0.9496</td> <td>    0.006</td> <td>  152.762</td> <td> 0.000</td> <td>    0.937</td> <td>    0.962</td>\n",
              "</tr>\n",
              "<tr>\n",
              "  <th>ma.L1</th>  <td>   -1.0554</td> <td>    0.010</td> <td> -106.353</td> <td> 0.000</td> <td>   -1.075</td> <td>   -1.036</td>\n",
              "</tr>\n",
              "<tr>\n",
              "  <th>ma.L2</th>  <td>    0.0293</td> <td>    0.011</td> <td>    2.754</td> <td> 0.006</td> <td>    0.008</td> <td>    0.050</td>\n",
              "</tr>\n",
              "<tr>\n",
              "  <th>ma.L3</th>  <td>    0.0408</td> <td>    0.008</td> <td>    4.886</td> <td> 0.000</td> <td>    0.024</td> <td>    0.057</td>\n",
              "</tr>\n",
              "<tr>\n",
              "  <th>sigma2</th> <td>    0.0009</td> <td> 7.94e-06</td> <td>  115.182</td> <td> 0.000</td> <td>    0.001</td> <td>    0.001</td>\n",
              "</tr>\n",
              "</table>\n",
              "<table class=\"simpletable\">\n",
              "<tr>\n",
              "  <th>Ljung-Box (L1) (Q):</th>     <td>0.00</td> <th>  Jarque-Bera (JB):  </th> <td>11548.39</td>\n",
              "</tr>\n",
              "<tr>\n",
              "  <th>Prob(Q):</th>                <td>0.95</td> <th>  Prob(JB):          </th>   <td>0.00</td>  \n",
              "</tr>\n",
              "<tr>\n",
              "  <th>Heteroskedasticity (H):</th> <td>0.51</td> <th>  Skew:              </th>   <td>-0.78</td> \n",
              "</tr>\n",
              "<tr>\n",
              "  <th>Prob(H) (two-sided):</th>    <td>0.00</td> <th>  Kurtosis:          </th>   <td>8.63</td>  \n",
              "</tr>\n",
              "</table><br/><br/>Warnings:<br/>[1] Covariance matrix calculated using the outer product of gradients (complex-step)."
            ]
          },
          "metadata": {},
          "execution_count": 49
        }
      ]
    },
    {
      "cell_type": "markdown",
      "source": [
        "SARIMAX - ACCOUNTS FOR DATA SEASONALITY"
      ],
      "metadata": {
        "id": "sg6fvTqPv2qd"
      },
      "id": "sg6fvTqPv2qd"
    },
    {
      "cell_type": "code",
      "source": [
        "import statsmodels.api\n",
        "\n",
        "\n",
        "\n",
        "for cd in range(2):\n",
        "\n",
        "    m = statsmodels.api.tsa.statespace.SARIMAX(\n",
        "                                                    endog = df_min_max_scaled,\n",
        "                                                    order = (1,1,1),\n",
        "                                                    seasonal_order = (0,cd,0,12),\n",
        "                                                    trend = 'n'\n",
        "                                               ).fit()\n",
        "\n",
        "\n",
        "    plt.plot(df_min_max_scaled)\n",
        "    plt.plot(m.fittedvalues)\n",
        "    plt.title('D: ' + str(cd))\n",
        "    plt.show()"
      ],
      "metadata": {
        "colab": {
          "base_uri": "https://localhost:8080/",
          "height": 545
        },
        "id": "FwU-ds2w28o7",
        "outputId": "b36aa1ef-8da3-4789-a96f-58d504fbf45b"
      },
      "id": "FwU-ds2w28o7",
      "execution_count": 56,
      "outputs": [
        {
          "output_type": "display_data",
          "data": {
            "text/plain": [
              "<Figure size 432x288 with 1 Axes>"
            ],
            "image/png": "[encoded data removed]"
          },
          "metadata": {
            "needs_background": "light"
          }
        },
        {
          "output_type": "display_data",
          "data": {
            "text/plain": [
              "<Figure size 432x288 with 1 Axes>"
            ],
            "image/png": "[encoded data removed]"
          },
          "metadata": {
            "needs_background": "light"
          }
        }
      ]
    },
    {
      "cell_type": "code",
      "source": [
        "m.summary()"
      ],
      "metadata": {
        "colab": {
          "base_uri": "https://localhost:8080/",
          "height": 430
        },
        "id": "m8xJlfu-3GgM",
        "outputId": "62edc46e-4485-4717-e3b3-a63f7d2030b8"
      },
      "id": "m8xJlfu-3GgM",
      "execution_count": 58,
      "outputs": [
        {
          "output_type": "execute_result",
          "data": {
            "text/plain": [
              "<class 'statsmodels.iolib.summary.Summary'>\n",
              "\"\"\"\n",
              "                                      SARIMAX Results                                      \n",
              "===========================================================================================\n",
              "Dep. Variable:                          Last Price   No. Observations:                 8136\n",
              "Model:             SARIMAX(1, 1, 1)x(0, 1, [], 12)   Log Likelihood               14309.273\n",
              "Date:                             Tue, 24 May 2022   AIC                         -28612.546\n",
              "Time:                                     16:30:53   BIC                         -28591.539\n",
              "Sample:                                          0   HQIC                        -28605.361\n",
              "                                            - 8136                                         \n",
              "Covariance Type:                               opg                                         \n",
              "==============================================================================\n",
              "                 coef    std err          z      P>|z|      [0.025      0.975]\n",
              "------------------------------------------------------------------------------\n",
              "ar.L1          0.8555      0.004    227.360      0.000       0.848       0.863\n",
              "ma.L1         -1.0000      0.151     -6.620      0.000      -1.296      -0.704\n",
              "sigma2         0.0017      0.000      6.562      0.000       0.001       0.002\n",
              "===================================================================================\n",
              "Ljung-Box (L1) (Q):                   0.08   Jarque-Bera (JB):              3468.50\n",
              "Prob(Q):                              0.77   Prob(JB):                         0.00\n",
              "Heteroskedasticity (H):               0.48   Skew:                            -0.38\n",
              "Prob(H) (two-sided):                  0.00   Kurtosis:                         6.11\n",
              "===================================================================================\n",
              "\n",
              "Warnings:\n",
              "[1] Covariance matrix calculated using the outer product of gradients (complex-step).\n",
              "\"\"\""
            ],
            "text/html": [
              "<table class=\"simpletable\">\n",
              "<caption>SARIMAX Results</caption>\n",
              "<tr>\n",
              "  <th>Dep. Variable:</th>             <td>Last Price</td>            <th>  No. Observations:  </th>    <td>8136</td>   \n",
              "</tr>\n",
              "<tr>\n",
              "  <th>Model:</th>           <td>SARIMAX(1, 1, 1)x(0, 1, [], 12)</td> <th>  Log Likelihood     </th>  <td>14309.273</td>\n",
              "</tr>\n",
              "<tr>\n",
              "  <th>Date:</th>                   <td>Tue, 24 May 2022</td>         <th>  AIC                </th> <td>-28612.546</td>\n",
              "</tr>\n",
              "<tr>\n",
              "  <th>Time:</th>                       <td>16:30:53</td>             <th>  BIC                </th> <td>-28591.539</td>\n",
              "</tr>\n",
              "<tr>\n",
              "  <th>Sample:</th>                         <td>0</td>                <th>  HQIC               </th> <td>-28605.361</td>\n",
              "</tr>\n",
              "<tr>\n",
              "  <th></th>                             <td> - 8136</td>             <th>                     </th>      <td> </td>    \n",
              "</tr>\n",
              "<tr>\n",
              "  <th>Covariance Type:</th>               <td>opg</td>               <th>                     </th>      <td> </td>    \n",
              "</tr>\n",
              "</table>\n",
              "<table class=\"simpletable\">\n",
              "<tr>\n",
              "     <td></td>       <th>coef</th>     <th>std err</th>      <th>z</th>      <th>P>|z|</th>  <th>[0.025</th>    <th>0.975]</th>  \n",
              "</tr>\n",
              "<tr>\n",
              "  <th>ar.L1</th>  <td>    0.8555</td> <td>    0.004</td> <td>  227.360</td> <td> 0.000</td> <td>    0.848</td> <td>    0.863</td>\n",
              "</tr>\n",
              "<tr>\n",
              "  <th>ma.L1</th>  <td>   -1.0000</td> <td>    0.151</td> <td>   -6.620</td> <td> 0.000</td> <td>   -1.296</td> <td>   -0.704</td>\n",
              "</tr>\n",
              "<tr>\n",
              "  <th>sigma2</th> <td>    0.0017</td> <td>    0.000</td> <td>    6.562</td> <td> 0.000</td> <td>    0.001</td> <td>    0.002</td>\n",
              "</tr>\n",
              "</table>\n",
              "<table class=\"simpletable\">\n",
              "<tr>\n",
              "  <th>Ljung-Box (L1) (Q):</th>     <td>0.08</td> <th>  Jarque-Bera (JB):  </th> <td>3468.50</td>\n",
              "</tr>\n",
              "<tr>\n",
              "  <th>Prob(Q):</th>                <td>0.77</td> <th>  Prob(JB):          </th>  <td>0.00</td>  \n",
              "</tr>\n",
              "<tr>\n",
              "  <th>Heteroskedasticity (H):</th> <td>0.48</td> <th>  Skew:              </th>  <td>-0.38</td> \n",
              "</tr>\n",
              "<tr>\n",
              "  <th>Prob(H) (two-sided):</th>    <td>0.00</td> <th>  Kurtosis:          </th>  <td>6.11</td>  \n",
              "</tr>\n",
              "</table><br/><br/>Warnings:<br/>[1] Covariance matrix calculated using the outer product of gradients (complex-step)."
            ]
          },
          "metadata": {},
          "execution_count": 58
        }
      ]
    },
    {
      "cell_type": "code",
      "source": [
        "#from statsmodels.tsa.arima_model import ARIMA\n",
        "#print(df_min_max_scaled.shape)\n",
        "#train=df_min_max_scaled.iloc[:-30]\n",
        "#test=df_min_max_scaled.iloc[-30:]\n",
        "#print(train.shape,test.shape)\n",
        "#print(test.iloc[0],test.iloc[-1])"
      ],
      "metadata": {
        "colab": {
          "base_uri": "https://localhost:8080/"
        },
        "id": "RlVO8wGz3OmK",
        "outputId": "8cd95ef7-39c3-4898-f3ef-3a8383defb3f"
      },
      "id": "RlVO8wGz3OmK",
      "execution_count": null,
      "outputs": [
        {
          "output_type": "stream",
          "name": "stdout",
          "text": [
            "(8136,)\n",
            "(8106,) (30,)\n",
            "0.44546207851647696 0.2881224334745227\n"
          ]
        }
      ]
    },
    {
      "cell_type": "code",
      "source": [
        "#from statsmodels.tsa.arima.model import ARIMA\n",
        "#model=ARIMA(train,order=(1,0,5))\n",
        "#model=model.fit()\n",
        "#model.summary()"
      ],
      "metadata": {
        "colab": {
          "base_uri": "https://localhost:8080/",
          "height": 537
        },
        "id": "mON1STvH3aaT",
        "outputId": "0fee8dec-dde3-4ef9-cc0a-5699da65c00b"
      },
      "id": "mON1STvH3aaT",
      "execution_count": null,
      "outputs": [
        {
          "output_type": "execute_result",
          "data": {
            "text/plain": [
              "<class 'statsmodels.iolib.summary.Summary'>\n",
              "\"\"\"\n",
              "                               SARIMAX Results                                \n",
              "==============================================================================\n",
              "Dep. Variable:             Last Price   No. Observations:                 8106\n",
              "Model:                 ARIMA(1, 0, 5)   Log Likelihood               16858.285\n",
              "Date:                Fri, 20 May 2022   AIC                         -33700.571\n",
              "Time:                        13:24:20   BIC                         -33644.568\n",
              "Sample:                             0   HQIC                        -33681.415\n",
              "                               - 8106                                         \n",
              "Covariance Type:                  opg                                         \n",
              "==============================================================================\n",
              "                 coef    std err          z      P>|z|      [0.025      0.975]\n",
              "------------------------------------------------------------------------------\n",
              "const          0.3152      0.026     12.163      0.000       0.264       0.366\n",
              "ar.L1          0.9897      0.001    670.901      0.000       0.987       0.993\n",
              "ma.L1         -0.0955      0.007    -12.910      0.000      -0.110      -0.081\n",
              "ma.L2         -0.0628      0.008     -7.972      0.000      -0.078      -0.047\n",
              "ma.L3         -0.0397      0.009     -4.666      0.000      -0.056      -0.023\n",
              "ma.L4         -0.0475      0.009     -5.389      0.000      -0.065      -0.030\n",
              "ma.L5         -0.0220      0.008     -2.602      0.009      -0.039      -0.005\n",
              "sigma2         0.0009   8.13e-06    112.342      0.000       0.001       0.001\n",
              "===================================================================================\n",
              "Ljung-Box (L1) (Q):                   0.01   Jarque-Bera (JB):             11602.49\n",
              "Prob(Q):                              0.93   Prob(JB):                         0.00\n",
              "Heteroskedasticity (H):               0.50   Skew:                            -0.77\n",
              "Prob(H) (two-sided):                  0.00   Kurtosis:                         8.65\n",
              "===================================================================================\n",
              "\n",
              "Warnings:\n",
              "[1] Covariance matrix calculated using the outer product of gradients (complex-step).\n",
              "\"\"\""
            ],
            "text/html": [
              "<table class=\"simpletable\">\n",
              "<caption>SARIMAX Results</caption>\n",
              "<tr>\n",
              "  <th>Dep. Variable:</th>      <td>Last Price</td>    <th>  No. Observations:  </th>    <td>8106</td>   \n",
              "</tr>\n",
              "<tr>\n",
              "  <th>Model:</th>            <td>ARIMA(1, 0, 5)</td>  <th>  Log Likelihood     </th>  <td>16858.285</td>\n",
              "</tr>\n",
              "<tr>\n",
              "  <th>Date:</th>            <td>Fri, 20 May 2022</td> <th>  AIC                </th> <td>-33700.571</td>\n",
              "</tr>\n",
              "<tr>\n",
              "  <th>Time:</th>                <td>13:24:20</td>     <th>  BIC                </th> <td>-33644.568</td>\n",
              "</tr>\n",
              "<tr>\n",
              "  <th>Sample:</th>                  <td>0</td>        <th>  HQIC               </th> <td>-33681.415</td>\n",
              "</tr>\n",
              "<tr>\n",
              "  <th></th>                      <td> - 8106</td>     <th>                     </th>      <td> </td>    \n",
              "</tr>\n",
              "<tr>\n",
              "  <th>Covariance Type:</th>        <td>opg</td>       <th>                     </th>      <td> </td>    \n",
              "</tr>\n",
              "</table>\n",
              "<table class=\"simpletable\">\n",
              "<tr>\n",
              "     <td></td>       <th>coef</th>     <th>std err</th>      <th>z</th>      <th>P>|z|</th>  <th>[0.025</th>    <th>0.975]</th>  \n",
              "</tr>\n",
              "<tr>\n",
              "  <th>const</th>  <td>    0.3152</td> <td>    0.026</td> <td>   12.163</td> <td> 0.000</td> <td>    0.264</td> <td>    0.366</td>\n",
              "</tr>\n",
              "<tr>\n",
              "  <th>ar.L1</th>  <td>    0.9897</td> <td>    0.001</td> <td>  670.901</td> <td> 0.000</td> <td>    0.987</td> <td>    0.993</td>\n",
              "</tr>\n",
              "<tr>\n",
              "  <th>ma.L1</th>  <td>   -0.0955</td> <td>    0.007</td> <td>  -12.910</td> <td> 0.000</td> <td>   -0.110</td> <td>   -0.081</td>\n",
              "</tr>\n",
              "<tr>\n",
              "  <th>ma.L2</th>  <td>   -0.0628</td> <td>    0.008</td> <td>   -7.972</td> <td> 0.000</td> <td>   -0.078</td> <td>   -0.047</td>\n",
              "</tr>\n",
              "<tr>\n",
              "  <th>ma.L3</th>  <td>   -0.0397</td> <td>    0.009</td> <td>   -4.666</td> <td> 0.000</td> <td>   -0.056</td> <td>   -0.023</td>\n",
              "</tr>\n",
              "<tr>\n",
              "  <th>ma.L4</th>  <td>   -0.0475</td> <td>    0.009</td> <td>   -5.389</td> <td> 0.000</td> <td>   -0.065</td> <td>   -0.030</td>\n",
              "</tr>\n",
              "<tr>\n",
              "  <th>ma.L5</th>  <td>   -0.0220</td> <td>    0.008</td> <td>   -2.602</td> <td> 0.009</td> <td>   -0.039</td> <td>   -0.005</td>\n",
              "</tr>\n",
              "<tr>\n",
              "  <th>sigma2</th> <td>    0.0009</td> <td> 8.13e-06</td> <td>  112.342</td> <td> 0.000</td> <td>    0.001</td> <td>    0.001</td>\n",
              "</tr>\n",
              "</table>\n",
              "<table class=\"simpletable\">\n",
              "<tr>\n",
              "  <th>Ljung-Box (L1) (Q):</th>     <td>0.01</td> <th>  Jarque-Bera (JB):  </th> <td>11602.49</td>\n",
              "</tr>\n",
              "<tr>\n",
              "  <th>Prob(Q):</th>                <td>0.93</td> <th>  Prob(JB):          </th>   <td>0.00</td>  \n",
              "</tr>\n",
              "<tr>\n",
              "  <th>Heteroskedasticity (H):</th> <td>0.50</td> <th>  Skew:              </th>   <td>-0.77</td> \n",
              "</tr>\n",
              "<tr>\n",
              "  <th>Prob(H) (two-sided):</th>    <td>0.00</td> <th>  Kurtosis:          </th>   <td>8.65</td>  \n",
              "</tr>\n",
              "</table><br/><br/>Warnings:<br/>[1] Covariance matrix calculated using the outer product of gradients (complex-step)."
            ]
          },
          "metadata": {},
          "execution_count": 53
        }
      ]
    },
    {
      "cell_type": "code",
      "source": [
        "#data = model.fittedvalues\n",
        "\n",
        "#data"
      ],
      "metadata": {
        "colab": {
          "base_uri": "https://localhost:8080/"
        },
        "id": "agI4ENYN3ezE",
        "outputId": "a216242f-5146-43fb-bfd4-ad35e017876b"
      },
      "id": "agI4ENYN3ezE",
      "execution_count": null,
      "outputs": [
        {
          "output_type": "execute_result",
          "data": {
            "text/plain": [
              "0       0.315159\n",
              "1       0.380511\n",
              "2       0.384087\n",
              "3       0.399271\n",
              "4       0.409386\n",
              "          ...   \n",
              "8101    0.431740\n",
              "8102    0.413379\n",
              "8103    0.376839\n",
              "8104    0.353521\n",
              "8105    0.398110\n",
              "Length: 8106, dtype: float64"
            ]
          },
          "metadata": {},
          "execution_count": 54
        }
      ]
    },
    {
      "cell_type": "code",
      "source": [
        "#plt.plot(df_min_max_scaled)\n",
        "#plt.plot(model.fittedvalues, color='red')\n",
        "#plt.title('RSS: %.4f'% sum((model.fittedvalues-df_min_max_scaled)**2))"
      ],
      "metadata": {
        "colab": {
          "base_uri": "https://localhost:8080/",
          "height": 298
        },
        "id": "mq93-PrJ3o5b",
        "outputId": "d0f600af-3b8b-4c59-d90c-ad796126ea6e"
      },
      "id": "mq93-PrJ3o5b",
      "execution_count": null,
      "outputs": [
        {
          "output_type": "execute_result",
          "data": {
            "text/plain": [
              "Text(0.5, 1.0, 'RSS: nan')"
            ]
          },
          "metadata": {},
          "execution_count": 55
        },
        {
          "output_type": "display_data",
          "data": {
            "text/plain": [
              "<Figure size 432x288 with 1 Axes>"
            ],
            "image/png": "[encoded data removed]"
          },
          "metadata": {
            "needs_background": "light"
          }
        }
      ]
    },
    {
      "cell_type": "code",
      "source": [
        "#predictions_ARIMA_diff = pd.Series(model.fittedvalues)\n",
        "#print (predictions_ARIMA_diff)"
      ],
      "metadata": {
        "colab": {
          "base_uri": "https://localhost:8080/"
        },
        "id": "drrqVKff3se8",
        "outputId": "86d4e800-33ab-44ef-b230-49ad13ca0926"
      },
      "id": "drrqVKff3se8",
      "execution_count": null,
      "outputs": [
        {
          "output_type": "stream",
          "name": "stdout",
          "text": [
            "0       0.315159\n",
            "1       0.380511\n",
            "2       0.384087\n",
            "3       0.399271\n",
            "4       0.409386\n",
            "          ...   \n",
            "8101    0.431740\n",
            "8102    0.413379\n",
            "8103    0.376839\n",
            "8104    0.353521\n",
            "8105    0.398110\n",
            "Length: 8106, dtype: float64\n"
          ]
        }
      ]
    },
    {
      "cell_type": "code",
      "source": [
        "#Convert to cumulative sum\n",
        "\n",
        "#predictions_ARIMA_diff_cumsum = predictions_ARIMA_diff.cumsum()\n",
        "#print (predictions_ARIMA_diff_cumsum)"
      ],
      "metadata": {
        "colab": {
          "base_uri": "https://localhost:8080/"
        },
        "id": "hIS5W7I73wOL",
        "outputId": "ec7e396f-22dd-480b-cf8e-becf6db2490c"
      },
      "id": "hIS5W7I73wOL",
      "execution_count": null,
      "outputs": [
        {
          "output_type": "stream",
          "name": "stdout",
          "text": [
            "0          0.315159\n",
            "1          0.695670\n",
            "2          1.079758\n",
            "3          1.479029\n",
            "4          1.888415\n",
            "           ...     \n",
            "8101    2544.710788\n",
            "8102    2545.124167\n",
            "8103    2545.501006\n",
            "8104    2545.854528\n",
            "8105    2546.252638\n",
            "Length: 8106, dtype: float64\n"
          ]
        }
      ]
    },
    {
      "cell_type": "code",
      "source": [
        "#predictions_ARIMA_log = pd.Series(df_min_max_scaled, index=df_min_max_scaled.index)\n",
        "#predictions_ARIMA_log = predictions_ARIMA_log.add(predictions_ARIMA_diff_cumsum)\n",
        "#predictions_ARIMA_log.plot()"
      ],
      "metadata": {
        "colab": {
          "base_uri": "https://localhost:8080/",
          "height": 282
        },
        "id": "uE-CHMb_3zb0",
        "outputId": "fc76ef5d-794f-4b08-e4c1-7bbdaaa24bf5"
      },
      "id": "uE-CHMb_3zb0",
      "execution_count": null,
      "outputs": [
        {
          "output_type": "execute_result",
          "data": {
            "text/plain": [
              "<matplotlib.axes._subplots.AxesSubplot at 0x7fa649a96f50>"
            ]
          },
          "metadata": {},
          "execution_count": 58
        },
        {
          "output_type": "display_data",
          "data": {
            "text/plain": [
              "<Figure size 432x288 with 1 Axes>"
            ],
            "image/png": "[encoded data removed]"
          },
          "metadata": {
            "needs_background": "light"
          }
        }
      ]
    },
    {
      "cell_type": "code",
      "source": [
        "#start=len(train) \n",
        "#end=len(train)+len(test)-1\n",
        "#if the predicted values dont have date values as index, you will have to uncomment the following two commented lines to plot a graph\n",
        "#index_future_dates=pd.date_range(start=start,end=end)\n",
        "#pred=model.predict(start=start,end=end ).rename('ARIMA predictions')"
      ],
      "metadata": {
        "id": "NOveMxqK36XU"
      },
      "id": "NOveMxqK36XU",
      "execution_count": null,
      "outputs": []
    },
    {
      "cell_type": "code",
      "source": [
        "#pred.head()"
      ],
      "metadata": {
        "colab": {
          "base_uri": "https://localhost:8080/"
        },
        "id": "WxIwaxya4AZN",
        "outputId": "5cdfd74c-4d1d-4e92-e361-4276c15625f6"
      },
      "id": "WxIwaxya4AZN",
      "execution_count": null,
      "outputs": [
        {
          "output_type": "execute_result",
          "data": {
            "text/plain": [
              "8106    0.429635\n",
              "8107    0.426594\n",
              "8108    0.422442\n",
              "8109    0.418618\n",
              "8110    0.416765\n",
              "Name: ARIMA predictions, dtype: float64"
            ]
          },
          "metadata": {},
          "execution_count": 60
        }
      ]
    },
    {
      "cell_type": "code",
      "source": [
        "test.plot(legend=True)"
      ],
      "metadata": {
        "colab": {
          "base_uri": "https://localhost:8080/",
          "height": 302
        },
        "id": "-gjq9QU64Cy1",
        "outputId": "bb3ee83a-1318-40f6-9b36-11183368af6f"
      },
      "id": "-gjq9QU64Cy1",
      "execution_count": 61,
      "outputs": [
        {
          "output_type": "execute_result",
          "data": {
            "text/plain": [
              "<matplotlib.axes._subplots.AxesSubplot at 0x7fbc9824afd0>"
            ]
          },
          "metadata": {},
          "execution_count": 61
        },
        {
          "output_type": "display_data",
          "data": {
            "text/plain": [
              "<Figure size 432x288 with 1 Axes>"
            ],
            "image/png": "[encoded data removed]"
          },
          "metadata": {
            "needs_background": "light"
          }
        }
      ]
    },
    {
      "cell_type": "code",
      "source": [
        "from sklearn.metrics import mean_squared_error\n",
        "from math import sqrt\n",
        "rmse=sqrt(mean_squared_error(pred,test))\n",
        "mse = metrics.mean_squared_error(pred, test)\n",
        "print(rmse)\n",
        "print (mse)"
      ],
      "metadata": {
        "colab": {
          "base_uri": "https://localhost:8080/"
        },
        "id": "OQKwEqvj4JPN",
        "outputId": "e85e3d2a-8a10-47ad-bfa7-e84fbdc7842d"
      },
      "id": "OQKwEqvj4JPN",
      "execution_count": 62,
      "outputs": [
        {
          "output_type": "stream",
          "name": "stdout",
          "text": [
            "0.05168351378326319\n",
            "0.002671185596984756\n"
          ]
        }
      ]
    },
    {
      "cell_type": "markdown",
      "source": [
        "LSTM"
      ],
      "metadata": {
        "id": "2tqte12Wf5Yk"
      },
      "id": "2tqte12Wf5Yk"
    },
    {
      "cell_type": "code",
      "source": [
        "final_data = pd.DataFrame(data, columns=['Price'])"
      ],
      "metadata": {
        "id": "PkpQHTxlx3aa"
      },
      "id": "PkpQHTxlx3aa",
      "execution_count": null,
      "outputs": []
    },
    {
      "cell_type": "code",
      "source": [
        "final_data"
      ],
      "metadata": {
        "colab": {
          "base_uri": "https://localhost:8080/",
          "height": 424
        },
        "id": "M3DGyfVNx9h5",
        "outputId": "78571346-6bf0-4aca-f4e1-84f959c59c0b"
      },
      "id": "M3DGyfVNx9h5",
      "execution_count": null,
      "outputs": [
        {
          "output_type": "execute_result",
          "data": {
            "text/plain": [
              "         Price\n",
              "0     0.315159\n",
              "1     0.380511\n",
              "2     0.384087\n",
              "3     0.399271\n",
              "4     0.409386\n",
              "...        ...\n",
              "8101  0.431740\n",
              "8102  0.413379\n",
              "8103  0.376839\n",
              "8104  0.353521\n",
              "8105  0.398110\n",
              "\n",
              "[8106 rows x 1 columns]"
            ],
            "text/html": [
              "\n",
              "  <div id=\"df-38909d17-9411-429a-a427-847cdbe5f586\">\n",
              "    <div class=\"colab-df-container\">\n",
              "      <div>\n",
              "<style scoped>\n",
              "    .dataframe tbody tr th:only-of-type {\n",
              "        vertical-align: middle;\n",
              "    }\n",
              "\n",
              "    .dataframe tbody tr th {\n",
              "        vertical-align: top;\n",
              "    }\n",
              "\n",
              "    .dataframe thead th {\n",
              "        text-align: right;\n",
              "    }\n",
              "</style>\n",
              "<table border=\"1\" class=\"dataframe\">\n",
              "  <thead>\n",
              "    <tr style=\"text-align: right;\">\n",
              "      <th></th>\n",
              "      <th>Price</th>\n",
              "    </tr>\n",
              "  </thead>\n",
              "  <tbody>\n",
              "    <tr>\n",
              "      <th>0</th>\n",
              "      <td>0.315159</td>\n",
              "    </tr>\n",
              "    <tr>\n",
              "      <th>1</th>\n",
              "      <td>0.380511</td>\n",
              "    </tr>\n",
              "    <tr>\n",
              "      <th>2</th>\n",
              "      <td>0.384087</td>\n",
              "    </tr>\n",
              "    <tr>\n",
              "      <th>3</th>\n",
              "      <td>0.399271</td>\n",
              "    </tr>\n",
              "    <tr>\n",
              "      <th>4</th>\n",
              "      <td>0.409386</td>\n",
              "    </tr>\n",
              "    <tr>\n",
              "      <th>...</th>\n",
              "      <td>...</td>\n",
              "    </tr>\n",
              "    <tr>\n",
              "      <th>8101</th>\n",
              "      <td>0.431740</td>\n",
              "    </tr>\n",
              "    <tr>\n",
              "      <th>8102</th>\n",
              "      <td>0.413379</td>\n",
              "    </tr>\n",
              "    <tr>\n",
              "      <th>8103</th>\n",
              "      <td>0.376839</td>\n",
              "    </tr>\n",
              "    <tr>\n",
              "      <th>8104</th>\n",
              "      <td>0.353521</td>\n",
              "    </tr>\n",
              "    <tr>\n",
              "      <th>8105</th>\n",
              "      <td>0.398110</td>\n",
              "    </tr>\n",
              "  </tbody>\n",
              "</table>\n",
              "<p>8106 rows × 1 columns</p>\n",
              "</div>\n",
              "      <button class=\"colab-df-convert\" onclick=\"convertToInteractive('df-38909d17-9411-429a-a427-847cdbe5f586')\"\n",
              "              title=\"Convert this dataframe to an interactive table.\"\n",
              "              style=\"display:none;\">\n",
              "        \n",
              "  <svg xmlns=\"http://www.w3.org/2000/svg\" height=\"24px\"viewBox=\"0 0 24 24\"\n",
              "       width=\"24px\">\n",
              "    <path d=\"M0 0h24v24H0V0z\" fill=\"none\"/>\n",
              "    <path d=\"M18.56 5.44l.94 2.06.94-2.06 2.06-.94-2.06-.94-.94-2.06-.94 2.06-2.06.94zm-11 1L8.5 8.5l.94-2.06 2.06-.94-2.06-.94L8.5 2.5l-.94 2.06-2.06.94zm10 10l.94 2.06.94-2.06 2.06-.94-2.06-.94-.94-2.06-.94 2.06-2.06.94z\"/><path d=\"M17.41 7.96l-1.37-1.37c-.4-.4-.92-.59-1.43-.59-.52 0-1.04.2-1.43.59L10.3 9.45l-7.72 7.72c-.78.78-.78 2.05 0 2.83L4 21.41c.39.39.9.59 1.41.59.51 0 1.02-.2 1.41-.59l7.78-7.78 2.81-2.81c.8-.78.8-2.07 0-2.86zM5.41 20L4 18.59l7.72-7.72 1.47 1.35L5.41 20z\"/>\n",
              "  </svg>\n",
              "      </button>\n",
              "      \n",
              "  <style>\n",
              "    .colab-df-container {\n",
              "      display:flex;\n",
              "      flex-wrap:wrap;\n",
              "      gap: 12px;\n",
              "    }\n",
              "\n",
              "    .colab-df-convert {\n",
              "      background-color: #E8F0FE;\n",
              "      border: none;\n",
              "      border-radius: 50%;\n",
              "      cursor: pointer;\n",
              "      display: none;\n",
              "      fill: #1967D2;\n",
              "      height: 32px;\n",
              "      padding: 0 0 0 0;\n",
              "      width: 32px;\n",
              "    }\n",
              "\n",
              "    .colab-df-convert:hover {\n",
              "      background-color: #E2EBFA;\n",
              "      box-shadow: 0px 1px 2px rgba(60, 64, 67, 0.3), 0px 1px 3px 1px rgba(60, 64, 67, 0.15);\n",
              "      fill: #174EA6;\n",
              "    }\n",
              "\n",
              "    [theme=dark] .colab-df-convert {\n",
              "      background-color: #3B4455;\n",
              "      fill: #D2E3FC;\n",
              "    }\n",
              "\n",
              "    [theme=dark] .colab-df-convert:hover {\n",
              "      background-color: #434B5C;\n",
              "      box-shadow: 0px 1px 3px 1px rgba(0, 0, 0, 0.15);\n",
              "      filter: drop-shadow(0px 1px 2px rgba(0, 0, 0, 0.3));\n",
              "      fill: #FFFFFF;\n",
              "    }\n",
              "  </style>\n",
              "\n",
              "      <script>\n",
              "        const buttonEl =\n",
              "          document.querySelector('#df-38909d17-9411-429a-a427-847cdbe5f586 button.colab-df-convert');\n",
              "        buttonEl.style.display =\n",
              "          google.colab.kernel.accessAllowed ? 'block' : 'none';\n",
              "\n",
              "        async function convertToInteractive(key) {\n",
              "          const element = document.querySelector('#df-38909d17-9411-429a-a427-847cdbe5f586');\n",
              "          const dataTable =\n",
              "            await google.colab.kernel.invokeFunction('convertToInteractive',\n",
              "                                                     [key], {});\n",
              "          if (!dataTable) return;\n",
              "\n",
              "          const docLinkHtml = 'Like what you see? Visit the ' +\n",
              "            '<a target=\"_blank\" href=https://colab.research.google.com/notebooks/data_table.ipynb>data table notebook</a>'\n",
              "            + ' to learn more about interactive tables.';\n",
              "          element.innerHTML = '';\n",
              "          dataTable['output_type'] = 'display_data';\n",
              "          await google.colab.output.renderOutput(dataTable, element);\n",
              "          const docLink = document.createElement('div');\n",
              "          docLink.innerHTML = docLinkHtml;\n",
              "          element.appendChild(docLink);\n",
              "        }\n",
              "      </script>\n",
              "    </div>\n",
              "  </div>\n",
              "  "
            ]
          },
          "metadata": {},
          "execution_count": 64
        }
      ]
    },
    {
      "cell_type": "code",
      "source": [
        "# split into train and test sets\n",
        "train_set = int(len(final_data) * 0.7)\n",
        "test_set = len(final_data) - train_set\n",
        "train = final_data[test_set:len(final_data)]\n",
        "test = final_data[train_set:len(final_data)]\n",
        "print(len(train), len(test))"
      ],
      "metadata": {
        "colab": {
          "base_uri": "https://localhost:8080/"
        },
        "id": "TnSXYdB86Jxj",
        "outputId": "107460be-0777-4c3f-a5c6-5b8c7e77d770"
      },
      "id": "TnSXYdB86Jxj",
      "execution_count": null,
      "outputs": [
        {
          "output_type": "stream",
          "name": "stdout",
          "text": [
            "5674 2432\n"
          ]
        }
      ]
    },
    {
      "cell_type": "code",
      "source": [
        "train.values"
      ],
      "metadata": {
        "colab": {
          "base_uri": "https://localhost:8080/"
        },
        "id": "LQ5RmS864R6g",
        "outputId": "1965c4f8-57a6-46f0-9c89-fd0f19bbc5ac"
      },
      "id": "LQ5RmS864R6g",
      "execution_count": null,
      "outputs": [
        {
          "output_type": "execute_result",
          "data": {
            "text/plain": [
              "array([[0.23005943],\n",
              "       [0.20045253],\n",
              "       [0.18270798],\n",
              "       ...,\n",
              "       [0.37683929],\n",
              "       [0.35352126],\n",
              "       [0.39811032]])"
            ]
          },
          "metadata": {},
          "execution_count": 66
        }
      ]
    },
    {
      "cell_type": "code",
      "source": [
        "test.shape"
      ],
      "metadata": {
        "colab": {
          "base_uri": "https://localhost:8080/"
        },
        "id": "V_QJMOjNCa5R",
        "outputId": "ece780a6-f17f-487a-cd92-9ce13c593a5c"
      },
      "id": "V_QJMOjNCa5R",
      "execution_count": null,
      "outputs": [
        {
          "output_type": "execute_result",
          "data": {
            "text/plain": [
              "(2432, 1)"
            ]
          },
          "metadata": {},
          "execution_count": 67
        }
      ]
    },
    {
      "cell_type": "code",
      "source": [
        "print(index_future_dates)"
      ],
      "metadata": {
        "colab": {
          "base_uri": "https://localhost:8080/"
        },
        "id": "QFcpJWHhsmCA",
        "outputId": "bb376152-ca10-4719-b7fb-e6b4f1b0bd03"
      },
      "id": "QFcpJWHhsmCA",
      "execution_count": null,
      "outputs": [
        {
          "output_type": "stream",
          "name": "stdout",
          "text": [
            "DatetimeIndex(['1970-01-01 00:00:00.000008106'], dtype='datetime64[ns]', freq='D')\n"
          ]
        }
      ]
    },
    {
      "cell_type": "code",
      "source": [
        "VIX_daily.shape[0]"
      ],
      "metadata": {
        "colab": {
          "base_uri": "https://localhost:8080/"
        },
        "id": "KSqxTc7PtYba",
        "outputId": "e77773c6-605b-4075-88fe-4ee4046eb728"
      },
      "id": "KSqxTc7PtYba",
      "execution_count": null,
      "outputs": [
        {
          "output_type": "execute_result",
          "data": {
            "text/plain": [
              "8136"
            ]
          },
          "metadata": {},
          "execution_count": 69
        }
      ]
    },
    {
      "cell_type": "code",
      "source": [
        "import sklearn\n",
        "from sklearn.model_selection import train_test_split\n",
        "\n",
        "training_set = df.iloc[:, 1:2].values\n",
        "X_train = []\n",
        "y_train = []\n",
        "\n",
        "for i in range(100, VIX_daily.shape[0]):\n",
        "    X_train.append(training_set[i-100:i,0])\n",
        "    y_train.append(training_set[i,0])\n",
        "    if i<=101:\n",
        "     print(X_train)\n",
        "     print(y_train)\n",
        "     print()"
      ],
      "metadata": {
        "id": "SkGwDZq4576Z",
        "colab": {
          "base_uri": "https://localhost:8080/"
        },
        "outputId": "acbe5077-ce80-4a10-dc3d-6012a785f5ce"
      },
      "id": "SkGwDZq4576Z",
      "execution_count": null,
      "outputs": [
        {
          "output_type": "stream",
          "name": "stdout",
          "text": [
            "[array([21.19, 21.37, 22.17, 22.7 , 21.82, 24.26, 24.37, 21.16, 21.55,\n",
            "       22.1 , 21.03, 18.57, 19.63, 20.56, 19.33, 18.9 , 19.63, 20.81,\n",
            "       21.67, 23.57, 22.94, 23.53, 23.87, 25.67, 26.67, 29.83, 31.77,\n",
            "       30.75, 30.23, 32.45, 35.13, 36.45, 31.98, 30.48, 30.74, 33.32,\n",
            "       30.15, 27.59, 30.32, 31.02, 28.81, 27.75, 28.11, 24.29, 25.7 ,\n",
            "       28.33, 27.36, 23.91, 19.96, 21.44, 22.86, 23.22, 24.35, 22.09,\n",
            "       21.96, 24.83, 27.66, 30.49, 31.96, 31.16, 29.9 , 28.85, 25.59,\n",
            "       23.85, 22.79, 19.19, 20.31, 17.62, 18.41, 19.4 , 18.76, 19.61,\n",
            "       19.73, 16.91, 16.6 , 17.22, 17.33, 16.95, 17.54, 17.68, 17.96,\n",
            "       18.63, 21.01, 22.87, 21.57, 20.57, 19.29, 21.89, 20.31, 18.69,\n",
            "       21.58, 19.9 , 21.89, 27.18, 30.67, 27.95, 31.12, 27.19, 22.96,\n",
            "       28.62])]\n",
            "[18.58]\n",
            "\n",
            "[array([21.19, 21.37, 22.17, 22.7 , 21.82, 24.26, 24.37, 21.16, 21.55,\n",
            "       22.1 , 21.03, 18.57, 19.63, 20.56, 19.33, 18.9 , 19.63, 20.81,\n",
            "       21.67, 23.57, 22.94, 23.53, 23.87, 25.67, 26.67, 29.83, 31.77,\n",
            "       30.75, 30.23, 32.45, 35.13, 36.45, 31.98, 30.48, 30.74, 33.32,\n",
            "       30.15, 27.59, 30.32, 31.02, 28.81, 27.75, 28.11, 24.29, 25.7 ,\n",
            "       28.33, 27.36, 23.91, 19.96, 21.44, 22.86, 23.22, 24.35, 22.09,\n",
            "       21.96, 24.83, 27.66, 30.49, 31.96, 31.16, 29.9 , 28.85, 25.59,\n",
            "       23.85, 22.79, 19.19, 20.31, 17.62, 18.41, 19.4 , 18.76, 19.61,\n",
            "       19.73, 16.91, 16.6 , 17.22, 17.33, 16.95, 17.54, 17.68, 17.96,\n",
            "       18.63, 21.01, 22.87, 21.57, 20.57, 19.29, 21.89, 20.31, 18.69,\n",
            "       21.58, 19.9 , 21.89, 27.18, 30.67, 27.95, 31.12, 27.19, 22.96,\n",
            "       28.62]), array([21.37, 22.17, 22.7 , 21.82, 24.26, 24.37, 21.16, 21.55, 22.1 ,\n",
            "       21.03, 18.57, 19.63, 20.56, 19.33, 18.9 , 19.63, 20.81, 21.67,\n",
            "       23.57, 22.94, 23.53, 23.87, 25.67, 26.67, 29.83, 31.77, 30.75,\n",
            "       30.23, 32.45, 35.13, 36.45, 31.98, 30.48, 30.74, 33.32, 30.15,\n",
            "       27.59, 30.32, 31.02, 28.81, 27.75, 28.11, 24.29, 25.7 , 28.33,\n",
            "       27.36, 23.91, 19.96, 21.44, 22.86, 23.22, 24.35, 22.09, 21.96,\n",
            "       24.83, 27.66, 30.49, 31.96, 31.16, 29.9 , 28.85, 25.59, 23.85,\n",
            "       22.79, 19.19, 20.31, 17.62, 18.41, 19.4 , 18.76, 19.61, 19.73,\n",
            "       16.91, 16.6 , 17.22, 17.33, 16.95, 17.54, 17.68, 17.96, 18.63,\n",
            "       21.01, 22.87, 21.57, 20.57, 19.29, 21.89, 20.31, 18.69, 21.58,\n",
            "       19.9 , 21.89, 27.18, 30.67, 27.95, 31.12, 27.19, 22.96, 28.62,\n",
            "       18.58])]\n",
            "[18.58, 19.38]\n",
            "\n"
          ]
        }
      ]
    },
    {
      "cell_type": "code",
      "source": [
        "len(y_train), len(X_train)"
      ],
      "metadata": {
        "colab": {
          "base_uri": "https://localhost:8080/"
        },
        "id": "hqzS2LxDZiIV",
        "outputId": "72693e7f-5cbf-4131-900d-2b35d80671f6"
      },
      "id": "hqzS2LxDZiIV",
      "execution_count": null,
      "outputs": [
        {
          "output_type": "execute_result",
          "data": {
            "text/plain": [
              "(8036, 8036)"
            ]
          },
          "metadata": {},
          "execution_count": 71
        }
      ]
    },
    {
      "cell_type": "code",
      "source": [
        "test_set = df.iloc[:, 1:2].values\n",
        "X_test = []\n",
        "y_test = []\n",
        "\n",
        "for i in range(100, VIX_daily.shape[0]):\n",
        "    X_test.append(test_set[i-100:i,0])\n",
        "    y_test.append(test_set[i,0])\n",
        "    if i<=100:\n",
        "     print(X_test)\n",
        "     print(y_test)\n",
        "     print()"
      ],
      "metadata": {
        "colab": {
          "base_uri": "https://localhost:8080/"
        },
        "id": "Cfmepf65V8j4",
        "outputId": "84884bbb-c83a-4269-c359-562faf64c167"
      },
      "id": "Cfmepf65V8j4",
      "execution_count": null,
      "outputs": [
        {
          "output_type": "stream",
          "name": "stdout",
          "text": [
            "[array([21.19, 21.37, 22.17, 22.7 , 21.82, 24.26, 24.37, 21.16, 21.55,\n",
            "       22.1 , 21.03, 18.57, 19.63, 20.56, 19.33, 18.9 , 19.63, 20.81,\n",
            "       21.67, 23.57, 22.94, 23.53, 23.87, 25.67, 26.67, 29.83, 31.77,\n",
            "       30.75, 30.23, 32.45, 35.13, 36.45, 31.98, 30.48, 30.74, 33.32,\n",
            "       30.15, 27.59, 30.32, 31.02, 28.81, 27.75, 28.11, 24.29, 25.7 ,\n",
            "       28.33, 27.36, 23.91, 19.96, 21.44, 22.86, 23.22, 24.35, 22.09,\n",
            "       21.96, 24.83, 27.66, 30.49, 31.96, 31.16, 29.9 , 28.85, 25.59,\n",
            "       23.85, 22.79, 19.19, 20.31, 17.62, 18.41, 19.4 , 18.76, 19.61,\n",
            "       19.73, 16.91, 16.6 , 17.22, 17.33, 16.95, 17.54, 17.68, 17.96,\n",
            "       18.63, 21.01, 22.87, 21.57, 20.57, 19.29, 21.89, 20.31, 18.69,\n",
            "       21.58, 19.9 , 21.89, 27.18, 30.67, 27.95, 31.12, 27.19, 22.96,\n",
            "       28.62])]\n",
            "[18.58]\n",
            "\n"
          ]
        }
      ]
    },
    {
      "cell_type": "code",
      "source": [
        "len(y_test), len(X_test)"
      ],
      "metadata": {
        "colab": {
          "base_uri": "https://localhost:8080/"
        },
        "id": "w4fEqXCOVoEs",
        "outputId": "4c120f24-d96a-4e64-bac2-457c234d8e3a"
      },
      "id": "w4fEqXCOVoEs",
      "execution_count": null,
      "outputs": [
        {
          "output_type": "execute_result",
          "data": {
            "text/plain": [
              "(8036, 8036)"
            ]
          },
          "metadata": {},
          "execution_count": 73
        }
      ]
    },
    {
      "cell_type": "code",
      "source": [
        "X_train, y_train = np.array(X_train), np.array(y_train)"
      ],
      "metadata": {
        "id": "4Pg0qv5Vs8uj"
      },
      "id": "4Pg0qv5Vs8uj",
      "execution_count": null,
      "outputs": []
    },
    {
      "cell_type": "code",
      "source": [
        "#Reshape the data\n",
        "#X_train = np.reshape(X_train, (X_train.shape[0],X_train.shape[1], 1))\n",
        "#X_train.shape"
      ],
      "metadata": {
        "colab": {
          "base_uri": "https://localhost:8080/"
        },
        "id": "SUYr6ycpt-Nq",
        "outputId": "1e58cd99-c09e-4145-df86-b62fec3bf0b7"
      },
      "id": "SUYr6ycpt-Nq",
      "execution_count": null,
      "outputs": [
        {
          "output_type": "execute_result",
          "data": {
            "text/plain": [
              "(8036, 100, 1)"
            ]
          },
          "metadata": {},
          "execution_count": 102
        }
      ]
    },
    {
      "cell_type": "code",
      "source": [
        "X_train, y_train"
      ],
      "metadata": {
        "colab": {
          "base_uri": "https://localhost:8080/"
        },
        "id": "BCxPNGi3Z_RG",
        "outputId": "7a5d5780-93c0-4ea1-d473-d225e8b00780"
      },
      "id": "BCxPNGi3Z_RG",
      "execution_count": null,
      "outputs": [
        {
          "output_type": "execute_result",
          "data": {
            "text/plain": [
              "(array([[21.19, 21.37, 22.17, ..., 27.19, 22.96, 28.62],\n",
              "        [21.37, 22.17, 22.7 , ..., 22.96, 28.62, 18.58],\n",
              "        [22.17, 22.7 , 21.82, ..., 28.62, 18.58, 19.38],\n",
              "        ...,\n",
              "        [18.75, 17.32, 17.7 , ..., 22.2 , 20.26, 20.11],\n",
              "        [17.32, 17.7 , 17.18, ..., 20.26, 20.11, 19.22],\n",
              "        [17.7 , 17.18, 17.84, ..., 20.11, 19.22, 18.19]]),\n",
              " array([18.58, 19.38, 19.17, ..., 19.22, 18.19, 17.24]))"
            ]
          },
          "metadata": {},
          "execution_count": 75
        }
      ]
    },
    {
      "cell_type": "code",
      "source": [
        "X_train.shape, X_train.size"
      ],
      "metadata": {
        "colab": {
          "base_uri": "https://localhost:8080/"
        },
        "id": "G0XlsQFbaDjO",
        "outputId": "16c58319-d18b-4c2d-fbfb-b21828bd3e2a"
      },
      "id": "G0XlsQFbaDjO",
      "execution_count": null,
      "outputs": [
        {
          "output_type": "execute_result",
          "data": {
            "text/plain": [
              "((8036, 100), 803600)"
            ]
          },
          "metadata": {},
          "execution_count": 76
        }
      ]
    },
    {
      "cell_type": "code",
      "source": [
        "# create and fit the LSTM network\n",
        "model = Sequential()\n",
        "model.add(LSTM(1, input_shape=(X_train.shape[1], 1)))\n",
        "model.add(Dense(1))\n",
        "model.add(Dropout(0.1))\n",
        "model.add(Dense(units=1))\n",
        "model.compile(loss='mean_squared_error', optimizer='adam')\n",
        "model.fit(X_train, y_train, epochs=1, batch_size=1, verbose=2)"
      ],
      "metadata": {
        "colab": {
          "base_uri": "https://localhost:8080/"
        },
        "id": "QQp-7fNsgPZG",
        "outputId": "b8c4b7c8-6cc5-46cc-ab2c-91b89d020be6"
      },
      "id": "QQp-7fNsgPZG",
      "execution_count": null,
      "outputs": [
        {
          "output_type": "stream",
          "name": "stdout",
          "text": [
            "8036/8036 - 113s - loss: 103.5205 - 113s/epoch - 14ms/step\n"
          ]
        },
        {
          "output_type": "execute_result",
          "data": {
            "text/plain": [
              "<keras.callbacks.History at 0x7fa637751b90>"
            ]
          },
          "metadata": {},
          "execution_count": 77
        }
      ]
    },
    {
      "cell_type": "code",
      "source": [
        "model.summary()"
      ],
      "metadata": {
        "id": "Jo2L1lWpyjcy",
        "colab": {
          "base_uri": "https://localhost:8080/"
        },
        "outputId": "fd547278-edf1-408f-a626-7cf8b74f9a77"
      },
      "id": "Jo2L1lWpyjcy",
      "execution_count": null,
      "outputs": [
        {
          "output_type": "stream",
          "name": "stdout",
          "text": [
            "Model: \"sequential\"\n",
            "_________________________________________________________________\n",
            " Layer (type)                Output Shape              Param #   \n",
            "=================================================================\n",
            " lstm (LSTM)                 (None, 1)                 12        \n",
            "                                                                 \n",
            " dense (Dense)               (None, 1)                 2         \n",
            "                                                                 \n",
            " dropout (Dropout)           (None, 1)                 0         \n",
            "                                                                 \n",
            " dense_1 (Dense)             (None, 1)                 2         \n",
            "                                                                 \n",
            "=================================================================\n",
            "Total params: 16\n",
            "Trainable params: 16\n",
            "Non-trainable params: 0\n",
            "_________________________________________________________________\n"
          ]
        }
      ]
    },
    {
      "cell_type": "code",
      "source": [
        "# make predictions\n",
        "Predict = model.predict(test)"
      ],
      "metadata": {
        "id": "nWWWg4nz0koW",
        "colab": {
          "base_uri": "https://localhost:8080/"
        },
        "outputId": "e2e2594d-c5ef-4e18-c137-5f301d22394d"
      },
      "id": "nWWWg4nz0koW",
      "execution_count": null,
      "outputs": [
        {
          "output_type": "stream",
          "name": "stdout",
          "text": [
            "WARNING:tensorflow:Model was constructed with shape (None, 100, 1) for input KerasTensor(type_spec=TensorSpec(shape=(None, 100, 1), dtype=tf.float32, name='lstm_input'), name='lstm_input', description=\"created by layer 'lstm_input'\"), but it was called on an input with incompatible shape (32, 1, 1).\n"
          ]
        }
      ]
    },
    {
      "cell_type": "code",
      "source": [
        "import math\n",
        "# calculate root mean squared error\n",
        "Score = math.sqrt(mean_squared_error(test, Predict))\n",
        "print('Train Score: %.2f RMSE' % (Score))"
      ],
      "metadata": {
        "id": "sSnt_Hxi0mMl",
        "colab": {
          "base_uri": "https://localhost:8080/"
        },
        "outputId": "165a3f4b-96c4-4760-de4e-fbc692baca02"
      },
      "id": "sSnt_Hxi0mMl",
      "execution_count": null,
      "outputs": [
        {
          "output_type": "stream",
          "name": "stdout",
          "text": [
            "Train Score: 9.34 RMSE\n"
          ]
        }
      ]
    },
    {
      "cell_type": "code",
      "source": [
        "print('MAPE:',mean_absolute_percentage_error(test, Predict))"
      ],
      "metadata": {
        "id": "i8ERKo5S0nkF",
        "colab": {
          "base_uri": "https://localhost:8080/"
        },
        "outputId": "4e493018-6986-46a4-ae26-82158e768674"
      },
      "id": "i8ERKo5S0nkF",
      "execution_count": null,
      "outputs": [
        {
          "output_type": "stream",
          "name": "stdout",
          "text": [
            "MAPE: 41.139566830681076\n"
          ]
        }
      ]
    },
    {
      "cell_type": "code",
      "source": [
        "print('MAE:', MAE(test, Predict))"
      ],
      "metadata": {
        "id": "-3E212mY0o0W",
        "colab": {
          "base_uri": "https://localhost:8080/"
        },
        "outputId": "342748f8-99a3-4896-bf1c-c57894cc8a50"
      },
      "id": "-3E212mY0o0W",
      "execution_count": null,
      "outputs": [
        {
          "output_type": "stream",
          "name": "stdout",
          "text": [
            "MAE: 9.343358097564254\n"
          ]
        }
      ]
    },
    {
      "cell_type": "markdown",
      "source": [
        "RF"
      ],
      "metadata": {
        "id": "cQL4P_SLXAoB"
      },
      "id": "cQL4P_SLXAoB"
    },
    {
      "cell_type": "code",
      "source": [
        "rf= RandomForestRegressor(n_estimators=30, verbose=2, random_state=42, n_jobs = -1)"
      ],
      "metadata": {
        "id": "s9uDOmjIW_g7"
      },
      "id": "s9uDOmjIW_g7",
      "execution_count": null,
      "outputs": []
    },
    {
      "cell_type": "code",
      "source": [
        "rf.get_params()"
      ],
      "metadata": {
        "colab": {
          "base_uri": "https://localhost:8080/"
        },
        "id": "tuRbwYpCXEnJ",
        "outputId": "1e2eb8cc-89bf-421f-b3ce-b2e53c05f361"
      },
      "id": "tuRbwYpCXEnJ",
      "execution_count": null,
      "outputs": [
        {
          "output_type": "execute_result",
          "data": {
            "text/plain": [
              "{'bootstrap': True,\n",
              " 'ccp_alpha': 0.0,\n",
              " 'criterion': 'squared_error',\n",
              " 'max_depth': None,\n",
              " 'max_features': 'auto',\n",
              " 'max_leaf_nodes': None,\n",
              " 'max_samples': None,\n",
              " 'min_impurity_decrease': 0.0,\n",
              " 'min_samples_leaf': 1,\n",
              " 'min_samples_split': 2,\n",
              " 'min_weight_fraction_leaf': 0.0,\n",
              " 'n_estimators': 30,\n",
              " 'n_jobs': -1,\n",
              " 'oob_score': False,\n",
              " 'random_state': 42,\n",
              " 'verbose': 2,\n",
              " 'warm_start': False}"
            ]
          },
          "metadata": {},
          "execution_count": 84
        }
      ]
    },
    {
      "cell_type": "code",
      "source": [
        "#X_train, X_train.shape"
      ],
      "metadata": {
        "id": "TEq6iahqN_k9"
      },
      "id": "TEq6iahqN_k9",
      "execution_count": null,
      "outputs": []
    },
    {
      "cell_type": "code",
      "source": [
        "#y_train, y_train.shape"
      ],
      "metadata": {
        "id": "ozYwhvgfOCXF"
      },
      "id": "ozYwhvgfOCXF",
      "execution_count": null,
      "outputs": []
    },
    {
      "cell_type": "code",
      "source": [
        "#Reshape the data\n",
        "#dimX1, dimX2, dimX3 = np.array(X_train).shape\n",
        "#X_train = np.reshape(np.array(X_train), (dimX1*dimX3, dimX2))\n",
        "#X_train = X_train.reshape(X_train.shape[1:])\n",
        "#X_train = X_train.transpose()\n",
        "#X_train.shape"
      ],
      "metadata": {
        "colab": {
          "base_uri": "https://localhost:8080/",
          "height": 235
        },
        "id": "af9uXHwpXSQp",
        "outputId": "b51b82e6-090d-49f1-ec47-24a7cd7a671a"
      },
      "id": "af9uXHwpXSQp",
      "execution_count": null,
      "outputs": [
        {
          "output_type": "error",
          "ename": "ValueError",
          "evalue": "ignored",
          "traceback": [
            "\u001b[0;31m---------------------------------------------------------------------------\u001b[0m",
            "\u001b[0;31mValueError\u001b[0m                                Traceback (most recent call last)",
            "\u001b[0;32m<ipython-input-124-5e59290daa08>\u001b[0m in \u001b[0;36m<module>\u001b[0;34m()\u001b[0m\n\u001b[1;32m      1\u001b[0m \u001b[0;31m#Reshape the data\u001b[0m\u001b[0;34m\u001b[0m\u001b[0;34m\u001b[0m\u001b[0;34m\u001b[0m\u001b[0m\n\u001b[0;32m----> 2\u001b[0;31m \u001b[0mdimX1\u001b[0m\u001b[0;34m,\u001b[0m \u001b[0mdimX2\u001b[0m\u001b[0;34m,\u001b[0m \u001b[0mdimX3\u001b[0m \u001b[0;34m=\u001b[0m \u001b[0mnp\u001b[0m\u001b[0;34m.\u001b[0m\u001b[0marray\u001b[0m\u001b[0;34m(\u001b[0m\u001b[0mX_train\u001b[0m\u001b[0;34m)\u001b[0m\u001b[0;34m.\u001b[0m\u001b[0mshape\u001b[0m\u001b[0;34m\u001b[0m\u001b[0;34m\u001b[0m\u001b[0m\n\u001b[0m\u001b[1;32m      3\u001b[0m \u001b[0mX_train\u001b[0m \u001b[0;34m=\u001b[0m \u001b[0mnp\u001b[0m\u001b[0;34m.\u001b[0m\u001b[0mreshape\u001b[0m\u001b[0;34m(\u001b[0m\u001b[0mnp\u001b[0m\u001b[0;34m.\u001b[0m\u001b[0marray\u001b[0m\u001b[0;34m(\u001b[0m\u001b[0mX_train\u001b[0m\u001b[0;34m)\u001b[0m\u001b[0;34m,\u001b[0m \u001b[0;34m(\u001b[0m\u001b[0mdimX1\u001b[0m\u001b[0;34m*\u001b[0m\u001b[0mdimX3\u001b[0m\u001b[0;34m,\u001b[0m \u001b[0mdimX2\u001b[0m\u001b[0;34m)\u001b[0m\u001b[0;34m)\u001b[0m\u001b[0;34m\u001b[0m\u001b[0;34m\u001b[0m\u001b[0m\n\u001b[1;32m      4\u001b[0m \u001b[0;31m#X_train = X_train.reshape(X_train.shape[1:])\u001b[0m\u001b[0;34m\u001b[0m\u001b[0;34m\u001b[0m\u001b[0;34m\u001b[0m\u001b[0m\n\u001b[1;32m      5\u001b[0m \u001b[0;31m#X_train = X_train.transpose()\u001b[0m\u001b[0;34m\u001b[0m\u001b[0;34m\u001b[0m\u001b[0;34m\u001b[0m\u001b[0m\n",
            "\u001b[0;31mValueError\u001b[0m: not enough values to unpack (expected 3, got 2)"
          ]
        }
      ]
    },
    {
      "cell_type": "code",
      "source": [
        "#X_train"
      ],
      "metadata": {
        "colab": {
          "base_uri": "https://localhost:8080/"
        },
        "id": "c5FUh4zTPMka",
        "outputId": "a2bcaf5b-dd50-426b-fbee-df900ed8e9c6"
      },
      "id": "c5FUh4zTPMka",
      "execution_count": null,
      "outputs": [
        {
          "output_type": "execute_result",
          "data": {
            "text/plain": [
              "array([[21.19, 21.37, 22.17, ..., 27.19, 22.96, 28.62],\n",
              "       [21.37, 22.17, 22.7 , ..., 22.96, 28.62, 18.58],\n",
              "       [22.17, 22.7 , 21.82, ..., 28.62, 18.58, 19.38],\n",
              "       ...,\n",
              "       [18.75, 17.32, 17.7 , ..., 22.2 , 20.26, 20.11],\n",
              "       [17.32, 17.7 , 17.18, ..., 20.26, 20.11, 19.22],\n",
              "       [17.7 , 17.18, 17.84, ..., 20.11, 19.22, 18.19]])"
            ]
          },
          "metadata": {},
          "execution_count": 118
        }
      ]
    },
    {
      "cell_type": "code",
      "source": [
        "#X_train = X_train.reshape(X_train.shape[1:])\n",
        "#X_train = X_train.transpose()"
      ],
      "metadata": {
        "id": "VszHS8DePVmC"
      },
      "id": "VszHS8DePVmC",
      "execution_count": null,
      "outputs": []
    },
    {
      "cell_type": "code",
      "source": [
        "#X_train"
      ],
      "metadata": {
        "colab": {
          "base_uri": "https://localhost:8080/"
        },
        "id": "IeTGn1kOPcK-",
        "outputId": "36cc76d3-6a30-4131-c80a-02d123170152"
      },
      "id": "IeTGn1kOPcK-",
      "execution_count": null,
      "outputs": [
        {
          "output_type": "execute_result",
          "data": {
            "text/plain": [
              "array([[21.19, 21.37, 22.17, ..., 18.75, 17.32, 17.7 ],\n",
              "       [21.37, 22.17, 22.7 , ..., 17.32, 17.7 , 17.18],\n",
              "       [22.17, 22.7 , 21.82, ..., 17.7 , 17.18, 17.84],\n",
              "       ...,\n",
              "       [27.19, 22.96, 28.62, ..., 22.2 , 20.26, 20.11],\n",
              "       [22.96, 28.62, 18.58, ..., 20.26, 20.11, 19.22],\n",
              "       [28.62, 18.58, 19.38, ..., 20.11, 19.22, 18.19]])"
            ]
          },
          "metadata": {},
          "execution_count": 121
        }
      ]
    },
    {
      "cell_type": "code",
      "source": [
        "\n",
        "#dimy1, dimy2, dimy3 = np.array(y_train).shape\n",
        "#y_train = np.reshape(np.array(y_train),  (dimy1*dimy2, dimy3 ))"
      ],
      "metadata": {
        "colab": {
          "base_uri": "https://localhost:8080/",
          "height": 200
        },
        "id": "84kcuOW0MxXe",
        "outputId": "20d3e6e2-8027-48b7-9cf4-34094452c3b2"
      },
      "id": "84kcuOW0MxXe",
      "execution_count": null,
      "outputs": [
        {
          "output_type": "error",
          "ename": "ValueError",
          "evalue": "ignored",
          "traceback": [
            "\u001b[0;31m---------------------------------------------------------------------------\u001b[0m",
            "\u001b[0;31mValueError\u001b[0m                                Traceback (most recent call last)",
            "\u001b[0;32m<ipython-input-94-9523bc98eeab>\u001b[0m in \u001b[0;36m<module>\u001b[0;34m()\u001b[0m\n\u001b[1;32m      1\u001b[0m \u001b[0;34m\u001b[0m\u001b[0m\n\u001b[0;32m----> 2\u001b[0;31m \u001b[0mdimy1\u001b[0m\u001b[0;34m,\u001b[0m \u001b[0mdimy2\u001b[0m\u001b[0;34m,\u001b[0m \u001b[0mdimy3\u001b[0m \u001b[0;34m=\u001b[0m \u001b[0mnp\u001b[0m\u001b[0;34m.\u001b[0m\u001b[0marray\u001b[0m\u001b[0;34m(\u001b[0m\u001b[0my_train\u001b[0m\u001b[0;34m)\u001b[0m\u001b[0;34m.\u001b[0m\u001b[0mshape\u001b[0m\u001b[0;34m\u001b[0m\u001b[0;34m\u001b[0m\u001b[0m\n\u001b[0m\u001b[1;32m      3\u001b[0m \u001b[0my_train\u001b[0m \u001b[0;34m=\u001b[0m \u001b[0mnp\u001b[0m\u001b[0;34m.\u001b[0m\u001b[0mreshape\u001b[0m\u001b[0;34m(\u001b[0m\u001b[0mnp\u001b[0m\u001b[0;34m.\u001b[0m\u001b[0marray\u001b[0m\u001b[0;34m(\u001b[0m\u001b[0my_train\u001b[0m\u001b[0;34m)\u001b[0m\u001b[0;34m,\u001b[0m  \u001b[0;34m(\u001b[0m\u001b[0mdimy1\u001b[0m\u001b[0;34m*\u001b[0m\u001b[0mdimy2\u001b[0m\u001b[0;34m,\u001b[0m \u001b[0mdimy3\u001b[0m \u001b[0;34m)\u001b[0m\u001b[0;34m)\u001b[0m\u001b[0;34m\u001b[0m\u001b[0;34m\u001b[0m\u001b[0m\n",
            "\u001b[0;31mValueError\u001b[0m: not enough values to unpack (expected 3, got 1)"
          ]
        }
      ]
    },
    {
      "cell_type": "code",
      "source": [
        "#print(X_train.shape, y_train.shape)"
      ],
      "metadata": {
        "colab": {
          "base_uri": "https://localhost:8080/"
        },
        "id": "awE5la1pNBf3",
        "outputId": "8993c204-1a04-4019-bfc3-129ce641d1cb"
      },
      "id": "awE5la1pNBf3",
      "execution_count": null,
      "outputs": [
        {
          "output_type": "stream",
          "name": "stdout",
          "text": [
            "(100, 8036) (8036,)\n"
          ]
        }
      ]
    },
    {
      "cell_type": "code",
      "source": [
        "rf = rf.fit(X_train, y_train)"
      ],
      "metadata": {
        "colab": {
          "base_uri": "https://localhost:8080/"
        },
        "id": "D9gbjTW9XITa",
        "outputId": "e5e92a48-4d83-446f-b954-f91e1a843fe8"
      },
      "id": "D9gbjTW9XITa",
      "execution_count": null,
      "outputs": [
        {
          "output_type": "stream",
          "name": "stdout",
          "text": [
            "building tree 1 of 30\n",
            "building tree 2 of 30\n"
          ]
        },
        {
          "output_type": "stream",
          "name": "stderr",
          "text": [
            "[Parallel(n_jobs=-1)]: Using backend ThreadingBackend with 2 concurrent workers.\n"
          ]
        },
        {
          "output_type": "stream",
          "name": "stdout",
          "text": [
            "building tree 3 of 30\n",
            "building tree 4 of 30\n",
            "building tree 5 of 30\n",
            "building tree 6 of 30\n",
            "building tree 7 of 30\n",
            "building tree 8 of 30\n",
            "building tree 9 of 30\n",
            "building tree 10 of 30\n",
            "building tree 11 of 30\n",
            "building tree 12 of 30\n",
            "building tree 13 of 30\n",
            "building tree 14 of 30\n",
            "building tree 15 of 30\n",
            "building tree 16 of 30\n",
            "building tree 17 of 30\n",
            "building tree 18 of 30\n",
            "building tree 19 of 30\n",
            "building tree 20 of 30\n",
            "building tree 21 of 30\n",
            "building tree 22 of 30\n",
            "building tree 23 of 30\n",
            "building tree 24 of 30\n",
            "building tree 25 of 30\n",
            "building tree 26 of 30\n",
            "building tree 27 of 30\n",
            "building tree 28 of 30\n",
            "building tree 29 of 30\n",
            "building tree 30 of 30\n"
          ]
        },
        {
          "output_type": "stream",
          "name": "stderr",
          "text": [
            "[Parallel(n_jobs=-1)]: Done  30 out of  30 | elapsed:   14.6s finished\n"
          ]
        }
      ]
    },
    {
      "cell_type": "code",
      "source": [
        "rf.score(X_train, y_train)"
      ],
      "metadata": {
        "id": "oppfkaZ4XXA0",
        "colab": {
          "base_uri": "https://localhost:8080/"
        },
        "outputId": "6ba5f567-8530-4aa6-fbc5-12621a4b4f06"
      },
      "id": "oppfkaZ4XXA0",
      "execution_count": null,
      "outputs": [
        {
          "output_type": "stream",
          "name": "stderr",
          "text": [
            "[Parallel(n_jobs=2)]: Using backend ThreadingBackend with 2 concurrent workers.\n",
            "[Parallel(n_jobs=2)]: Done  30 out of  30 | elapsed:    0.0s finished\n"
          ]
        },
        {
          "output_type": "execute_result",
          "data": {
            "text/plain": [
              "0.9937273814182833"
            ]
          },
          "metadata": {},
          "execution_count": 88
        }
      ]
    },
    {
      "cell_type": "code",
      "source": [
        "rf.score(X_test[:2332], y_test[:2332])"
      ],
      "metadata": {
        "id": "urYCBJGwXZF6",
        "colab": {
          "base_uri": "https://localhost:8080/"
        },
        "outputId": "a851617a-3011-4462-8e43-4078b4346bf2"
      },
      "id": "urYCBJGwXZF6",
      "execution_count": null,
      "outputs": [
        {
          "output_type": "stream",
          "name": "stderr",
          "text": [
            "[Parallel(n_jobs=2)]: Using backend ThreadingBackend with 2 concurrent workers.\n",
            "[Parallel(n_jobs=2)]: Done  30 out of  30 | elapsed:    0.0s finished\n"
          ]
        },
        {
          "output_type": "execute_result",
          "data": {
            "text/plain": [
              "0.9907167266101522"
            ]
          },
          "metadata": {},
          "execution_count": 89
        }
      ]
    },
    {
      "cell_type": "code",
      "source": [
        "predicted= rf.predict(X_test)\n",
        "\n",
        "predicted"
      ],
      "metadata": {
        "id": "O1qEOhz9XcId",
        "colab": {
          "base_uri": "https://localhost:8080/"
        },
        "outputId": "6b30c859-581b-4778-b574-fc69649643e7"
      },
      "id": "O1qEOhz9XcId",
      "execution_count": null,
      "outputs": [
        {
          "output_type": "stream",
          "name": "stderr",
          "text": [
            "[Parallel(n_jobs=2)]: Using backend ThreadingBackend with 2 concurrent workers.\n",
            "[Parallel(n_jobs=2)]: Done  30 out of  30 | elapsed:    0.0s finished\n"
          ]
        },
        {
          "output_type": "execute_result",
          "data": {
            "text/plain": [
              "array([22.36133333, 19.43066667, 19.20366667, ..., 19.548     ,\n",
              "       19.03      , 17.651     ])"
            ]
          },
          "metadata": {},
          "execution_count": 90
        }
      ]
    },
    {
      "cell_type": "code",
      "source": [
        "# Visualising the results\n",
        "plt.figure(figsize=(16,6))\n",
        "plt.plot(test.values, color = 'red', label = 'Observed')\n",
        "plt.plot(predicted, color = 'green', label = 'predicted')\n",
        "plt.title('Observed  vs predicted using Random Forest ')\n",
        "plt.xlabel('Duration')\n",
        "plt.ylabel('Price')\n",
        "plt.legend()\n",
        "plt.show()"
      ],
      "metadata": {
        "id": "i_-bdAxDXdsa",
        "colab": {
          "base_uri": "https://localhost:8080/",
          "height": 363
        },
        "outputId": "059954e0-a7fc-4fff-bf45-0543823e85da"
      },
      "id": "i_-bdAxDXdsa",
      "execution_count": null,
      "outputs": [
        {
          "output_type": "display_data",
          "data": {
            "text/plain": [
              "<Figure size 1152x432 with 1 Axes>"
            ],
            "image/png": "[encoded data removed]"
          },
          "metadata": {
            "needs_background": "light"
          }
        }
      ]
    },
    {
      "cell_type": "markdown",
      "source": [
        "SVM"
      ],
      "metadata": {
        "id": "zMK1Ptl2XhGb"
      },
      "id": "zMK1Ptl2XhGb"
    },
    {
      "cell_type": "code",
      "source": [
        "svr_linear = SVR(kernel='linear',C=0.5, gamma=5, epsilon=0.01)\n",
        "parameters = {'kernel':('linear', 'rbf'), 'C':[1, 10]}\n",
        "SVM = GridSearchCV(svr_linear, parameters)"
      ],
      "metadata": {
        "id": "PE3Vgl1ZXiGa"
      },
      "id": "PE3Vgl1ZXiGa",
      "execution_count": null,
      "outputs": []
    },
    {
      "cell_type": "code",
      "source": [
        "SVM.fit(X_train,y_train).predict(X_train)"
      ],
      "metadata": {
        "id": "n-THGynEX9VT"
      },
      "id": "n-THGynEX9VT",
      "execution_count": null,
      "outputs": []
    },
    {
      "cell_type": "code",
      "source": [
        "SVM.score(X_train, y_train)"
      ],
      "metadata": {
        "id": "JtCwwPe8X-53"
      },
      "id": "JtCwwPe8X-53",
      "execution_count": null,
      "outputs": []
    },
    {
      "cell_type": "code",
      "source": [
        "SVm.score(X_test[:2332], y_test[:2332])"
      ],
      "metadata": {
        "id": "uo3ChpyFYA8O"
      },
      "id": "uo3ChpyFYA8O",
      "execution_count": null,
      "outputs": []
    },
    {
      "cell_type": "code",
      "source": [
        "predicted_SVM = clf1.predict(X_train)"
      ],
      "metadata": {
        "id": "hlk0SvpWYDOu"
      },
      "id": "hlk0SvpWYDOu",
      "execution_count": null,
      "outputs": []
    },
    {
      "cell_type": "code",
      "source": [
        "# Visualising the results\n",
        "plt.figure(figsize=(16,6))\n",
        "plt.plot(train.values, color = 'red', label = 'Observed')\n",
        "plt.plot(predicted_SVM, color = 'green', label = 'predicted')\n",
        "plt.title('Observed  vs predicted using SVM ')\n",
        "plt.xlabel('Duration')\n",
        "plt.ylabel('Price')\n",
        "plt.legend()\n",
        "plt.show()"
      ],
      "metadata": {
        "id": "b9TYzrpfYE-m"
      },
      "id": "b9TYzrpfYE-m",
      "execution_count": null,
      "outputs": []
    },
    {
      "cell_type": "markdown",
      "source": [
        "SVM Model with RBF Kernel"
      ],
      "metadata": {
        "id": "XzEWI39a96mP"
      },
      "id": "XzEWI39a96mP"
    },
    {
      "cell_type": "code",
      "source": [
        "# SVM Model with RBF Kernel \n",
        "clf = SVR(kernel='rbf') \n",
        "clf.fit(X_train, y_train) "
      ],
      "metadata": {
        "id": "Dqz6COK59-nf"
      },
      "id": "Dqz6COK59-nf",
      "execution_count": null,
      "outputs": []
    },
    {
      "cell_type": "code",
      "source": [
        "y_pred = clf.predict(X_test)\n",
        "\n",
        "print('Accuracy Score: {:.4f}'.format(clf.score(X_train, y_train)))"
      ],
      "metadata": {
        "id": "98LzH5k1-Ar2"
      },
      "id": "98LzH5k1-Ar2",
      "execution_count": null,
      "outputs": []
    },
    {
      "cell_type": "markdown",
      "source": [
        "CNN as descriminator"
      ],
      "metadata": {
        "id": "CR5iFudn-HXe"
      },
      "id": "CR5iFudn-HXe"
    },
    {
      "cell_type": "code",
      "source": [
        "x_train =  X_train.reshape(len(X_train), 10*10).astype('float32') \n",
        "x_test =  X_test.reshape(len(X_test), 10*10).astype('float32') "
      ],
      "metadata": {
        "id": "oygyyUMl-EoW"
      },
      "id": "oygyyUMl-EoW",
      "execution_count": null,
      "outputs": []
    },
    {
      "cell_type": "code",
      "source": [
        "x_train /= 255\n",
        "x_test /= 255"
      ],
      "metadata": {
        "id": "wrSaLQBL-LdH"
      },
      "id": "wrSaLQBL-LdH",
      "execution_count": null,
      "outputs": []
    },
    {
      "cell_type": "code",
      "source": [
        "# Data is currently flattened, we need to reshape it back to 10 * 10. To do that we reshape the data.\n",
        "\n",
        "x_train = np.reshape(x_train, [-1, 10, 10])\n",
        "\n",
        "x_test = np.reshape(x_test, [-1, 10, 10])"
      ],
      "metadata": {
        "id": "XLNCn2if-NiJ"
      },
      "id": "XLNCn2if-NiJ",
      "execution_count": null,
      "outputs": []
    },
    {
      "cell_type": "code",
      "source": [
        "# model_2 requires input of 32 X 32. So we will pad the train and test images with zeros to increase the size to 32 X 32.\n",
        "\n",
        "x_train=np.pad(x_train, ((0,0), (11,11), (11, 11)), 'constant')\n",
        "\n",
        "x_test=np.pad(x_test, ((0,0), (11,11), (11, 11)), 'constant')"
      ],
      "metadata": {
        "id": "3_RDMW-y-Qt2"
      },
      "id": "3_RDMW-y-Qt2",
      "execution_count": null,
      "outputs": []
    },
    {
      "cell_type": "code",
      "source": [
        "x_train.shape\n",
        "\n",
        "x_test.shape"
      ],
      "metadata": {
        "id": "5HGsvRkn-U0H"
      },
      "id": "5HGsvRkn-U0H",
      "execution_count": null,
      "outputs": []
    },
    {
      "cell_type": "code",
      "source": [
        "# Convolutional model requires input to be of 3 dimensions. We will add a channel dimension to it.\n",
        "\n",
        "x_train = np.reshape(x_train, [-1, 32, 32, 1])\n",
        "\n",
        "x_test = np.reshape(x_test, [-1, 32, 32, 1])"
      ],
      "metadata": {
        "id": "LK3o1QKZ-Xzv"
      },
      "id": "LK3o1QKZ-Xzv",
      "execution_count": null,
      "outputs": []
    },
    {
      "cell_type": "code",
      "source": [
        "# convert class labels to one-hot vectors\n",
        "num_classes = 10\n",
        "y_train = keras.utils.np_utils.to_categorical(y_train, num_classes)"
      ],
      "metadata": {
        "id": "CyHnRD3e-b0W"
      },
      "id": "CyHnRD3e-b0W",
      "execution_count": null,
      "outputs": []
    },
    {
      "cell_type": "code",
      "source": [
        "# define model\n",
        "model = Sequential()\n",
        "model.add(Conv1D(filters=64, kernel_size=2, activation='relu', input_shape=(32,32,1)))\n",
        "model.add(Flatten())\n",
        "model.add(Dense(50, activation='relu'))\n",
        "model.add(Dense(1))\n",
        "model.compile(optimizer='adam', loss='mse')"
      ],
      "metadata": {
        "id": "iA81JvVN-c52"
      },
      "id": "iA81JvVN-c52",
      "execution_count": null,
      "outputs": []
    },
    {
      "cell_type": "code",
      "source": [
        "model.summary()"
      ],
      "metadata": {
        "id": "_Qe4GUIG-ibC"
      },
      "id": "_Qe4GUIG-ibC",
      "execution_count": null,
      "outputs": []
    },
    {
      "cell_type": "code",
      "source": [
        "# fit model\n",
        "\n",
        "batch_size = 128  # mini-batch with 128 examples\n",
        "epochs = 30\n",
        "history = model.fit(\n",
        "    x_train, y_train,\n",
        "    batch_size=batch_size,\n",
        "    epochs=epochs,\n",
        "    verbose=1,\n",
        "    validation_data=(x_test, y_test))"
      ],
      "metadata": {
        "id": "9QiHGU7d-koP"
      },
      "id": "9QiHGU7d-koP",
      "execution_count": null,
      "outputs": []
    },
    {
      "cell_type": "code",
      "source": [
        "yhat = model.predict(x_test, verbose=1)"
      ],
      "metadata": {
        "id": "_BIHMHW--osn"
      },
      "id": "_BIHMHW--osn",
      "execution_count": null,
      "outputs": []
    },
    {
      "cell_type": "code",
      "source": [
        "def plot_loss_accuracy(history):\n",
        "    fig = plt.figure(figsize=(12, 6))\n",
        "    ax = fig.add_subplot(1, 2, 1)\n",
        "    ax.plot(history.history[\"loss\"],'r-x', label=\"Train Loss\")\n",
        "    ax.plot(history.history[\"val_loss\"],'b-x', label=\"Validation Loss\")\n",
        "    ax.legend()\n",
        "    ax.set_title('cross_entropy loss')\n",
        "    ax.grid(True)\n",
        "    \n",
        "plot_loss_accuracy(history)"
      ],
      "metadata": {
        "id": "M7BSGxGO-q8Q"
      },
      "id": "M7BSGxGO-q8Q",
      "execution_count": null,
      "outputs": []
    },
    {
      "cell_type": "code",
      "source": [
        "# calculate root mean squared error\n",
        "Score = math.sqrt(mean_squared_error(final_data[:8006], yhat))\n",
        "print('Train Score: %.2f RMSE' % (Score))"
      ],
      "metadata": {
        "id": "wh65USLD-tXn"
      },
      "id": "wh65USLD-tXn",
      "execution_count": null,
      "outputs": []
    },
    {
      "cell_type": "code",
      "source": [
        "print('MAPE:',mean_absolute_percentage_error(final_data[:8006], yhat))"
      ],
      "metadata": {
        "id": "EFCkdHva-vt_"
      },
      "id": "EFCkdHva-vt_",
      "execution_count": null,
      "outputs": []
    },
    {
      "cell_type": "code",
      "source": [
        "print('MAE:', MAE(final_data[:8006], yhat))"
      ],
      "metadata": {
        "id": "x2_O0qsW-yG5"
      },
      "id": "x2_O0qsW-yG5",
      "execution_count": null,
      "outputs": []
    },
    {
      "cell_type": "code",
      "source": [
        "## We will use Keras evaluate function to evaluate performance on the test set\n",
        "\n",
        "score = model.evaluate(x_test, y_test, verbose=0)\n",
        "print('Test loss:', score)"
      ],
      "metadata": {
        "id": "nqWtMSdu-0zK"
      },
      "id": "nqWtMSdu-0zK",
      "execution_count": null,
      "outputs": []
    }
  ],
  "metadata": {
    "kernelspec": {
      "display_name": "Python 3",
      "language": "python",
      "name": "python3"
    },
    "language_info": {
      "codemirror_mode": {
        "name": "ipython",
        "version": 3
      },
      "file_extension": ".py",
      "mimetype": "text/x-python",
      "name": "python",
      "nbconvert_exporter": "python",
      "pygments_lexer": "ipython3",
      "version": "3.8.8"
    },
    "colab": {
      "name": "ARIMA_LSTM_RL[1].ipynb",
      "provenance": [],
      "collapsed_sections": [],
      "include_colab_link": true
    },
    "accelerator": "TPU"
  },
  "nbformat": 4,
  "nbformat_minor": 5
}