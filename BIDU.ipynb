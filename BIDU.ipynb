{
  "nbformat": 4,
  "nbformat_minor": 0,
  "metadata": {
    "colab": {
      "name": "Copy of Untitled0.ipynb",
      "provenance": [],
      "authorship_tag": "ABX9TyOFPIevAJpyDPDm8C9F7+ab",
      "include_colab_link": true
    },
    "kernelspec": {
      "name": "python3",
      "display_name": "Python 3"
    },
    "language_info": {
      "name": "python"
    }
  },
  "cells": [
    {
      "cell_type": "markdown",
      "metadata": {
        "id": "view-in-github",
        "colab_type": "text"
      },
      "source": [
        "<a href=\"https://colab.research.google.com/github/w1767/w1767/blob/main/BIDU.ipynb\" target=\"_parent\"><img src=\"https://colab.research.google.com/assets/colab-badge.svg\" alt=\"Open In Colab\"/></a>"
      ]
    },
    {
      "cell_type": "code",
      "metadata": {
        "id": "jF-rA78EBttL"
      },
      "source": [
        "# Description: this program uses an aritificial recurrent neural network called Long Short Term Memory (LSTM) to predict\n",
        "# the closing stock price of a corporation (BIDU Inc.) using the past 60 day stock price. "
      ],
      "execution_count": null,
      "outputs": []
    },
    {
      "cell_type": "code",
      "metadata": {
        "id": "wpTDFiYaHooV"
      },
      "source": [
        ""
      ],
      "execution_count": null,
      "outputs": []
    },
    {
      "cell_type": "code",
      "metadata": {
        "id": "4t9te_ZzCKmA",
        "colab": {
          "base_uri": "https://localhost:8080/"
        },
        "outputId": "10aba202-23bb-4d62-8ca0-4e4a113af83c"
      },
      "source": [
        "# Import the libraries\n",
        "!pip install pandas_datareader\n",
        "!pip install yfinance\n",
        "!pip install mplfinance\n",
        "import os\n",
        "import argparse\n",
        "import signal\n",
        "import yfinance as yf\n",
        "import pickle\n",
        "import mplfinance as mpf\n",
        "import math\n",
        "import pandas_datareader.data as web\n",
        "from datetime import datetime, timedelta\n",
        "import numpy as np\n",
        "import pandas as pd\n",
        "from sklearn.preprocessing import MinMaxScaler\n",
        "from keras.models import Sequential\n",
        "from keras.layers import Dense, LSTM\n",
        "#from yfinance import stock_info\n",
        "from dateutil.parser import parse\n",
        "from urllib.request import urlopen, Request\n",
        "from bs4 import BeautifulSoup\n",
        "import matplotlib.pyplot as plt\n",
        "plt.style.use('fivethirtyeight')\n",
        "start_date = datetime(2020, 1,1)\n",
        "end_date = datetime(2021, 8, 2)\n"
      ],
      "execution_count": null,
      "outputs": [
        {
          "output_type": "stream",
          "text": [
            "Requirement already satisfied: pandas_datareader in /usr/local/lib/python3.7/dist-packages (0.9.0)\n",
            "Requirement already satisfied: pandas>=0.23 in /usr/local/lib/python3.7/dist-packages (from pandas_datareader) (1.1.5)\n",
            "Requirement already satisfied: lxml in /usr/local/lib/python3.7/dist-packages (from pandas_datareader) (4.6.3)\n",
            "Requirement already satisfied: requests>=2.19.0 in /usr/local/lib/python3.7/dist-packages (from pandas_datareader) (2.23.0)\n",
            "Requirement already satisfied: numpy>=1.15.4 in /usr/local/lib/python3.7/dist-packages (from pandas>=0.23->pandas_datareader) (1.19.5)\n",
            "Requirement already satisfied: pytz>=2017.2 in /usr/local/lib/python3.7/dist-packages (from pandas>=0.23->pandas_datareader) (2018.9)\n",
            "Requirement already satisfied: python-dateutil>=2.7.3 in /usr/local/lib/python3.7/dist-packages (from pandas>=0.23->pandas_datareader) (2.8.1)\n",
            "Requirement already satisfied: six>=1.5 in /usr/local/lib/python3.7/dist-packages (from python-dateutil>=2.7.3->pandas>=0.23->pandas_datareader) (1.15.0)\n",
            "Requirement already satisfied: idna<3,>=2.5 in /usr/local/lib/python3.7/dist-packages (from requests>=2.19.0->pandas_datareader) (2.10)\n",
            "Requirement already satisfied: chardet<4,>=3.0.2 in /usr/local/lib/python3.7/dist-packages (from requests>=2.19.0->pandas_datareader) (3.0.4)\n",
            "Requirement already satisfied: urllib3!=1.25.0,!=1.25.1,<1.26,>=1.21.1 in /usr/local/lib/python3.7/dist-packages (from requests>=2.19.0->pandas_datareader) (1.24.3)\n",
            "Requirement already satisfied: certifi>=2017.4.17 in /usr/local/lib/python3.7/dist-packages (from requests>=2.19.0->pandas_datareader) (2021.5.30)\n",
            "Requirement already satisfied: yfinance in /usr/local/lib/python3.7/dist-packages (0.1.63)\n",
            "Requirement already satisfied: lxml>=4.5.1 in /usr/local/lib/python3.7/dist-packages (from yfinance) (4.6.3)\n",
            "Requirement already satisfied: requests>=2.20 in /usr/local/lib/python3.7/dist-packages (from yfinance) (2.23.0)\n",
            "Requirement already satisfied: numpy>=1.15 in /usr/local/lib/python3.7/dist-packages (from yfinance) (1.19.5)\n",
            "Requirement already satisfied: pandas>=0.24 in /usr/local/lib/python3.7/dist-packages (from yfinance) (1.1.5)\n",
            "Requirement already satisfied: multitasking>=0.0.7 in /usr/local/lib/python3.7/dist-packages (from yfinance) (0.0.9)\n",
            "Requirement already satisfied: python-dateutil>=2.7.3 in /usr/local/lib/python3.7/dist-packages (from pandas>=0.24->yfinance) (2.8.1)\n",
            "Requirement already satisfied: pytz>=2017.2 in /usr/local/lib/python3.7/dist-packages (from pandas>=0.24->yfinance) (2018.9)\n",
            "Requirement already satisfied: six>=1.5 in /usr/local/lib/python3.7/dist-packages (from python-dateutil>=2.7.3->pandas>=0.24->yfinance) (1.15.0)\n",
            "Requirement already satisfied: urllib3!=1.25.0,!=1.25.1,<1.26,>=1.21.1 in /usr/local/lib/python3.7/dist-packages (from requests>=2.20->yfinance) (1.24.3)\n",
            "Requirement already satisfied: idna<3,>=2.5 in /usr/local/lib/python3.7/dist-packages (from requests>=2.20->yfinance) (2.10)\n",
            "Requirement already satisfied: chardet<4,>=3.0.2 in /usr/local/lib/python3.7/dist-packages (from requests>=2.20->yfinance) (3.0.4)\n",
            "Requirement already satisfied: certifi>=2017.4.17 in /usr/local/lib/python3.7/dist-packages (from requests>=2.20->yfinance) (2021.5.30)\n",
            "Requirement already satisfied: mplfinance in /usr/local/lib/python3.7/dist-packages (0.12.7a17)\n",
            "Requirement already satisfied: pandas in /usr/local/lib/python3.7/dist-packages (from mplfinance) (1.1.5)\n",
            "Requirement already satisfied: matplotlib in /usr/local/lib/python3.7/dist-packages (from mplfinance) (3.2.2)\n",
            "Requirement already satisfied: cycler>=0.10 in /usr/local/lib/python3.7/dist-packages (from matplotlib->mplfinance) (0.10.0)\n",
            "Requirement already satisfied: python-dateutil>=2.1 in /usr/local/lib/python3.7/dist-packages (from matplotlib->mplfinance) (2.8.1)\n",
            "Requirement already satisfied: pyparsing!=2.0.4,!=2.1.2,!=2.1.6,>=2.0.1 in /usr/local/lib/python3.7/dist-packages (from matplotlib->mplfinance) (2.4.7)\n",
            "Requirement already satisfied: numpy>=1.11 in /usr/local/lib/python3.7/dist-packages (from matplotlib->mplfinance) (1.19.5)\n",
            "Requirement already satisfied: kiwisolver>=1.0.1 in /usr/local/lib/python3.7/dist-packages (from matplotlib->mplfinance) (1.3.1)\n",
            "Requirement already satisfied: six in /usr/local/lib/python3.7/dist-packages (from cycler>=0.10->matplotlib->mplfinance) (1.15.0)\n",
            "Requirement already satisfied: pytz>=2017.2 in /usr/local/lib/python3.7/dist-packages (from pandas->mplfinance) (2018.9)\n"
          ],
          "name": "stdout"
        }
      ]
    },
    {
      "cell_type": "code",
      "metadata": {
        "colab": {
          "base_uri": "https://localhost:8080/",
          "height": 467
        },
        "id": "Tkat1PpYDTgp",
        "outputId": "07247d51-4f5d-4942-cdc1-79d7a6488c57"
      },
      "source": [
        "#Get the stock quote\n",
        "data = yf.download('BIDU', start=start_date, end=end_date)\n",
        "#df = web.DataReader('BIDU', data_source='yahoo',start='2012-01',end='2019-12-17')\n",
        "#show the data\n",
        "data.head(391)"
      ],
      "execution_count": null,
      "outputs": [
        {
          "output_type": "stream",
          "text": [
            "\r[*********************100%***********************]  1 of 1 completed\n"
          ],
          "name": "stdout"
        },
        {
          "output_type": "execute_result",
          "data": {
            "text/html": [
              "<div>\n",
              "<style scoped>\n",
              "    .dataframe tbody tr th:only-of-type {\n",
              "        vertical-align: middle;\n",
              "    }\n",
              "\n",
              "    .dataframe tbody tr th {\n",
              "        vertical-align: top;\n",
              "    }\n",
              "\n",
              "    .dataframe thead th {\n",
              "        text-align: right;\n",
              "    }\n",
              "</style>\n",
              "<table border=\"1\" class=\"dataframe\">\n",
              "  <thead>\n",
              "    <tr style=\"text-align: right;\">\n",
              "      <th></th>\n",
              "      <th>Open</th>\n",
              "      <th>High</th>\n",
              "      <th>Low</th>\n",
              "      <th>Close</th>\n",
              "      <th>Adj Close</th>\n",
              "      <th>Volume</th>\n",
              "    </tr>\n",
              "    <tr>\n",
              "      <th>Date</th>\n",
              "      <th></th>\n",
              "      <th></th>\n",
              "      <th></th>\n",
              "      <th></th>\n",
              "      <th></th>\n",
              "      <th></th>\n",
              "    </tr>\n",
              "  </thead>\n",
              "  <tbody>\n",
              "    <tr>\n",
              "      <th>2020-01-02</th>\n",
              "      <td>129.490005</td>\n",
              "      <td>138.639999</td>\n",
              "      <td>129.440002</td>\n",
              "      <td>138.220001</td>\n",
              "      <td>138.220001</td>\n",
              "      <td>8001400</td>\n",
              "    </tr>\n",
              "    <tr>\n",
              "      <th>2020-01-03</th>\n",
              "      <td>134.580002</td>\n",
              "      <td>137.160004</td>\n",
              "      <td>133.779999</td>\n",
              "      <td>133.800003</td>\n",
              "      <td>133.800003</td>\n",
              "      <td>5184800</td>\n",
              "    </tr>\n",
              "    <tr>\n",
              "      <th>2020-01-06</th>\n",
              "      <td>132.779999</td>\n",
              "      <td>136.740005</td>\n",
              "      <td>132.509995</td>\n",
              "      <td>135.940002</td>\n",
              "      <td>135.940002</td>\n",
              "      <td>3930700</td>\n",
              "    </tr>\n",
              "    <tr>\n",
              "      <th>2020-01-07</th>\n",
              "      <td>138.190002</td>\n",
              "      <td>139.470001</td>\n",
              "      <td>135.399994</td>\n",
              "      <td>136.699997</td>\n",
              "      <td>136.699997</td>\n",
              "      <td>4535800</td>\n",
              "    </tr>\n",
              "    <tr>\n",
              "      <th>2020-01-08</th>\n",
              "      <td>136.740005</td>\n",
              "      <td>139.169998</td>\n",
              "      <td>135.699997</td>\n",
              "      <td>137.830002</td>\n",
              "      <td>137.830002</td>\n",
              "      <td>3818900</td>\n",
              "    </tr>\n",
              "    <tr>\n",
              "      <th>...</th>\n",
              "      <td>...</td>\n",
              "      <td>...</td>\n",
              "      <td>...</td>\n",
              "      <td>...</td>\n",
              "      <td>...</td>\n",
              "      <td>...</td>\n",
              "    </tr>\n",
              "    <tr>\n",
              "      <th>2021-07-15</th>\n",
              "      <td>182.779999</td>\n",
              "      <td>186.289993</td>\n",
              "      <td>181.710007</td>\n",
              "      <td>185.520004</td>\n",
              "      <td>185.520004</td>\n",
              "      <td>3912200</td>\n",
              "    </tr>\n",
              "    <tr>\n",
              "      <th>2021-07-16</th>\n",
              "      <td>185.449997</td>\n",
              "      <td>185.500000</td>\n",
              "      <td>179.130005</td>\n",
              "      <td>179.580002</td>\n",
              "      <td>179.580002</td>\n",
              "      <td>3789900</td>\n",
              "    </tr>\n",
              "    <tr>\n",
              "      <th>2021-07-19</th>\n",
              "      <td>175.309998</td>\n",
              "      <td>177.550003</td>\n",
              "      <td>172.699997</td>\n",
              "      <td>176.449997</td>\n",
              "      <td>176.449997</td>\n",
              "      <td>3998500</td>\n",
              "    </tr>\n",
              "    <tr>\n",
              "      <th>2021-07-20</th>\n",
              "      <td>177.160004</td>\n",
              "      <td>178.970001</td>\n",
              "      <td>172.639999</td>\n",
              "      <td>177.889999</td>\n",
              "      <td>177.889999</td>\n",
              "      <td>3568500</td>\n",
              "    </tr>\n",
              "    <tr>\n",
              "      <th>2021-07-21</th>\n",
              "      <td>177.860001</td>\n",
              "      <td>181.300003</td>\n",
              "      <td>177.009995</td>\n",
              "      <td>180.509995</td>\n",
              "      <td>180.509995</td>\n",
              "      <td>2265700</td>\n",
              "    </tr>\n",
              "  </tbody>\n",
              "</table>\n",
              "<p>391 rows × 6 columns</p>\n",
              "</div>"
            ],
            "text/plain": [
              "                  Open        High         Low       Close   Adj Close   Volume\n",
              "Date                                                                           \n",
              "2020-01-02  129.490005  138.639999  129.440002  138.220001  138.220001  8001400\n",
              "2020-01-03  134.580002  137.160004  133.779999  133.800003  133.800003  5184800\n",
              "2020-01-06  132.779999  136.740005  132.509995  135.940002  135.940002  3930700\n",
              "2020-01-07  138.190002  139.470001  135.399994  136.699997  136.699997  4535800\n",
              "2020-01-08  136.740005  139.169998  135.699997  137.830002  137.830002  3818900\n",
              "...                ...         ...         ...         ...         ...      ...\n",
              "2021-07-15  182.779999  186.289993  181.710007  185.520004  185.520004  3912200\n",
              "2021-07-16  185.449997  185.500000  179.130005  179.580002  179.580002  3789900\n",
              "2021-07-19  175.309998  177.550003  172.699997  176.449997  176.449997  3998500\n",
              "2021-07-20  177.160004  178.970001  172.639999  177.889999  177.889999  3568500\n",
              "2021-07-21  177.860001  181.300003  177.009995  180.509995  180.509995  2265700\n",
              "\n",
              "[391 rows x 6 columns]"
            ]
          },
          "metadata": {
            "tags": []
          },
          "execution_count": 107
        }
      ]
    },
    {
      "cell_type": "code",
      "metadata": {
        "id": "iINONBjJCmEs"
      },
      "source": [
        ""
      ],
      "execution_count": null,
      "outputs": []
    },
    {
      "cell_type": "code",
      "metadata": {
        "colab": {
          "base_uri": "https://localhost:8080/"
        },
        "id": "-1NflEs4D4Bv",
        "outputId": "ad992b4a-a103-41fc-a9db-8b82d34894b1"
      },
      "source": [
        "#Get the number of rows and columns in the data set\n",
        "data.shape\n",
        "\n"
      ],
      "execution_count": null,
      "outputs": [
        {
          "output_type": "execute_result",
          "data": {
            "text/plain": [
              "(398, 6)"
            ]
          },
          "metadata": {
            "tags": []
          },
          "execution_count": 108
        }
      ]
    },
    {
      "cell_type": "code",
      "metadata": {
        "colab": {
          "base_uri": "https://localhost:8080/",
          "height": 523
        },
        "id": "nASYYE3wEFyH",
        "outputId": "2be32007-2c9e-4546-eac9-ac38acdb45a9"
      },
      "source": [
        "mpf.plot(data, type='candle', mav= (3,6,9), volume=True, show_nontrading=True)\n",
        "#Visualize the closing price history\n",
        "#plt.figure(figsize=(16,8))\n",
        "#plt.title('Close Price History')\n",
        "#plt.plot(df['Close'])\n",
        "#plt.xlabel('Date',fontsize=18)\n",
        "#plt.ylabel('Close Price USD($)',fontsize=18)\n",
        "#plt.show()"
      ],
      "execution_count": null,
      "outputs": [
        {
          "output_type": "display_data",
          "data": {
            "image/png": "[encoded data removed]",
            "text/plain": [
              "<Figure size 800x575 with 4 Axes>"
            ]
          },
          "metadata": {
            "tags": []
          }
        }
      ]
    },
    {
      "cell_type": "code",
      "metadata": {
        "id": "5u3vU4T5HqUi"
      },
      "source": [
        ""
      ],
      "execution_count": null,
      "outputs": []
    },
    {
      "cell_type": "code",
      "metadata": {
        "colab": {
          "base_uri": "https://localhost:8080/"
        },
        "id": "LhjmcNHG7Tbm",
        "outputId": "d42f21f7-5813-484b-ab88-c05cffb0ddd4"
      },
      "source": [
        "#Create a new dataframe with only the 'Close column'\n",
        "data = data.filter(['Close'])\n",
        "#Convert the dataframe to a numpy array\n",
        "dataset = data.values\n",
        "#Get the number of rows to train the model on \n",
        "training_data_len = math.ceil(len(dataset) * .8)\n",
        "\n",
        "training_data_len"
      ],
      "execution_count": null,
      "outputs": [
        {
          "output_type": "execute_result",
          "data": {
            "text/plain": [
              "319"
            ]
          },
          "metadata": {
            "tags": []
          },
          "execution_count": 110
        }
      ]
    },
    {
      "cell_type": "code",
      "metadata": {
        "colab": {
          "base_uri": "https://localhost:8080/"
        },
        "id": "7KFZs2c38gaO",
        "outputId": "4c0526d6-d32f-4432-cf7b-5c0f8db52320"
      },
      "source": [
        "#Scale the data\n",
        "scaler = MinMaxScaler(feature_range=(0,1))\n",
        "scaled_data = scaler.fit_transform(dataset)\n",
        "scaled_data\n",
        "\n"
      ],
      "execution_count": null,
      "outputs": [
        {
          "output_type": "execute_result",
          "data": {
            "text/plain": [
              "array([[0.21303991],\n",
              "       [0.19579383],\n",
              "       [0.20414374],\n",
              "       [0.20710911],\n",
              "       [0.2115182 ],\n",
              "       [0.22334074],\n",
              "       [0.23758239],\n",
              "       [0.22880328],\n",
              "       [0.22014121],\n",
              "       [0.21764404],\n",
              "       [0.21799525],\n",
              "       [0.21846345],\n",
              "       [0.20866988],\n",
              "       [0.19969566],\n",
              "       [0.19735454],\n",
              "       [0.18096686],\n",
              "       [0.16645205],\n",
              "       [0.16898825],\n",
              "       [0.16719341],\n",
              "       [0.16434506],\n",
              "       [0.15583907],\n",
              "       [0.18287878],\n",
              "       [0.18631235],\n",
              "       [0.18389323],\n",
              "       [0.19329666],\n",
              "       [0.18451754],\n",
              "       [0.1850638 ],\n",
              "       [0.19653519],\n",
              "       [0.21019159],\n",
              "       [0.20117831],\n",
              "       [0.19879825],\n",
              "       [0.19727648],\n",
              "       [0.20363648],\n",
              "       [0.19056539],\n",
              "       [0.18018651],\n",
              "       [0.16469624],\n",
              "       [0.15923367],\n",
              "       [0.15576104],\n",
              "       [0.14159741],\n",
              "       [0.14187054],\n",
              "       [0.14495296],\n",
              "       [0.13402785],\n",
              "       [0.14745016],\n",
              "       [0.13508133],\n",
              "       [0.1175231 ],\n",
              "       [0.08985914],\n",
              "       [0.11038277],\n",
              "       [0.09610206],\n",
              "       [0.06001013],\n",
              "       [0.0650435 ],\n",
              "       [0.02364508],\n",
              "       [0.02930272],\n",
              "       [0.        ],\n",
              "       [0.02341098],\n",
              "       [0.01966523],\n",
              "       [0.0296539 ],\n",
              "       [0.04998243],\n",
              "       [0.05189432],\n",
              "       [0.07101329],\n",
              "       [0.05466462],\n",
              "       [0.05981503],\n",
              "       [0.06699441],\n",
              "       [0.05485972],\n",
              "       [0.0623122 ],\n",
              "       [0.05298683],\n",
              "       [0.07538335],\n",
              "       [0.07089624],\n",
              "       [0.05349408],\n",
              "       [0.06001013],\n",
              "       [0.05755199],\n",
              "       [0.06750164],\n",
              "       [0.06730657],\n",
              "       [0.07491512],\n",
              "       [0.08342111],\n",
              "       [0.08217253],\n",
              "       [0.06941356],\n",
              "       [0.07074017],\n",
              "       [0.06332668],\n",
              "       [0.06761869],\n",
              "       [0.06609698],\n",
              "       [0.0527137 ],\n",
              "       [0.06262435],\n",
              "       [0.06754067],\n",
              "       [0.04838267],\n",
              "       [0.04346638],\n",
              "       [0.04740721],\n",
              "       [0.05251863],\n",
              "       [0.05681063],\n",
              "       [0.06301453],\n",
              "       [0.06215615],\n",
              "       [0.05404034],\n",
              "       [0.0463147 ],\n",
              "       [0.04838267],\n",
              "       [0.06336571],\n",
              "       [0.09352684],\n",
              "       [0.10195481],\n",
              "       [0.09715554],\n",
              "       [0.10304731],\n",
              "       [0.07686604],\n",
              "       [0.09653126],\n",
              "       [0.09598501],\n",
              "       [0.08857153],\n",
              "       [0.08946896],\n",
              "       [0.09161495],\n",
              "       [0.09212221],\n",
              "       [0.11248973],\n",
              "       [0.09926253],\n",
              "       [0.12009832],\n",
              "       [0.13036012],\n",
              "       [0.12567794],\n",
              "       [0.12950172],\n",
              "       [0.11007062],\n",
              "       [0.12739472],\n",
              "       [0.12954074],\n",
              "       [0.15279565],\n",
              "       [0.14986927],\n",
              "       [0.15544889],\n",
              "       [0.15396621],\n",
              "       [0.15396621],\n",
              "       [0.15494166],\n",
              "       [0.14729408],\n",
              "       [0.1565024 ],\n",
              "       [0.14897187],\n",
              "       [0.14698193],\n",
              "       [0.14151936],\n",
              "       [0.1444067 ],\n",
              "       [0.15482461],\n",
              "       [0.1923992 ],\n",
              "       [0.1724999 ],\n",
              "       [0.18346403],\n",
              "       [0.19083849],\n",
              "       [0.19005813],\n",
              "       [0.1725389 ],\n",
              "       [0.1633696 ],\n",
              "       [0.16165282],\n",
              "       [0.15533184],\n",
              "       [0.15275662],\n",
              "       [0.15892152],\n",
              "       [0.16231612],\n",
              "       [0.1526786 ],\n",
              "       [0.14624057],\n",
              "       [0.13812476],\n",
              "       [0.12579499],\n",
              "       [0.12513169],\n",
              "       [0.14124623],\n",
              "       [0.1341449 ],\n",
              "       [0.13960747],\n",
              "       [0.14409458],\n",
              "       [0.16797376],\n",
              "       [0.16477426],\n",
              "       [0.16372078],\n",
              "       [0.16145771],\n",
              "       [0.16169181],\n",
              "       [0.15989697],\n",
              "       [0.16578875],\n",
              "       [0.15977992],\n",
              "       [0.12922859],\n",
              "       [0.15724373],\n",
              "       [0.15833624],\n",
              "       [0.15252252],\n",
              "       [0.15552694],\n",
              "       [0.15150803],\n",
              "       [0.15318582],\n",
              "       [0.16418898],\n",
              "       [0.17109524],\n",
              "       [0.17023683],\n",
              "       [0.17706503],\n",
              "       [0.15977992],\n",
              "       [0.16898825],\n",
              "       [0.15857037],\n",
              "       [0.14748915],\n",
              "       [0.15314683],\n",
              "       [0.13925629],\n",
              "       [0.13960747],\n",
              "       [0.13867104],\n",
              "       [0.14436771],\n",
              "       [0.14928399],\n",
              "       [0.15946777],\n",
              "       [0.16547659],\n",
              "       [0.1601701 ],\n",
              "       [0.1601311 ],\n",
              "       [0.1597019 ],\n",
              "       [0.15767293],\n",
              "       [0.1533419 ],\n",
              "       [0.15661945],\n",
              "       [0.1567365 ],\n",
              "       [0.16551562],\n",
              "       [0.15201529],\n",
              "       [0.16766161],\n",
              "       [0.16711535],\n",
              "       [0.15997503],\n",
              "       [0.16028715],\n",
              "       [0.16079441],\n",
              "       [0.16672518],\n",
              "       [0.16828591],\n",
              "       [0.16727143],\n",
              "       [0.17207069],\n",
              "       [0.16945648],\n",
              "       [0.204651  ],\n",
              "       [0.18112291],\n",
              "       [0.18241052],\n",
              "       [0.17804049],\n",
              "       [0.18127902],\n",
              "       [0.1998517 ],\n",
              "       [0.1921261 ],\n",
              "       [0.19630103],\n",
              "       [0.19247725],\n",
              "       [0.20004681],\n",
              "       [0.18369813],\n",
              "       [0.18861447],\n",
              "       [0.19286746],\n",
              "       [0.19676929],\n",
              "       [0.19700339],\n",
              "       [0.22119472],\n",
              "       [0.23535838],\n",
              "       [0.23559248],\n",
              "       [0.23633384],\n",
              "       [0.23266611],\n",
              "       [0.23192475],\n",
              "       [0.22962269],\n",
              "       [0.23980646],\n",
              "       [0.25057549],\n",
              "       [0.23528033],\n",
              "       [0.22806198],\n",
              "       [0.2062507 ],\n",
              "       [0.20480705],\n",
              "       [0.1928284 ],\n",
              "       [0.19797884],\n",
              "       [0.20437784],\n",
              "       [0.21772209],\n",
              "       [0.21604433],\n",
              "       [0.22099962],\n",
              "       [0.23442192],\n",
              "       [0.23652894],\n",
              "       [0.23586564],\n",
              "       [0.23676304],\n",
              "       [0.23945531],\n",
              "       [0.26520736],\n",
              "       [0.29146671],\n",
              "       [0.30286005],\n",
              "       [0.3095712 ],\n",
              "       [0.39751842],\n",
              "       [0.41663737],\n",
              "       [0.41550586],\n",
              "       [0.42557259],\n",
              "       [0.4270943 ],\n",
              "       [0.41999294],\n",
              "       [0.42818681],\n",
              "       [0.41905654],\n",
              "       [0.4270943 ],\n",
              "       [0.43485897],\n",
              "       [0.5306879 ],\n",
              "       [0.5174607 ],\n",
              "       [0.51964571],\n",
              "       [0.50872058],\n",
              "       [0.46958523],\n",
              "       [0.48488039],\n",
              "       [0.61114361],\n",
              "       [0.53037575],\n",
              "       [0.60802214],\n",
              "       [0.59822857],\n",
              "       [0.64528463],\n",
              "       [0.60575907],\n",
              "       [0.65082522],\n",
              "       [0.69171638],\n",
              "       [0.65663896],\n",
              "       [0.65991649],\n",
              "       [0.66818835],\n",
              "       [0.64255336],\n",
              "       [0.59916497],\n",
              "       [0.62917005],\n",
              "       [0.59073706],\n",
              "       [0.61754261],\n",
              "       [0.65121542],\n",
              "       [0.65418079],\n",
              "       [0.68207885],\n",
              "       [0.72773031],\n",
              "       [0.75297516],\n",
              "       [0.82492491],\n",
              "       [0.86008032],\n",
              "       [0.88169649],\n",
              "       [0.89500174],\n",
              "       [0.94650594],\n",
              "       [0.87814581],\n",
              "       [0.83651335],\n",
              "       [1.        ],\n",
              "       [0.98392448],\n",
              "       [0.93249827],\n",
              "       [0.85992433],\n",
              "       [0.82164739],\n",
              "       [0.77974165],\n",
              "       [0.82703181],\n",
              "       [0.85180846],\n",
              "       [0.75765728],\n",
              "       [0.69050682],\n",
              "       [0.69491591],\n",
              "       [0.58160673],\n",
              "       [0.70490458],\n",
              "       [0.66924186],\n",
              "       [0.73650943],\n",
              "       [0.70478753],\n",
              "       [0.70978187],\n",
              "       [0.71465916],\n",
              "       [0.75504312],\n",
              "       [0.70712865],\n",
              "       [0.67833313],\n",
              "       [0.71212299],\n",
              "       [0.69425254],\n",
              "       [0.60700768],\n",
              "       [0.47192635],\n",
              "       [0.48768972],\n",
              "       [0.47243355],\n",
              "       [0.5252253 ],\n",
              "       [0.52257209],\n",
              "       [0.530961  ],\n",
              "       [0.54106672],\n",
              "       [0.55768856],\n",
              "       [0.53993522],\n",
              "       [0.55854696],\n",
              "       [0.53084395],\n",
              "       [0.50926683],\n",
              "       [0.51870925],\n",
              "       [0.51753869],\n",
              "       [0.49401066],\n",
              "       [0.50700376],\n",
              "       [0.49272305],\n",
              "       [0.4852706 ],\n",
              "       [0.51121775],\n",
              "       [0.51090559],\n",
              "       [0.53579929],\n",
              "       [0.51831911],\n",
              "       [0.51808495],\n",
              "       [0.51586093],\n",
              "       [0.50204842],\n",
              "       [0.49440087],\n",
              "       [0.47337001],\n",
              "       [0.4540169 ],\n",
              "       [0.43704398],\n",
              "       [0.42416793],\n",
              "       [0.42112451],\n",
              "       [0.38948066],\n",
              "       [0.41398415],\n",
              "       [0.38889535],\n",
              "       [0.37332709],\n",
              "       [0.40028875],\n",
              "       [0.41195518],\n",
              "       [0.41070663],\n",
              "       [0.41179914],\n",
              "       [0.42799171],\n",
              "       [0.41324279],\n",
              "       [0.41101878],\n",
              "       [0.42588474],\n",
              "       [0.43411761],\n",
              "       [0.43384445],\n",
              "       [0.43954115],\n",
              "       [0.46119632],\n",
              "       [0.44570605],\n",
              "       [0.41495961],\n",
              "       [0.42674315],\n",
              "       [0.41086268],\n",
              "       [0.40953607],\n",
              "       [0.40231766],\n",
              "       [0.41589607],\n",
              "       [0.40606344],\n",
              "       [0.41441335],\n",
              "       [0.4006399 ],\n",
              "       [0.3940458 ],\n",
              "       [0.39775252],\n",
              "       [0.40079595],\n",
              "       [0.39775252],\n",
              "       [0.40575129],\n",
              "       [0.41183813],\n",
              "       [0.4336884 ],\n",
              "       [0.46439579],\n",
              "       [0.47430641],\n",
              "       [0.48402199],\n",
              "       [0.46931207],\n",
              "       [0.45979166],\n",
              "       [0.44121891],\n",
              "       [0.40317607],\n",
              "       [0.38663234],\n",
              "       [0.35998284],\n",
              "       [0.38136485],\n",
              "       [0.37758007],\n",
              "       [0.39396774],\n",
              "       [0.3812868 ],\n",
              "       [0.39759648],\n",
              "       [0.3744196 ],\n",
              "       [0.36220685],\n",
              "       [0.3678255 ],\n",
              "       [0.37804827],\n",
              "       [0.37016662],\n",
              "       [0.34741894],\n",
              "       [0.30726908],\n",
              "       [0.2895548 ],\n",
              "       [0.32447616],\n",
              "       [0.32556867],\n",
              "       [0.31366808]])"
            ]
          },
          "metadata": {
            "tags": []
          },
          "execution_count": 111
        }
      ]
    },
    {
      "cell_type": "code",
      "metadata": {
        "colab": {
          "base_uri": "https://localhost:8080/"
        },
        "id": "ryDBUAM-9WEv",
        "outputId": "dbe340c1-0ad3-4c9d-a81f-3d0b4deadad3"
      },
      "source": [
        "#Create the training data set\n",
        "#Create the scaled training data set\n",
        "train_data = scaled_data[0:training_data_len , :]\n",
        "#Split the data into x_train and y_train data sets\n",
        "x_train = []\n",
        "y_train = []\n",
        "\n",
        "for i in range(60, len(train_data)):\n",
        "  x_train.append(train_data[i-60:i, 0])\n",
        "  y_train.append(train_data[i,0])\n",
        "  if i <= 60:\n",
        "    print (x_train)\n",
        "    print (y_train)\n",
        "    print ()"
      ],
      "execution_count": null,
      "outputs": [
        {
          "output_type": "stream",
          "text": [
            "[array([0.21303991, 0.19579383, 0.20414374, 0.20710911, 0.2115182 ,\n",
            "       0.22334074, 0.23758239, 0.22880328, 0.22014121, 0.21764404,\n",
            "       0.21799525, 0.21846345, 0.20866988, 0.19969566, 0.19735454,\n",
            "       0.18096686, 0.16645205, 0.16898825, 0.16719341, 0.16434506,\n",
            "       0.15583907, 0.18287878, 0.18631235, 0.18389323, 0.19329666,\n",
            "       0.18451754, 0.1850638 , 0.19653519, 0.21019159, 0.20117831,\n",
            "       0.19879825, 0.19727648, 0.20363648, 0.19056539, 0.18018651,\n",
            "       0.16469624, 0.15923367, 0.15576104, 0.14159741, 0.14187054,\n",
            "       0.14495296, 0.13402785, 0.14745016, 0.13508133, 0.1175231 ,\n",
            "       0.08985914, 0.11038277, 0.09610206, 0.06001013, 0.0650435 ,\n",
            "       0.02364508, 0.02930272, 0.        , 0.02341098, 0.01966523,\n",
            "       0.0296539 , 0.04998243, 0.05189432, 0.07101329, 0.05466462])]\n",
            "[0.059815030422169624]\n",
            "\n"
          ],
          "name": "stdout"
        }
      ]
    },
    {
      "cell_type": "code",
      "metadata": {
        "colab": {
          "base_uri": "https://localhost:8080/"
        },
        "id": "dmJfr5Rh-me3",
        "outputId": "06b75e62-5fb9-4596-e368-911687832ce6"
      },
      "source": [
        "#Convert the x_train and y_train to numpy arrays\n",
        "x_train, y_train = np.array(x_train), np.array(y_train)\n",
        "\n",
        "#Reshape the data\n",
        "x_train = np.reshape(x_train, (x_train.shape[0], x_train.shape[1], 1))\n",
        "x_train.shape\n"
      ],
      "execution_count": null,
      "outputs": [
        {
          "output_type": "execute_result",
          "data": {
            "text/plain": [
              "(259, 60, 1)"
            ]
          },
          "metadata": {
            "tags": []
          },
          "execution_count": 113
        }
      ]
    },
    {
      "cell_type": "code",
      "metadata": {
        "id": "asLm_vfh_s7Y"
      },
      "source": [
        "#Build the LSTM model\n",
        "model = Sequential()\n",
        "model.add(LSTM(50, return_sequences=True, input_shape=(x_train.shape[1], 1)))\n",
        "model.add(LSTM(50, return_sequences= False))\n",
        "model.add(Dense(25))\n",
        "model.add(Dense(1))\n",
        "\n"
      ],
      "execution_count": null,
      "outputs": []
    },
    {
      "cell_type": "code",
      "metadata": {
        "id": "t2HR6Nd_CnK7"
      },
      "source": [
        "#Compile the model\n",
        "model.compile(optimizer = 'adam', loss = 'mean_squared_error')"
      ],
      "execution_count": null,
      "outputs": []
    },
    {
      "cell_type": "code",
      "metadata": {
        "id": "9oWMWd78DgoF"
      },
      "source": [
        ""
      ],
      "execution_count": null,
      "outputs": []
    },
    {
      "cell_type": "code",
      "metadata": {
        "colab": {
          "base_uri": "https://localhost:8080/"
        },
        "id": "26KDGTykD8p2",
        "outputId": "06da9ebb-2d11-4514-c5d2-83977ae23799"
      },
      "source": [
        "#train the model\n",
        "model.fit(x_train, y_train, batch_size=1, epochs=1)"
      ],
      "execution_count": null,
      "outputs": [
        {
          "output_type": "stream",
          "text": [
            "259/259 [==============================] - 12s 33ms/step - loss: 0.0203\n"
          ],
          "name": "stdout"
        },
        {
          "output_type": "execute_result",
          "data": {
            "text/plain": [
              "<keras.callbacks.History at 0x7faf8863ec10>"
            ]
          },
          "metadata": {
            "tags": []
          },
          "execution_count": 116
        }
      ]
    },
    {
      "cell_type": "code",
      "metadata": {
        "id": "ftOrs7HgEdBX"
      },
      "source": [
        "#Create the testing data set\n",
        "#Create a new array containing scaled values from index 1543 to 2003\n",
        "test_data = scaled_data[training_data_len - 60: , :]\n",
        "#Create the data sets x_test and y_test\n",
        "x_test = []\n",
        "y_test = dataset[training_data_len:, :]\n",
        "for i in range(60, len(test_data)):\n",
        "  x_test.append(test_data[i-60:i,0])"
      ],
      "execution_count": null,
      "outputs": []
    },
    {
      "cell_type": "code",
      "metadata": {
        "id": "4gRIhRssFQx2"
      },
      "source": [
        "#Convert the data to a numpy array\n",
        "x_test = np.array(x_test)\n",
        "\n"
      ],
      "execution_count": null,
      "outputs": []
    },
    {
      "cell_type": "code",
      "metadata": {
        "id": "6GXuXBDkFk0-"
      },
      "source": [
        "#Reshape the data\n",
        "x_test = np.reshape(x_test, (x_test.shape[0], x_test.shape[1],1))\n",
        "\n",
        "#Get the models predicted price values\n",
        "predictions = model.predict(x_test)\n",
        "predictions = scaler.inverse_transform(predictions)\n"
      ],
      "execution_count": null,
      "outputs": []
    },
    {
      "cell_type": "code",
      "metadata": {
        "colab": {
          "base_uri": "https://localhost:8080/"
        },
        "id": "R_bqn0kwGHWu",
        "outputId": "418f841a-b5e9-4e6a-e356-efc285ab9a70"
      },
      "source": [
        "#Get the root mean squared error (RMSE)\n",
        "rmse = np.sqrt( np.mean(predictions - y_test)**2)\n",
        "rmse"
      ],
      "execution_count": null,
      "outputs": [
        {
          "output_type": "execute_result",
          "data": {
            "text/plain": [
              "5.8613146045539954"
            ]
          },
          "metadata": {
            "tags": []
          },
          "execution_count": 120
        }
      ]
    },
    {
      "cell_type": "code",
      "metadata": {
        "colab": {
          "base_uri": "https://localhost:8080/",
          "height": 827
        },
        "id": "H3fHhAOjGr-y",
        "outputId": "88c87e1e-bfc2-4fda-a1e5-6fb80e375bbd"
      },
      "source": [
        "#Plot the data\n",
        "train = data[:training_data_len]\n",
        "valid = data[training_data_len:]\n",
        "valid['Predictions'] = predictions\n",
        "#Visualise the data\n",
        "plt.figure(figsize=(16,8))\n",
        "plt.title('Model')\n",
        "plt.xlabel('Date',fontsize=18)\n",
        "plt.ylabel('Close Price USD ($)', fontsize=18)\n",
        "plt.plot(train['Close'])\n",
        "plt.plot(valid[['Close','Predictions']])\n",
        "plt.legend(['Train', 'Val', 'Predictions'], loc='lower right')\n",
        "plt.show()\n"
      ],
      "execution_count": null,
      "outputs": [
        {
          "output_type": "stream",
          "text": [
            "/usr/local/lib/python3.7/dist-packages/ipykernel_launcher.py:4: SettingWithCopyWarning: \n",
            "A value is trying to be set on a copy of a slice from a DataFrame.\n",
            "Try using .loc[row_indexer,col_indexer] = value instead\n",
            "\n",
            "See the caveats in the documentation: https://pandas.pydata.org/pandas-docs/stable/user_guide/indexing.html#returning-a-view-versus-a-copy\n",
            "  after removing the cwd from sys.path.\n"
          ],
          "name": "stderr"
        },
        {
          "output_type": "display_data",
          "data": {
            "image/png": "[encoded data removed]",
            "text/plain": [
              "<Figure size 1600x800 with 1 Axes>"
            ]
          },
          "metadata": {
            "tags": []
          }
        }
      ]
    },
    {
      "cell_type": "code",
      "metadata": {
        "colab": {
          "base_uri": "https://localhost:8080/",
          "height": 450
        },
        "id": "8MziIYyZKV8k",
        "outputId": "f16cca60-e0b0-401d-cb32-4d84eca1681c"
      },
      "source": [
        "#show the valid and predicted return\n",
        "valid"
      ],
      "execution_count": null,
      "outputs": [
        {
          "output_type": "execute_result",
          "data": {
            "text/html": [
              "<div>\n",
              "<style scoped>\n",
              "    .dataframe tbody tr th:only-of-type {\n",
              "        vertical-align: middle;\n",
              "    }\n",
              "\n",
              "    .dataframe tbody tr th {\n",
              "        vertical-align: top;\n",
              "    }\n",
              "\n",
              "    .dataframe thead th {\n",
              "        text-align: right;\n",
              "    }\n",
              "</style>\n",
              "<table border=\"1\" class=\"dataframe\">\n",
              "  <thead>\n",
              "    <tr style=\"text-align: right;\">\n",
              "      <th></th>\n",
              "      <th>Close</th>\n",
              "      <th>Predictions</th>\n",
              "    </tr>\n",
              "    <tr>\n",
              "      <th>Date</th>\n",
              "      <th></th>\n",
              "      <th></th>\n",
              "    </tr>\n",
              "  </thead>\n",
              "  <tbody>\n",
              "    <tr>\n",
              "      <th>2021-04-09</th>\n",
              "      <td>219.669998</td>\n",
              "      <td>208.272217</td>\n",
              "    </tr>\n",
              "    <tr>\n",
              "      <th>2021-04-12</th>\n",
              "      <td>214.139999</td>\n",
              "      <td>208.345062</td>\n",
              "    </tr>\n",
              "    <tr>\n",
              "      <th>2021-04-13</th>\n",
              "      <td>216.559998</td>\n",
              "      <td>208.163223</td>\n",
              "    </tr>\n",
              "    <tr>\n",
              "      <th>2021-04-14</th>\n",
              "      <td>216.259995</td>\n",
              "      <td>207.941483</td>\n",
              "    </tr>\n",
              "    <tr>\n",
              "      <th>2021-04-15</th>\n",
              "      <td>210.229996</td>\n",
              "      <td>207.672791</td>\n",
              "    </tr>\n",
              "    <tr>\n",
              "      <th>...</th>\n",
              "      <td>...</td>\n",
              "      <td>...</td>\n",
              "    </tr>\n",
              "    <tr>\n",
              "      <th>2021-07-26</th>\n",
              "      <td>162.369995</td>\n",
              "      <td>170.652054</td>\n",
              "    </tr>\n",
              "    <tr>\n",
              "      <th>2021-07-27</th>\n",
              "      <td>157.830002</td>\n",
              "      <td>169.102280</td>\n",
              "    </tr>\n",
              "    <tr>\n",
              "      <th>2021-07-28</th>\n",
              "      <td>166.779999</td>\n",
              "      <td>166.891068</td>\n",
              "    </tr>\n",
              "    <tr>\n",
              "      <th>2021-07-29</th>\n",
              "      <td>167.059998</td>\n",
              "      <td>164.864883</td>\n",
              "    </tr>\n",
              "    <tr>\n",
              "      <th>2021-07-30</th>\n",
              "      <td>164.009995</td>\n",
              "      <td>163.122787</td>\n",
              "    </tr>\n",
              "  </tbody>\n",
              "</table>\n",
              "<p>79 rows × 2 columns</p>\n",
              "</div>"
            ],
            "text/plain": [
              "                 Close  Predictions\n",
              "Date                               \n",
              "2021-04-09  219.669998   208.272217\n",
              "2021-04-12  214.139999   208.345062\n",
              "2021-04-13  216.559998   208.163223\n",
              "2021-04-14  216.259995   207.941483\n",
              "2021-04-15  210.229996   207.672791\n",
              "...                ...          ...\n",
              "2021-07-26  162.369995   170.652054\n",
              "2021-07-27  157.830002   169.102280\n",
              "2021-07-28  166.779999   166.891068\n",
              "2021-07-29  167.059998   164.864883\n",
              "2021-07-30  164.009995   163.122787\n",
              "\n",
              "[79 rows x 2 columns]"
            ]
          },
          "metadata": {
            "tags": []
          },
          "execution_count": 122
        }
      ]
    },
    {
      "cell_type": "code",
      "metadata": {
        "colab": {
          "base_uri": "https://localhost:8080/"
        },
        "id": "1_Z2x6IdK0eM",
        "outputId": "9b10d76c-b2e3-4f1a-d277-e6e45800ba8c"
      },
      "source": [
        "#get the quote\n",
        "apple_quote = yf.download('BIDU', start=start_date, end=end_date)\n",
        "#Create a new dataframe\n",
        "new_data = apple_quote.filter(['Close'])\n",
        "#Get the last 60 day closing price values and convert the dataframe to an array\n",
        "last_60_days = new_data[-60:].values\n",
        "last_60_days_scaled = scaler.transform(last_60_days)\n",
        "#Create an empty list\n",
        "X_test = []\n",
        "#Append the past 60 days\n",
        "X_test.append(last_60_days_scaled)\n",
        "#Convert the X_test data set to a numpy array\n",
        "X_test = np.array(X_test)\n",
        "#Reshape the data\n",
        "X_test = np.reshape(X_test, (X_test.shape[0], X_test.shape[1],1))\n",
        "#Get the predicted scaled price\n",
        "pred_price = model.predict(X_test)\n",
        "#undo the scaling\n",
        "pred_price = scaler.inverse_transform(pred_price)\n",
        "print(pred_price)\n"
      ],
      "execution_count": null,
      "outputs": [
        {
          "output_type": "stream",
          "text": [
            "\r[*********************100%***********************]  1 of 1 completed\n",
            "[[161.52625]]\n"
          ],
          "name": "stdout"
        }
      ]
    }
  ]
}