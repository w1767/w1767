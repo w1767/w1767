{
  "nbformat": 4,
  "nbformat_minor": 0,
  "metadata": {
    "colab": {
      "name": "Untitled0.ipynb",
      "provenance": [],
      "authorship_tag": "ABX9TyNllPOnoibSYGL9vNnemTk/",
      "include_colab_link": true
    },
    "kernelspec": {
      "name": "python3",
      "display_name": "Python 3"
    },
    "language_info": {
      "name": "python"
    }
  },
  "cells": [
    {
      "cell_type": "markdown",
      "metadata": {
        "id": "view-in-github",
        "colab_type": "text"
      },
      "source": [
        "<a href=\"https://colab.research.google.com/github/w1767/w1767/blob/main/BRENT.ipynb\" target=\"_parent\"><img src=\"https://colab.research.google.com/assets/colab-badge.svg\" alt=\"Open In Colab\"/></a>"
      ]
    },
    {
      "cell_type": "code",
      "metadata": {
        "id": "jF-rA78EBttL"
      },
      "source": [
        "# Description: this program uses an aritificial recurrent neural network called Long Short Term Memory (LSTM) to predict\n",
        "# the closing stock price of a corporation (Apple Inc.) using the past 60 day stock price. "
      ],
      "execution_count": 234,
      "outputs": []
    },
    {
      "cell_type": "code",
      "metadata": {
        "id": "wpTDFiYaHooV"
      },
      "source": [
        ""
      ],
      "execution_count": null,
      "outputs": []
    },
    {
      "cell_type": "code",
      "metadata": {
        "id": "4t9te_ZzCKmA",
        "colab": {
          "base_uri": "https://localhost:8080/"
        },
        "outputId": "2e6857fe-574b-4560-fff2-adcf71e73e95"
      },
      "source": [
        "# Import the libraries\n",
        "!pip install pandas_datareader\n",
        "!pip install yfinance\n",
        "!pip install mplfinance\n",
        "import os\n",
        "import argparse\n",
        "import signal\n",
        "import yfinance as yf\n",
        "import pickle\n",
        "import mplfinance as mpf\n",
        "import math\n",
        "import pandas_datareader.data as web\n",
        "from datetime import datetime, timedelta\n",
        "import numpy as np\n",
        "import pandas as pd\n",
        "from sklearn.preprocessing import MinMaxScaler\n",
        "from keras.models import Sequential\n",
        "from keras.layers import Dense, LSTM\n",
        "#from yfinance import stock_info\n",
        "from dateutil.parser import parse\n",
        "from urllib.request import urlopen, Request\n",
        "from bs4 import BeautifulSoup\n",
        "import matplotlib.pyplot as plt\n",
        "plt.style.use('fivethirtyeight')\n",
        "start_date = datetime(2020, 1,1)\n",
        "end_date = datetime(2021, 8, 2)\n"
      ],
      "execution_count": 241,
      "outputs": [
        {
          "output_type": "stream",
          "text": [
            "Requirement already satisfied: pandas_datareader in /usr/local/lib/python3.7/dist-packages (0.9.0)\n",
            "Requirement already satisfied: pandas>=0.23 in /usr/local/lib/python3.7/dist-packages (from pandas_datareader) (1.1.5)\n",
            "Requirement already satisfied: requests>=2.19.0 in /usr/local/lib/python3.7/dist-packages (from pandas_datareader) (2.23.0)\n",
            "Requirement already satisfied: lxml in /usr/local/lib/python3.7/dist-packages (from pandas_datareader) (4.6.3)\n",
            "Requirement already satisfied: numpy>=1.15.4 in /usr/local/lib/python3.7/dist-packages (from pandas>=0.23->pandas_datareader) (1.19.5)\n",
            "Requirement already satisfied: pytz>=2017.2 in /usr/local/lib/python3.7/dist-packages (from pandas>=0.23->pandas_datareader) (2018.9)\n",
            "Requirement already satisfied: python-dateutil>=2.7.3 in /usr/local/lib/python3.7/dist-packages (from pandas>=0.23->pandas_datareader) (2.8.1)\n",
            "Requirement already satisfied: six>=1.5 in /usr/local/lib/python3.7/dist-packages (from python-dateutil>=2.7.3->pandas>=0.23->pandas_datareader) (1.15.0)\n",
            "Requirement already satisfied: certifi>=2017.4.17 in /usr/local/lib/python3.7/dist-packages (from requests>=2.19.0->pandas_datareader) (2021.5.30)\n",
            "Requirement already satisfied: idna<3,>=2.5 in /usr/local/lib/python3.7/dist-packages (from requests>=2.19.0->pandas_datareader) (2.10)\n",
            "Requirement already satisfied: chardet<4,>=3.0.2 in /usr/local/lib/python3.7/dist-packages (from requests>=2.19.0->pandas_datareader) (3.0.4)\n",
            "Requirement already satisfied: urllib3!=1.25.0,!=1.25.1,<1.26,>=1.21.1 in /usr/local/lib/python3.7/dist-packages (from requests>=2.19.0->pandas_datareader) (1.24.3)\n",
            "Requirement already satisfied: yfinance in /usr/local/lib/python3.7/dist-packages (0.1.63)\n",
            "Requirement already satisfied: lxml>=4.5.1 in /usr/local/lib/python3.7/dist-packages (from yfinance) (4.6.3)\n",
            "Requirement already satisfied: numpy>=1.15 in /usr/local/lib/python3.7/dist-packages (from yfinance) (1.19.5)\n",
            "Requirement already satisfied: requests>=2.20 in /usr/local/lib/python3.7/dist-packages (from yfinance) (2.23.0)\n",
            "Requirement already satisfied: multitasking>=0.0.7 in /usr/local/lib/python3.7/dist-packages (from yfinance) (0.0.9)\n",
            "Requirement already satisfied: pandas>=0.24 in /usr/local/lib/python3.7/dist-packages (from yfinance) (1.1.5)\n",
            "Requirement already satisfied: pytz>=2017.2 in /usr/local/lib/python3.7/dist-packages (from pandas>=0.24->yfinance) (2018.9)\n",
            "Requirement already satisfied: python-dateutil>=2.7.3 in /usr/local/lib/python3.7/dist-packages (from pandas>=0.24->yfinance) (2.8.1)\n",
            "Requirement already satisfied: six>=1.5 in /usr/local/lib/python3.7/dist-packages (from python-dateutil>=2.7.3->pandas>=0.24->yfinance) (1.15.0)\n",
            "Requirement already satisfied: chardet<4,>=3.0.2 in /usr/local/lib/python3.7/dist-packages (from requests>=2.20->yfinance) (3.0.4)\n",
            "Requirement already satisfied: idna<3,>=2.5 in /usr/local/lib/python3.7/dist-packages (from requests>=2.20->yfinance) (2.10)\n",
            "Requirement already satisfied: urllib3!=1.25.0,!=1.25.1,<1.26,>=1.21.1 in /usr/local/lib/python3.7/dist-packages (from requests>=2.20->yfinance) (1.24.3)\n",
            "Requirement already satisfied: certifi>=2017.4.17 in /usr/local/lib/python3.7/dist-packages (from requests>=2.20->yfinance) (2021.5.30)\n",
            "Requirement already satisfied: mplfinance in /usr/local/lib/python3.7/dist-packages (0.12.7a17)\n",
            "Requirement already satisfied: matplotlib in /usr/local/lib/python3.7/dist-packages (from mplfinance) (3.2.2)\n",
            "Requirement already satisfied: pandas in /usr/local/lib/python3.7/dist-packages (from mplfinance) (1.1.5)\n",
            "Requirement already satisfied: numpy>=1.11 in /usr/local/lib/python3.7/dist-packages (from matplotlib->mplfinance) (1.19.5)\n",
            "Requirement already satisfied: pyparsing!=2.0.4,!=2.1.2,!=2.1.6,>=2.0.1 in /usr/local/lib/python3.7/dist-packages (from matplotlib->mplfinance) (2.4.7)\n",
            "Requirement already satisfied: python-dateutil>=2.1 in /usr/local/lib/python3.7/dist-packages (from matplotlib->mplfinance) (2.8.1)\n",
            "Requirement already satisfied: cycler>=0.10 in /usr/local/lib/python3.7/dist-packages (from matplotlib->mplfinance) (0.10.0)\n",
            "Requirement already satisfied: kiwisolver>=1.0.1 in /usr/local/lib/python3.7/dist-packages (from matplotlib->mplfinance) (1.3.1)\n",
            "Requirement already satisfied: six in /usr/local/lib/python3.7/dist-packages (from cycler>=0.10->matplotlib->mplfinance) (1.15.0)\n",
            "Requirement already satisfied: pytz>=2017.2 in /usr/local/lib/python3.7/dist-packages (from pandas->mplfinance) (2018.9)\n"
          ],
          "name": "stdout"
        }
      ]
    },
    {
      "cell_type": "code",
      "metadata": {
        "colab": {
          "base_uri": "https://localhost:8080/",
          "height": 467
        },
        "id": "Tkat1PpYDTgp",
        "outputId": "745b0cea-6fc2-486f-f6fc-37cde6872959"
      },
      "source": [
        "#Get the stock quote\n",
        "data = yf.download('BZ=F', start=start_date, end=end_date)\n",
        "#df = web.DataReader('BZ=F', data_source='yahoo',start='2012-01',end='2019-12-17')\n",
        "#show the data\n",
        "data.head(391)"
      ],
      "execution_count": 242,
      "outputs": [
        {
          "output_type": "stream",
          "text": [
            "\r[*********************100%***********************]  1 of 1 completed\n"
          ],
          "name": "stdout"
        },
        {
          "output_type": "execute_result",
          "data": {
            "text/html": [
              "<div>\n",
              "<style scoped>\n",
              "    .dataframe tbody tr th:only-of-type {\n",
              "        vertical-align: middle;\n",
              "    }\n",
              "\n",
              "    .dataframe tbody tr th {\n",
              "        vertical-align: top;\n",
              "    }\n",
              "\n",
              "    .dataframe thead th {\n",
              "        text-align: right;\n",
              "    }\n",
              "</style>\n",
              "<table border=\"1\" class=\"dataframe\">\n",
              "  <thead>\n",
              "    <tr style=\"text-align: right;\">\n",
              "      <th></th>\n",
              "      <th>Open</th>\n",
              "      <th>High</th>\n",
              "      <th>Low</th>\n",
              "      <th>Close</th>\n",
              "      <th>Adj Close</th>\n",
              "      <th>Volume</th>\n",
              "    </tr>\n",
              "    <tr>\n",
              "      <th>Date</th>\n",
              "      <th></th>\n",
              "      <th></th>\n",
              "      <th></th>\n",
              "      <th></th>\n",
              "      <th></th>\n",
              "      <th></th>\n",
              "    </tr>\n",
              "  </thead>\n",
              "  <tbody>\n",
              "    <tr>\n",
              "      <th>2020-01-02</th>\n",
              "      <td>66.470001</td>\n",
              "      <td>66.570000</td>\n",
              "      <td>65.730003</td>\n",
              "      <td>66.250000</td>\n",
              "      <td>66.250000</td>\n",
              "      <td>25810</td>\n",
              "    </tr>\n",
              "    <tr>\n",
              "      <th>2020-01-03</th>\n",
              "      <td>66.290001</td>\n",
              "      <td>69.480003</td>\n",
              "      <td>66.220001</td>\n",
              "      <td>68.599998</td>\n",
              "      <td>68.599998</td>\n",
              "      <td>78848</td>\n",
              "    </tr>\n",
              "    <tr>\n",
              "      <th>2020-01-06</th>\n",
              "      <td>69.070000</td>\n",
              "      <td>70.720001</td>\n",
              "      <td>68.190002</td>\n",
              "      <td>68.910004</td>\n",
              "      <td>68.910004</td>\n",
              "      <td>51933</td>\n",
              "    </tr>\n",
              "    <tr>\n",
              "      <th>2020-01-07</th>\n",
              "      <td>68.580002</td>\n",
              "      <td>68.739998</td>\n",
              "      <td>67.650002</td>\n",
              "      <td>68.269997</td>\n",
              "      <td>68.269997</td>\n",
              "      <td>41178</td>\n",
              "    </tr>\n",
              "    <tr>\n",
              "      <th>2020-01-08</th>\n",
              "      <td>68.470001</td>\n",
              "      <td>71.989998</td>\n",
              "      <td>64.940002</td>\n",
              "      <td>65.440002</td>\n",
              "      <td>65.440002</td>\n",
              "      <td>85232</td>\n",
              "    </tr>\n",
              "    <tr>\n",
              "      <th>...</th>\n",
              "      <td>...</td>\n",
              "      <td>...</td>\n",
              "      <td>...</td>\n",
              "      <td>...</td>\n",
              "      <td>...</td>\n",
              "      <td>...</td>\n",
              "    </tr>\n",
              "    <tr>\n",
              "      <th>2021-07-22</th>\n",
              "      <td>72.099998</td>\n",
              "      <td>73.900002</td>\n",
              "      <td>71.750000</td>\n",
              "      <td>73.790001</td>\n",
              "      <td>73.790001</td>\n",
              "      <td>34425</td>\n",
              "    </tr>\n",
              "    <tr>\n",
              "      <th>2021-07-23</th>\n",
              "      <td>73.709999</td>\n",
              "      <td>74.209999</td>\n",
              "      <td>73.330002</td>\n",
              "      <td>74.099998</td>\n",
              "      <td>74.099998</td>\n",
              "      <td>23724</td>\n",
              "    </tr>\n",
              "    <tr>\n",
              "      <th>2021-07-26</th>\n",
              "      <td>74.169998</td>\n",
              "      <td>74.830002</td>\n",
              "      <td>72.750000</td>\n",
              "      <td>74.500000</td>\n",
              "      <td>74.500000</td>\n",
              "      <td>31628</td>\n",
              "    </tr>\n",
              "    <tr>\n",
              "      <th>2021-07-27</th>\n",
              "      <td>74.790001</td>\n",
              "      <td>75.050003</td>\n",
              "      <td>74.019997</td>\n",
              "      <td>74.480003</td>\n",
              "      <td>74.480003</td>\n",
              "      <td>26028</td>\n",
              "    </tr>\n",
              "    <tr>\n",
              "      <th>2021-07-28</th>\n",
              "      <td>74.660004</td>\n",
              "      <td>75.309998</td>\n",
              "      <td>74.440002</td>\n",
              "      <td>74.739998</td>\n",
              "      <td>74.739998</td>\n",
              "      <td>20863</td>\n",
              "    </tr>\n",
              "  </tbody>\n",
              "</table>\n",
              "<p>391 rows × 6 columns</p>\n",
              "</div>"
            ],
            "text/plain": [
              "                 Open       High        Low      Close  Adj Close  Volume\n",
              "Date                                                                     \n",
              "2020-01-02  66.470001  66.570000  65.730003  66.250000  66.250000   25810\n",
              "2020-01-03  66.290001  69.480003  66.220001  68.599998  68.599998   78848\n",
              "2020-01-06  69.070000  70.720001  68.190002  68.910004  68.910004   51933\n",
              "2020-01-07  68.580002  68.739998  67.650002  68.269997  68.269997   41178\n",
              "2020-01-08  68.470001  71.989998  64.940002  65.440002  65.440002   85232\n",
              "...               ...        ...        ...        ...        ...     ...\n",
              "2021-07-22  72.099998  73.900002  71.750000  73.790001  73.790001   34425\n",
              "2021-07-23  73.709999  74.209999  73.330002  74.099998  74.099998   23724\n",
              "2021-07-26  74.169998  74.830002  72.750000  74.500000  74.500000   31628\n",
              "2021-07-27  74.790001  75.050003  74.019997  74.480003  74.480003   26028\n",
              "2021-07-28  74.660004  75.309998  74.440002  74.739998  74.739998   20863\n",
              "\n",
              "[391 rows x 6 columns]"
            ]
          },
          "metadata": {
            "tags": []
          },
          "execution_count": 242
        }
      ]
    },
    {
      "cell_type": "code",
      "metadata": {
        "id": "iINONBjJCmEs"
      },
      "source": [
        ""
      ],
      "execution_count": null,
      "outputs": []
    },
    {
      "cell_type": "code",
      "metadata": {
        "colab": {
          "base_uri": "https://localhost:8080/"
        },
        "id": "-1NflEs4D4Bv",
        "outputId": "b2f2e155-8228-407e-af74-0cd4e8eb5747"
      },
      "source": [
        "#Get the number of rows and columns in the data set\n",
        "data.shape\n",
        "\n"
      ],
      "execution_count": 243,
      "outputs": [
        {
          "output_type": "execute_result",
          "data": {
            "text/plain": [
              "(393, 6)"
            ]
          },
          "metadata": {
            "tags": []
          },
          "execution_count": 243
        }
      ]
    },
    {
      "cell_type": "code",
      "metadata": {
        "colab": {
          "base_uri": "https://localhost:8080/",
          "height": 525
        },
        "id": "nASYYE3wEFyH",
        "outputId": "d89e0030-1cf9-46ac-f4e8-b9e995b9d4e9"
      },
      "source": [
        "mpf.plot(data, type='candle', mav= (3,6,9), volume=True, show_nontrading=True)\n",
        "#Visualize the closing price history\n",
        "#plt.figure(figsize=(16,8))\n",
        "#plt.title('Close Price History')\n",
        "#plt.plot(df['Close'])\n",
        "#plt.xlabel('Date',fontsize=18)\n",
        "#plt.ylabel('Close Price USD($)',fontsize=18)\n",
        "#plt.show()"
      ],
      "execution_count": 244,
      "outputs": [
        {
          "output_type": "display_data",
          "data": {
            "image/png": "[encoded data removed]",
            "text/plain": [
              "<Figure size 800x575 with 4 Axes>"
            ]
          },
          "metadata": {
            "tags": []
          }
        }
      ]
    },
    {
      "cell_type": "code",
      "metadata": {
        "id": "5u3vU4T5HqUi"
      },
      "source": [
        ""
      ],
      "execution_count": null,
      "outputs": []
    },
    {
      "cell_type": "code",
      "metadata": {
        "colab": {
          "base_uri": "https://localhost:8080/"
        },
        "id": "LhjmcNHG7Tbm",
        "outputId": "cb860ea0-4269-4121-f4e3-c69023add981"
      },
      "source": [
        "#Create a new dataframe with only the 'Close column'\n",
        "data = data.filter(['Close'])\n",
        "#Convert the dataframe to a numpy array\n",
        "dataset = data.values\n",
        "#Get the number of rows to train the model on \n",
        "training_data_len = math.ceil(len(dataset) * .8)\n",
        "\n",
        "training_data_len"
      ],
      "execution_count": 245,
      "outputs": [
        {
          "output_type": "execute_result",
          "data": {
            "text/plain": [
              "315"
            ]
          },
          "metadata": {
            "tags": []
          },
          "execution_count": 245
        }
      ]
    },
    {
      "cell_type": "code",
      "metadata": {
        "colab": {
          "base_uri": "https://localhost:8080/"
        },
        "id": "7KFZs2c38gaO",
        "outputId": "3adf5a8a-a722-4cce-ef40-572521bef234"
      },
      "source": [
        "#Scale the data\n",
        "scaler = MinMaxScaler(feature_range=(0,1))\n",
        "scaled_data = scaler.fit_transform(dataset)\n",
        "scaled_data\n",
        "\n"
      ],
      "execution_count": 246,
      "outputs": [
        {
          "output_type": "execute_result",
          "data": {
            "text/plain": [
              "array([[0.82085377],\n",
              "       [0.86196642],\n",
              "       [0.86738988],\n",
              "       [0.85619312],\n",
              "       [0.80668307],\n",
              "       [0.80545844],\n",
              "       [0.7986355 ],\n",
              "       [0.78498948],\n",
              "       [0.79006297],\n",
              "       [0.78149058],\n",
              "       [0.79233738],\n",
              "       [0.7963611 ],\n",
              "       [0.79181242],\n",
              "       [0.76766971],\n",
              "       [0.74720088],\n",
              "       [0.72358293],\n",
              "       [0.69961514],\n",
              "       [0.70293912],\n",
              "       [0.70818759],\n",
              "       [0.68159556],\n",
              "       [0.67932123],\n",
              "       [0.68002103],\n",
              "       [0.60584325],\n",
              "       [0.62893632],\n",
              "       [0.62281319],\n",
              "       [0.61476562],\n",
              "       [0.5937719 ],\n",
              "       [0.60671798],\n",
              "       [0.63785868],\n",
              "       [0.64748078],\n",
              "       [0.66462563],\n",
              "       [0.67214838],\n",
              "       [0.69611617],\n",
              "       [0.69944022],\n",
              "       [0.68526945],\n",
              "       [0.64678098],\n",
              "       [0.62316309],\n",
              "       [0.59657106],\n",
              "       [0.57470262],\n",
              "       [0.54566133],\n",
              "       [0.54496152],\n",
              "       [0.5691043 ],\n",
              "       [0.55633314],\n",
              "       [0.53638913],\n",
              "       [0.45381388],\n",
              "       [0.26294614],\n",
              "       [0.31298114],\n",
              "       [0.28796364],\n",
              "       [0.24300213],\n",
              "       [0.25402378],\n",
              "       [0.18754373],\n",
              "       [0.16445066],\n",
              "       [0.09709586],\n",
              "       [0.15990202],\n",
              "       [0.13383485],\n",
              "       [0.13470961],\n",
              "       [0.13680896],\n",
              "       [0.14100769],\n",
              "       [0.12263822],\n",
              "       [0.09797062],\n",
              "       [0.06000701],\n",
              "       [0.0596571 ],\n",
              "       [0.06000701],\n",
              "       [0.18561933],\n",
              "       [0.25857245],\n",
              "       [0.24002799],\n",
              "       [0.21938421],\n",
              "       [0.23635411],\n",
              "       [0.21256123],\n",
              "       [0.21710987],\n",
              "       [0.17967111],\n",
              "       [0.14625614],\n",
              "       [0.14853044],\n",
              "       [0.15307908],\n",
              "       [0.10916725],\n",
              "       [0.        ],\n",
              "       [0.01819456],\n",
              "       [0.0349895 ],\n",
              "       [0.03691394],\n",
              "       [0.01154653],\n",
              "       [0.01976906],\n",
              "       [0.05615817],\n",
              "       [0.10391884],\n",
              "       [0.10426874],\n",
              "       [0.13768371],\n",
              "       [0.2036389 ],\n",
              "       [0.18177046],\n",
              "       [0.17722183],\n",
              "       [0.2036389 ],\n",
              "       [0.18019593],\n",
              "       [0.1863191 ],\n",
              "       [0.17249827],\n",
              "       [0.20643806],\n",
              "       [0.23040589],\n",
              "       [0.27081879],\n",
              "       [0.26801963],\n",
              "       [0.28726383],\n",
              "       [0.29268723],\n",
              "       [0.2764171 ],\n",
              "       [0.2946116 ],\n",
              "       [0.26959416],\n",
              "       [0.27921626],\n",
              "       [0.27991607],\n",
              "       [0.27974108],\n",
              "       [0.35409378],\n",
              "       [0.35794265],\n",
              "       [0.36144161],\n",
              "       [0.40185445],\n",
              "       [0.37561232],\n",
              "       [0.38226034],\n",
              "       [0.39188244],\n",
              "       [0.33624913],\n",
              "       [0.33939819],\n",
              "       [0.35671802],\n",
              "       [0.37841148],\n",
              "       [0.37403779],\n",
              "       [0.38803358],\n",
              "       [0.39993001],\n",
              "       [0.4155004 ],\n",
              "       [0.40762775],\n",
              "       [0.36703993],\n",
              "       [0.37998601],\n",
              "       [0.37946118],\n",
              "       [0.39153254],\n",
              "       [0.38173552],\n",
              "       [0.38138562],\n",
              "       [0.41655004],\n",
              "       [0.41585023],\n",
              "       [0.4155004 ],\n",
              "       [0.41917428],\n",
              "       [0.40272917],\n",
              "       [0.41829956],\n",
              "       [0.40920228],\n",
              "       [0.41235134],\n",
              "       [0.42792166],\n",
              "       [0.42057383],\n",
              "       [0.41655004],\n",
              "       [0.4189993 ],\n",
              "       [0.43719385],\n",
              "       [0.43666903],\n",
              "       [0.41952418],\n",
              "       [0.420049  ],\n",
              "       [0.42127363],\n",
              "       [0.41794965],\n",
              "       [0.42722185],\n",
              "       [0.41305108],\n",
              "       [0.4193492 ],\n",
              "       [0.41864939],\n",
              "       [0.43911829],\n",
              "       [0.45206437],\n",
              "       [0.45066482],\n",
              "       [0.43859347],\n",
              "       [0.44891537],\n",
              "       [0.44034291],\n",
              "       [0.45661304],\n",
              "       [0.44839048],\n",
              "       [0.44559133],\n",
              "       [0.45556333],\n",
              "       [0.45713786],\n",
              "       [0.45556333],\n",
              "       [0.44734084],\n",
              "       [0.43771867],\n",
              "       [0.45136463],\n",
              "       [0.46413579],\n",
              "       [0.46028692],\n",
              "       [0.45066482],\n",
              "       [0.44996501],\n",
              "       [0.45083974],\n",
              "       [0.43911829],\n",
              "       [0.43282017],\n",
              "       [0.40815257],\n",
              "       [0.35776766],\n",
              "       [0.3754374 ],\n",
              "       [0.36266624],\n",
              "       [0.35864245],\n",
              "       [0.35479359],\n",
              "       [0.37088873],\n",
              "       [0.4004549 ],\n",
              "       [0.4193492 ],\n",
              "       [0.41672503],\n",
              "       [0.38680895],\n",
              "       [0.39170752],\n",
              "       [0.39258225],\n",
              "       [0.39555632],\n",
              "       [0.39520642],\n",
              "       [0.40412878],\n",
              "       [0.3796361 ],\n",
              "       [0.37823656],\n",
              "       [0.37841148],\n",
              "       [0.34884537],\n",
              "       [0.38418478],\n",
              "       [0.40797765],\n",
              "       [0.39643112],\n",
              "       [0.420049  ],\n",
              "       [0.41147655],\n",
              "       [0.39170752],\n",
              "       [0.40447869],\n",
              "       [0.4196991 ],\n",
              "       [0.41689994],\n",
              "       [0.41287616],\n",
              "       [0.40745276],\n",
              "       [0.41689994],\n",
              "       [0.39188244],\n",
              "       [0.4046536 ],\n",
              "       [0.39258225],\n",
              "       [0.3696641 ],\n",
              "       [0.38261025],\n",
              "       [0.34622113],\n",
              "       [0.32050389],\n",
              "       [0.31717984],\n",
              "       [0.31717984],\n",
              "       [0.35654304],\n",
              "       [0.38313507],\n",
              "       [0.37788665],\n",
              "       [0.35199443],\n",
              "       [0.40360396],\n",
              "       [0.4247726 ],\n",
              "       [0.42809657],\n",
              "       [0.42337298],\n",
              "       [0.41025192],\n",
              "       [0.42844648],\n",
              "       [0.42722185],\n",
              "       [0.43754376],\n",
              "       [0.4350945 ],\n",
              "       [0.44839048],\n",
              "       [0.46763475],\n",
              "       [0.49912529],\n",
              "       [0.51224636],\n",
              "       [0.4944017 ],\n",
              "       [0.4947516 ],\n",
              "       [0.50594824],\n",
              "       [0.51399581],\n",
              "       [0.52344299],\n",
              "       [0.51539542],\n",
              "       [0.51627014],\n",
              "       [0.51662004],\n",
              "       [0.54093774],\n",
              "       [0.53603923],\n",
              "       [0.54163755],\n",
              "       [0.54986003],\n",
              "       [0.55545842],\n",
              "       [0.56280618],\n",
              "       [0.57610216],\n",
              "       [0.55248427],\n",
              "       [0.53796366],\n",
              "       [0.55755777],\n",
              "       [0.55160955],\n",
              "       [0.55563333],\n",
              "       [0.56000702],\n",
              "       [0.55563333],\n",
              "       [0.59954513],\n",
              "       [0.61179147],\n",
              "       [0.61319108],\n",
              "       [0.64135765],\n",
              "       [0.63558435],\n",
              "       [0.65167955],\n",
              "       [0.64258227],\n",
              "       [0.64888033],\n",
              "       [0.62578726],\n",
              "       [0.63978312],\n",
              "       [0.64293218],\n",
              "       [0.64328201],\n",
              "       [0.63121066],\n",
              "       [0.63943321],\n",
              "       [0.63995803],\n",
              "       [0.63820859],\n",
              "       [0.63331001],\n",
              "       [0.63943321],\n",
              "       [0.63943321],\n",
              "       [0.66707489],\n",
              "       [0.68456964],\n",
              "       [0.69121766],\n",
              "       [0.69996504],\n",
              "       [0.72130866],\n",
              "       [0.73058086],\n",
              "       [0.73722888],\n",
              "       [0.73145558],\n",
              "       [0.75402383],\n",
              "       [0.77011897],\n",
              "       [0.78743873],\n",
              "       [0.78026596],\n",
              "       [0.7624213 ],\n",
              "       [0.80318404],\n",
              "       [0.80545844],\n",
              "       [0.83467465],\n",
              "       [0.83187542],\n",
              "       [0.81875436],\n",
              "       [0.8156053 ],\n",
              "       [0.75874742],\n",
              "       [0.78271521],\n",
              "       [0.82942617],\n",
              "       [0.87526246],\n",
              "       [0.85566829],\n",
              "       [0.84307205],\n",
              "       [0.84972014],\n",
              "       [0.87998599],\n",
              "       [0.87281321],\n",
              "       [0.86686493],\n",
              "       [0.85829253],\n",
              "       [0.85146959],\n",
              "       [0.76889434],\n",
              "       [0.79076278],\n",
              "       [0.79233738],\n",
              "       [0.72533244],\n",
              "       [0.78866349],\n",
              "       [0.74562635],\n",
              "       [0.79146259],\n",
              "       [0.7986355 ],\n",
              "       [0.78393984],\n",
              "       [0.77344301],\n",
              "       [0.77449265],\n",
              "       [0.74912532],\n",
              "       [0.75944722],\n",
              "       [0.76679499],\n",
              "       [0.76749479],\n",
              "       [0.76312111],\n",
              "       [0.76889434],\n",
              "       [0.77571728],\n",
              "       [0.82662708],\n",
              "       [0.8329252 ],\n",
              "       [0.82995099],\n",
              "       [0.83484963],\n",
              "       [0.82645209],\n",
              "       [0.80458365],\n",
              "       [0.80598326],\n",
              "       [0.81840452],\n",
              "       [0.81035695],\n",
              "       [0.82382785],\n",
              "       [0.83869836],\n",
              "       [0.86126661],\n",
              "       [0.83834853],\n",
              "       [0.83904833],\n",
              "       [0.86826454],\n",
              "       [0.85304405],\n",
              "       [0.8563681 ],\n",
              "       [0.85706791],\n",
              "       [0.86109176],\n",
              "       [0.87456266],\n",
              "       [0.83484963],\n",
              "       [0.86389085],\n",
              "       [0.87701191],\n",
              "       [0.86389085],\n",
              "       [0.82802669],\n",
              "       [0.80090977],\n",
              "       [0.82417782],\n",
              "       [0.85951716],\n",
              "       [0.86284121],\n",
              "       [0.86669007],\n",
              "       [0.87701191],\n",
              "       [0.87998599],\n",
              "       [0.87998599],\n",
              "       [0.91007698],\n",
              "       [0.90937718],\n",
              "       [0.91952417],\n",
              "       [0.91252624],\n",
              "       [0.92529747],\n",
              "       [0.92529747],\n",
              "       [0.93054581],\n",
              "       [0.93352002],\n",
              "       [0.9364941 ],\n",
              "       [0.95626312],\n",
              "       [0.96326105],\n",
              "       [0.94034296],\n",
              "       [0.94786571],\n",
              "       [0.97218341],\n",
              "       [0.97060881],\n",
              "       [0.9772569 ],\n",
              "       [0.98372988],\n",
              "       [0.99457667],\n",
              "       [0.96833454],\n",
              "       [0.96973415],\n",
              "       [0.97620713],\n",
              "       [0.98862838],\n",
              "       [0.99440168],\n",
              "       [0.9657103 ],\n",
              "       [0.9464661 ],\n",
              "       [0.95853752],\n",
              "       [0.98355502],\n",
              "       [0.97673208],\n",
              "       [1.        ],\n",
              "       [0.96973415],\n",
              "       [0.94716591],\n",
              "       [0.94926519],\n",
              "       [0.86231639],\n",
              "       [0.87508748],\n",
              "       [0.92547245],\n",
              "       [0.95276422],\n",
              "       [0.95818755],\n",
              "       [0.96518548],\n",
              "       [0.96483564],\n",
              "       [0.96938418],\n",
              "       [0.9923024 ],\n",
              "       [0.99720091]])"
            ]
          },
          "metadata": {
            "tags": []
          },
          "execution_count": 246
        }
      ]
    },
    {
      "cell_type": "code",
      "metadata": {
        "colab": {
          "base_uri": "https://localhost:8080/"
        },
        "id": "ryDBUAM-9WEv",
        "outputId": "395e2dc0-f8c2-4be1-85eb-a8b0a7a35ca9"
      },
      "source": [
        "#Create the training data set\n",
        "#Create the scaled training data set\n",
        "train_data = scaled_data[0:training_data_len , :]\n",
        "#Split the data into x_train and y_train data sets\n",
        "x_train = []\n",
        "y_train = []\n",
        "\n",
        "for i in range(60, len(train_data)):\n",
        "  x_train.append(train_data[i-60:i, 0])\n",
        "  y_train.append(train_data[i,0])\n",
        "  if i <= 60:\n",
        "    print (x_train)\n",
        "    print (y_train)\n",
        "    print ()"
      ],
      "execution_count": 247,
      "outputs": [
        {
          "output_type": "stream",
          "text": [
            "[array([0.82085377, 0.86196642, 0.86738988, 0.85619312, 0.80668307,\n",
            "       0.80545844, 0.7986355 , 0.78498948, 0.79006297, 0.78149058,\n",
            "       0.79233738, 0.7963611 , 0.79181242, 0.76766971, 0.74720088,\n",
            "       0.72358293, 0.69961514, 0.70293912, 0.70818759, 0.68159556,\n",
            "       0.67932123, 0.68002103, 0.60584325, 0.62893632, 0.62281319,\n",
            "       0.61476562, 0.5937719 , 0.60671798, 0.63785868, 0.64748078,\n",
            "       0.66462563, 0.67214838, 0.69611617, 0.69944022, 0.68526945,\n",
            "       0.64678098, 0.62316309, 0.59657106, 0.57470262, 0.54566133,\n",
            "       0.54496152, 0.5691043 , 0.55633314, 0.53638913, 0.45381388,\n",
            "       0.26294614, 0.31298114, 0.28796364, 0.24300213, 0.25402378,\n",
            "       0.18754373, 0.16445066, 0.09709586, 0.15990202, 0.13383485,\n",
            "       0.13470961, 0.13680896, 0.14100769, 0.12263822, 0.09797062])]\n",
            "[0.06000700540214143]\n",
            "\n"
          ],
          "name": "stdout"
        }
      ]
    },
    {
      "cell_type": "code",
      "metadata": {
        "colab": {
          "base_uri": "https://localhost:8080/"
        },
        "id": "dmJfr5Rh-me3",
        "outputId": "e1a7f846-09b1-4954-e639-b6d7e1446d58"
      },
      "source": [
        "#Convert the x_train and y_train to numpy arrays\n",
        "x_train, y_train = np.array(x_train), np.array(y_train)\n",
        "\n",
        "#Reshape the data\n",
        "x_train = np.reshape(x_train, (x_train.shape[0], x_train.shape[1], 1))\n",
        "x_train.shape\n"
      ],
      "execution_count": 248,
      "outputs": [
        {
          "output_type": "execute_result",
          "data": {
            "text/plain": [
              "(255, 60, 1)"
            ]
          },
          "metadata": {
            "tags": []
          },
          "execution_count": 248
        }
      ]
    },
    {
      "cell_type": "code",
      "metadata": {
        "id": "asLm_vfh_s7Y"
      },
      "source": [
        "#Build the LSTM model\n",
        "model = Sequential()\n",
        "model.add(LSTM(50, return_sequences=True, input_shape=(x_train.shape[1], 1)))\n",
        "model.add(LSTM(50, return_sequences= False))\n",
        "model.add(Dense(25))\n",
        "model.add(Dense(1))\n",
        "\n"
      ],
      "execution_count": 249,
      "outputs": []
    },
    {
      "cell_type": "code",
      "metadata": {
        "id": "t2HR6Nd_CnK7"
      },
      "source": [
        "#Compile the model\n",
        "model.compile(optimizer = 'adam', loss = 'mean_squared_error')"
      ],
      "execution_count": 250,
      "outputs": []
    },
    {
      "cell_type": "code",
      "metadata": {
        "id": "9oWMWd78DgoF"
      },
      "source": [
        ""
      ],
      "execution_count": null,
      "outputs": []
    },
    {
      "cell_type": "code",
      "metadata": {
        "colab": {
          "base_uri": "https://localhost:8080/"
        },
        "id": "26KDGTykD8p2",
        "outputId": "26c516b3-dec1-470f-be2e-181165762eed"
      },
      "source": [
        "#train the model\n",
        "model.fit(x_train, y_train, batch_size=1, epochs=1)"
      ],
      "execution_count": 255,
      "outputs": [
        {
          "output_type": "stream",
          "text": [
            "255/255 [==============================] - 9s 36ms/step - loss: 0.0041\n"
          ],
          "name": "stdout"
        },
        {
          "output_type": "execute_result",
          "data": {
            "text/plain": [
              "<keras.callbacks.History at 0x7faf7d0a0450>"
            ]
          },
          "metadata": {
            "tags": []
          },
          "execution_count": 255
        }
      ]
    },
    {
      "cell_type": "code",
      "metadata": {
        "id": "ftOrs7HgEdBX"
      },
      "source": [
        "#Create the testing data set\n",
        "#Create a new array containing scaled values from index 1543 to 2003\n",
        "test_data = scaled_data[training_data_len - 60: , :]\n",
        "#Create the data sets x_test and y_test\n",
        "x_test = []\n",
        "y_test = dataset[training_data_len:, :]\n",
        "for i in range(60, len(test_data)):\n",
        "  x_test.append(test_data[i-60:i,0])"
      ],
      "execution_count": 256,
      "outputs": []
    },
    {
      "cell_type": "code",
      "metadata": {
        "id": "4gRIhRssFQx2"
      },
      "source": [
        "#Convert the data to a numpy array\n",
        "x_test = np.array(x_test)\n",
        "\n"
      ],
      "execution_count": 257,
      "outputs": []
    },
    {
      "cell_type": "code",
      "metadata": {
        "id": "6GXuXBDkFk0-"
      },
      "source": [
        "#Reshape the data\n",
        "x_test = np.reshape(x_test, (x_test.shape[0], x_test.shape[1],1))\n",
        "\n",
        "#Get the models predicted price values\n",
        "predictions = model.predict(x_test)\n",
        "predictions = scaler.inverse_transform(predictions)\n"
      ],
      "execution_count": 258,
      "outputs": []
    },
    {
      "cell_type": "code",
      "metadata": {
        "colab": {
          "base_uri": "https://localhost:8080/"
        },
        "id": "R_bqn0kwGHWu",
        "outputId": "2c0a4f9c-0a11-4871-f351-c5a7e2e23ba3"
      },
      "source": [
        "#Get the root mean squared error (RMSE)\n",
        "rmse = np.sqrt( np.mean(predictions - y_test)**2)\n",
        "rmse"
      ],
      "execution_count": 259,
      "outputs": [
        {
          "output_type": "execute_result",
          "data": {
            "text/plain": [
              "1.7342984615228114"
            ]
          },
          "metadata": {
            "tags": []
          },
          "execution_count": 259
        }
      ]
    },
    {
      "cell_type": "code",
      "metadata": {
        "colab": {
          "base_uri": "https://localhost:8080/",
          "height": 827
        },
        "id": "H3fHhAOjGr-y",
        "outputId": "3bc3e8fe-f1f1-4926-c97d-4507e1ecc584"
      },
      "source": [
        "#Plot the data\n",
        "train = data[:training_data_len]\n",
        "valid = data[training_data_len:]\n",
        "valid['Predictions'] = predictions\n",
        "#Visualise the data\n",
        "plt.figure(figsize=(16,8))\n",
        "plt.title('Model')\n",
        "plt.xlabel('Date',fontsize=18)\n",
        "plt.ylabel('Close Price USD ($)', fontsize=18)\n",
        "plt.plot(train['Close'])\n",
        "plt.plot(valid[['Close','Predictions']])\n",
        "plt.legend(['Train', 'Val', 'Predictions'], loc='lower right')\n",
        "plt.show()\n"
      ],
      "execution_count": 260,
      "outputs": [
        {
          "output_type": "stream",
          "text": [
            "/usr/local/lib/python3.7/dist-packages/ipykernel_launcher.py:4: SettingWithCopyWarning: \n",
            "A value is trying to be set on a copy of a slice from a DataFrame.\n",
            "Try using .loc[row_indexer,col_indexer] = value instead\n",
            "\n",
            "See the caveats in the documentation: https://pandas.pydata.org/pandas-docs/stable/user_guide/indexing.html#returning-a-view-versus-a-copy\n",
            "  after removing the cwd from sys.path.\n"
          ],
          "name": "stderr"
        },
        {
          "output_type": "display_data",
          "data": {
            "image/png": "[encoded data removed]",
            "text/plain": [
              "<Figure size 1600x800 with 1 Axes>"
            ]
          },
          "metadata": {
            "tags": []
          }
        }
      ]
    },
    {
      "cell_type": "code",
      "metadata": {
        "colab": {
          "base_uri": "https://localhost:8080/",
          "height": 450
        },
        "id": "8MziIYyZKV8k",
        "outputId": "d98cdd39-5ca9-45f5-b24d-516d98d7acc5"
      },
      "source": [
        "#show the valid and predicted return\n",
        "valid"
      ],
      "execution_count": 261,
      "outputs": [
        {
          "output_type": "execute_result",
          "data": {
            "text/html": [
              "<div>\n",
              "<style scoped>\n",
              "    .dataframe tbody tr th:only-of-type {\n",
              "        vertical-align: middle;\n",
              "    }\n",
              "\n",
              "    .dataframe tbody tr th {\n",
              "        vertical-align: top;\n",
              "    }\n",
              "\n",
              "    .dataframe thead th {\n",
              "        text-align: right;\n",
              "    }\n",
              "</style>\n",
              "<table border=\"1\" class=\"dataframe\">\n",
              "  <thead>\n",
              "    <tr style=\"text-align: right;\">\n",
              "      <th></th>\n",
              "      <th>Close</th>\n",
              "      <th>Predictions</th>\n",
              "    </tr>\n",
              "    <tr>\n",
              "      <th>Date</th>\n",
              "      <th></th>\n",
              "      <th></th>\n",
              "    </tr>\n",
              "  </thead>\n",
              "  <tbody>\n",
              "    <tr>\n",
              "      <th>2021-04-09</th>\n",
              "      <td>62.950001</td>\n",
              "      <td>65.182373</td>\n",
              "    </tr>\n",
              "    <tr>\n",
              "      <th>2021-04-12</th>\n",
              "      <td>63.279999</td>\n",
              "      <td>65.106400</td>\n",
              "    </tr>\n",
              "    <tr>\n",
              "      <th>2021-04-13</th>\n",
              "      <td>63.669998</td>\n",
              "      <td>65.081978</td>\n",
              "    </tr>\n",
              "    <tr>\n",
              "      <th>2021-04-14</th>\n",
              "      <td>66.580002</td>\n",
              "      <td>65.129448</td>\n",
              "    </tr>\n",
              "    <tr>\n",
              "      <th>2021-04-15</th>\n",
              "      <td>66.940002</td>\n",
              "      <td>65.528587</td>\n",
              "    </tr>\n",
              "    <tr>\n",
              "      <th>...</th>\n",
              "      <td>...</td>\n",
              "      <td>...</td>\n",
              "    </tr>\n",
              "    <tr>\n",
              "      <th>2021-07-26</th>\n",
              "      <td>74.500000</td>\n",
              "      <td>75.060638</td>\n",
              "    </tr>\n",
              "    <tr>\n",
              "      <th>2021-07-27</th>\n",
              "      <td>74.480003</td>\n",
              "      <td>75.311760</td>\n",
              "    </tr>\n",
              "    <tr>\n",
              "      <th>2021-07-28</th>\n",
              "      <td>74.739998</td>\n",
              "      <td>75.630104</td>\n",
              "    </tr>\n",
              "    <tr>\n",
              "      <th>2021-07-29</th>\n",
              "      <td>76.050003</td>\n",
              "      <td>75.982727</td>\n",
              "    </tr>\n",
              "    <tr>\n",
              "      <th>2021-07-30</th>\n",
              "      <td>76.330002</td>\n",
              "      <td>76.461952</td>\n",
              "    </tr>\n",
              "  </tbody>\n",
              "</table>\n",
              "<p>78 rows × 2 columns</p>\n",
              "</div>"
            ],
            "text/plain": [
              "                Close  Predictions\n",
              "Date                              \n",
              "2021-04-09  62.950001    65.182373\n",
              "2021-04-12  63.279999    65.106400\n",
              "2021-04-13  63.669998    65.081978\n",
              "2021-04-14  66.580002    65.129448\n",
              "2021-04-15  66.940002    65.528587\n",
              "...               ...          ...\n",
              "2021-07-26  74.500000    75.060638\n",
              "2021-07-27  74.480003    75.311760\n",
              "2021-07-28  74.739998    75.630104\n",
              "2021-07-29  76.050003    75.982727\n",
              "2021-07-30  76.330002    76.461952\n",
              "\n",
              "[78 rows x 2 columns]"
            ]
          },
          "metadata": {
            "tags": []
          },
          "execution_count": 261
        }
      ]
    },
    {
      "cell_type": "code",
      "metadata": {
        "colab": {
          "base_uri": "https://localhost:8080/"
        },
        "id": "1_Z2x6IdK0eM",
        "outputId": "5b9acaa4-e27f-4020-dee1-0b55691a7640"
      },
      "source": [
        "#get the quote\n",
        "apple_quote = yf.download('BZ=F', start=start_date, end=end_date)\n",
        "#Create a new dataframe\n",
        "new_data = apple_quote.filter(['Close'])\n",
        "#Get the last 60 day closing price values and convert the dataframe to an array\n",
        "last_60_days = new_data[-60:].values\n",
        "last_60_days_scaled = scaler.transform(last_60_days)\n",
        "#Create an empty list\n",
        "X_test = []\n",
        "#Append the past 60 days\n",
        "X_test.append(last_60_days_scaled)\n",
        "#Convert the X_test data set to a numpy array\n",
        "X_test = np.array(X_test)\n",
        "#Reshape the data\n",
        "X_test = np.reshape(X_test, (X_test.shape[0], X_test.shape[1],1))\n",
        "#Get the predicted scaled price\n",
        "pred_price = model.predict(X_test)\n",
        "#undo the scaling\n",
        "pred_price = scaler.inverse_transform(pred_price)\n",
        "print(pred_price)\n"
      ],
      "execution_count": 262,
      "outputs": [
        {
          "output_type": "stream",
          "text": [
            "\r[*********************100%***********************]  1 of 1 completed\n",
            "[[76.98628]]\n"
          ],
          "name": "stdout"
        }
      ]
    }
  ]
}