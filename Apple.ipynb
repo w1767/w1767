{
  "nbformat": 4,
  "nbformat_minor": 0,
  "metadata": {
    "colab": {
      "name": "Copy of Untitled0.ipynb",
      "provenance": [],
      "authorship_tag": "ABX9TyNkAWb2OQJ5eWl5G+JAHsNT",
      "include_colab_link": true
    },
    "kernelspec": {
      "name": "python3",
      "display_name": "Python 3"
    },
    "language_info": {
      "name": "python"
    }
  },
  "cells": [
    {
      "cell_type": "markdown",
      "metadata": {
        "id": "view-in-github",
        "colab_type": "text"
      },
      "source": [
        "<a href=\"https://colab.research.google.com/github/w1767/w1767/blob/main/Apple.ipynb\" target=\"_parent\"><img src=\"https://colab.research.google.com/assets/colab-badge.svg\" alt=\"Open In Colab\"/></a>"
      ]
    },
    {
      "cell_type": "code",
      "metadata": {
        "id": "jF-rA78EBttL"
      },
      "source": [
        "# Description: this program uses an aritificial recurrent neural network called Long Short Term Memory (LSTM) to predict\n",
        "# the closing stock price of a corporation (Apple Inc.) using the past 60 day stock price. "
      ],
      "execution_count": null,
      "outputs": []
    },
    {
      "cell_type": "code",
      "metadata": {
        "id": "wpTDFiYaHooV"
      },
      "source": [
        ""
      ],
      "execution_count": null,
      "outputs": []
    },
    {
      "cell_type": "code",
      "metadata": {
        "id": "4t9te_ZzCKmA",
        "colab": {
          "base_uri": "https://localhost:8080/"
        },
        "outputId": "7749fb97-8323-4487-8380-eb97a9b6b97b"
      },
      "source": [
        "# Import the libraries\n",
        "!pip install pandas_datareader\n",
        "!pip install yfinance\n",
        "!pip install mplfinance\n",
        "import os\n",
        "import argparse\n",
        "import signal\n",
        "import yfinance as yf\n",
        "import pickle\n",
        "import mplfinance as mpf\n",
        "import math\n",
        "import pandas_datareader.data as web\n",
        "from datetime import datetime, timedelta\n",
        "import numpy as np\n",
        "import pandas as pd\n",
        "from sklearn.preprocessing import MinMaxScaler\n",
        "from keras.models import Sequential\n",
        "from keras.layers import Dense, LSTM\n",
        "#from yfinance import stock_info\n",
        "from dateutil.parser import parse\n",
        "from urllib.request import urlopen, Request\n",
        "from bs4 import BeautifulSoup\n",
        "import matplotlib.pyplot as plt\n",
        "plt.style.use('fivethirtyeight')\n",
        "start_date = datetime(2020, 1,1)\n",
        "end_date = datetime(2021, 8, 2)\n"
      ],
      "execution_count": null,
      "outputs": [
        {
          "output_type": "stream",
          "text": [
            "Requirement already satisfied: pandas_datareader in /usr/local/lib/python3.7/dist-packages (0.9.0)\n",
            "Requirement already satisfied: requests>=2.19.0 in /usr/local/lib/python3.7/dist-packages (from pandas_datareader) (2.23.0)\n",
            "Requirement already satisfied: lxml in /usr/local/lib/python3.7/dist-packages (from pandas_datareader) (4.2.6)\n",
            "Requirement already satisfied: pandas>=0.23 in /usr/local/lib/python3.7/dist-packages (from pandas_datareader) (1.1.5)\n",
            "Requirement already satisfied: pytz>=2017.2 in /usr/local/lib/python3.7/dist-packages (from pandas>=0.23->pandas_datareader) (2018.9)\n",
            "Requirement already satisfied: python-dateutil>=2.7.3 in /usr/local/lib/python3.7/dist-packages (from pandas>=0.23->pandas_datareader) (2.8.1)\n",
            "Requirement already satisfied: numpy>=1.15.4 in /usr/local/lib/python3.7/dist-packages (from pandas>=0.23->pandas_datareader) (1.19.5)\n",
            "Requirement already satisfied: six>=1.5 in /usr/local/lib/python3.7/dist-packages (from python-dateutil>=2.7.3->pandas>=0.23->pandas_datareader) (1.15.0)\n",
            "Requirement already satisfied: chardet<4,>=3.0.2 in /usr/local/lib/python3.7/dist-packages (from requests>=2.19.0->pandas_datareader) (3.0.4)\n",
            "Requirement already satisfied: certifi>=2017.4.17 in /usr/local/lib/python3.7/dist-packages (from requests>=2.19.0->pandas_datareader) (2021.5.30)\n",
            "Requirement already satisfied: idna<3,>=2.5 in /usr/local/lib/python3.7/dist-packages (from requests>=2.19.0->pandas_datareader) (2.10)\n",
            "Requirement already satisfied: urllib3!=1.25.0,!=1.25.1,<1.26,>=1.21.1 in /usr/local/lib/python3.7/dist-packages (from requests>=2.19.0->pandas_datareader) (1.24.3)\n",
            "Collecting yfinance\n",
            "  Downloading yfinance-0.1.63.tar.gz (26 kB)\n",
            "Requirement already satisfied: pandas>=0.24 in /usr/local/lib/python3.7/dist-packages (from yfinance) (1.1.5)\n",
            "Requirement already satisfied: numpy>=1.15 in /usr/local/lib/python3.7/dist-packages (from yfinance) (1.19.5)\n",
            "Requirement already satisfied: requests>=2.20 in /usr/local/lib/python3.7/dist-packages (from yfinance) (2.23.0)\n",
            "Requirement already satisfied: multitasking>=0.0.7 in /usr/local/lib/python3.7/dist-packages (from yfinance) (0.0.9)\n",
            "Collecting lxml>=4.5.1\n",
            "  Downloading lxml-4.6.3-cp37-cp37m-manylinux2014_x86_64.whl (6.3 MB)\n",
            "\u001b[K     |████████████████████████████████| 6.3 MB 8.1 MB/s \n",
            "\u001b[?25hRequirement already satisfied: python-dateutil>=2.7.3 in /usr/local/lib/python3.7/dist-packages (from pandas>=0.24->yfinance) (2.8.1)\n",
            "Requirement already satisfied: pytz>=2017.2 in /usr/local/lib/python3.7/dist-packages (from pandas>=0.24->yfinance) (2018.9)\n",
            "Requirement already satisfied: six>=1.5 in /usr/local/lib/python3.7/dist-packages (from python-dateutil>=2.7.3->pandas>=0.24->yfinance) (1.15.0)\n",
            "Requirement already satisfied: certifi>=2017.4.17 in /usr/local/lib/python3.7/dist-packages (from requests>=2.20->yfinance) (2021.5.30)\n",
            "Requirement already satisfied: chardet<4,>=3.0.2 in /usr/local/lib/python3.7/dist-packages (from requests>=2.20->yfinance) (3.0.4)\n",
            "Requirement already satisfied: urllib3!=1.25.0,!=1.25.1,<1.26,>=1.21.1 in /usr/local/lib/python3.7/dist-packages (from requests>=2.20->yfinance) (1.24.3)\n",
            "Requirement already satisfied: idna<3,>=2.5 in /usr/local/lib/python3.7/dist-packages (from requests>=2.20->yfinance) (2.10)\n",
            "Building wheels for collected packages: yfinance\n",
            "  Building wheel for yfinance (setup.py) ... \u001b[?25l\u001b[?25hdone\n",
            "  Created wheel for yfinance: filename=yfinance-0.1.63-py2.py3-none-any.whl size=23919 sha256=8c1f055a5bafbe8077d284c05bf58dc6b65731e1db86bba8936cd4e6d88ad232\n",
            "  Stored in directory: /root/.cache/pip/wheels/fe/87/8b/7ec24486e001d3926537f5f7801f57a74d181be25b11157983\n",
            "Successfully built yfinance\n",
            "Installing collected packages: lxml, yfinance\n",
            "  Attempting uninstall: lxml\n",
            "    Found existing installation: lxml 4.2.6\n",
            "    Uninstalling lxml-4.2.6:\n",
            "      Successfully uninstalled lxml-4.2.6\n",
            "Successfully installed lxml-4.6.3 yfinance-0.1.63\n",
            "Collecting mplfinance\n",
            "  Downloading mplfinance-0.12.7a17-py3-none-any.whl (62 kB)\n",
            "\u001b[K     |████████████████████████████████| 62 kB 750 kB/s \n",
            "\u001b[?25hRequirement already satisfied: matplotlib in /usr/local/lib/python3.7/dist-packages (from mplfinance) (3.2.2)\n",
            "Requirement already satisfied: pandas in /usr/local/lib/python3.7/dist-packages (from mplfinance) (1.1.5)\n",
            "Requirement already satisfied: python-dateutil>=2.1 in /usr/local/lib/python3.7/dist-packages (from matplotlib->mplfinance) (2.8.1)\n",
            "Requirement already satisfied: cycler>=0.10 in /usr/local/lib/python3.7/dist-packages (from matplotlib->mplfinance) (0.10.0)\n",
            "Requirement already satisfied: kiwisolver>=1.0.1 in /usr/local/lib/python3.7/dist-packages (from matplotlib->mplfinance) (1.3.1)\n",
            "Requirement already satisfied: pyparsing!=2.0.4,!=2.1.2,!=2.1.6,>=2.0.1 in /usr/local/lib/python3.7/dist-packages (from matplotlib->mplfinance) (2.4.7)\n",
            "Requirement already satisfied: numpy>=1.11 in /usr/local/lib/python3.7/dist-packages (from matplotlib->mplfinance) (1.19.5)\n",
            "Requirement already satisfied: six in /usr/local/lib/python3.7/dist-packages (from cycler>=0.10->matplotlib->mplfinance) (1.15.0)\n",
            "Requirement already satisfied: pytz>=2017.2 in /usr/local/lib/python3.7/dist-packages (from pandas->mplfinance) (2018.9)\n",
            "Installing collected packages: mplfinance\n",
            "Successfully installed mplfinance-0.12.7a17\n"
          ],
          "name": "stdout"
        }
      ]
    },
    {
      "cell_type": "code",
      "metadata": {
        "colab": {
          "base_uri": "https://localhost:8080/",
          "height": 467
        },
        "id": "Tkat1PpYDTgp",
        "outputId": "ad8847fd-765b-4536-db24-da0bde1b4889"
      },
      "source": [
        "#Get the stock quote\n",
        "data = yf.download('AAPL', start=start_date, end=end_date)\n",
        "#df = web.DataReader('AAPL', data_source='yahoo',start='2012-01',end='2019-12-17')\n",
        "#show the data\n",
        "data.head(391)"
      ],
      "execution_count": null,
      "outputs": [
        {
          "output_type": "stream",
          "text": [
            "\r[*********************100%***********************]  1 of 1 completed\n"
          ],
          "name": "stdout"
        },
        {
          "output_type": "execute_result",
          "data": {
            "text/html": [
              "<div>\n",
              "<style scoped>\n",
              "    .dataframe tbody tr th:only-of-type {\n",
              "        vertical-align: middle;\n",
              "    }\n",
              "\n",
              "    .dataframe tbody tr th {\n",
              "        vertical-align: top;\n",
              "    }\n",
              "\n",
              "    .dataframe thead th {\n",
              "        text-align: right;\n",
              "    }\n",
              "</style>\n",
              "<table border=\"1\" class=\"dataframe\">\n",
              "  <thead>\n",
              "    <tr style=\"text-align: right;\">\n",
              "      <th></th>\n",
              "      <th>Open</th>\n",
              "      <th>High</th>\n",
              "      <th>Low</th>\n",
              "      <th>Close</th>\n",
              "      <th>Adj Close</th>\n",
              "      <th>Volume</th>\n",
              "    </tr>\n",
              "    <tr>\n",
              "      <th>Date</th>\n",
              "      <th></th>\n",
              "      <th></th>\n",
              "      <th></th>\n",
              "      <th></th>\n",
              "      <th></th>\n",
              "      <th></th>\n",
              "    </tr>\n",
              "  </thead>\n",
              "  <tbody>\n",
              "    <tr>\n",
              "      <th>2020-01-02</th>\n",
              "      <td>74.059998</td>\n",
              "      <td>75.150002</td>\n",
              "      <td>73.797501</td>\n",
              "      <td>75.087502</td>\n",
              "      <td>74.207466</td>\n",
              "      <td>135480400</td>\n",
              "    </tr>\n",
              "    <tr>\n",
              "      <th>2020-01-03</th>\n",
              "      <td>74.287498</td>\n",
              "      <td>75.144997</td>\n",
              "      <td>74.125000</td>\n",
              "      <td>74.357498</td>\n",
              "      <td>73.486023</td>\n",
              "      <td>146322800</td>\n",
              "    </tr>\n",
              "    <tr>\n",
              "      <th>2020-01-06</th>\n",
              "      <td>73.447502</td>\n",
              "      <td>74.989998</td>\n",
              "      <td>73.187500</td>\n",
              "      <td>74.949997</td>\n",
              "      <td>74.071579</td>\n",
              "      <td>118387200</td>\n",
              "    </tr>\n",
              "    <tr>\n",
              "      <th>2020-01-07</th>\n",
              "      <td>74.959999</td>\n",
              "      <td>75.224998</td>\n",
              "      <td>74.370003</td>\n",
              "      <td>74.597504</td>\n",
              "      <td>73.723213</td>\n",
              "      <td>108872000</td>\n",
              "    </tr>\n",
              "    <tr>\n",
              "      <th>2020-01-08</th>\n",
              "      <td>74.290001</td>\n",
              "      <td>76.110001</td>\n",
              "      <td>74.290001</td>\n",
              "      <td>75.797501</td>\n",
              "      <td>74.909149</td>\n",
              "      <td>132079200</td>\n",
              "    </tr>\n",
              "    <tr>\n",
              "      <th>...</th>\n",
              "      <td>...</td>\n",
              "      <td>...</td>\n",
              "      <td>...</td>\n",
              "      <td>...</td>\n",
              "      <td>...</td>\n",
              "      <td>...</td>\n",
              "    </tr>\n",
              "    <tr>\n",
              "      <th>2021-07-15</th>\n",
              "      <td>149.240005</td>\n",
              "      <td>150.000000</td>\n",
              "      <td>147.089996</td>\n",
              "      <td>148.479996</td>\n",
              "      <td>148.479996</td>\n",
              "      <td>106820300</td>\n",
              "    </tr>\n",
              "    <tr>\n",
              "      <th>2021-07-16</th>\n",
              "      <td>148.460007</td>\n",
              "      <td>149.759995</td>\n",
              "      <td>145.880005</td>\n",
              "      <td>146.389999</td>\n",
              "      <td>146.389999</td>\n",
              "      <td>93100300</td>\n",
              "    </tr>\n",
              "    <tr>\n",
              "      <th>2021-07-19</th>\n",
              "      <td>143.750000</td>\n",
              "      <td>144.070007</td>\n",
              "      <td>141.669998</td>\n",
              "      <td>142.449997</td>\n",
              "      <td>142.449997</td>\n",
              "      <td>121434600</td>\n",
              "    </tr>\n",
              "    <tr>\n",
              "      <th>2021-07-20</th>\n",
              "      <td>143.460007</td>\n",
              "      <td>147.100006</td>\n",
              "      <td>142.960007</td>\n",
              "      <td>146.149994</td>\n",
              "      <td>146.149994</td>\n",
              "      <td>96350000</td>\n",
              "    </tr>\n",
              "    <tr>\n",
              "      <th>2021-07-21</th>\n",
              "      <td>145.529999</td>\n",
              "      <td>146.130005</td>\n",
              "      <td>144.630005</td>\n",
              "      <td>145.399994</td>\n",
              "      <td>145.399994</td>\n",
              "      <td>74993500</td>\n",
              "    </tr>\n",
              "  </tbody>\n",
              "</table>\n",
              "<p>391 rows × 6 columns</p>\n",
              "</div>"
            ],
            "text/plain": [
              "                  Open        High  ...   Adj Close     Volume\n",
              "Date                                ...                       \n",
              "2020-01-02   74.059998   75.150002  ...   74.207466  135480400\n",
              "2020-01-03   74.287498   75.144997  ...   73.486023  146322800\n",
              "2020-01-06   73.447502   74.989998  ...   74.071579  118387200\n",
              "2020-01-07   74.959999   75.224998  ...   73.723213  108872000\n",
              "2020-01-08   74.290001   76.110001  ...   74.909149  132079200\n",
              "...                ...         ...  ...         ...        ...\n",
              "2021-07-15  149.240005  150.000000  ...  148.479996  106820300\n",
              "2021-07-16  148.460007  149.759995  ...  146.389999   93100300\n",
              "2021-07-19  143.750000  144.070007  ...  142.449997  121434600\n",
              "2021-07-20  143.460007  147.100006  ...  146.149994   96350000\n",
              "2021-07-21  145.529999  146.130005  ...  145.399994   74993500\n",
              "\n",
              "[391 rows x 6 columns]"
            ]
          },
          "metadata": {
            "tags": []
          },
          "execution_count": 3
        }
      ]
    },
    {
      "cell_type": "code",
      "metadata": {
        "id": "iINONBjJCmEs"
      },
      "source": [
        ""
      ],
      "execution_count": null,
      "outputs": []
    },
    {
      "cell_type": "code",
      "metadata": {
        "colab": {
          "base_uri": "https://localhost:8080/"
        },
        "id": "-1NflEs4D4Bv",
        "outputId": "fcfb12ad-1220-4098-fbfb-2486231dd1bb"
      },
      "source": [
        "#Get the number of rows and columns in the data set\n",
        "data.shape\n",
        "\n"
      ],
      "execution_count": null,
      "outputs": [
        {
          "output_type": "execute_result",
          "data": {
            "text/plain": [
              "(398, 6)"
            ]
          },
          "metadata": {
            "tags": []
          },
          "execution_count": 4
        }
      ]
    },
    {
      "cell_type": "code",
      "metadata": {
        "colab": {
          "base_uri": "https://localhost:8080/",
          "height": 523
        },
        "id": "nASYYE3wEFyH",
        "outputId": "af43a851-234b-4f32-f0c4-3ffd216239ce"
      },
      "source": [
        "mpf.plot(data, type='candle', mav= (3,6,9), volume=True, show_nontrading=True)\n",
        "#Visualize the closing price history\n",
        "#plt.figure(figsize=(16,8))\n",
        "#plt.title('Close Price History')\n",
        "#plt.plot(df['Close'])\n",
        "#plt.xlabel('Date',fontsize=18)\n",
        "#plt.ylabel('Close Price USD($)',fontsize=18)\n",
        "#plt.show()"
      ],
      "execution_count": null,
      "outputs": [
        {
          "output_type": "display_data",
          "data": {
            "image/png": "[encoded data removed]",
            "text/plain": [
              "<Figure size 800x575 with 4 Axes>"
            ]
          },
          "metadata": {
            "tags": []
          }
        }
      ]
    },
    {
      "cell_type": "code",
      "metadata": {
        "id": "5u3vU4T5HqUi"
      },
      "source": [
        ""
      ],
      "execution_count": null,
      "outputs": []
    },
    {
      "cell_type": "code",
      "metadata": {
        "colab": {
          "base_uri": "https://localhost:8080/"
        },
        "id": "LhjmcNHG7Tbm",
        "outputId": "f91dc553-8ff3-49aa-fab9-f9bbc2cdc1c0"
      },
      "source": [
        "#Create a new dataframe with only the 'Close column'\n",
        "data = data.filter(['Close'])\n",
        "#Convert the dataframe to a numpy array\n",
        "dataset = data.values\n",
        "#Get the number of rows to train the model on \n",
        "training_data_len = math.ceil(len(dataset) * .8)\n",
        "\n",
        "training_data_len"
      ],
      "execution_count": null,
      "outputs": [
        {
          "output_type": "execute_result",
          "data": {
            "text/plain": [
              "319"
            ]
          },
          "metadata": {
            "tags": []
          },
          "execution_count": 6
        }
      ]
    },
    {
      "cell_type": "code",
      "metadata": {
        "colab": {
          "base_uri": "https://localhost:8080/"
        },
        "id": "7KFZs2c38gaO",
        "outputId": "f7a4eaa2-1cf1-451a-9dcf-ef459cd2a112"
      },
      "source": [
        "#Scale the data\n",
        "scaler = MinMaxScaler(feature_range=(0,1))\n",
        "scaled_data = scaler.fit_transform(dataset)\n",
        "scaled_data\n",
        "\n"
      ],
      "execution_count": null,
      "outputs": [
        {
          "output_type": "execute_result",
          "data": {
            "text/plain": [
              "array([[0.20412115],\n",
              "       [0.1962765 ],\n",
              "       [0.20264352],\n",
              "       [0.19885561],\n",
              "       [0.21175083],\n",
              "       [0.22905197],\n",
              "       [0.23093248],\n",
              "       [0.24874406],\n",
              "       [0.23724579],\n",
              "       [0.23364588],\n",
              "       [0.24412326],\n",
              "       [0.25349924],\n",
              "       [0.24769636],\n",
              "       [0.25073213],\n",
              "       [0.25484249],\n",
              "       [0.25237087],\n",
              "       [0.22722516],\n",
              "       [0.25070524],\n",
              "       [0.26857052],\n",
              "       [0.26730786],\n",
              "       [0.2287296 ],\n",
              "       [0.22644605],\n",
              "       [0.2538216 ],\n",
              "       [0.26080655],\n",
              "       [0.27090778],\n",
              "       [0.25699167],\n",
              "       [0.26107514],\n",
              "       [0.2558633 ],\n",
              "       [0.27625399],\n",
              "       [0.26999437],\n",
              "       [0.27020934],\n",
              "       [0.25422457],\n",
              "       [0.26663623],\n",
              "       [0.257717  ],\n",
              "       [0.23823979],\n",
              "       [0.19829138],\n",
              "       [0.1711576 ],\n",
              "       [0.18343498],\n",
              "       [0.13204201],\n",
              "       [0.13161216],\n",
              "       [0.1999839 ],\n",
              "       [0.17448893],\n",
              "       [0.21054187],\n",
              "       [0.18416039],\n",
              "       [0.17370982],\n",
              "       [0.11229622],\n",
              "       [0.16379659],\n",
              "       [0.13717325],\n",
              "       [0.06410016],\n",
              "       [0.14399702],\n",
              "       [0.04792739],\n",
              "       [0.07653872],\n",
              "       [0.05990921],\n",
              "       [0.0548317 ],\n",
              "       [0.01308334],\n",
              "       [0.        ],\n",
              "       [0.06047339],\n",
              "       [0.05681974],\n",
              "       [0.09152946],\n",
              "       [0.06278379],\n",
              "       [0.08177741],\n",
              "       [0.08038041],\n",
              "       [0.04443492],\n",
              "       [0.05523466],\n",
              "       [0.04577817],\n",
              "       [0.10235609],\n",
              "       [0.09418908],\n",
              "       [0.11202755],\n",
              "       [0.1171856 ],\n",
              "       [0.13131668],\n",
              "       [0.1683905 ],\n",
              "       [0.16135185],\n",
              "       [0.1674234 ],\n",
              "       [0.15697283],\n",
              "       [0.14120302],\n",
              "       [0.11820649],\n",
              "       [0.13897325],\n",
              "       [0.13609867],\n",
              "       [0.15742957],\n",
              "       [0.15796691],\n",
              "       [0.14563575],\n",
              "       [0.17021739],\n",
              "       [0.18652445],\n",
              "       [0.17381731],\n",
              "       [0.18480513],\n",
              "       [0.19662576],\n",
              "       [0.20487337],\n",
              "       [0.21322838],\n",
              "       [0.23039522],\n",
              "       [0.24350541],\n",
              "       [0.23383396],\n",
              "       [0.22373265],\n",
              "       [0.22881019],\n",
              "       [0.22389383],\n",
              "       [0.24337104],\n",
              "       [0.23848165],\n",
              "       [0.25484249],\n",
              "       [0.24844858],\n",
              "       [0.25392909],\n",
              "       [0.24812621],\n",
              "       [0.25183353],\n",
              "       [0.25220968],\n",
              "       [0.25137687],\n",
              "       [0.26188114],\n",
              "       [0.26588401],\n",
              "       [0.270666  ],\n",
              "       [0.2631438 ],\n",
              "       [0.28780595],\n",
              "       [0.29307149],\n",
              "       [0.32136045],\n",
              "       [0.34513609],\n",
              "       [0.29962659],\n",
              "       [0.30741745],\n",
              "       [0.31867394],\n",
              "       [0.34309432],\n",
              "       [0.34177795],\n",
              "       [0.34215411],\n",
              "       [0.33675419],\n",
              "       [0.36133575],\n",
              "       [0.38191444],\n",
              "       [0.36453271],\n",
              "       [0.37737423],\n",
              "       [0.34725846],\n",
              "       [0.36915351],\n",
              "       [0.37726674],\n",
              "       [0.37541304],\n",
              "       [0.37541304],\n",
              "       [0.40157972],\n",
              "       [0.39846336],\n",
              "       [0.42178225],\n",
              "       [0.42618817],\n",
              "       [0.42798809],\n",
              "       [0.42323299],\n",
              "       [0.44021176],\n",
              "       [0.4473847 ],\n",
              "       [0.43446259],\n",
              "       [0.43236711],\n",
              "       [0.45418157],\n",
              "       [0.43959384],\n",
              "       [0.44252212],\n",
              "       [0.39494403],\n",
              "       [0.39247241],\n",
              "       [0.41605997],\n",
              "       [0.39932306],\n",
              "       [0.4185316 ],\n",
              "       [0.43088957],\n",
              "       [0.53910223],\n",
              "       [0.56787474],\n",
              "       [0.5756925 ],\n",
              "       [0.57996404],\n",
              "       [0.62122882],\n",
              "       [0.59124742],\n",
              "       [0.60860226],\n",
              "       [0.57257614],\n",
              "       [0.61163803],\n",
              "       [0.63313012],\n",
              "       [0.63202864],\n",
              "       [0.6288048 ],\n",
              "       [0.63906729],\n",
              "       [0.64062543],\n",
              "       [0.66821595],\n",
              "       [0.73371311],\n",
              "       [0.7496978 ],\n",
              "       [0.7386025 ],\n",
              "       [0.75684393],\n",
              "       [0.74059057],\n",
              "       [0.7384145 ],\n",
              "       [0.78389703],\n",
              "       [0.8391317 ],\n",
              "       [0.80925771],\n",
              "       [0.69620935],\n",
              "       [0.69706906],\n",
              "       [0.60959626],\n",
              "       [0.65795346],\n",
              "       [0.61679609],\n",
              "       [0.60078451],\n",
              "       [0.63689122],\n",
              "       [0.63882551],\n",
              "       [0.60218146],\n",
              "       [0.58294603],\n",
              "       [0.54533488],\n",
              "       [0.58015212],\n",
              "       [0.59874273],\n",
              "       [0.54834384],\n",
              "       [0.56016447],\n",
              "       [0.60379339],\n",
              "       [0.63259279],\n",
              "       [0.6232437 ],\n",
              "       [0.64172691],\n",
              "       [0.65225807],\n",
              "       [0.61174544],\n",
              "       [0.64914171],\n",
              "       [0.61324996],\n",
              "       [0.63388234],\n",
              "       [0.63270027],\n",
              "       [0.65419236],\n",
              "       [0.73403548],\n",
              "       [0.6985735 ],\n",
              "       [0.69954068],\n",
              "       [0.69438255],\n",
              "       [0.6762217 ],\n",
              "       [0.6435538 ],\n",
              "       [0.65999523],\n",
              "       [0.65311777],\n",
              "       [0.64108217],\n",
              "       [0.63345249],\n",
              "       [0.63355997],\n",
              "       [0.65021629],\n",
              "       [0.59218764],\n",
              "       [0.63646137],\n",
              "       [0.56704193],\n",
              "       [0.56607475],\n",
              "       [0.5840207 ],\n",
              "       [0.6324853 ],\n",
              "       [0.67632919],\n",
              "       [0.67267557],\n",
              "       [0.64720742],\n",
              "       [0.64344632],\n",
              "       [0.68127236],\n",
              "       [0.67826348],\n",
              "       [0.67880081],\n",
              "       [0.68997671],\n",
              "       [0.68019777],\n",
              "       [0.66558314],\n",
              "       [0.67213824],\n",
              "       [0.65816835],\n",
              "       [0.62066467],\n",
              "       [0.63484945],\n",
              "       [0.64409105],\n",
              "       [0.65010881],\n",
              "       [0.67654415],\n",
              "       [0.71598212],\n",
              "       [0.7198507 ],\n",
              "       [0.71834626],\n",
              "       [0.71093146],\n",
              "       [0.72705053],\n",
              "       [0.73382051],\n",
              "       [0.70588081],\n",
              "       [0.72157003],\n",
              "       [0.71265087],\n",
              "       [0.70588081],\n",
              "       [0.77143167],\n",
              "       [0.77067945],\n",
              "       [0.78024342],\n",
              "       [0.75832156],\n",
              "       [0.77519277],\n",
              "       [0.81441593],\n",
              "       [0.80452959],\n",
              "       [0.81538303],\n",
              "       [0.86610438],\n",
              "       [0.8465465 ],\n",
              "       [0.83418861],\n",
              "       [0.8231202 ],\n",
              "       [0.78787318],\n",
              "       [0.80506676],\n",
              "       [0.75767674],\n",
              "       [0.80409965],\n",
              "       [0.81624273],\n",
              "       [0.7832523 ],\n",
              "       [0.78131809],\n",
              "       [0.80377728],\n",
              "       [0.78250016],\n",
              "       [0.76347962],\n",
              "       [0.77089441],\n",
              "       [0.81602777],\n",
              "       [0.86803858],\n",
              "       [0.89168001],\n",
              "       [0.93305219],\n",
              "       [0.9356313 ],\n",
              "       [0.92381058],\n",
              "       [0.87040273],\n",
              "       [0.81527563],\n",
              "       [0.83870193],\n",
              "       [0.84783613],\n",
              "       [0.83655275],\n",
              "       [0.87362657],\n",
              "       [0.86685651],\n",
              "       [0.86846852],\n",
              "       [0.85879698],\n",
              "       [0.85213448],\n",
              "       [0.84934057],\n",
              "       [0.85191952],\n",
              "       [0.82849322],\n",
              "       [0.80323995],\n",
              "       [0.79109703],\n",
              "       [0.79281627],\n",
              "       [0.75122913],\n",
              "       [0.74972469],\n",
              "       [0.74424419],\n",
              "       [0.69739142],\n",
              "       [0.7002929 ],\n",
              "       [0.77046456],\n",
              "       [0.74177264],\n",
              "       [0.70888969],\n",
              "       [0.68814982],\n",
              "       [0.70201223],\n",
              "       [0.64763727],\n",
              "       [0.69846601],\n",
              "       [0.68653798],\n",
              "       [0.7078151 ],\n",
              "       [0.69782128],\n",
              "       [0.72962956],\n",
              "       [0.74660833],\n",
              "       [0.73790406],\n",
              "       [0.69244825],\n",
              "       [0.68664538],\n",
              "       [0.72318195],\n",
              "       [0.71404783],\n",
              "       [0.68771997],\n",
              "       [0.69309299],\n",
              "       [0.69975557],\n",
              "       [0.70168986],\n",
              "       [0.68567828],\n",
              "       [0.70985688],\n",
              "       [0.718991  ],\n",
              "       [0.75015454],\n",
              "       [0.75348579],\n",
              "       [0.77164663],\n",
              "       [0.79808189],\n",
              "       [0.82645144],\n",
              "       [0.80753846],\n",
              "       [0.84181821],\n",
              "       [0.81602777],\n",
              "       [0.84257051],\n",
              "       [0.8389169 ],\n",
              "       [0.84622413],\n",
              "       [0.82763352],\n",
              "       [0.83182447],\n",
              "       [0.81506066],\n",
              "       [0.8406363 ],\n",
              "       [0.84493465],\n",
              "       [0.84138844],\n",
              "       [0.83268417],\n",
              "       [0.8316095 ],\n",
              "       [0.80990261],\n",
              "       [0.82150819],\n",
              "       [0.7711093 ],\n",
              "       [0.77379589],\n",
              "       [0.7914194 ],\n",
              "       [0.79647005],\n",
              "       [0.76036325],\n",
              "       [0.75026203],\n",
              "       [0.71651937],\n",
              "       [0.74016072],\n",
              "       [0.76681086],\n",
              "       [0.75413053],\n",
              "       [0.73887116],\n",
              "       [0.73715184],\n",
              "       [0.76530642],\n",
              "       [0.74510389],\n",
              "       [0.76304976],\n",
              "       [0.76090059],\n",
              "       [0.76036325],\n",
              "       [0.74349197],\n",
              "       [0.73629214],\n",
              "       [0.73274592],\n",
              "       [0.74112782],\n",
              "       [0.72479387],\n",
              "       [0.75004706],\n",
              "       [0.75015454],\n",
              "       [0.75918118],\n",
              "       [0.76337213],\n",
              "       [0.7524112 ],\n",
              "       [0.76573628],\n",
              "       [0.79937137],\n",
              "       [0.79034473],\n",
              "       [0.79582515],\n",
              "       [0.81344866],\n",
              "       [0.79915656],\n",
              "       [0.81892925],\n",
              "       [0.83698252],\n",
              "       [0.83397364],\n",
              "       [0.83085736],\n",
              "       [0.82763352],\n",
              "       [0.84557939],\n",
              "       [0.86223579],\n",
              "       [0.86900585],\n",
              "       [0.8723371 ],\n",
              "       [0.90124399],\n",
              "       [0.92338081],\n",
              "       [0.95078326],\n",
              "       [0.936491  ],\n",
              "       [0.95658605],\n",
              "       [0.95003096],\n",
              "       [0.96228144],\n",
              "       [1.        ],\n",
              "       [0.99280017],\n",
              "       [0.97034098],\n",
              "       [0.92800153],\n",
              "       [0.96776187],\n",
              "       [0.95970233],\n",
              "       [0.97474689],\n",
              "       [0.99365987],\n",
              "       [0.99828076],\n",
              "       [0.97442453],\n",
              "       [0.95518901],\n",
              "       [0.96228144],\n",
              "       [0.96464559]])"
            ]
          },
          "metadata": {
            "tags": []
          },
          "execution_count": 7
        }
      ]
    },
    {
      "cell_type": "code",
      "metadata": {
        "colab": {
          "base_uri": "https://localhost:8080/"
        },
        "id": "ryDBUAM-9WEv",
        "outputId": "38200b3c-c922-40c1-91fc-f90332653ce9"
      },
      "source": [
        "#Create the training data set\n",
        "#Create the scaled training data set\n",
        "train_data = scaled_data[0:training_data_len , :]\n",
        "#Split the data into x_train and y_train data sets\n",
        "x_train = []\n",
        "y_train = []\n",
        "\n",
        "for i in range(60, len(train_data)):\n",
        "  x_train.append(train_data[i-60:i, 0])\n",
        "  y_train.append(train_data[i,0])\n",
        "  if i <= 60:\n",
        "    print (x_train)\n",
        "    print (y_train)\n",
        "    print ()"
      ],
      "execution_count": null,
      "outputs": [
        {
          "output_type": "stream",
          "text": [
            "[array([0.20412115, 0.1962765 , 0.20264352, 0.19885561, 0.21175083,\n",
            "       0.22905197, 0.23093248, 0.24874406, 0.23724579, 0.23364588,\n",
            "       0.24412326, 0.25349924, 0.24769636, 0.25073213, 0.25484249,\n",
            "       0.25237087, 0.22722516, 0.25070524, 0.26857052, 0.26730786,\n",
            "       0.2287296 , 0.22644605, 0.2538216 , 0.26080655, 0.27090778,\n",
            "       0.25699167, 0.26107514, 0.2558633 , 0.27625399, 0.26999437,\n",
            "       0.27020934, 0.25422457, 0.26663623, 0.257717  , 0.23823979,\n",
            "       0.19829138, 0.1711576 , 0.18343498, 0.13204201, 0.13161216,\n",
            "       0.1999839 , 0.17448893, 0.21054187, 0.18416039, 0.17370982,\n",
            "       0.11229622, 0.16379659, 0.13717325, 0.06410016, 0.14399702,\n",
            "       0.04792739, 0.07653872, 0.05990921, 0.0548317 , 0.01308334,\n",
            "       0.        , 0.06047339, 0.05681974, 0.09152946, 0.06278379])]\n",
            "[0.08177740654600985]\n",
            "\n"
          ],
          "name": "stdout"
        }
      ]
    },
    {
      "cell_type": "code",
      "metadata": {
        "colab": {
          "base_uri": "https://localhost:8080/"
        },
        "id": "dmJfr5Rh-me3",
        "outputId": "2c2ac8ec-9f81-4590-e90b-85bc719288b7"
      },
      "source": [
        "#Convert the x_train and y_train to numpy arrays\n",
        "x_train, y_train = np.array(x_train), np.array(y_train)\n",
        "\n",
        "#Reshape the data\n",
        "x_train = np.reshape(x_train, (x_train.shape[0], x_train.shape[1], 1))\n",
        "x_train.shape\n"
      ],
      "execution_count": null,
      "outputs": [
        {
          "output_type": "execute_result",
          "data": {
            "text/plain": [
              "(259, 60, 1)"
            ]
          },
          "metadata": {
            "tags": []
          },
          "execution_count": 9
        }
      ]
    },
    {
      "cell_type": "code",
      "metadata": {
        "id": "asLm_vfh_s7Y"
      },
      "source": [
        "#Build the LSTM model\n",
        "model = Sequential()\n",
        "model.add(LSTM(50, return_sequences=True, input_shape=(x_train.shape[1], 1)))\n",
        "model.add(LSTM(50, return_sequences= False))\n",
        "model.add(Dense(25))\n",
        "model.add(Dense(1))\n",
        "\n"
      ],
      "execution_count": null,
      "outputs": []
    },
    {
      "cell_type": "code",
      "metadata": {
        "id": "t2HR6Nd_CnK7"
      },
      "source": [
        "#Compile the model\n",
        "model.compile(optimizer = 'adam', loss = 'mean_squared_error')"
      ],
      "execution_count": null,
      "outputs": []
    },
    {
      "cell_type": "code",
      "metadata": {
        "id": "9oWMWd78DgoF"
      },
      "source": [
        ""
      ],
      "execution_count": null,
      "outputs": []
    },
    {
      "cell_type": "code",
      "metadata": {
        "colab": {
          "base_uri": "https://localhost:8080/"
        },
        "id": "26KDGTykD8p2",
        "outputId": "2311ebad-2ea1-46f2-dfc6-8693cdfea6bb"
      },
      "source": [
        "#train the model\n",
        "model.fit(x_train, y_train, batch_size=1, epochs=1)"
      ],
      "execution_count": null,
      "outputs": [
        {
          "output_type": "stream",
          "text": [
            "259/259 [==============================] - 26s 25ms/step - loss: 0.0224\n"
          ],
          "name": "stdout"
        },
        {
          "output_type": "execute_result",
          "data": {
            "text/plain": [
              "<keras.callbacks.History at 0x7faf8f4d9310>"
            ]
          },
          "metadata": {
            "tags": []
          },
          "execution_count": 12
        }
      ]
    },
    {
      "cell_type": "code",
      "metadata": {
        "id": "ftOrs7HgEdBX"
      },
      "source": [
        "#Create the testing data set\n",
        "#Create a new array containing scaled values from index 1543 to 2003\n",
        "test_data = scaled_data[training_data_len - 60: , :]\n",
        "#Create the data sets x_test and y_test\n",
        "x_test = []\n",
        "y_test = dataset[training_data_len:, :]\n",
        "for i in range(60, len(test_data)):\n",
        "  x_test.append(test_data[i-60:i,0])"
      ],
      "execution_count": null,
      "outputs": []
    },
    {
      "cell_type": "code",
      "metadata": {
        "id": "4gRIhRssFQx2"
      },
      "source": [
        "#Convert the data to a numpy array\n",
        "x_test = np.array(x_test)\n",
        "\n"
      ],
      "execution_count": null,
      "outputs": []
    },
    {
      "cell_type": "code",
      "metadata": {
        "id": "6GXuXBDkFk0-"
      },
      "source": [
        "#Reshape the data\n",
        "x_test = np.reshape(x_test, (x_test.shape[0], x_test.shape[1],1))\n",
        "\n",
        "#Get the models predicted price values\n",
        "predictions = model.predict(x_test)\n",
        "predictions = scaler.inverse_transform(predictions)\n"
      ],
      "execution_count": null,
      "outputs": []
    },
    {
      "cell_type": "code",
      "metadata": {
        "colab": {
          "base_uri": "https://localhost:8080/"
        },
        "id": "R_bqn0kwGHWu",
        "outputId": "0742fc59-fc51-44b6-bd87-92201bcbc5f9"
      },
      "source": [
        "#Get the root mean squared error (RMSE)\n",
        "rmse = np.sqrt( np.mean(predictions - y_test)**2)\n",
        "rmse"
      ],
      "execution_count": null,
      "outputs": [
        {
          "output_type": "execute_result",
          "data": {
            "text/plain": [
              "1.0435009726995155"
            ]
          },
          "metadata": {
            "tags": []
          },
          "execution_count": 18
        }
      ]
    },
    {
      "cell_type": "code",
      "metadata": {
        "colab": {
          "base_uri": "https://localhost:8080/",
          "height": 827
        },
        "id": "H3fHhAOjGr-y",
        "outputId": "005295c8-cd55-4b84-ce35-c5d0f723abc5"
      },
      "source": [
        "#Plot the data\n",
        "train = data[:training_data_len]\n",
        "valid = data[training_data_len:]\n",
        "valid['Predictions'] = predictions\n",
        "#Visualise the data\n",
        "plt.figure(figsize=(16,8))\n",
        "plt.title('Model')\n",
        "plt.xlabel('Date',fontsize=18)\n",
        "plt.ylabel('Close Price USD ($)', fontsize=18)\n",
        "plt.plot(train['Close'])\n",
        "plt.plot(valid[['Close','Predictions']])\n",
        "plt.legend(['Train', 'Val', 'Predictions'], loc='lower right')\n",
        "plt.show()\n"
      ],
      "execution_count": null,
      "outputs": [
        {
          "output_type": "stream",
          "text": [
            "/usr/local/lib/python3.7/dist-packages/ipykernel_launcher.py:4: SettingWithCopyWarning: \n",
            "A value is trying to be set on a copy of a slice from a DataFrame.\n",
            "Try using .loc[row_indexer,col_indexer] = value instead\n",
            "\n",
            "See the caveats in the documentation: https://pandas.pydata.org/pandas-docs/stable/user_guide/indexing.html#returning-a-view-versus-a-copy\n",
            "  after removing the cwd from sys.path.\n"
          ],
          "name": "stderr"
        },
        {
          "output_type": "display_data",
          "data": {
            "image/png": "[encoded data removed]",
            "text/plain": [
              "<Figure size 1600x800 with 1 Axes>"
            ]
          },
          "metadata": {
            "tags": []
          }
        }
      ]
    },
    {
      "cell_type": "code",
      "metadata": {
        "colab": {
          "base_uri": "https://localhost:8080/",
          "height": 450
        },
        "id": "8MziIYyZKV8k",
        "outputId": "26521efc-f104-4b16-b298-7bb324daed4e"
      },
      "source": [
        "#show the valid and predicted return\n",
        "valid"
      ],
      "execution_count": null,
      "outputs": [
        {
          "output_type": "execute_result",
          "data": {
            "text/html": [
              "<div>\n",
              "<style scoped>\n",
              "    .dataframe tbody tr th:only-of-type {\n",
              "        vertical-align: middle;\n",
              "    }\n",
              "\n",
              "    .dataframe tbody tr th {\n",
              "        vertical-align: top;\n",
              "    }\n",
              "\n",
              "    .dataframe thead th {\n",
              "        text-align: right;\n",
              "    }\n",
              "</style>\n",
              "<table border=\"1\" class=\"dataframe\">\n",
              "  <thead>\n",
              "    <tr style=\"text-align: right;\">\n",
              "      <th></th>\n",
              "      <th>Close</th>\n",
              "      <th>Predictions</th>\n",
              "    </tr>\n",
              "    <tr>\n",
              "      <th>Date</th>\n",
              "      <th></th>\n",
              "      <th></th>\n",
              "    </tr>\n",
              "  </thead>\n",
              "  <tbody>\n",
              "    <tr>\n",
              "      <th>2021-04-09</th>\n",
              "      <td>133.000000</td>\n",
              "      <td>127.736870</td>\n",
              "    </tr>\n",
              "    <tr>\n",
              "      <th>2021-04-12</th>\n",
              "      <td>131.240005</td>\n",
              "      <td>128.533829</td>\n",
              "    </tr>\n",
              "    <tr>\n",
              "      <th>2021-04-13</th>\n",
              "      <td>134.429993</td>\n",
              "      <td>129.321732</td>\n",
              "    </tr>\n",
              "    <tr>\n",
              "      <th>2021-04-14</th>\n",
              "      <td>132.029999</td>\n",
              "      <td>130.218948</td>\n",
              "    </tr>\n",
              "    <tr>\n",
              "      <th>2021-04-15</th>\n",
              "      <td>134.500000</td>\n",
              "      <td>131.019165</td>\n",
              "    </tr>\n",
              "    <tr>\n",
              "      <th>...</th>\n",
              "      <td>...</td>\n",
              "      <td>...</td>\n",
              "    </tr>\n",
              "    <tr>\n",
              "      <th>2021-07-26</th>\n",
              "      <td>148.990005</td>\n",
              "      <td>145.798294</td>\n",
              "    </tr>\n",
              "    <tr>\n",
              "      <th>2021-07-27</th>\n",
              "      <td>146.770004</td>\n",
              "      <td>146.173660</td>\n",
              "    </tr>\n",
              "    <tr>\n",
              "      <th>2021-07-28</th>\n",
              "      <td>144.979996</td>\n",
              "      <td>146.445923</td>\n",
              "    </tr>\n",
              "    <tr>\n",
              "      <th>2021-07-29</th>\n",
              "      <td>145.639999</td>\n",
              "      <td>146.573608</td>\n",
              "    </tr>\n",
              "    <tr>\n",
              "      <th>2021-07-30</th>\n",
              "      <td>145.860001</td>\n",
              "      <td>146.642792</td>\n",
              "    </tr>\n",
              "  </tbody>\n",
              "</table>\n",
              "<p>79 rows × 2 columns</p>\n",
              "</div>"
            ],
            "text/plain": [
              "                 Close  Predictions\n",
              "Date                               \n",
              "2021-04-09  133.000000   127.736870\n",
              "2021-04-12  131.240005   128.533829\n",
              "2021-04-13  134.429993   129.321732\n",
              "2021-04-14  132.029999   130.218948\n",
              "2021-04-15  134.500000   131.019165\n",
              "...                ...          ...\n",
              "2021-07-26  148.990005   145.798294\n",
              "2021-07-27  146.770004   146.173660\n",
              "2021-07-28  144.979996   146.445923\n",
              "2021-07-29  145.639999   146.573608\n",
              "2021-07-30  145.860001   146.642792\n",
              "\n",
              "[79 rows x 2 columns]"
            ]
          },
          "metadata": {
            "tags": []
          },
          "execution_count": 20
        }
      ]
    },
    {
      "cell_type": "code",
      "metadata": {
        "colab": {
          "base_uri": "https://localhost:8080/"
        },
        "id": "1_Z2x6IdK0eM",
        "outputId": "7ec9685a-6824-4e2f-bf34-93eecd38d0f0"
      },
      "source": [
        "#get the quote\n",
        "apple_quote = yf.download('AAPL', start=start_date, end=end_date)\n",
        "#Create a new dataframe\n",
        "new_data = apple_quote.filter(['Close'])\n",
        "#Get the last 60 day closing price values and convert the dataframe to an array\n",
        "last_60_days = new_data[-60:].values\n",
        "last_60_days_scaled = scaler.transform(last_60_days)\n",
        "#Create an empty list\n",
        "X_test = []\n",
        "#Append the past 60 days\n",
        "X_test.append(last_60_days_scaled)\n",
        "#Convert the X_test data set to a numpy array\n",
        "X_test = np.array(X_test)\n",
        "#Reshape the data\n",
        "X_test = np.reshape(X_test, (X_test.shape[0], X_test.shape[1],1))\n",
        "#Get the predicted scaled price\n",
        "pred_price = model.predict(X_test)\n",
        "#undo the scaling\n",
        "pred_price = scaler.inverse_transform(pred_price)\n",
        "print(pred_price)\n"
      ],
      "execution_count": null,
      "outputs": [
        {
          "output_type": "stream",
          "text": [
            "\r[*********************100%***********************]  1 of 1 completed\n",
            "[[146.6766]]\n"
          ],
          "name": "stdout"
        }
      ]
    }
  ]
}