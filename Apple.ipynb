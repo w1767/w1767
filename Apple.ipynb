{
  "nbformat": 4,
  "nbformat_minor": 0,
  "metadata": {
    "colab": {
      "name": "Copy of Untitled0.ipynb",
      "provenance": [],
      "authorship_tag": "ABX9TyPbWgBwxLWFf3IQFJyyr58O",
      "include_colab_link": true
    },
    "kernelspec": {
      "name": "python3",
      "display_name": "Python 3"
    },
    "language_info": {
      "name": "python"
    }
  },
  "cells": [
    {
      "cell_type": "markdown",
      "metadata": {
        "id": "view-in-github",
        "colab_type": "text"
      },
      "source": [
        "<a href=\"https://colab.research.google.com/github/w1767/w1767/blob/main/Apple.ipynb\" target=\"_parent\"><img src=\"https://colab.research.google.com/assets/colab-badge.svg\" alt=\"Open In Colab\"/></a>"
      ]
    },
    {
      "cell_type": "code",
      "metadata": {
        "id": "jF-rA78EBttL"
      },
      "source": [
        "# Description: this program uses an aritificial recurrent neural network called Long Short Term Memory (LSTM) to predict\n",
        "# the closing stock price of a corporation (Apple Inc.) using the past 60 day stock price. "
      ],
      "execution_count": 1,
      "outputs": []
    },
    {
      "cell_type": "code",
      "metadata": {
        "id": "wpTDFiYaHooV"
      },
      "source": [
        ""
      ],
      "execution_count": 1,
      "outputs": []
    },
    {
      "cell_type": "code",
      "metadata": {
        "id": "4t9te_ZzCKmA",
        "colab": {
          "base_uri": "https://localhost:8080/"
        },
        "outputId": "35682d79-9759-4fa8-8023-976dbe39af30"
      },
      "source": [
        "# Import the libraries\n",
        "!pip install pandas_datareader\n",
        "!pip install yfinance\n",
        "!pip install mplfinance\n",
        "import os\n",
        "import argparse\n",
        "import signal\n",
        "import yfinance as yf\n",
        "import pickle\n",
        "import mplfinance as mpf\n",
        "import math\n",
        "import pandas_datareader.data as web\n",
        "from datetime import datetime, timedelta\n",
        "import numpy as np\n",
        "import pandas as pd\n",
        "from sklearn.preprocessing import MinMaxScaler\n",
        "from keras.models import Sequential\n",
        "from keras.layers import Dense, LSTM\n",
        "#from yfinance import stock_info\n",
        "from dateutil.parser import parse\n",
        "from urllib.request import urlopen, Request\n",
        "from bs4 import BeautifulSoup\n",
        "import matplotlib.pyplot as plt\n",
        "plt.style.use('fivethirtyeight')\n",
        "start_date = datetime(2020, 1,1)\n",
        "end_date = datetime(2021, 9, 30)\n"
      ],
      "execution_count": 3,
      "outputs": [
        {
          "output_type": "stream",
          "name": "stdout",
          "text": [
            "Requirement already satisfied: pandas_datareader in /usr/local/lib/python3.7/dist-packages (0.9.0)\n",
            "Requirement already satisfied: lxml in /usr/local/lib/python3.7/dist-packages (from pandas_datareader) (4.6.3)\n",
            "Requirement already satisfied: requests>=2.19.0 in /usr/local/lib/python3.7/dist-packages (from pandas_datareader) (2.23.0)\n",
            "Requirement already satisfied: pandas>=0.23 in /usr/local/lib/python3.7/dist-packages (from pandas_datareader) (1.1.5)\n",
            "Requirement already satisfied: pytz>=2017.2 in /usr/local/lib/python3.7/dist-packages (from pandas>=0.23->pandas_datareader) (2018.9)\n",
            "Requirement already satisfied: python-dateutil>=2.7.3 in /usr/local/lib/python3.7/dist-packages (from pandas>=0.23->pandas_datareader) (2.8.2)\n",
            "Requirement already satisfied: numpy>=1.15.4 in /usr/local/lib/python3.7/dist-packages (from pandas>=0.23->pandas_datareader) (1.19.5)\n",
            "Requirement already satisfied: six>=1.5 in /usr/local/lib/python3.7/dist-packages (from python-dateutil>=2.7.3->pandas>=0.23->pandas_datareader) (1.15.0)\n",
            "Requirement already satisfied: certifi>=2017.4.17 in /usr/local/lib/python3.7/dist-packages (from requests>=2.19.0->pandas_datareader) (2021.5.30)\n",
            "Requirement already satisfied: idna<3,>=2.5 in /usr/local/lib/python3.7/dist-packages (from requests>=2.19.0->pandas_datareader) (2.10)\n",
            "Requirement already satisfied: urllib3!=1.25.0,!=1.25.1,<1.26,>=1.21.1 in /usr/local/lib/python3.7/dist-packages (from requests>=2.19.0->pandas_datareader) (1.24.3)\n",
            "Requirement already satisfied: chardet<4,>=3.0.2 in /usr/local/lib/python3.7/dist-packages (from requests>=2.19.0->pandas_datareader) (3.0.4)\n",
            "Requirement already satisfied: yfinance in /usr/local/lib/python3.7/dist-packages (0.1.63)\n",
            "Requirement already satisfied: multitasking>=0.0.7 in /usr/local/lib/python3.7/dist-packages (from yfinance) (0.0.9)\n",
            "Requirement already satisfied: numpy>=1.15 in /usr/local/lib/python3.7/dist-packages (from yfinance) (1.19.5)\n",
            "Requirement already satisfied: lxml>=4.5.1 in /usr/local/lib/python3.7/dist-packages (from yfinance) (4.6.3)\n",
            "Requirement already satisfied: requests>=2.20 in /usr/local/lib/python3.7/dist-packages (from yfinance) (2.23.0)\n",
            "Requirement already satisfied: pandas>=0.24 in /usr/local/lib/python3.7/dist-packages (from yfinance) (1.1.5)\n",
            "Requirement already satisfied: python-dateutil>=2.7.3 in /usr/local/lib/python3.7/dist-packages (from pandas>=0.24->yfinance) (2.8.2)\n",
            "Requirement already satisfied: pytz>=2017.2 in /usr/local/lib/python3.7/dist-packages (from pandas>=0.24->yfinance) (2018.9)\n",
            "Requirement already satisfied: six>=1.5 in /usr/local/lib/python3.7/dist-packages (from python-dateutil>=2.7.3->pandas>=0.24->yfinance) (1.15.0)\n",
            "Requirement already satisfied: idna<3,>=2.5 in /usr/local/lib/python3.7/dist-packages (from requests>=2.20->yfinance) (2.10)\n",
            "Requirement already satisfied: chardet<4,>=3.0.2 in /usr/local/lib/python3.7/dist-packages (from requests>=2.20->yfinance) (3.0.4)\n",
            "Requirement already satisfied: certifi>=2017.4.17 in /usr/local/lib/python3.7/dist-packages (from requests>=2.20->yfinance) (2021.5.30)\n",
            "Requirement already satisfied: urllib3!=1.25.0,!=1.25.1,<1.26,>=1.21.1 in /usr/local/lib/python3.7/dist-packages (from requests>=2.20->yfinance) (1.24.3)\n",
            "Requirement already satisfied: mplfinance in /usr/local/lib/python3.7/dist-packages (0.12.7a17)\n",
            "Requirement already satisfied: matplotlib in /usr/local/lib/python3.7/dist-packages (from mplfinance) (3.2.2)\n",
            "Requirement already satisfied: pandas in /usr/local/lib/python3.7/dist-packages (from mplfinance) (1.1.5)\n",
            "Requirement already satisfied: kiwisolver>=1.0.1 in /usr/local/lib/python3.7/dist-packages (from matplotlib->mplfinance) (1.3.2)\n",
            "Requirement already satisfied: pyparsing!=2.0.4,!=2.1.2,!=2.1.6,>=2.0.1 in /usr/local/lib/python3.7/dist-packages (from matplotlib->mplfinance) (2.4.7)\n",
            "Requirement already satisfied: python-dateutil>=2.1 in /usr/local/lib/python3.7/dist-packages (from matplotlib->mplfinance) (2.8.2)\n",
            "Requirement already satisfied: numpy>=1.11 in /usr/local/lib/python3.7/dist-packages (from matplotlib->mplfinance) (1.19.5)\n",
            "Requirement already satisfied: cycler>=0.10 in /usr/local/lib/python3.7/dist-packages (from matplotlib->mplfinance) (0.10.0)\n",
            "Requirement already satisfied: six in /usr/local/lib/python3.7/dist-packages (from cycler>=0.10->matplotlib->mplfinance) (1.15.0)\n",
            "Requirement already satisfied: pytz>=2017.2 in /usr/local/lib/python3.7/dist-packages (from pandas->mplfinance) (2018.9)\n"
          ]
        }
      ]
    },
    {
      "cell_type": "code",
      "metadata": {
        "colab": {
          "base_uri": "https://localhost:8080/",
          "height": 467
        },
        "id": "Tkat1PpYDTgp",
        "outputId": "d5e1843b-f24a-428e-c551-bd921258dd38"
      },
      "source": [
        "#Get the stock quote\n",
        "data = yf.download('AAPL', start=start_date, end=end_date)\n",
        "#df = web.DataReader('AAPL', data_source='yahoo',start='2012-01',end='2019-12-17')\n",
        "#show the data\n",
        "data.head(391)"
      ],
      "execution_count": 4,
      "outputs": [
        {
          "output_type": "stream",
          "name": "stdout",
          "text": [
            "\r[*********************100%***********************]  1 of 1 completed\n"
          ]
        },
        {
          "output_type": "execute_result",
          "data": {
            "text/html": [
              "<div>\n",
              "<style scoped>\n",
              "    .dataframe tbody tr th:only-of-type {\n",
              "        vertical-align: middle;\n",
              "    }\n",
              "\n",
              "    .dataframe tbody tr th {\n",
              "        vertical-align: top;\n",
              "    }\n",
              "\n",
              "    .dataframe thead th {\n",
              "        text-align: right;\n",
              "    }\n",
              "</style>\n",
              "<table border=\"1\" class=\"dataframe\">\n",
              "  <thead>\n",
              "    <tr style=\"text-align: right;\">\n",
              "      <th></th>\n",
              "      <th>Open</th>\n",
              "      <th>High</th>\n",
              "      <th>Low</th>\n",
              "      <th>Close</th>\n",
              "      <th>Adj Close</th>\n",
              "      <th>Volume</th>\n",
              "    </tr>\n",
              "    <tr>\n",
              "      <th>Date</th>\n",
              "      <th></th>\n",
              "      <th></th>\n",
              "      <th></th>\n",
              "      <th></th>\n",
              "      <th></th>\n",
              "      <th></th>\n",
              "    </tr>\n",
              "  </thead>\n",
              "  <tbody>\n",
              "    <tr>\n",
              "      <th>2020-01-02</th>\n",
              "      <td>74.059998</td>\n",
              "      <td>75.150002</td>\n",
              "      <td>73.797501</td>\n",
              "      <td>75.087502</td>\n",
              "      <td>74.096443</td>\n",
              "      <td>135480400</td>\n",
              "    </tr>\n",
              "    <tr>\n",
              "      <th>2020-01-03</th>\n",
              "      <td>74.287498</td>\n",
              "      <td>75.144997</td>\n",
              "      <td>74.125000</td>\n",
              "      <td>74.357498</td>\n",
              "      <td>73.376083</td>\n",
              "      <td>146322800</td>\n",
              "    </tr>\n",
              "    <tr>\n",
              "      <th>2020-01-06</th>\n",
              "      <td>73.447502</td>\n",
              "      <td>74.989998</td>\n",
              "      <td>73.187500</td>\n",
              "      <td>74.949997</td>\n",
              "      <td>73.960770</td>\n",
              "      <td>118387200</td>\n",
              "    </tr>\n",
              "    <tr>\n",
              "      <th>2020-01-07</th>\n",
              "      <td>74.959999</td>\n",
              "      <td>75.224998</td>\n",
              "      <td>74.370003</td>\n",
              "      <td>74.597504</td>\n",
              "      <td>73.612923</td>\n",
              "      <td>108872000</td>\n",
              "    </tr>\n",
              "    <tr>\n",
              "      <th>2020-01-08</th>\n",
              "      <td>74.290001</td>\n",
              "      <td>76.110001</td>\n",
              "      <td>74.290001</td>\n",
              "      <td>75.797501</td>\n",
              "      <td>74.797081</td>\n",
              "      <td>132079200</td>\n",
              "    </tr>\n",
              "    <tr>\n",
              "      <th>...</th>\n",
              "      <td>...</td>\n",
              "      <td>...</td>\n",
              "      <td>...</td>\n",
              "      <td>...</td>\n",
              "      <td>...</td>\n",
              "      <td>...</td>\n",
              "    </tr>\n",
              "    <tr>\n",
              "      <th>2021-07-15</th>\n",
              "      <td>149.240005</td>\n",
              "      <td>150.000000</td>\n",
              "      <td>147.089996</td>\n",
              "      <td>148.479996</td>\n",
              "      <td>148.257874</td>\n",
              "      <td>106820300</td>\n",
              "    </tr>\n",
              "    <tr>\n",
              "      <th>2021-07-16</th>\n",
              "      <td>148.460007</td>\n",
              "      <td>149.759995</td>\n",
              "      <td>145.880005</td>\n",
              "      <td>146.389999</td>\n",
              "      <td>146.170990</td>\n",
              "      <td>93251400</td>\n",
              "    </tr>\n",
              "    <tr>\n",
              "      <th>2021-07-19</th>\n",
              "      <td>143.750000</td>\n",
              "      <td>144.070007</td>\n",
              "      <td>141.669998</td>\n",
              "      <td>142.449997</td>\n",
              "      <td>142.236893</td>\n",
              "      <td>121434600</td>\n",
              "    </tr>\n",
              "    <tr>\n",
              "      <th>2021-07-20</th>\n",
              "      <td>143.460007</td>\n",
              "      <td>147.100006</td>\n",
              "      <td>142.960007</td>\n",
              "      <td>146.149994</td>\n",
              "      <td>145.931351</td>\n",
              "      <td>96350000</td>\n",
              "    </tr>\n",
              "    <tr>\n",
              "      <th>2021-07-21</th>\n",
              "      <td>145.529999</td>\n",
              "      <td>146.130005</td>\n",
              "      <td>144.630005</td>\n",
              "      <td>145.399994</td>\n",
              "      <td>145.182480</td>\n",
              "      <td>74993500</td>\n",
              "    </tr>\n",
              "  </tbody>\n",
              "</table>\n",
              "<p>391 rows × 6 columns</p>\n",
              "</div>"
            ],
            "text/plain": [
              "                  Open        High  ...   Adj Close     Volume\n",
              "Date                                ...                       \n",
              "2020-01-02   74.059998   75.150002  ...   74.096443  135480400\n",
              "2020-01-03   74.287498   75.144997  ...   73.376083  146322800\n",
              "2020-01-06   73.447502   74.989998  ...   73.960770  118387200\n",
              "2020-01-07   74.959999   75.224998  ...   73.612923  108872000\n",
              "2020-01-08   74.290001   76.110001  ...   74.797081  132079200\n",
              "...                ...         ...  ...         ...        ...\n",
              "2021-07-15  149.240005  150.000000  ...  148.257874  106820300\n",
              "2021-07-16  148.460007  149.759995  ...  146.170990   93251400\n",
              "2021-07-19  143.750000  144.070007  ...  142.236893  121434600\n",
              "2021-07-20  143.460007  147.100006  ...  145.931351   96350000\n",
              "2021-07-21  145.529999  146.130005  ...  145.182480   74993500\n",
              "\n",
              "[391 rows x 6 columns]"
            ]
          },
          "metadata": {},
          "execution_count": 4
        }
      ]
    },
    {
      "cell_type": "code",
      "metadata": {
        "id": "iINONBjJCmEs"
      },
      "source": [
        ""
      ],
      "execution_count": 4,
      "outputs": []
    },
    {
      "cell_type": "code",
      "metadata": {
        "colab": {
          "base_uri": "https://localhost:8080/"
        },
        "id": "-1NflEs4D4Bv",
        "outputId": "be66c518-6356-4e23-cc0a-12b66283797f"
      },
      "source": [
        "#Get the number of rows and columns in the data set\n",
        "data.shape\n",
        "\n"
      ],
      "execution_count": 5,
      "outputs": [
        {
          "output_type": "execute_result",
          "data": {
            "text/plain": [
              "(440, 6)"
            ]
          },
          "metadata": {},
          "execution_count": 5
        }
      ]
    },
    {
      "cell_type": "code",
      "metadata": {
        "colab": {
          "base_uri": "https://localhost:8080/",
          "height": 523
        },
        "id": "nASYYE3wEFyH",
        "outputId": "2f6a47e5-87b0-49ac-8ec2-e99d378144b3"
      },
      "source": [
        "mpf.plot(data, type='candle', mav= (3,6,9), volume=True, show_nontrading=True)\n",
        "#Visualize the closing price history\n",
        "#plt.figure(figsize=(16,8))\n",
        "#plt.title('Close Price History')\n",
        "#plt.plot(df['Close'])\n",
        "#plt.xlabel('Date',fontsize=18)\n",
        "#plt.ylabel('Close Price USD($)',fontsize=18)\n",
        "#plt.show()"
      ],
      "execution_count": 6,
      "outputs": [
        {
          "output_type": "display_data",
          "data": {
            "image/png": "[encoded data removed]",
            "text/plain": [
              "<Figure size 800x575 with 4 Axes>"
            ]
          },
          "metadata": {}
        }
      ]
    },
    {
      "cell_type": "code",
      "metadata": {
        "id": "5u3vU4T5HqUi"
      },
      "source": [
        ""
      ],
      "execution_count": 6,
      "outputs": []
    },
    {
      "cell_type": "code",
      "metadata": {
        "colab": {
          "base_uri": "https://localhost:8080/"
        },
        "id": "LhjmcNHG7Tbm",
        "outputId": "7f13b157-6363-4bf7-d754-0d391101fd9a"
      },
      "source": [
        "#Create a new dataframe with only the 'Close column'\n",
        "data = data.filter(['Close'])\n",
        "#Convert the dataframe to a numpy array\n",
        "dataset = data.values\n",
        "#Get the number of rows to train the model on \n",
        "training_data_len = math.ceil(len(dataset) * .8)\n",
        "\n",
        "training_data_len"
      ],
      "execution_count": 7,
      "outputs": [
        {
          "output_type": "execute_result",
          "data": {
            "text/plain": [
              "352"
            ]
          },
          "metadata": {},
          "execution_count": 7
        }
      ]
    },
    {
      "cell_type": "code",
      "metadata": {
        "colab": {
          "base_uri": "https://localhost:8080/"
        },
        "id": "7KFZs2c38gaO",
        "outputId": "53bc5b4b-c131-4d1d-8b28-5515f82676f6"
      },
      "source": [
        "#Scale the data\n",
        "scaler = MinMaxScaler(feature_range=(0,1))\n",
        "scaled_data = scaler.fit_transform(dataset)\n",
        "scaled_data\n",
        "\n"
      ],
      "execution_count": 8,
      "outputs": [
        {
          "output_type": "execute_result",
          "data": {
            "text/plain": [
              "array([[0.18882181],\n",
              "       [0.18156514],\n",
              "       [0.18745493],\n",
              "       [0.18395094],\n",
              "       [0.19587963],\n",
              "       [0.21188401],\n",
              "       [0.21362357],\n",
              "       [0.23010013],\n",
              "       [0.21946369],\n",
              "       [0.2161336 ],\n",
              "       [0.22582567],\n",
              "       [0.2344989 ],\n",
              "       [0.22913096],\n",
              "       [0.2319392 ],\n",
              "       [0.23574148],\n",
              "       [0.2334551 ],\n",
              "       [0.21019413],\n",
              "       [0.23191432],\n",
              "       [0.24844056],\n",
              "       [0.24727254],\n",
              "       [0.2115858 ],\n",
              "       [0.20947341],\n",
              "       [0.23479711],\n",
              "       [0.24125851],\n",
              "       [0.25060263],\n",
              "       [0.23772957],\n",
              "       [0.24150697],\n",
              "       [0.23668577],\n",
              "       [0.25554813],\n",
              "       [0.24975769],\n",
              "       [0.24995654],\n",
              "       [0.23516986],\n",
              "       [0.24665125],\n",
              "       [0.23840053],\n",
              "       [0.22038318],\n",
              "       [0.183429  ],\n",
              "       [0.15832896],\n",
              "       [0.16968612],\n",
              "       [0.12214516],\n",
              "       [0.12174753],\n",
              "       [0.18499466],\n",
              "       [0.1614106 ],\n",
              "       [0.19476128],\n",
              "       [0.17035716],\n",
              "       [0.16068988],\n",
              "       [0.10387936],\n",
              "       [0.15151967],\n",
              "       [0.12689181],\n",
              "       [0.05929571],\n",
              "       [0.13320412],\n",
              "       [0.04433512],\n",
              "       [0.07080197],\n",
              "       [0.05541888],\n",
              "       [0.05072194],\n",
              "       [0.01210271],\n",
              "       [0.        ],\n",
              "       [0.05594078],\n",
              "       [0.05256097],\n",
              "       [0.08466912],\n",
              "       [0.05807801],\n",
              "       [0.07564801],\n",
              "       [0.07435572],\n",
              "       [0.04110442],\n",
              "       [0.0510947 ],\n",
              "       [0.042347  ],\n",
              "       [0.09468427],\n",
              "       [0.08712939],\n",
              "       [0.10363083],\n",
              "       [0.10840228],\n",
              "       [0.1214742 ],\n",
              "       [0.15576925],\n",
              "       [0.14925817],\n",
              "       [0.15487464],\n",
              "       [0.14520736],\n",
              "       [0.13061954],\n",
              "       [0.10934665],\n",
              "       [0.1285569 ],\n",
              "       [0.12589777],\n",
              "       [0.14562987],\n",
              "       [0.14612693],\n",
              "       [0.13472002],\n",
              "       [0.15745922],\n",
              "       [0.17254402],\n",
              "       [0.16078931],\n",
              "       [0.17095357],\n",
              "       [0.18188822],\n",
              "       [0.18951765],\n",
              "       [0.19724643],\n",
              "       [0.21312659],\n",
              "       [0.22525413],\n",
              "       [0.21630758],\n",
              "       [0.20696338],\n",
              "       [0.21166036],\n",
              "       [0.20711249],\n",
              "       [0.22512983],\n",
              "       [0.22060691],\n",
              "       [0.23574148],\n",
              "       [0.2298268 ],\n",
              "       [0.23489653],\n",
              "       [0.2295286 ],\n",
              "       [0.23295804],\n",
              "       [0.233306  ],\n",
              "       [0.23253561],\n",
              "       [0.24225256],\n",
              "       [0.24595541],\n",
              "       [0.25037898],\n",
              "       [0.24342058],\n",
              "       [0.26623425],\n",
              "       [0.27110513],\n",
              "       [0.29727377],\n",
              "       [0.31926737],\n",
              "       [0.2771689 ],\n",
              "       [0.28437583],\n",
              "       [0.29478862],\n",
              "       [0.31737863],\n",
              "       [0.31616093],\n",
              "       [0.31650889],\n",
              "       [0.31151371],\n",
              "       [0.33425283],\n",
              "       [0.35328909],\n",
              "       [0.33721016],\n",
              "       [0.34908918],\n",
              "       [0.32123066],\n",
              "       [0.34148463],\n",
              "       [0.34898976],\n",
              "       [0.34727499],\n",
              "       [0.34727499],\n",
              "       [0.37148042],\n",
              "       [0.36859763],\n",
              "       [0.39016873],\n",
              "       [0.39424441],\n",
              "       [0.39590942],\n",
              "       [0.39151073],\n",
              "       [0.4072169 ],\n",
              "       [0.41385221],\n",
              "       [0.40189864],\n",
              "       [0.39996023],\n",
              "       [0.42013964],\n",
              "       [0.40664529],\n",
              "       [0.4093541 ],\n",
              "       [0.36534209],\n",
              "       [0.36305572],\n",
              "       [0.38487534],\n",
              "       [0.3693929 ],\n",
              "       [0.38716172],\n",
              "       [0.39859343],\n",
              "       [0.49869531],\n",
              "       [0.52531126],\n",
              "       [0.53254306],\n",
              "       [0.53649444],\n",
              "       [0.57466632],\n",
              "       [0.5469321 ],\n",
              "       [0.56298616],\n",
              "       [0.52966027],\n",
              "       [0.56579439],\n",
              "       [0.5856756 ],\n",
              "       [0.58465668],\n",
              "       [0.58167447],\n",
              "       [0.59116776],\n",
              "       [0.59260912],\n",
              "       [0.61813167],\n",
              "       [0.67871966],\n",
              "       [0.69350627],\n",
              "       [0.68324258],\n",
              "       [0.70011678],\n",
              "       [0.68508165],\n",
              "       [0.68306868],\n",
              "       [0.72514219],\n",
              "       [0.7762369 ],\n",
              "       [0.74860203],\n",
              "       [0.6440269 ],\n",
              "       [0.64482217],\n",
              "       [0.56390565],\n",
              "       [0.60863837],\n",
              "       [0.57056584],\n",
              "       [0.55575436],\n",
              "       [0.5891548 ],\n",
              "       [0.59094411],\n",
              "       [0.55704661],\n",
              "       [0.53925292],\n",
              "       [0.5044608 ],\n",
              "       [0.53666842],\n",
              "       [0.55386562],\n",
              "       [0.50724424],\n",
              "       [0.51817889],\n",
              "       [0.55853772],\n",
              "       [0.58517854],\n",
              "       [0.57653019],\n",
              "       [0.59362804],\n",
              "       [0.60336986],\n",
              "       [0.56589374],\n",
              "       [0.60048708],\n",
              "       [0.5672855 ],\n",
              "       [0.58637144],\n",
              "       [0.58527797],\n",
              "       [0.60515918],\n",
              "       [0.67901787],\n",
              "       [0.64621385],\n",
              "       [0.64710854],\n",
              "       [0.64233702],\n",
              "       [0.62553737],\n",
              "       [0.595318  ],\n",
              "       [0.61052711],\n",
              "       [0.60416513],\n",
              "       [0.59303163],\n",
              "       [0.58597381],\n",
              "       [0.58607323],\n",
              "       [0.60148113],\n",
              "       [0.54780185],\n",
              "       [0.58875716],\n",
              "       [0.52454087],\n",
              "       [0.52364617],\n",
              "       [0.54024704],\n",
              "       [0.58507911],\n",
              "       [0.6256368 ],\n",
              "       [0.62225703],\n",
              "       [0.59869777],\n",
              "       [0.59521857],\n",
              "       [0.63020947],\n",
              "       [0.62742611],\n",
              "       [0.62792317],\n",
              "       [0.63826141],\n",
              "       [0.62921542],\n",
              "       [0.61569619],\n",
              "       [0.62175997],\n",
              "       [0.60883715],\n",
              "       [0.57414446],\n",
              "       [0.58726606],\n",
              "       [0.59581498],\n",
              "       [0.6013817 ],\n",
              "       [0.62583565],\n",
              "       [0.66231765],\n",
              "       [0.66589628],\n",
              "       [0.6645046 ],\n",
              "       [0.65764556],\n",
              "       [0.67255646],\n",
              "       [0.67881902],\n",
              "       [0.65297346],\n",
              "       [0.66748673],\n",
              "       [0.65923609],\n",
              "       [0.65297346],\n",
              "       [0.71361113],\n",
              "       [0.71291529],\n",
              "       [0.72176242],\n",
              "       [0.70148366],\n",
              "       [0.71709033],\n",
              "       [0.75337363],\n",
              "       [0.74422829],\n",
              "       [0.75426824],\n",
              "       [0.80118791],\n",
              "       [0.78309594],\n",
              "       [0.7716643 ],\n",
              "       [0.76142549],\n",
              "       [0.72882032],\n",
              "       [0.7447252 ],\n",
              "       [0.70088717],\n",
              "       [0.74383058],\n",
              "       [0.75506351],\n",
              "       [0.72454578],\n",
              "       [0.72275655],\n",
              "       [0.74353237],\n",
              "       [0.72385002],\n",
              "       [0.70625511],\n",
              "       [0.71311415],\n",
              "       [0.75486466],\n",
              "       [0.80297715],\n",
              "       [0.8248466 ],\n",
              "       [0.86311783],\n",
              "       [0.86550363],\n",
              "       [0.85456891],\n",
              "       [0.80516409],\n",
              "       [0.75416889],\n",
              "       [0.77583934],\n",
              "       [0.78428891],\n",
              "       [0.77385125],\n",
              "       [0.8081463 ],\n",
              "       [0.80188367],\n",
              "       [0.80337485],\n",
              "       [0.79442822],\n",
              "       [0.78826509],\n",
              "       [0.78568059],\n",
              "       [0.78806624],\n",
              "       [0.76639579],\n",
              "       [0.74303531],\n",
              "       [0.73180253],\n",
              "       [0.73339291],\n",
              "       [0.69492282],\n",
              "       [0.69353114],\n",
              "       [0.68846141],\n",
              "       [0.64512037],\n",
              "       [0.64780438],\n",
              "       [0.71271651],\n",
              "       [0.68617512],\n",
              "       [0.65575682],\n",
              "       [0.63657145],\n",
              "       [0.64939484],\n",
              "       [0.5990954 ],\n",
              "       [0.64611442],\n",
              "       [0.63508042],\n",
              "       [0.65476277],\n",
              "       [0.64551801],\n",
              "       [0.67494219],\n",
              "       [0.69064836],\n",
              "       [0.68259649],\n",
              "       [0.6405477 ],\n",
              "       [0.63517977],\n",
              "       [0.66897784],\n",
              "       [0.66052834],\n",
              "       [0.63617381],\n",
              "       [0.64114412],\n",
              "       [0.64730732],\n",
              "       [0.64909663],\n",
              "       [0.63428515],\n",
              "       [0.65665151],\n",
              "       [0.66510101],\n",
              "       [0.69392878],\n",
              "       [0.69701034],\n",
              "       [0.71380999],\n",
              "       [0.73826386],\n",
              "       [0.76450705],\n",
              "       [0.74701165],\n",
              "       [0.77872205],\n",
              "       [0.75486466],\n",
              "       [0.77941796],\n",
              "       [0.77603819],\n",
              "       [0.78279773],\n",
              "       [0.76560053],\n",
              "       [0.76947736],\n",
              "       [0.75397004],\n",
              "       [0.77762873],\n",
              "       [0.78160491],\n",
              "       [0.77832449],\n",
              "       [0.77027262],\n",
              "       [0.7692785 ],\n",
              "       [0.74919859],\n",
              "       [0.75993431],\n",
              "       [0.71331293],\n",
              "       [0.71579815],\n",
              "       [0.73210074],\n",
              "       [0.73677283],\n",
              "       [0.70337232],\n",
              "       [0.6940282 ],\n",
              "       [0.66281464],\n",
              "       [0.68468401],\n",
              "       [0.70933667],\n",
              "       [0.69760675],\n",
              "       [0.68349111],\n",
              "       [0.68190066],\n",
              "       [0.70794499],\n",
              "       [0.68925668],\n",
              "       [0.70585747],\n",
              "       [0.70386938],\n",
              "       [0.70337232],\n",
              "       [0.68776558],\n",
              "       [0.68110539],\n",
              "       [0.67782497],\n",
              "       [0.68557863],\n",
              "       [0.67046894],\n",
              "       [0.69382935],\n",
              "       [0.69392878],\n",
              "       [0.70227885],\n",
              "       [0.70615568],\n",
              "       [0.6960163 ],\n",
              "       [0.70834262],\n",
              "       [0.73945669],\n",
              "       [0.73110662],\n",
              "       [0.73617627],\n",
              "       [0.75247886],\n",
              "       [0.73925799],\n",
              "       [0.75754866],\n",
              "       [0.7742488 ],\n",
              "       [0.77146545],\n",
              "       [0.76858274],\n",
              "       [0.76560053],\n",
              "       [0.78220132],\n",
              "       [0.79760929],\n",
              "       [0.80387192],\n",
              "       [0.80695348],\n",
              "       [0.83369373],\n",
              "       [0.85417135],\n",
              "       [0.87951992],\n",
              "       [0.8662989 ],\n",
              "       [0.88488778],\n",
              "       [0.87882401],\n",
              "       [0.89015629],\n",
              "       [0.92504776],\n",
              "       [0.91838757],\n",
              "       [0.89761174],\n",
              "       [0.85844574],\n",
              "       [0.89522594],\n",
              "       [0.88777049],\n",
              "       [0.90168743],\n",
              "       [0.91918284],\n",
              "       [0.92345738],\n",
              "       [0.90138922],\n",
              "       [0.88359545],\n",
              "       [0.89015629],\n",
              "       [0.89234323],\n",
              "       [0.88896347],\n",
              "       [0.90725414],\n",
              "       [0.90317846],\n",
              "       [0.90427193],\n",
              "       [0.89512659],\n",
              "       [0.89462953],\n",
              "       [0.88975873],\n",
              "       [0.89234323],\n",
              "       [0.92246325],\n",
              "       [0.92455085],\n",
              "       [0.94463076],\n",
              "       [0.93538607],\n",
              "       [0.89731354],\n",
              "       [0.90069331],\n",
              "       [0.91550486],\n",
              "       [0.93061462],\n",
              "       [0.92971985],\n",
              "       [0.91719475],\n",
              "       [0.90904338],\n",
              "       [0.91958055],\n",
              "       [0.96451197],\n",
              "       [0.95168866],\n",
              "       [0.95844819],\n",
              "       [0.96978048],\n",
              "       [0.97624196],\n",
              "       [1.        ],\n",
              "       [0.98429383],\n",
              "       [0.97395566],\n",
              "       [0.92325852],\n",
              "       [0.92902409],\n",
              "       [0.91480895],\n",
              "       [0.92385493],\n",
              "       [0.92146913],\n",
              "       [0.89433133],\n",
              "       [0.86331669],\n",
              "       [0.86818749],\n",
              "       [0.89224388],\n",
              "       [0.90198563],\n",
              "       [0.90288025],\n",
              "       [0.88747228],\n",
              "       [0.85307788],\n",
              "       [0.86222322]])"
            ]
          },
          "metadata": {},
          "execution_count": 8
        }
      ]
    },
    {
      "cell_type": "code",
      "metadata": {
        "colab": {
          "base_uri": "https://localhost:8080/"
        },
        "id": "ryDBUAM-9WEv",
        "outputId": "303d58e0-23d2-4d85-f8dd-3bcf16ec2798"
      },
      "source": [
        "#Create the training data set\n",
        "#Create the scaled training data set\n",
        "train_data = scaled_data[0:training_data_len , :]\n",
        "#Split the data into x_train and y_train data sets\n",
        "x_train = []\n",
        "y_train = []\n",
        "\n",
        "for i in range(60, len(train_data)):\n",
        "  x_train.append(train_data[i-60:i, 0])\n",
        "  y_train.append(train_data[i,0])\n",
        "  if i <= 60:\n",
        "    print (x_train)\n",
        "    print (y_train)\n",
        "    print ()"
      ],
      "execution_count": 9,
      "outputs": [
        {
          "output_type": "stream",
          "name": "stdout",
          "text": [
            "[array([0.18882181, 0.18156514, 0.18745493, 0.18395094, 0.19587963,\n",
            "       0.21188401, 0.21362357, 0.23010013, 0.21946369, 0.2161336 ,\n",
            "       0.22582567, 0.2344989 , 0.22913096, 0.2319392 , 0.23574148,\n",
            "       0.2334551 , 0.21019413, 0.23191432, 0.24844056, 0.24727254,\n",
            "       0.2115858 , 0.20947341, 0.23479711, 0.24125851, 0.25060263,\n",
            "       0.23772957, 0.24150697, 0.23668577, 0.25554813, 0.24975769,\n",
            "       0.24995654, 0.23516986, 0.24665125, 0.23840053, 0.22038318,\n",
            "       0.183429  , 0.15832896, 0.16968612, 0.12214516, 0.12174753,\n",
            "       0.18499466, 0.1614106 , 0.19476128, 0.17035716, 0.16068988,\n",
            "       0.10387936, 0.15151967, 0.12689181, 0.05929571, 0.13320412,\n",
            "       0.04433512, 0.07080197, 0.05541888, 0.05072194, 0.01210271,\n",
            "       0.        , 0.05594078, 0.05256097, 0.08466912, 0.05807801])]\n",
            "[0.07564800649439885]\n",
            "\n"
          ]
        }
      ]
    },
    {
      "cell_type": "code",
      "metadata": {
        "colab": {
          "base_uri": "https://localhost:8080/"
        },
        "id": "dmJfr5Rh-me3",
        "outputId": "76e24c39-9804-43a2-df00-8114c77c7696"
      },
      "source": [
        "#Convert the x_train and y_train to numpy arrays\n",
        "x_train, y_train = np.array(x_train), np.array(y_train)\n",
        "\n",
        "#Reshape the data\n",
        "x_train = np.reshape(x_train, (x_train.shape[0], x_train.shape[1], 1))\n",
        "x_train.shape\n"
      ],
      "execution_count": 10,
      "outputs": [
        {
          "output_type": "execute_result",
          "data": {
            "text/plain": [
              "(292, 60, 1)"
            ]
          },
          "metadata": {},
          "execution_count": 10
        }
      ]
    },
    {
      "cell_type": "code",
      "metadata": {
        "id": "asLm_vfh_s7Y"
      },
      "source": [
        "#Build the LSTM model\n",
        "model = Sequential()\n",
        "model.add(LSTM(50, return_sequences=True, input_shape=(x_train.shape[1], 1)))\n",
        "model.add(LSTM(50, return_sequences= False))\n",
        "model.add(Dense(25))\n",
        "model.add(Dense(1))\n",
        "\n"
      ],
      "execution_count": 11,
      "outputs": []
    },
    {
      "cell_type": "code",
      "metadata": {
        "id": "t2HR6Nd_CnK7"
      },
      "source": [
        "#Compile the model\n",
        "model.compile(optimizer = 'adam', loss = 'mean_squared_error')"
      ],
      "execution_count": 12,
      "outputs": []
    },
    {
      "cell_type": "code",
      "metadata": {
        "id": "9oWMWd78DgoF"
      },
      "source": [
        ""
      ],
      "execution_count": null,
      "outputs": []
    },
    {
      "cell_type": "code",
      "metadata": {
        "colab": {
          "base_uri": "https://localhost:8080/"
        },
        "id": "26KDGTykD8p2",
        "outputId": "64f55fab-5b61-40f9-b5a7-53ad0f0ebba7"
      },
      "source": [
        "#train the model\n",
        "model.fit(x_train, y_train, batch_size=1, epochs=1)"
      ],
      "execution_count": 13,
      "outputs": [
        {
          "output_type": "stream",
          "name": "stdout",
          "text": [
            "292/292 [==============================] - 10s 23ms/step - loss: 0.0083\n"
          ]
        },
        {
          "output_type": "execute_result",
          "data": {
            "text/plain": [
              "<keras.callbacks.History at 0x7f4af24ba150>"
            ]
          },
          "metadata": {},
          "execution_count": 13
        }
      ]
    },
    {
      "cell_type": "code",
      "metadata": {
        "id": "ftOrs7HgEdBX"
      },
      "source": [
        "#Create the testing data set\n",
        "#Create a new array containing scaled values from index 1543 to 2003\n",
        "test_data = scaled_data[training_data_len - 60: , :]\n",
        "#Create the data sets x_test and y_test\n",
        "x_test = []\n",
        "y_test = dataset[training_data_len:, :]\n",
        "for i in range(60, len(test_data)):\n",
        "  x_test.append(test_data[i-60:i,0])"
      ],
      "execution_count": 14,
      "outputs": []
    },
    {
      "cell_type": "code",
      "metadata": {
        "id": "4gRIhRssFQx2"
      },
      "source": [
        "#Convert the data to a numpy array\n",
        "x_test = np.array(x_test)\n",
        "\n"
      ],
      "execution_count": 15,
      "outputs": []
    },
    {
      "cell_type": "code",
      "metadata": {
        "id": "6GXuXBDkFk0-"
      },
      "source": [
        "#Reshape the data\n",
        "x_test = np.reshape(x_test, (x_test.shape[0], x_test.shape[1],1))\n",
        "\n",
        "#Get the models predicted price values\n",
        "predictions = model.predict(x_test)\n",
        "predictions = scaler.inverse_transform(predictions)\n"
      ],
      "execution_count": 16,
      "outputs": []
    },
    {
      "cell_type": "code",
      "metadata": {
        "colab": {
          "base_uri": "https://localhost:8080/"
        },
        "id": "R_bqn0kwGHWu",
        "outputId": "a03d6f0a-eb7f-4409-d807-01e195f81711"
      },
      "source": [
        "#Get the root mean squared error (RMSE)\n",
        "rmse = np.sqrt( np.mean(predictions - y_test)**2)\n",
        "rmse"
      ],
      "execution_count": 17,
      "outputs": [
        {
          "output_type": "execute_result",
          "data": {
            "text/plain": [
              "8.123248793862082"
            ]
          },
          "metadata": {},
          "execution_count": 17
        }
      ]
    },
    {
      "cell_type": "code",
      "metadata": {
        "colab": {
          "base_uri": "https://localhost:8080/",
          "height": 571
        },
        "id": "H3fHhAOjGr-y",
        "outputId": "2bd7d412-5a70-4d12-807b-bbcc343c9bcc"
      },
      "source": [
        "#Plot the data\n",
        "train = data[:training_data_len]\n",
        "valid = data[training_data_len:]\n",
        "valid['Predictions'] = predictions\n",
        "#Visualise the data\n",
        "plt.figure(figsize=(16,8))\n",
        "plt.title('Model')\n",
        "plt.xlabel('Date',fontsize=18)\n",
        "plt.ylabel('Close Price USD ($)', fontsize=18)\n",
        "plt.plot(train['Close'])\n",
        "plt.plot(valid[['Close','Predictions']])\n",
        "plt.legend(['Train', 'Val', 'Predictions'], loc='lower right')\n",
        "plt.show()\n"
      ],
      "execution_count": 18,
      "outputs": [
        {
          "output_type": "stream",
          "name": "stderr",
          "text": [
            "/usr/local/lib/python3.7/dist-packages/ipykernel_launcher.py:4: SettingWithCopyWarning: \n",
            "A value is trying to be set on a copy of a slice from a DataFrame.\n",
            "Try using .loc[row_indexer,col_indexer] = value instead\n",
            "\n",
            "See the caveats in the documentation: https://pandas.pydata.org/pandas-docs/stable/user_guide/indexing.html#returning-a-view-versus-a-copy\n",
            "  after removing the cwd from sys.path.\n"
          ]
        },
        {
          "output_type": "display_data",
          "data": {
            "image/png": "[encoded data removed]",
            "text/plain": [
              "<Figure size 1600x800 with 1 Axes>"
            ]
          },
          "metadata": {}
        }
      ]
    },
    {
      "cell_type": "code",
      "metadata": {
        "colab": {
          "base_uri": "https://localhost:8080/",
          "height": 450
        },
        "id": "8MziIYyZKV8k",
        "outputId": "d4178746-36ba-4478-b034-5f34563b0050"
      },
      "source": [
        "#show the valid and predicted return\n",
        "valid"
      ],
      "execution_count": 19,
      "outputs": [
        {
          "output_type": "execute_result",
          "data": {
            "text/html": [
              "<div>\n",
              "<style scoped>\n",
              "    .dataframe tbody tr th:only-of-type {\n",
              "        vertical-align: middle;\n",
              "    }\n",
              "\n",
              "    .dataframe tbody tr th {\n",
              "        vertical-align: top;\n",
              "    }\n",
              "\n",
              "    .dataframe thead th {\n",
              "        text-align: right;\n",
              "    }\n",
              "</style>\n",
              "<table border=\"1\" class=\"dataframe\">\n",
              "  <thead>\n",
              "    <tr style=\"text-align: right;\">\n",
              "      <th></th>\n",
              "      <th>Close</th>\n",
              "      <th>Predictions</th>\n",
              "    </tr>\n",
              "    <tr>\n",
              "      <th>Date</th>\n",
              "      <th></th>\n",
              "      <th></th>\n",
              "    </tr>\n",
              "  </thead>\n",
              "  <tbody>\n",
              "    <tr>\n",
              "      <th>2021-05-26</th>\n",
              "      <td>126.849998</td>\n",
              "      <td>123.607178</td>\n",
              "    </tr>\n",
              "    <tr>\n",
              "      <th>2021-05-27</th>\n",
              "      <td>125.279999</td>\n",
              "      <td>123.601906</td>\n",
              "    </tr>\n",
              "    <tr>\n",
              "      <th>2021-05-28</th>\n",
              "      <td>124.610001</td>\n",
              "      <td>123.547203</td>\n",
              "    </tr>\n",
              "    <tr>\n",
              "      <th>2021-06-01</th>\n",
              "      <td>124.279999</td>\n",
              "      <td>123.440163</td>\n",
              "    </tr>\n",
              "    <tr>\n",
              "      <th>2021-06-02</th>\n",
              "      <td>125.059998</td>\n",
              "      <td>123.292709</td>\n",
              "    </tr>\n",
              "    <tr>\n",
              "      <th>...</th>\n",
              "      <td>...</td>\n",
              "      <td>...</td>\n",
              "    </tr>\n",
              "    <tr>\n",
              "      <th>2021-09-23</th>\n",
              "      <td>146.830002</td>\n",
              "      <td>139.607635</td>\n",
              "    </tr>\n",
              "    <tr>\n",
              "      <th>2021-09-24</th>\n",
              "      <td>146.919998</td>\n",
              "      <td>139.255463</td>\n",
              "    </tr>\n",
              "    <tr>\n",
              "      <th>2021-09-27</th>\n",
              "      <td>145.369995</td>\n",
              "      <td>139.000626</td>\n",
              "    </tr>\n",
              "    <tr>\n",
              "      <th>2021-09-28</th>\n",
              "      <td>141.910004</td>\n",
              "      <td>138.753647</td>\n",
              "    </tr>\n",
              "    <tr>\n",
              "      <th>2021-09-29</th>\n",
              "      <td>142.830002</td>\n",
              "      <td>138.383392</td>\n",
              "    </tr>\n",
              "  </tbody>\n",
              "</table>\n",
              "<p>88 rows × 2 columns</p>\n",
              "</div>"
            ],
            "text/plain": [
              "                 Close  Predictions\n",
              "Date                               \n",
              "2021-05-26  126.849998   123.607178\n",
              "2021-05-27  125.279999   123.601906\n",
              "2021-05-28  124.610001   123.547203\n",
              "2021-06-01  124.279999   123.440163\n",
              "2021-06-02  125.059998   123.292709\n",
              "...                ...          ...\n",
              "2021-09-23  146.830002   139.607635\n",
              "2021-09-24  146.919998   139.255463\n",
              "2021-09-27  145.369995   139.000626\n",
              "2021-09-28  141.910004   138.753647\n",
              "2021-09-29  142.830002   138.383392\n",
              "\n",
              "[88 rows x 2 columns]"
            ]
          },
          "metadata": {},
          "execution_count": 19
        }
      ]
    },
    {
      "cell_type": "code",
      "metadata": {
        "colab": {
          "base_uri": "https://localhost:8080/"
        },
        "id": "1_Z2x6IdK0eM",
        "outputId": "fc9c183e-7227-4a0d-bd75-43ccbee99aa2"
      },
      "source": [
        "#get the quote\n",
        "apple_quote = yf.download('AAPL', start=start_date, end=end_date)\n",
        "#Create a new dataframe\n",
        "new_data = apple_quote.filter(['Close'])\n",
        "#Get the last 60 day closing price values and convert the dataframe to an array\n",
        "last_60_days = new_data[-60:].values\n",
        "last_60_days_scaled = scaler.transform(last_60_days)\n",
        "#Create an empty list\n",
        "X_test = []\n",
        "#Append the past 60 days\n",
        "X_test.append(last_60_days_scaled)\n",
        "#Convert the X_test data set to a numpy array\n",
        "X_test = np.array(X_test)\n",
        "#Reshape the data\n",
        "X_test = np.reshape(X_test, (X_test.shape[0], X_test.shape[1],1))\n",
        "#Get the predicted scaled price\n",
        "pred_price = model.predict(X_test)\n",
        "#undo the scaling\n",
        "pred_price = scaler.inverse_transform(pred_price)\n",
        "print(pred_price)\n"
      ],
      "execution_count": 20,
      "outputs": [
        {
          "output_type": "stream",
          "name": "stdout",
          "text": [
            "\r[*********************100%***********************]  1 of 1 completed\n",
            "[[138.01431]]\n"
          ]
        }
      ]
    }
  ]
}