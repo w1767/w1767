{
  "nbformat": 4,
  "nbformat_minor": 0,
  "metadata": {
    "colab": {
      "name": "Untitled0.ipynb",
      "provenance": [],
      "authorship_tag": "ABX9TyMH/b8UHhQEMUDL1t1I7Kvg",
      "include_colab_link": true
    },
    "kernelspec": {
      "name": "python3",
      "display_name": "Python 3"
    },
    "language_info": {
      "name": "python"
    }
  },
  "cells": [
    {
      "cell_type": "markdown",
      "metadata": {
        "id": "view-in-github",
        "colab_type": "text"
      },
      "source": [
        "<a href=\"https://colab.research.google.com/github/w1767/w1767/blob/main/OXY.ipynb\" target=\"_parent\"><img src=\"https://colab.research.google.com/assets/colab-badge.svg\" alt=\"Open In Colab\"/></a>"
      ]
    },
    {
      "cell_type": "code",
      "metadata": {
        "id": "jF-rA78EBttL"
      },
      "source": [
        "# Description: this program uses an aritificial recurrent neural network called Long Short Term Memory (LSTM) to predict\n",
        "# the closing stock price of a corporation (Apple Inc.) using the past 60 day stock price. "
      ],
      "execution_count": 287,
      "outputs": []
    },
    {
      "cell_type": "code",
      "metadata": {
        "id": "wpTDFiYaHooV"
      },
      "source": [
        ""
      ],
      "execution_count": 287,
      "outputs": []
    },
    {
      "cell_type": "code",
      "metadata": {
        "id": "4t9te_ZzCKmA",
        "colab": {
          "base_uri": "https://localhost:8080/"
        },
        "outputId": "7e108767-8c02-4ff0-e373-82167ae077fa"
      },
      "source": [
        "# Import the libraries\n",
        "!pip install pandas_datareader\n",
        "!pip install yfinance\n",
        "!pip install mplfinance\n",
        "import os\n",
        "import argparse\n",
        "import signal\n",
        "import yfinance as yf\n",
        "import pickle\n",
        "import mplfinance as mpf\n",
        "import math\n",
        "import pandas_datareader.data as web\n",
        "from datetime import datetime, timedelta\n",
        "import numpy as np\n",
        "import pandas as pd\n",
        "from sklearn.preprocessing import MinMaxScaler\n",
        "from keras.models import Sequential\n",
        "from keras.layers import Dense, LSTM\n",
        "#from yfinance import stock_info\n",
        "from dateutil.parser import parse\n",
        "from urllib.request import urlopen, Request\n",
        "from bs4 import BeautifulSoup\n",
        "import matplotlib.pyplot as plt\n",
        "plt.style.use('fivethirtyeight')\n",
        "start_date = datetime(2020, 1,1)\n",
        "end_date = datetime(2021, 8, 2)\n"
      ],
      "execution_count": 288,
      "outputs": [
        {
          "output_type": "stream",
          "text": [
            "Requirement already satisfied: pandas_datareader in /usr/local/lib/python3.7/dist-packages (0.9.0)\n",
            "Requirement already satisfied: pandas>=0.23 in /usr/local/lib/python3.7/dist-packages (from pandas_datareader) (1.1.5)\n",
            "Requirement already satisfied: requests>=2.19.0 in /usr/local/lib/python3.7/dist-packages (from pandas_datareader) (2.23.0)\n",
            "Requirement already satisfied: lxml in /usr/local/lib/python3.7/dist-packages (from pandas_datareader) (4.6.3)\n",
            "Requirement already satisfied: pytz>=2017.2 in /usr/local/lib/python3.7/dist-packages (from pandas>=0.23->pandas_datareader) (2018.9)\n",
            "Requirement already satisfied: numpy>=1.15.4 in /usr/local/lib/python3.7/dist-packages (from pandas>=0.23->pandas_datareader) (1.19.5)\n",
            "Requirement already satisfied: python-dateutil>=2.7.3 in /usr/local/lib/python3.7/dist-packages (from pandas>=0.23->pandas_datareader) (2.8.1)\n",
            "Requirement already satisfied: six>=1.5 in /usr/local/lib/python3.7/dist-packages (from python-dateutil>=2.7.3->pandas>=0.23->pandas_datareader) (1.15.0)\n",
            "Requirement already satisfied: certifi>=2017.4.17 in /usr/local/lib/python3.7/dist-packages (from requests>=2.19.0->pandas_datareader) (2021.5.30)\n",
            "Requirement already satisfied: chardet<4,>=3.0.2 in /usr/local/lib/python3.7/dist-packages (from requests>=2.19.0->pandas_datareader) (3.0.4)\n",
            "Requirement already satisfied: urllib3!=1.25.0,!=1.25.1,<1.26,>=1.21.1 in /usr/local/lib/python3.7/dist-packages (from requests>=2.19.0->pandas_datareader) (1.24.3)\n",
            "Requirement already satisfied: idna<3,>=2.5 in /usr/local/lib/python3.7/dist-packages (from requests>=2.19.0->pandas_datareader) (2.10)\n",
            "Requirement already satisfied: yfinance in /usr/local/lib/python3.7/dist-packages (0.1.63)\n",
            "Requirement already satisfied: requests>=2.20 in /usr/local/lib/python3.7/dist-packages (from yfinance) (2.23.0)\n",
            "Requirement already satisfied: multitasking>=0.0.7 in /usr/local/lib/python3.7/dist-packages (from yfinance) (0.0.9)\n",
            "Requirement already satisfied: numpy>=1.15 in /usr/local/lib/python3.7/dist-packages (from yfinance) (1.19.5)\n",
            "Requirement already satisfied: lxml>=4.5.1 in /usr/local/lib/python3.7/dist-packages (from yfinance) (4.6.3)\n",
            "Requirement already satisfied: pandas>=0.24 in /usr/local/lib/python3.7/dist-packages (from yfinance) (1.1.5)\n",
            "Requirement already satisfied: pytz>=2017.2 in /usr/local/lib/python3.7/dist-packages (from pandas>=0.24->yfinance) (2018.9)\n",
            "Requirement already satisfied: python-dateutil>=2.7.3 in /usr/local/lib/python3.7/dist-packages (from pandas>=0.24->yfinance) (2.8.1)\n",
            "Requirement already satisfied: six>=1.5 in /usr/local/lib/python3.7/dist-packages (from python-dateutil>=2.7.3->pandas>=0.24->yfinance) (1.15.0)\n",
            "Requirement already satisfied: chardet<4,>=3.0.2 in /usr/local/lib/python3.7/dist-packages (from requests>=2.20->yfinance) (3.0.4)\n",
            "Requirement already satisfied: urllib3!=1.25.0,!=1.25.1,<1.26,>=1.21.1 in /usr/local/lib/python3.7/dist-packages (from requests>=2.20->yfinance) (1.24.3)\n",
            "Requirement already satisfied: idna<3,>=2.5 in /usr/local/lib/python3.7/dist-packages (from requests>=2.20->yfinance) (2.10)\n",
            "Requirement already satisfied: certifi>=2017.4.17 in /usr/local/lib/python3.7/dist-packages (from requests>=2.20->yfinance) (2021.5.30)\n",
            "Requirement already satisfied: mplfinance in /usr/local/lib/python3.7/dist-packages (0.12.7a17)\n",
            "Requirement already satisfied: pandas in /usr/local/lib/python3.7/dist-packages (from mplfinance) (1.1.5)\n",
            "Requirement already satisfied: matplotlib in /usr/local/lib/python3.7/dist-packages (from mplfinance) (3.2.2)\n",
            "Requirement already satisfied: numpy>=1.11 in /usr/local/lib/python3.7/dist-packages (from matplotlib->mplfinance) (1.19.5)\n",
            "Requirement already satisfied: cycler>=0.10 in /usr/local/lib/python3.7/dist-packages (from matplotlib->mplfinance) (0.10.0)\n",
            "Requirement already satisfied: kiwisolver>=1.0.1 in /usr/local/lib/python3.7/dist-packages (from matplotlib->mplfinance) (1.3.1)\n",
            "Requirement already satisfied: pyparsing!=2.0.4,!=2.1.2,!=2.1.6,>=2.0.1 in /usr/local/lib/python3.7/dist-packages (from matplotlib->mplfinance) (2.4.7)\n",
            "Requirement already satisfied: python-dateutil>=2.1 in /usr/local/lib/python3.7/dist-packages (from matplotlib->mplfinance) (2.8.1)\n",
            "Requirement already satisfied: six in /usr/local/lib/python3.7/dist-packages (from cycler>=0.10->matplotlib->mplfinance) (1.15.0)\n",
            "Requirement already satisfied: pytz>=2017.2 in /usr/local/lib/python3.7/dist-packages (from pandas->mplfinance) (2018.9)\n"
          ],
          "name": "stdout"
        }
      ]
    },
    {
      "cell_type": "code",
      "metadata": {
        "colab": {
          "base_uri": "https://localhost:8080/",
          "height": 467
        },
        "id": "Tkat1PpYDTgp",
        "outputId": "95a50bf6-4377-425b-d9da-b847cb290645"
      },
      "source": [
        "#Get the stock quote\n",
        "data = yf.download('OXY', start=start_date, end=end_date)\n",
        "#df = web.DataReader('OXY', data_source='yahoo',start='2012-01',end='2019-12-17')\n",
        "#show the data\n",
        "data.head(391)"
      ],
      "execution_count": 289,
      "outputs": [
        {
          "output_type": "stream",
          "text": [
            "\r[*********************100%***********************]  1 of 1 completed\n"
          ],
          "name": "stdout"
        },
        {
          "output_type": "execute_result",
          "data": {
            "text/html": [
              "<div>\n",
              "<style scoped>\n",
              "    .dataframe tbody tr th:only-of-type {\n",
              "        vertical-align: middle;\n",
              "    }\n",
              "\n",
              "    .dataframe tbody tr th {\n",
              "        vertical-align: top;\n",
              "    }\n",
              "\n",
              "    .dataframe thead th {\n",
              "        text-align: right;\n",
              "    }\n",
              "</style>\n",
              "<table border=\"1\" class=\"dataframe\">\n",
              "  <thead>\n",
              "    <tr style=\"text-align: right;\">\n",
              "      <th></th>\n",
              "      <th>Open</th>\n",
              "      <th>High</th>\n",
              "      <th>Low</th>\n",
              "      <th>Close</th>\n",
              "      <th>Adj Close</th>\n",
              "      <th>Volume</th>\n",
              "    </tr>\n",
              "    <tr>\n",
              "      <th>Date</th>\n",
              "      <th></th>\n",
              "      <th></th>\n",
              "      <th></th>\n",
              "      <th></th>\n",
              "      <th></th>\n",
              "      <th></th>\n",
              "    </tr>\n",
              "  </thead>\n",
              "  <tbody>\n",
              "    <tr>\n",
              "      <th>2020-01-02</th>\n",
              "      <td>41.630001</td>\n",
              "      <td>42.689999</td>\n",
              "      <td>41.580002</td>\n",
              "      <td>42.580002</td>\n",
              "      <td>41.213943</td>\n",
              "      <td>13066400</td>\n",
              "    </tr>\n",
              "    <tr>\n",
              "      <th>2020-01-03</th>\n",
              "      <td>43.810001</td>\n",
              "      <td>44.250000</td>\n",
              "      <td>43.169998</td>\n",
              "      <td>43.610001</td>\n",
              "      <td>42.210899</td>\n",
              "      <td>15097400</td>\n",
              "    </tr>\n",
              "    <tr>\n",
              "      <th>2020-01-06</th>\n",
              "      <td>43.980000</td>\n",
              "      <td>45.450001</td>\n",
              "      <td>43.689999</td>\n",
              "      <td>45.049999</td>\n",
              "      <td>43.604702</td>\n",
              "      <td>16659700</td>\n",
              "    </tr>\n",
              "    <tr>\n",
              "      <th>2020-01-07</th>\n",
              "      <td>45.080002</td>\n",
              "      <td>45.279999</td>\n",
              "      <td>44.180000</td>\n",
              "      <td>45.270000</td>\n",
              "      <td>43.817642</td>\n",
              "      <td>12084800</td>\n",
              "    </tr>\n",
              "    <tr>\n",
              "      <th>2020-01-08</th>\n",
              "      <td>45.540001</td>\n",
              "      <td>45.779999</td>\n",
              "      <td>44.270000</td>\n",
              "      <td>44.980000</td>\n",
              "      <td>43.536949</td>\n",
              "      <td>12250900</td>\n",
              "    </tr>\n",
              "    <tr>\n",
              "      <th>...</th>\n",
              "      <td>...</td>\n",
              "      <td>...</td>\n",
              "      <td>...</td>\n",
              "      <td>...</td>\n",
              "      <td>...</td>\n",
              "      <td>...</td>\n",
              "    </tr>\n",
              "    <tr>\n",
              "      <th>2021-07-15</th>\n",
              "      <td>27.690001</td>\n",
              "      <td>28.260000</td>\n",
              "      <td>26.930000</td>\n",
              "      <td>27.230000</td>\n",
              "      <td>27.230000</td>\n",
              "      <td>18361000</td>\n",
              "    </tr>\n",
              "    <tr>\n",
              "      <th>2021-07-16</th>\n",
              "      <td>27.500000</td>\n",
              "      <td>27.590000</td>\n",
              "      <td>25.870001</td>\n",
              "      <td>25.940001</td>\n",
              "      <td>25.940001</td>\n",
              "      <td>18490900</td>\n",
              "    </tr>\n",
              "    <tr>\n",
              "      <th>2021-07-19</th>\n",
              "      <td>24.389999</td>\n",
              "      <td>25.110001</td>\n",
              "      <td>23.900000</td>\n",
              "      <td>24.820000</td>\n",
              "      <td>24.820000</td>\n",
              "      <td>28376800</td>\n",
              "    </tr>\n",
              "    <tr>\n",
              "      <th>2021-07-20</th>\n",
              "      <td>24.799999</td>\n",
              "      <td>25.799999</td>\n",
              "      <td>24.520000</td>\n",
              "      <td>25.370001</td>\n",
              "      <td>25.370001</td>\n",
              "      <td>17071000</td>\n",
              "    </tr>\n",
              "    <tr>\n",
              "      <th>2021-07-21</th>\n",
              "      <td>25.870001</td>\n",
              "      <td>27.549999</td>\n",
              "      <td>25.870001</td>\n",
              "      <td>27.180000</td>\n",
              "      <td>27.180000</td>\n",
              "      <td>19629300</td>\n",
              "    </tr>\n",
              "  </tbody>\n",
              "</table>\n",
              "<p>391 rows × 6 columns</p>\n",
              "</div>"
            ],
            "text/plain": [
              "                 Open       High        Low      Close  Adj Close    Volume\n",
              "Date                                                                       \n",
              "2020-01-02  41.630001  42.689999  41.580002  42.580002  41.213943  13066400\n",
              "2020-01-03  43.810001  44.250000  43.169998  43.610001  42.210899  15097400\n",
              "2020-01-06  43.980000  45.450001  43.689999  45.049999  43.604702  16659700\n",
              "2020-01-07  45.080002  45.279999  44.180000  45.270000  43.817642  12084800\n",
              "2020-01-08  45.540001  45.779999  44.270000  44.980000  43.536949  12250900\n",
              "...               ...        ...        ...        ...        ...       ...\n",
              "2021-07-15  27.690001  28.260000  26.930000  27.230000  27.230000  18361000\n",
              "2021-07-16  27.500000  27.590000  25.870001  25.940001  25.940001  18490900\n",
              "2021-07-19  24.389999  25.110001  23.900000  24.820000  24.820000  28376800\n",
              "2021-07-20  24.799999  25.799999  24.520000  25.370001  25.370001  17071000\n",
              "2021-07-21  25.870001  27.549999  25.870001  27.180000  27.180000  19629300\n",
              "\n",
              "[391 rows x 6 columns]"
            ]
          },
          "metadata": {
            "tags": []
          },
          "execution_count": 289
        }
      ]
    },
    {
      "cell_type": "code",
      "metadata": {
        "id": "iINONBjJCmEs"
      },
      "source": [
        ""
      ],
      "execution_count": 290,
      "outputs": []
    },
    {
      "cell_type": "code",
      "metadata": {
        "colab": {
          "base_uri": "https://localhost:8080/"
        },
        "id": "-1NflEs4D4Bv",
        "outputId": "9da70790-82ca-4975-d56c-bef23f670fba"
      },
      "source": [
        "#Get the number of rows and columns in the data set\n",
        "data.shape\n",
        "\n"
      ],
      "execution_count": 291,
      "outputs": [
        {
          "output_type": "execute_result",
          "data": {
            "text/plain": [
              "(398, 6)"
            ]
          },
          "metadata": {
            "tags": []
          },
          "execution_count": 291
        }
      ]
    },
    {
      "cell_type": "code",
      "metadata": {
        "colab": {
          "base_uri": "https://localhost:8080/",
          "height": 523
        },
        "id": "nASYYE3wEFyH",
        "outputId": "f82946ce-3cec-4a6e-d444-e9b20e43eec3"
      },
      "source": [
        "mpf.plot(data, type='candle', mav= (3,6,9), volume=True, show_nontrading=True)\n",
        "#Visualize the closing price history\n",
        "#plt.figure(figsize=(16,8))\n",
        "#plt.title('Close Price History')\n",
        "#plt.plot(df['Close'])\n",
        "#plt.xlabel('Date',fontsize=18)\n",
        "#plt.ylabel('Close Price USD($)',fontsize=18)\n",
        "#plt.show()"
      ],
      "execution_count": 292,
      "outputs": [
        {
          "output_type": "display_data",
          "data": {
            "image/png": "[encoded data removed]",
            "text/plain": [
              "<Figure size 800x575 with 4 Axes>"
            ]
          },
          "metadata": {
            "tags": []
          }
        }
      ]
    },
    {
      "cell_type": "code",
      "metadata": {
        "id": "5u3vU4T5HqUi"
      },
      "source": [
        ""
      ],
      "execution_count": null,
      "outputs": []
    },
    {
      "cell_type": "code",
      "metadata": {
        "colab": {
          "base_uri": "https://localhost:8080/"
        },
        "id": "LhjmcNHG7Tbm",
        "outputId": "7b353bd1-f9e1-45c0-a886-c9fc7d67741f"
      },
      "source": [
        "#Create a new dataframe with only the 'Close column'\n",
        "data = data.filter(['Close'])\n",
        "#Convert the dataframe to a numpy array\n",
        "dataset = data.values\n",
        "#Get the number of rows to train the model on \n",
        "training_data_len = math.ceil(len(dataset) * .8)\n",
        "\n",
        "training_data_len"
      ],
      "execution_count": 293,
      "outputs": [
        {
          "output_type": "execute_result",
          "data": {
            "text/plain": [
              "319"
            ]
          },
          "metadata": {
            "tags": []
          },
          "execution_count": 293
        }
      ]
    },
    {
      "cell_type": "code",
      "metadata": {
        "colab": {
          "base_uri": "https://localhost:8080/"
        },
        "id": "7KFZs2c38gaO",
        "outputId": "31c55f77-f94a-48b6-f15f-ff9acfb6ee50"
      },
      "source": [
        "#Scale the data\n",
        "scaler = MinMaxScaler(feature_range=(0,1))\n",
        "scaled_data = scaler.fit_transform(dataset)\n",
        "scaled_data\n",
        "\n"
      ],
      "execution_count": 294,
      "outputs": [
        {
          "output_type": "execute_result",
          "data": {
            "text/plain": [
              "array([[0.87806158],\n",
              "       [0.90489844],\n",
              "       [0.94241795],\n",
              "       [0.94815013],\n",
              "       [0.94059409],\n",
              "       [0.95075562],\n",
              "       [0.96456496],\n",
              "       [0.98202192],\n",
              "       [0.99947898],\n",
              "       [1.        ],\n",
              "       [0.98462741],\n",
              "       [0.9627411 ],\n",
              "       [0.92339764],\n",
              "       [0.89656077],\n",
              "       [0.87649823],\n",
              "       [0.86868167],\n",
              "       [0.84314755],\n",
              "       [0.84210532],\n",
              "       [0.82308501],\n",
              "       [0.82621161],\n",
              "       [0.80354358],\n",
              "       [0.81292348],\n",
              "       [0.82386663],\n",
              "       [0.86607609],\n",
              "       [0.86607609],\n",
              "       [0.8600834 ],\n",
              "       [0.82386663],\n",
              "       [0.84132359],\n",
              "       [0.8757166 ],\n",
              "       [0.86399172],\n",
              "       [0.85252736],\n",
              "       [0.85148522],\n",
              "       [0.87623762],\n",
              "       [0.8882231 ],\n",
              "       [0.86607609],\n",
              "       [0.79729028],\n",
              "       [0.71156852],\n",
              "       [0.66023977],\n",
              "       [0.5974466 ],\n",
              "       [0.62167803],\n",
              "       [0.6271496 ],\n",
              "       [0.62819184],\n",
              "       [0.62662849],\n",
              "       [0.58884837],\n",
              "       [0.4684732 ],\n",
              "       [0.09458052],\n",
              "       [0.1422616 ],\n",
              "       [0.0760813 ],\n",
              "       [0.07842627],\n",
              "       [0.14017719],\n",
              "       [0.08181346],\n",
              "       [0.06409589],\n",
              "       [0.04299113],\n",
              "       [0.05080771],\n",
              "       [0.03517456],\n",
              "       [0.02110473],\n",
              "       [0.04794164],\n",
              "       [0.08129234],\n",
              "       [0.10291819],\n",
              "       [0.07113079],\n",
              "       [0.05549766],\n",
              "       [0.07034914],\n",
              "       [0.04846273],\n",
              "       [0.10135489],\n",
              "       [0.10734758],\n",
              "       [0.11881187],\n",
              "       [0.12923398],\n",
              "       [0.174049  ],\n",
              "       [0.16883793],\n",
              "       [0.16805628],\n",
              "       [0.15685252],\n",
              "       [0.12324127],\n",
              "       [0.08650338],\n",
              "       [0.12376238],\n",
              "       [0.09666494],\n",
              "       [0.09015113],\n",
              "       [0.1078687 ],\n",
              "       [0.13001563],\n",
              "       [0.12845233],\n",
              "       [0.13731109],\n",
              "       [0.16388745],\n",
              "       [0.2058364 ],\n",
              "       [0.20114645],\n",
              "       [0.16571131],\n",
              "       [0.17300679],\n",
              "       [0.16779572],\n",
              "       [0.11776966],\n",
              "       [0.13027619],\n",
              "       [0.15997917],\n",
              "       [0.16023971],\n",
              "       [0.14851485],\n",
              "       [0.11881187],\n",
              "       [0.12714957],\n",
              "       [0.12871287],\n",
              "       [0.16128191],\n",
              "       [0.14304325],\n",
              "       [0.1591975 ],\n",
              "       [0.13991663],\n",
              "       [0.13679   ],\n",
              "       [0.1438249 ],\n",
              "       [0.14434602],\n",
              "       [0.12402294],\n",
              "       [0.10604481],\n",
              "       [0.12845233],\n",
              "       [0.15294425],\n",
              "       [0.17118291],\n",
              "       [0.17378844],\n",
              "       [0.31031791],\n",
              "       [0.40437729],\n",
              "       [0.37258991],\n",
              "       [0.30953623],\n",
              "       [0.22225118],\n",
              "       [0.25065139],\n",
              "       [0.26498175],\n",
              "       [0.29729029],\n",
              "       [0.26472124],\n",
              "       [0.28113602],\n",
              "       [0.2821782 ],\n",
              "       [0.28738927],\n",
              "       [0.28426267],\n",
              "       [0.23762377],\n",
              "       [0.25169362],\n",
              "       [0.22954666],\n",
              "       [0.23397605],\n",
              "       [0.24544032],\n",
              "       [0.22225118],\n",
              "       [0.23189164],\n",
              "       [0.24231372],\n",
              "       [0.21547681],\n",
              "       [0.21886402],\n",
              "       [0.19280878],\n",
              "       [0.20401249],\n",
              "       [0.18968213],\n",
              "       [0.20323086],\n",
              "       [0.21625848],\n",
              "       [0.21182909],\n",
              "       [0.19280878],\n",
              "       [0.17743616],\n",
              "       [0.22225118],\n",
              "       [0.21026579],\n",
              "       [0.20687858],\n",
              "       [0.20479416],\n",
              "       [0.20375198],\n",
              "       [0.19463264],\n",
              "       [0.21235021],\n",
              "       [0.1795206 ],\n",
              "       [0.17873893],\n",
              "       [0.16597187],\n",
              "       [0.17873893],\n",
              "       [0.18394997],\n",
              "       [0.17118291],\n",
              "       [0.17118291],\n",
              "       [0.1980198 ],\n",
              "       [0.16362689],\n",
              "       [0.15737364],\n",
              "       [0.14903597],\n",
              "       [0.15007818],\n",
              "       [0.13105784],\n",
              "       [0.13210005],\n",
              "       [0.12871287],\n",
              "       [0.11776966],\n",
              "       [0.11151641],\n",
              "       [0.12350182],\n",
              "       [0.12063576],\n",
              "       [0.10630537],\n",
              "       [0.10838979],\n",
              "       [0.11073476],\n",
              "       [0.10057321],\n",
              "       [0.09379884],\n",
              "       [0.09171443],\n",
              "       [0.09666494],\n",
              "       [0.08780615],\n",
              "       [0.05680043],\n",
              "       [0.05706096],\n",
              "       [0.03413235],\n",
              "       [0.03491402],\n",
              "       [0.03361126],\n",
              "       [0.04768108],\n",
              "       [0.07191246],\n",
              "       [0.0776446 ],\n",
              "       [0.072173  ],\n",
              "       [0.06279312],\n",
              "       [0.05732152],\n",
              "       [0.03986451],\n",
              "       [0.04585723],\n",
              "       [0.03491402],\n",
              "       [0.03804065],\n",
              "       [0.02892131],\n",
              "       [0.02944242],\n",
              "       [0.0208442 ],\n",
              "       [0.02579468],\n",
              "       [0.04247004],\n",
              "       [0.03256905],\n",
              "       [0.03647732],\n",
              "       [0.05992705],\n",
              "       [0.05054715],\n",
              "       [0.05028662],\n",
              "       [0.0427306 ],\n",
              "       [0.04090672],\n",
              "       [0.04507555],\n",
              "       [0.03152684],\n",
              "       [0.02449191],\n",
              "       [0.03100572],\n",
              "       [0.02032308],\n",
              "       [0.03361126],\n",
              "       [0.02970298],\n",
              "       [0.01511204],\n",
              "       [0.01016155],\n",
              "       [0.        ],\n",
              "       [0.00651381],\n",
              "       [0.00651381],\n",
              "       [0.02006252],\n",
              "       [0.02110473],\n",
              "       [0.02423138],\n",
              "       [0.04142783],\n",
              "       [0.02944242],\n",
              "       [0.08728503],\n",
              "       [0.09119333],\n",
              "       [0.07868681],\n",
              "       [0.06331424],\n",
              "       [0.0760813 ],\n",
              "       [0.099531  ],\n",
              "       [0.10708702],\n",
              "       [0.10396039],\n",
              "       [0.11672746],\n",
              "       [0.12011464],\n",
              "       [0.17926004],\n",
              "       [0.2058364 ],\n",
              "       [0.20427305],\n",
              "       [0.20010421],\n",
              "       [0.17926004],\n",
              "       [0.16284524],\n",
              "       [0.18264723],\n",
              "       [0.19567482],\n",
              "       [0.25299637],\n",
              "       [0.24257428],\n",
              "       [0.26706617],\n",
              "       [0.27384054],\n",
              "       [0.3238666 ],\n",
              "       [0.31292339],\n",
              "       [0.2681084 ],\n",
              "       [0.28556541],\n",
              "       [0.27540389],\n",
              "       [0.26836896],\n",
              "       [0.25117251],\n",
              "       [0.22381448],\n",
              "       [0.20948412],\n",
              "       [0.23475768],\n",
              "       [0.22902554],\n",
              "       [0.22199062],\n",
              "       [0.21782178],\n",
              "       [0.2352788 ],\n",
              "       [0.21964564],\n",
              "       [0.22329341],\n",
              "       [0.26915059],\n",
              "       [0.28973425],\n",
              "       [0.30458573],\n",
              "       [0.29181866],\n",
              "       [0.29181866],\n",
              "       [0.35799899],\n",
              "       [0.35044295],\n",
              "       [0.40020845],\n",
              "       [0.35200625],\n",
              "       [0.36972382],\n",
              "       [0.36842108],\n",
              "       [0.32985934],\n",
              "       [0.32855655],\n",
              "       [0.32907766],\n",
              "       [0.29963522],\n",
              "       [0.30484628],\n",
              "       [0.31448674],\n",
              "       [0.29129755],\n",
              "       [0.29989577],\n",
              "       [0.30875456],\n",
              "       [0.34236584],\n",
              "       [0.34966128],\n",
              "       [0.35643564],\n",
              "       [0.43173532],\n",
              "       [0.4108911 ],\n",
              "       [0.43564359],\n",
              "       [0.41948932],\n",
              "       [0.43017197],\n",
              "       [0.45805106],\n",
              "       [0.46508599],\n",
              "       [0.42730592],\n",
              "       [0.43095364],\n",
              "       [0.45831162],\n",
              "       [0.44762898],\n",
              "       [0.50234499],\n",
              "       [0.46560711],\n",
              "       [0.46195939],\n",
              "       [0.48879625],\n",
              "       [0.4934862 ],\n",
              "       [0.51537261],\n",
              "       [0.5476811 ],\n",
              "       [0.58233456],\n",
              "       [0.54429394],\n",
              "       [0.51511205],\n",
              "       [0.53361129],\n",
              "       [0.57582075],\n",
              "       [0.56670141],\n",
              "       [0.53204794],\n",
              "       [0.50260555],\n",
              "       [0.52527363],\n",
              "       [0.46221995],\n",
              "       [0.50078169],\n",
              "       [0.4841063 ],\n",
              "       [0.46143827],\n",
              "       [0.47368422],\n",
              "       [0.46430436],\n",
              "       [0.4919229 ],\n",
              "       [0.47212092],\n",
              "       [0.48071914],\n",
              "       [0.46221995],\n",
              "       [0.48202188],\n",
              "       [0.42808755],\n",
              "       [0.42912978],\n",
              "       [0.42782699],\n",
              "       [0.41297551],\n",
              "       [0.40932779],\n",
              "       [0.39994789],\n",
              "       [0.40151124],\n",
              "       [0.4343408 ],\n",
              "       [0.41636272],\n",
              "       [0.40385617],\n",
              "       [0.40802505],\n",
              "       [0.37311103],\n",
              "       [0.40568008],\n",
              "       [0.39656073],\n",
              "       [0.4108911 ],\n",
              "       [0.4174049 ],\n",
              "       [0.42235541],\n",
              "       [0.44867121],\n",
              "       [0.44450238],\n",
              "       [0.42939034],\n",
              "       [0.44971339],\n",
              "       [0.44241796],\n",
              "       [0.47342366],\n",
              "       [0.46300157],\n",
              "       [0.48228244],\n",
              "       [0.46248046],\n",
              "       [0.40776449],\n",
              "       [0.42313709],\n",
              "       [0.38639916],\n",
              "       [0.42261597],\n",
              "       [0.4562272 ],\n",
              "       [0.44267852],\n",
              "       [0.4218343 ],\n",
              "       [0.4187077 ],\n",
              "       [0.42313709],\n",
              "       [0.43147476],\n",
              "       [0.41010947],\n",
              "       [0.42756648],\n",
              "       [0.44788954],\n",
              "       [0.44502344],\n",
              "       [0.5104221 ],\n",
              "       [0.53022408],\n",
              "       [0.53152688],\n",
              "       [0.52787911],\n",
              "       [0.52840023],\n",
              "       [0.5291819 ],\n",
              "       [0.5072955 ],\n",
              "       [0.50677438],\n",
              "       [0.50677438],\n",
              "       [0.50547164],\n",
              "       [0.52944246],\n",
              "       [0.56435648],\n",
              "       [0.50390829],\n",
              "       [0.4979156 ],\n",
              "       [0.53725901],\n",
              "       [0.55054719],\n",
              "       [0.57529964],\n",
              "       [0.59562274],\n",
              "       [0.62610737],\n",
              "       [0.58259512],\n",
              "       [0.58415842],\n",
              "       [0.58337679],\n",
              "       [0.62480463],\n",
              "       [0.61750919],\n",
              "       [0.56357481],\n",
              "       [0.53673789],\n",
              "       [0.54142785],\n",
              "       [0.55653988],\n",
              "       [0.55002607],\n",
              "       [0.55237105],\n",
              "       [0.49374676],\n",
              "       [0.47811361],\n",
              "       [0.44450238],\n",
              "       [0.41532049],\n",
              "       [0.4296509 ],\n",
              "       [0.47681087],\n",
              "       [0.47238147],\n",
              "       [0.46117771],\n",
              "       [0.47524757],\n",
              "       [0.45284004],\n",
              "       [0.46951538],\n",
              "       [0.46638878],\n",
              "       [0.44867121]])"
            ]
          },
          "metadata": {
            "tags": []
          },
          "execution_count": 294
        }
      ]
    },
    {
      "cell_type": "code",
      "metadata": {
        "colab": {
          "base_uri": "https://localhost:8080/"
        },
        "id": "ryDBUAM-9WEv",
        "outputId": "af5f20f8-06cf-45eb-90ee-918068c3dd1d"
      },
      "source": [
        "#Create the training data set\n",
        "#Create the scaled training data set\n",
        "train_data = scaled_data[0:training_data_len , :]\n",
        "#Split the data into x_train and y_train data sets\n",
        "x_train = []\n",
        "y_train = []\n",
        "\n",
        "for i in range(60, len(train_data)):\n",
        "  x_train.append(train_data[i-60:i, 0])\n",
        "  y_train.append(train_data[i,0])\n",
        "  if i <= 60:\n",
        "    print (x_train)\n",
        "    print (y_train)\n",
        "    print ()"
      ],
      "execution_count": 295,
      "outputs": [
        {
          "output_type": "stream",
          "text": [
            "[array([0.87806158, 0.90489844, 0.94241795, 0.94815013, 0.94059409,\n",
            "       0.95075562, 0.96456496, 0.98202192, 0.99947898, 1.        ,\n",
            "       0.98462741, 0.9627411 , 0.92339764, 0.89656077, 0.87649823,\n",
            "       0.86868167, 0.84314755, 0.84210532, 0.82308501, 0.82621161,\n",
            "       0.80354358, 0.81292348, 0.82386663, 0.86607609, 0.86607609,\n",
            "       0.8600834 , 0.82386663, 0.84132359, 0.8757166 , 0.86399172,\n",
            "       0.85252736, 0.85148522, 0.87623762, 0.8882231 , 0.86607609,\n",
            "       0.79729028, 0.71156852, 0.66023977, 0.5974466 , 0.62167803,\n",
            "       0.6271496 , 0.62819184, 0.62662849, 0.58884837, 0.4684732 ,\n",
            "       0.09458052, 0.1422616 , 0.0760813 , 0.07842627, 0.14017719,\n",
            "       0.08181346, 0.06409589, 0.04299113, 0.05080771, 0.03517456,\n",
            "       0.02110473, 0.04794164, 0.08129234, 0.10291819, 0.07113079])]\n",
            "[0.055497660602999016]\n",
            "\n"
          ],
          "name": "stdout"
        }
      ]
    },
    {
      "cell_type": "code",
      "metadata": {
        "colab": {
          "base_uri": "https://localhost:8080/"
        },
        "id": "dmJfr5Rh-me3",
        "outputId": "25273c5a-1eac-4fb9-80d2-9ac8dd76e9f8"
      },
      "source": [
        "#Convert the x_train and y_train to numpy arrays\n",
        "x_train, y_train = np.array(x_train), np.array(y_train)\n",
        "\n",
        "#Reshape the data\n",
        "x_train = np.reshape(x_train, (x_train.shape[0], x_train.shape[1], 1))\n",
        "x_train.shape\n"
      ],
      "execution_count": 296,
      "outputs": [
        {
          "output_type": "execute_result",
          "data": {
            "text/plain": [
              "(259, 60, 1)"
            ]
          },
          "metadata": {
            "tags": []
          },
          "execution_count": 296
        }
      ]
    },
    {
      "cell_type": "code",
      "metadata": {
        "id": "asLm_vfh_s7Y"
      },
      "source": [
        "#Build the LSTM model\n",
        "model = Sequential()\n",
        "model.add(LSTM(50, return_sequences=True, input_shape=(x_train.shape[1], 1)))\n",
        "model.add(LSTM(50, return_sequences= False))\n",
        "model.add(Dense(25))\n",
        "model.add(Dense(1))\n",
        "\n"
      ],
      "execution_count": 303,
      "outputs": []
    },
    {
      "cell_type": "code",
      "metadata": {
        "id": "t2HR6Nd_CnK7"
      },
      "source": [
        "#Compile the model\n",
        "model.compile(optimizer = 'adam', loss = 'mean_squared_error')"
      ],
      "execution_count": 304,
      "outputs": []
    },
    {
      "cell_type": "code",
      "metadata": {
        "id": "9oWMWd78DgoF"
      },
      "source": [
        ""
      ],
      "execution_count": null,
      "outputs": []
    },
    {
      "cell_type": "code",
      "metadata": {
        "colab": {
          "base_uri": "https://localhost:8080/"
        },
        "id": "26KDGTykD8p2",
        "outputId": "aa2988c3-5ba1-4db9-b031-d01c4e49949f"
      },
      "source": [
        "#train the model\n",
        "model.fit(x_train, y_train, batch_size=1, epochs=1)"
      ],
      "execution_count": 305,
      "outputs": [
        {
          "output_type": "stream",
          "text": [
            "259/259 [==============================] - 12s 36ms/step - loss: 0.0054\n"
          ],
          "name": "stdout"
        },
        {
          "output_type": "execute_result",
          "data": {
            "text/plain": [
              "<keras.callbacks.History at 0x7faf7afd1dd0>"
            ]
          },
          "metadata": {
            "tags": []
          },
          "execution_count": 305
        }
      ]
    },
    {
      "cell_type": "code",
      "metadata": {
        "id": "ftOrs7HgEdBX"
      },
      "source": [
        "#Create the testing data set\n",
        "#Create a new array containing scaled values from index 1543 to 2003\n",
        "test_data = scaled_data[training_data_len - 60: , :]\n",
        "#Create the data sets x_test and y_test\n",
        "x_test = []\n",
        "y_test = dataset[training_data_len:, :]\n",
        "for i in range(60, len(test_data)):\n",
        "  x_test.append(test_data[i-60:i,0])"
      ],
      "execution_count": 306,
      "outputs": []
    },
    {
      "cell_type": "code",
      "metadata": {
        "id": "4gRIhRssFQx2"
      },
      "source": [
        "#Convert the data to a numpy array\n",
        "x_test = np.array(x_test)\n",
        "\n"
      ],
      "execution_count": 307,
      "outputs": []
    },
    {
      "cell_type": "code",
      "metadata": {
        "id": "6GXuXBDkFk0-"
      },
      "source": [
        "#Reshape the data\n",
        "x_test = np.reshape(x_test, (x_test.shape[0], x_test.shape[1],1))\n",
        "\n",
        "#Get the models predicted price values\n",
        "predictions = model.predict(x_test)\n",
        "predictions = scaler.inverse_transform(predictions)\n"
      ],
      "execution_count": 308,
      "outputs": []
    },
    {
      "cell_type": "code",
      "metadata": {
        "colab": {
          "base_uri": "https://localhost:8080/"
        },
        "id": "R_bqn0kwGHWu",
        "outputId": "7099d350-8d69-4e73-a156-fa3fabf0e134"
      },
      "source": [
        "#Get the root mean squared error (RMSE)\n",
        "rmse = np.sqrt( np.mean(predictions - y_test)**2)\n",
        "rmse"
      ],
      "execution_count": 309,
      "outputs": [
        {
          "output_type": "execute_result",
          "data": {
            "text/plain": [
              "2.7939770614044575"
            ]
          },
          "metadata": {
            "tags": []
          },
          "execution_count": 309
        }
      ]
    },
    {
      "cell_type": "code",
      "metadata": {
        "colab": {
          "base_uri": "https://localhost:8080/",
          "height": 827
        },
        "id": "H3fHhAOjGr-y",
        "outputId": "bf9b1a34-052d-4192-a3b1-67de50f1d86d"
      },
      "source": [
        "#Plot the data\n",
        "train = data[:training_data_len]\n",
        "valid = data[training_data_len:]\n",
        "valid['Predictions'] = predictions\n",
        "#Visualise the data\n",
        "plt.figure(figsize=(16,8))\n",
        "plt.title('Model')\n",
        "plt.xlabel('Date',fontsize=18)\n",
        "plt.ylabel('Close Price USD ($)', fontsize=18)\n",
        "plt.plot(train['Close'])\n",
        "plt.plot(valid[['Close','Predictions']])\n",
        "plt.legend(['Train', 'Val', 'Predictions'], loc='lower right')\n",
        "plt.show()\n"
      ],
      "execution_count": 310,
      "outputs": [
        {
          "output_type": "stream",
          "text": [
            "/usr/local/lib/python3.7/dist-packages/ipykernel_launcher.py:4: SettingWithCopyWarning: \n",
            "A value is trying to be set on a copy of a slice from a DataFrame.\n",
            "Try using .loc[row_indexer,col_indexer] = value instead\n",
            "\n",
            "See the caveats in the documentation: https://pandas.pydata.org/pandas-docs/stable/user_guide/indexing.html#returning-a-view-versus-a-copy\n",
            "  after removing the cwd from sys.path.\n"
          ],
          "name": "stderr"
        },
        {
          "output_type": "display_data",
          "data": {
            "image/png": "[encoded data removed]",
            "text/plain": [
              "<Figure size 1600x800 with 1 Axes>"
            ]
          },
          "metadata": {
            "tags": []
          }
        }
      ]
    },
    {
      "cell_type": "code",
      "metadata": {
        "colab": {
          "base_uri": "https://localhost:8080/",
          "height": 450
        },
        "id": "8MziIYyZKV8k",
        "outputId": "949354a0-54e8-4d4f-8bb0-c4bca04a791b"
      },
      "source": [
        "#show the valid and predicted return\n",
        "valid"
      ],
      "execution_count": 311,
      "outputs": [
        {
          "output_type": "execute_result",
          "data": {
            "text/html": [
              "<div>\n",
              "<style scoped>\n",
              "    .dataframe tbody tr th:only-of-type {\n",
              "        vertical-align: middle;\n",
              "    }\n",
              "\n",
              "    .dataframe tbody tr th {\n",
              "        vertical-align: top;\n",
              "    }\n",
              "\n",
              "    .dataframe thead th {\n",
              "        text-align: right;\n",
              "    }\n",
              "</style>\n",
              "<table border=\"1\" class=\"dataframe\">\n",
              "  <thead>\n",
              "    <tr style=\"text-align: right;\">\n",
              "      <th></th>\n",
              "      <th>Close</th>\n",
              "      <th>Predictions</th>\n",
              "    </tr>\n",
              "    <tr>\n",
              "      <th>Date</th>\n",
              "      <th></th>\n",
              "      <th></th>\n",
              "    </tr>\n",
              "  </thead>\n",
              "  <tbody>\n",
              "    <tr>\n",
              "      <th>2021-04-09</th>\n",
              "      <td>24.590000</td>\n",
              "      <td>28.993282</td>\n",
              "    </tr>\n",
              "    <tr>\n",
              "      <th>2021-04-12</th>\n",
              "      <td>24.230000</td>\n",
              "      <td>28.675255</td>\n",
              "    </tr>\n",
              "    <tr>\n",
              "      <th>2021-04-13</th>\n",
              "      <td>24.290001</td>\n",
              "      <td>28.347511</td>\n",
              "    </tr>\n",
              "    <tr>\n",
              "      <th>2021-04-14</th>\n",
              "      <td>25.549999</td>\n",
              "      <td>28.045841</td>\n",
              "    </tr>\n",
              "    <tr>\n",
              "      <th>2021-04-15</th>\n",
              "      <td>24.860001</td>\n",
              "      <td>27.890574</td>\n",
              "    </tr>\n",
              "    <tr>\n",
              "      <th>...</th>\n",
              "      <td>...</td>\n",
              "      <td>...</td>\n",
              "    </tr>\n",
              "    <tr>\n",
              "      <th>2021-07-26</th>\n",
              "      <td>27.120001</td>\n",
              "      <td>29.787832</td>\n",
              "    </tr>\n",
              "    <tr>\n",
              "      <th>2021-07-27</th>\n",
              "      <td>26.260000</td>\n",
              "      <td>29.660860</td>\n",
              "    </tr>\n",
              "    <tr>\n",
              "      <th>2021-07-28</th>\n",
              "      <td>26.900000</td>\n",
              "      <td>29.535631</td>\n",
              "    </tr>\n",
              "    <tr>\n",
              "      <th>2021-07-29</th>\n",
              "      <td>26.780001</td>\n",
              "      <td>29.477825</td>\n",
              "    </tr>\n",
              "    <tr>\n",
              "      <th>2021-07-30</th>\n",
              "      <td>26.100000</td>\n",
              "      <td>29.452835</td>\n",
              "    </tr>\n",
              "  </tbody>\n",
              "</table>\n",
              "<p>79 rows × 2 columns</p>\n",
              "</div>"
            ],
            "text/plain": [
              "                Close  Predictions\n",
              "Date                              \n",
              "2021-04-09  24.590000    28.993282\n",
              "2021-04-12  24.230000    28.675255\n",
              "2021-04-13  24.290001    28.347511\n",
              "2021-04-14  25.549999    28.045841\n",
              "2021-04-15  24.860001    27.890574\n",
              "...               ...          ...\n",
              "2021-07-26  27.120001    29.787832\n",
              "2021-07-27  26.260000    29.660860\n",
              "2021-07-28  26.900000    29.535631\n",
              "2021-07-29  26.780001    29.477825\n",
              "2021-07-30  26.100000    29.452835\n",
              "\n",
              "[79 rows x 2 columns]"
            ]
          },
          "metadata": {
            "tags": []
          },
          "execution_count": 311
        }
      ]
    },
    {
      "cell_type": "code",
      "metadata": {
        "colab": {
          "base_uri": "https://localhost:8080/"
        },
        "id": "1_Z2x6IdK0eM",
        "outputId": "46d623f2-2af9-46ac-8348-67b0dbbbddf9"
      },
      "source": [
        "#get the quote\n",
        "apple_quote = yf.download('OXY', start=start_date, end=end_date)\n",
        "#Create a new dataframe\n",
        "new_data = apple_quote.filter(['Close'])\n",
        "#Get the last 60 day closing price values and convert the dataframe to an array\n",
        "last_60_days = new_data[-60:].values\n",
        "last_60_days_scaled = scaler.transform(last_60_days)\n",
        "#Create an empty list\n",
        "X_test = []\n",
        "#Append the past 60 days\n",
        "X_test.append(last_60_days_scaled)\n",
        "#Convert the X_test data set to a numpy array\n",
        "X_test = np.array(X_test)\n",
        "#Reshape the data\n",
        "X_test = np.reshape(X_test, (X_test.shape[0], X_test.shape[1],1))\n",
        "#Get the predicted scaled price\n",
        "pred_price = model.predict(X_test)\n",
        "#undo the scaling\n",
        "pred_price = scaler.inverse_transform(pred_price)\n",
        "print(pred_price)\n"
      ],
      "execution_count": 312,
      "outputs": [
        {
          "output_type": "stream",
          "text": [
            "\r[*********************100%***********************]  1 of 1 completed\n",
            "[[29.391474]]\n"
          ],
          "name": "stdout"
        }
      ]
    }
  ]
}