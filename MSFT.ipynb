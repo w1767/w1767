{
  "nbformat": 4,
  "nbformat_minor": 0,
  "metadata": {
    "colab": {
      "name": "Untitled0.ipynb",
      "provenance": [],
      "authorship_tag": "ABX9TyOG+Kg/K0GkgdZUdUDCU9hU",
      "include_colab_link": true
    },
    "kernelspec": {
      "name": "python3",
      "display_name": "Python 3"
    },
    "language_info": {
      "name": "python"
    }
  },
  "cells": [
    {
      "cell_type": "markdown",
      "metadata": {
        "id": "view-in-github",
        "colab_type": "text"
      },
      "source": [
        "<a href=\"https://colab.research.google.com/github/w1767/w1767/blob/main/MSFT.ipynb\" target=\"_parent\"><img src=\"https://colab.research.google.com/assets/colab-badge.svg\" alt=\"Open In Colab\"/></a>"
      ]
    },
    {
      "cell_type": "code",
      "metadata": {
        "id": "jF-rA78EBttL"
      },
      "source": [
        "# Description: this program uses an aritificial recurrent neural network called Long Short Term Memory (LSTM) to predict\n",
        "# the closing stock price of a corporation (Apple Inc.) using the past 60 day stock price. "
      ],
      "execution_count": 113,
      "outputs": []
    },
    {
      "cell_type": "code",
      "metadata": {
        "id": "wpTDFiYaHooV"
      },
      "source": [
        ""
      ],
      "execution_count": 113,
      "outputs": []
    },
    {
      "cell_type": "code",
      "metadata": {
        "id": "4t9te_ZzCKmA",
        "colab": {
          "base_uri": "https://localhost:8080/"
        },
        "outputId": "45eb6163-3b1c-4803-900d-b6000cba4cc2"
      },
      "source": [
        "# Import the libraries\n",
        "!pip install pandas_datareader\n",
        "!pip install yfinance\n",
        "!pip install mplfinance\n",
        "import os\n",
        "import argparse\n",
        "import signal\n",
        "import yfinance as yf\n",
        "import pickle\n",
        "import mplfinance as mpf\n",
        "import math\n",
        "import pandas_datareader.data as web\n",
        "from datetime import datetime, timedelta\n",
        "import numpy as np\n",
        "import pandas as pd\n",
        "from sklearn.preprocessing import MinMaxScaler\n",
        "from keras.models import Sequential\n",
        "from keras.layers import Dense, LSTM\n",
        "#from yfinance import stock_info\n",
        "from dateutil.parser import parse\n",
        "from urllib.request import urlopen, Request\n",
        "from bs4 import BeautifulSoup\n",
        "import matplotlib.pyplot as plt\n",
        "plt.style.use('fivethirtyeight')\n",
        "start_date = datetime(2020, 1,1)\n",
        "end_date = datetime(2021, 7, 23)\n"
      ],
      "execution_count": 114,
      "outputs": [
        {
          "output_type": "stream",
          "text": [
            "Requirement already satisfied: pandas_datareader in /usr/local/lib/python3.7/dist-packages (0.9.0)\n",
            "Requirement already satisfied: requests>=2.19.0 in /usr/local/lib/python3.7/dist-packages (from pandas_datareader) (2.23.0)\n",
            "Requirement already satisfied: pandas>=0.23 in /usr/local/lib/python3.7/dist-packages (from pandas_datareader) (1.1.5)\n",
            "Requirement already satisfied: lxml in /usr/local/lib/python3.7/dist-packages (from pandas_datareader) (4.6.3)\n",
            "Requirement already satisfied: pytz>=2017.2 in /usr/local/lib/python3.7/dist-packages (from pandas>=0.23->pandas_datareader) (2018.9)\n",
            "Requirement already satisfied: numpy>=1.15.4 in /usr/local/lib/python3.7/dist-packages (from pandas>=0.23->pandas_datareader) (1.19.5)\n",
            "Requirement already satisfied: python-dateutil>=2.7.3 in /usr/local/lib/python3.7/dist-packages (from pandas>=0.23->pandas_datareader) (2.8.1)\n",
            "Requirement already satisfied: six>=1.5 in /usr/local/lib/python3.7/dist-packages (from python-dateutil>=2.7.3->pandas>=0.23->pandas_datareader) (1.15.0)\n",
            "Requirement already satisfied: idna<3,>=2.5 in /usr/local/lib/python3.7/dist-packages (from requests>=2.19.0->pandas_datareader) (2.10)\n",
            "Requirement already satisfied: certifi>=2017.4.17 in /usr/local/lib/python3.7/dist-packages (from requests>=2.19.0->pandas_datareader) (2021.5.30)\n",
            "Requirement already satisfied: urllib3!=1.25.0,!=1.25.1,<1.26,>=1.21.1 in /usr/local/lib/python3.7/dist-packages (from requests>=2.19.0->pandas_datareader) (1.24.3)\n",
            "Requirement already satisfied: chardet<4,>=3.0.2 in /usr/local/lib/python3.7/dist-packages (from requests>=2.19.0->pandas_datareader) (3.0.4)\n",
            "Requirement already satisfied: yfinance in /usr/local/lib/python3.7/dist-packages (0.1.63)\n",
            "Requirement already satisfied: numpy>=1.15 in /usr/local/lib/python3.7/dist-packages (from yfinance) (1.19.5)\n",
            "Requirement already satisfied: lxml>=4.5.1 in /usr/local/lib/python3.7/dist-packages (from yfinance) (4.6.3)\n",
            "Requirement already satisfied: requests>=2.20 in /usr/local/lib/python3.7/dist-packages (from yfinance) (2.23.0)\n",
            "Requirement already satisfied: multitasking>=0.0.7 in /usr/local/lib/python3.7/dist-packages (from yfinance) (0.0.9)\n",
            "Requirement already satisfied: pandas>=0.24 in /usr/local/lib/python3.7/dist-packages (from yfinance) (1.1.5)\n",
            "Requirement already satisfied: pytz>=2017.2 in /usr/local/lib/python3.7/dist-packages (from pandas>=0.24->yfinance) (2018.9)\n",
            "Requirement already satisfied: python-dateutil>=2.7.3 in /usr/local/lib/python3.7/dist-packages (from pandas>=0.24->yfinance) (2.8.1)\n",
            "Requirement already satisfied: six>=1.5 in /usr/local/lib/python3.7/dist-packages (from python-dateutil>=2.7.3->pandas>=0.24->yfinance) (1.15.0)\n",
            "Requirement already satisfied: chardet<4,>=3.0.2 in /usr/local/lib/python3.7/dist-packages (from requests>=2.20->yfinance) (3.0.4)\n",
            "Requirement already satisfied: urllib3!=1.25.0,!=1.25.1,<1.26,>=1.21.1 in /usr/local/lib/python3.7/dist-packages (from requests>=2.20->yfinance) (1.24.3)\n",
            "Requirement already satisfied: certifi>=2017.4.17 in /usr/local/lib/python3.7/dist-packages (from requests>=2.20->yfinance) (2021.5.30)\n",
            "Requirement already satisfied: idna<3,>=2.5 in /usr/local/lib/python3.7/dist-packages (from requests>=2.20->yfinance) (2.10)\n",
            "Requirement already satisfied: mplfinance in /usr/local/lib/python3.7/dist-packages (0.12.7a17)\n",
            "Requirement already satisfied: pandas in /usr/local/lib/python3.7/dist-packages (from mplfinance) (1.1.5)\n",
            "Requirement already satisfied: matplotlib in /usr/local/lib/python3.7/dist-packages (from mplfinance) (3.2.2)\n",
            "Requirement already satisfied: python-dateutil>=2.1 in /usr/local/lib/python3.7/dist-packages (from matplotlib->mplfinance) (2.8.1)\n",
            "Requirement already satisfied: pyparsing!=2.0.4,!=2.1.2,!=2.1.6,>=2.0.1 in /usr/local/lib/python3.7/dist-packages (from matplotlib->mplfinance) (2.4.7)\n",
            "Requirement already satisfied: numpy>=1.11 in /usr/local/lib/python3.7/dist-packages (from matplotlib->mplfinance) (1.19.5)\n",
            "Requirement already satisfied: kiwisolver>=1.0.1 in /usr/local/lib/python3.7/dist-packages (from matplotlib->mplfinance) (1.3.1)\n",
            "Requirement already satisfied: cycler>=0.10 in /usr/local/lib/python3.7/dist-packages (from matplotlib->mplfinance) (0.10.0)\n",
            "Requirement already satisfied: six in /usr/local/lib/python3.7/dist-packages (from cycler>=0.10->matplotlib->mplfinance) (1.15.0)\n",
            "Requirement already satisfied: pytz>=2017.2 in /usr/local/lib/python3.7/dist-packages (from pandas->mplfinance) (2018.9)\n"
          ],
          "name": "stdout"
        }
      ]
    },
    {
      "cell_type": "code",
      "metadata": {
        "colab": {
          "base_uri": "https://localhost:8080/",
          "height": 467
        },
        "id": "Tkat1PpYDTgp",
        "outputId": "017653bd-a5a2-46cd-f729-d3a2e73b2140"
      },
      "source": [
        "#Get the stock quote\n",
        "data = yf.download('MSFT', start=start_date, end=end_date)\n",
        "#df = web.DataReader('MSFT', data_source='yahoo',start='2012-01',end='2019-12-17')\n",
        "#show the data\n",
        "data.head(391)"
      ],
      "execution_count": 115,
      "outputs": [
        {
          "output_type": "stream",
          "text": [
            "\r[*********************100%***********************]  1 of 1 completed\n"
          ],
          "name": "stdout"
        },
        {
          "output_type": "execute_result",
          "data": {
            "text/html": [
              "<div>\n",
              "<style scoped>\n",
              "    .dataframe tbody tr th:only-of-type {\n",
              "        vertical-align: middle;\n",
              "    }\n",
              "\n",
              "    .dataframe tbody tr th {\n",
              "        vertical-align: top;\n",
              "    }\n",
              "\n",
              "    .dataframe thead th {\n",
              "        text-align: right;\n",
              "    }\n",
              "</style>\n",
              "<table border=\"1\" class=\"dataframe\">\n",
              "  <thead>\n",
              "    <tr style=\"text-align: right;\">\n",
              "      <th></th>\n",
              "      <th>Open</th>\n",
              "      <th>High</th>\n",
              "      <th>Low</th>\n",
              "      <th>Close</th>\n",
              "      <th>Adj Close</th>\n",
              "      <th>Volume</th>\n",
              "    </tr>\n",
              "    <tr>\n",
              "      <th>Date</th>\n",
              "      <th></th>\n",
              "      <th></th>\n",
              "      <th></th>\n",
              "      <th></th>\n",
              "      <th></th>\n",
              "      <th></th>\n",
              "    </tr>\n",
              "  </thead>\n",
              "  <tbody>\n",
              "    <tr>\n",
              "      <th>2020-01-02</th>\n",
              "      <td>158.779999</td>\n",
              "      <td>160.729996</td>\n",
              "      <td>158.330002</td>\n",
              "      <td>160.619995</td>\n",
              "      <td>158.205765</td>\n",
              "      <td>22622100</td>\n",
              "    </tr>\n",
              "    <tr>\n",
              "      <th>2020-01-03</th>\n",
              "      <td>158.320007</td>\n",
              "      <td>159.949997</td>\n",
              "      <td>158.059998</td>\n",
              "      <td>158.619995</td>\n",
              "      <td>156.235825</td>\n",
              "      <td>21116200</td>\n",
              "    </tr>\n",
              "    <tr>\n",
              "      <th>2020-01-06</th>\n",
              "      <td>157.080002</td>\n",
              "      <td>159.100006</td>\n",
              "      <td>156.509995</td>\n",
              "      <td>159.029999</td>\n",
              "      <td>156.639694</td>\n",
              "      <td>20813700</td>\n",
              "    </tr>\n",
              "    <tr>\n",
              "      <th>2020-01-07</th>\n",
              "      <td>159.320007</td>\n",
              "      <td>159.669998</td>\n",
              "      <td>157.320007</td>\n",
              "      <td>157.580002</td>\n",
              "      <td>155.211456</td>\n",
              "      <td>21634100</td>\n",
              "    </tr>\n",
              "    <tr>\n",
              "      <th>2020-01-08</th>\n",
              "      <td>158.929993</td>\n",
              "      <td>160.800003</td>\n",
              "      <td>157.949997</td>\n",
              "      <td>160.089996</td>\n",
              "      <td>157.683731</td>\n",
              "      <td>27746500</td>\n",
              "    </tr>\n",
              "    <tr>\n",
              "      <th>...</th>\n",
              "      <td>...</td>\n",
              "      <td>...</td>\n",
              "      <td>...</td>\n",
              "      <td>...</td>\n",
              "      <td>...</td>\n",
              "      <td>...</td>\n",
              "    </tr>\n",
              "    <tr>\n",
              "      <th>2021-07-15</th>\n",
              "      <td>282.000000</td>\n",
              "      <td>282.510010</td>\n",
              "      <td>279.829987</td>\n",
              "      <td>281.029999</td>\n",
              "      <td>281.029999</td>\n",
              "      <td>22604200</td>\n",
              "    </tr>\n",
              "    <tr>\n",
              "      <th>2021-07-16</th>\n",
              "      <td>282.070007</td>\n",
              "      <td>284.100006</td>\n",
              "      <td>279.459991</td>\n",
              "      <td>280.750000</td>\n",
              "      <td>280.750000</td>\n",
              "      <td>26176100</td>\n",
              "    </tr>\n",
              "    <tr>\n",
              "      <th>2021-07-19</th>\n",
              "      <td>278.929993</td>\n",
              "      <td>280.369995</td>\n",
              "      <td>274.450012</td>\n",
              "      <td>277.010010</td>\n",
              "      <td>277.010010</td>\n",
              "      <td>32935600</td>\n",
              "    </tr>\n",
              "    <tr>\n",
              "      <th>2021-07-20</th>\n",
              "      <td>278.029999</td>\n",
              "      <td>280.970001</td>\n",
              "      <td>276.260010</td>\n",
              "      <td>279.320007</td>\n",
              "      <td>279.320007</td>\n",
              "      <td>26247500</td>\n",
              "    </tr>\n",
              "    <tr>\n",
              "      <th>2021-07-21</th>\n",
              "      <td>278.899994</td>\n",
              "      <td>281.519989</td>\n",
              "      <td>277.290009</td>\n",
              "      <td>281.399994</td>\n",
              "      <td>281.399994</td>\n",
              "      <td>24357700</td>\n",
              "    </tr>\n",
              "  </tbody>\n",
              "</table>\n",
              "<p>391 rows × 6 columns</p>\n",
              "</div>"
            ],
            "text/plain": [
              "                  Open        High  ...   Adj Close    Volume\n",
              "Date                                ...                      \n",
              "2020-01-02  158.779999  160.729996  ...  158.205765  22622100\n",
              "2020-01-03  158.320007  159.949997  ...  156.235825  21116200\n",
              "2020-01-06  157.080002  159.100006  ...  156.639694  20813700\n",
              "2020-01-07  159.320007  159.669998  ...  155.211456  21634100\n",
              "2020-01-08  158.929993  160.800003  ...  157.683731  27746500\n",
              "...                ...         ...  ...         ...       ...\n",
              "2021-07-15  282.000000  282.510010  ...  281.029999  22604200\n",
              "2021-07-16  282.070007  284.100006  ...  280.750000  26176100\n",
              "2021-07-19  278.929993  280.369995  ...  277.010010  32935600\n",
              "2021-07-20  278.029999  280.970001  ...  279.320007  26247500\n",
              "2021-07-21  278.899994  281.519989  ...  281.399994  24357700\n",
              "\n",
              "[391 rows x 6 columns]"
            ]
          },
          "metadata": {
            "tags": []
          },
          "execution_count": 115
        }
      ]
    },
    {
      "cell_type": "code",
      "metadata": {
        "id": "iINONBjJCmEs"
      },
      "source": [
        ""
      ],
      "execution_count": null,
      "outputs": []
    },
    {
      "cell_type": "code",
      "metadata": {
        "colab": {
          "base_uri": "https://localhost:8080/"
        },
        "id": "-1NflEs4D4Bv",
        "outputId": "7f668537-3e22-4fa0-b463-6da43b035c55"
      },
      "source": [
        "#Get the number of rows and columns in the data set\n",
        "data.shape\n",
        "\n"
      ],
      "execution_count": 116,
      "outputs": [
        {
          "output_type": "execute_result",
          "data": {
            "text/plain": [
              "(392, 6)"
            ]
          },
          "metadata": {
            "tags": []
          },
          "execution_count": 116
        }
      ]
    },
    {
      "cell_type": "code",
      "metadata": {
        "colab": {
          "base_uri": "https://localhost:8080/",
          "height": 523
        },
        "id": "nASYYE3wEFyH",
        "outputId": "0c62e035-a8f2-4005-c7e3-3f8bd17b3203"
      },
      "source": [
        "mpf.plot(data, type='candle', mav= (3,6,9), volume=True, show_nontrading=True)\n",
        "#Visualize the closing price history\n",
        "#plt.figure(figsize=(16,8))\n",
        "#plt.title('Close Price History')\n",
        "#plt.plot(df['Close'])\n",
        "#plt.xlabel('Date',fontsize=18)\n",
        "#plt.ylabel('Close Price USD($)',fontsize=18)\n",
        "#plt.show()"
      ],
      "execution_count": 117,
      "outputs": [
        {
          "output_type": "display_data",
          "data": {
            "image/png": "[encoded data removed]",
            "text/plain": [
              "<Figure size 800x575 with 4 Axes>"
            ]
          },
          "metadata": {
            "tags": []
          }
        }
      ]
    },
    {
      "cell_type": "code",
      "metadata": {
        "id": "5u3vU4T5HqUi"
      },
      "source": [
        ""
      ],
      "execution_count": null,
      "outputs": []
    },
    {
      "cell_type": "code",
      "metadata": {
        "colab": {
          "base_uri": "https://localhost:8080/"
        },
        "id": "LhjmcNHG7Tbm",
        "outputId": "597c087c-de12-405a-b422-1cd73e4b7246"
      },
      "source": [
        "#Create a new dataframe with only the 'Close column'\n",
        "data = data.filter(['Close'])\n",
        "#Convert the dataframe to a numpy array\n",
        "dataset = data.values\n",
        "#Get the number of rows to train the model on \n",
        "training_data_len = math.ceil(len(dataset) * .8)\n",
        "\n",
        "training_data_len"
      ],
      "execution_count": 118,
      "outputs": [
        {
          "output_type": "execute_result",
          "data": {
            "text/plain": [
              "314"
            ]
          },
          "metadata": {
            "tags": []
          },
          "execution_count": 118
        }
      ]
    },
    {
      "cell_type": "code",
      "metadata": {
        "colab": {
          "base_uri": "https://localhost:8080/"
        },
        "id": "7KFZs2c38gaO",
        "outputId": "e30fdbfe-c3c8-49c0-d2cf-023558615793"
      },
      "source": [
        "#Scale the data\n",
        "scaler = MinMaxScaler(feature_range=(0,1))\n",
        "scaled_data = scaler.fit_transform(dataset)\n",
        "scaled_data\n",
        "\n"
      ],
      "execution_count": 119,
      "outputs": [
        {
          "output_type": "execute_result",
          "data": {
            "text/plain": [
              "array([[0.16719741],\n",
              "       [0.15392778],\n",
              "       [0.15664808],\n",
              "       [0.14702761],\n",
              "       [0.16368097],\n",
              "       [0.17695061],\n",
              "       [0.17197449],\n",
              "       [0.18484606],\n",
              "       [0.17721605],\n",
              "       [0.18418253],\n",
              "       [0.20402068],\n",
              "       [0.21019111],\n",
              "       [0.20621018],\n",
              "       [0.20090231],\n",
              "       [0.20766985],\n",
              "       [0.1965233 ],\n",
              "       [0.17821124],\n",
              "       [0.19931001],\n",
              "       [0.21642776],\n",
              "       [0.24787683],\n",
              "       [0.23095803],\n",
              "       [0.25849259],\n",
              "       [0.29657638],\n",
              "       [0.29511671],\n",
              "       [0.31986466],\n",
              "       [0.32158968],\n",
              "       [0.35350314],\n",
              "       [0.32523885],\n",
              "       [0.32703028],\n",
              "       [0.32039546],\n",
              "       [0.33127656],\n",
              "       [0.34374995],\n",
              "       [0.34408171],\n",
              "       [0.32510612],\n",
              "       [0.28642512],\n",
              "       [0.23533703],\n",
              "       [0.21662689],\n",
              "       [0.23055995],\n",
              "       [0.15100844],\n",
              "       [0.17641981],\n",
              "       [0.24794315],\n",
              "       [0.19300685],\n",
              "       [0.23308122],\n",
              "       [0.2046842 ],\n",
              "       [0.17350057],\n",
              "       [0.10084923],\n",
              "       [0.16918788],\n",
              "       [0.1208201 ],\n",
              "       [0.02415074],\n",
              "       [0.15532113],\n",
              "       [0.        ],\n",
              "       [0.07397829],\n",
              "       [0.03304137],\n",
              "       [0.04836789],\n",
              "       [0.01280525],\n",
              "       [0.00371548],\n",
              "       [0.08572185],\n",
              "       [0.07630042],\n",
              "       [0.13727442],\n",
              "       [0.0947452 ],\n",
              "       [0.16460984],\n",
              "       [0.14789017],\n",
              "       [0.11073514],\n",
              "       [0.13163478],\n",
              "       [0.12214704],\n",
              "       [0.19804938],\n",
              "       [0.18623941],\n",
              "       [0.19712051],\n",
              "       [0.19718682],\n",
              "       [0.19964167],\n",
              "       [0.25398086],\n",
              "       [0.24190554],\n",
              "       [0.27614113],\n",
              "       [0.28649153],\n",
              "       [0.26300421],\n",
              "       [0.21496819],\n",
              "       [0.25278664],\n",
              "       [0.23885348],\n",
              "       [0.25962049],\n",
              "       [0.25630308],\n",
              "       [0.22817141],\n",
              "       [0.2787287 ],\n",
              "       [0.29053877],\n",
              "       [0.25975322],\n",
              "       [0.28808382],\n",
              "       [0.30082266],\n",
              "       [0.31263263],\n",
              "       [0.31966562],\n",
              "       [0.32683114],\n",
              "       [0.34049895],\n",
              "       [0.31243359],\n",
              "       [0.29412153],\n",
              "       [0.29929668],\n",
              "       [0.31674629],\n",
              "       [0.32835722],\n",
              "       [0.31986466],\n",
              "       [0.33333333],\n",
              "       [0.31853761],\n",
              "       [0.31906841],\n",
              "       [0.30619695],\n",
              "       [0.30778924],\n",
              "       [0.30506894],\n",
              "       [0.3173434 ],\n",
              "       [0.31455678],\n",
              "       [0.32835722],\n",
              "       [0.33134287],\n",
              "       [0.31515389],\n",
              "       [0.34355091],\n",
              "       [0.35124732],\n",
              "       [0.36080148],\n",
              "       [0.40751056],\n",
              "       [0.33738058],\n",
              "       [0.34713377],\n",
              "       [0.35509553],\n",
              "       [0.38581477],\n",
              "       [0.39026009],\n",
              "       [0.40406053],\n",
              "       [0.3962977 ],\n",
              "       [0.43225851],\n",
              "       [0.44114914],\n",
              "       [0.41414538],\n",
              "       [0.43073242],\n",
              "       [0.40412684],\n",
              "       [0.41812631],\n",
              "       [0.45176479],\n",
              "       [0.45966024],\n",
              "       [0.47001054],\n",
              "       [0.49946915],\n",
              "       [0.48321387],\n",
              "       [0.51360135],\n",
              "       [0.52348726],\n",
              "       [0.51917457],\n",
              "       [0.47538483],\n",
              "       [0.48387739],\n",
              "       [0.48182051],\n",
              "       [0.45448509],\n",
              "       [0.44758492],\n",
              "       [0.50544055],\n",
              "       [0.48653128],\n",
              "       [0.50643573],\n",
              "       [0.44532901],\n",
              "       [0.4371019 ],\n",
              "       [0.4540207 ],\n",
              "       [0.44187897],\n",
              "       [0.45541396],\n",
              "       [0.45435236],\n",
              "       [0.46171702],\n",
              "       [0.53821647],\n",
              "       [0.51665331],\n",
              "       [0.51433118],\n",
              "       [0.53695594],\n",
              "       [0.51127912],\n",
              "       [0.48321387],\n",
              "       [0.45090233],\n",
              "       [0.48945061],\n",
              "       [0.48619951],\n",
              "       [0.48752646],\n",
              "       [0.49668254],\n",
              "       [0.50471072],\n",
              "       [0.49283433],\n",
              "       [0.52521228],\n",
              "       [0.51486198],\n",
              "       [0.5193073 ],\n",
              "       [0.53775208],\n",
              "       [0.56880299],\n",
              "       [0.60483011],\n",
              "       [0.62028925],\n",
              "       [0.59786353],\n",
              "       [0.60940815],\n",
              "       [0.63846859],\n",
              "       [0.543259  ],\n",
              "       [0.52302278],\n",
              "       [0.44612525],\n",
              "       [0.50338367],\n",
              "       [0.46410556],\n",
              "       [0.45521492],\n",
              "       [0.464371  ],\n",
              "       [0.48673031],\n",
              "       [0.46198247],\n",
              "       [0.44778396],\n",
              "       [0.43106419],\n",
              "       [0.44532901],\n",
              "       [0.47770695],\n",
              "       [0.43239113],\n",
              "       [0.4496417 ],\n",
              "       [0.48036094],\n",
              "       [0.49110932],\n",
              "       [0.47664536],\n",
              "       [0.4970143 ],\n",
              "       [0.5111465 ],\n",
              "       [0.46954616],\n",
              "       [0.49734606],\n",
              "       [0.46768841],\n",
              "       [0.49369689],\n",
              "       [0.49867301],\n",
              "       [0.53337308],\n",
              "       [0.57046169],\n",
              "       [0.58014857],\n",
              "       [0.56687894],\n",
              "       [0.55891717],\n",
              "       [0.55891717],\n",
              "       [0.52282374],\n",
              "       [0.52567667],\n",
              "       [0.52667195],\n",
              "       [0.52726906],\n",
              "       [0.53615969],\n",
              "       [0.4953556 ],\n",
              "       [0.51638796],\n",
              "       [0.44625788],\n",
              "       [0.45979296],\n",
              "       [0.44486462],\n",
              "       [0.44393575],\n",
              "       [0.47113845],\n",
              "       [0.53722129],\n",
              "       [0.5830015 ],\n",
              "       [0.58585452],\n",
              "       [0.55049092],\n",
              "       [0.50152593],\n",
              "       [0.53828288],\n",
              "       [0.53091823],\n",
              "       [0.53801743],\n",
              "       [0.54279451],\n",
              "       [0.52441614],\n",
              "       [0.50199042],\n",
              "       [0.51088105],\n",
              "       [0.49741237],\n",
              "       [0.49555463],\n",
              "       [0.5204352 ],\n",
              "       [0.52050152],\n",
              "       [0.52952487],\n",
              "       [0.52182856],\n",
              "       [0.53602707],\n",
              "       [0.53045374],\n",
              "       [0.52295647],\n",
              "       [0.52375261],\n",
              "       [0.52328813],\n",
              "       [0.53470002],\n",
              "       [0.50676749],\n",
              "       [0.49827493],\n",
              "       [0.51645427],\n",
              "       [0.52269102],\n",
              "       [0.52222663],\n",
              "       [0.55639591],\n",
              "       [0.55732478],\n",
              "       [0.55181787],\n",
              "       [0.57835714],\n",
              "       [0.58731419],\n",
              "       [0.56794053],\n",
              "       [0.57941874],\n",
              "       [0.59408173],\n",
              "       [0.58870744],\n",
              "       [0.57231943],\n",
              "       [0.57722924],\n",
              "       [0.54584657],\n",
              "       [0.54723983],\n",
              "       [0.50975314],\n",
              "       [0.5498274 ],\n",
              "       [0.55865172],\n",
              "       [0.54451963],\n",
              "       [0.52753441],\n",
              "       [0.53688953],\n",
              "       [0.51486198],\n",
              "       [0.51240703],\n",
              "       [0.53755305],\n",
              "       [0.58996808],\n",
              "       [0.59414804],\n",
              "       [0.60065014],\n",
              "       [0.6244028 ],\n",
              "       [0.64298031],\n",
              "       [0.64676211],\n",
              "       [0.68677006],\n",
              "       [0.64052546],\n",
              "       [0.69154714],\n",
              "       [0.69061827],\n",
              "       [0.71377382],\n",
              "       [0.70720531],\n",
              "       [0.70846594],\n",
              "       [0.71025737],\n",
              "       [0.71888266],\n",
              "       [0.7125796 ],\n",
              "       [0.72365974],\n",
              "       [0.72697715],\n",
              "       [0.71841817],\n",
              "       [0.72173558],\n",
              "       [0.71901528],\n",
              "       [0.70030515],\n",
              "       [0.65744417],\n",
              "       [0.64921706],\n",
              "       [0.65770962],\n",
              "       [0.62082004],\n",
              "       [0.64331208],\n",
              "       [0.67356683],\n",
              "       [0.65319789],\n",
              "       [0.6113322 ],\n",
              "       [0.60582529],\n",
              "       [0.63813693],\n",
              "       [0.61020429],\n",
              "       [0.65260078],\n",
              "       [0.64357742],\n",
              "       [0.67482747],\n",
              "       [0.66567138],\n",
              "       [0.65943464],\n",
              "       [0.67867567],\n",
              "       [0.67423025],\n",
              "       [0.63229825],\n",
              "       [0.6298434 ],\n",
              "       [0.66726378],\n",
              "       [0.67781311],\n",
              "       [0.66374733],\n",
              "       [0.64304663],\n",
              "       [0.67051477],\n",
              "       [0.66228766],\n",
              "       [0.63979563],\n",
              "       [0.66580411],\n",
              "       [0.70946123],\n",
              "       [0.75404722],\n",
              "       [0.74601904],\n",
              "       [0.75955403],\n",
              "       [0.78178071],\n",
              "       [0.79903128],\n",
              "       [0.79942935],\n",
              "       [0.8165471 ],\n",
              "       [0.79730616],\n",
              "       [0.82324833],\n",
              "       [0.83147544],\n",
              "       [0.8182058 ],\n",
              "       [0.81502122],\n",
              "       [0.83041385],\n",
              "       [0.80778929],\n",
              "       [0.83419574],\n",
              "       [0.83684963],\n",
              "       [0.83963634],\n",
              "       [0.79047231],\n",
              "       [0.77687091],\n",
              "       [0.77468141],\n",
              "       [0.77255832],\n",
              "       [0.74555456],\n",
              "       [0.73679665],\n",
              "       [0.75842612],\n",
              "       [0.77653925],\n",
              "       [0.74150731],\n",
              "       [0.73520426],\n",
              "       [0.68723454],\n",
              "       [0.71397286],\n",
              "       [0.7479431 ],\n",
              "       [0.72823768],\n",
              "       [0.71430462],\n",
              "       [0.71456997],\n",
              "       [0.73686296],\n",
              "       [0.72817136],\n",
              "       [0.7653927 ],\n",
              "       [0.77162945],\n",
              "       [0.77010347],\n",
              "       [0.75563951],\n",
              "       [0.75809436],\n",
              "       [0.74296698],\n",
              "       [0.74230356],\n",
              "       [0.73175422],\n",
              "       [0.76545901],\n",
              "       [0.78549619],\n",
              "       [0.77726908],\n",
              "       [0.78403653],\n",
              "       [0.80825357],\n",
              "       [0.81256637],\n",
              "       [0.82583601],\n",
              "       [0.81568454],\n",
              "       [0.80918255],\n",
              "       [0.83253704],\n",
              "       [0.82278384],\n",
              "       [0.84401535],\n",
              "       [0.86312366],\n",
              "       [0.86153116],\n",
              "       [0.87095269],\n",
              "       [0.85987246],\n",
              "       [0.88442137],\n",
              "       [0.90220263],\n",
              "       [0.89888522],\n",
              "       [0.90352968],\n",
              "       [0.94367025],\n",
              "       [0.94373666],\n",
              "       [0.95879763],\n",
              "       [0.94214437],\n",
              "       [0.9455944 ],\n",
              "       [0.94148085],\n",
              "       [0.96576431],\n",
              "       [0.97591558],\n",
              "       [0.96609597],\n",
              "       [0.96423823],\n",
              "       [0.93942407],\n",
              "       [0.95475049],\n",
              "       [0.96855082],\n",
              "       [1.        ]])"
            ]
          },
          "metadata": {
            "tags": []
          },
          "execution_count": 119
        }
      ]
    },
    {
      "cell_type": "code",
      "metadata": {
        "colab": {
          "base_uri": "https://localhost:8080/"
        },
        "id": "ryDBUAM-9WEv",
        "outputId": "7b836777-31c7-485b-835e-8922973e37be"
      },
      "source": [
        "#Create the training data set\n",
        "#Create the scaled training data set\n",
        "train_data = scaled_data[0:training_data_len , :]\n",
        "#Split the data into x_train and y_train data sets\n",
        "x_train = []\n",
        "y_train = []\n",
        "\n",
        "for i in range(60, len(train_data)):\n",
        "  x_train.append(train_data[i-60:i, 0])\n",
        "  y_train.append(train_data[i,0])\n",
        "  if i <= 60:\n",
        "    print (x_train)\n",
        "    print (y_train)\n",
        "    print ()"
      ],
      "execution_count": 120,
      "outputs": [
        {
          "output_type": "stream",
          "text": [
            "[array([0.16719741, 0.15392778, 0.15664808, 0.14702761, 0.16368097,\n",
            "       0.17695061, 0.17197449, 0.18484606, 0.17721605, 0.18418253,\n",
            "       0.20402068, 0.21019111, 0.20621018, 0.20090231, 0.20766985,\n",
            "       0.1965233 , 0.17821124, 0.19931001, 0.21642776, 0.24787683,\n",
            "       0.23095803, 0.25849259, 0.29657638, 0.29511671, 0.31986466,\n",
            "       0.32158968, 0.35350314, 0.32523885, 0.32703028, 0.32039546,\n",
            "       0.33127656, 0.34374995, 0.34408171, 0.32510612, 0.28642512,\n",
            "       0.23533703, 0.21662689, 0.23055995, 0.15100844, 0.17641981,\n",
            "       0.24794315, 0.19300685, 0.23308122, 0.2046842 , 0.17350057,\n",
            "       0.10084923, 0.16918788, 0.1208201 , 0.02415074, 0.15532113,\n",
            "       0.        , 0.07397829, 0.03304137, 0.04836789, 0.01280525,\n",
            "       0.00371548, 0.08572185, 0.07630042, 0.13727442, 0.0947452 ])]\n",
            "[0.16460983841498944]\n",
            "\n"
          ],
          "name": "stdout"
        }
      ]
    },
    {
      "cell_type": "code",
      "metadata": {
        "colab": {
          "base_uri": "https://localhost:8080/"
        },
        "id": "dmJfr5Rh-me3",
        "outputId": "db93913b-2223-4483-ca24-e0392b10a9a5"
      },
      "source": [
        "#Convert the x_train and y_train to numpy arrays\n",
        "x_train, y_train = np.array(x_train), np.array(y_train)\n",
        "\n",
        "#Reshape the data\n",
        "x_train = np.reshape(x_train, (x_train.shape[0], x_train.shape[1], 1))\n",
        "x_train.shape\n"
      ],
      "execution_count": 121,
      "outputs": [
        {
          "output_type": "execute_result",
          "data": {
            "text/plain": [
              "(254, 60, 1)"
            ]
          },
          "metadata": {
            "tags": []
          },
          "execution_count": 121
        }
      ]
    },
    {
      "cell_type": "code",
      "metadata": {
        "id": "asLm_vfh_s7Y"
      },
      "source": [
        "#Build the LSTM model\n",
        "model = Sequential()\n",
        "model.add(LSTM(50, return_sequences=True, input_shape=(x_train.shape[1], 1)))\n",
        "model.add(LSTM(50, return_sequences= False))\n",
        "model.add(Dense(25))\n",
        "model.add(Dense(1))\n",
        "\n"
      ],
      "execution_count": 122,
      "outputs": []
    },
    {
      "cell_type": "code",
      "metadata": {
        "id": "t2HR6Nd_CnK7"
      },
      "source": [
        "#Compile the model\n",
        "model.compile(optimizer = 'adam', loss = 'mean_squared_error')"
      ],
      "execution_count": 123,
      "outputs": []
    },
    {
      "cell_type": "code",
      "metadata": {
        "id": "9oWMWd78DgoF"
      },
      "source": [
        ""
      ],
      "execution_count": null,
      "outputs": []
    },
    {
      "cell_type": "code",
      "metadata": {
        "colab": {
          "base_uri": "https://localhost:8080/"
        },
        "id": "26KDGTykD8p2",
        "outputId": "2ce051a9-ff50-4755-cc2d-f19517872be1"
      },
      "source": [
        "#train the model\n",
        "model.fit(x_train, y_train, batch_size=1, epochs=1)"
      ],
      "execution_count": 124,
      "outputs": [
        {
          "output_type": "stream",
          "text": [
            "254/254 [==============================] - 10s 27ms/step - loss: 0.0219\n"
          ],
          "name": "stdout"
        },
        {
          "output_type": "execute_result",
          "data": {
            "text/plain": [
              "<keras.callbacks.History at 0x7f89642ffd50>"
            ]
          },
          "metadata": {
            "tags": []
          },
          "execution_count": 124
        }
      ]
    },
    {
      "cell_type": "code",
      "metadata": {
        "id": "ftOrs7HgEdBX"
      },
      "source": [
        "#Create the testing data set\n",
        "#Create a new array containing scaled values from index 1543 to 2003\n",
        "test_data = scaled_data[training_data_len - 60: , :]\n",
        "#Create the data sets x_test and y_test\n",
        "x_test = []\n",
        "y_test = dataset[training_data_len:, :]\n",
        "for i in range(60, len(test_data)):\n",
        "  x_test.append(test_data[i-60:i,0])"
      ],
      "execution_count": 125,
      "outputs": []
    },
    {
      "cell_type": "code",
      "metadata": {
        "id": "4gRIhRssFQx2"
      },
      "source": [
        "#Convert the data to a numpy array\n",
        "x_test = np.array(x_test)\n",
        "\n"
      ],
      "execution_count": 126,
      "outputs": []
    },
    {
      "cell_type": "code",
      "metadata": {
        "id": "6GXuXBDkFk0-"
      },
      "source": [
        "#Reshape the data\n",
        "x_test = np.reshape(x_test, (x_test.shape[0], x_test.shape[1],1))\n",
        "\n",
        "#Get the models predicted price values\n",
        "predictions = model.predict(x_test)\n",
        "predictions = scaler.inverse_transform(predictions)\n"
      ],
      "execution_count": 127,
      "outputs": []
    },
    {
      "cell_type": "code",
      "metadata": {
        "colab": {
          "base_uri": "https://localhost:8080/"
        },
        "id": "R_bqn0kwGHWu",
        "outputId": "7154f9ab-6a33-4393-b55d-6d07bfef0629"
      },
      "source": [
        "#Get the root mean squared error (RMSE)\n",
        "rmse = np.sqrt( np.mean(predictions - y_test)**2)\n",
        "rmse"
      ],
      "execution_count": 128,
      "outputs": [
        {
          "output_type": "execute_result",
          "data": {
            "text/plain": [
              "13.465276669233273"
            ]
          },
          "metadata": {
            "tags": []
          },
          "execution_count": 128
        }
      ]
    },
    {
      "cell_type": "code",
      "metadata": {
        "colab": {
          "base_uri": "https://localhost:8080/",
          "height": 578
        },
        "id": "H3fHhAOjGr-y",
        "outputId": "1472d6f0-e2be-4905-8d77-d732089c227b"
      },
      "source": [
        "#Plot the data\n",
        "train = data[:training_data_len]\n",
        "valid = data[training_data_len:]\n",
        "valid['Predictions'] = predictions\n",
        "#Visualise the data\n",
        "plt.figure(figsize=(16,8))\n",
        "plt.title('Model')\n",
        "plt.xlabel('Date',fontsize=18)\n",
        "plt.ylabel('Close Price USD ($)', fontsize=18)\n",
        "plt.plot(train['Close'])\n",
        "plt.plot(valid[['Close','Predictions']])\n",
        "plt.legend(['Train', 'Val', 'Predictions'], loc='lower right')\n",
        "plt.show()\n"
      ],
      "execution_count": 129,
      "outputs": [
        {
          "output_type": "stream",
          "text": [
            "/usr/local/lib/python3.7/dist-packages/ipykernel_launcher.py:4: SettingWithCopyWarning: \n",
            "A value is trying to be set on a copy of a slice from a DataFrame.\n",
            "Try using .loc[row_indexer,col_indexer] = value instead\n",
            "\n",
            "See the caveats in the documentation: https://pandas.pydata.org/pandas-docs/stable/user_guide/indexing.html#returning-a-view-versus-a-copy\n",
            "  after removing the cwd from sys.path.\n"
          ],
          "name": "stderr"
        },
        {
          "output_type": "display_data",
          "data": {
            "image/png": "[encoded data removed]",
            "text/plain": [
              "<Figure size 1600x800 with 1 Axes>"
            ]
          },
          "metadata": {
            "tags": []
          }
        }
      ]
    },
    {
      "cell_type": "code",
      "metadata": {
        "colab": {
          "base_uri": "https://localhost:8080/",
          "height": 450
        },
        "id": "8MziIYyZKV8k",
        "outputId": "f32ad641-7b1f-457f-b504-40e12d4e1aaf"
      },
      "source": [
        "#show the valid and predicted return\n",
        "valid"
      ],
      "execution_count": 130,
      "outputs": [
        {
          "output_type": "execute_result",
          "data": {
            "text/html": [
              "<div>\n",
              "<style scoped>\n",
              "    .dataframe tbody tr th:only-of-type {\n",
              "        vertical-align: middle;\n",
              "    }\n",
              "\n",
              "    .dataframe tbody tr th {\n",
              "        vertical-align: top;\n",
              "    }\n",
              "\n",
              "    .dataframe thead th {\n",
              "        text-align: right;\n",
              "    }\n",
              "</style>\n",
              "<table border=\"1\" class=\"dataframe\">\n",
              "  <thead>\n",
              "    <tr style=\"text-align: right;\">\n",
              "      <th></th>\n",
              "      <th>Close</th>\n",
              "      <th>Predictions</th>\n",
              "    </tr>\n",
              "    <tr>\n",
              "      <th>Date</th>\n",
              "      <th></th>\n",
              "      <th></th>\n",
              "    </tr>\n",
              "  </thead>\n",
              "  <tbody>\n",
              "    <tr>\n",
              "      <th>2021-04-01</th>\n",
              "      <td>242.350006</td>\n",
              "      <td>228.719101</td>\n",
              "    </tr>\n",
              "    <tr>\n",
              "      <th>2021-04-05</th>\n",
              "      <td>249.070007</td>\n",
              "      <td>229.108612</td>\n",
              "    </tr>\n",
              "    <tr>\n",
              "      <th>2021-04-06</th>\n",
              "      <td>247.860001</td>\n",
              "      <td>229.991165</td>\n",
              "    </tr>\n",
              "    <tr>\n",
              "      <th>2021-04-07</th>\n",
              "      <td>249.899994</td>\n",
              "      <td>231.038376</td>\n",
              "    </tr>\n",
              "    <tr>\n",
              "      <th>2021-04-08</th>\n",
              "      <td>253.250000</td>\n",
              "      <td>232.237473</td>\n",
              "    </tr>\n",
              "    <tr>\n",
              "      <th>...</th>\n",
              "      <td>...</td>\n",
              "      <td>...</td>\n",
              "    </tr>\n",
              "    <tr>\n",
              "      <th>2021-07-16</th>\n",
              "      <td>280.750000</td>\n",
              "      <td>263.022552</td>\n",
              "    </tr>\n",
              "    <tr>\n",
              "      <th>2021-07-19</th>\n",
              "      <td>277.010010</td>\n",
              "      <td>263.705658</td>\n",
              "    </tr>\n",
              "    <tr>\n",
              "      <th>2021-07-20</th>\n",
              "      <td>279.320007</td>\n",
              "      <td>264.097504</td>\n",
              "    </tr>\n",
              "    <tr>\n",
              "      <th>2021-07-21</th>\n",
              "      <td>281.399994</td>\n",
              "      <td>264.435486</td>\n",
              "    </tr>\n",
              "    <tr>\n",
              "      <th>2021-07-22</th>\n",
              "      <td>286.140015</td>\n",
              "      <td>264.809509</td>\n",
              "    </tr>\n",
              "  </tbody>\n",
              "</table>\n",
              "<p>78 rows × 2 columns</p>\n",
              "</div>"
            ],
            "text/plain": [
              "                 Close  Predictions\n",
              "Date                               \n",
              "2021-04-01  242.350006   228.719101\n",
              "2021-04-05  249.070007   229.108612\n",
              "2021-04-06  247.860001   229.991165\n",
              "2021-04-07  249.899994   231.038376\n",
              "2021-04-08  253.250000   232.237473\n",
              "...                ...          ...\n",
              "2021-07-16  280.750000   263.022552\n",
              "2021-07-19  277.010010   263.705658\n",
              "2021-07-20  279.320007   264.097504\n",
              "2021-07-21  281.399994   264.435486\n",
              "2021-07-22  286.140015   264.809509\n",
              "\n",
              "[78 rows x 2 columns]"
            ]
          },
          "metadata": {
            "tags": []
          },
          "execution_count": 130
        }
      ]
    },
    {
      "cell_type": "code",
      "metadata": {
        "colab": {
          "base_uri": "https://localhost:8080/"
        },
        "id": "1_Z2x6IdK0eM",
        "outputId": "4d9ebf58-9194-402d-a9af-7e70df545860"
      },
      "source": [
        "#get the quote\n",
        "apple_quote = yf.download('MSFT', start=start_date, end=end_date)\n",
        "#Create a new dataframe\n",
        "new_data = apple_quote.filter(['Close'])\n",
        "#Get the last 60 day closing price values and convert the dataframe to an array\n",
        "last_60_days = new_data[-60:].values\n",
        "last_60_days_scaled = scaler.transform(last_60_days)\n",
        "#Create an empty list\n",
        "X_test = []\n",
        "#Append the past 60 days\n",
        "X_test.append(last_60_days_scaled)\n",
        "#Convert the X_test data set to a numpy array\n",
        "X_test = np.array(X_test)\n",
        "#Reshape the data\n",
        "X_test = np.reshape(X_test, (X_test.shape[0], X_test.shape[1],1))\n",
        "#Get the predicted scaled price\n",
        "pred_price = model.predict(X_test)\n",
        "#undo the scaling\n",
        "pred_price = scaler.inverse_transform(pred_price)\n",
        "print(pred_price)\n"
      ],
      "execution_count": 132,
      "outputs": [
        {
          "output_type": "stream",
          "text": [
            "\r[*********************100%***********************]  1 of 1 completed\n",
            "[[265.40897]]\n"
          ],
          "name": "stdout"
        }
      ]
    }
  ]
}