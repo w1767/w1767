{
  "nbformat": 4,
  "nbformat_minor": 0,
  "metadata": {
    "colab": {
      "name": "Copy of Untitled0.ipynb",
      "provenance": [],
      "authorship_tag": "ABX9TyPy9ThqekyqXOMqPi4gF2+z",
      "include_colab_link": true
    },
    "kernelspec": {
      "name": "python3",
      "display_name": "Python 3"
    },
    "language_info": {
      "name": "python"
    }
  },
  "cells": [
    {
      "cell_type": "markdown",
      "metadata": {
        "id": "view-in-github",
        "colab_type": "text"
      },
      "source": [
        "<a href=\"https://colab.research.google.com/github/w1767/w1767/blob/main/MSFT.ipynb\" target=\"_parent\"><img src=\"https://colab.research.google.com/assets/colab-badge.svg\" alt=\"Open In Colab\"/></a>"
      ]
    },
    {
      "cell_type": "code",
      "metadata": {
        "id": "jF-rA78EBttL"
      },
      "source": [
        "# Description: this program uses an aritificial recurrent neural network called Long Short Term Memory (LSTM) to predict\n",
        "# the closing stock price of a corporation (MSFT Inc.) using the past 60 day stock price. "
      ],
      "execution_count": null,
      "outputs": []
    },
    {
      "cell_type": "code",
      "metadata": {
        "id": "wpTDFiYaHooV"
      },
      "source": [
        ""
      ],
      "execution_count": null,
      "outputs": []
    },
    {
      "cell_type": "code",
      "metadata": {
        "id": "4t9te_ZzCKmA",
        "colab": {
          "base_uri": "https://localhost:8080/"
        },
        "outputId": "63c062d1-5d40-4985-c613-031b68e83255"
      },
      "source": [
        "# Import the libraries\n",
        "!pip install pandas_datareader\n",
        "!pip install yfinance\n",
        "!pip install mplfinance\n",
        "import os\n",
        "import argparse\n",
        "import signal\n",
        "import yfinance as yf\n",
        "import pickle\n",
        "import mplfinance as mpf\n",
        "import math\n",
        "import pandas_datareader.data as web\n",
        "from datetime import datetime, timedelta\n",
        "import numpy as np\n",
        "import pandas as pd\n",
        "from sklearn.preprocessing import MinMaxScaler\n",
        "from keras.models import Sequential\n",
        "from keras.layers import Dense, LSTM\n",
        "#from yfinance import stock_info\n",
        "from dateutil.parser import parse\n",
        "from urllib.request import urlopen, Request\n",
        "from bs4 import BeautifulSoup\n",
        "import matplotlib.pyplot as plt\n",
        "plt.style.use('fivethirtyeight')\n",
        "start_date = datetime(2020, 1,1)\n",
        "end_date = datetime(2021, 8, 2)\n"
      ],
      "execution_count": null,
      "outputs": [
        {
          "output_type": "stream",
          "text": [
            "Requirement already satisfied: pandas_datareader in /usr/local/lib/python3.7/dist-packages (0.9.0)\n",
            "Requirement already satisfied: lxml in /usr/local/lib/python3.7/dist-packages (from pandas_datareader) (4.6.3)\n",
            "Requirement already satisfied: pandas>=0.23 in /usr/local/lib/python3.7/dist-packages (from pandas_datareader) (1.1.5)\n",
            "Requirement already satisfied: requests>=2.19.0 in /usr/local/lib/python3.7/dist-packages (from pandas_datareader) (2.23.0)\n",
            "Requirement already satisfied: numpy>=1.15.4 in /usr/local/lib/python3.7/dist-packages (from pandas>=0.23->pandas_datareader) (1.19.5)\n",
            "Requirement already satisfied: pytz>=2017.2 in /usr/local/lib/python3.7/dist-packages (from pandas>=0.23->pandas_datareader) (2018.9)\n",
            "Requirement already satisfied: python-dateutil>=2.7.3 in /usr/local/lib/python3.7/dist-packages (from pandas>=0.23->pandas_datareader) (2.8.1)\n",
            "Requirement already satisfied: six>=1.5 in /usr/local/lib/python3.7/dist-packages (from python-dateutil>=2.7.3->pandas>=0.23->pandas_datareader) (1.15.0)\n",
            "Requirement already satisfied: urllib3!=1.25.0,!=1.25.1,<1.26,>=1.21.1 in /usr/local/lib/python3.7/dist-packages (from requests>=2.19.0->pandas_datareader) (1.24.3)\n",
            "Requirement already satisfied: chardet<4,>=3.0.2 in /usr/local/lib/python3.7/dist-packages (from requests>=2.19.0->pandas_datareader) (3.0.4)\n",
            "Requirement already satisfied: idna<3,>=2.5 in /usr/local/lib/python3.7/dist-packages (from requests>=2.19.0->pandas_datareader) (2.10)\n",
            "Requirement already satisfied: certifi>=2017.4.17 in /usr/local/lib/python3.7/dist-packages (from requests>=2.19.0->pandas_datareader) (2021.5.30)\n",
            "Requirement already satisfied: yfinance in /usr/local/lib/python3.7/dist-packages (0.1.63)\n",
            "Requirement already satisfied: numpy>=1.15 in /usr/local/lib/python3.7/dist-packages (from yfinance) (1.19.5)\n",
            "Requirement already satisfied: requests>=2.20 in /usr/local/lib/python3.7/dist-packages (from yfinance) (2.23.0)\n",
            "Requirement already satisfied: lxml>=4.5.1 in /usr/local/lib/python3.7/dist-packages (from yfinance) (4.6.3)\n",
            "Requirement already satisfied: multitasking>=0.0.7 in /usr/local/lib/python3.7/dist-packages (from yfinance) (0.0.9)\n",
            "Requirement already satisfied: pandas>=0.24 in /usr/local/lib/python3.7/dist-packages (from yfinance) (1.1.5)\n",
            "Requirement already satisfied: pytz>=2017.2 in /usr/local/lib/python3.7/dist-packages (from pandas>=0.24->yfinance) (2018.9)\n",
            "Requirement already satisfied: python-dateutil>=2.7.3 in /usr/local/lib/python3.7/dist-packages (from pandas>=0.24->yfinance) (2.8.1)\n",
            "Requirement already satisfied: six>=1.5 in /usr/local/lib/python3.7/dist-packages (from python-dateutil>=2.7.3->pandas>=0.24->yfinance) (1.15.0)\n",
            "Requirement already satisfied: urllib3!=1.25.0,!=1.25.1,<1.26,>=1.21.1 in /usr/local/lib/python3.7/dist-packages (from requests>=2.20->yfinance) (1.24.3)\n",
            "Requirement already satisfied: chardet<4,>=3.0.2 in /usr/local/lib/python3.7/dist-packages (from requests>=2.20->yfinance) (3.0.4)\n",
            "Requirement already satisfied: idna<3,>=2.5 in /usr/local/lib/python3.7/dist-packages (from requests>=2.20->yfinance) (2.10)\n",
            "Requirement already satisfied: certifi>=2017.4.17 in /usr/local/lib/python3.7/dist-packages (from requests>=2.20->yfinance) (2021.5.30)\n",
            "Requirement already satisfied: mplfinance in /usr/local/lib/python3.7/dist-packages (0.12.7a17)\n",
            "Requirement already satisfied: pandas in /usr/local/lib/python3.7/dist-packages (from mplfinance) (1.1.5)\n",
            "Requirement already satisfied: matplotlib in /usr/local/lib/python3.7/dist-packages (from mplfinance) (3.2.2)\n",
            "Requirement already satisfied: pyparsing!=2.0.4,!=2.1.2,!=2.1.6,>=2.0.1 in /usr/local/lib/python3.7/dist-packages (from matplotlib->mplfinance) (2.4.7)\n",
            "Requirement already satisfied: python-dateutil>=2.1 in /usr/local/lib/python3.7/dist-packages (from matplotlib->mplfinance) (2.8.1)\n",
            "Requirement already satisfied: cycler>=0.10 in /usr/local/lib/python3.7/dist-packages (from matplotlib->mplfinance) (0.10.0)\n",
            "Requirement already satisfied: numpy>=1.11 in /usr/local/lib/python3.7/dist-packages (from matplotlib->mplfinance) (1.19.5)\n",
            "Requirement already satisfied: kiwisolver>=1.0.1 in /usr/local/lib/python3.7/dist-packages (from matplotlib->mplfinance) (1.3.1)\n",
            "Requirement already satisfied: six in /usr/local/lib/python3.7/dist-packages (from cycler>=0.10->matplotlib->mplfinance) (1.15.0)\n",
            "Requirement already satisfied: pytz>=2017.2 in /usr/local/lib/python3.7/dist-packages (from pandas->mplfinance) (2018.9)\n"
          ],
          "name": "stdout"
        }
      ]
    },
    {
      "cell_type": "code",
      "metadata": {
        "colab": {
          "base_uri": "https://localhost:8080/",
          "height": 467
        },
        "id": "Tkat1PpYDTgp",
        "outputId": "f9853cff-16f0-4261-a44f-73f3eec9cdc5"
      },
      "source": [
        "#Get the stock quote\n",
        "data = yf.download('MSFT', start=start_date, end=end_date)\n",
        "#df = web.DataReader('MSFT', data_source='yahoo',start='2012-01',end='2019-12-17')\n",
        "#show the data\n",
        "data.head(391)"
      ],
      "execution_count": null,
      "outputs": [
        {
          "output_type": "stream",
          "text": [
            "\r[*********************100%***********************]  1 of 1 completed\n"
          ],
          "name": "stdout"
        },
        {
          "output_type": "execute_result",
          "data": {
            "text/html": [
              "<div>\n",
              "<style scoped>\n",
              "    .dataframe tbody tr th:only-of-type {\n",
              "        vertical-align: middle;\n",
              "    }\n",
              "\n",
              "    .dataframe tbody tr th {\n",
              "        vertical-align: top;\n",
              "    }\n",
              "\n",
              "    .dataframe thead th {\n",
              "        text-align: right;\n",
              "    }\n",
              "</style>\n",
              "<table border=\"1\" class=\"dataframe\">\n",
              "  <thead>\n",
              "    <tr style=\"text-align: right;\">\n",
              "      <th></th>\n",
              "      <th>Open</th>\n",
              "      <th>High</th>\n",
              "      <th>Low</th>\n",
              "      <th>Close</th>\n",
              "      <th>Adj Close</th>\n",
              "      <th>Volume</th>\n",
              "    </tr>\n",
              "    <tr>\n",
              "      <th>Date</th>\n",
              "      <th></th>\n",
              "      <th></th>\n",
              "      <th></th>\n",
              "      <th></th>\n",
              "      <th></th>\n",
              "      <th></th>\n",
              "    </tr>\n",
              "  </thead>\n",
              "  <tbody>\n",
              "    <tr>\n",
              "      <th>2020-01-02</th>\n",
              "      <td>158.779999</td>\n",
              "      <td>160.729996</td>\n",
              "      <td>158.330002</td>\n",
              "      <td>160.619995</td>\n",
              "      <td>158.205765</td>\n",
              "      <td>22622100</td>\n",
              "    </tr>\n",
              "    <tr>\n",
              "      <th>2020-01-03</th>\n",
              "      <td>158.320007</td>\n",
              "      <td>159.949997</td>\n",
              "      <td>158.059998</td>\n",
              "      <td>158.619995</td>\n",
              "      <td>156.235825</td>\n",
              "      <td>21116200</td>\n",
              "    </tr>\n",
              "    <tr>\n",
              "      <th>2020-01-06</th>\n",
              "      <td>157.080002</td>\n",
              "      <td>159.100006</td>\n",
              "      <td>156.509995</td>\n",
              "      <td>159.029999</td>\n",
              "      <td>156.639694</td>\n",
              "      <td>20813700</td>\n",
              "    </tr>\n",
              "    <tr>\n",
              "      <th>2020-01-07</th>\n",
              "      <td>159.320007</td>\n",
              "      <td>159.669998</td>\n",
              "      <td>157.320007</td>\n",
              "      <td>157.580002</td>\n",
              "      <td>155.211456</td>\n",
              "      <td>21634100</td>\n",
              "    </tr>\n",
              "    <tr>\n",
              "      <th>2020-01-08</th>\n",
              "      <td>158.929993</td>\n",
              "      <td>160.800003</td>\n",
              "      <td>157.949997</td>\n",
              "      <td>160.089996</td>\n",
              "      <td>157.683731</td>\n",
              "      <td>27746500</td>\n",
              "    </tr>\n",
              "    <tr>\n",
              "      <th>...</th>\n",
              "      <td>...</td>\n",
              "      <td>...</td>\n",
              "      <td>...</td>\n",
              "      <td>...</td>\n",
              "      <td>...</td>\n",
              "      <td>...</td>\n",
              "    </tr>\n",
              "    <tr>\n",
              "      <th>2021-07-15</th>\n",
              "      <td>282.000000</td>\n",
              "      <td>282.510010</td>\n",
              "      <td>279.829987</td>\n",
              "      <td>281.029999</td>\n",
              "      <td>281.029999</td>\n",
              "      <td>22604200</td>\n",
              "    </tr>\n",
              "    <tr>\n",
              "      <th>2021-07-16</th>\n",
              "      <td>282.070007</td>\n",
              "      <td>284.100006</td>\n",
              "      <td>279.459991</td>\n",
              "      <td>280.750000</td>\n",
              "      <td>280.750000</td>\n",
              "      <td>26176100</td>\n",
              "    </tr>\n",
              "    <tr>\n",
              "      <th>2021-07-19</th>\n",
              "      <td>278.929993</td>\n",
              "      <td>280.369995</td>\n",
              "      <td>274.450012</td>\n",
              "      <td>277.010010</td>\n",
              "      <td>277.010010</td>\n",
              "      <td>32935600</td>\n",
              "    </tr>\n",
              "    <tr>\n",
              "      <th>2021-07-20</th>\n",
              "      <td>278.029999</td>\n",
              "      <td>280.970001</td>\n",
              "      <td>276.260010</td>\n",
              "      <td>279.320007</td>\n",
              "      <td>279.320007</td>\n",
              "      <td>26259700</td>\n",
              "    </tr>\n",
              "    <tr>\n",
              "      <th>2021-07-21</th>\n",
              "      <td>278.899994</td>\n",
              "      <td>281.519989</td>\n",
              "      <td>277.290009</td>\n",
              "      <td>281.399994</td>\n",
              "      <td>281.399994</td>\n",
              "      <td>24364300</td>\n",
              "    </tr>\n",
              "  </tbody>\n",
              "</table>\n",
              "<p>391 rows × 6 columns</p>\n",
              "</div>"
            ],
            "text/plain": [
              "                  Open        High  ...   Adj Close    Volume\n",
              "Date                                ...                      \n",
              "2020-01-02  158.779999  160.729996  ...  158.205765  22622100\n",
              "2020-01-03  158.320007  159.949997  ...  156.235825  21116200\n",
              "2020-01-06  157.080002  159.100006  ...  156.639694  20813700\n",
              "2020-01-07  159.320007  159.669998  ...  155.211456  21634100\n",
              "2020-01-08  158.929993  160.800003  ...  157.683731  27746500\n",
              "...                ...         ...  ...         ...       ...\n",
              "2021-07-15  282.000000  282.510010  ...  281.029999  22604200\n",
              "2021-07-16  282.070007  284.100006  ...  280.750000  26176100\n",
              "2021-07-19  278.929993  280.369995  ...  277.010010  32935600\n",
              "2021-07-20  278.029999  280.970001  ...  279.320007  26259700\n",
              "2021-07-21  278.899994  281.519989  ...  281.399994  24364300\n",
              "\n",
              "[391 rows x 6 columns]"
            ]
          },
          "metadata": {
            "tags": []
          },
          "execution_count": 67
        }
      ]
    },
    {
      "cell_type": "code",
      "metadata": {
        "id": "iINONBjJCmEs"
      },
      "source": [
        ""
      ],
      "execution_count": null,
      "outputs": []
    },
    {
      "cell_type": "code",
      "metadata": {
        "colab": {
          "base_uri": "https://localhost:8080/"
        },
        "id": "-1NflEs4D4Bv",
        "outputId": "9179be05-f5f6-4529-c546-2d11e3f140a2"
      },
      "source": [
        "#Get the number of rows and columns in the data set\n",
        "data.shape\n",
        "\n"
      ],
      "execution_count": null,
      "outputs": [
        {
          "output_type": "execute_result",
          "data": {
            "text/plain": [
              "(398, 6)"
            ]
          },
          "metadata": {
            "tags": []
          },
          "execution_count": 68
        }
      ]
    },
    {
      "cell_type": "code",
      "metadata": {
        "colab": {
          "base_uri": "https://localhost:8080/",
          "height": 523
        },
        "id": "nASYYE3wEFyH",
        "outputId": "e37edcae-e17f-49f8-e440-27645278851b"
      },
      "source": [
        "mpf.plot(data, type='candle', mav= (3,6,9), volume=True, show_nontrading=True)\n",
        "#Visualize the closing price history\n",
        "#plt.figure(figsize=(16,8))\n",
        "#plt.title('Close Price History')\n",
        "#plt.plot(df['Close'])\n",
        "#plt.xlabel('Date',fontsize=18)\n",
        "#plt.ylabel('Close Price USD($)',fontsize=18)\n",
        "#plt.show()"
      ],
      "execution_count": null,
      "outputs": [
        {
          "output_type": "display_data",
          "data": {
            "image/png": "[encoded data removed]",
            "text/plain": [
              "<Figure size 800x575 with 4 Axes>"
            ]
          },
          "metadata": {
            "tags": []
          }
        }
      ]
    },
    {
      "cell_type": "code",
      "metadata": {
        "id": "5u3vU4T5HqUi"
      },
      "source": [
        ""
      ],
      "execution_count": null,
      "outputs": []
    },
    {
      "cell_type": "code",
      "metadata": {
        "colab": {
          "base_uri": "https://localhost:8080/"
        },
        "id": "LhjmcNHG7Tbm",
        "outputId": "d6e85a53-f083-4800-9eec-cd63b4ec0ea9"
      },
      "source": [
        "#Create a new dataframe with only the 'Close column'\n",
        "data = data.filter(['Close'])\n",
        "#Convert the dataframe to a numpy array\n",
        "dataset = data.values\n",
        "#Get the number of rows to train the model on \n",
        "training_data_len = math.ceil(len(dataset) * .8)\n",
        "\n",
        "training_data_len"
      ],
      "execution_count": null,
      "outputs": [
        {
          "output_type": "execute_result",
          "data": {
            "text/plain": [
              "319"
            ]
          },
          "metadata": {
            "tags": []
          },
          "execution_count": 70
        }
      ]
    },
    {
      "cell_type": "code",
      "metadata": {
        "colab": {
          "base_uri": "https://localhost:8080/"
        },
        "id": "7KFZs2c38gaO",
        "outputId": "c097cb93-0737-49aa-b6fc-5d89788f1e86"
      },
      "source": [
        "#Scale the data\n",
        "scaler = MinMaxScaler(feature_range=(0,1))\n",
        "scaled_data = scaler.fit_transform(dataset)\n",
        "scaled_data\n",
        "\n"
      ],
      "execution_count": null,
      "outputs": [
        {
          "output_type": "execute_result",
          "data": {
            "text/plain": [
              "array([[0.16337111],\n",
              "       [0.15040515],\n",
              "       [0.1530632 ],\n",
              "       [0.14366289],\n",
              "       [0.15993514],\n",
              "       [0.17290111],\n",
              "       [0.16803887],\n",
              "       [0.18061587],\n",
              "       [0.17316048],\n",
              "       [0.17996753],\n",
              "       [0.19935168],\n",
              "       [0.20538091],\n",
              "       [0.20149108],\n",
              "       [0.19630467],\n",
              "       [0.20291734],\n",
              "       [0.19202588],\n",
              "       [0.17413289],\n",
              "       [0.19474882],\n",
              "       [0.21147483],\n",
              "       [0.24220419],\n",
              "       [0.22567257],\n",
              "       [0.252577  ],\n",
              "       [0.28978925],\n",
              "       [0.28836299],\n",
              "       [0.31254458],\n",
              "       [0.31423012],\n",
              "       [0.34541325],\n",
              "       [0.31779578],\n",
              "       [0.31954622],\n",
              "       [0.31306323],\n",
              "       [0.32369532],\n",
              "       [0.33588326],\n",
              "       [0.33620743],\n",
              "       [0.31766609],\n",
              "       [0.2798703 ],\n",
              "       [0.22995136],\n",
              "       [0.21166941],\n",
              "       [0.22528361],\n",
              "       [0.14755262],\n",
              "       [0.17238246],\n",
              "       [0.24226899],\n",
              "       [0.18858991],\n",
              "       [0.22774717],\n",
              "       [0.20000002],\n",
              "       [0.16953003],\n",
              "       [0.0985413 ],\n",
              "       [0.16531603],\n",
              "       [0.11805514],\n",
              "       [0.02359805],\n",
              "       [0.15176662],\n",
              "       [0.        ],\n",
              "       [0.0722853 ],\n",
              "       [0.03228522],\n",
              "       [0.04726099],\n",
              "       [0.01251221],\n",
              "       [0.00363045],\n",
              "       [0.08376011],\n",
              "       [0.07455429],\n",
              "       [0.1341329 ],\n",
              "       [0.09257697],\n",
              "       [0.16084276],\n",
              "       [0.14450571],\n",
              "       [0.10820098],\n",
              "       [0.12862233],\n",
              "       [0.11935171],\n",
              "       [0.19351704],\n",
              "       [0.18197734],\n",
              "       [0.19260942],\n",
              "       [0.19267422],\n",
              "       [0.19507289],\n",
              "       [0.24816853],\n",
              "       [0.23636955],\n",
              "       [0.26982166],\n",
              "       [0.27993519],\n",
              "       [0.25698538],\n",
              "       [0.21004866],\n",
              "       [0.24700164],\n",
              "       [0.23338734],\n",
              "       [0.2536791 ],\n",
              "       [0.25043761],\n",
              "       [0.22294973],\n",
              "       [0.27235002],\n",
              "       [0.28388982],\n",
              "       [0.25380879],\n",
              "       [0.28149105],\n",
              "       [0.29393836],\n",
              "       [0.30547806],\n",
              "       [0.3123501 ],\n",
              "       [0.31935163],\n",
              "       [0.33270666],\n",
              "       [0.30528358],\n",
              "       [0.28739058],\n",
              "       [0.2924473 ],\n",
              "       [0.30949757],\n",
              "       [0.32084279],\n",
              "       [0.31254458],\n",
              "       [0.32570503],\n",
              "       [0.31124791],\n",
              "       [0.31176656],\n",
              "       [0.29918966],\n",
              "       [0.30074551],\n",
              "       [0.29808746],\n",
              "       [0.31008102],\n",
              "       [0.30735818],\n",
              "       [0.32084279],\n",
              "       [0.32376011],\n",
              "       [0.30794162],\n",
              "       [0.33568878],\n",
              "       [0.34320906],\n",
              "       [0.35254457],\n",
              "       [0.39818471],\n",
              "       [0.32965965],\n",
              "       [0.33918964],\n",
              "       [0.3469692 ],\n",
              "       [0.37698544],\n",
              "       [0.38132902],\n",
              "       [0.39481363],\n",
              "       [0.38722846],\n",
              "       [0.42236631],\n",
              "       [0.43105348],\n",
              "       [0.4046677 ],\n",
              "       [0.42087515],\n",
              "       [0.39487843],\n",
              "       [0.40855752],\n",
              "       [0.44142619],\n",
              "       [0.44914095],\n",
              "       [0.45925439],\n",
              "       [0.48803884],\n",
              "       [0.47215556],\n",
              "       [0.50184762],\n",
              "       [0.5115073 ],\n",
              "       [0.5072933 ],\n",
              "       [0.46450569],\n",
              "       [0.47280389],\n",
              "       [0.47079409],\n",
              "       [0.44408423],\n",
              "       [0.43734198],\n",
              "       [0.49387358],\n",
              "       [0.47539705],\n",
              "       [0.49484599],\n",
              "       [0.43513769],\n",
              "       [0.42709885],\n",
              "       [0.44363048],\n",
              "       [0.43176661],\n",
              "       [0.44499185],\n",
              "       [0.44395455],\n",
              "       [0.45115066],\n",
              "       [0.52589943],\n",
              "       [0.50482974],\n",
              "       [0.50256076],\n",
              "       [0.52466775],\n",
              "       [0.49957854],\n",
              "       [0.47215556],\n",
              "       [0.44058347],\n",
              "       [0.47824958],\n",
              "       [0.47507288],\n",
              "       [0.47636946],\n",
              "       [0.485316  ],\n",
              "       [0.49316045],\n",
              "       [0.48155586],\n",
              "       [0.51319284],\n",
              "       [0.50307941],\n",
              "       [0.50742299],\n",
              "       [0.52544567],\n",
              "       [0.55578598],\n",
              "       [0.59098862],\n",
              "       [0.60609398],\n",
              "       [0.58418147],\n",
              "       [0.59546189],\n",
              "       [0.62385728],\n",
              "       [0.53082656],\n",
              "       [0.51105345],\n",
              "       [0.43591571],\n",
              "       [0.49186378],\n",
              "       [0.45348454],\n",
              "       [0.44479737],\n",
              "       [0.45374391],\n",
              "       [0.47559153],\n",
              "       [0.45141004],\n",
              "       [0.43753646],\n",
              "       [0.42119932],\n",
              "       [0.43513769],\n",
              "       [0.46677467],\n",
              "       [0.42249589],\n",
              "       [0.43935169],\n",
              "       [0.46936792],\n",
              "       [0.47987032],\n",
              "       [0.46573737],\n",
              "       [0.48564017],\n",
              "       [0.49944895],\n",
              "       [0.45880063],\n",
              "       [0.48596434],\n",
              "       [0.4569854 ],\n",
              "       [0.48239868],\n",
              "       [0.48726092],\n",
              "       [0.52116688],\n",
              "       [0.55740672],\n",
              "       [0.56687192],\n",
              "       [0.55390596],\n",
              "       [0.5461264 ],\n",
              "       [0.5461264 ],\n",
              "       [0.51085896],\n",
              "       [0.5136466 ],\n",
              "       [0.51461911],\n",
              "       [0.51520255],\n",
              "       [0.52388972],\n",
              "       [0.48401942],\n",
              "       [0.50457046],\n",
              "       [0.4360453 ],\n",
              "       [0.44927064],\n",
              "       [0.43468393],\n",
              "       [0.43377632],\n",
              "       [0.46035648],\n",
              "       [0.52492702],\n",
              "       [0.56965956],\n",
              "       [0.57244729],\n",
              "       [0.53789299],\n",
              "       [0.49004855],\n",
              "       [0.52596432],\n",
              "       [0.51876821],\n",
              "       [0.52570495],\n",
              "       [0.5303727 ],\n",
              "       [0.51241492],\n",
              "       [0.49050241],\n",
              "       [0.49918958],\n",
              "       [0.48602913],\n",
              "       [0.48421391],\n",
              "       [0.50852509],\n",
              "       [0.50858988],\n",
              "       [0.51740674],\n",
              "       [0.50988656],\n",
              "       [0.52376013],\n",
              "       [0.51831435],\n",
              "       [0.51098865],\n",
              "       [0.51176658],\n",
              "       [0.51131272],\n",
              "       [0.52246346],\n",
              "       [0.49517016],\n",
              "       [0.48687195],\n",
              "       [0.50463526],\n",
              "       [0.51072928],\n",
              "       [0.51027552],\n",
              "       [0.54366284],\n",
              "       [0.54457045],\n",
              "       [0.53918956],\n",
              "       [0.56512149],\n",
              "       [0.57387355],\n",
              "       [0.55494326],\n",
              "       [0.56615879],\n",
              "       [0.58048622],\n",
              "       [0.57523492],\n",
              "       [0.55922195],\n",
              "       [0.56401939],\n",
              "       [0.53335492],\n",
              "       [0.53471629],\n",
              "       [0.49808748],\n",
              "       [0.53724465],\n",
              "       [0.54586703],\n",
              "       [0.53205834],\n",
              "       [0.51546183],\n",
              "       [0.52460285],\n",
              "       [0.50307941],\n",
              "       [0.50068064],\n",
              "       [0.52525119],\n",
              "       [0.57646671],\n",
              "       [0.58055102],\n",
              "       [0.58690431],\n",
              "       [0.6101134 ],\n",
              "       [0.62826576],\n",
              "       [0.63196101],\n",
              "       [0.67105338],\n",
              "       [0.62586709],\n",
              "       [0.67572114],\n",
              "       [0.67481352],\n",
              "       [0.69743916],\n",
              "       [0.69102098],\n",
              "       [0.69225276],\n",
              "       [0.69400319],\n",
              "       [0.70243109],\n",
              "       [0.69627228],\n",
              "       [0.70709884],\n",
              "       [0.71034033],\n",
              "       [0.70197723],\n",
              "       [0.70521872],\n",
              "       [0.70256068],\n",
              "       [0.68427872],\n",
              "       [0.64239862],\n",
              "       [0.63435978],\n",
              "       [0.64265799],\n",
              "       [0.60661263],\n",
              "       [0.62858993],\n",
              "       [0.65815231],\n",
              "       [0.63824951],\n",
              "       [0.59734191],\n",
              "       [0.59196103],\n",
              "       [0.62353322],\n",
              "       [0.59623982],\n",
              "       [0.63766607],\n",
              "       [0.62884921],\n",
              "       [0.65938409],\n",
              "       [0.65043755],\n",
              "       [0.64434353],\n",
              "       [0.66314424],\n",
              "       [0.65880055],\n",
              "       [0.61782816],\n",
              "       [0.61542949],\n",
              "       [0.6519935 ],\n",
              "       [0.66230142],\n",
              "       [0.64855753],\n",
              "       [0.62833056],\n",
              "       [0.6551701 ],\n",
              "       [0.64713126],\n",
              "       [0.62515396],\n",
              "       [0.65056724],\n",
              "       [0.69322527],\n",
              "       [0.73679091],\n",
              "       [0.72894646],\n",
              "       [0.7421717 ],\n",
              "       [0.76388973],\n",
              "       [0.78074552],\n",
              "       [0.78113448],\n",
              "       [0.79786049],\n",
              "       [0.77905988],\n",
              "       [0.80440836],\n",
              "       [0.81244719],\n",
              "       [0.79948123],\n",
              "       [0.79636953],\n",
              "       [0.81140989],\n",
              "       [0.7893031 ],\n",
              "       [0.81510524],\n",
              "       [0.81769839],\n",
              "       [0.82042133],\n",
              "       [0.77238242],\n",
              "       [0.75909228],\n",
              "       [0.75695289],\n",
              "       [0.75487839],\n",
              "       [0.7284926 ],\n",
              "       [0.71993512],\n",
              "       [0.7410696 ],\n",
              "       [0.75876821],\n",
              "       [0.72453798],\n",
              "       [0.71837917],\n",
              "       [0.67150724],\n",
              "       [0.69763365],\n",
              "       [0.73082648],\n",
              "       [0.71157202],\n",
              "       [0.69795782],\n",
              "       [0.69821709],\n",
              "       [0.71999991],\n",
              "       [0.71150722],\n",
              "       [0.74787675],\n",
              "       [0.75397077],\n",
              "       [0.75247971],\n",
              "       [0.73834676],\n",
              "       [0.74074543],\n",
              "       [0.72596424],\n",
              "       [0.72531601],\n",
              "       [0.71500809],\n",
              "       [0.74794155],\n",
              "       [0.76752018],\n",
              "       [0.75948135],\n",
              "       [0.76609392],\n",
              "       [0.78975676],\n",
              "       [0.79397085],\n",
              "       [0.80693682],\n",
              "       [0.79701767],\n",
              "       [0.79066447],\n",
              "       [0.81348449],\n",
              "       [0.8039545 ],\n",
              "       [0.82470012],\n",
              "       [0.84337114],\n",
              "       [0.84181509],\n",
              "       [0.85102101],\n",
              "       [0.84019435],\n",
              "       [0.86418146],\n",
              "       [0.8815558 ],\n",
              "       [0.87831431],\n",
              "       [0.88285248],\n",
              "       [0.92207444],\n",
              "       [0.92213933],\n",
              "       [0.93685563],\n",
              "       [0.92058348],\n",
              "       [0.92395456],\n",
              "       [0.91993514],\n",
              "       [0.94366287],\n",
              "       [0.95358183],\n",
              "       [0.94398694],\n",
              "       [0.94217172],\n",
              "       [0.91792543],\n",
              "       [0.9329011 ],\n",
              "       [0.94638562],\n",
              "       [0.97711508],\n",
              "       [1.        ],\n",
              "       [0.99598039],\n",
              "       [0.97970824],\n",
              "       [0.97763363],\n",
              "       [0.97944886],\n",
              "       [0.96914094]])"
            ]
          },
          "metadata": {
            "tags": []
          },
          "execution_count": 71
        }
      ]
    },
    {
      "cell_type": "code",
      "metadata": {
        "colab": {
          "base_uri": "https://localhost:8080/"
        },
        "id": "ryDBUAM-9WEv",
        "outputId": "18dd86d3-a3bf-4ac9-9bd4-b34f911c88fa"
      },
      "source": [
        "#Create the training data set\n",
        "#Create the scaled training data set\n",
        "train_data = scaled_data[0:training_data_len , :]\n",
        "#Split the data into x_train and y_train data sets\n",
        "x_train = []\n",
        "y_train = []\n",
        "\n",
        "for i in range(60, len(train_data)):\n",
        "  x_train.append(train_data[i-60:i, 0])\n",
        "  y_train.append(train_data[i,0])\n",
        "  if i <= 60:\n",
        "    print (x_train)\n",
        "    print (y_train)\n",
        "    print ()"
      ],
      "execution_count": null,
      "outputs": [
        {
          "output_type": "stream",
          "text": [
            "[array([0.16337111, 0.15040515, 0.1530632 , 0.14366289, 0.15993514,\n",
            "       0.17290111, 0.16803887, 0.18061587, 0.17316048, 0.17996753,\n",
            "       0.19935168, 0.20538091, 0.20149108, 0.19630467, 0.20291734,\n",
            "       0.19202588, 0.17413289, 0.19474882, 0.21147483, 0.24220419,\n",
            "       0.22567257, 0.252577  , 0.28978925, 0.28836299, 0.31254458,\n",
            "       0.31423012, 0.34541325, 0.31779578, 0.31954622, 0.31306323,\n",
            "       0.32369532, 0.33588326, 0.33620743, 0.31766609, 0.2798703 ,\n",
            "       0.22995136, 0.21166941, 0.22528361, 0.14755262, 0.17238246,\n",
            "       0.24226899, 0.18858991, 0.22774717, 0.20000002, 0.16953003,\n",
            "       0.0985413 , 0.16531603, 0.11805514, 0.02359805, 0.15176662,\n",
            "       0.        , 0.0722853 , 0.03228522, 0.04726099, 0.01251221,\n",
            "       0.00363045, 0.08376011, 0.07455429, 0.1341329 , 0.09257697])]\n",
            "[0.16084275594378006]\n",
            "\n"
          ],
          "name": "stdout"
        }
      ]
    },
    {
      "cell_type": "code",
      "metadata": {
        "colab": {
          "base_uri": "https://localhost:8080/"
        },
        "id": "dmJfr5Rh-me3",
        "outputId": "a140b668-fe6c-4e19-f4d2-30e07ab68b5e"
      },
      "source": [
        "#Convert the x_train and y_train to numpy arrays\n",
        "x_train, y_train = np.array(x_train), np.array(y_train)\n",
        "\n",
        "#Reshape the data\n",
        "x_train = np.reshape(x_train, (x_train.shape[0], x_train.shape[1], 1))\n",
        "x_train.shape\n"
      ],
      "execution_count": null,
      "outputs": [
        {
          "output_type": "execute_result",
          "data": {
            "text/plain": [
              "(259, 60, 1)"
            ]
          },
          "metadata": {
            "tags": []
          },
          "execution_count": 73
        }
      ]
    },
    {
      "cell_type": "code",
      "metadata": {
        "id": "asLm_vfh_s7Y"
      },
      "source": [
        "#Build the LSTM model\n",
        "model = Sequential()\n",
        "model.add(LSTM(50, return_sequences=True, input_shape=(x_train.shape[1], 1)))\n",
        "model.add(LSTM(50, return_sequences= False))\n",
        "model.add(Dense(25))\n",
        "model.add(Dense(1))\n",
        "\n"
      ],
      "execution_count": null,
      "outputs": []
    },
    {
      "cell_type": "code",
      "metadata": {
        "id": "t2HR6Nd_CnK7"
      },
      "source": [
        "#Compile the model\n",
        "model.compile(optimizer = 'adam', loss = 'mean_squared_error')"
      ],
      "execution_count": null,
      "outputs": []
    },
    {
      "cell_type": "code",
      "metadata": {
        "id": "9oWMWd78DgoF"
      },
      "source": [
        ""
      ],
      "execution_count": null,
      "outputs": []
    },
    {
      "cell_type": "code",
      "metadata": {
        "colab": {
          "base_uri": "https://localhost:8080/"
        },
        "id": "26KDGTykD8p2",
        "outputId": "cf7494a2-00e4-4a31-9933-e9410ec60ae7"
      },
      "source": [
        "#train the model\n",
        "model.fit(x_train, y_train, batch_size=1, epochs=1)"
      ],
      "execution_count": null,
      "outputs": [
        {
          "output_type": "stream",
          "text": [
            "259/259 [==============================] - 11s 30ms/step - loss: 0.0132\n"
          ],
          "name": "stdout"
        },
        {
          "output_type": "execute_result",
          "data": {
            "text/plain": [
              "<keras.callbacks.History at 0x7faf881885d0>"
            ]
          },
          "metadata": {
            "tags": []
          },
          "execution_count": 76
        }
      ]
    },
    {
      "cell_type": "code",
      "metadata": {
        "id": "ftOrs7HgEdBX"
      },
      "source": [
        "#Create the testing data set\n",
        "#Create a new array containing scaled values from index 1543 to 2003\n",
        "test_data = scaled_data[training_data_len - 60: , :]\n",
        "#Create the data sets x_test and y_test\n",
        "x_test = []\n",
        "y_test = dataset[training_data_len:, :]\n",
        "for i in range(60, len(test_data)):\n",
        "  x_test.append(test_data[i-60:i,0])"
      ],
      "execution_count": null,
      "outputs": []
    },
    {
      "cell_type": "code",
      "metadata": {
        "id": "4gRIhRssFQx2"
      },
      "source": [
        "#Convert the data to a numpy array\n",
        "x_test = np.array(x_test)\n",
        "\n"
      ],
      "execution_count": null,
      "outputs": []
    },
    {
      "cell_type": "code",
      "metadata": {
        "id": "6GXuXBDkFk0-"
      },
      "source": [
        "#Reshape the data\n",
        "x_test = np.reshape(x_test, (x_test.shape[0], x_test.shape[1],1))\n",
        "\n",
        "#Get the models predicted price values\n",
        "predictions = model.predict(x_test)\n",
        "predictions = scaler.inverse_transform(predictions)\n"
      ],
      "execution_count": null,
      "outputs": []
    },
    {
      "cell_type": "code",
      "metadata": {
        "colab": {
          "base_uri": "https://localhost:8080/"
        },
        "id": "R_bqn0kwGHWu",
        "outputId": "d7f24937-2f80-4d1f-d704-9bbd0fc4ab68"
      },
      "source": [
        "#Get the root mean squared error (RMSE)\n",
        "rmse = np.sqrt( np.mean(predictions - y_test)**2)\n",
        "rmse"
      ],
      "execution_count": null,
      "outputs": [
        {
          "output_type": "execute_result",
          "data": {
            "text/plain": [
              "1.6197386150118671"
            ]
          },
          "metadata": {
            "tags": []
          },
          "execution_count": 80
        }
      ]
    },
    {
      "cell_type": "code",
      "metadata": {
        "colab": {
          "base_uri": "https://localhost:8080/",
          "height": 827
        },
        "id": "H3fHhAOjGr-y",
        "outputId": "ab7e4c73-43fa-4184-a0ff-f4f804b7ae8f"
      },
      "source": [
        "#Plot the data\n",
        "train = data[:training_data_len]\n",
        "valid = data[training_data_len:]\n",
        "valid['Predictions'] = predictions\n",
        "#Visualise the data\n",
        "plt.figure(figsize=(16,8))\n",
        "plt.title('Model')\n",
        "plt.xlabel('Date',fontsize=18)\n",
        "plt.ylabel('Close Price USD ($)', fontsize=18)\n",
        "plt.plot(train['Close'])\n",
        "plt.plot(valid[['Close','Predictions']])\n",
        "plt.legend(['Train', 'Val', 'Predictions'], loc='lower right')\n",
        "plt.show()\n"
      ],
      "execution_count": null,
      "outputs": [
        {
          "output_type": "stream",
          "text": [
            "/usr/local/lib/python3.7/dist-packages/ipykernel_launcher.py:4: SettingWithCopyWarning: \n",
            "A value is trying to be set on a copy of a slice from a DataFrame.\n",
            "Try using .loc[row_indexer,col_indexer] = value instead\n",
            "\n",
            "See the caveats in the documentation: https://pandas.pydata.org/pandas-docs/stable/user_guide/indexing.html#returning-a-view-versus-a-copy\n",
            "  after removing the cwd from sys.path.\n"
          ],
          "name": "stderr"
        },
        {
          "output_type": "display_data",
          "data": {
            "image/png": "[encoded data removed]",
            "text/plain": [
              "<Figure size 1600x800 with 1 Axes>"
            ]
          },
          "metadata": {
            "tags": []
          }
        }
      ]
    },
    {
      "cell_type": "code",
      "metadata": {
        "colab": {
          "base_uri": "https://localhost:8080/",
          "height": 450
        },
        "id": "8MziIYyZKV8k",
        "outputId": "0e21179d-8733-45d9-df47-69d029fc0884"
      },
      "source": [
        "#show the valid and predicted return\n",
        "valid"
      ],
      "execution_count": null,
      "outputs": [
        {
          "output_type": "execute_result",
          "data": {
            "text/html": [
              "<div>\n",
              "<style scoped>\n",
              "    .dataframe tbody tr th:only-of-type {\n",
              "        vertical-align: middle;\n",
              "    }\n",
              "\n",
              "    .dataframe tbody tr th {\n",
              "        vertical-align: top;\n",
              "    }\n",
              "\n",
              "    .dataframe thead th {\n",
              "        text-align: right;\n",
              "    }\n",
              "</style>\n",
              "<table border=\"1\" class=\"dataframe\">\n",
              "  <thead>\n",
              "    <tr style=\"text-align: right;\">\n",
              "      <th></th>\n",
              "      <th>Close</th>\n",
              "      <th>Predictions</th>\n",
              "    </tr>\n",
              "    <tr>\n",
              "      <th>Date</th>\n",
              "      <th></th>\n",
              "      <th></th>\n",
              "    </tr>\n",
              "  </thead>\n",
              "  <tbody>\n",
              "    <tr>\n",
              "      <th>2021-04-09</th>\n",
              "      <td>255.850006</td>\n",
              "      <td>246.956680</td>\n",
              "    </tr>\n",
              "    <tr>\n",
              "      <th>2021-04-12</th>\n",
              "      <td>255.910004</td>\n",
              "      <td>248.563095</td>\n",
              "    </tr>\n",
              "    <tr>\n",
              "      <th>2021-04-13</th>\n",
              "      <td>258.489990</td>\n",
              "      <td>250.213455</td>\n",
              "    </tr>\n",
              "    <tr>\n",
              "      <th>2021-04-14</th>\n",
              "      <td>255.589996</td>\n",
              "      <td>251.921021</td>\n",
              "    </tr>\n",
              "    <tr>\n",
              "      <th>2021-04-15</th>\n",
              "      <td>259.500000</td>\n",
              "      <td>253.471497</td>\n",
              "    </tr>\n",
              "    <tr>\n",
              "      <th>...</th>\n",
              "      <td>...</td>\n",
              "      <td>...</td>\n",
              "    </tr>\n",
              "    <tr>\n",
              "      <th>2021-07-26</th>\n",
              "      <td>289.049988</td>\n",
              "      <td>282.942139</td>\n",
              "    </tr>\n",
              "    <tr>\n",
              "      <th>2021-07-27</th>\n",
              "      <td>286.540009</td>\n",
              "      <td>283.834290</td>\n",
              "    </tr>\n",
              "    <tr>\n",
              "      <th>2021-07-28</th>\n",
              "      <td>286.220001</td>\n",
              "      <td>284.640808</td>\n",
              "    </tr>\n",
              "    <tr>\n",
              "      <th>2021-07-29</th>\n",
              "      <td>286.500000</td>\n",
              "      <td>285.340088</td>\n",
              "    </tr>\n",
              "    <tr>\n",
              "      <th>2021-07-30</th>\n",
              "      <td>284.910004</td>\n",
              "      <td>285.948914</td>\n",
              "    </tr>\n",
              "  </tbody>\n",
              "</table>\n",
              "<p>79 rows × 2 columns</p>\n",
              "</div>"
            ],
            "text/plain": [
              "                 Close  Predictions\n",
              "Date                               \n",
              "2021-04-09  255.850006   246.956680\n",
              "2021-04-12  255.910004   248.563095\n",
              "2021-04-13  258.489990   250.213455\n",
              "2021-04-14  255.589996   251.921021\n",
              "2021-04-15  259.500000   253.471497\n",
              "...                ...          ...\n",
              "2021-07-26  289.049988   282.942139\n",
              "2021-07-27  286.540009   283.834290\n",
              "2021-07-28  286.220001   284.640808\n",
              "2021-07-29  286.500000   285.340088\n",
              "2021-07-30  284.910004   285.948914\n",
              "\n",
              "[79 rows x 2 columns]"
            ]
          },
          "metadata": {
            "tags": []
          },
          "execution_count": 82
        }
      ]
    },
    {
      "cell_type": "code",
      "metadata": {
        "colab": {
          "base_uri": "https://localhost:8080/"
        },
        "id": "1_Z2x6IdK0eM",
        "outputId": "c6914c61-9a16-4413-dcb8-6e0210913c11"
      },
      "source": [
        "#get the quote\n",
        "apple_quote = yf.download('MSFT', start=start_date, end=end_date)\n",
        "#Create a new dataframe\n",
        "new_data = apple_quote.filter(['Close'])\n",
        "#Get the last 60 day closing price values and convert the dataframe to an array\n",
        "last_60_days = new_data[-60:].values\n",
        "last_60_days_scaled = scaler.transform(last_60_days)\n",
        "#Create an empty list\n",
        "X_test = []\n",
        "#Append the past 60 days\n",
        "X_test.append(last_60_days_scaled)\n",
        "#Convert the X_test data set to a numpy array\n",
        "X_test = np.array(X_test)\n",
        "#Reshape the data\n",
        "X_test = np.reshape(X_test, (X_test.shape[0], X_test.shape[1],1))\n",
        "#Get the predicted scaled price\n",
        "pred_price = model.predict(X_test)\n",
        "#undo the scaling\n",
        "pred_price = scaler.inverse_transform(pred_price)\n",
        "print(pred_price)\n"
      ],
      "execution_count": null,
      "outputs": [
        {
          "output_type": "stream",
          "text": [
            "\r[*********************100%***********************]  1 of 1 completed\n",
            "[[286.41107]]\n"
          ],
          "name": "stdout"
        }
      ]
    }
  ]
}