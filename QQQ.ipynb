{
  "nbformat": 4,
  "nbformat_minor": 0,
  "metadata": {
    "colab": {
      "name": "Untitled0.ipynb",
      "provenance": [],
      "authorship_tag": "ABX9TyNdBuAx6F1f39nvezD7vTY7",
      "include_colab_link": true
    },
    "kernelspec": {
      "name": "python3",
      "display_name": "Python 3"
    },
    "language_info": {
      "name": "python"
    }
  },
  "cells": [
    {
      "cell_type": "markdown",
      "metadata": {
        "id": "view-in-github",
        "colab_type": "text"
      },
      "source": [
        "<a href=\"https://colab.research.google.com/github/w1767/w1767/blob/main/QQQ.ipynb\" target=\"_parent\"><img src=\"https://colab.research.google.com/assets/colab-badge.svg\" alt=\"Open In Colab\"/></a>"
      ]
    },
    {
      "cell_type": "code",
      "metadata": {
        "id": "jF-rA78EBttL"
      },
      "source": [
        "# Description: this program uses an aritificial recurrent neural network called Long Short Term Memory (LSTM) to predict\n",
        "# the closing stock price of a corporation (QQQ) using the past 60 day stock price. "
      ],
      "execution_count": 164,
      "outputs": []
    },
    {
      "cell_type": "code",
      "metadata": {
        "id": "wpTDFiYaHooV"
      },
      "source": [
        ""
      ],
      "execution_count": 164,
      "outputs": []
    },
    {
      "cell_type": "code",
      "metadata": {
        "id": "4t9te_ZzCKmA",
        "colab": {
          "base_uri": "https://localhost:8080/"
        },
        "outputId": "ad52ea7c-be1f-4c0a-df05-e58cdea4a88d"
      },
      "source": [
        "# Import the libraries\n",
        "!pip install pandas_datareader\n",
        "!pip install yfinance\n",
        "!pip install mplfinance\n",
        "import os\n",
        "import argparse\n",
        "import signal\n",
        "import yfinance as yf\n",
        "import pickle\n",
        "import mplfinance as mpf\n",
        "import math\n",
        "import pandas_datareader.data as web\n",
        "from datetime import datetime, timedelta\n",
        "import numpy as np\n",
        "import pandas as pd\n",
        "from sklearn.preprocessing import MinMaxScaler\n",
        "from keras.models import Sequential\n",
        "from keras.layers import Dense, LSTM\n",
        "#from yfinance import stock_info\n",
        "from dateutil.parser import parse\n",
        "from urllib.request import urlopen, Request\n",
        "from bs4 import BeautifulSoup\n",
        "import matplotlib.pyplot as plt\n",
        "plt.style.use('fivethirtyeight')\n",
        "start_date = datetime(2020, 1,1)\n",
        "end_date = datetime(2021, 8, 2)\n"
      ],
      "execution_count": 165,
      "outputs": [
        {
          "output_type": "stream",
          "text": [
            "Requirement already satisfied: pandas_datareader in /usr/local/lib/python3.7/dist-packages (0.9.0)\n",
            "Requirement already satisfied: pandas>=0.23 in /usr/local/lib/python3.7/dist-packages (from pandas_datareader) (1.1.5)\n",
            "Requirement already satisfied: requests>=2.19.0 in /usr/local/lib/python3.7/dist-packages (from pandas_datareader) (2.23.0)\n",
            "Requirement already satisfied: lxml in /usr/local/lib/python3.7/dist-packages (from pandas_datareader) (4.6.3)\n",
            "Requirement already satisfied: numpy>=1.15.4 in /usr/local/lib/python3.7/dist-packages (from pandas>=0.23->pandas_datareader) (1.19.5)\n",
            "Requirement already satisfied: pytz>=2017.2 in /usr/local/lib/python3.7/dist-packages (from pandas>=0.23->pandas_datareader) (2018.9)\n",
            "Requirement already satisfied: python-dateutil>=2.7.3 in /usr/local/lib/python3.7/dist-packages (from pandas>=0.23->pandas_datareader) (2.8.1)\n",
            "Requirement already satisfied: six>=1.5 in /usr/local/lib/python3.7/dist-packages (from python-dateutil>=2.7.3->pandas>=0.23->pandas_datareader) (1.15.0)\n",
            "Requirement already satisfied: urllib3!=1.25.0,!=1.25.1,<1.26,>=1.21.1 in /usr/local/lib/python3.7/dist-packages (from requests>=2.19.0->pandas_datareader) (1.24.3)\n",
            "Requirement already satisfied: certifi>=2017.4.17 in /usr/local/lib/python3.7/dist-packages (from requests>=2.19.0->pandas_datareader) (2021.5.30)\n",
            "Requirement already satisfied: idna<3,>=2.5 in /usr/local/lib/python3.7/dist-packages (from requests>=2.19.0->pandas_datareader) (2.10)\n",
            "Requirement already satisfied: chardet<4,>=3.0.2 in /usr/local/lib/python3.7/dist-packages (from requests>=2.19.0->pandas_datareader) (3.0.4)\n",
            "Requirement already satisfied: yfinance in /usr/local/lib/python3.7/dist-packages (0.1.63)\n",
            "Requirement already satisfied: multitasking>=0.0.7 in /usr/local/lib/python3.7/dist-packages (from yfinance) (0.0.9)\n",
            "Requirement already satisfied: requests>=2.20 in /usr/local/lib/python3.7/dist-packages (from yfinance) (2.23.0)\n",
            "Requirement already satisfied: pandas>=0.24 in /usr/local/lib/python3.7/dist-packages (from yfinance) (1.1.5)\n",
            "Requirement already satisfied: numpy>=1.15 in /usr/local/lib/python3.7/dist-packages (from yfinance) (1.19.5)\n",
            "Requirement already satisfied: lxml>=4.5.1 in /usr/local/lib/python3.7/dist-packages (from yfinance) (4.6.3)\n",
            "Requirement already satisfied: pytz>=2017.2 in /usr/local/lib/python3.7/dist-packages (from pandas>=0.24->yfinance) (2018.9)\n",
            "Requirement already satisfied: python-dateutil>=2.7.3 in /usr/local/lib/python3.7/dist-packages (from pandas>=0.24->yfinance) (2.8.1)\n",
            "Requirement already satisfied: six>=1.5 in /usr/local/lib/python3.7/dist-packages (from python-dateutil>=2.7.3->pandas>=0.24->yfinance) (1.15.0)\n",
            "Requirement already satisfied: certifi>=2017.4.17 in /usr/local/lib/python3.7/dist-packages (from requests>=2.20->yfinance) (2021.5.30)\n",
            "Requirement already satisfied: idna<3,>=2.5 in /usr/local/lib/python3.7/dist-packages (from requests>=2.20->yfinance) (2.10)\n",
            "Requirement already satisfied: chardet<4,>=3.0.2 in /usr/local/lib/python3.7/dist-packages (from requests>=2.20->yfinance) (3.0.4)\n",
            "Requirement already satisfied: urllib3!=1.25.0,!=1.25.1,<1.26,>=1.21.1 in /usr/local/lib/python3.7/dist-packages (from requests>=2.20->yfinance) (1.24.3)\n",
            "Requirement already satisfied: mplfinance in /usr/local/lib/python3.7/dist-packages (0.12.7a17)\n",
            "Requirement already satisfied: matplotlib in /usr/local/lib/python3.7/dist-packages (from mplfinance) (3.2.2)\n",
            "Requirement already satisfied: pandas in /usr/local/lib/python3.7/dist-packages (from mplfinance) (1.1.5)\n",
            "Requirement already satisfied: python-dateutil>=2.1 in /usr/local/lib/python3.7/dist-packages (from matplotlib->mplfinance) (2.8.1)\n",
            "Requirement already satisfied: pyparsing!=2.0.4,!=2.1.2,!=2.1.6,>=2.0.1 in /usr/local/lib/python3.7/dist-packages (from matplotlib->mplfinance) (2.4.7)\n",
            "Requirement already satisfied: cycler>=0.10 in /usr/local/lib/python3.7/dist-packages (from matplotlib->mplfinance) (0.10.0)\n",
            "Requirement already satisfied: numpy>=1.11 in /usr/local/lib/python3.7/dist-packages (from matplotlib->mplfinance) (1.19.5)\n",
            "Requirement already satisfied: kiwisolver>=1.0.1 in /usr/local/lib/python3.7/dist-packages (from matplotlib->mplfinance) (1.3.1)\n",
            "Requirement already satisfied: six in /usr/local/lib/python3.7/dist-packages (from cycler>=0.10->matplotlib->mplfinance) (1.15.0)\n",
            "Requirement already satisfied: pytz>=2017.2 in /usr/local/lib/python3.7/dist-packages (from pandas->mplfinance) (2018.9)\n"
          ],
          "name": "stdout"
        }
      ]
    },
    {
      "cell_type": "code",
      "metadata": {
        "colab": {
          "base_uri": "https://localhost:8080/",
          "height": 467
        },
        "id": "Tkat1PpYDTgp",
        "outputId": "4a7efec0-a181-4d90-928b-3749da344491"
      },
      "source": [
        "#Get the stock quote\n",
        "data = yf.download('QQQ', start=start_date, end=end_date)\n",
        "#df = web.DataReader('QQQ', data_source='yahoo',start='2012-01',end='2019-12-17')\n",
        "#show the data\n",
        "data.head(391)"
      ],
      "execution_count": 166,
      "outputs": [
        {
          "output_type": "stream",
          "text": [
            "\r[*********************100%***********************]  1 of 1 completed\n"
          ],
          "name": "stdout"
        },
        {
          "output_type": "execute_result",
          "data": {
            "text/html": [
              "<div>\n",
              "<style scoped>\n",
              "    .dataframe tbody tr th:only-of-type {\n",
              "        vertical-align: middle;\n",
              "    }\n",
              "\n",
              "    .dataframe tbody tr th {\n",
              "        vertical-align: top;\n",
              "    }\n",
              "\n",
              "    .dataframe thead th {\n",
              "        text-align: right;\n",
              "    }\n",
              "</style>\n",
              "<table border=\"1\" class=\"dataframe\">\n",
              "  <thead>\n",
              "    <tr style=\"text-align: right;\">\n",
              "      <th></th>\n",
              "      <th>Open</th>\n",
              "      <th>High</th>\n",
              "      <th>Low</th>\n",
              "      <th>Close</th>\n",
              "      <th>Adj Close</th>\n",
              "      <th>Volume</th>\n",
              "    </tr>\n",
              "    <tr>\n",
              "      <th>Date</th>\n",
              "      <th></th>\n",
              "      <th></th>\n",
              "      <th></th>\n",
              "      <th></th>\n",
              "      <th></th>\n",
              "      <th></th>\n",
              "    </tr>\n",
              "  </thead>\n",
              "  <tbody>\n",
              "    <tr>\n",
              "      <th>2020-01-02</th>\n",
              "      <td>214.399994</td>\n",
              "      <td>216.160004</td>\n",
              "      <td>213.979996</td>\n",
              "      <td>216.160004</td>\n",
              "      <td>214.416458</td>\n",
              "      <td>30969400</td>\n",
              "    </tr>\n",
              "    <tr>\n",
              "      <th>2020-01-03</th>\n",
              "      <td>213.300003</td>\n",
              "      <td>215.470001</td>\n",
              "      <td>213.279999</td>\n",
              "      <td>214.179993</td>\n",
              "      <td>212.452408</td>\n",
              "      <td>27518900</td>\n",
              "    </tr>\n",
              "    <tr>\n",
              "      <th>2020-01-06</th>\n",
              "      <td>212.500000</td>\n",
              "      <td>215.589996</td>\n",
              "      <td>212.240005</td>\n",
              "      <td>215.559998</td>\n",
              "      <td>213.821289</td>\n",
              "      <td>21655300</td>\n",
              "    </tr>\n",
              "    <tr>\n",
              "      <th>2020-01-07</th>\n",
              "      <td>215.639999</td>\n",
              "      <td>216.139999</td>\n",
              "      <td>214.850006</td>\n",
              "      <td>215.529999</td>\n",
              "      <td>213.791519</td>\n",
              "      <td>22139300</td>\n",
              "    </tr>\n",
              "    <tr>\n",
              "      <th>2020-01-08</th>\n",
              "      <td>215.500000</td>\n",
              "      <td>218.139999</td>\n",
              "      <td>215.160004</td>\n",
              "      <td>217.149994</td>\n",
              "      <td>215.398438</td>\n",
              "      <td>26397300</td>\n",
              "    </tr>\n",
              "    <tr>\n",
              "      <th>...</th>\n",
              "      <td>...</td>\n",
              "      <td>...</td>\n",
              "      <td>...</td>\n",
              "      <td>...</td>\n",
              "      <td>...</td>\n",
              "      <td>...</td>\n",
              "    </tr>\n",
              "    <tr>\n",
              "      <th>2021-07-15</th>\n",
              "      <td>362.980011</td>\n",
              "      <td>363.190002</td>\n",
              "      <td>358.459991</td>\n",
              "      <td>360.519989</td>\n",
              "      <td>360.519989</td>\n",
              "      <td>53391600</td>\n",
              "    </tr>\n",
              "    <tr>\n",
              "      <th>2021-07-16</th>\n",
              "      <td>361.399994</td>\n",
              "      <td>362.410004</td>\n",
              "      <td>357.239990</td>\n",
              "      <td>357.600006</td>\n",
              "      <td>357.600006</td>\n",
              "      <td>47262000</td>\n",
              "    </tr>\n",
              "    <tr>\n",
              "      <th>2021-07-19</th>\n",
              "      <td>354.049988</td>\n",
              "      <td>355.179993</td>\n",
              "      <td>352.040009</td>\n",
              "      <td>354.670013</td>\n",
              "      <td>354.670013</td>\n",
              "      <td>64404600</td>\n",
              "    </tr>\n",
              "    <tr>\n",
              "      <th>2021-07-20</th>\n",
              "      <td>355.630005</td>\n",
              "      <td>360.279999</td>\n",
              "      <td>353.799988</td>\n",
              "      <td>358.790009</td>\n",
              "      <td>358.790009</td>\n",
              "      <td>42183700</td>\n",
              "    </tr>\n",
              "    <tr>\n",
              "      <th>2021-07-21</th>\n",
              "      <td>358.350006</td>\n",
              "      <td>361.559998</td>\n",
              "      <td>358.119995</td>\n",
              "      <td>361.559998</td>\n",
              "      <td>361.559998</td>\n",
              "      <td>30259900</td>\n",
              "    </tr>\n",
              "  </tbody>\n",
              "</table>\n",
              "<p>391 rows × 6 columns</p>\n",
              "</div>"
            ],
            "text/plain": [
              "                  Open        High  ...   Adj Close    Volume\n",
              "Date                                ...                      \n",
              "2020-01-02  214.399994  216.160004  ...  214.416458  30969400\n",
              "2020-01-03  213.300003  215.470001  ...  212.452408  27518900\n",
              "2020-01-06  212.500000  215.589996  ...  213.821289  21655300\n",
              "2020-01-07  215.639999  216.139999  ...  213.791519  22139300\n",
              "2020-01-08  215.500000  218.139999  ...  215.398438  26397300\n",
              "...                ...         ...  ...         ...       ...\n",
              "2021-07-15  362.980011  363.190002  ...  360.519989  53391600\n",
              "2021-07-16  361.399994  362.410004  ...  357.600006  47262000\n",
              "2021-07-19  354.049988  355.179993  ...  354.670013  64404600\n",
              "2021-07-20  355.630005  360.279999  ...  358.790009  42183700\n",
              "2021-07-21  358.350006  361.559998  ...  361.559998  30259900\n",
              "\n",
              "[391 rows x 6 columns]"
            ]
          },
          "metadata": {
            "tags": []
          },
          "execution_count": 166
        }
      ]
    },
    {
      "cell_type": "code",
      "metadata": {
        "id": "iINONBjJCmEs"
      },
      "source": [
        ""
      ],
      "execution_count": 166,
      "outputs": []
    },
    {
      "cell_type": "code",
      "metadata": {
        "colab": {
          "base_uri": "https://localhost:8080/"
        },
        "id": "-1NflEs4D4Bv",
        "outputId": "4cdef6c5-0883-4af3-e941-66cac143a148"
      },
      "source": [
        "#Get the number of rows and columns in the data set\n",
        "data.shape\n",
        "\n"
      ],
      "execution_count": 167,
      "outputs": [
        {
          "output_type": "execute_result",
          "data": {
            "text/plain": [
              "(398, 6)"
            ]
          },
          "metadata": {
            "tags": []
          },
          "execution_count": 167
        }
      ]
    },
    {
      "cell_type": "code",
      "metadata": {
        "colab": {
          "base_uri": "https://localhost:8080/",
          "height": 523
        },
        "id": "nASYYE3wEFyH",
        "outputId": "6241e920-4ff1-4a9b-bf27-fdeae31d3097"
      },
      "source": [
        "mpf.plot(data, type='candle', mav= (3,6,9), volume=True, show_nontrading=True)\n",
        "#Visualize the closing price history\n",
        "#plt.figure(figsize=(16,8))\n",
        "#plt.title('Close Price History')\n",
        "#plt.plot(df['Close'])\n",
        "#plt.xlabel('Date',fontsize=18)\n",
        "#plt.ylabel('Close Price USD($)',fontsize=18)\n",
        "#plt.show()"
      ],
      "execution_count": 168,
      "outputs": [
        {
          "output_type": "display_data",
          "data": {
            "image/png": "[encoded data removed]",
            "text/plain": [
              "<Figure size 800x575 with 4 Axes>"
            ]
          },
          "metadata": {
            "tags": []
          }
        }
      ]
    },
    {
      "cell_type": "code",
      "metadata": {
        "id": "5u3vU4T5HqUi"
      },
      "source": [
        ""
      ],
      "execution_count": null,
      "outputs": []
    },
    {
      "cell_type": "code",
      "metadata": {
        "colab": {
          "base_uri": "https://localhost:8080/"
        },
        "id": "LhjmcNHG7Tbm",
        "outputId": "2aa8214a-9389-44aa-b109-4b105c0615cd"
      },
      "source": [
        "#Create a new dataframe with only the 'Close column'\n",
        "data = data.filter(['Close'])\n",
        "#Convert the dataframe to a numpy array\n",
        "dataset = data.values\n",
        "#Get the number of rows to train the model on \n",
        "training_data_len = math.ceil(len(dataset) * .8)\n",
        "\n",
        "training_data_len"
      ],
      "execution_count": 169,
      "outputs": [
        {
          "output_type": "execute_result",
          "data": {
            "text/plain": [
              "319"
            ]
          },
          "metadata": {
            "tags": []
          },
          "execution_count": 169
        }
      ]
    },
    {
      "cell_type": "code",
      "metadata": {
        "colab": {
          "base_uri": "https://localhost:8080/"
        },
        "id": "7KFZs2c38gaO",
        "outputId": "8ec04000-40a3-4882-ab14-87581cb25a68"
      },
      "source": [
        "#Scale the data\n",
        "scaler = MinMaxScaler(feature_range=(0,1))\n",
        "scaled_data = scaler.fit_transform(dataset)\n",
        "scaled_data\n",
        "\n"
      ],
      "execution_count": 170,
      "outputs": [
        {
          "output_type": "execute_result",
          "data": {
            "text/plain": [
              "array([[0.23525279],\n",
              "       [0.22531248],\n",
              "       [0.23224056],\n",
              "       [0.23208996],\n",
              "       [0.24022287],\n",
              "       [0.24946034],\n",
              "       [0.24664889],\n",
              "       [0.25930015],\n",
              "       [0.25493249],\n",
              "       [0.2553843 ],\n",
              "       [0.2659772 ],\n",
              "       [0.2714996 ],\n",
              "       [0.27099754],\n",
              "       [0.27395951],\n",
              "       [0.27757416],\n",
              "       [0.26808573],\n",
              "       [0.24499225],\n",
              "       [0.26181032],\n",
              "       [0.26361764],\n",
              "       [0.26758375],\n",
              "       [0.24986198],\n",
              "       [0.26647927],\n",
              "       [0.29203274],\n",
              "       [0.29579799],\n",
              "       [0.30568805],\n",
              "       [0.3007179 ],\n",
              "       [0.31462424],\n",
              "       [0.31482502],\n",
              "       [0.32617102],\n",
              "       [0.3246649 ],\n",
              "       [0.32802852],\n",
              "       [0.32848033],\n",
              "       [0.33977608],\n",
              "       [0.32873136],\n",
              "       [0.30608969],\n",
              "       [0.26150911],\n",
              "       [0.23128669],\n",
              "       [0.23685926],\n",
              "       [0.18243887],\n",
              "       [0.18324214],\n",
              "       [0.23655805],\n",
              "       [0.20171693],\n",
              "       [0.24559466],\n",
              "       [0.21230983],\n",
              "       [0.19438729],\n",
              "       [0.1218435 ],\n",
              "       [0.17475777],\n",
              "       [0.13012701],\n",
              "       [0.04026309],\n",
              "       [0.11566843],\n",
              "       [0.        ],\n",
              "       [0.06446105],\n",
              "       [0.03664844],\n",
              "       [0.04196998],\n",
              "       [0.00702844],\n",
              "       [0.0058236 ],\n",
              "       [0.07209198],\n",
              "       [0.06526432],\n",
              "       [0.11345947],\n",
              "       [0.08032532],\n",
              "       [0.11416232],\n",
              "       [0.10592897],\n",
              "       [0.0653145 ],\n",
              "       [0.08388972],\n",
              "       [0.07063604],\n",
              "       [0.13645261],\n",
              "       [0.13605097],\n",
              "       [0.15698582],\n",
              "       [0.15844169],\n",
              "       [0.1693358 ],\n",
              "       [0.21366535],\n",
              "       [0.2014659 ],\n",
              "       [0.22064361],\n",
              "       [0.23088505],\n",
              "       [0.21808326],\n",
              "       [0.17867362],\n",
              "       [0.20919725],\n",
              "       [0.20693812],\n",
              "       [0.22360558],\n",
              "       [0.23224056],\n",
              "       [0.21185802],\n",
              "       [0.24951052],\n",
              "       [0.24905871],\n",
              "       [0.21808326],\n",
              "       [0.23053367],\n",
              "       [0.24278329],\n",
              "       [0.24951052],\n",
              "       [0.26366789],\n",
              "       [0.27892967],\n",
              "       [0.28902051],\n",
              "       [0.26517393],\n",
              "       [0.25121741],\n",
              "       [0.26371807],\n",
              "       [0.27094736],\n",
              "       [0.29183189],\n",
              "       [0.28897034],\n",
              "       [0.31171244],\n",
              "       [0.29906118],\n",
              "       [0.30302728],\n",
              "       [0.29991462],\n",
              "       [0.30619004],\n",
              "       [0.304684  ],\n",
              "       [0.3216025 ],\n",
              "       [0.32511672],\n",
              "       [0.33299868],\n",
              "       [0.33832022],\n",
              "       [0.32998644],\n",
              "       [0.35338121],\n",
              "       [0.36271904],\n",
              "       [0.37150462],\n",
              "       [0.38616398],\n",
              "       [0.32491594],\n",
              "       [0.33425376],\n",
              "       [0.34866209],\n",
              "       [0.36924548],\n",
              "       [0.37311108],\n",
              "       [0.37642452],\n",
              "       [0.37622374],\n",
              "       [0.38877457],\n",
              "       [0.39931723],\n",
              "       [0.37356297],\n",
              "       [0.3852101 ],\n",
              "       [0.35604198],\n",
              "       [0.36919523],\n",
              "       [0.39309206],\n",
              "       [0.40760082],\n",
              "       [0.41613537],\n",
              "       [0.4472615 ],\n",
              "       [0.43832516],\n",
              "       [0.45529391],\n",
              "       [0.46628845],\n",
              "       [0.47527488],\n",
              "       [0.44801451],\n",
              "       [0.45720166],\n",
              "       [0.45986243],\n",
              "       [0.45092624],\n",
              "       [0.45243243],\n",
              "       [0.48938201],\n",
              "       [0.47542549],\n",
              "       [0.48009436],\n",
              "       [0.44535374],\n",
              "       [0.43305387],\n",
              "       [0.45594657],\n",
              "       [0.43932928],\n",
              "       [0.45418943],\n",
              "       [0.46101716],\n",
              "       [0.48441193],\n",
              "       [0.5024349 ],\n",
              "       [0.50745524],\n",
              "       [0.51081877],\n",
              "       [0.5288419 ],\n",
              "       [0.51292738],\n",
              "       [0.50710378],\n",
              "       [0.4813997 ],\n",
              "       [0.51488523],\n",
              "       [0.51799796],\n",
              "       [0.51639142],\n",
              "       [0.53225569],\n",
              "       [0.54555954],\n",
              "       [0.53617154],\n",
              "       [0.55539935],\n",
              "       [0.56513881],\n",
              "       [0.57397464],\n",
              "       [0.58516989],\n",
              "       [0.61579395],\n",
              "       [0.61122543],\n",
              "       [0.61865557],\n",
              "       [0.63045339],\n",
              "       [0.65575591],\n",
              "       [0.67001363],\n",
              "       [0.59295149],\n",
              "       [0.57372353],\n",
              "       [0.50529653],\n",
              "       [0.54510773],\n",
              "       [0.51729504],\n",
              "       [0.5078067 ],\n",
              "       [0.53145242],\n",
              "       [0.55103169],\n",
              "       [0.52869114],\n",
              "       [0.50715403],\n",
              "       [0.48983382],\n",
              "       [0.49304691],\n",
              "       [0.51799796],\n",
              "       [0.47622876],\n",
              "       [0.48240382],\n",
              "       [0.51337919],\n",
              "       [0.54169394],\n",
              "       [0.53541853],\n",
              "       [0.54490687],\n",
              "       [0.56704656],\n",
              "       [0.52718511],\n",
              "       [0.55655408],\n",
              "       [0.53145242],\n",
              "       [0.55534925],\n",
              "       [0.5628295 ],\n",
              "       [0.58441687],\n",
              "       [0.62869624],\n",
              "       [0.62864599],\n",
              "       [0.61629601],\n",
              "       [0.6064562 ],\n",
              "       [0.59847389],\n",
              "       [0.57482801],\n",
              "       [0.5778905 ],\n",
              "       [0.57678602],\n",
              "       [0.57673576],\n",
              "       [0.57954714],\n",
              "       [0.55811037],\n",
              "       [0.56910491],\n",
              "       [0.5137809 ],\n",
              "       [0.53762748],\n",
              "       [0.5024349 ],\n",
              "       [0.50544713],\n",
              "       [0.528892  ],\n",
              "       [0.59044133],\n",
              "       [0.62799347],\n",
              "       [0.6290978 ],\n",
              "       [0.59887545],\n",
              "       [0.57292042],\n",
              "       [0.60474931],\n",
              "       [0.59792157],\n",
              "       [0.61062301],\n",
              "       [0.62201926],\n",
              "       [0.61735024],\n",
              "       [0.6065063 ],\n",
              "       [0.61790255],\n",
              "       [0.60786189],\n",
              "       [0.60791214],\n",
              "       [0.62839503],\n",
              "       [0.63748182],\n",
              "       [0.65118738],\n",
              "       [0.65424971],\n",
              "       [0.67352777],\n",
              "       [0.67548578],\n",
              "       [0.67764448],\n",
              "       [0.68386965],\n",
              "       [0.69255488],\n",
              "       [0.69777607],\n",
              "       [0.66273409],\n",
              "       [0.66880865],\n",
              "       [0.66544511],\n",
              "       [0.67643965],\n",
              "       [0.69275573],\n",
              "       [0.70124011],\n",
              "       [0.71138112],\n",
              "       [0.706662  ],\n",
              "       [0.7009389 ],\n",
              "       [0.70515596],\n",
              "       [0.69732425],\n",
              "       [0.70415183],\n",
              "       [0.71981525],\n",
              "       [0.72122093],\n",
              "       [0.72127119],\n",
              "       [0.72513679],\n",
              "       [0.70289675],\n",
              "       [0.71569854],\n",
              "       [0.69401082],\n",
              "       [0.7313621 ],\n",
              "       [0.75169439],\n",
              "       [0.72855073],\n",
              "       [0.72604056],\n",
              "       [0.73668364],\n",
              "       [0.72819927],\n",
              "       [0.71569854],\n",
              "       [0.73854114],\n",
              "       [0.77549072],\n",
              "       [0.78849336],\n",
              "       [0.78377439],\n",
              "       [0.79727894],\n",
              "       [0.79968876],\n",
              "       [0.75370249],\n",
              "       [0.76319099],\n",
              "       [0.7292535 ],\n",
              "       [0.76871339],\n",
              "       [0.79512024],\n",
              "       [0.78859386],\n",
              "       [0.80797228],\n",
              "       [0.81359502],\n",
              "       [0.82474017],\n",
              "       [0.82438886],\n",
              "       [0.82057336],\n",
              "       [0.8297605 ],\n",
              "       [0.83914865],\n",
              "       [0.83458013],\n",
              "       [0.82649732],\n",
              "       [0.81916767],\n",
              "       [0.81188813],\n",
              "       [0.76881374],\n",
              "       [0.76399427],\n",
              "       [0.77729812],\n",
              "       [0.72056827],\n",
              "       [0.72714504],\n",
              "       [0.77458709],\n",
              "       [0.74853155],\n",
              "       [0.70214373],\n",
              "       [0.67674086],\n",
              "       [0.69973392],\n",
              "       [0.65585626],\n",
              "       [0.71524672],\n",
              "       [0.71077871],\n",
              "       [0.74672431],\n",
              "       [0.73377176],\n",
              "       [0.75069026],\n",
              "       [0.75947584],\n",
              "       [0.76610272],\n",
              "       [0.71660231],\n",
              "       [0.72212471],\n",
              "       [0.74958578],\n",
              "       [0.7426076 ],\n",
              "       [0.71574879],\n",
              "       [0.71303777],\n",
              "       [0.73648279],\n",
              "       [0.73603098],\n",
              "       [0.72804867],\n",
              "       [0.75219645],\n",
              "       [0.77950707],\n",
              "       [0.81203873],\n",
              "       [0.81088415],\n",
              "       [0.81490036],\n",
              "       [0.83227067],\n",
              "       [0.84246194],\n",
              "       [0.84025313],\n",
              "       [0.859983  ],\n",
              "       [0.83944986],\n",
              "       [0.86505343],\n",
              "       [0.86706169],\n",
              "       [0.85134802],\n",
              "       [0.8389478 ],\n",
              "       [0.85340638],\n",
              "       [0.83287324],\n",
              "       [0.85405905],\n",
              "       [0.86515394],\n",
              "       [0.85772379],\n",
              "       [0.85195044],\n",
              "       [0.85807525],\n",
              "       [0.84687985],\n",
              "       [0.83784332],\n",
              "       [0.80747036],\n",
              "       [0.80189772],\n",
              "       [0.8143482 ],\n",
              "       [0.8278529 ],\n",
              "       [0.78548128],\n",
              "       [0.78322207],\n",
              "       [0.74095096],\n",
              "       [0.75325068],\n",
              "       [0.78864412],\n",
              "       [0.7787038 ],\n",
              "       [0.76770926],\n",
              "       [0.76956676],\n",
              "       [0.80089359],\n",
              "       [0.7917567 ],\n",
              "       [0.81936853],\n",
              "       [0.82167784],\n",
              "       [0.82750144],\n",
              "       [0.82122603],\n",
              "       [0.82649732],\n",
              "       [0.82092482],\n",
              "       [0.82418801],\n",
              "       [0.80676744],\n",
              "       [0.83488134],\n",
              "       [0.83990167],\n",
              "       [0.84070494],\n",
              "       [0.8411065 ],\n",
              "       [0.85872792],\n",
              "       [0.86319593],\n",
              "       [0.87961252],\n",
              "       [0.86831677],\n",
              "       [0.86204136],\n",
              "       [0.88377933],\n",
              "       [0.87017427],\n",
              "       [0.87885935],\n",
              "       [0.89497473],\n",
              "       [0.8958281 ],\n",
              "       [0.90662193],\n",
              "       [0.90446308],\n",
              "       [0.92579949],\n",
              "       [0.93222551],\n",
              "       [0.92941413],\n",
              "       [0.93011706],\n",
              "       [0.95054985],\n",
              "       [0.9583313 ],\n",
              "       [0.9621468 ],\n",
              "       [0.95120236],\n",
              "       [0.96244801],\n",
              "       [0.9695267 ],\n",
              "       [0.9695267 ],\n",
              "       [0.97278988],\n",
              "       [0.95998794],\n",
              "       [0.94532866],\n",
              "       [0.93061912],\n",
              "       [0.95130287],\n",
              "       [0.96520913],\n",
              "       [0.9772078 ],\n",
              "       [0.99854421],\n",
              "       [1.        ],\n",
              "       [0.97961746],\n",
              "       [0.9866459 ],\n",
              "       [0.98990924],\n",
              "       [0.98032038]])"
            ]
          },
          "metadata": {
            "tags": []
          },
          "execution_count": 170
        }
      ]
    },
    {
      "cell_type": "code",
      "metadata": {
        "colab": {
          "base_uri": "https://localhost:8080/"
        },
        "id": "ryDBUAM-9WEv",
        "outputId": "faaa3814-f4a7-436e-dff9-fc2d69d8f6b4"
      },
      "source": [
        "#Create the training data set\n",
        "#Create the scaled training data set\n",
        "train_data = scaled_data[0:training_data_len , :]\n",
        "#Split the data into x_train and y_train data sets\n",
        "x_train = []\n",
        "y_train = []\n",
        "\n",
        "for i in range(60, len(train_data)):\n",
        "  x_train.append(train_data[i-60:i, 0])\n",
        "  y_train.append(train_data[i,0])\n",
        "  if i <= 60:\n",
        "    print (x_train)\n",
        "    print (y_train)\n",
        "    print ()"
      ],
      "execution_count": 171,
      "outputs": [
        {
          "output_type": "stream",
          "text": [
            "[array([0.23525279, 0.22531248, 0.23224056, 0.23208996, 0.24022287,\n",
            "       0.24946034, 0.24664889, 0.25930015, 0.25493249, 0.2553843 ,\n",
            "       0.2659772 , 0.2714996 , 0.27099754, 0.27395951, 0.27757416,\n",
            "       0.26808573, 0.24499225, 0.26181032, 0.26361764, 0.26758375,\n",
            "       0.24986198, 0.26647927, 0.29203274, 0.29579799, 0.30568805,\n",
            "       0.3007179 , 0.31462424, 0.31482502, 0.32617102, 0.3246649 ,\n",
            "       0.32802852, 0.32848033, 0.33977608, 0.32873136, 0.30608969,\n",
            "       0.26150911, 0.23128669, 0.23685926, 0.18243887, 0.18324214,\n",
            "       0.23655805, 0.20171693, 0.24559466, 0.21230983, 0.19438729,\n",
            "       0.1218435 , 0.17475777, 0.13012701, 0.04026309, 0.11566843,\n",
            "       0.        , 0.06446105, 0.03664844, 0.04196998, 0.00702844,\n",
            "       0.0058236 , 0.07209198, 0.06526432, 0.11345947, 0.08032532])]\n",
            "[0.11416231586744874]\n",
            "\n"
          ],
          "name": "stdout"
        }
      ]
    },
    {
      "cell_type": "code",
      "metadata": {
        "colab": {
          "base_uri": "https://localhost:8080/"
        },
        "id": "dmJfr5Rh-me3",
        "outputId": "8687d467-7a31-4e8d-b240-d3fd1b187b8a"
      },
      "source": [
        "#Convert the x_train and y_train to numpy arrays\n",
        "x_train, y_train = np.array(x_train), np.array(y_train)\n",
        "\n",
        "#Reshape the data\n",
        "x_train = np.reshape(x_train, (x_train.shape[0], x_train.shape[1], 1))\n",
        "x_train.shape\n"
      ],
      "execution_count": 172,
      "outputs": [
        {
          "output_type": "execute_result",
          "data": {
            "text/plain": [
              "(259, 60, 1)"
            ]
          },
          "metadata": {
            "tags": []
          },
          "execution_count": 172
        }
      ]
    },
    {
      "cell_type": "code",
      "metadata": {
        "id": "asLm_vfh_s7Y"
      },
      "source": [
        "#Build the LSTM model\n",
        "model = Sequential()\n",
        "model.add(LSTM(50, return_sequences=True, input_shape=(x_train.shape[1], 1)))\n",
        "model.add(LSTM(50, return_sequences= False))\n",
        "model.add(Dense(25))\n",
        "model.add(Dense(1))\n",
        "\n"
      ],
      "execution_count": 173,
      "outputs": []
    },
    {
      "cell_type": "code",
      "metadata": {
        "id": "t2HR6Nd_CnK7"
      },
      "source": [
        "#Compile the model\n",
        "model.compile(optimizer = 'adam', loss = 'mean_squared_error')"
      ],
      "execution_count": 174,
      "outputs": []
    },
    {
      "cell_type": "code",
      "metadata": {
        "id": "9oWMWd78DgoF"
      },
      "source": [
        ""
      ],
      "execution_count": null,
      "outputs": []
    },
    {
      "cell_type": "code",
      "metadata": {
        "colab": {
          "base_uri": "https://localhost:8080/"
        },
        "id": "26KDGTykD8p2",
        "outputId": "568dd9c9-85c2-466d-dec2-dd8633b10cd6"
      },
      "source": [
        "#train the model\n",
        "model.fit(x_train, y_train, batch_size=1, epochs=1)"
      ],
      "execution_count": 175,
      "outputs": [
        {
          "output_type": "stream",
          "text": [
            "259/259 [==============================] - 12s 35ms/step - loss: 0.0288\n"
          ],
          "name": "stdout"
        },
        {
          "output_type": "execute_result",
          "data": {
            "text/plain": [
              "<keras.callbacks.History at 0x7faf80d9ff10>"
            ]
          },
          "metadata": {
            "tags": []
          },
          "execution_count": 175
        }
      ]
    },
    {
      "cell_type": "code",
      "metadata": {
        "id": "ftOrs7HgEdBX"
      },
      "source": [
        "#Create the testing data set\n",
        "#Create a new array containing scaled values from index 1543 to 2003\n",
        "test_data = scaled_data[training_data_len - 60: , :]\n",
        "#Create the data sets x_test and y_test\n",
        "x_test = []\n",
        "y_test = dataset[training_data_len:, :]\n",
        "for i in range(60, len(test_data)):\n",
        "  x_test.append(test_data[i-60:i,0])"
      ],
      "execution_count": 176,
      "outputs": []
    },
    {
      "cell_type": "code",
      "metadata": {
        "id": "4gRIhRssFQx2"
      },
      "source": [
        "#Convert the data to a numpy array\n",
        "x_test = np.array(x_test)\n",
        "\n"
      ],
      "execution_count": 177,
      "outputs": []
    },
    {
      "cell_type": "code",
      "metadata": {
        "id": "6GXuXBDkFk0-"
      },
      "source": [
        "#Reshape the data\n",
        "x_test = np.reshape(x_test, (x_test.shape[0], x_test.shape[1],1))\n",
        "\n",
        "#Get the models predicted price values\n",
        "predictions = model.predict(x_test)\n",
        "predictions = scaler.inverse_transform(predictions)\n"
      ],
      "execution_count": 178,
      "outputs": []
    },
    {
      "cell_type": "code",
      "metadata": {
        "colab": {
          "base_uri": "https://localhost:8080/"
        },
        "id": "R_bqn0kwGHWu",
        "outputId": "621acd76-7ec2-415b-f76b-19dcb456d507"
      },
      "source": [
        "#Get the root mean squared error (RMSE)\n",
        "rmse = np.sqrt( np.mean(predictions - y_test)**2)\n",
        "rmse"
      ],
      "execution_count": 179,
      "outputs": [
        {
          "output_type": "execute_result",
          "data": {
            "text/plain": [
              "24.631296278555183"
            ]
          },
          "metadata": {
            "tags": []
          },
          "execution_count": 179
        }
      ]
    },
    {
      "cell_type": "code",
      "metadata": {
        "colab": {
          "base_uri": "https://localhost:8080/",
          "height": 827
        },
        "id": "H3fHhAOjGr-y",
        "outputId": "fcfda605-56cc-4963-bd75-9066da94e6cf"
      },
      "source": [
        "#Plot the data\n",
        "train = data[:training_data_len]\n",
        "valid = data[training_data_len:]\n",
        "valid['Predictions'] = predictions\n",
        "#Visualise the data\n",
        "plt.figure(figsize=(16,8))\n",
        "plt.title('Model')\n",
        "plt.xlabel('Date',fontsize=18)\n",
        "plt.ylabel('Close Price USD ($)', fontsize=18)\n",
        "plt.plot(train['Close'])\n",
        "plt.plot(valid[['Close','Predictions']])\n",
        "plt.legend(['Train', 'Val', 'Predictions'], loc='lower right')\n",
        "plt.show()\n"
      ],
      "execution_count": 180,
      "outputs": [
        {
          "output_type": "stream",
          "text": [
            "/usr/local/lib/python3.7/dist-packages/ipykernel_launcher.py:4: SettingWithCopyWarning: \n",
            "A value is trying to be set on a copy of a slice from a DataFrame.\n",
            "Try using .loc[row_indexer,col_indexer] = value instead\n",
            "\n",
            "See the caveats in the documentation: https://pandas.pydata.org/pandas-docs/stable/user_guide/indexing.html#returning-a-view-versus-a-copy\n",
            "  after removing the cwd from sys.path.\n"
          ],
          "name": "stderr"
        },
        {
          "output_type": "display_data",
          "data": {
            "image/png": "[encoded data removed]",
            "text/plain": [
              "<Figure size 1600x800 with 1 Axes>"
            ]
          },
          "metadata": {
            "tags": []
          }
        }
      ]
    },
    {
      "cell_type": "code",
      "metadata": {
        "colab": {
          "base_uri": "https://localhost:8080/",
          "height": 450
        },
        "id": "8MziIYyZKV8k",
        "outputId": "c84a836d-c9e0-4549-ccf8-832f917049a5"
      },
      "source": [
        "#show the valid and predicted return\n",
        "valid"
      ],
      "execution_count": 181,
      "outputs": [
        {
          "output_type": "execute_result",
          "data": {
            "text/html": [
              "<div>\n",
              "<style scoped>\n",
              "    .dataframe tbody tr th:only-of-type {\n",
              "        vertical-align: middle;\n",
              "    }\n",
              "\n",
              "    .dataframe tbody tr th {\n",
              "        vertical-align: top;\n",
              "    }\n",
              "\n",
              "    .dataframe thead th {\n",
              "        text-align: right;\n",
              "    }\n",
              "</style>\n",
              "<table border=\"1\" class=\"dataframe\">\n",
              "  <thead>\n",
              "    <tr style=\"text-align: right;\">\n",
              "      <th></th>\n",
              "      <th>Close</th>\n",
              "      <th>Predictions</th>\n",
              "    </tr>\n",
              "    <tr>\n",
              "      <th>Date</th>\n",
              "      <th></th>\n",
              "      <th></th>\n",
              "    </tr>\n",
              "  </thead>\n",
              "  <tbody>\n",
              "    <tr>\n",
              "      <th>2021-04-09</th>\n",
              "      <td>337.109985</td>\n",
              "      <td>304.516235</td>\n",
              "    </tr>\n",
              "    <tr>\n",
              "      <th>2021-04-12</th>\n",
              "      <td>336.670013</td>\n",
              "      <td>306.024750</td>\n",
              "    </tr>\n",
              "    <tr>\n",
              "      <th>2021-04-13</th>\n",
              "      <td>340.600006</td>\n",
              "      <td>307.514801</td>\n",
              "    </tr>\n",
              "    <tr>\n",
              "      <th>2021-04-14</th>\n",
              "      <td>336.510010</td>\n",
              "      <td>309.063660</td>\n",
              "    </tr>\n",
              "    <tr>\n",
              "      <th>2021-04-15</th>\n",
              "      <td>341.609985</td>\n",
              "      <td>310.426605</td>\n",
              "    </tr>\n",
              "    <tr>\n",
              "      <th>...</th>\n",
              "      <td>...</td>\n",
              "      <td>...</td>\n",
              "    </tr>\n",
              "    <tr>\n",
              "      <th>2021-07-26</th>\n",
              "      <td>368.489990</td>\n",
              "      <td>334.401489</td>\n",
              "    </tr>\n",
              "    <tr>\n",
              "      <th>2021-07-27</th>\n",
              "      <td>364.429993</td>\n",
              "      <td>335.015656</td>\n",
              "    </tr>\n",
              "    <tr>\n",
              "      <th>2021-07-28</th>\n",
              "      <td>365.829987</td>\n",
              "      <td>335.547485</td>\n",
              "    </tr>\n",
              "    <tr>\n",
              "      <th>2021-07-29</th>\n",
              "      <td>366.480011</td>\n",
              "      <td>336.041656</td>\n",
              "    </tr>\n",
              "    <tr>\n",
              "      <th>2021-07-30</th>\n",
              "      <td>364.570007</td>\n",
              "      <td>336.512543</td>\n",
              "    </tr>\n",
              "  </tbody>\n",
              "</table>\n",
              "<p>79 rows × 2 columns</p>\n",
              "</div>"
            ],
            "text/plain": [
              "                 Close  Predictions\n",
              "Date                               \n",
              "2021-04-09  337.109985   304.516235\n",
              "2021-04-12  336.670013   306.024750\n",
              "2021-04-13  340.600006   307.514801\n",
              "2021-04-14  336.510010   309.063660\n",
              "2021-04-15  341.609985   310.426605\n",
              "...                ...          ...\n",
              "2021-07-26  368.489990   334.401489\n",
              "2021-07-27  364.429993   335.015656\n",
              "2021-07-28  365.829987   335.547485\n",
              "2021-07-29  366.480011   336.041656\n",
              "2021-07-30  364.570007   336.512543\n",
              "\n",
              "[79 rows x 2 columns]"
            ]
          },
          "metadata": {
            "tags": []
          },
          "execution_count": 181
        }
      ]
    },
    {
      "cell_type": "code",
      "metadata": {
        "colab": {
          "base_uri": "https://localhost:8080/"
        },
        "id": "1_Z2x6IdK0eM",
        "outputId": "5648cde2-f93e-4d30-9815-f7a8b610cee5"
      },
      "source": [
        "#get the quote\n",
        "apple_quote = yf.download('QQQ', start=start_date, end=end_date)\n",
        "#Create a new dataframe\n",
        "new_data = apple_quote.filter(['Close'])\n",
        "#Get the last 60 day closing price values and convert the dataframe to an array\n",
        "last_60_days = new_data[-60:].values\n",
        "last_60_days_scaled = scaler.transform(last_60_days)\n",
        "#Create an empty list\n",
        "X_test = []\n",
        "#Append the past 60 days\n",
        "X_test.append(last_60_days_scaled)\n",
        "#Convert the X_test data set to a numpy array\n",
        "X_test = np.array(X_test)\n",
        "#Reshape the data\n",
        "X_test = np.reshape(X_test, (X_test.shape[0], X_test.shape[1],1))\n",
        "#Get the predicted scaled price\n",
        "pred_price = model.predict(X_test)\n",
        "#undo the scaling\n",
        "pred_price = scaler.inverse_transform(pred_price)\n",
        "print(pred_price)\n"
      ],
      "execution_count": 182,
      "outputs": [
        {
          "output_type": "stream",
          "text": [
            "\r[*********************100%***********************]  1 of 1 completed\n",
            "[[336.87735]]\n"
          ],
          "name": "stdout"
        }
      ]
    }
  ]
}