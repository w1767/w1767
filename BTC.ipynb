{
  "nbformat": 4,
  "nbformat_minor": 0,
  "metadata": {
    "colab": {
      "name": "Untitled0.ipynb",
      "provenance": [],
      "authorship_tag": "ABX9TyMPuS9H5E0zRVWKWohSIWv/",
      "include_colab_link": true
    },
    "kernelspec": {
      "name": "python3",
      "display_name": "Python 3"
    },
    "language_info": {
      "name": "python"
    }
  },
  "cells": [
    {
      "cell_type": "markdown",
      "metadata": {
        "id": "view-in-github",
        "colab_type": "text"
      },
      "source": [
        "<a href=\"https://colab.research.google.com/github/w1767/w1767/blob/main/BTC.ipynb\" target=\"_parent\"><img src=\"https://colab.research.google.com/assets/colab-badge.svg\" alt=\"Open In Colab\"/></a>"
      ]
    },
    {
      "cell_type": "code",
      "metadata": {
        "id": "jF-rA78EBttL"
      },
      "source": [
        "# Description: this program uses an aritificial recurrent neural network called Long Short Term Memory (LSTM) to predict\n",
        "# the closing stock price of a corporation (BTC Inc.) using the past 60 day stock price. "
      ],
      "execution_count": 212,
      "outputs": []
    },
    {
      "cell_type": "code",
      "metadata": {
        "id": "wpTDFiYaHooV"
      },
      "source": [
        ""
      ],
      "execution_count": 212,
      "outputs": []
    },
    {
      "cell_type": "code",
      "metadata": {
        "id": "4t9te_ZzCKmA",
        "colab": {
          "base_uri": "https://localhost:8080/"
        },
        "outputId": "ef252c6e-e398-4bfa-852a-d330b3241ee8"
      },
      "source": [
        "# Import the libraries\n",
        "!pip install pandas_datareader\n",
        "!pip install yfinance\n",
        "!pip install mplfinance\n",
        "import os\n",
        "import argparse\n",
        "import signal\n",
        "import yfinance as yf\n",
        "import pickle\n",
        "import mplfinance as mpf\n",
        "import math\n",
        "import pandas_datareader.data as web\n",
        "from datetime import datetime, timedelta\n",
        "import numpy as np\n",
        "import pandas as pd\n",
        "from sklearn.preprocessing import MinMaxScaler\n",
        "from keras.models import Sequential\n",
        "from keras.layers import Dense, LSTM\n",
        "#from yfinance import stock_info\n",
        "from dateutil.parser import parse\n",
        "from urllib.request import urlopen, Request\n",
        "from bs4 import BeautifulSoup\n",
        "import matplotlib.pyplot as plt\n",
        "plt.style.use('fivethirtyeight')\n",
        "start_date = datetime(2020, 1,1)\n",
        "end_date = datetime(2021, 8, 2)\n"
      ],
      "execution_count": 214,
      "outputs": [
        {
          "output_type": "stream",
          "text": [
            "Requirement already satisfied: pandas_datareader in /usr/local/lib/python3.7/dist-packages (0.9.0)\n",
            "Requirement already satisfied: pandas>=0.23 in /usr/local/lib/python3.7/dist-packages (from pandas_datareader) (1.1.5)\n",
            "Requirement already satisfied: requests>=2.19.0 in /usr/local/lib/python3.7/dist-packages (from pandas_datareader) (2.23.0)\n",
            "Requirement already satisfied: lxml in /usr/local/lib/python3.7/dist-packages (from pandas_datareader) (4.6.3)\n",
            "Requirement already satisfied: python-dateutil>=2.7.3 in /usr/local/lib/python3.7/dist-packages (from pandas>=0.23->pandas_datareader) (2.8.1)\n",
            "Requirement already satisfied: numpy>=1.15.4 in /usr/local/lib/python3.7/dist-packages (from pandas>=0.23->pandas_datareader) (1.19.5)\n",
            "Requirement already satisfied: pytz>=2017.2 in /usr/local/lib/python3.7/dist-packages (from pandas>=0.23->pandas_datareader) (2018.9)\n",
            "Requirement already satisfied: six>=1.5 in /usr/local/lib/python3.7/dist-packages (from python-dateutil>=2.7.3->pandas>=0.23->pandas_datareader) (1.15.0)\n",
            "Requirement already satisfied: certifi>=2017.4.17 in /usr/local/lib/python3.7/dist-packages (from requests>=2.19.0->pandas_datareader) (2021.5.30)\n",
            "Requirement already satisfied: idna<3,>=2.5 in /usr/local/lib/python3.7/dist-packages (from requests>=2.19.0->pandas_datareader) (2.10)\n",
            "Requirement already satisfied: chardet<4,>=3.0.2 in /usr/local/lib/python3.7/dist-packages (from requests>=2.19.0->pandas_datareader) (3.0.4)\n",
            "Requirement already satisfied: urllib3!=1.25.0,!=1.25.1,<1.26,>=1.21.1 in /usr/local/lib/python3.7/dist-packages (from requests>=2.19.0->pandas_datareader) (1.24.3)\n",
            "Requirement already satisfied: yfinance in /usr/local/lib/python3.7/dist-packages (0.1.63)\n",
            "Requirement already satisfied: requests>=2.20 in /usr/local/lib/python3.7/dist-packages (from yfinance) (2.23.0)\n",
            "Requirement already satisfied: pandas>=0.24 in /usr/local/lib/python3.7/dist-packages (from yfinance) (1.1.5)\n",
            "Requirement already satisfied: multitasking>=0.0.7 in /usr/local/lib/python3.7/dist-packages (from yfinance) (0.0.9)\n",
            "Requirement already satisfied: lxml>=4.5.1 in /usr/local/lib/python3.7/dist-packages (from yfinance) (4.6.3)\n",
            "Requirement already satisfied: numpy>=1.15 in /usr/local/lib/python3.7/dist-packages (from yfinance) (1.19.5)\n",
            "Requirement already satisfied: pytz>=2017.2 in /usr/local/lib/python3.7/dist-packages (from pandas>=0.24->yfinance) (2018.9)\n",
            "Requirement already satisfied: python-dateutil>=2.7.3 in /usr/local/lib/python3.7/dist-packages (from pandas>=0.24->yfinance) (2.8.1)\n",
            "Requirement already satisfied: six>=1.5 in /usr/local/lib/python3.7/dist-packages (from python-dateutil>=2.7.3->pandas>=0.24->yfinance) (1.15.0)\n",
            "Requirement already satisfied: urllib3!=1.25.0,!=1.25.1,<1.26,>=1.21.1 in /usr/local/lib/python3.7/dist-packages (from requests>=2.20->yfinance) (1.24.3)\n",
            "Requirement already satisfied: idna<3,>=2.5 in /usr/local/lib/python3.7/dist-packages (from requests>=2.20->yfinance) (2.10)\n",
            "Requirement already satisfied: certifi>=2017.4.17 in /usr/local/lib/python3.7/dist-packages (from requests>=2.20->yfinance) (2021.5.30)\n",
            "Requirement already satisfied: chardet<4,>=3.0.2 in /usr/local/lib/python3.7/dist-packages (from requests>=2.20->yfinance) (3.0.4)\n",
            "Requirement already satisfied: mplfinance in /usr/local/lib/python3.7/dist-packages (0.12.7a17)\n",
            "Requirement already satisfied: pandas in /usr/local/lib/python3.7/dist-packages (from mplfinance) (1.1.5)\n",
            "Requirement already satisfied: matplotlib in /usr/local/lib/python3.7/dist-packages (from mplfinance) (3.2.2)\n",
            "Requirement already satisfied: kiwisolver>=1.0.1 in /usr/local/lib/python3.7/dist-packages (from matplotlib->mplfinance) (1.3.1)\n",
            "Requirement already satisfied: cycler>=0.10 in /usr/local/lib/python3.7/dist-packages (from matplotlib->mplfinance) (0.10.0)\n",
            "Requirement already satisfied: numpy>=1.11 in /usr/local/lib/python3.7/dist-packages (from matplotlib->mplfinance) (1.19.5)\n",
            "Requirement already satisfied: pyparsing!=2.0.4,!=2.1.2,!=2.1.6,>=2.0.1 in /usr/local/lib/python3.7/dist-packages (from matplotlib->mplfinance) (2.4.7)\n",
            "Requirement already satisfied: python-dateutil>=2.1 in /usr/local/lib/python3.7/dist-packages (from matplotlib->mplfinance) (2.8.1)\n",
            "Requirement already satisfied: six in /usr/local/lib/python3.7/dist-packages (from cycler>=0.10->matplotlib->mplfinance) (1.15.0)\n",
            "Requirement already satisfied: pytz>=2017.2 in /usr/local/lib/python3.7/dist-packages (from pandas->mplfinance) (2018.9)\n"
          ],
          "name": "stdout"
        }
      ]
    },
    {
      "cell_type": "code",
      "metadata": {
        "colab": {
          "base_uri": "https://localhost:8080/",
          "height": 467
        },
        "id": "Tkat1PpYDTgp",
        "outputId": "054f0f20-d7b0-4499-c8af-ff51756a3b42"
      },
      "source": [
        "#Get the stock quote\n",
        "data = yf.download('BTC-USD', start=start_date, end=end_date)\n",
        "#df = web.DataReader('BTC-USD', data_source='yahoo',start='2012-01',end='2019-12-17')\n",
        "#show the data\n",
        "data.head(391)"
      ],
      "execution_count": 215,
      "outputs": [
        {
          "output_type": "stream",
          "text": [
            "\r[*********************100%***********************]  1 of 1 completed\n"
          ],
          "name": "stdout"
        },
        {
          "output_type": "execute_result",
          "data": {
            "text/html": [
              "<div>\n",
              "<style scoped>\n",
              "    .dataframe tbody tr th:only-of-type {\n",
              "        vertical-align: middle;\n",
              "    }\n",
              "\n",
              "    .dataframe tbody tr th {\n",
              "        vertical-align: top;\n",
              "    }\n",
              "\n",
              "    .dataframe thead th {\n",
              "        text-align: right;\n",
              "    }\n",
              "</style>\n",
              "<table border=\"1\" class=\"dataframe\">\n",
              "  <thead>\n",
              "    <tr style=\"text-align: right;\">\n",
              "      <th></th>\n",
              "      <th>Open</th>\n",
              "      <th>High</th>\n",
              "      <th>Low</th>\n",
              "      <th>Close</th>\n",
              "      <th>Adj Close</th>\n",
              "      <th>Volume</th>\n",
              "    </tr>\n",
              "    <tr>\n",
              "      <th>Date</th>\n",
              "      <th></th>\n",
              "      <th></th>\n",
              "      <th></th>\n",
              "      <th></th>\n",
              "      <th></th>\n",
              "      <th></th>\n",
              "    </tr>\n",
              "  </thead>\n",
              "  <tbody>\n",
              "    <tr>\n",
              "      <th>2020-01-01</th>\n",
              "      <td>7194.892090</td>\n",
              "      <td>7254.330566</td>\n",
              "      <td>7174.944336</td>\n",
              "      <td>7200.174316</td>\n",
              "      <td>7200.174316</td>\n",
              "      <td>18565664997</td>\n",
              "    </tr>\n",
              "    <tr>\n",
              "      <th>2020-01-02</th>\n",
              "      <td>7202.551270</td>\n",
              "      <td>7212.155273</td>\n",
              "      <td>6935.270020</td>\n",
              "      <td>6985.470215</td>\n",
              "      <td>6985.470215</td>\n",
              "      <td>20802083465</td>\n",
              "    </tr>\n",
              "    <tr>\n",
              "      <th>2020-01-03</th>\n",
              "      <td>6984.428711</td>\n",
              "      <td>7413.715332</td>\n",
              "      <td>6914.996094</td>\n",
              "      <td>7344.884277</td>\n",
              "      <td>7344.884277</td>\n",
              "      <td>28111481032</td>\n",
              "    </tr>\n",
              "    <tr>\n",
              "      <th>2020-01-04</th>\n",
              "      <td>7345.375488</td>\n",
              "      <td>7427.385742</td>\n",
              "      <td>7309.514160</td>\n",
              "      <td>7410.656738</td>\n",
              "      <td>7410.656738</td>\n",
              "      <td>18444271275</td>\n",
              "    </tr>\n",
              "    <tr>\n",
              "      <th>2020-01-05</th>\n",
              "      <td>7410.451660</td>\n",
              "      <td>7544.497070</td>\n",
              "      <td>7400.535645</td>\n",
              "      <td>7411.317383</td>\n",
              "      <td>7411.317383</td>\n",
              "      <td>19725074095</td>\n",
              "    </tr>\n",
              "    <tr>\n",
              "      <th>...</th>\n",
              "      <td>...</td>\n",
              "      <td>...</td>\n",
              "      <td>...</td>\n",
              "      <td>...</td>\n",
              "      <td>...</td>\n",
              "      <td>...</td>\n",
              "    </tr>\n",
              "    <tr>\n",
              "      <th>2021-01-25</th>\n",
              "      <td>32285.798828</td>\n",
              "      <td>34802.742188</td>\n",
              "      <td>32087.787109</td>\n",
              "      <td>32366.392578</td>\n",
              "      <td>32366.392578</td>\n",
              "      <td>59897054838</td>\n",
              "    </tr>\n",
              "    <tr>\n",
              "      <th>2021-01-26</th>\n",
              "      <td>32358.613281</td>\n",
              "      <td>32794.550781</td>\n",
              "      <td>31030.265625</td>\n",
              "      <td>32569.849609</td>\n",
              "      <td>32569.849609</td>\n",
              "      <td>60255421470</td>\n",
              "    </tr>\n",
              "    <tr>\n",
              "      <th>2021-01-27</th>\n",
              "      <td>32564.029297</td>\n",
              "      <td>32564.029297</td>\n",
              "      <td>29367.138672</td>\n",
              "      <td>30432.546875</td>\n",
              "      <td>30432.546875</td>\n",
              "      <td>62576762015</td>\n",
              "    </tr>\n",
              "    <tr>\n",
              "      <th>2021-01-28</th>\n",
              "      <td>30441.041016</td>\n",
              "      <td>31891.300781</td>\n",
              "      <td>30023.207031</td>\n",
              "      <td>31649.605469</td>\n",
              "      <td>31649.605469</td>\n",
              "      <td>78948162368</td>\n",
              "    </tr>\n",
              "    <tr>\n",
              "      <th>2021-01-29</th>\n",
              "      <td>34318.671875</td>\n",
              "      <td>38406.261719</td>\n",
              "      <td>32064.814453</td>\n",
              "      <td>34316.386719</td>\n",
              "      <td>34316.386719</td>\n",
              "      <td>117894572511</td>\n",
              "    </tr>\n",
              "  </tbody>\n",
              "</table>\n",
              "<p>391 rows × 6 columns</p>\n",
              "</div>"
            ],
            "text/plain": [
              "                    Open          High  ...     Adj Close        Volume\n",
              "Date                                    ...                            \n",
              "2020-01-01   7194.892090   7254.330566  ...   7200.174316   18565664997\n",
              "2020-01-02   7202.551270   7212.155273  ...   6985.470215   20802083465\n",
              "2020-01-03   6984.428711   7413.715332  ...   7344.884277   28111481032\n",
              "2020-01-04   7345.375488   7427.385742  ...   7410.656738   18444271275\n",
              "2020-01-05   7410.451660   7544.497070  ...   7411.317383   19725074095\n",
              "...                  ...           ...  ...           ...           ...\n",
              "2021-01-25  32285.798828  34802.742188  ...  32366.392578   59897054838\n",
              "2021-01-26  32358.613281  32794.550781  ...  32569.849609   60255421470\n",
              "2021-01-27  32564.029297  32564.029297  ...  30432.546875   62576762015\n",
              "2021-01-28  30441.041016  31891.300781  ...  31649.605469   78948162368\n",
              "2021-01-29  34318.671875  38406.261719  ...  34316.386719  117894572511\n",
              "\n",
              "[391 rows x 6 columns]"
            ]
          },
          "metadata": {
            "tags": []
          },
          "execution_count": 215
        }
      ]
    },
    {
      "cell_type": "code",
      "metadata": {
        "id": "iINONBjJCmEs"
      },
      "source": [
        ""
      ],
      "execution_count": null,
      "outputs": []
    },
    {
      "cell_type": "code",
      "metadata": {
        "colab": {
          "base_uri": "https://localhost:8080/"
        },
        "id": "-1NflEs4D4Bv",
        "outputId": "eb0f82a5-7e78-4f48-8bd8-c31359bb202a"
      },
      "source": [
        "#Get the number of rows and columns in the data set\n",
        "data.shape\n",
        "\n"
      ],
      "execution_count": 216,
      "outputs": [
        {
          "output_type": "execute_result",
          "data": {
            "text/plain": [
              "(576, 6)"
            ]
          },
          "metadata": {
            "tags": []
          },
          "execution_count": 216
        }
      ]
    },
    {
      "cell_type": "code",
      "metadata": {
        "colab": {
          "base_uri": "https://localhost:8080/",
          "height": 523
        },
        "id": "nASYYE3wEFyH",
        "outputId": "d9074f4b-d219-4bc6-ce1d-98d74bb51d95"
      },
      "source": [
        "mpf.plot(data, type='candle', mav= (3,6,9), volume=True, show_nontrading=True)\n",
        "#Visualize the closing price history\n",
        "#plt.figure(figsize=(16,8))\n",
        "#plt.title('Close Price History')\n",
        "#plt.plot(df['Close'])\n",
        "#plt.xlabel('Date',fontsize=18)\n",
        "#plt.ylabel('Close Price USD($)',fontsize=18)\n",
        "#plt.show()"
      ],
      "execution_count": 217,
      "outputs": [
        {
          "output_type": "display_data",
          "data": {
            "image/png": "[encoded data removed]",
            "text/plain": [
              "<Figure size 800x575 with 4 Axes>"
            ]
          },
          "metadata": {
            "tags": []
          }
        }
      ]
    },
    {
      "cell_type": "code",
      "metadata": {
        "id": "5u3vU4T5HqUi"
      },
      "source": [
        ""
      ],
      "execution_count": null,
      "outputs": []
    },
    {
      "cell_type": "code",
      "metadata": {
        "colab": {
          "base_uri": "https://localhost:8080/"
        },
        "id": "LhjmcNHG7Tbm",
        "outputId": "41dab8f4-d587-4d63-a71d-194eb9a31fc0"
      },
      "source": [
        "#Create a new dataframe with only the 'Close column'\n",
        "data = data.filter(['Close'])\n",
        "#Convert the dataframe to a numpy array\n",
        "dataset = data.values\n",
        "#Get the number of rows to train the model on \n",
        "training_data_len = math.ceil(len(dataset) * .8)\n",
        "\n",
        "training_data_len"
      ],
      "execution_count": 218,
      "outputs": [
        {
          "output_type": "execute_result",
          "data": {
            "text/plain": [
              "461"
            ]
          },
          "metadata": {
            "tags": []
          },
          "execution_count": 218
        }
      ]
    },
    {
      "cell_type": "code",
      "metadata": {
        "colab": {
          "base_uri": "https://localhost:8080/"
        },
        "id": "7KFZs2c38gaO",
        "outputId": "16840173-ec6c-4690-fa48-f0aa0a54d03b"
      },
      "source": [
        "#Scale the data\n",
        "scaler = MinMaxScaler(feature_range=(0,1))\n",
        "scaled_data = scaler.fit_transform(dataset)\n",
        "scaled_data\n",
        "\n"
      ],
      "execution_count": 219,
      "outputs": [
        {
          "output_type": "execute_result",
          "data": {
            "text/plain": [
              "array([[3.80878964e-02],\n",
              "       [3.44197892e-02],\n",
              "       [4.05601903e-02],\n",
              "       [4.16838784e-02],\n",
              "       [4.16951651e-02],\n",
              "       [4.78097309e-02],\n",
              "       [5.45490980e-02],\n",
              "       [5.31169134e-02],\n",
              "       [4.96864957e-02],\n",
              "       [5.45979907e-02],\n",
              "       [5.23938096e-02],\n",
              "       [5.50411610e-02],\n",
              "       [5.42159841e-02],\n",
              "       [6.58944250e-02],\n",
              "       [6.55398554e-02],\n",
              "       [6.41180065e-02],\n",
              "       [6.76246286e-02],\n",
              "       [6.78598905e-02],\n",
              "       [6.38183274e-02],\n",
              "       [6.29879785e-02],\n",
              "       [6.44957169e-02],\n",
              "       [6.33849089e-02],\n",
              "       [5.86976060e-02],\n",
              "       [5.93625158e-02],\n",
              "       [5.80369840e-02],\n",
              "       [6.19490288e-02],\n",
              "       [6.72962863e-02],\n",
              "       [7.49632955e-02],\n",
              "       [7.42464315e-02],\n",
              "       [7.75328575e-02],\n",
              "       [7.48255853e-02],\n",
              "       [7.55490394e-02],\n",
              "       [7.47202755e-02],\n",
              "       [7.38516366e-02],\n",
              "       [7.19286320e-02],\n",
              "       [7.93170007e-02],\n",
              "       [8.13052567e-02],\n",
              "       [8.24352513e-02],\n",
              "       [8.36170833e-02],\n",
              "       [8.79147634e-02],\n",
              "       [8.34717318e-02],\n",
              "       [8.94790608e-02],\n",
              "       [9.14919258e-02],\n",
              "       [8.95840202e-02],\n",
              "       [9.12537942e-02],\n",
              "       [8.40323328e-02],\n",
              "       [8.48012844e-02],\n",
              "       [8.06277003e-02],\n",
              "       [8.83473811e-02],\n",
              "       [7.96580562e-02],\n",
              "       [7.92324625e-02],\n",
              "       [8.05644678e-02],\n",
              "       [8.01670868e-02],\n",
              "       [8.46318411e-02],\n",
              "       [7.99448719e-02],\n",
              "       [7.46748281e-02],\n",
              "       [6.57706960e-02],\n",
              "       [6.51551710e-02],\n",
              "       [6.32410423e-02],\n",
              "       [6.19947931e-02],\n",
              "       [6.13617332e-02],\n",
              "       [6.66103546e-02],\n",
              "       [6.52114130e-02],\n",
              "       [6.46554834e-02],\n",
              "       [7.01825952e-02],\n",
              "       [7.09306083e-02],\n",
              "       [6.72985887e-02],\n",
              "       [5.35996082e-02],\n",
              "       [5.04480062e-02],\n",
              "       [5.02102750e-02],\n",
              "       [5.02393303e-02],\n",
              "       [0.00000000e+00],\n",
              "       [1.01297097e-02],\n",
              "       [3.92222205e-03],\n",
              "       [7.20156561e-03],\n",
              "       [7.46453140e-04],\n",
              "       [4.35383032e-03],\n",
              "       [4.57266678e-03],\n",
              "       [2.08499767e-02],\n",
              "       [2.09795702e-02],\n",
              "       [2.07453093e-02],\n",
              "       [1.46835402e-02],\n",
              "       [2.46960694e-02],\n",
              "       [3.01372833e-02],\n",
              "       [2.92191512e-02],\n",
              "       [2.98235562e-02],\n",
              "       [2.56098053e-02],\n",
              "       [2.17213017e-02],\n",
              "       [1.62516916e-02],\n",
              "       [2.49271687e-02],\n",
              "       [2.50775588e-02],\n",
              "       [2.79500031e-02],\n",
              "       [3.11422059e-02],\n",
              "       [3.01130831e-02],\n",
              "       [3.24047970e-02],\n",
              "       [3.10995781e-02],\n",
              "       [3.93112634e-02],\n",
              "       [3.76819732e-02],\n",
              "       [4.03759232e-02],\n",
              "       [3.98290615e-02],\n",
              "       [3.23700442e-02],\n",
              "       [3.22605300e-02],\n",
              "       [3.41741415e-02],\n",
              "       [3.20205715e-02],\n",
              "       [3.19759834e-02],\n",
              "       [2.85536574e-02],\n",
              "       [3.66635616e-02],\n",
              "       [3.90700953e-02],\n",
              "       [3.79042466e-02],\n",
              "       [3.26513457e-02],\n",
              "       [3.26234083e-02],\n",
              "       [3.66704521e-02],\n",
              "       [4.20096430e-02],\n",
              "       [4.40798761e-02],\n",
              "       [4.44050817e-02],\n",
              "       [4.62831979e-02],\n",
              "       [4.82604508e-02],\n",
              "       [4.84561965e-02],\n",
              "       [6.54378157e-02],\n",
              "       [6.30035447e-02],\n",
              "       [6.65265840e-02],\n",
              "       [6.86421560e-02],\n",
              "       [6.70852831e-02],\n",
              "       [6.73447202e-02],\n",
              "       [6.88894305e-02],\n",
              "       [7.34286290e-02],\n",
              "       [8.50931720e-02],\n",
              "       [8.32334834e-02],\n",
              "       [7.89833862e-02],\n",
              "       [6.46757212e-02],\n",
              "       [6.20338672e-02],\n",
              "       [6.54965769e-02],\n",
              "       [7.34495675e-02],\n",
              "       [8.13722265e-02],\n",
              "       [7.44440542e-02],\n",
              "       [7.52780569e-02],\n",
              "       [8.02962048e-02],\n",
              "       [8.12501325e-02],\n",
              "       [8.12922097e-02],\n",
              "       [7.77718399e-02],\n",
              "       [7.02338319e-02],\n",
              "       [7.19562108e-02],\n",
              "       [7.24125364e-02],\n",
              "       [6.52555256e-02],\n",
              "       [6.72470016e-02],\n",
              "       [6.60189381e-02],\n",
              "       [7.19295663e-02],\n",
              "       [7.78191559e-02],\n",
              "       [7.63391798e-02],\n",
              "       [8.08031833e-02],\n",
              "       [7.67139204e-02],\n",
              "       [8.87791478e-02],\n",
              "       [7.78883948e-02],\n",
              "       [8.00566551e-02],\n",
              "       [8.25154349e-02],\n",
              "       [8.02072621e-02],\n",
              "       [8.00047510e-02],\n",
              "       [8.18015741e-02],\n",
              "       [8.20174658e-02],\n",
              "       [8.24310970e-02],\n",
              "       [8.37020886e-02],\n",
              "       [7.43344399e-02],\n",
              "       [7.70519395e-02],\n",
              "       [7.69568403e-02],\n",
              "       [7.54450477e-02],\n",
              "       [7.65369860e-02],\n",
              "       [7.80288412e-02],\n",
              "       [7.70418790e-02],\n",
              "       [7.58730605e-02],\n",
              "       [7.37576220e-02],\n",
              "       [7.45148447e-02],\n",
              "       [7.40243333e-02],\n",
              "       [7.99199792e-02],\n",
              "       [7.95943565e-02],\n",
              "       [7.41948444e-02],\n",
              "       [7.33611754e-02],\n",
              "       [7.16203440e-02],\n",
              "       [6.96124508e-02],\n",
              "       [7.12899996e-02],\n",
              "       [7.20976248e-02],\n",
              "       [7.11945167e-02],\n",
              "       [7.27377922e-02],\n",
              "       [7.09453737e-02],\n",
              "       [7.03285140e-02],\n",
              "       [7.11004687e-02],\n",
              "       [7.01002427e-02],\n",
              "       [7.52517629e-02],\n",
              "       [7.31470021e-02],\n",
              "       [7.61548209e-02],\n",
              "       [7.35859096e-02],\n",
              "       [7.36002579e-02],\n",
              "       [7.29431729e-02],\n",
              "       [7.35608335e-02],\n",
              "       [7.29989978e-02],\n",
              "       [7.29921573e-02],\n",
              "       [7.21314935e-02],\n",
              "       [7.10960140e-02],\n",
              "       [7.14234387e-02],\n",
              "       [7.15540916e-02],\n",
              "       [7.20115685e-02],\n",
              "       [7.16427840e-02],\n",
              "       [7.52417357e-02],\n",
              "       [7.78125323e-02],\n",
              "       [7.87642912e-02],\n",
              "       [7.80095043e-02],\n",
              "       [8.04051016e-02],\n",
              "       [8.43012799e-02],\n",
              "       [1.02849999e-01],\n",
              "       [1.01516559e-01],\n",
              "       [1.04722368e-01],\n",
              "       [1.04905959e-01],\n",
              "       [1.08532189e-01],\n",
              "       [1.15983173e-01],\n",
              "       [1.03921900e-01],\n",
              "       [1.07214666e-01],\n",
              "       [1.06523495e-01],\n",
              "       [1.15768416e-01],\n",
              "       [1.16327949e-01],\n",
              "       [1.13281774e-01],\n",
              "       [1.15888408e-01],\n",
              "       [1.14550580e-01],\n",
              "       [1.18008001e-01],\n",
              "       [1.10019540e-01],\n",
              "       [1.12999229e-01],\n",
              "       [1.16402510e-01],\n",
              "       [1.16141689e-01],\n",
              "       [1.17795930e-01],\n",
              "       [1.18259012e-01],\n",
              "       [1.24436736e-01],\n",
              "       [1.19940632e-01],\n",
              "       [1.15960800e-01],\n",
              "       [1.18012455e-01],\n",
              "       [1.13128297e-01],\n",
              "       [1.14654555e-01],\n",
              "       [1.14364503e-01],\n",
              "       [1.16239491e-01],\n",
              "       [1.09261149e-01],\n",
              "       [1.11349359e-01],\n",
              "       [1.08531005e-01],\n",
              "       [1.12274257e-01],\n",
              "       [1.11665456e-01],\n",
              "       [1.15161634e-01],\n",
              "       [1.14637387e-01],\n",
              "       [1.19586046e-01],\n",
              "       [1.10079486e-01],\n",
              "       [9.01122208e-02],\n",
              "       [9.46655174e-02],\n",
              "       [8.88184221e-02],\n",
              "       [9.07111118e-02],\n",
              "       [9.22352506e-02],\n",
              "       [8.81683444e-02],\n",
              "       [9.00618350e-02],\n",
              "       [9.21254862e-02],\n",
              "       [9.27708757e-02],\n",
              "       [9.34757104e-02],\n",
              "       [9.14526515e-02],\n",
              "       [9.75532110e-02],\n",
              "       [9.95369456e-02],\n",
              "       [1.02577198e-01],\n",
              "       [1.02134453e-01],\n",
              "       [1.02059208e-01],\n",
              "       [1.04617792e-01],\n",
              "       [1.01951329e-01],\n",
              "       [9.38189182e-02],\n",
              "       [9.51207586e-02],\n",
              "       [8.97802247e-02],\n",
              "       [9.86587635e-02],\n",
              "       [9.79197097e-02],\n",
              "       [9.88106218e-02],\n",
              "       [9.91521278e-02],\n",
              "       [9.82449488e-02],\n",
              "       [1.00423270e-01],\n",
              "       [9.93774961e-02],\n",
              "       [9.65707201e-02],\n",
              "       [9.59186738e-02],\n",
              "       [9.55826068e-02],\n",
              "       [9.76145583e-02],\n",
              "       [9.96573878e-02],\n",
              "       [9.65422571e-02],\n",
              "       [9.75241474e-02],\n",
              "       [1.01701152e-01],\n",
              "       [1.08069107e-01],\n",
              "       [1.09569471e-01],\n",
              "       [1.10343828e-01],\n",
              "       [1.11468717e-01],\n",
              "       [1.08509232e-01],\n",
              "       [1.09123906e-01],\n",
              "       [1.11263870e-01],\n",
              "       [1.15683244e-01],\n",
              "       [1.18661032e-01],\n",
              "       [1.34162708e-01],\n",
              "       [1.36592157e-01],\n",
              "       [1.36005262e-01],\n",
              "       [1.39021073e-01],\n",
              "       [1.37707470e-01],\n",
              "       [1.38460455e-01],\n",
              "       [1.48351866e-01],\n",
              "       [1.41809646e-01],\n",
              "       [1.44655880e-01],\n",
              "       [1.46511931e-01],\n",
              "       [1.50517774e-01],\n",
              "       [1.49768009e-01],\n",
              "       [1.46579702e-01],\n",
              "       [1.53410273e-01],\n",
              "       [1.56543672e-01],\n",
              "       [1.81250244e-01],\n",
              "       [1.81011612e-01],\n",
              "       [1.68503607e-01],\n",
              "       [1.79536992e-01],\n",
              "       [1.77021269e-01],\n",
              "       [1.76313748e-01],\n",
              "       [1.83325858e-01],\n",
              "       [1.93149499e-01],\n",
              "       [1.93857904e-01],\n",
              "       [1.89592424e-01],\n",
              "       [1.87669553e-01],\n",
              "       [2.00662697e-01],\n",
              "       [2.16539215e-01],\n",
              "       [2.19248806e-01],\n",
              "       [2.19472339e-01],\n",
              "       [2.33212095e-01],\n",
              "       [2.33569468e-01],\n",
              "       [2.28918553e-01],\n",
              "       [2.28818081e-01],\n",
              "       [2.41517720e-01],\n",
              "       [2.35105169e-01],\n",
              "       [2.08086103e-01],\n",
              "       [2.07364784e-01],\n",
              "       [2.17769430e-01],\n",
              "       [2.25629491e-01],\n",
              "       [2.50373819e-01],\n",
              "       [2.36316064e-01],\n",
              "       [2.43117288e-01],\n",
              "       [2.47291139e-01],\n",
              "       [2.34552392e-01],\n",
              "       [2.42316686e-01],\n",
              "       [2.45577953e-01],\n",
              "       [2.42955652e-01],\n",
              "       [2.28083849e-01],\n",
              "       [2.32060628e-01],\n",
              "       [2.27124516e-01],\n",
              "       [2.23603612e-01],\n",
              "       [2.36327309e-01],\n",
              "       [2.42114275e-01],\n",
              "       [2.43895532e-01],\n",
              "       [2.46807268e-01],\n",
              "       [2.79157091e-01],\n",
              "       [3.04690942e-01],\n",
              "       [3.10376635e-01],\n",
              "       [3.22880270e-01],\n",
              "       [3.16173979e-01],\n",
              "       [3.04655405e-01],\n",
              "       [3.21397291e-01],\n",
              "       [3.12142910e-01],\n",
              "       [3.20592952e-01],\n",
              "       [3.36461728e-01],\n",
              "       [3.66739624e-01],\n",
              "       [3.63925090e-01],\n",
              "       [3.77806461e-01],\n",
              "       [3.82549606e-01],\n",
              "       [4.07809271e-01],\n",
              "       [4.10555901e-01],\n",
              "       [4.16918700e-01],\n",
              "       [4.63954232e-01],\n",
              "       [4.75140393e-01],\n",
              "       [4.61300099e-01],\n",
              "       [4.95819550e-01],\n",
              "       [5.44201653e-01],\n",
              "       [5.87710342e-01],\n",
              "       [6.12082482e-01],\n",
              "       [6.02804544e-01],\n",
              "       [5.70376406e-01],\n",
              "       [5.22714387e-01],\n",
              "       [4.94632713e-01],\n",
              "       [5.52607149e-01],\n",
              "       [5.84571670e-01],\n",
              "       [5.44218804e-01],\n",
              "       [5.33161277e-01],\n",
              "       [5.26551921e-01],\n",
              "       [5.40882326e-01],\n",
              "       [5.31310415e-01],\n",
              "       [5.22391384e-01],\n",
              "       [4.41717619e-01],\n",
              "       [4.78962845e-01],\n",
              "       [4.62935571e-01],\n",
              "       [4.66723820e-01],\n",
              "       [4.68039558e-01],\n",
              "       [4.71515515e-01],\n",
              "       [4.35000817e-01],\n",
              "       [4.55793625e-01],\n",
              "       [5.01354187e-01],\n",
              "       [5.00553552e-01],\n",
              "       [4.80818179e-01],\n",
              "       [4.88041776e-01],\n",
              "       [5.21751383e-01],\n",
              "       [5.55267722e-01],\n",
              "       [5.45939198e-01],\n",
              "       [5.66752228e-01],\n",
              "       [5.85915938e-01],\n",
              "       [5.79721614e-01],\n",
              "       [7.04319101e-01],\n",
              "       [7.09182037e-01],\n",
              "       [6.82480335e-01],\n",
              "       [7.33582540e-01],\n",
              "       [7.26672203e-01],\n",
              "       [7.19849757e-01],\n",
              "       [7.47386063e-01],\n",
              "       [7.34192909e-01],\n",
              "       [7.55630724e-01],\n",
              "       [8.06015181e-01],\n",
              "       [7.97998957e-01],\n",
              "       [8.69896173e-01],\n",
              "       [8.73507605e-01],\n",
              "       [8.98116525e-01],\n",
              "       [8.41180372e-01],\n",
              "       [7.49216437e-01],\n",
              "       [7.64266259e-01],\n",
              "       [7.19650483e-01],\n",
              "       [7.06767253e-01],\n",
              "       [7.04182225e-01],\n",
              "       [6.86231846e-01],\n",
              "       [7.63000473e-01],\n",
              "       [7.41606371e-01],\n",
              "       [7.78496093e-01],\n",
              "       [7.44718815e-01],\n",
              "       [7.50974070e-01],\n",
              "       [7.50719137e-01],\n",
              "       [7.89916198e-01],\n",
              "       [8.07681184e-01],\n",
              "       [8.51718023e-01],\n",
              "       [8.71953451e-01],\n",
              "       [9.02646914e-01],\n",
              "       [8.94565423e-01],\n",
              "       [9.61382743e-01],\n",
              "       [9.28225712e-01],\n",
              "       [8.70221913e-01],\n",
              "       [8.85558701e-01],\n",
              "       [9.20855095e-01],\n",
              "       [9.03566072e-01],\n",
              "       [9.11898692e-01],\n",
              "       [9.11334771e-01],\n",
              "       [8.97834231e-01],\n",
              "       [8.46678570e-01],\n",
              "       [8.50262907e-01],\n",
              "       [8.16697383e-01],\n",
              "       [7.98415191e-01],\n",
              "       [8.57068801e-01],\n",
              "       [8.71354827e-01],\n",
              "       [8.70965888e-01],\n",
              "       [9.01708603e-01],\n",
              "       [9.21654595e-01],\n",
              "       [9.21674082e-01],\n",
              "       [9.24697634e-01],\n",
              "       [9.29626573e-01],\n",
              "       [8.99208997e-01],\n",
              "       [9.18935828e-01],\n",
              "       [9.24049626e-01],\n",
              "       [9.09262678e-01],\n",
              "       [8.72643437e-01],\n",
              "       [9.11510888e-01],\n",
              "       [9.10162082e-01],\n",
              "       [9.36612789e-01],\n",
              "       [9.43646988e-01],\n",
              "       [9.38324974e-01],\n",
              "       [1.00000000e+00],\n",
              "       [9.93272787e-01],\n",
              "       [9.96763426e-01],\n",
              "       [9.67015549e-01],\n",
              "       [9.51827983e-01],\n",
              "       [8.75500749e-01],\n",
              "       [8.67096588e-01],\n",
              "       [8.79888857e-01],\n",
              "       [8.36034007e-01],\n",
              "       [7.99408026e-01],\n",
              "       [7.87984985e-01],\n",
              "       [7.70169547e-01],\n",
              "       [7.52288707e-01],\n",
              "       [8.38010067e-01],\n",
              "       [8.55288679e-01],\n",
              "       [8.51728034e-01],\n",
              "       [8.30037689e-01],\n",
              "       [9.01708202e-01],\n",
              "       [9.03038656e-01],\n",
              "       [8.82589005e-01],\n",
              "       [8.92313742e-01],\n",
              "       [8.26252277e-01],\n",
              "       [8.96135793e-01],\n",
              "       [8.78581627e-01],\n",
              "       [8.94980789e-01],\n",
              "       [9.19708433e-01],\n",
              "       [9.09945323e-01],\n",
              "       [8.69412069e-01],\n",
              "       [8.83844647e-01],\n",
              "       [7.54787845e-01],\n",
              "       [7.64451786e-01],\n",
              "       [7.67259513e-01],\n",
              "       [7.13950007e-01],\n",
              "       [7.08754124e-01],\n",
              "       [6.58892279e-01],\n",
              "       [6.48161359e-01],\n",
              "       [5.47244025e-01],\n",
              "       [6.11828417e-01],\n",
              "       [5.52407808e-01],\n",
              "       [5.56370405e-01],\n",
              "       [5.09113876e-01],\n",
              "       [5.76348097e-01],\n",
              "       [5.71158554e-01],\n",
              "       [5.86397507e-01],\n",
              "       [5.71752173e-01],\n",
              "       [5.24951586e-01],\n",
              "       [5.06474057e-01],\n",
              "       [5.24618839e-01],\n",
              "       [5.52888976e-01],\n",
              "       [5.41819436e-01],\n",
              "       [5.57028958e-01],\n",
              "       [5.84937919e-01],\n",
              "       [5.45398300e-01],\n",
              "       [5.22463258e-01],\n",
              "       [5.27766654e-01],\n",
              "       [4.88443795e-01],\n",
              "       [4.86939093e-01],\n",
              "       [5.53098528e-01],\n",
              "       [5.42121351e-01],\n",
              "       [5.52915337e-01],\n",
              "       [5.22472802e-01],\n",
              "       [5.83043143e-01],\n",
              "       [6.02188301e-01],\n",
              "       [6.05396646e-01],\n",
              "       [5.70216172e-01],\n",
              "       [5.65200877e-01],\n",
              "       [5.26483049e-01],\n",
              "       [5.23555197e-01],\n",
              "       [5.24963398e-01],\n",
              "       [4.56256408e-01],\n",
              "       [4.70418871e-01],\n",
              "       [4.91216952e-01],\n",
              "       [5.07266283e-01],\n",
              "       [4.55591581e-01],\n",
              "       [4.64962383e-01],\n",
              "       [5.07047722e-01],\n",
              "       [5.03369287e-01],\n",
              "       [5.27858883e-01],\n",
              "       [5.13731022e-01],\n",
              "       [4.88638731e-01],\n",
              "       [4.94189985e-01],\n",
              "       [5.07370659e-01],\n",
              "       [5.17949954e-01],\n",
              "       [4.91609495e-01],\n",
              "       [4.99967074e-01],\n",
              "       [4.93477242e-01],\n",
              "       [4.76769358e-01],\n",
              "       [4.92498021e-01],\n",
              "       [4.87757213e-01],\n",
              "       [5.00052363e-01],\n",
              "       [4.81526984e-01],\n",
              "       [4.73773669e-01],\n",
              "       [4.75829312e-01],\n",
              "       [4.58033827e-01],\n",
              "       [4.51897230e-01],\n",
              "       [4.53802650e-01],\n",
              "       [4.58308547e-01],\n",
              "       [4.41583212e-01],\n",
              "       [4.24319615e-01],\n",
              "       [4.63671071e-01],\n",
              "       [4.67129175e-01],\n",
              "       [4.88799899e-01],\n",
              "       [5.00945160e-01],\n",
              "       [5.19016132e-01],\n",
              "       [5.52968926e-01],\n",
              "       [5.88323648e-01],\n",
              "       [5.98385804e-01],\n",
              "       [5.98599627e-01],\n",
              "       [6.36648891e-01],\n",
              "       [6.26238439e-01],\n",
              "       [5.98026830e-01],\n",
              "       [5.91739142e-01]])"
            ]
          },
          "metadata": {
            "tags": []
          },
          "execution_count": 219
        }
      ]
    },
    {
      "cell_type": "code",
      "metadata": {
        "colab": {
          "base_uri": "https://localhost:8080/"
        },
        "id": "ryDBUAM-9WEv",
        "outputId": "e6704ad3-2267-45c0-d0a5-583ec0986c20"
      },
      "source": [
        "#Create the training data set\n",
        "#Create the scaled training data set\n",
        "train_data = scaled_data[0:training_data_len , :]\n",
        "#Split the data into x_train and y_train data sets\n",
        "x_train = []\n",
        "y_train = []\n",
        "\n",
        "for i in range(60, len(train_data)):\n",
        "  x_train.append(train_data[i-60:i, 0])\n",
        "  y_train.append(train_data[i,0])\n",
        "  if i <= 60:\n",
        "    print (x_train)\n",
        "    print (y_train)\n",
        "    print ()"
      ],
      "execution_count": 220,
      "outputs": [
        {
          "output_type": "stream",
          "text": [
            "[array([0.0380879 , 0.03441979, 0.04056019, 0.04168388, 0.04169517,\n",
            "       0.04780973, 0.0545491 , 0.05311691, 0.0496865 , 0.05459799,\n",
            "       0.05239381, 0.05504116, 0.05421598, 0.06589442, 0.06553986,\n",
            "       0.06411801, 0.06762463, 0.06785989, 0.06381833, 0.06298798,\n",
            "       0.06449572, 0.06338491, 0.05869761, 0.05936252, 0.05803698,\n",
            "       0.06194903, 0.06729629, 0.0749633 , 0.07424643, 0.07753286,\n",
            "       0.07482559, 0.07554904, 0.07472028, 0.07385164, 0.07192863,\n",
            "       0.079317  , 0.08130526, 0.08243525, 0.08361708, 0.08791476,\n",
            "       0.08347173, 0.08947906, 0.09149193, 0.08958402, 0.09125379,\n",
            "       0.08403233, 0.08480128, 0.0806277 , 0.08834738, 0.07965806,\n",
            "       0.07923246, 0.08056447, 0.08016709, 0.08463184, 0.07994487,\n",
            "       0.07467483, 0.0657707 , 0.06515517, 0.06324104, 0.06199479])]\n",
            "[0.0613617332054467]\n",
            "\n"
          ],
          "name": "stdout"
        }
      ]
    },
    {
      "cell_type": "code",
      "metadata": {
        "colab": {
          "base_uri": "https://localhost:8080/"
        },
        "id": "dmJfr5Rh-me3",
        "outputId": "80ead723-ed63-44d6-851a-cad0ee7b0661"
      },
      "source": [
        "#Convert the x_train and y_train to numpy arrays\n",
        "x_train, y_train = np.array(x_train), np.array(y_train)\n",
        "\n",
        "#Reshape the data\n",
        "x_train = np.reshape(x_train, (x_train.shape[0], x_train.shape[1], 1))\n",
        "x_train.shape\n"
      ],
      "execution_count": 221,
      "outputs": [
        {
          "output_type": "execute_result",
          "data": {
            "text/plain": [
              "(401, 60, 1)"
            ]
          },
          "metadata": {
            "tags": []
          },
          "execution_count": 221
        }
      ]
    },
    {
      "cell_type": "code",
      "metadata": {
        "id": "asLm_vfh_s7Y"
      },
      "source": [
        "#Build the LSTM model\n",
        "model = Sequential()\n",
        "model.add(LSTM(50, return_sequences=True, input_shape=(x_train.shape[1], 1)))\n",
        "model.add(LSTM(50, return_sequences= False))\n",
        "model.add(Dense(25))\n",
        "model.add(Dense(1))\n",
        "\n"
      ],
      "execution_count": 222,
      "outputs": []
    },
    {
      "cell_type": "code",
      "metadata": {
        "id": "t2HR6Nd_CnK7"
      },
      "source": [
        "#Compile the model\n",
        "model.compile(optimizer = 'adam', loss = 'mean_squared_error')"
      ],
      "execution_count": 223,
      "outputs": []
    },
    {
      "cell_type": "code",
      "metadata": {
        "id": "9oWMWd78DgoF"
      },
      "source": [
        ""
      ],
      "execution_count": null,
      "outputs": []
    },
    {
      "cell_type": "code",
      "metadata": {
        "colab": {
          "base_uri": "https://localhost:8080/"
        },
        "id": "26KDGTykD8p2",
        "outputId": "0adff805-5adb-4344-830b-59a75e4e651b"
      },
      "source": [
        "#train the model\n",
        "model.fit(x_train, y_train, batch_size=1, epochs=1)"
      ],
      "execution_count": 224,
      "outputs": [
        {
          "output_type": "stream",
          "text": [
            "401/401 [==============================] - 17s 35ms/step - loss: 0.0166\n"
          ],
          "name": "stdout"
        },
        {
          "output_type": "execute_result",
          "data": {
            "text/plain": [
              "<keras.callbacks.History at 0x7faf7cabacd0>"
            ]
          },
          "metadata": {
            "tags": []
          },
          "execution_count": 224
        }
      ]
    },
    {
      "cell_type": "code",
      "metadata": {
        "id": "ftOrs7HgEdBX"
      },
      "source": [
        "#Create the testing data set\n",
        "#Create a new array containing scaled values from index 1543 to 2003\n",
        "test_data = scaled_data[training_data_len - 60: , :]\n",
        "#Create the data sets x_test and y_test\n",
        "x_test = []\n",
        "y_test = dataset[training_data_len:, :]\n",
        "for i in range(60, len(test_data)):\n",
        "  x_test.append(test_data[i-60:i,0])"
      ],
      "execution_count": 225,
      "outputs": []
    },
    {
      "cell_type": "code",
      "metadata": {
        "id": "4gRIhRssFQx2"
      },
      "source": [
        "#Convert the data to a numpy array\n",
        "x_test = np.array(x_test)\n",
        "\n"
      ],
      "execution_count": 226,
      "outputs": []
    },
    {
      "cell_type": "code",
      "metadata": {
        "id": "6GXuXBDkFk0-"
      },
      "source": [
        "#Reshape the data\n",
        "x_test = np.reshape(x_test, (x_test.shape[0], x_test.shape[1],1))\n",
        "\n",
        "#Get the models predicted price values\n",
        "predictions = model.predict(x_test)\n",
        "predictions = scaler.inverse_transform(predictions)\n"
      ],
      "execution_count": 227,
      "outputs": []
    },
    {
      "cell_type": "code",
      "metadata": {
        "colab": {
          "base_uri": "https://localhost:8080/"
        },
        "id": "R_bqn0kwGHWu",
        "outputId": "cbde5e88-9c36-4766-e9d8-1112203b1163"
      },
      "source": [
        "#Get the root mean squared error (RMSE)\n",
        "rmse = np.sqrt( np.mean(predictions - y_test)**2)\n",
        "rmse"
      ],
      "execution_count": 228,
      "outputs": [
        {
          "output_type": "execute_result",
          "data": {
            "text/plain": [
              "1227.8807744565217"
            ]
          },
          "metadata": {
            "tags": []
          },
          "execution_count": 228
        }
      ]
    },
    {
      "cell_type": "code",
      "metadata": {
        "colab": {
          "base_uri": "https://localhost:8080/",
          "height": 827
        },
        "id": "H3fHhAOjGr-y",
        "outputId": "0f67a718-847c-46dc-8f0c-85527bafdcfd"
      },
      "source": [
        "#Plot the data\n",
        "train = data[:training_data_len]\n",
        "valid = data[training_data_len:]\n",
        "valid['Predictions'] = predictions\n",
        "#Visualise the data\n",
        "plt.figure(figsize=(16,8))\n",
        "plt.title('Model')\n",
        "plt.xlabel('Date',fontsize=18)\n",
        "plt.ylabel('Close Price USD ($)', fontsize=18)\n",
        "plt.plot(train['Close'])\n",
        "plt.plot(valid[['Close','Predictions']])\n",
        "plt.legend(['Train', 'Val', 'Predictions'], loc='lower right')\n",
        "plt.show()\n"
      ],
      "execution_count": 230,
      "outputs": [
        {
          "output_type": "stream",
          "text": [
            "/usr/local/lib/python3.7/dist-packages/ipykernel_launcher.py:4: SettingWithCopyWarning: \n",
            "A value is trying to be set on a copy of a slice from a DataFrame.\n",
            "Try using .loc[row_indexer,col_indexer] = value instead\n",
            "\n",
            "See the caveats in the documentation: https://pandas.pydata.org/pandas-docs/stable/user_guide/indexing.html#returning-a-view-versus-a-copy\n",
            "  after removing the cwd from sys.path.\n"
          ],
          "name": "stderr"
        },
        {
          "output_type": "display_data",
          "data": {
            "image/png": "[encoded data removed]",
            "text/plain": [
              "<Figure size 1600x800 with 1 Axes>"
            ]
          },
          "metadata": {
            "tags": []
          }
        }
      ]
    },
    {
      "cell_type": "code",
      "metadata": {
        "colab": {
          "base_uri": "https://localhost:8080/",
          "height": 450
        },
        "id": "8MziIYyZKV8k",
        "outputId": "e2965179-7451-4e91-9330-a865a394ba9e"
      },
      "source": [
        "#show the valid and predicted return\n",
        "valid"
      ],
      "execution_count": 231,
      "outputs": [
        {
          "output_type": "execute_result",
          "data": {
            "text/html": [
              "<div>\n",
              "<style scoped>\n",
              "    .dataframe tbody tr th:only-of-type {\n",
              "        vertical-align: middle;\n",
              "    }\n",
              "\n",
              "    .dataframe tbody tr th {\n",
              "        vertical-align: top;\n",
              "    }\n",
              "\n",
              "    .dataframe thead th {\n",
              "        text-align: right;\n",
              "    }\n",
              "</style>\n",
              "<table border=\"1\" class=\"dataframe\">\n",
              "  <thead>\n",
              "    <tr style=\"text-align: right;\">\n",
              "      <th></th>\n",
              "      <th>Close</th>\n",
              "      <th>Predictions</th>\n",
              "    </tr>\n",
              "    <tr>\n",
              "      <th>Date</th>\n",
              "      <th></th>\n",
              "      <th></th>\n",
              "    </tr>\n",
              "  </thead>\n",
              "  <tbody>\n",
              "    <tr>\n",
              "      <th>2021-04-10</th>\n",
              "      <td>59793.234375</td>\n",
              "      <td>57317.445312</td>\n",
              "    </tr>\n",
              "    <tr>\n",
              "      <th>2021-04-11</th>\n",
              "      <td>60204.964844</td>\n",
              "      <td>57438.367188</td>\n",
              "    </tr>\n",
              "    <tr>\n",
              "      <th>2021-04-12</th>\n",
              "      <td>59893.453125</td>\n",
              "      <td>57626.992188</td>\n",
              "    </tr>\n",
              "    <tr>\n",
              "      <th>2021-04-13</th>\n",
              "      <td>63503.457031</td>\n",
              "      <td>57825.375000</td>\n",
              "    </tr>\n",
              "    <tr>\n",
              "      <th>2021-04-14</th>\n",
              "      <td>63109.695312</td>\n",
              "      <td>58223.882812</td>\n",
              "    </tr>\n",
              "    <tr>\n",
              "      <th>...</th>\n",
              "      <td>...</td>\n",
              "      <td>...</td>\n",
              "    </tr>\n",
              "    <tr>\n",
              "      <th>2021-07-29</th>\n",
              "      <td>40008.421875</td>\n",
              "      <td>34780.996094</td>\n",
              "    </tr>\n",
              "    <tr>\n",
              "      <th>2021-07-30</th>\n",
              "      <td>42235.546875</td>\n",
              "      <td>35589.613281</td>\n",
              "    </tr>\n",
              "    <tr>\n",
              "      <th>2021-07-31</th>\n",
              "      <td>41626.195312</td>\n",
              "      <td>36495.667969</td>\n",
              "    </tr>\n",
              "    <tr>\n",
              "      <th>2021-08-01</th>\n",
              "      <td>39974.894531</td>\n",
              "      <td>37365.082031</td>\n",
              "    </tr>\n",
              "    <tr>\n",
              "      <th>2021-08-02</th>\n",
              "      <td>39606.859375</td>\n",
              "      <td>38060.804688</td>\n",
              "    </tr>\n",
              "  </tbody>\n",
              "</table>\n",
              "<p>115 rows × 2 columns</p>\n",
              "</div>"
            ],
            "text/plain": [
              "                   Close   Predictions\n",
              "Date                                  \n",
              "2021-04-10  59793.234375  57317.445312\n",
              "2021-04-11  60204.964844  57438.367188\n",
              "2021-04-12  59893.453125  57626.992188\n",
              "2021-04-13  63503.457031  57825.375000\n",
              "2021-04-14  63109.695312  58223.882812\n",
              "...                  ...           ...\n",
              "2021-07-29  40008.421875  34780.996094\n",
              "2021-07-30  42235.546875  35589.613281\n",
              "2021-07-31  41626.195312  36495.667969\n",
              "2021-08-01  39974.894531  37365.082031\n",
              "2021-08-02  39606.859375  38060.804688\n",
              "\n",
              "[115 rows x 2 columns]"
            ]
          },
          "metadata": {
            "tags": []
          },
          "execution_count": 231
        }
      ]
    },
    {
      "cell_type": "code",
      "metadata": {
        "colab": {
          "base_uri": "https://localhost:8080/"
        },
        "id": "1_Z2x6IdK0eM",
        "outputId": "b991a024-c523-4c28-f262-8bdaf2aa570c"
      },
      "source": [
        "#get the quote\n",
        "apple_quote = yf.download('BTC-USD', start=start_date, end=end_date)\n",
        "#Create a new dataframe\n",
        "new_data = apple_quote.filter(['Close'])\n",
        "#Get the last 60 day closing price values and convert the dataframe to an array\n",
        "last_60_days = new_data[-60:].values\n",
        "last_60_days_scaled = scaler.transform(last_60_days)\n",
        "#Create an empty list\n",
        "X_test = []\n",
        "#Append the past 60 days\n",
        "X_test.append(last_60_days_scaled)\n",
        "#Convert the X_test data set to a numpy array\n",
        "X_test = np.array(X_test)\n",
        "#Reshape the data\n",
        "X_test = np.reshape(X_test, (X_test.shape[0], X_test.shape[1],1))\n",
        "#Get the predicted scaled price\n",
        "pred_price = model.predict(X_test)\n",
        "#undo the scaling\n",
        "pred_price = scaler.inverse_transform(pred_price)\n",
        "print(pred_price)\n"
      ],
      "execution_count": 233,
      "outputs": [
        {
          "output_type": "stream",
          "text": [
            "\r[*********************100%***********************]  1 of 1 completed\n",
            "[[38590.684]]\n"
          ],
          "name": "stdout"
        }
      ]
    }
  ]
}