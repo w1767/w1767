{
  "nbformat": 4,
  "nbformat_minor": 0,
  "metadata": {
    "colab": {
      "name": "Untitled0.ipynb",
      "provenance": [],
      "authorship_tag": "ABX9TyOE9ADIz2umAOCpb1/3QekS",
      "include_colab_link": true
    },
    "kernelspec": {
      "name": "python3",
      "display_name": "Python 3"
    },
    "language_info": {
      "name": "python"
    }
  },
  "cells": [
    {
      "cell_type": "markdown",
      "metadata": {
        "id": "view-in-github",
        "colab_type": "text"
      },
      "source": [
        "<a href=\"https://colab.research.google.com/github/w1767/w1767/blob/main/RSX.ipynb\" target=\"_parent\"><img src=\"https://colab.research.google.com/assets/colab-badge.svg\" alt=\"Open In Colab\"/></a>"
      ]
    },
    {
      "cell_type": "code",
      "metadata": {
        "id": "jF-rA78EBttL"
      },
      "source": [
        "# Description: this program uses an aritificial recurrent neural network called Long Short Term Memory (LSTM) to predict\n",
        "# the closing stock price of a corporation (Apple Inc.) using the past 60 day stock price. "
      ],
      "execution_count": 314,
      "outputs": []
    },
    {
      "cell_type": "code",
      "metadata": {
        "id": "wpTDFiYaHooV"
      },
      "source": [
        ""
      ],
      "execution_count": null,
      "outputs": []
    },
    {
      "cell_type": "code",
      "metadata": {
        "id": "4t9te_ZzCKmA",
        "colab": {
          "base_uri": "https://localhost:8080/"
        },
        "outputId": "d1b4a7de-d842-4244-d89d-add7a915dfad"
      },
      "source": [
        "# Import the libraries\n",
        "!pip install pandas_datareader\n",
        "!pip install yfinance\n",
        "!pip install mplfinance\n",
        "import os\n",
        "import argparse\n",
        "import signal\n",
        "import yfinance as yf\n",
        "import pickle\n",
        "import mplfinance as mpf\n",
        "import math\n",
        "import pandas_datareader.data as web\n",
        "from datetime import datetime, timedelta\n",
        "import numpy as np\n",
        "import pandas as pd\n",
        "from sklearn.preprocessing import MinMaxScaler\n",
        "from keras.models import Sequential\n",
        "from keras.layers import Dense, LSTM\n",
        "#from yfinance import stock_info\n",
        "from dateutil.parser import parse\n",
        "from urllib.request import urlopen, Request\n",
        "from bs4 import BeautifulSoup\n",
        "import matplotlib.pyplot as plt\n",
        "plt.style.use('fivethirtyeight')\n",
        "start_date = datetime(2020, 1,1)\n",
        "end_date = datetime(2021, 8, 2)\n"
      ],
      "execution_count": 315,
      "outputs": [
        {
          "output_type": "stream",
          "text": [
            "Requirement already satisfied: pandas_datareader in /usr/local/lib/python3.7/dist-packages (0.9.0)\n",
            "Requirement already satisfied: requests>=2.19.0 in /usr/local/lib/python3.7/dist-packages (from pandas_datareader) (2.23.0)\n",
            "Requirement already satisfied: pandas>=0.23 in /usr/local/lib/python3.7/dist-packages (from pandas_datareader) (1.1.5)\n",
            "Requirement already satisfied: lxml in /usr/local/lib/python3.7/dist-packages (from pandas_datareader) (4.6.3)\n",
            "Requirement already satisfied: pytz>=2017.2 in /usr/local/lib/python3.7/dist-packages (from pandas>=0.23->pandas_datareader) (2018.9)\n",
            "Requirement already satisfied: python-dateutil>=2.7.3 in /usr/local/lib/python3.7/dist-packages (from pandas>=0.23->pandas_datareader) (2.8.1)\n",
            "Requirement already satisfied: numpy>=1.15.4 in /usr/local/lib/python3.7/dist-packages (from pandas>=0.23->pandas_datareader) (1.19.5)\n",
            "Requirement already satisfied: six>=1.5 in /usr/local/lib/python3.7/dist-packages (from python-dateutil>=2.7.3->pandas>=0.23->pandas_datareader) (1.15.0)\n",
            "Requirement already satisfied: chardet<4,>=3.0.2 in /usr/local/lib/python3.7/dist-packages (from requests>=2.19.0->pandas_datareader) (3.0.4)\n",
            "Requirement already satisfied: certifi>=2017.4.17 in /usr/local/lib/python3.7/dist-packages (from requests>=2.19.0->pandas_datareader) (2021.5.30)\n",
            "Requirement already satisfied: urllib3!=1.25.0,!=1.25.1,<1.26,>=1.21.1 in /usr/local/lib/python3.7/dist-packages (from requests>=2.19.0->pandas_datareader) (1.24.3)\n",
            "Requirement already satisfied: idna<3,>=2.5 in /usr/local/lib/python3.7/dist-packages (from requests>=2.19.0->pandas_datareader) (2.10)\n",
            "Requirement already satisfied: yfinance in /usr/local/lib/python3.7/dist-packages (0.1.63)\n",
            "Requirement already satisfied: numpy>=1.15 in /usr/local/lib/python3.7/dist-packages (from yfinance) (1.19.5)\n",
            "Requirement already satisfied: lxml>=4.5.1 in /usr/local/lib/python3.7/dist-packages (from yfinance) (4.6.3)\n",
            "Requirement already satisfied: multitasking>=0.0.7 in /usr/local/lib/python3.7/dist-packages (from yfinance) (0.0.9)\n",
            "Requirement already satisfied: pandas>=0.24 in /usr/local/lib/python3.7/dist-packages (from yfinance) (1.1.5)\n",
            "Requirement already satisfied: requests>=2.20 in /usr/local/lib/python3.7/dist-packages (from yfinance) (2.23.0)\n",
            "Requirement already satisfied: pytz>=2017.2 in /usr/local/lib/python3.7/dist-packages (from pandas>=0.24->yfinance) (2018.9)\n",
            "Requirement already satisfied: python-dateutil>=2.7.3 in /usr/local/lib/python3.7/dist-packages (from pandas>=0.24->yfinance) (2.8.1)\n",
            "Requirement already satisfied: six>=1.5 in /usr/local/lib/python3.7/dist-packages (from python-dateutil>=2.7.3->pandas>=0.24->yfinance) (1.15.0)\n",
            "Requirement already satisfied: urllib3!=1.25.0,!=1.25.1,<1.26,>=1.21.1 in /usr/local/lib/python3.7/dist-packages (from requests>=2.20->yfinance) (1.24.3)\n",
            "Requirement already satisfied: chardet<4,>=3.0.2 in /usr/local/lib/python3.7/dist-packages (from requests>=2.20->yfinance) (3.0.4)\n",
            "Requirement already satisfied: certifi>=2017.4.17 in /usr/local/lib/python3.7/dist-packages (from requests>=2.20->yfinance) (2021.5.30)\n",
            "Requirement already satisfied: idna<3,>=2.5 in /usr/local/lib/python3.7/dist-packages (from requests>=2.20->yfinance) (2.10)\n",
            "Requirement already satisfied: mplfinance in /usr/local/lib/python3.7/dist-packages (0.12.7a17)\n",
            "Requirement already satisfied: matplotlib in /usr/local/lib/python3.7/dist-packages (from mplfinance) (3.2.2)\n",
            "Requirement already satisfied: pandas in /usr/local/lib/python3.7/dist-packages (from mplfinance) (1.1.5)\n",
            "Requirement already satisfied: python-dateutil>=2.1 in /usr/local/lib/python3.7/dist-packages (from matplotlib->mplfinance) (2.8.1)\n",
            "Requirement already satisfied: numpy>=1.11 in /usr/local/lib/python3.7/dist-packages (from matplotlib->mplfinance) (1.19.5)\n",
            "Requirement already satisfied: pyparsing!=2.0.4,!=2.1.2,!=2.1.6,>=2.0.1 in /usr/local/lib/python3.7/dist-packages (from matplotlib->mplfinance) (2.4.7)\n",
            "Requirement already satisfied: cycler>=0.10 in /usr/local/lib/python3.7/dist-packages (from matplotlib->mplfinance) (0.10.0)\n",
            "Requirement already satisfied: kiwisolver>=1.0.1 in /usr/local/lib/python3.7/dist-packages (from matplotlib->mplfinance) (1.3.1)\n",
            "Requirement already satisfied: six in /usr/local/lib/python3.7/dist-packages (from cycler>=0.10->matplotlib->mplfinance) (1.15.0)\n",
            "Requirement already satisfied: pytz>=2017.2 in /usr/local/lib/python3.7/dist-packages (from pandas->mplfinance) (2018.9)\n"
          ],
          "name": "stdout"
        }
      ]
    },
    {
      "cell_type": "code",
      "metadata": {
        "colab": {
          "base_uri": "https://localhost:8080/",
          "height": 467
        },
        "id": "Tkat1PpYDTgp",
        "outputId": "83187a13-0709-4070-a8f9-07ff549c7168"
      },
      "source": [
        "#Get the stock quote\n",
        "data = yf.download('RSX', start=start_date, end=end_date)\n",
        "#df = web.DataReader('RSX', data_source='yahoo',start='2012-01',end='2019-12-17')\n",
        "#show the data\n",
        "data.head(391)"
      ],
      "execution_count": 317,
      "outputs": [
        {
          "output_type": "stream",
          "text": [
            "\r[*********************100%***********************]  1 of 1 completed\n"
          ],
          "name": "stdout"
        },
        {
          "output_type": "execute_result",
          "data": {
            "text/html": [
              "<div>\n",
              "<style scoped>\n",
              "    .dataframe tbody tr th:only-of-type {\n",
              "        vertical-align: middle;\n",
              "    }\n",
              "\n",
              "    .dataframe tbody tr th {\n",
              "        vertical-align: top;\n",
              "    }\n",
              "\n",
              "    .dataframe thead th {\n",
              "        text-align: right;\n",
              "    }\n",
              "</style>\n",
              "<table border=\"1\" class=\"dataframe\">\n",
              "  <thead>\n",
              "    <tr style=\"text-align: right;\">\n",
              "      <th></th>\n",
              "      <th>Open</th>\n",
              "      <th>High</th>\n",
              "      <th>Low</th>\n",
              "      <th>Close</th>\n",
              "      <th>Adj Close</th>\n",
              "      <th>Volume</th>\n",
              "    </tr>\n",
              "    <tr>\n",
              "      <th>Date</th>\n",
              "      <th></th>\n",
              "      <th></th>\n",
              "      <th></th>\n",
              "      <th></th>\n",
              "      <th></th>\n",
              "      <th></th>\n",
              "    </tr>\n",
              "  </thead>\n",
              "  <tbody>\n",
              "    <tr>\n",
              "      <th>2020-01-02</th>\n",
              "      <td>25.150000</td>\n",
              "      <td>25.650000</td>\n",
              "      <td>25.150000</td>\n",
              "      <td>25.620001</td>\n",
              "      <td>24.803146</td>\n",
              "      <td>8113700</td>\n",
              "    </tr>\n",
              "    <tr>\n",
              "      <th>2020-01-03</th>\n",
              "      <td>25.110001</td>\n",
              "      <td>25.280001</td>\n",
              "      <td>25.080000</td>\n",
              "      <td>25.100000</td>\n",
              "      <td>24.299725</td>\n",
              "      <td>7083800</td>\n",
              "    </tr>\n",
              "    <tr>\n",
              "      <th>2020-01-06</th>\n",
              "      <td>25.100000</td>\n",
              "      <td>25.420000</td>\n",
              "      <td>25.100000</td>\n",
              "      <td>25.400000</td>\n",
              "      <td>24.590158</td>\n",
              "      <td>6622900</td>\n",
              "    </tr>\n",
              "    <tr>\n",
              "      <th>2020-01-07</th>\n",
              "      <td>25.350000</td>\n",
              "      <td>25.430000</td>\n",
              "      <td>25.280001</td>\n",
              "      <td>25.290001</td>\n",
              "      <td>24.483667</td>\n",
              "      <td>3842400</td>\n",
              "    </tr>\n",
              "    <tr>\n",
              "      <th>2020-01-08</th>\n",
              "      <td>25.580000</td>\n",
              "      <td>25.870001</td>\n",
              "      <td>25.500000</td>\n",
              "      <td>25.760000</td>\n",
              "      <td>24.938683</td>\n",
              "      <td>8828900</td>\n",
              "    </tr>\n",
              "    <tr>\n",
              "      <th>...</th>\n",
              "      <td>...</td>\n",
              "      <td>...</td>\n",
              "      <td>...</td>\n",
              "      <td>...</td>\n",
              "      <td>...</td>\n",
              "      <td>...</td>\n",
              "    </tr>\n",
              "    <tr>\n",
              "      <th>2021-07-15</th>\n",
              "      <td>28.559999</td>\n",
              "      <td>28.690001</td>\n",
              "      <td>28.490000</td>\n",
              "      <td>28.549999</td>\n",
              "      <td>28.549999</td>\n",
              "      <td>3180900</td>\n",
              "    </tr>\n",
              "    <tr>\n",
              "      <th>2021-07-16</th>\n",
              "      <td>28.530001</td>\n",
              "      <td>28.570000</td>\n",
              "      <td>28.209999</td>\n",
              "      <td>28.320000</td>\n",
              "      <td>28.320000</td>\n",
              "      <td>3059000</td>\n",
              "    </tr>\n",
              "    <tr>\n",
              "      <th>2021-07-19</th>\n",
              "      <td>27.700001</td>\n",
              "      <td>27.740000</td>\n",
              "      <td>27.450001</td>\n",
              "      <td>27.540001</td>\n",
              "      <td>27.540001</td>\n",
              "      <td>4369700</td>\n",
              "    </tr>\n",
              "    <tr>\n",
              "      <th>2021-07-20</th>\n",
              "      <td>27.580000</td>\n",
              "      <td>27.860001</td>\n",
              "      <td>27.490000</td>\n",
              "      <td>27.830000</td>\n",
              "      <td>27.830000</td>\n",
              "      <td>3265800</td>\n",
              "    </tr>\n",
              "    <tr>\n",
              "      <th>2021-07-21</th>\n",
              "      <td>27.870001</td>\n",
              "      <td>28.160000</td>\n",
              "      <td>27.870001</td>\n",
              "      <td>28.100000</td>\n",
              "      <td>28.100000</td>\n",
              "      <td>3186800</td>\n",
              "    </tr>\n",
              "  </tbody>\n",
              "</table>\n",
              "<p>391 rows × 6 columns</p>\n",
              "</div>"
            ],
            "text/plain": [
              "                 Open       High        Low      Close  Adj Close   Volume\n",
              "Date                                                                      \n",
              "2020-01-02  25.150000  25.650000  25.150000  25.620001  24.803146  8113700\n",
              "2020-01-03  25.110001  25.280001  25.080000  25.100000  24.299725  7083800\n",
              "2020-01-06  25.100000  25.420000  25.100000  25.400000  24.590158  6622900\n",
              "2020-01-07  25.350000  25.430000  25.280001  25.290001  24.483667  3842400\n",
              "2020-01-08  25.580000  25.870001  25.500000  25.760000  24.938683  8828900\n",
              "...               ...        ...        ...        ...        ...      ...\n",
              "2021-07-15  28.559999  28.690001  28.490000  28.549999  28.549999  3180900\n",
              "2021-07-16  28.530001  28.570000  28.209999  28.320000  28.320000  3059000\n",
              "2021-07-19  27.700001  27.740000  27.450001  27.540001  27.540001  4369700\n",
              "2021-07-20  27.580000  27.860001  27.490000  27.830000  27.830000  3265800\n",
              "2021-07-21  27.870001  28.160000  27.870001  28.100000  28.100000  3186800\n",
              "\n",
              "[391 rows x 6 columns]"
            ]
          },
          "metadata": {
            "tags": []
          },
          "execution_count": 317
        }
      ]
    },
    {
      "cell_type": "code",
      "metadata": {
        "id": "iINONBjJCmEs"
      },
      "source": [
        ""
      ],
      "execution_count": null,
      "outputs": []
    },
    {
      "cell_type": "code",
      "metadata": {
        "colab": {
          "base_uri": "https://localhost:8080/"
        },
        "id": "-1NflEs4D4Bv",
        "outputId": "2a9a10ea-fc0b-4f4b-be35-ed2232cbe710"
      },
      "source": [
        "#Get the number of rows and columns in the data set\n",
        "data.shape\n",
        "\n"
      ],
      "execution_count": 318,
      "outputs": [
        {
          "output_type": "execute_result",
          "data": {
            "text/plain": [
              "(398, 6)"
            ]
          },
          "metadata": {
            "tags": []
          },
          "execution_count": 318
        }
      ]
    },
    {
      "cell_type": "code",
      "metadata": {
        "colab": {
          "base_uri": "https://localhost:8080/",
          "height": 523
        },
        "id": "nASYYE3wEFyH",
        "outputId": "a4457ca6-c516-46a1-ae0a-34f1de4a7a6a"
      },
      "source": [
        "mpf.plot(data, type='candle', mav= (3,6,9), volume=True, show_nontrading=True)\n",
        "#Visualize the closing price history\n",
        "#plt.figure(figsize=(16,8))\n",
        "#plt.title('Close Price History')\n",
        "#plt.plot(df['Close'])\n",
        "#plt.xlabel('Date',fontsize=18)\n",
        "#plt.ylabel('Close Price USD($)',fontsize=18)\n",
        "#plt.show()"
      ],
      "execution_count": 319,
      "outputs": [
        {
          "output_type": "display_data",
          "data": {
            "image/png": "[encoded data removed]",
            "text/plain": [
              "<Figure size 800x575 with 4 Axes>"
            ]
          },
          "metadata": {
            "tags": []
          }
        }
      ]
    },
    {
      "cell_type": "code",
      "metadata": {
        "id": "5u3vU4T5HqUi"
      },
      "source": [
        ""
      ],
      "execution_count": null,
      "outputs": []
    },
    {
      "cell_type": "code",
      "metadata": {
        "colab": {
          "base_uri": "https://localhost:8080/"
        },
        "id": "LhjmcNHG7Tbm",
        "outputId": "7f2d01fd-749e-487b-85f2-a1ed8f4c176e"
      },
      "source": [
        "#Create a new dataframe with only the 'Close column'\n",
        "data = data.filter(['Close'])\n",
        "#Convert the dataframe to a numpy array\n",
        "dataset = data.values\n",
        "#Get the number of rows to train the model on \n",
        "training_data_len = math.ceil(len(dataset) * .8)\n",
        "\n",
        "training_data_len"
      ],
      "execution_count": 320,
      "outputs": [
        {
          "output_type": "execute_result",
          "data": {
            "text/plain": [
              "319"
            ]
          },
          "metadata": {
            "tags": []
          },
          "execution_count": 320
        }
      ]
    },
    {
      "cell_type": "code",
      "metadata": {
        "colab": {
          "base_uri": "https://localhost:8080/"
        },
        "id": "7KFZs2c38gaO",
        "outputId": "a0b459df-6576-42ef-bba4-d53e30bfac09"
      },
      "source": [
        "#Scale the data\n",
        "scaler = MinMaxScaler(feature_range=(0,1))\n",
        "scaled_data = scaler.fit_transform(dataset)\n",
        "scaled_data\n",
        "\n"
      ],
      "execution_count": 321,
      "outputs": [
        {
          "output_type": "execute_result",
          "data": {
            "text/plain": [
              "array([[0.75836434],\n",
              "       [0.72614622],\n",
              "       [0.74473353],\n",
              "       [0.73791825],\n",
              "       [0.7670384 ],\n",
              "       [0.77261462],\n",
              "       [0.78252787],\n",
              "       [0.80916977],\n",
              "       [0.77695165],\n",
              "       [0.7800495 ],\n",
              "       [0.79491937],\n",
              "       [0.81722424],\n",
              "       [0.80235437],\n",
              "       [0.79491937],\n",
              "       [0.7800495 ],\n",
              "       [0.77323422],\n",
              "       [0.72552663],\n",
              "       [0.74845097],\n",
              "       [0.75464678],\n",
              "       [0.7335811 ],\n",
              "       [0.69516729],\n",
              "       [0.69516729],\n",
              "       [0.72304826],\n",
              "       [0.74845097],\n",
              "       [0.72614622],\n",
              "       [0.69516729],\n",
              "       [0.68649311],\n",
              "       [0.71003716],\n",
              "       [0.73667906],\n",
              "       [0.71437419],\n",
              "       [0.70693932],\n",
              "       [0.69826513],\n",
              "       [0.7211896 ],\n",
              "       [0.70693932],\n",
              "       [0.70693932],\n",
              "       [0.63382901],\n",
              "       [0.60904577],\n",
              "       [0.6084263 ],\n",
              "       [0.55762075],\n",
              "       [0.4950434 ],\n",
              "       [0.51796775],\n",
              "       [0.49256503],\n",
              "       [0.5346964 ],\n",
              "       [0.47211894],\n",
              "       [0.448575  ],\n",
              "       [0.22800491],\n",
              "       [0.33890955],\n",
              "       [0.26022303],\n",
              "       [0.13258986],\n",
              "       [0.24535316],\n",
              "       [0.09975215],\n",
              "       [0.14807932],\n",
              "       [0.        ],\n",
              "       [0.11524161],\n",
              "       [0.08798018],\n",
              "       [0.11214371],\n",
              "       [0.19206935],\n",
              "       [0.21499382],\n",
              "       [0.23853775],\n",
              "       [0.17657989],\n",
              "       [0.18029744],\n",
              "       [0.20446097],\n",
              "       [0.18711273],\n",
              "       [0.25340763],\n",
              "       [0.27199506],\n",
              "       [0.32156131],\n",
              "       [0.29801737],\n",
              "       [0.3413878 ],\n",
              "       [0.33457252],\n",
              "       [0.35501861],\n",
              "       [0.34820321],\n",
              "       [0.27075587],\n",
              "       [0.28872371],\n",
              "       [0.30978928],\n",
              "       [0.26394047],\n",
              "       [0.23358113],\n",
              "       [0.28996278],\n",
              "       [0.30545225],\n",
              "       [0.31164806],\n",
              "       [0.3221809 ],\n",
              "       [0.32589834],\n",
              "       [0.38227999],\n",
              "       [0.34572484],\n",
              "       [0.30669143],\n",
              "       [0.34386618],\n",
              "       [0.35687727],\n",
              "       [0.33767037],\n",
              "       [0.34324658],\n",
              "       [0.37050808],\n",
              "       [0.34758361],\n",
              "       [0.35192065],\n",
              "       [0.32465927],\n",
              "       [0.35377942],\n",
              "       [0.3413878 ],\n",
              "       [0.40148701],\n",
              "       [0.39776945],\n",
              "       [0.44733582],\n",
              "       [0.43308554],\n",
              "       [0.41883514],\n",
              "       [0.44361838],\n",
              "       [0.44981407],\n",
              "       [0.45600988],\n",
              "       [0.448575  ],\n",
              "       [0.48636922],\n",
              "       [0.50495665],\n",
              "       [0.52230478],\n",
              "       [0.47335813],\n",
              "       [0.49814125],\n",
              "       [0.52230478],\n",
              "       [0.50867409],\n",
              "       [0.51239153],\n",
              "       [0.43804216],\n",
              "       [0.46716232],\n",
              "       [0.46282529],\n",
              "       [0.47149935],\n",
              "       [0.45910785],\n",
              "       [0.45848825],\n",
              "       [0.46282529],\n",
              "       [0.49752166],\n",
              "       [0.50867409],\n",
              "       [0.48574963],\n",
              "       [0.51115235],\n",
              "       [0.48265178],\n",
              "       [0.48265178],\n",
              "       [0.45662948],\n",
              "       [0.46716232],\n",
              "       [0.48574963],\n",
              "       [0.48636922],\n",
              "       [0.48513004],\n",
              "       [0.5006195 ],\n",
              "       [0.49814125],\n",
              "       [0.49876084],\n",
              "       [0.47273853],\n",
              "       [0.48017341],\n",
              "       [0.49442381],\n",
              "       [0.48636922],\n",
              "       [0.48636922],\n",
              "       [0.51425031],\n",
              "       [0.53159844],\n",
              "       [0.54151181],\n",
              "       [0.53593559],\n",
              "       [0.55080546],\n",
              "       [0.5743494 ],\n",
              "       [0.5477075 ],\n",
              "       [0.56381656],\n",
              "       [0.535316  ],\n",
              "       [0.527881  ],\n",
              "       [0.55142505],\n",
              "       [0.55700127],\n",
              "       [0.5941759 ],\n",
              "       [0.58612143],\n",
              "       [0.56567534],\n",
              "       [0.57744736],\n",
              "       [0.57620818],\n",
              "       [0.60223049],\n",
              "       [0.62329617],\n",
              "       [0.62701361],\n",
              "       [0.61400251],\n",
              "       [0.62329617],\n",
              "       [0.60966536],\n",
              "       [0.58798021],\n",
              "       [0.57063196],\n",
              "       [0.58550183],\n",
              "       [0.57496899],\n",
              "       [0.5811648 ],\n",
              "       [0.57125155],\n",
              "       [0.57682777],\n",
              "       [0.57620818],\n",
              "       [0.58426265],\n",
              "       [0.5477075 ],\n",
              "       [0.52292437],\n",
              "       [0.53717466],\n",
              "       [0.48760841],\n",
              "       [0.50991328],\n",
              "       [0.50309788],\n",
              "       [0.51610897],\n",
              "       [0.53035937],\n",
              "       [0.54956628],\n",
              "       [0.54832709],\n",
              "       [0.5470879 ],\n",
              "       [0.52602234],\n",
              "       [0.48760841],\n",
              "       [0.50929369],\n",
              "       [0.47397772],\n",
              "       [0.47583638],\n",
              "       [0.46344488],\n",
              "       [0.4615861 ],\n",
              "       [0.4547707 ],\n",
              "       [0.4690211 ],\n",
              "       [0.46468395],\n",
              "       [0.45353163],\n",
              "       [0.47459731],\n",
              "       [0.47273853],\n",
              "       [0.45848825],\n",
              "       [0.47459731],\n",
              "       [0.48389097],\n",
              "       [0.48760841],\n",
              "       [0.47459731],\n",
              "       [0.47831475],\n",
              "       [0.45600988],\n",
              "       [0.45539029],\n",
              "       [0.45353163],\n",
              "       [0.47026016],\n",
              "       [0.47149935],\n",
              "       [0.48265178],\n",
              "       [0.49938044],\n",
              "       [0.47459731],\n",
              "       [0.45291204],\n",
              "       [0.38723661],\n",
              "       [0.39653039],\n",
              "       [0.37608429],\n",
              "       [0.39591079],\n",
              "       [0.42812891],\n",
              "       [0.47521679],\n",
              "       [0.49566288],\n",
              "       [0.49938044],\n",
              "       [0.54399006],\n",
              "       [0.55700127],\n",
              "       [0.55018587],\n",
              "       [0.54027262],\n",
              "       [0.5613383 ],\n",
              "       [0.60223049],\n",
              "       [0.58302358],\n",
              "       [0.5941759 ],\n",
              "       [0.58612143],\n",
              "       [0.58302358],\n",
              "       [0.58859968],\n",
              "       [0.61895914],\n",
              "       [0.63011146],\n",
              "       [0.61710036],\n",
              "       [0.58364306],\n",
              "       [0.62205699],\n",
              "       [0.64622052],\n",
              "       [0.64436186],\n",
              "       [0.66914498],\n",
              "       [0.67657986],\n",
              "       [0.67967782],\n",
              "       [0.67781904],\n",
              "       [0.72738541],\n",
              "       [0.72614622],\n",
              "       [0.69888473],\n",
              "       [0.72552663],\n",
              "       [0.71871123],\n",
              "       [0.7410161 ],\n",
              "       [0.72366785],\n",
              "       [0.62205699],\n",
              "       [0.61710036],\n",
              "       [0.63382901],\n",
              "       [0.65675336],\n",
              "       [0.66914498],\n",
              "       [0.66480795],\n",
              "       [0.66790579],\n",
              "       [0.6672862 ],\n",
              "       [0.68835188],\n",
              "       [0.72304826],\n",
              "       [0.72180919],\n",
              "       [0.74411394],\n",
              "       [0.76889718],\n",
              "       [0.75526638],\n",
              "       [0.7800495 ],\n",
              "       [0.76641881],\n",
              "       [0.79801734],\n",
              "       [0.76332097],\n",
              "       [0.75836434],\n",
              "       [0.77323422],\n",
              "       [0.73915732],\n",
              "       [0.69950432],\n",
              "       [0.70693932],\n",
              "       [0.70941757],\n",
              "       [0.66666661],\n",
              "       [0.6672862 ],\n",
              "       [0.63630727],\n",
              "       [0.65551417],\n",
              "       [0.65861214],\n",
              "       [0.67038416],\n",
              "       [0.68463445],\n",
              "       [0.71561338],\n",
              "       [0.7410161 ],\n",
              "       [0.73977691],\n",
              "       [0.72676581],\n",
              "       [0.72862447],\n",
              "       [0.74535313],\n",
              "       [0.77261462],\n",
              "       [0.75712516],\n",
              "       [0.72738541],\n",
              "       [0.75030975],\n",
              "       [0.73234203],\n",
              "       [0.73110285],\n",
              "       [0.74225528],\n",
              "       [0.70446094],\n",
              "       [0.6871127 ],\n",
              "       [0.72304826],\n",
              "       [0.74349435],\n",
              "       [0.73172244],\n",
              "       [0.69950432],\n",
              "       [0.75340772],\n",
              "       [0.72986366],\n",
              "       [0.77881043],\n",
              "       [0.77571247],\n",
              "       [0.8141264 ],\n",
              "       [0.83023546],\n",
              "       [0.85130114],\n",
              "       [0.84696399],\n",
              "       [0.80545222],\n",
              "       [0.76084259],\n",
              "       [0.77509288],\n",
              "       [0.75650556],\n",
              "       [0.71065675],\n",
              "       [0.71065675],\n",
              "       [0.71871123],\n",
              "       [0.75650556],\n",
              "       [0.75526638],\n",
              "       [0.7478315 ],\n",
              "       [0.77013625],\n",
              "       [0.75712516],\n",
              "       [0.75092934],\n",
              "       [0.72490704],\n",
              "       [0.72800488],\n",
              "       [0.73791825],\n",
              "       [0.71995041],\n",
              "       [0.73543988],\n",
              "       [0.76951666],\n",
              "       [0.77757125],\n",
              "       [0.77075584],\n",
              "       [0.80111518],\n",
              "       [0.77942991],\n",
              "       [0.75774475],\n",
              "       [0.77509288],\n",
              "       [0.8066914 ],\n",
              "       [0.82280046],\n",
              "       [0.82899627],\n",
              "       [0.82032221],\n",
              "       [0.82094168],\n",
              "       [0.81102843],\n",
              "       [0.77881043],\n",
              "       [0.7874845 ],\n",
              "       [0.80235437],\n",
              "       [0.82280046],\n",
              "       [0.85254021],\n",
              "       [0.8729863 ],\n",
              "       [0.85935561],\n",
              "       [0.86369264],\n",
              "       [0.84262696],\n",
              "       [0.85563817],\n",
              "       [0.85935561],\n",
              "       [0.86864927],\n",
              "       [0.88475833],\n",
              "       [0.86369264],\n",
              "       [0.86617102],\n",
              "       [0.86864927],\n",
              "       [0.87546467],\n",
              "       [0.8798017 ],\n",
              "       [0.89033455],\n",
              "       [0.90582401],\n",
              "       [0.91387848],\n",
              "       [0.9337051 ],\n",
              "       [0.95539026],\n",
              "       [0.94237916],\n",
              "       [0.96468403],\n",
              "       [0.96158607],\n",
              "       [0.9733581 ],\n",
              "       [0.97893432],\n",
              "       [0.99194541],\n",
              "       [0.99876081],\n",
              "       [1.        ],\n",
              "       [0.98389094],\n",
              "       [0.97769513],\n",
              "       [0.96282526],\n",
              "       [0.95600985],\n",
              "       [0.96034688],\n",
              "       [0.96902107],\n",
              "       [0.97273851],\n",
              "       [0.97583635],\n",
              "       [0.98884756],\n",
              "       [0.98451053],\n",
              "       [0.95910782],\n",
              "       [0.96654269],\n",
              "       [0.97459728],\n",
              "       [0.98760838],\n",
              "       [0.96282526],\n",
              "       [0.96096648],\n",
              "       [0.93866173],\n",
              "       [0.95724904],\n",
              "       [0.96220566],\n",
              "       [0.95972741],\n",
              "       [0.95724904],\n",
              "       [0.93990079],\n",
              "       [0.92565051],\n",
              "       [0.87732345],\n",
              "       [0.89529117],\n",
              "       [0.91201982],\n",
              "       [0.9262701 ],\n",
              "       [0.91697645],\n",
              "       [0.93680295],\n",
              "       [0.92750929],\n",
              "       [0.94857497],\n",
              "       [0.96902107],\n",
              "       [0.9535316 ]])"
            ]
          },
          "metadata": {
            "tags": []
          },
          "execution_count": 321
        }
      ]
    },
    {
      "cell_type": "code",
      "metadata": {
        "colab": {
          "base_uri": "https://localhost:8080/"
        },
        "id": "ryDBUAM-9WEv",
        "outputId": "3e14ad9e-4c87-4a3a-986c-43a06f96e8aa"
      },
      "source": [
        "#Create the training data set\n",
        "#Create the scaled training data set\n",
        "train_data = scaled_data[0:training_data_len , :]\n",
        "#Split the data into x_train and y_train data sets\n",
        "x_train = []\n",
        "y_train = []\n",
        "\n",
        "for i in range(60, len(train_data)):\n",
        "  x_train.append(train_data[i-60:i, 0])\n",
        "  y_train.append(train_data[i,0])\n",
        "  if i <= 60:\n",
        "    print (x_train)\n",
        "    print (y_train)\n",
        "    print ()"
      ],
      "execution_count": 322,
      "outputs": [
        {
          "output_type": "stream",
          "text": [
            "[array([0.75836434, 0.72614622, 0.74473353, 0.73791825, 0.7670384 ,\n",
            "       0.77261462, 0.78252787, 0.80916977, 0.77695165, 0.7800495 ,\n",
            "       0.79491937, 0.81722424, 0.80235437, 0.79491937, 0.7800495 ,\n",
            "       0.77323422, 0.72552663, 0.74845097, 0.75464678, 0.7335811 ,\n",
            "       0.69516729, 0.69516729, 0.72304826, 0.74845097, 0.72614622,\n",
            "       0.69516729, 0.68649311, 0.71003716, 0.73667906, 0.71437419,\n",
            "       0.70693932, 0.69826513, 0.7211896 , 0.70693932, 0.70693932,\n",
            "       0.63382901, 0.60904577, 0.6084263 , 0.55762075, 0.4950434 ,\n",
            "       0.51796775, 0.49256503, 0.5346964 , 0.47211894, 0.448575  ,\n",
            "       0.22800491, 0.33890955, 0.26022303, 0.13258986, 0.24535316,\n",
            "       0.09975215, 0.14807932, 0.        , 0.11524161, 0.08798018,\n",
            "       0.11214371, 0.19206935, 0.21499382, 0.23853775, 0.17657989])]\n",
            "[0.180297443567919]\n",
            "\n"
          ],
          "name": "stdout"
        }
      ]
    },
    {
      "cell_type": "code",
      "metadata": {
        "colab": {
          "base_uri": "https://localhost:8080/"
        },
        "id": "dmJfr5Rh-me3",
        "outputId": "c6b324b7-dab3-4742-9e99-58cb465f04df"
      },
      "source": [
        "#Convert the x_train and y_train to numpy arrays\n",
        "x_train, y_train = np.array(x_train), np.array(y_train)\n",
        "\n",
        "#Reshape the data\n",
        "x_train = np.reshape(x_train, (x_train.shape[0], x_train.shape[1], 1))\n",
        "x_train.shape\n"
      ],
      "execution_count": 323,
      "outputs": [
        {
          "output_type": "execute_result",
          "data": {
            "text/plain": [
              "(259, 60, 1)"
            ]
          },
          "metadata": {
            "tags": []
          },
          "execution_count": 323
        }
      ]
    },
    {
      "cell_type": "code",
      "metadata": {
        "id": "asLm_vfh_s7Y"
      },
      "source": [
        "#Build the LSTM model\n",
        "model = Sequential()\n",
        "model.add(LSTM(50, return_sequences=True, input_shape=(x_train.shape[1], 1)))\n",
        "model.add(LSTM(50, return_sequences= False))\n",
        "model.add(Dense(25))\n",
        "model.add(Dense(1))\n",
        "\n"
      ],
      "execution_count": 324,
      "outputs": []
    },
    {
      "cell_type": "code",
      "metadata": {
        "id": "t2HR6Nd_CnK7"
      },
      "source": [
        "#Compile the model\n",
        "model.compile(optimizer = 'adam', loss = 'mean_squared_error')"
      ],
      "execution_count": 325,
      "outputs": []
    },
    {
      "cell_type": "code",
      "metadata": {
        "id": "9oWMWd78DgoF"
      },
      "source": [
        ""
      ],
      "execution_count": null,
      "outputs": []
    },
    {
      "cell_type": "code",
      "metadata": {
        "colab": {
          "base_uri": "https://localhost:8080/"
        },
        "id": "26KDGTykD8p2",
        "outputId": "a97ee405-2dc5-44b0-e4cf-ff9489290f71"
      },
      "source": [
        "#train the model\n",
        "model.fit(x_train, y_train, batch_size=1, epochs=1)"
      ],
      "execution_count": 326,
      "outputs": [
        {
          "output_type": "stream",
          "text": [
            "259/259 [==============================] - 12s 35ms/step - loss: 0.0296\n"
          ],
          "name": "stdout"
        },
        {
          "output_type": "execute_result",
          "data": {
            "text/plain": [
              "<keras.callbacks.History at 0x7faf7600c890>"
            ]
          },
          "metadata": {
            "tags": []
          },
          "execution_count": 326
        }
      ]
    },
    {
      "cell_type": "code",
      "metadata": {
        "id": "ftOrs7HgEdBX"
      },
      "source": [
        "#Create the testing data set\n",
        "#Create a new array containing scaled values from index 1543 to 2003\n",
        "test_data = scaled_data[training_data_len - 60: , :]\n",
        "#Create the data sets x_test and y_test\n",
        "x_test = []\n",
        "y_test = dataset[training_data_len:, :]\n",
        "for i in range(60, len(test_data)):\n",
        "  x_test.append(test_data[i-60:i,0])"
      ],
      "execution_count": 327,
      "outputs": []
    },
    {
      "cell_type": "code",
      "metadata": {
        "id": "4gRIhRssFQx2"
      },
      "source": [
        "#Convert the data to a numpy array\n",
        "x_test = np.array(x_test)\n",
        "\n"
      ],
      "execution_count": 328,
      "outputs": []
    },
    {
      "cell_type": "code",
      "metadata": {
        "id": "6GXuXBDkFk0-"
      },
      "source": [
        "#Reshape the data\n",
        "x_test = np.reshape(x_test, (x_test.shape[0], x_test.shape[1],1))\n",
        "\n",
        "#Get the models predicted price values\n",
        "predictions = model.predict(x_test)\n",
        "predictions = scaler.inverse_transform(predictions)\n"
      ],
      "execution_count": 329,
      "outputs": []
    },
    {
      "cell_type": "code",
      "metadata": {
        "colab": {
          "base_uri": "https://localhost:8080/"
        },
        "id": "R_bqn0kwGHWu",
        "outputId": "277e0365-06fd-4eeb-a117-2157d5f21f04"
      },
      "source": [
        "#Get the root mean squared error (RMSE)\n",
        "rmse = np.sqrt( np.mean(predictions - y_test)**2)\n",
        "rmse"
      ],
      "execution_count": 330,
      "outputs": [
        {
          "output_type": "execute_result",
          "data": {
            "text/plain": [
              "0.6402683258056641"
            ]
          },
          "metadata": {
            "tags": []
          },
          "execution_count": 330
        }
      ]
    },
    {
      "cell_type": "code",
      "metadata": {
        "colab": {
          "base_uri": "https://localhost:8080/",
          "height": 827
        },
        "id": "H3fHhAOjGr-y",
        "outputId": "07a3c842-9689-4297-c48e-2f795c956158"
      },
      "source": [
        "#Plot the data\n",
        "train = data[:training_data_len]\n",
        "valid = data[training_data_len:]\n",
        "valid['Predictions'] = predictions\n",
        "#Visualise the data\n",
        "plt.figure(figsize=(16,8))\n",
        "plt.title('Model')\n",
        "plt.xlabel('Date',fontsize=18)\n",
        "plt.ylabel('Close Price USD ($)', fontsize=18)\n",
        "plt.plot(train['Close'])\n",
        "plt.plot(valid[['Close','Predictions']])\n",
        "plt.legend(['Train', 'Val', 'Predictions'], loc='lower right')\n",
        "plt.show()\n"
      ],
      "execution_count": 331,
      "outputs": [
        {
          "output_type": "stream",
          "text": [
            "/usr/local/lib/python3.7/dist-packages/ipykernel_launcher.py:4: SettingWithCopyWarning: \n",
            "A value is trying to be set on a copy of a slice from a DataFrame.\n",
            "Try using .loc[row_indexer,col_indexer] = value instead\n",
            "\n",
            "See the caveats in the documentation: https://pandas.pydata.org/pandas-docs/stable/user_guide/indexing.html#returning-a-view-versus-a-copy\n",
            "  after removing the cwd from sys.path.\n"
          ],
          "name": "stderr"
        },
        {
          "output_type": "display_data",
          "data": {
            "image/png": "[encoded data removed]",
            "text/plain": [
              "<Figure size 1600x800 with 1 Axes>"
            ]
          },
          "metadata": {
            "tags": []
          }
        }
      ]
    },
    {
      "cell_type": "code",
      "metadata": {
        "colab": {
          "base_uri": "https://localhost:8080/",
          "height": 450
        },
        "id": "8MziIYyZKV8k",
        "outputId": "f48fce2d-684f-46e7-aff9-081417afb5db"
      },
      "source": [
        "#show the valid and predicted return\n",
        "valid"
      ],
      "execution_count": 332,
      "outputs": [
        {
          "output_type": "execute_result",
          "data": {
            "text/html": [
              "<div>\n",
              "<style scoped>\n",
              "    .dataframe tbody tr th:only-of-type {\n",
              "        vertical-align: middle;\n",
              "    }\n",
              "\n",
              "    .dataframe tbody tr th {\n",
              "        vertical-align: top;\n",
              "    }\n",
              "\n",
              "    .dataframe thead th {\n",
              "        text-align: right;\n",
              "    }\n",
              "</style>\n",
              "<table border=\"1\" class=\"dataframe\">\n",
              "  <thead>\n",
              "    <tr style=\"text-align: right;\">\n",
              "      <th></th>\n",
              "      <th>Close</th>\n",
              "      <th>Predictions</th>\n",
              "    </tr>\n",
              "    <tr>\n",
              "      <th>Date</th>\n",
              "      <th></th>\n",
              "      <th></th>\n",
              "    </tr>\n",
              "  </thead>\n",
              "  <tbody>\n",
              "    <tr>\n",
              "      <th>2021-04-09</th>\n",
              "      <td>25.000000</td>\n",
              "      <td>26.588886</td>\n",
              "    </tr>\n",
              "    <tr>\n",
              "      <th>2021-04-12</th>\n",
              "      <td>25.250000</td>\n",
              "      <td>26.545708</td>\n",
              "    </tr>\n",
              "    <tr>\n",
              "      <th>2021-04-13</th>\n",
              "      <td>25.799999</td>\n",
              "      <td>26.509750</td>\n",
              "    </tr>\n",
              "    <tr>\n",
              "      <th>2021-04-14</th>\n",
              "      <td>25.930000</td>\n",
              "      <td>26.502472</td>\n",
              "    </tr>\n",
              "    <tr>\n",
              "      <th>2021-04-15</th>\n",
              "      <td>25.820000</td>\n",
              "      <td>26.519329</td>\n",
              "    </tr>\n",
              "    <tr>\n",
              "      <th>...</th>\n",
              "      <td>...</td>\n",
              "      <td>...</td>\n",
              "    </tr>\n",
              "    <tr>\n",
              "      <th>2021-07-26</th>\n",
              "      <td>28.500000</td>\n",
              "      <td>29.305115</td>\n",
              "    </tr>\n",
              "    <tr>\n",
              "      <th>2021-07-27</th>\n",
              "      <td>28.350000</td>\n",
              "      <td>29.268808</td>\n",
              "    </tr>\n",
              "    <tr>\n",
              "      <th>2021-07-28</th>\n",
              "      <td>28.690001</td>\n",
              "      <td>29.241753</td>\n",
              "    </tr>\n",
              "    <tr>\n",
              "      <th>2021-07-29</th>\n",
              "      <td>29.020000</td>\n",
              "      <td>29.236774</td>\n",
              "    </tr>\n",
              "    <tr>\n",
              "      <th>2021-07-30</th>\n",
              "      <td>28.770000</td>\n",
              "      <td>29.259438</td>\n",
              "    </tr>\n",
              "  </tbody>\n",
              "</table>\n",
              "<p>79 rows × 2 columns</p>\n",
              "</div>"
            ],
            "text/plain": [
              "                Close  Predictions\n",
              "Date                              \n",
              "2021-04-09  25.000000    26.588886\n",
              "2021-04-12  25.250000    26.545708\n",
              "2021-04-13  25.799999    26.509750\n",
              "2021-04-14  25.930000    26.502472\n",
              "2021-04-15  25.820000    26.519329\n",
              "...               ...          ...\n",
              "2021-07-26  28.500000    29.305115\n",
              "2021-07-27  28.350000    29.268808\n",
              "2021-07-28  28.690001    29.241753\n",
              "2021-07-29  29.020000    29.236774\n",
              "2021-07-30  28.770000    29.259438\n",
              "\n",
              "[79 rows x 2 columns]"
            ]
          },
          "metadata": {
            "tags": []
          },
          "execution_count": 332
        }
      ]
    },
    {
      "cell_type": "code",
      "metadata": {
        "colab": {
          "base_uri": "https://localhost:8080/"
        },
        "id": "1_Z2x6IdK0eM",
        "outputId": "0f68bed3-6e8c-4929-f8b9-0b0800dc1e56"
      },
      "source": [
        "#get the quote\n",
        "apple_quote = yf.download('RSX', start=start_date, end=end_date)\n",
        "#Create a new dataframe\n",
        "new_data = apple_quote.filter(['Close'])\n",
        "#Get the last 60 day closing price values and convert the dataframe to an array\n",
        "last_60_days = new_data[-60:].values\n",
        "last_60_days_scaled = scaler.transform(last_60_days)\n",
        "#Create an empty list\n",
        "X_test = []\n",
        "#Append the past 60 days\n",
        "X_test.append(last_60_days_scaled)\n",
        "#Convert the X_test data set to a numpy array\n",
        "X_test = np.array(X_test)\n",
        "#Reshape the data\n",
        "X_test = np.reshape(X_test, (X_test.shape[0], X_test.shape[1],1))\n",
        "#Get the predicted scaled price\n",
        "pred_price = model.predict(X_test)\n",
        "#undo the scaling\n",
        "pred_price = scaler.inverse_transform(pred_price)\n",
        "print(pred_price)\n"
      ],
      "execution_count": 333,
      "outputs": [
        {
          "output_type": "stream",
          "text": [
            "\r[*********************100%***********************]  1 of 1 completed\n",
            "[[29.288681]]\n"
          ],
          "name": "stdout"
        }
      ]
    }
  ]
}