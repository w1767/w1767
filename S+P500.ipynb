{
  "nbformat": 4,
  "nbformat_minor": 0,
  "metadata": {
    "colab": {
      "name": "Untitled0.ipynb",
      "provenance": [],
      "authorship_tag": "ABX9TyOlhyOOHrVzWPDTEKXKkD7X",
      "include_colab_link": true
    },
    "kernelspec": {
      "name": "python3",
      "display_name": "Python 3"
    },
    "language_info": {
      "name": "python"
    }
  },
  "cells": [
    {
      "cell_type": "markdown",
      "metadata": {
        "id": "view-in-github",
        "colab_type": "text"
      },
      "source": [
        "<a href=\"https://colab.research.google.com/github/w1767/w1767/blob/main/S%2BP500.ipynb\" target=\"_parent\"><img src=\"https://colab.research.google.com/assets/colab-badge.svg\" alt=\"Open In Colab\"/></a>"
      ]
    },
    {
      "cell_type": "code",
      "metadata": {
        "id": "jF-rA78EBttL"
      },
      "source": [
        "# Description: this program uses an aritificial recurrent neural network called Long Short Term Memory (LSTM) to predict\n",
        "# the closing stock price of a corporation (S+P500.) using the past 60 day stock price. "
      ],
      "execution_count": 124,
      "outputs": []
    },
    {
      "cell_type": "code",
      "metadata": {
        "id": "wpTDFiYaHooV"
      },
      "source": [
        ""
      ],
      "execution_count": null,
      "outputs": []
    },
    {
      "cell_type": "code",
      "metadata": {
        "id": "4t9te_ZzCKmA",
        "colab": {
          "base_uri": "https://localhost:8080/"
        },
        "outputId": "cb3a6b77-bab1-4278-fb39-72414b9e0416"
      },
      "source": [
        "# Import the libraries\n",
        "!pip install pandas_datareader\n",
        "!pip install yfinance\n",
        "!pip install mplfinance\n",
        "import os\n",
        "import argparse\n",
        "import signal\n",
        "import yfinance as yf\n",
        "import pickle\n",
        "import mplfinance as mpf\n",
        "import math\n",
        "import pandas_datareader.data as web\n",
        "from datetime import datetime, timedelta\n",
        "import numpy as np\n",
        "import pandas as pd\n",
        "from sklearn.preprocessing import MinMaxScaler\n",
        "from keras.models import Sequential\n",
        "from keras.layers import Dense, LSTM\n",
        "#from yfinance import stock_info\n",
        "from dateutil.parser import parse\n",
        "from urllib.request import urlopen, Request\n",
        "from bs4 import BeautifulSoup\n",
        "import matplotlib.pyplot as plt\n",
        "plt.style.use('fivethirtyeight')\n",
        "start_date = datetime(2020, 1,1)\n",
        "end_date = datetime(2021, 8, 2)\n"
      ],
      "execution_count": 145,
      "outputs": [
        {
          "output_type": "stream",
          "text": [
            "Requirement already satisfied: pandas_datareader in /usr/local/lib/python3.7/dist-packages (0.9.0)\n",
            "Requirement already satisfied: lxml in /usr/local/lib/python3.7/dist-packages (from pandas_datareader) (4.6.3)\n",
            "Requirement already satisfied: requests>=2.19.0 in /usr/local/lib/python3.7/dist-packages (from pandas_datareader) (2.23.0)\n",
            "Requirement already satisfied: pandas>=0.23 in /usr/local/lib/python3.7/dist-packages (from pandas_datareader) (1.1.5)\n",
            "Requirement already satisfied: pytz>=2017.2 in /usr/local/lib/python3.7/dist-packages (from pandas>=0.23->pandas_datareader) (2018.9)\n",
            "Requirement already satisfied: python-dateutil>=2.7.3 in /usr/local/lib/python3.7/dist-packages (from pandas>=0.23->pandas_datareader) (2.8.1)\n",
            "Requirement already satisfied: numpy>=1.15.4 in /usr/local/lib/python3.7/dist-packages (from pandas>=0.23->pandas_datareader) (1.19.5)\n",
            "Requirement already satisfied: six>=1.5 in /usr/local/lib/python3.7/dist-packages (from python-dateutil>=2.7.3->pandas>=0.23->pandas_datareader) (1.15.0)\n",
            "Requirement already satisfied: urllib3!=1.25.0,!=1.25.1,<1.26,>=1.21.1 in /usr/local/lib/python3.7/dist-packages (from requests>=2.19.0->pandas_datareader) (1.24.3)\n",
            "Requirement already satisfied: certifi>=2017.4.17 in /usr/local/lib/python3.7/dist-packages (from requests>=2.19.0->pandas_datareader) (2021.5.30)\n",
            "Requirement already satisfied: chardet<4,>=3.0.2 in /usr/local/lib/python3.7/dist-packages (from requests>=2.19.0->pandas_datareader) (3.0.4)\n",
            "Requirement already satisfied: idna<3,>=2.5 in /usr/local/lib/python3.7/dist-packages (from requests>=2.19.0->pandas_datareader) (2.10)\n",
            "Requirement already satisfied: yfinance in /usr/local/lib/python3.7/dist-packages (0.1.63)\n",
            "Requirement already satisfied: multitasking>=0.0.7 in /usr/local/lib/python3.7/dist-packages (from yfinance) (0.0.9)\n",
            "Requirement already satisfied: numpy>=1.15 in /usr/local/lib/python3.7/dist-packages (from yfinance) (1.19.5)\n",
            "Requirement already satisfied: lxml>=4.5.1 in /usr/local/lib/python3.7/dist-packages (from yfinance) (4.6.3)\n",
            "Requirement already satisfied: pandas>=0.24 in /usr/local/lib/python3.7/dist-packages (from yfinance) (1.1.5)\n",
            "Requirement already satisfied: requests>=2.20 in /usr/local/lib/python3.7/dist-packages (from yfinance) (2.23.0)\n",
            "Requirement already satisfied: pytz>=2017.2 in /usr/local/lib/python3.7/dist-packages (from pandas>=0.24->yfinance) (2018.9)\n",
            "Requirement already satisfied: python-dateutil>=2.7.3 in /usr/local/lib/python3.7/dist-packages (from pandas>=0.24->yfinance) (2.8.1)\n",
            "Requirement already satisfied: six>=1.5 in /usr/local/lib/python3.7/dist-packages (from python-dateutil>=2.7.3->pandas>=0.24->yfinance) (1.15.0)\n",
            "Requirement already satisfied: chardet<4,>=3.0.2 in /usr/local/lib/python3.7/dist-packages (from requests>=2.20->yfinance) (3.0.4)\n",
            "Requirement already satisfied: certifi>=2017.4.17 in /usr/local/lib/python3.7/dist-packages (from requests>=2.20->yfinance) (2021.5.30)\n",
            "Requirement already satisfied: idna<3,>=2.5 in /usr/local/lib/python3.7/dist-packages (from requests>=2.20->yfinance) (2.10)\n",
            "Requirement already satisfied: urllib3!=1.25.0,!=1.25.1,<1.26,>=1.21.1 in /usr/local/lib/python3.7/dist-packages (from requests>=2.20->yfinance) (1.24.3)\n",
            "Requirement already satisfied: mplfinance in /usr/local/lib/python3.7/dist-packages (0.12.7a17)\n",
            "Requirement already satisfied: pandas in /usr/local/lib/python3.7/dist-packages (from mplfinance) (1.1.5)\n",
            "Requirement already satisfied: matplotlib in /usr/local/lib/python3.7/dist-packages (from mplfinance) (3.2.2)\n",
            "Requirement already satisfied: pyparsing!=2.0.4,!=2.1.2,!=2.1.6,>=2.0.1 in /usr/local/lib/python3.7/dist-packages (from matplotlib->mplfinance) (2.4.7)\n",
            "Requirement already satisfied: cycler>=0.10 in /usr/local/lib/python3.7/dist-packages (from matplotlib->mplfinance) (0.10.0)\n",
            "Requirement already satisfied: kiwisolver>=1.0.1 in /usr/local/lib/python3.7/dist-packages (from matplotlib->mplfinance) (1.3.1)\n",
            "Requirement already satisfied: python-dateutil>=2.1 in /usr/local/lib/python3.7/dist-packages (from matplotlib->mplfinance) (2.8.1)\n",
            "Requirement already satisfied: numpy>=1.11 in /usr/local/lib/python3.7/dist-packages (from matplotlib->mplfinance) (1.19.5)\n",
            "Requirement already satisfied: six in /usr/local/lib/python3.7/dist-packages (from cycler>=0.10->matplotlib->mplfinance) (1.15.0)\n",
            "Requirement already satisfied: pytz>=2017.2 in /usr/local/lib/python3.7/dist-packages (from pandas->mplfinance) (2018.9)\n"
          ],
          "name": "stdout"
        }
      ]
    },
    {
      "cell_type": "code",
      "metadata": {
        "colab": {
          "base_uri": "https://localhost:8080/",
          "height": 467
        },
        "id": "Tkat1PpYDTgp",
        "outputId": "50e5c933-b8b4-467a-d392-79d4d51b61e0"
      },
      "source": [
        "#Get the stock quote\n",
        "data = yf.download('^GSPC', start=start_date, end=end_date)\n",
        "#df = web.DataReader('^GSPC', data_source='yahoo',start='2012-01',end='2019-12-17')\n",
        "#show the data\n",
        "data.head(391)"
      ],
      "execution_count": 146,
      "outputs": [
        {
          "output_type": "stream",
          "text": [
            "\r[*********************100%***********************]  1 of 1 completed\n"
          ],
          "name": "stdout"
        },
        {
          "output_type": "execute_result",
          "data": {
            "text/html": [
              "<div>\n",
              "<style scoped>\n",
              "    .dataframe tbody tr th:only-of-type {\n",
              "        vertical-align: middle;\n",
              "    }\n",
              "\n",
              "    .dataframe tbody tr th {\n",
              "        vertical-align: top;\n",
              "    }\n",
              "\n",
              "    .dataframe thead th {\n",
              "        text-align: right;\n",
              "    }\n",
              "</style>\n",
              "<table border=\"1\" class=\"dataframe\">\n",
              "  <thead>\n",
              "    <tr style=\"text-align: right;\">\n",
              "      <th></th>\n",
              "      <th>Open</th>\n",
              "      <th>High</th>\n",
              "      <th>Low</th>\n",
              "      <th>Close</th>\n",
              "      <th>Adj Close</th>\n",
              "      <th>Volume</th>\n",
              "    </tr>\n",
              "    <tr>\n",
              "      <th>Date</th>\n",
              "      <th></th>\n",
              "      <th></th>\n",
              "      <th></th>\n",
              "      <th></th>\n",
              "      <th></th>\n",
              "      <th></th>\n",
              "    </tr>\n",
              "  </thead>\n",
              "  <tbody>\n",
              "    <tr>\n",
              "      <th>2020-01-02</th>\n",
              "      <td>3244.669922</td>\n",
              "      <td>3258.139893</td>\n",
              "      <td>3235.530029</td>\n",
              "      <td>3257.850098</td>\n",
              "      <td>3257.850098</td>\n",
              "      <td>3458250000</td>\n",
              "    </tr>\n",
              "    <tr>\n",
              "      <th>2020-01-03</th>\n",
              "      <td>3226.360107</td>\n",
              "      <td>3246.149902</td>\n",
              "      <td>3222.340088</td>\n",
              "      <td>3234.850098</td>\n",
              "      <td>3234.850098</td>\n",
              "      <td>3461290000</td>\n",
              "    </tr>\n",
              "    <tr>\n",
              "      <th>2020-01-06</th>\n",
              "      <td>3217.550049</td>\n",
              "      <td>3246.840088</td>\n",
              "      <td>3214.639893</td>\n",
              "      <td>3246.280029</td>\n",
              "      <td>3246.280029</td>\n",
              "      <td>3674070000</td>\n",
              "    </tr>\n",
              "    <tr>\n",
              "      <th>2020-01-07</th>\n",
              "      <td>3241.860107</td>\n",
              "      <td>3244.909912</td>\n",
              "      <td>3232.429932</td>\n",
              "      <td>3237.179932</td>\n",
              "      <td>3237.179932</td>\n",
              "      <td>3420380000</td>\n",
              "    </tr>\n",
              "    <tr>\n",
              "      <th>2020-01-08</th>\n",
              "      <td>3238.590088</td>\n",
              "      <td>3267.070068</td>\n",
              "      <td>3236.669922</td>\n",
              "      <td>3253.050049</td>\n",
              "      <td>3253.050049</td>\n",
              "      <td>3720890000</td>\n",
              "    </tr>\n",
              "    <tr>\n",
              "      <th>...</th>\n",
              "      <td>...</td>\n",
              "      <td>...</td>\n",
              "      <td>...</td>\n",
              "      <td>...</td>\n",
              "      <td>...</td>\n",
              "      <td>...</td>\n",
              "    </tr>\n",
              "    <tr>\n",
              "      <th>2021-07-15</th>\n",
              "      <td>4369.020020</td>\n",
              "      <td>4369.020020</td>\n",
              "      <td>4340.700195</td>\n",
              "      <td>4360.029785</td>\n",
              "      <td>4360.029785</td>\n",
              "      <td>3226930000</td>\n",
              "    </tr>\n",
              "    <tr>\n",
              "      <th>2021-07-16</th>\n",
              "      <td>4367.430176</td>\n",
              "      <td>4375.089844</td>\n",
              "      <td>4322.529785</td>\n",
              "      <td>4327.160156</td>\n",
              "      <td>4327.160156</td>\n",
              "      <td>3165160000</td>\n",
              "    </tr>\n",
              "    <tr>\n",
              "      <th>2021-07-19</th>\n",
              "      <td>4296.399902</td>\n",
              "      <td>4296.399902</td>\n",
              "      <td>4233.129883</td>\n",
              "      <td>4258.490234</td>\n",
              "      <td>4258.490234</td>\n",
              "      <td>4155790000</td>\n",
              "    </tr>\n",
              "    <tr>\n",
              "      <th>2021-07-20</th>\n",
              "      <td>4265.109863</td>\n",
              "      <td>4336.839844</td>\n",
              "      <td>4262.049805</td>\n",
              "      <td>4323.060059</td>\n",
              "      <td>4323.060059</td>\n",
              "      <td>3634190000</td>\n",
              "    </tr>\n",
              "    <tr>\n",
              "      <th>2021-07-21</th>\n",
              "      <td>4331.129883</td>\n",
              "      <td>4359.700195</td>\n",
              "      <td>4331.129883</td>\n",
              "      <td>4358.689941</td>\n",
              "      <td>4358.689941</td>\n",
              "      <td>3078550000</td>\n",
              "    </tr>\n",
              "  </tbody>\n",
              "</table>\n",
              "<p>391 rows × 6 columns</p>\n",
              "</div>"
            ],
            "text/plain": [
              "                   Open         High  ...    Adj Close      Volume\n",
              "Date                                  ...                         \n",
              "2020-01-02  3244.669922  3258.139893  ...  3257.850098  3458250000\n",
              "2020-01-03  3226.360107  3246.149902  ...  3234.850098  3461290000\n",
              "2020-01-06  3217.550049  3246.840088  ...  3246.280029  3674070000\n",
              "2020-01-07  3241.860107  3244.909912  ...  3237.179932  3420380000\n",
              "2020-01-08  3238.590088  3267.070068  ...  3253.050049  3720890000\n",
              "...                 ...          ...  ...          ...         ...\n",
              "2021-07-15  4369.020020  4369.020020  ...  4360.029785  3226930000\n",
              "2021-07-16  4367.430176  4375.089844  ...  4327.160156  3165160000\n",
              "2021-07-19  4296.399902  4296.399902  ...  4258.490234  4155790000\n",
              "2021-07-20  4265.109863  4336.839844  ...  4323.060059  3634190000\n",
              "2021-07-21  4331.129883  4359.700195  ...  4358.689941  3078550000\n",
              "\n",
              "[391 rows x 6 columns]"
            ]
          },
          "metadata": {
            "tags": []
          },
          "execution_count": 146
        }
      ]
    },
    {
      "cell_type": "code",
      "metadata": {
        "id": "iINONBjJCmEs"
      },
      "source": [
        ""
      ],
      "execution_count": null,
      "outputs": []
    },
    {
      "cell_type": "code",
      "metadata": {
        "colab": {
          "base_uri": "https://localhost:8080/"
        },
        "id": "-1NflEs4D4Bv",
        "outputId": "6df1f117-9d23-4d52-ff7d-ddaa0c04bf3e"
      },
      "source": [
        "#Get the number of rows and columns in the data set\n",
        "data.shape\n",
        "\n"
      ],
      "execution_count": 147,
      "outputs": [
        {
          "output_type": "execute_result",
          "data": {
            "text/plain": [
              "(398, 6)"
            ]
          },
          "metadata": {
            "tags": []
          },
          "execution_count": 147
        }
      ]
    },
    {
      "cell_type": "code",
      "metadata": {
        "colab": {
          "base_uri": "https://localhost:8080/",
          "height": 524
        },
        "id": "nASYYE3wEFyH",
        "outputId": "920bbd8d-35dd-4ff6-fbba-43c5a4fc62a2"
      },
      "source": [
        "mpf.plot(data, type='candle', mav= (3,6,9), volume=True, show_nontrading=True)\n",
        "#Visualize the closing price history\n",
        "#plt.figure(figsize=(16,8))\n",
        "#plt.title('Close Price History')\n",
        "#plt.plot(df['Close'])\n",
        "#plt.xlabel('Date',fontsize=18)\n",
        "#plt.ylabel('Close Price USD($)',fontsize=18)\n",
        "#plt.show()"
      ],
      "execution_count": 148,
      "outputs": [
        {
          "output_type": "display_data",
          "data": {
            "image/png": "[encoded data removed]",
            "text/plain": [
              "<Figure size 800x575 with 4 Axes>"
            ]
          },
          "metadata": {
            "tags": []
          }
        }
      ]
    },
    {
      "cell_type": "code",
      "metadata": {
        "id": "5u3vU4T5HqUi"
      },
      "source": [
        ""
      ],
      "execution_count": null,
      "outputs": []
    },
    {
      "cell_type": "code",
      "metadata": {
        "colab": {
          "base_uri": "https://localhost:8080/"
        },
        "id": "LhjmcNHG7Tbm",
        "outputId": "f368f8b1-aea4-42ab-f1bc-99887817c9f3"
      },
      "source": [
        "#Create a new dataframe with only the 'Close column'\n",
        "data = data.filter(['Close'])\n",
        "#Convert the dataframe to a numpy array\n",
        "dataset = data.values\n",
        "#Get the number of rows to train the model on \n",
        "training_data_len = math.ceil(len(dataset) * .8)\n",
        "\n",
        "training_data_len"
      ],
      "execution_count": 149,
      "outputs": [
        {
          "output_type": "execute_result",
          "data": {
            "text/plain": [
              "319"
            ]
          },
          "metadata": {
            "tags": []
          },
          "execution_count": 149
        }
      ]
    },
    {
      "cell_type": "code",
      "metadata": {
        "colab": {
          "base_uri": "https://localhost:8080/"
        },
        "id": "7KFZs2c38gaO",
        "outputId": "31819d07-1dc4-4f9a-9833-6026d1379101"
      },
      "source": [
        "#Scale the data\n",
        "scaler = MinMaxScaler(feature_range=(0,1))\n",
        "scaled_data = scaler.fit_transform(dataset)\n",
        "scaled_data\n",
        "\n"
      ],
      "execution_count": 151,
      "outputs": [
        {
          "output_type": "execute_result",
          "data": {
            "text/plain": [
              "array([[0.46704666],\n",
              "       [0.45651986],\n",
              "       [0.46175119],\n",
              "       [0.45758619],\n",
              "       [0.46484974],\n",
              "       [0.47475861],\n",
              "       [0.47047931],\n",
              "       [0.48090532],\n",
              "       [0.47862605],\n",
              "       [0.48143631],\n",
              "       [0.49403186],\n",
              "       [0.49989485],\n",
              "       [0.49585344],\n",
              "       [0.4962928 ],\n",
              "       [0.49802745],\n",
              "       [0.48426478],\n",
              "       [0.46053825],\n",
              "       [0.47546347],\n",
              "       [0.4741636 ],\n",
              "       [0.47885947],\n",
              "       [0.4522496 ],\n",
              "       [0.46295943],\n",
              "       [0.48523513],\n",
              "       [0.50221524],\n",
              "       [0.50729103],\n",
              "       [0.4990206 ],\n",
              "       [0.51017906],\n",
              "       [0.51276953],\n",
              "       [0.52270131],\n",
              "       [0.52017945],\n",
              "       [0.52302625],\n",
              "       [0.51850894],\n",
              "       [0.52576779],\n",
              "       [0.51985451],\n",
              "       [0.50361579],\n",
              "       [0.45241889],\n",
              "       [0.40771207],\n",
              "       [0.40230218],\n",
              "       [0.33931079],\n",
              "       [0.32807913],\n",
              "       [0.39032913],\n",
              "       [0.35057451],\n",
              "       [0.40858632],\n",
              "       [0.35998905],\n",
              "       [0.33638622],\n",
              "       [0.23303592],\n",
              "       [0.29513026],\n",
              "       [0.23066502],\n",
              "       [0.11132775],\n",
              "       [0.21676971],\n",
              "       [0.06807176],\n",
              "       [0.13354847],\n",
              "       [0.07355037],\n",
              "       [0.07871756],\n",
              "       [0.03090303],\n",
              "       [0.        ],\n",
              "       [0.09608229],\n",
              "       [0.10900278],\n",
              "       [0.17971998],\n",
              "       [0.13916888],\n",
              "       [0.17815461],\n",
              "       [0.15890439],\n",
              "       [0.10668685],\n",
              "       [0.13250035],\n",
              "       [0.11499383],\n",
              "       [0.19510277],\n",
              "       [0.19314844],\n",
              "       [0.23460117],\n",
              "       [0.25283546],\n",
              "       [0.23993318],\n",
              "       [0.27857576],\n",
              "       [0.24987882],\n",
              "       [0.25728874],\n",
              "       [0.29161984],\n",
              "       [0.26809467],\n",
              "       [0.22845905],\n",
              "       [0.2571789 ],\n",
              "       [0.25648779],\n",
              "       [0.27431009],\n",
              "       [0.29341394],\n",
              "       [0.2865074 ],\n",
              "       [0.32134658],\n",
              "       [0.30895238],\n",
              "       [0.27155022],\n",
              "       [0.27705621],\n",
              "       [0.28881874],\n",
              "       [0.27965584],\n",
              "       [0.29465425],\n",
              "       [0.31690246],\n",
              "       [0.31708091],\n",
              "       [0.28958774],\n",
              "       [0.26664842],\n",
              "       [0.28152324],\n",
              "       [0.28664931],\n",
              "       [0.32793722],\n",
              "       [0.31376268],\n",
              "       [0.33603837],\n",
              "       [0.32546576],\n",
              "       [0.32864208],\n",
              "       [0.3452653 ],\n",
              "       [0.36556823],\n",
              "       [0.36263907],\n",
              "       [0.36931218],\n",
              "       [0.37453893],\n",
              "       [0.38602234],\n",
              "       [0.40526809],\n",
              "       [0.40045322],\n",
              "       [0.43779124],\n",
              "       [0.45539386],\n",
              "       [0.44385559],\n",
              "       [0.43605659],\n",
              "       [0.34999324],\n",
              "       [0.36793912],\n",
              "       [0.37950946],\n",
              "       [0.40612391],\n",
              "       [0.40097493],\n",
              "       [0.4018217 ],\n",
              "       [0.39376636],\n",
              "       [0.40297508],\n",
              "       [0.40912178],\n",
              "       [0.37206747],\n",
              "       [0.38736791],\n",
              "       [0.35317414],\n",
              "       [0.3733993 ],\n",
              "       [0.39493349],\n",
              "       [0.4020597 ],\n",
              "       [0.40853593],\n",
              "       [0.43128752],\n",
              "       [0.41554314],\n",
              "       [0.42681133],\n",
              "       [0.41862336],\n",
              "       [0.43372245],\n",
              "       [0.4200742 ],\n",
              "       [0.43943437],\n",
              "       [0.45272562],\n",
              "       [0.44769564],\n",
              "       [0.45188801],\n",
              "       [0.46429595],\n",
              "       [0.46679491],\n",
              "       [0.47536279],\n",
              "       [0.4568905 ],\n",
              "       [0.44772302],\n",
              "       [0.45860683],\n",
              "       [0.44900915],\n",
              "       [0.46731662],\n",
              "       [0.4617237 ],\n",
              "       [0.47312017],\n",
              "       [0.48387123],\n",
              "       [0.48931766],\n",
              "       [0.49904809],\n",
              "       [0.50883796],\n",
              "       [0.50980831],\n",
              "       [0.51401443],\n",
              "       [0.50175756],\n",
              "       [0.5231133 ],\n",
              "       [0.51994603],\n",
              "       [0.51968065],\n",
              "       [0.52386386],\n",
              "       [0.52742925],\n",
              "       [0.52059602],\n",
              "       [0.52547492],\n",
              "       [0.53080693],\n",
              "       [0.54642326],\n",
              "       [0.55207116],\n",
              "       [0.56814048],\n",
              "       [0.57080425],\n",
              "       [0.58154156],\n",
              "       [0.5780174 ],\n",
              "       [0.5900728 ],\n",
              "       [0.61487494],\n",
              "       [0.55730707],\n",
              "       [0.54444602],\n",
              "       [0.5009109 ],\n",
              "       [0.53163079],\n",
              "       [0.50427484],\n",
              "       [0.50508953],\n",
              "       [0.52457329],\n",
              "       [0.532656  ],\n",
              "       [0.52546576],\n",
              "       [0.51243085],\n",
              "       [0.49524926],\n",
              "       [0.47766955],\n",
              "       [0.49346433],\n",
              "       [0.45746719],\n",
              "       [0.4618931 ],\n",
              "       [0.48563326],\n",
              "       [0.5099548 ],\n",
              "       [0.50257225],\n",
              "       [0.51517239],\n",
              "       [0.52331924],\n",
              "       [0.50849928],\n",
              "       [0.53604295],\n",
              "       [0.51424327],\n",
              "       [0.54100421],\n",
              "       [0.55354031],\n",
              "       [0.56741272],\n",
              "       [0.59353752],\n",
              "       [0.58333566],\n",
              "       [0.57268986],\n",
              "       [0.57025047],\n",
              "       [0.57046556],\n",
              "       [0.5444277 ],\n",
              "       [0.55184231],\n",
              "       [0.54838217],\n",
              "       [0.55658847],\n",
              "       [0.5620349 ],\n",
              "       [0.53255074],\n",
              "       [0.52784113],\n",
              "       [0.47307894],\n",
              "       [0.49096538],\n",
              "       [0.47258918],\n",
              "       [0.49102482],\n",
              "       [0.5179917 ],\n",
              "       [0.55198869],\n",
              "       [0.58265829],\n",
              "       [0.58219603],\n",
              "       [0.60098868],\n",
              "       [0.59871398],\n",
              "       [0.61113098],\n",
              "       [0.59481448],\n",
              "       [0.61684748],\n",
              "       [0.63596049],\n",
              "       [0.62800594],\n",
              "       [0.6089021 ],\n",
              "       [0.61534637],\n",
              "       [0.60421081],\n",
              "       [0.61338745],\n",
              "       [0.63985083],\n",
              "       [0.63721455],\n",
              "       [0.64119651],\n",
              "       [0.63354389],\n",
              "       [0.6522267 ],\n",
              "       [0.65522915],\n",
              "       [0.65418103],\n",
              "       [0.66901015],\n",
              "       [0.66573304],\n",
              "       [0.67044266],\n",
              "       [0.65697296],\n",
              "       [0.6548127 ],\n",
              "       [0.65268897],\n",
              "       [0.64537972],\n",
              "       [0.66695056],\n",
              "       [0.66994832],\n",
              "       [0.67970165],\n",
              "       [0.67371966],\n",
              "       [0.66708778],\n",
              "       [0.66358194],\n",
              "       [0.66484058],\n",
              "       [0.67081341],\n",
              "       [0.68559672],\n",
              "       [0.68178873],\n",
              "       [0.68407717],\n",
              "       [0.6950754 ],\n",
              "       [0.66971031],\n",
              "       [0.68170638],\n",
              "       [0.69144586],\n",
              "       [0.7169162 ],\n",
              "       [0.72647723],\n",
              "       [0.7150031 ],\n",
              "       [0.71572617],\n",
              "       [0.71968523],\n",
              "       [0.71314028],\n",
              "       [0.70064999],\n",
              "       [0.71468263],\n",
              "       [0.73891266],\n",
              "       [0.73947102],\n",
              "       [0.73416181],\n",
              "       [0.74051914],\n",
              "       [0.73789203],\n",
              "       [0.69264963],\n",
              "       [0.70940549],\n",
              "       [0.67593032],\n",
              "       [0.70321766],\n",
              "       [0.72722332],\n",
              "       [0.72898993],\n",
              "       [0.748016  ],\n",
              "       [0.75492254],\n",
              "       [0.76808562],\n",
              "       [0.76609005],\n",
              "       [0.76547213],\n",
              "       [0.76844709],\n",
              "       [0.77689151],\n",
              "       [0.77586629],\n",
              "       [0.7752896 ],\n",
              "       [0.76734411],\n",
              "       [0.7640213 ],\n",
              "       [0.7501946 ],\n",
              "       [0.75242358],\n",
              "       [0.77258918],\n",
              "       [0.72861012],\n",
              "       [0.72028471],\n",
              "       [0.76178326],\n",
              "       [0.74735238],\n",
              "       [0.72420712],\n",
              "       [0.70075067],\n",
              "       [0.73437691],\n",
              "       [0.72495321],\n",
              "       [0.74970942],\n",
              "       [0.76040562],\n",
              "       [0.77895568],\n",
              "       [0.78078643],\n",
              "       [0.79250314],\n",
              "       [0.78965176],\n",
              "       [0.79487404],\n",
              "       [0.76802606],\n",
              "       [0.76694598],\n",
              "       [0.77952779],\n",
              "       [0.76576511],\n",
              "       [0.75597971],\n",
              "       [0.76530742],\n",
              "       [0.79506623],\n",
              "       [0.79348724],\n",
              "       [0.78774783],\n",
              "       [0.79431098],\n",
              "       [0.81581322],\n",
              "       [0.84237727],\n",
              "       [0.84056026],\n",
              "       [0.84331097],\n",
              "       [0.85119232],\n",
              "       [0.8656689 ],\n",
              "       [0.86529837],\n",
              "       [0.87152274],\n",
              "       [0.86377424],\n",
              "       [0.88471788],\n",
              "       [0.89160621],\n",
              "       [0.88144078],\n",
              "       [0.86847916],\n",
              "       [0.88609095],\n",
              "       [0.86849749],\n",
              "       [0.88918033],\n",
              "       [0.89259019],\n",
              "       [0.89217831],\n",
              "       [0.89055809],\n",
              "       [0.90350606],\n",
              "       [0.88963802],\n",
              "       [0.89489695],\n",
              "       [0.88208172],\n",
              "       [0.88342259],\n",
              "       [0.8989978 ],\n",
              "       [0.91317693],\n",
              "       [0.89296094],\n",
              "       [0.87633314],\n",
              "       [0.83557152],\n",
              "       [0.8582087 ],\n",
              "       [0.88628783],\n",
              "       [0.88145463],\n",
              "       [0.86522507],\n",
              "       [0.85966422],\n",
              "       [0.87954611],\n",
              "       [0.87805394],\n",
              "       [0.89690603],\n",
              "       [0.8928235 ],\n",
              "       [0.89642108],\n",
              "       [0.89865901],\n",
              "       [0.90013733],\n",
              "       [0.89919   ],\n",
              "       [0.90197277],\n",
              "       [0.89498388],\n",
              "       [0.91193662],\n",
              "       [0.91039416],\n",
              "       [0.91073273],\n",
              "       [0.90720399],\n",
              "       [0.91618855],\n",
              "       [0.91996894],\n",
              "       [0.92349768],\n",
              "       [0.91957986],\n",
              "       [0.90910357],\n",
              "       [0.90826127],\n",
              "       [0.88290099],\n",
              "       [0.90960237],\n",
              "       [0.91951125],\n",
              "       [0.91740585],\n",
              "       [0.92868801],\n",
              "       [0.93519172],\n",
              "       [0.93972724],\n",
              "       [0.94027186],\n",
              "       [0.94288077],\n",
              "       [0.95315123],\n",
              "       [0.96798024],\n",
              "       [0.96395269],\n",
              "       [0.97063027],\n",
              "       [0.95355395],\n",
              "       [0.97585702],\n",
              "       [0.98275897],\n",
              "       [0.97570148],\n",
              "       [0.97803103],\n",
              "       [0.97149983],\n",
              "       [0.95645583],\n",
              "       [0.92502651],\n",
              "       [0.95457927],\n",
              "       [0.9708866 ],\n",
              "       [0.97490969],\n",
              "       [0.99518982],\n",
              "       [1.        ],\n",
              "       [0.99046188],\n",
              "       [0.99008665],\n",
              "       [0.99855833],\n",
              "       [0.98762413]])"
            ]
          },
          "metadata": {
            "tags": []
          },
          "execution_count": 151
        }
      ]
    },
    {
      "cell_type": "code",
      "metadata": {
        "colab": {
          "base_uri": "https://localhost:8080/"
        },
        "id": "ryDBUAM-9WEv",
        "outputId": "ad74ffda-6f1e-4fda-b508-6761138d6763"
      },
      "source": [
        "#Create the training data set\n",
        "#Create the scaled training data set\n",
        "train_data = scaled_data[0:training_data_len , :]\n",
        "#Split the data into x_train and y_train data sets\n",
        "x_train = []\n",
        "y_train = []\n",
        "\n",
        "for i in range(60, len(train_data)):\n",
        "  x_train.append(train_data[i-60:i, 0])\n",
        "  y_train.append(train_data[i,0])\n",
        "  if i <= 60:\n",
        "    print (x_train)\n",
        "    print (y_train)\n",
        "    print ()"
      ],
      "execution_count": 152,
      "outputs": [
        {
          "output_type": "stream",
          "text": [
            "[array([0.46704666, 0.45651986, 0.46175119, 0.45758619, 0.46484974,\n",
            "       0.47475861, 0.47047931, 0.48090532, 0.47862605, 0.48143631,\n",
            "       0.49403186, 0.49989485, 0.49585344, 0.4962928 , 0.49802745,\n",
            "       0.48426478, 0.46053825, 0.47546347, 0.4741636 , 0.47885947,\n",
            "       0.4522496 , 0.46295943, 0.48523513, 0.50221524, 0.50729103,\n",
            "       0.4990206 , 0.51017906, 0.51276953, 0.52270131, 0.52017945,\n",
            "       0.52302625, 0.51850894, 0.52576779, 0.51985451, 0.50361579,\n",
            "       0.45241889, 0.40771207, 0.40230218, 0.33931079, 0.32807913,\n",
            "       0.39032913, 0.35057451, 0.40858632, 0.35998905, 0.33638622,\n",
            "       0.23303592, 0.29513026, 0.23066502, 0.11132775, 0.21676971,\n",
            "       0.06807176, 0.13354847, 0.07355037, 0.07871756, 0.03090303,\n",
            "       0.        , 0.09608229, 0.10900278, 0.17971998, 0.13916888])]\n",
            "[0.1781546145809474]\n",
            "\n"
          ],
          "name": "stdout"
        }
      ]
    },
    {
      "cell_type": "code",
      "metadata": {
        "colab": {
          "base_uri": "https://localhost:8080/"
        },
        "id": "dmJfr5Rh-me3",
        "outputId": "291cd4c5-1e29-4b79-e80c-55e25c52dae5"
      },
      "source": [
        "#Convert the x_train and y_train to numpy arrays\n",
        "x_train, y_train = np.array(x_train), np.array(y_train)\n",
        "\n",
        "#Reshape the data\n",
        "x_train = np.reshape(x_train, (x_train.shape[0], x_train.shape[1], 1))\n",
        "x_train.shape\n"
      ],
      "execution_count": 153,
      "outputs": [
        {
          "output_type": "execute_result",
          "data": {
            "text/plain": [
              "(259, 60, 1)"
            ]
          },
          "metadata": {
            "tags": []
          },
          "execution_count": 153
        }
      ]
    },
    {
      "cell_type": "code",
      "metadata": {
        "id": "asLm_vfh_s7Y"
      },
      "source": [
        "#Build the LSTM model\n",
        "model = Sequential()\n",
        "model.add(LSTM(50, return_sequences=True, input_shape=(x_train.shape[1], 1)))\n",
        "model.add(LSTM(50, return_sequences= False))\n",
        "model.add(Dense(25))\n",
        "model.add(Dense(1))\n",
        "\n"
      ],
      "execution_count": 154,
      "outputs": []
    },
    {
      "cell_type": "code",
      "metadata": {
        "id": "t2HR6Nd_CnK7"
      },
      "source": [
        "#Compile the model\n",
        "model.compile(optimizer = 'adam', loss = 'mean_squared_error')"
      ],
      "execution_count": 155,
      "outputs": []
    },
    {
      "cell_type": "code",
      "metadata": {
        "id": "9oWMWd78DgoF"
      },
      "source": [
        ""
      ],
      "execution_count": 155,
      "outputs": []
    },
    {
      "cell_type": "code",
      "metadata": {
        "colab": {
          "base_uri": "https://localhost:8080/"
        },
        "id": "26KDGTykD8p2",
        "outputId": "09d8a851-3f04-445e-fe39-5c8d2186a323"
      },
      "source": [
        "#train the model\n",
        "model.fit(x_train, y_train, batch_size=1, epochs=1)"
      ],
      "execution_count": 156,
      "outputs": [
        {
          "output_type": "stream",
          "text": [
            "259/259 [==============================] - 12s 33ms/step - loss: 0.0137\n"
          ],
          "name": "stdout"
        },
        {
          "output_type": "execute_result",
          "data": {
            "text/plain": [
              "<keras.callbacks.History at 0x7faf8271dd90>"
            ]
          },
          "metadata": {
            "tags": []
          },
          "execution_count": 156
        }
      ]
    },
    {
      "cell_type": "code",
      "metadata": {
        "id": "ftOrs7HgEdBX"
      },
      "source": [
        "#Create the testing data set\n",
        "#Create a new array containing scaled values from index 1543 to 2003\n",
        "test_data = scaled_data[training_data_len - 60: , :]\n",
        "#Create the data sets x_test and y_test\n",
        "x_test = []\n",
        "y_test = dataset[training_data_len:, :]\n",
        "for i in range(60, len(test_data)):\n",
        "  x_test.append(test_data[i-60:i,0])"
      ],
      "execution_count": 157,
      "outputs": []
    },
    {
      "cell_type": "code",
      "metadata": {
        "id": "4gRIhRssFQx2"
      },
      "source": [
        "#Convert the data to a numpy array\n",
        "x_test = np.array(x_test)\n",
        "\n"
      ],
      "execution_count": 158,
      "outputs": []
    },
    {
      "cell_type": "code",
      "metadata": {
        "id": "6GXuXBDkFk0-"
      },
      "source": [
        "#Reshape the data\n",
        "x_test = np.reshape(x_test, (x_test.shape[0], x_test.shape[1],1))\n",
        "\n",
        "#Get the models predicted price values\n",
        "predictions = model.predict(x_test)\n",
        "predictions = scaler.inverse_transform(predictions)\n"
      ],
      "execution_count": 159,
      "outputs": []
    },
    {
      "cell_type": "code",
      "metadata": {
        "colab": {
          "base_uri": "https://localhost:8080/"
        },
        "id": "R_bqn0kwGHWu",
        "outputId": "754ead4b-42c7-43e5-b35d-81a7d8c17087"
      },
      "source": [
        "#Get the root mean squared error (RMSE)\n",
        "rmse = np.sqrt( np.mean(predictions - y_test)**2)\n",
        "rmse"
      ],
      "execution_count": 160,
      "outputs": [
        {
          "output_type": "execute_result",
          "data": {
            "text/plain": [
              "87.37727761570412"
            ]
          },
          "metadata": {
            "tags": []
          },
          "execution_count": 160
        }
      ]
    },
    {
      "cell_type": "code",
      "metadata": {
        "colab": {
          "base_uri": "https://localhost:8080/",
          "height": 827
        },
        "id": "H3fHhAOjGr-y",
        "outputId": "d558421b-3fec-4165-a8ec-2753b3853fcf"
      },
      "source": [
        "#Plot the data\n",
        "train = data[:training_data_len]\n",
        "valid = data[training_data_len:]\n",
        "valid['Predictions'] = predictions\n",
        "#Visualise the data\n",
        "plt.figure(figsize=(16,8))\n",
        "plt.title('Model')\n",
        "plt.xlabel('Date',fontsize=18)\n",
        "plt.ylabel('Close Price USD ($)', fontsize=18)\n",
        "plt.plot(train['Close'])\n",
        "plt.plot(valid[['Close','Predictions']])\n",
        "plt.legend(['Train', 'Val', 'Predictions'], loc='lower right')\n",
        "plt.show()\n"
      ],
      "execution_count": 161,
      "outputs": [
        {
          "output_type": "stream",
          "text": [
            "/usr/local/lib/python3.7/dist-packages/ipykernel_launcher.py:4: SettingWithCopyWarning: \n",
            "A value is trying to be set on a copy of a slice from a DataFrame.\n",
            "Try using .loc[row_indexer,col_indexer] = value instead\n",
            "\n",
            "See the caveats in the documentation: https://pandas.pydata.org/pandas-docs/stable/user_guide/indexing.html#returning-a-view-versus-a-copy\n",
            "  after removing the cwd from sys.path.\n"
          ],
          "name": "stderr"
        },
        {
          "output_type": "display_data",
          "data": {
            "image/png": "[encoded data removed]",
            "text/plain": [
              "<Figure size 1600x800 with 1 Axes>"
            ]
          },
          "metadata": {
            "tags": []
          }
        }
      ]
    },
    {
      "cell_type": "code",
      "metadata": {
        "colab": {
          "base_uri": "https://localhost:8080/",
          "height": 450
        },
        "id": "8MziIYyZKV8k",
        "outputId": "db830799-8dd6-4ca2-f402-ddca28efcf8f"
      },
      "source": [
        "#show the valid and predicted return\n",
        "valid"
      ],
      "execution_count": 162,
      "outputs": [
        {
          "output_type": "execute_result",
          "data": {
            "text/html": [
              "<div>\n",
              "<style scoped>\n",
              "    .dataframe tbody tr th:only-of-type {\n",
              "        vertical-align: middle;\n",
              "    }\n",
              "\n",
              "    .dataframe tbody tr th {\n",
              "        vertical-align: top;\n",
              "    }\n",
              "\n",
              "    .dataframe thead th {\n",
              "        text-align: right;\n",
              "    }\n",
              "</style>\n",
              "<table border=\"1\" class=\"dataframe\">\n",
              "  <thead>\n",
              "    <tr style=\"text-align: right;\">\n",
              "      <th></th>\n",
              "      <th>Close</th>\n",
              "      <th>Predictions</th>\n",
              "    </tr>\n",
              "    <tr>\n",
              "      <th>Date</th>\n",
              "      <th></th>\n",
              "      <th></th>\n",
              "    </tr>\n",
              "  </thead>\n",
              "  <tbody>\n",
              "    <tr>\n",
              "      <th>2021-04-09</th>\n",
              "      <td>4128.799805</td>\n",
              "      <td>3964.049561</td>\n",
              "    </tr>\n",
              "    <tr>\n",
              "      <th>2021-04-12</th>\n",
              "      <td>4127.990234</td>\n",
              "      <td>3977.783203</td>\n",
              "    </tr>\n",
              "    <tr>\n",
              "      <th>2021-04-13</th>\n",
              "      <td>4141.589844</td>\n",
              "      <td>3991.514648</td>\n",
              "    </tr>\n",
              "    <tr>\n",
              "      <th>2021-04-14</th>\n",
              "      <td>4124.660156</td>\n",
              "      <td>4005.177002</td>\n",
              "    </tr>\n",
              "    <tr>\n",
              "      <th>2021-04-15</th>\n",
              "      <td>4170.419922</td>\n",
              "      <td>4017.452881</td>\n",
              "    </tr>\n",
              "    <tr>\n",
              "      <th>...</th>\n",
              "      <td>...</td>\n",
              "      <td>...</td>\n",
              "    </tr>\n",
              "    <tr>\n",
              "      <th>2021-07-26</th>\n",
              "      <td>4422.299805</td>\n",
              "      <td>4272.046875</td>\n",
              "    </tr>\n",
              "    <tr>\n",
              "      <th>2021-07-27</th>\n",
              "      <td>4401.459961</td>\n",
              "      <td>4277.777832</td>\n",
              "    </tr>\n",
              "    <tr>\n",
              "      <th>2021-07-28</th>\n",
              "      <td>4400.640137</td>\n",
              "      <td>4283.535645</td>\n",
              "    </tr>\n",
              "    <tr>\n",
              "      <th>2021-07-29</th>\n",
              "      <td>4419.149902</td>\n",
              "      <td>4289.023926</td>\n",
              "    </tr>\n",
              "    <tr>\n",
              "      <th>2021-07-30</th>\n",
              "      <td>4395.259766</td>\n",
              "      <td>4294.809570</td>\n",
              "    </tr>\n",
              "  </tbody>\n",
              "</table>\n",
              "<p>79 rows × 2 columns</p>\n",
              "</div>"
            ],
            "text/plain": [
              "                  Close  Predictions\n",
              "Date                                \n",
              "2021-04-09  4128.799805  3964.049561\n",
              "2021-04-12  4127.990234  3977.783203\n",
              "2021-04-13  4141.589844  3991.514648\n",
              "2021-04-14  4124.660156  4005.177002\n",
              "2021-04-15  4170.419922  4017.452881\n",
              "...                 ...          ...\n",
              "2021-07-26  4422.299805  4272.046875\n",
              "2021-07-27  4401.459961  4277.777832\n",
              "2021-07-28  4400.640137  4283.535645\n",
              "2021-07-29  4419.149902  4289.023926\n",
              "2021-07-30  4395.259766  4294.809570\n",
              "\n",
              "[79 rows x 2 columns]"
            ]
          },
          "metadata": {
            "tags": []
          },
          "execution_count": 162
        }
      ]
    },
    {
      "cell_type": "code",
      "metadata": {
        "colab": {
          "base_uri": "https://localhost:8080/"
        },
        "id": "1_Z2x6IdK0eM",
        "outputId": "a85af260-3017-46f5-ab41-82d3331475fc"
      },
      "source": [
        "#get the quote\n",
        "apple_quote = yf.download('^GSPC', start=start_date, end=end_date)\n",
        "#Create a new dataframe\n",
        "new_data = apple_quote.filter(['Close'])\n",
        "#Get the last 60 day closing price values and convert the dataframe to an array\n",
        "last_60_days = new_data[-60:].values\n",
        "last_60_days_scaled = scaler.transform(last_60_days)\n",
        "#Create an empty list\n",
        "X_test = []\n",
        "#Append the past 60 days\n",
        "X_test.append(last_60_days_scaled)\n",
        "#Convert the X_test data set to a numpy array\n",
        "X_test = np.array(X_test)\n",
        "#Reshape the data\n",
        "X_test = np.reshape(X_test, (X_test.shape[0], X_test.shape[1],1))\n",
        "#Get the predicted scaled price\n",
        "pred_price = model.predict(X_test)\n",
        "#undo the scaling\n",
        "pred_price = scaler.inverse_transform(pred_price)\n",
        "print(pred_price)\n"
      ],
      "execution_count": 163,
      "outputs": [
        {
          "output_type": "stream",
          "text": [
            "\r[*********************100%***********************]  1 of 1 completed\n",
            "[[4299.518]]\n"
          ],
          "name": "stdout"
        }
      ]
    }
  ]
}