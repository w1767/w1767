{
  "nbformat": 4,
  "nbformat_minor": 0,
  "metadata": {
    "colab": {
      "name": "Untitled0.ipynb",
      "provenance": [],
      "authorship_tag": "ABX9TyNW++vRM6/OURg37T+aW4LQ",
      "include_colab_link": true
    },
    "kernelspec": {
      "name": "python3",
      "display_name": "Python 3"
    },
    "language_info": {
      "name": "python"
    }
  },
  "cells": [
    {
      "cell_type": "markdown",
      "metadata": {
        "id": "view-in-github",
        "colab_type": "text"
      },
      "source": [
        "<a href=\"https://colab.research.google.com/github/w1767/w1767/blob/main/AMAZON.ipynb\" target=\"_parent\"><img src=\"https://colab.research.google.com/assets/colab-badge.svg\" alt=\"Open In Colab\"/></a>"
      ]
    },
    {
      "cell_type": "code",
      "metadata": {
        "id": "jF-rA78EBttL"
      },
      "source": [
        "# Description: this program uses an aritificial recurrent neural network called Long Short Term Memory (LSTM) to predict\n",
        "# the closing stock price of a corporation (Apple Inc.) using the past 60 day stock price. "
      ],
      "execution_count": 1,
      "outputs": []
    },
    {
      "cell_type": "code",
      "metadata": {
        "id": "wpTDFiYaHooV"
      },
      "source": [
        ""
      ],
      "execution_count": null,
      "outputs": []
    },
    {
      "cell_type": "code",
      "metadata": {
        "id": "4t9te_ZzCKmA",
        "colab": {
          "base_uri": "https://localhost:8080/"
        },
        "outputId": "f8418212-7962-49b1-82d1-5d5823f0e001"
      },
      "source": [
        "# Import the libraries\n",
        "!pip install pandas_datareader\n",
        "!pip install yfinance\n",
        "!pip install mplfinance\n",
        "import os\n",
        "import argparse\n",
        "import signal\n",
        "import yfinance as yf\n",
        "import pickle\n",
        "import mplfinance as mpf\n",
        "import math\n",
        "import pandas_datareader.data as web\n",
        "from datetime import datetime, timedelta\n",
        "import numpy as np\n",
        "import pandas as pd\n",
        "from sklearn.preprocessing import MinMaxScaler\n",
        "from keras.models import Sequential\n",
        "from keras.layers import Dense, LSTM\n",
        "#from yfinance import stock_info\n",
        "from dateutil.parser import parse\n",
        "from urllib.request import urlopen, Request\n",
        "from bs4 import BeautifulSoup\n",
        "import matplotlib.pyplot as plt\n",
        "plt.style.use('fivethirtyeight')\n",
        "start_date = datetime(2020, 1,1)\n",
        "end_date = datetime(2021, 9, 30)\n"
      ],
      "execution_count": 2,
      "outputs": [
        {
          "output_type": "stream",
          "name": "stdout",
          "text": [
            "Requirement already satisfied: pandas_datareader in /usr/local/lib/python3.7/dist-packages (0.9.0)\n",
            "Requirement already satisfied: requests>=2.19.0 in /usr/local/lib/python3.7/dist-packages (from pandas_datareader) (2.23.0)\n",
            "Requirement already satisfied: pandas>=0.23 in /usr/local/lib/python3.7/dist-packages (from pandas_datareader) (1.1.5)\n",
            "Requirement already satisfied: lxml in /usr/local/lib/python3.7/dist-packages (from pandas_datareader) (4.2.6)\n",
            "Requirement already satisfied: pytz>=2017.2 in /usr/local/lib/python3.7/dist-packages (from pandas>=0.23->pandas_datareader) (2018.9)\n",
            "Requirement already satisfied: numpy>=1.15.4 in /usr/local/lib/python3.7/dist-packages (from pandas>=0.23->pandas_datareader) (1.19.5)\n",
            "Requirement already satisfied: python-dateutil>=2.7.3 in /usr/local/lib/python3.7/dist-packages (from pandas>=0.23->pandas_datareader) (2.8.2)\n",
            "Requirement already satisfied: six>=1.5 in /usr/local/lib/python3.7/dist-packages (from python-dateutil>=2.7.3->pandas>=0.23->pandas_datareader) (1.15.0)\n",
            "Requirement already satisfied: idna<3,>=2.5 in /usr/local/lib/python3.7/dist-packages (from requests>=2.19.0->pandas_datareader) (2.10)\n",
            "Requirement already satisfied: urllib3!=1.25.0,!=1.25.1,<1.26,>=1.21.1 in /usr/local/lib/python3.7/dist-packages (from requests>=2.19.0->pandas_datareader) (1.24.3)\n",
            "Requirement already satisfied: certifi>=2017.4.17 in /usr/local/lib/python3.7/dist-packages (from requests>=2.19.0->pandas_datareader) (2021.5.30)\n",
            "Requirement already satisfied: chardet<4,>=3.0.2 in /usr/local/lib/python3.7/dist-packages (from requests>=2.19.0->pandas_datareader) (3.0.4)\n",
            "Collecting yfinance\n",
            "  Downloading yfinance-0.1.63.tar.gz (26 kB)\n",
            "Requirement already satisfied: pandas>=0.24 in /usr/local/lib/python3.7/dist-packages (from yfinance) (1.1.5)\n",
            "Requirement already satisfied: numpy>=1.15 in /usr/local/lib/python3.7/dist-packages (from yfinance) (1.19.5)\n",
            "Requirement already satisfied: requests>=2.20 in /usr/local/lib/python3.7/dist-packages (from yfinance) (2.23.0)\n",
            "Requirement already satisfied: multitasking>=0.0.7 in /usr/local/lib/python3.7/dist-packages (from yfinance) (0.0.9)\n",
            "Collecting lxml>=4.5.1\n",
            "  Downloading lxml-4.6.3-cp37-cp37m-manylinux2014_x86_64.whl (6.3 MB)\n",
            "\u001b[K     |████████████████████████████████| 6.3 MB 41.8 MB/s \n",
            "\u001b[?25hRequirement already satisfied: pytz>=2017.2 in /usr/local/lib/python3.7/dist-packages (from pandas>=0.24->yfinance) (2018.9)\n",
            "Requirement already satisfied: python-dateutil>=2.7.3 in /usr/local/lib/python3.7/dist-packages (from pandas>=0.24->yfinance) (2.8.2)\n",
            "Requirement already satisfied: six>=1.5 in /usr/local/lib/python3.7/dist-packages (from python-dateutil>=2.7.3->pandas>=0.24->yfinance) (1.15.0)\n",
            "Requirement already satisfied: idna<3,>=2.5 in /usr/local/lib/python3.7/dist-packages (from requests>=2.20->yfinance) (2.10)\n",
            "Requirement already satisfied: certifi>=2017.4.17 in /usr/local/lib/python3.7/dist-packages (from requests>=2.20->yfinance) (2021.5.30)\n",
            "Requirement already satisfied: chardet<4,>=3.0.2 in /usr/local/lib/python3.7/dist-packages (from requests>=2.20->yfinance) (3.0.4)\n",
            "Requirement already satisfied: urllib3!=1.25.0,!=1.25.1,<1.26,>=1.21.1 in /usr/local/lib/python3.7/dist-packages (from requests>=2.20->yfinance) (1.24.3)\n",
            "Building wheels for collected packages: yfinance\n",
            "  Building wheel for yfinance (setup.py) ... \u001b[?25l\u001b[?25hdone\n",
            "  Created wheel for yfinance: filename=yfinance-0.1.63-py2.py3-none-any.whl size=23918 sha256=11030b09257887a2aed88d3264387ca0ddd020216a0ae1241fefab337061b97a\n",
            "  Stored in directory: /root/.cache/pip/wheels/fe/87/8b/7ec24486e001d3926537f5f7801f57a74d181be25b11157983\n",
            "Successfully built yfinance\n",
            "Installing collected packages: lxml, yfinance\n",
            "  Attempting uninstall: lxml\n",
            "    Found existing installation: lxml 4.2.6\n",
            "    Uninstalling lxml-4.2.6:\n",
            "      Successfully uninstalled lxml-4.2.6\n",
            "Successfully installed lxml-4.6.3 yfinance-0.1.63\n",
            "Collecting mplfinance\n",
            "  Downloading mplfinance-0.12.7a17-py3-none-any.whl (62 kB)\n",
            "\u001b[K     |████████████████████████████████| 62 kB 1.1 MB/s \n",
            "\u001b[?25hRequirement already satisfied: pandas in /usr/local/lib/python3.7/dist-packages (from mplfinance) (1.1.5)\n",
            "Requirement already satisfied: matplotlib in /usr/local/lib/python3.7/dist-packages (from mplfinance) (3.2.2)\n",
            "Requirement already satisfied: cycler>=0.10 in /usr/local/lib/python3.7/dist-packages (from matplotlib->mplfinance) (0.10.0)\n",
            "Requirement already satisfied: kiwisolver>=1.0.1 in /usr/local/lib/python3.7/dist-packages (from matplotlib->mplfinance) (1.3.2)\n",
            "Requirement already satisfied: numpy>=1.11 in /usr/local/lib/python3.7/dist-packages (from matplotlib->mplfinance) (1.19.5)\n",
            "Requirement already satisfied: python-dateutil>=2.1 in /usr/local/lib/python3.7/dist-packages (from matplotlib->mplfinance) (2.8.2)\n",
            "Requirement already satisfied: pyparsing!=2.0.4,!=2.1.2,!=2.1.6,>=2.0.1 in /usr/local/lib/python3.7/dist-packages (from matplotlib->mplfinance) (2.4.7)\n",
            "Requirement already satisfied: six in /usr/local/lib/python3.7/dist-packages (from cycler>=0.10->matplotlib->mplfinance) (1.15.0)\n",
            "Requirement already satisfied: pytz>=2017.2 in /usr/local/lib/python3.7/dist-packages (from pandas->mplfinance) (2018.9)\n",
            "Installing collected packages: mplfinance\n",
            "Successfully installed mplfinance-0.12.7a17\n"
          ]
        }
      ]
    },
    {
      "cell_type": "code",
      "metadata": {
        "colab": {
          "base_uri": "https://localhost:8080/",
          "height": 467
        },
        "id": "Tkat1PpYDTgp",
        "outputId": "88d6e709-ac96-4220-aca4-b3b688800425"
      },
      "source": [
        "#Get the stock quote\n",
        "data = yf.download('AMZN', start=start_date, end=end_date)\n",
        "#df = web.DataReader('AMZN', data_source='yahoo',start='2012-01',end='2019-12-17')\n",
        "#show the data\n",
        "data.head(391)"
      ],
      "execution_count": 3,
      "outputs": [
        {
          "output_type": "stream",
          "name": "stdout",
          "text": [
            "\r[*********************100%***********************]  1 of 1 completed\n"
          ]
        },
        {
          "output_type": "execute_result",
          "data": {
            "text/html": [
              "<div>\n",
              "<style scoped>\n",
              "    .dataframe tbody tr th:only-of-type {\n",
              "        vertical-align: middle;\n",
              "    }\n",
              "\n",
              "    .dataframe tbody tr th {\n",
              "        vertical-align: top;\n",
              "    }\n",
              "\n",
              "    .dataframe thead th {\n",
              "        text-align: right;\n",
              "    }\n",
              "</style>\n",
              "<table border=\"1\" class=\"dataframe\">\n",
              "  <thead>\n",
              "    <tr style=\"text-align: right;\">\n",
              "      <th></th>\n",
              "      <th>Open</th>\n",
              "      <th>High</th>\n",
              "      <th>Low</th>\n",
              "      <th>Close</th>\n",
              "      <th>Adj Close</th>\n",
              "      <th>Volume</th>\n",
              "    </tr>\n",
              "    <tr>\n",
              "      <th>Date</th>\n",
              "      <th></th>\n",
              "      <th></th>\n",
              "      <th></th>\n",
              "      <th></th>\n",
              "      <th></th>\n",
              "      <th></th>\n",
              "    </tr>\n",
              "  </thead>\n",
              "  <tbody>\n",
              "    <tr>\n",
              "      <th>2020-01-02</th>\n",
              "      <td>1875.000000</td>\n",
              "      <td>1898.010010</td>\n",
              "      <td>1864.150024</td>\n",
              "      <td>1898.010010</td>\n",
              "      <td>1898.010010</td>\n",
              "      <td>4029000</td>\n",
              "    </tr>\n",
              "    <tr>\n",
              "      <th>2020-01-03</th>\n",
              "      <td>1864.500000</td>\n",
              "      <td>1886.199951</td>\n",
              "      <td>1864.500000</td>\n",
              "      <td>1874.969971</td>\n",
              "      <td>1874.969971</td>\n",
              "      <td>3764400</td>\n",
              "    </tr>\n",
              "    <tr>\n",
              "      <th>2020-01-06</th>\n",
              "      <td>1860.000000</td>\n",
              "      <td>1903.689941</td>\n",
              "      <td>1860.000000</td>\n",
              "      <td>1902.880005</td>\n",
              "      <td>1902.880005</td>\n",
              "      <td>4061800</td>\n",
              "    </tr>\n",
              "    <tr>\n",
              "      <th>2020-01-07</th>\n",
              "      <td>1904.500000</td>\n",
              "      <td>1913.890015</td>\n",
              "      <td>1892.040039</td>\n",
              "      <td>1906.859985</td>\n",
              "      <td>1906.859985</td>\n",
              "      <td>4044900</td>\n",
              "    </tr>\n",
              "    <tr>\n",
              "      <th>2020-01-08</th>\n",
              "      <td>1898.040039</td>\n",
              "      <td>1911.000000</td>\n",
              "      <td>1886.439941</td>\n",
              "      <td>1891.969971</td>\n",
              "      <td>1891.969971</td>\n",
              "      <td>3508000</td>\n",
              "    </tr>\n",
              "    <tr>\n",
              "      <th>...</th>\n",
              "      <td>...</td>\n",
              "      <td>...</td>\n",
              "      <td>...</td>\n",
              "      <td>...</td>\n",
              "      <td>...</td>\n",
              "      <td>...</td>\n",
              "    </tr>\n",
              "    <tr>\n",
              "      <th>2021-07-15</th>\n",
              "      <td>3694.199951</td>\n",
              "      <td>3695.399902</td>\n",
              "      <td>3620.919922</td>\n",
              "      <td>3631.199951</td>\n",
              "      <td>3631.199951</td>\n",
              "      <td>3185300</td>\n",
              "    </tr>\n",
              "    <tr>\n",
              "      <th>2021-07-16</th>\n",
              "      <td>3633.310059</td>\n",
              "      <td>3646.060059</td>\n",
              "      <td>3570.459961</td>\n",
              "      <td>3573.629883</td>\n",
              "      <td>3573.629883</td>\n",
              "      <td>4043700</td>\n",
              "    </tr>\n",
              "    <tr>\n",
              "      <th>2021-07-19</th>\n",
              "      <td>3532.580078</td>\n",
              "      <td>3550.209961</td>\n",
              "      <td>3499.159912</td>\n",
              "      <td>3549.590088</td>\n",
              "      <td>3549.590088</td>\n",
              "      <td>3784600</td>\n",
              "    </tr>\n",
              "    <tr>\n",
              "      <th>2021-07-20</th>\n",
              "      <td>3567.320068</td>\n",
              "      <td>3592.000000</td>\n",
              "      <td>3518.000000</td>\n",
              "      <td>3573.189941</td>\n",
              "      <td>3573.189941</td>\n",
              "      <td>3255700</td>\n",
              "    </tr>\n",
              "    <tr>\n",
              "      <th>2021-07-21</th>\n",
              "      <td>3576.379883</td>\n",
              "      <td>3586.449951</td>\n",
              "      <td>3543.639893</td>\n",
              "      <td>3585.199951</td>\n",
              "      <td>3585.199951</td>\n",
              "      <td>2319000</td>\n",
              "    </tr>\n",
              "  </tbody>\n",
              "</table>\n",
              "<p>391 rows × 6 columns</p>\n",
              "</div>"
            ],
            "text/plain": [
              "                   Open         High  ...    Adj Close   Volume\n",
              "Date                                  ...                      \n",
              "2020-01-02  1875.000000  1898.010010  ...  1898.010010  4029000\n",
              "2020-01-03  1864.500000  1886.199951  ...  1874.969971  3764400\n",
              "2020-01-06  1860.000000  1903.689941  ...  1902.880005  4061800\n",
              "2020-01-07  1904.500000  1913.890015  ...  1906.859985  4044900\n",
              "2020-01-08  1898.040039  1911.000000  ...  1891.969971  3508000\n",
              "...                 ...          ...  ...          ...      ...\n",
              "2021-07-15  3694.199951  3695.399902  ...  3631.199951  3185300\n",
              "2021-07-16  3633.310059  3646.060059  ...  3573.629883  4043700\n",
              "2021-07-19  3532.580078  3550.209961  ...  3549.590088  3784600\n",
              "2021-07-20  3567.320068  3592.000000  ...  3573.189941  3255700\n",
              "2021-07-21  3576.379883  3586.449951  ...  3585.199951  2319000\n",
              "\n",
              "[391 rows x 6 columns]"
            ]
          },
          "metadata": {},
          "execution_count": 3
        }
      ]
    },
    {
      "cell_type": "code",
      "metadata": {
        "id": "iINONBjJCmEs"
      },
      "source": [
        ""
      ],
      "execution_count": null,
      "outputs": []
    },
    {
      "cell_type": "code",
      "metadata": {
        "colab": {
          "base_uri": "https://localhost:8080/"
        },
        "id": "-1NflEs4D4Bv",
        "outputId": "a752b58e-17d3-4831-dd3b-eb501faeeceb"
      },
      "source": [
        "#Get the number of rows and columns in the data set\n",
        "data.shape\n",
        "\n"
      ],
      "execution_count": 4,
      "outputs": [
        {
          "output_type": "execute_result",
          "data": {
            "text/plain": [
              "(440, 6)"
            ]
          },
          "metadata": {},
          "execution_count": 4
        }
      ]
    },
    {
      "cell_type": "code",
      "metadata": {
        "colab": {
          "base_uri": "https://localhost:8080/",
          "height": 523
        },
        "id": "nASYYE3wEFyH",
        "outputId": "e32dee1b-025d-40e0-f62e-311c28068249"
      },
      "source": [
        "mpf.plot(data, type='candle', mav= (3,6,9), volume=True, show_nontrading=True)\n",
        "#Visualize the closing price history\n",
        "#plt.figure(figsize=(16,8))\n",
        "#plt.title('Close Price History')\n",
        "#plt.plot(df['Close'])\n",
        "#plt.xlabel('Date',fontsize=18)\n",
        "#plt.ylabel('Close Price USD($)',fontsize=18)\n",
        "#plt.show()"
      ],
      "execution_count": 5,
      "outputs": [
        {
          "output_type": "display_data",
          "data": {
            "image/png": "[encoded data removed]",
            "text/plain": [
              "<Figure size 800x575 with 4 Axes>"
            ]
          },
          "metadata": {}
        }
      ]
    },
    {
      "cell_type": "code",
      "metadata": {
        "id": "5u3vU4T5HqUi"
      },
      "source": [
        ""
      ],
      "execution_count": null,
      "outputs": []
    },
    {
      "cell_type": "code",
      "metadata": {
        "colab": {
          "base_uri": "https://localhost:8080/"
        },
        "id": "LhjmcNHG7Tbm",
        "outputId": "c9a72eab-2d2b-4e49-c61e-b778701f0cce"
      },
      "source": [
        "#Create a new dataframe with only the 'Close column'\n",
        "data = data.filter(['Close'])\n",
        "#Convert the dataframe to a numpy array\n",
        "dataset = data.values\n",
        "#Get the number of rows to train the model on \n",
        "training_data_len = math.ceil(len(dataset) * .8)\n",
        "\n",
        "training_data_len"
      ],
      "execution_count": 6,
      "outputs": [
        {
          "output_type": "execute_result",
          "data": {
            "text/plain": [
              "352"
            ]
          },
          "metadata": {},
          "execution_count": 6
        }
      ]
    },
    {
      "cell_type": "code",
      "metadata": {
        "colab": {
          "base_uri": "https://localhost:8080/"
        },
        "id": "7KFZs2c38gaO",
        "outputId": "e0e13db3-124a-47eb-b227-04a61cdaccea"
      },
      "source": [
        "#Scale the data\n",
        "scaler = MinMaxScaler(feature_range=(0,1))\n",
        "scaled_data = scaler.fit_transform(dataset)\n",
        "scaled_data\n",
        "\n"
      ],
      "execution_count": 7,
      "outputs": [
        {
          "output_type": "execute_result",
          "data": {
            "text/plain": [
              "array([[0.10774773],\n",
              "       [0.09653494],\n",
              "       [0.11011779],\n",
              "       [0.11205471],\n",
              "       [0.10480825],\n",
              "       [0.10922721],\n",
              "       [0.10052076],\n",
              "       [0.10448222],\n",
              "       [0.09384367],\n",
              "       [0.09023265],\n",
              "       [0.09798032],\n",
              "       [0.09154662],\n",
              "       [0.10482286],\n",
              "       [0.10261338],\n",
              "       [0.10121179],\n",
              "       [0.09004771],\n",
              "       [0.07384173],\n",
              "       [0.08596458],\n",
              "       [0.08827624],\n",
              "       [0.09444718],\n",
              "       [0.16162643],\n",
              "       [0.1594267 ],\n",
              "       [0.18155536],\n",
              "       [0.17678607],\n",
              "       [0.18182792],\n",
              "       [0.19596557],\n",
              "       [0.22255205],\n",
              "       [0.23077189],\n",
              "       [0.23524919],\n",
              "       [0.23031932],\n",
              "       [0.22301934],\n",
              "       [0.23314189],\n",
              "       [0.24022289],\n",
              "       [0.23189124],\n",
              "       [0.20408799],\n",
              "       [0.16190387],\n",
              "       [0.14411622],\n",
              "       [0.14744987],\n",
              "       [0.10107556],\n",
              "       [0.10080788],\n",
              "       [0.13497176],\n",
              "       [0.1130913 ],\n",
              "       [0.14562   ],\n",
              "       [0.12041077],\n",
              "       [0.10924664],\n",
              "       [0.06034651],\n",
              "       [0.10473524],\n",
              "       [0.07020148],\n",
              "       [0.        ],\n",
              "       [0.05274967],\n",
              "       [0.0061028 ],\n",
              "       [0.06386509],\n",
              "       [0.07464961],\n",
              "       [0.0994355 ],\n",
              "       [0.08248004],\n",
              "       [0.11009343],\n",
              "       [0.12823146],\n",
              "       [0.10182499],\n",
              "       [0.13572125],\n",
              "       [0.10876484],\n",
              "       [0.13983842],\n",
              "       [0.13291318],\n",
              "       [0.11246349],\n",
              "       [0.11788008],\n",
              "       [0.1119233 ],\n",
              "       [0.15620985],\n",
              "       [0.16302803],\n",
              "       [0.17830934],\n",
              "       [0.17819254],\n",
              "       [0.23956597],\n",
              "       [0.2952648 ],\n",
              "       [0.3071199 ],\n",
              "       [0.35603464],\n",
              "       [0.33988225],\n",
              "       [0.34893914],\n",
              "       [0.31706743],\n",
              "       [0.33428072],\n",
              "       [0.35178119],\n",
              "       [0.35702259],\n",
              "       [0.34036891],\n",
              "       [0.31023463],\n",
              "       [0.33876776],\n",
              "       [0.38806212],\n",
              "       [0.29658851],\n",
              "       [0.31116412],\n",
              "       [0.31204501],\n",
              "       [0.32832881],\n",
              "       [0.33628584],\n",
              "       [0.34212583],\n",
              "       [0.35642887],\n",
              "       [0.33109791],\n",
              "       [0.33643662],\n",
              "       [0.34662261],\n",
              "       [0.35680848],\n",
              "       [0.36482872],\n",
              "       [0.37605612],\n",
              "       [0.39971286],\n",
              "       [0.37479562],\n",
              "       [0.36999704],\n",
              "       [0.36268744],\n",
              "       [0.35710528],\n",
              "       [0.35258426],\n",
              "       [0.37266895],\n",
              "       [0.38662161],\n",
              "       [0.38728828],\n",
              "       [0.3902034 ],\n",
              "       [0.38154085],\n",
              "       [0.39244211],\n",
              "       [0.41242462],\n",
              "       [0.44980054],\n",
              "       [0.47247421],\n",
              "       [0.42892253],\n",
              "       [0.4226251 ],\n",
              "       [0.43608623],\n",
              "       [0.45681335],\n",
              "       [0.4693255 ],\n",
              "       [0.47565215],\n",
              "       [0.48588673],\n",
              "       [0.50477425],\n",
              "       [0.52939457],\n",
              "       [0.51478974],\n",
              "       [0.52461073],\n",
              "       [0.49457863],\n",
              "       [0.48850006],\n",
              "       [0.52667419],\n",
              "       [0.58501558],\n",
              "       [0.59066094],\n",
              "       [0.67180753],\n",
              "       [0.64410657],\n",
              "       [0.68352159],\n",
              "       [0.73292776],\n",
              "       [0.74138119],\n",
              "       [0.69466131],\n",
              "       [0.68492801],\n",
              "       [0.64836489],\n",
              "       [0.6439994 ],\n",
              "       [0.62554021],\n",
              "       [0.73984337],\n",
              "       [0.71134909],\n",
              "       [0.69267081],\n",
              "       [0.63750249],\n",
              "       [0.64838426],\n",
              "       [0.67091689],\n",
              "       [0.64420875],\n",
              "       [0.66036602],\n",
              "       [0.66929626],\n",
              "       [0.72419214],\n",
              "       [0.69850105],\n",
              "       [0.71161191],\n",
              "       [0.74382913],\n",
              "       [0.75354782],\n",
              "       [0.72554508],\n",
              "       [0.71615241],\n",
              "       [0.68330737],\n",
              "       [0.7230047 ],\n",
              "       [0.72241098],\n",
              "       [0.71608433],\n",
              "       [0.7328207 ],\n",
              "       [0.79612617],\n",
              "       [0.7708147 ],\n",
              "       [0.78876786],\n",
              "       [0.78261147],\n",
              "       [0.79367823],\n",
              "       [0.8126728 ],\n",
              "       [0.85908126],\n",
              "       [0.83871427],\n",
              "       [0.83959029],\n",
              "       [0.86351472],\n",
              "       [0.8869526 ],\n",
              "       [0.90268641],\n",
              "       [0.82314097],\n",
              "       [0.78742953],\n",
              "       [0.7169701 ],\n",
              "       [0.77477135],\n",
              "       [0.72926814],\n",
              "       [0.70060835],\n",
              "       [0.69416003],\n",
              "       [0.72003112],\n",
              "       [0.68205673],\n",
              "       [0.64829669],\n",
              "       [0.62210433],\n",
              "       [0.62481022],\n",
              "       [0.70682308],\n",
              "       [0.64398003],\n",
              "       [0.65367924],\n",
              "       [0.69034453],\n",
              "       [0.72875225],\n",
              "       [0.71455614],\n",
              "       [0.71642985],\n",
              "       [0.7517277 ],\n",
              "       [0.70488129],\n",
              "       [0.74099183],\n",
              "       [0.69269517],\n",
              "       [0.73928363],\n",
              "       [0.73678223],\n",
              "       [0.7835507 ],\n",
              "       [0.85960678],\n",
              "       [0.85994742],\n",
              "       [0.82105316],\n",
              "       [0.8088573 ],\n",
              "       [0.77676661],\n",
              "       [0.74489003],\n",
              "       [0.74965937],\n",
              "       [0.73405198],\n",
              "       [0.72989584],\n",
              "       [0.74352247],\n",
              "       [0.74480733],\n",
              "       [0.78339505],\n",
              "       [0.72326752],\n",
              "       [0.74673938],\n",
              "       [0.66164102],\n",
              "       [0.64622836],\n",
              "       [0.66760754],\n",
              "       [0.76141229],\n",
              "       [0.80075437],\n",
              "       [0.79558117],\n",
              "       [0.71400139],\n",
              "       [0.66109114],\n",
              "       [0.71091102],\n",
              "       [0.69771759],\n",
              "       [0.70673551],\n",
              "       [0.70783051],\n",
              "       [0.7100691 ],\n",
              "       [0.69537183],\n",
              "       [0.70099771],\n",
              "       [0.6924226 ],\n",
              "       [0.69193107],\n",
              "       [0.70150386],\n",
              "       [0.73411531],\n",
              "       [0.73911337],\n",
              "       [0.72582738],\n",
              "       [0.75115347],\n",
              "       [0.74309913],\n",
              "       [0.73492313],\n",
              "       [0.72317021],\n",
              "       [0.72094124],\n",
              "       [0.73032904],\n",
              "       [0.69475862],\n",
              "       [0.69343978],\n",
              "       [0.70070566],\n",
              "       [0.72043996],\n",
              "       [0.72440636],\n",
              "       [0.76131499],\n",
              "       [0.75894012],\n",
              "       [0.74218414],\n",
              "       [0.74438875],\n",
              "       [0.74455426],\n",
              "       [0.73421262],\n",
              "       [0.72809033],\n",
              "       [0.7822416 ],\n",
              "       [0.80075437],\n",
              "       [0.78316146],\n",
              "       [0.76908702],\n",
              "       [0.73487442],\n",
              "       [0.75038937],\n",
              "       [0.71139281],\n",
              "       [0.72296573],\n",
              "       [0.73296185],\n",
              "       [0.69963015],\n",
              "       [0.70285193],\n",
              "       [0.72478098],\n",
              "       [0.70608334],\n",
              "       [0.69478298],\n",
              "       [0.70281783],\n",
              "       [0.77222599],\n",
              "       [0.79344951],\n",
              "       [0.78626633],\n",
              "       [0.78712774],\n",
              "       [0.80276424],\n",
              "       [0.75723679],\n",
              "       [0.7596896 ],\n",
              "       [0.74439849],\n",
              "       [0.81091588],\n",
              "       [0.82898096],\n",
              "       [0.79614566],\n",
              "       [0.80513436],\n",
              "       [0.81542728],\n",
              "       [0.8012118 ],\n",
              "       [0.79248106],\n",
              "       [0.78351672],\n",
              "       [0.77161765],\n",
              "       [0.77919994],\n",
              "       [0.77493674],\n",
              "       [0.79425247],\n",
              "       [0.80378628],\n",
              "       [0.76566575],\n",
              "       [0.73200801],\n",
              "       [0.73870453],\n",
              "       [0.72168586],\n",
              "       [0.67186586],\n",
              "       [0.68927389],\n",
              "       [0.71516934],\n",
              "       [0.69005261],\n",
              "       [0.64648144],\n",
              "       [0.63313224],\n",
              "       [0.64427196],\n",
              "       [0.62066382],\n",
              "       [0.67463508],\n",
              "       [0.67209945],\n",
              "       [0.69932848],\n",
              "       [0.68759979],\n",
              "       [0.68379891],\n",
              "       [0.68875325],\n",
              "       [0.7101032 ],\n",
              "       [0.65766987],\n",
              "       [0.68052853],\n",
              "       [0.69800476],\n",
              "       [0.7109646 ],\n",
              "       [0.6864221 ],\n",
              "       [0.66656126],\n",
              "       [0.66936933],\n",
              "       [0.68090327],\n",
              "       [0.67095586],\n",
              "       [0.68983363],\n",
              "       [0.72240124],\n",
              "       [0.75438975],\n",
              "       [0.75297359],\n",
              "       [0.7800175 ],\n",
              "       [0.78970709],\n",
              "       [0.82518495],\n",
              "       [0.82868404],\n",
              "       [0.83871427],\n",
              "       [0.80610769],\n",
              "       [0.82853814],\n",
              "       [0.83844171],\n",
              "       [0.82509251],\n",
              "       [0.80693012],\n",
              "       [0.82023073],\n",
              "       [0.7944472 ],\n",
              "       [0.80994255],\n",
              "       [0.84309426],\n",
              "       [0.84719681],\n",
              "       [0.86718419],\n",
              "       [0.8734184 ],\n",
              "       [0.87152521],\n",
              "       [0.83213941],\n",
              "       [0.7958245 ],\n",
              "       [0.77571059],\n",
              "       [0.79314784],\n",
              "       [0.78596466],\n",
              "       [0.736753  ],\n",
              "       [0.75301732],\n",
              "       [0.71799202],\n",
              "       [0.72262996],\n",
              "       [0.75252578],\n",
              "       [0.77563751],\n",
              "       [0.75709076],\n",
              "       [0.75685717],\n",
              "       [0.76458536],\n",
              "       [0.74288016],\n",
              "       [0.76327626],\n",
              "       [0.7701188 ],\n",
              "       [0.77309226],\n",
              "       [0.75603474],\n",
              "       [0.75260859],\n",
              "       [0.75045745],\n",
              "       [0.75792294],\n",
              "       [0.73505941],\n",
              "       [0.74440823],\n",
              "       [0.74041273],\n",
              "       [0.77258136],\n",
              "       [0.78087404],\n",
              "       [0.81421062],\n",
              "       [0.81283831],\n",
              "       [0.83086441],\n",
              "       [0.83050417],\n",
              "       [0.84613591],\n",
              "       [0.88214428],\n",
              "       [0.88100544],\n",
              "       [0.86497471],\n",
              "       [0.89002824],\n",
              "       [0.8892399 ],\n",
              "       [0.86259984],\n",
              "       [0.83942478],\n",
              "       [0.86007396],\n",
              "       [0.86214229],\n",
              "       [0.85825871],\n",
              "       [0.85475961],\n",
              "       [0.89272438],\n",
              "       [0.97290738],\n",
              "       [0.98304953],\n",
              "       [1.        ],\n",
              "       [0.99412603],\n",
              "       [0.99374155],\n",
              "       [0.97369583],\n",
              "       [0.97579814],\n",
              "       [0.95123128],\n",
              "       [0.92321392],\n",
              "       [0.91151459],\n",
              "       [0.92299982],\n",
              "       [0.92884467],\n",
              "       [0.95455524],\n",
              "       [0.96361202],\n",
              "       [0.98462632],\n",
              "       [0.94889039],\n",
              "       [0.95080307],\n",
              "       [0.93600837],\n",
              "       [0.80347487],\n",
              "       [0.80536795],\n",
              "       [0.82228444],\n",
              "       [0.81667804],\n",
              "       [0.82702943],\n",
              "       [0.81191844],\n",
              "       [0.81042447],\n",
              "       [0.80011194],\n",
              "       [0.78620799],\n",
              "       [0.79175106],\n",
              "       [0.78711312],\n",
              "       [0.78955619],\n",
              "       [0.76180165],\n",
              "       [0.74197491],\n",
              "       [0.73541954],\n",
              "       [0.74135683],\n",
              "       [0.7734379 ],\n",
              "       [0.79286067],\n",
              "       [0.78964863],\n",
              "       [0.79783437],\n",
              "       [0.81420087],\n",
              "       [0.84921167],\n",
              "       [0.87316533],\n",
              "       [0.87716083],\n",
              "       [0.86943264],\n",
              "       [0.87669852],\n",
              "       [0.89190195],\n",
              "       [0.89979077],\n",
              "       [0.87967198],\n",
              "       [0.87236713],\n",
              "       [0.86653689],\n",
              "       [0.86304754],\n",
              "       [0.87559866],\n",
              "       [0.88165762],\n",
              "       [0.8691406 ],\n",
              "       [0.81716958],\n",
              "       [0.81128088],\n",
              "       [0.82900532],\n",
              "       [0.84650091],\n",
              "       [0.85113398],\n",
              "       [0.84153695],\n",
              "       [0.79781489],\n",
              "       [0.79059285]])"
            ]
          },
          "metadata": {},
          "execution_count": 7
        }
      ]
    },
    {
      "cell_type": "code",
      "metadata": {
        "colab": {
          "base_uri": "https://localhost:8080/"
        },
        "id": "ryDBUAM-9WEv",
        "outputId": "8822c8a7-9816-4654-ba59-31088b203204"
      },
      "source": [
        "#Create the training data set\n",
        "#Create the scaled training data set\n",
        "train_data = scaled_data[0:training_data_len , :]\n",
        "#Split the data into x_train and y_train data sets\n",
        "x_train = []\n",
        "y_train = []\n",
        "\n",
        "for i in range(60, len(train_data)):\n",
        "  x_train.append(train_data[i-60:i, 0])\n",
        "  y_train.append(train_data[i,0])\n",
        "  if i <= 60:\n",
        "    print (x_train)\n",
        "    print (y_train)\n",
        "    print ()"
      ],
      "execution_count": 8,
      "outputs": [
        {
          "output_type": "stream",
          "name": "stdout",
          "text": [
            "[array([0.10774773, 0.09653494, 0.11011779, 0.11205471, 0.10480825,\n",
            "       0.10922721, 0.10052076, 0.10448222, 0.09384367, 0.09023265,\n",
            "       0.09798032, 0.09154662, 0.10482286, 0.10261338, 0.10121179,\n",
            "       0.09004771, 0.07384173, 0.08596458, 0.08827624, 0.09444718,\n",
            "       0.16162643, 0.1594267 , 0.18155536, 0.17678607, 0.18182792,\n",
            "       0.19596557, 0.22255205, 0.23077189, 0.23524919, 0.23031932,\n",
            "       0.22301934, 0.23314189, 0.24022289, 0.23189124, 0.20408799,\n",
            "       0.16190387, 0.14411622, 0.14744987, 0.10107556, 0.10080788,\n",
            "       0.13497176, 0.1130913 , 0.14562   , 0.12041077, 0.10924664,\n",
            "       0.06034651, 0.10473524, 0.07020148, 0.        , 0.05274967,\n",
            "       0.0061028 , 0.06386509, 0.07464961, 0.0994355 , 0.08248004,\n",
            "       0.11009343, 0.12823146, 0.10182499, 0.13572125, 0.10876484])]\n",
            "[0.13983841544791897]\n",
            "\n"
          ]
        }
      ]
    },
    {
      "cell_type": "code",
      "metadata": {
        "colab": {
          "base_uri": "https://localhost:8080/"
        },
        "id": "dmJfr5Rh-me3",
        "outputId": "07c76d23-2068-4529-8385-318d5b9aca8b"
      },
      "source": [
        "#Convert the x_train and y_train to numpy arrays\n",
        "x_train, y_train = np.array(x_train), np.array(y_train)\n",
        "\n",
        "#Reshape the data\n",
        "x_train = np.reshape(x_train, (x_train.shape[0], x_train.shape[1], 1))\n",
        "x_train.shape\n"
      ],
      "execution_count": 9,
      "outputs": [
        {
          "output_type": "execute_result",
          "data": {
            "text/plain": [
              "(292, 60, 1)"
            ]
          },
          "metadata": {},
          "execution_count": 9
        }
      ]
    },
    {
      "cell_type": "code",
      "metadata": {
        "id": "asLm_vfh_s7Y"
      },
      "source": [
        "#Build the LSTM model\n",
        "model = Sequential()\n",
        "model.add(LSTM(50, return_sequences=True, input_shape=(x_train.shape[1], 1)))\n",
        "model.add(LSTM(50, return_sequences= False))\n",
        "model.add(Dense(25))\n",
        "model.add(Dense(1))\n",
        "\n"
      ],
      "execution_count": 10,
      "outputs": []
    },
    {
      "cell_type": "code",
      "metadata": {
        "id": "t2HR6Nd_CnK7"
      },
      "source": [
        "#Compile the model\n",
        "model.compile(optimizer = 'adam', loss = 'mean_squared_error')"
      ],
      "execution_count": 11,
      "outputs": []
    },
    {
      "cell_type": "code",
      "metadata": {
        "id": "9oWMWd78DgoF"
      },
      "source": [
        ""
      ],
      "execution_count": null,
      "outputs": []
    },
    {
      "cell_type": "code",
      "metadata": {
        "colab": {
          "base_uri": "https://localhost:8080/"
        },
        "id": "26KDGTykD8p2",
        "outputId": "80dad3a4-5c3b-4fde-84f0-42c66a5ee4ce"
      },
      "source": [
        "#train the model\n",
        "model.fit(x_train, y_train, batch_size=1, epochs=1)"
      ],
      "execution_count": 12,
      "outputs": [
        {
          "output_type": "stream",
          "name": "stdout",
          "text": [
            "292/292 [==============================] - 11s 27ms/step - loss: 0.0130\n"
          ]
        },
        {
          "output_type": "execute_result",
          "data": {
            "text/plain": [
              "<keras.callbacks.History at 0x7fe69ed15790>"
            ]
          },
          "metadata": {},
          "execution_count": 12
        }
      ]
    },
    {
      "cell_type": "code",
      "metadata": {
        "id": "ftOrs7HgEdBX"
      },
      "source": [
        "#Create the testing data set\n",
        "#Create a new array containing scaled values from index 1543 to 2003\n",
        "test_data = scaled_data[training_data_len - 60: , :]\n",
        "#Create the data sets x_test and y_test\n",
        "x_test = []\n",
        "y_test = dataset[training_data_len:, :]\n",
        "for i in range(60, len(test_data)):\n",
        "  x_test.append(test_data[i-60:i,0])"
      ],
      "execution_count": 13,
      "outputs": []
    },
    {
      "cell_type": "code",
      "metadata": {
        "id": "4gRIhRssFQx2"
      },
      "source": [
        "#Convert the data to a numpy array\n",
        "x_test = np.array(x_test)\n",
        "\n"
      ],
      "execution_count": 14,
      "outputs": []
    },
    {
      "cell_type": "code",
      "metadata": {
        "id": "6GXuXBDkFk0-"
      },
      "source": [
        "#Reshape the data\n",
        "x_test = np.reshape(x_test, (x_test.shape[0], x_test.shape[1],1))\n",
        "\n",
        "#Get the models predicted price values\n",
        "predictions = model.predict(x_test)\n",
        "predictions = scaler.inverse_transform(predictions)\n"
      ],
      "execution_count": 15,
      "outputs": []
    },
    {
      "cell_type": "code",
      "metadata": {
        "colab": {
          "base_uri": "https://localhost:8080/"
        },
        "id": "R_bqn0kwGHWu",
        "outputId": "7f84943f-2178-4576-d756-f103b9b154ae"
      },
      "source": [
        "#Get the root mean squared error (RMSE)\n",
        "rmse = np.sqrt( np.mean(predictions - y_test)**2)\n",
        "rmse"
      ],
      "execution_count": 16,
      "outputs": [
        {
          "output_type": "execute_result",
          "data": {
            "text/plain": [
              "244.19715187766334"
            ]
          },
          "metadata": {},
          "execution_count": 16
        }
      ]
    },
    {
      "cell_type": "code",
      "metadata": {
        "colab": {
          "base_uri": "https://localhost:8080/",
          "height": 568
        },
        "id": "H3fHhAOjGr-y",
        "outputId": "eac52392-c6e4-4578-a021-fdb5d954d188"
      },
      "source": [
        "#Plot the data\n",
        "train = data[:training_data_len]\n",
        "valid = data[training_data_len:]\n",
        "valid['Predictions'] = predictions\n",
        "#Visualise the data\n",
        "plt.figure(figsize=(16,8))\n",
        "plt.title('Model')\n",
        "plt.xlabel('Date',fontsize=18)\n",
        "plt.ylabel('Close Price USD ($)', fontsize=18)\n",
        "plt.plot(train['Close'])\n",
        "plt.plot(valid[['Close','Predictions']])\n",
        "plt.legend(['Train', 'Val', 'Predictions'], loc='lower right')\n",
        "plt.show()\n"
      ],
      "execution_count": 17,
      "outputs": [
        {
          "output_type": "stream",
          "name": "stderr",
          "text": [
            "/usr/local/lib/python3.7/dist-packages/ipykernel_launcher.py:4: SettingWithCopyWarning: \n",
            "A value is trying to be set on a copy of a slice from a DataFrame.\n",
            "Try using .loc[row_indexer,col_indexer] = value instead\n",
            "\n",
            "See the caveats in the documentation: https://pandas.pydata.org/pandas-docs/stable/user_guide/indexing.html#returning-a-view-versus-a-copy\n",
            "  after removing the cwd from sys.path.\n"
          ]
        },
        {
          "output_type": "display_data",
          "data": {
            "image/png": "[encoded data removed]",
            "text/plain": [
              "<Figure size 1600x800 with 1 Axes>"
            ]
          },
          "metadata": {}
        }
      ]
    },
    {
      "cell_type": "code",
      "metadata": {
        "colab": {
          "base_uri": "https://localhost:8080/",
          "height": 450
        },
        "id": "8MziIYyZKV8k",
        "outputId": "817e86b3-aba4-4a8c-9b7f-17e509eecc0c"
      },
      "source": [
        "#show the valid and predicted return\n",
        "valid"
      ],
      "execution_count": 18,
      "outputs": [
        {
          "output_type": "execute_result",
          "data": {
            "text/html": [
              "<div>\n",
              "<style scoped>\n",
              "    .dataframe tbody tr th:only-of-type {\n",
              "        vertical-align: middle;\n",
              "    }\n",
              "\n",
              "    .dataframe tbody tr th {\n",
              "        vertical-align: top;\n",
              "    }\n",
              "\n",
              "    .dataframe thead th {\n",
              "        text-align: right;\n",
              "    }\n",
              "</style>\n",
              "<table border=\"1\" class=\"dataframe\">\n",
              "  <thead>\n",
              "    <tr style=\"text-align: right;\">\n",
              "      <th></th>\n",
              "      <th>Close</th>\n",
              "      <th>Predictions</th>\n",
              "    </tr>\n",
              "    <tr>\n",
              "      <th>Date</th>\n",
              "      <th></th>\n",
              "      <th></th>\n",
              "    </tr>\n",
              "  </thead>\n",
              "  <tbody>\n",
              "    <tr>\n",
              "      <th>2021-05-26</th>\n",
              "      <td>3265.159912</td>\n",
              "      <td>3069.371582</td>\n",
              "    </tr>\n",
              "    <tr>\n",
              "      <th>2021-05-27</th>\n",
              "      <td>3230.110107</td>\n",
              "      <td>3069.914795</td>\n",
              "    </tr>\n",
              "    <tr>\n",
              "      <th>2021-05-28</th>\n",
              "      <td>3223.070068</td>\n",
              "      <td>3069.818359</td>\n",
              "    </tr>\n",
              "    <tr>\n",
              "      <th>2021-06-01</th>\n",
              "      <td>3218.649902</td>\n",
              "      <td>3069.020264</td>\n",
              "    </tr>\n",
              "    <tr>\n",
              "      <th>2021-06-02</th>\n",
              "      <td>3233.989990</td>\n",
              "      <td>3067.684326</td>\n",
              "    </tr>\n",
              "    <tr>\n",
              "      <th>...</th>\n",
              "      <td>...</td>\n",
              "      <td>...</td>\n",
              "    </tr>\n",
              "    <tr>\n",
              "      <th>2021-09-23</th>\n",
              "      <td>3416.000000</td>\n",
              "      <td>3197.778076</td>\n",
              "    </tr>\n",
              "    <tr>\n",
              "      <th>2021-09-24</th>\n",
              "      <td>3425.520020</td>\n",
              "      <td>3193.575439</td>\n",
              "    </tr>\n",
              "    <tr>\n",
              "      <th>2021-09-27</th>\n",
              "      <td>3405.800049</td>\n",
              "      <td>3190.941162</td>\n",
              "    </tr>\n",
              "    <tr>\n",
              "      <th>2021-09-28</th>\n",
              "      <td>3315.959961</td>\n",
              "      <td>3188.691406</td>\n",
              "    </tr>\n",
              "    <tr>\n",
              "      <th>2021-09-29</th>\n",
              "      <td>3301.120117</td>\n",
              "      <td>3183.565430</td>\n",
              "    </tr>\n",
              "  </tbody>\n",
              "</table>\n",
              "<p>88 rows × 2 columns</p>\n",
              "</div>"
            ],
            "text/plain": [
              "                  Close  Predictions\n",
              "Date                                \n",
              "2021-05-26  3265.159912  3069.371582\n",
              "2021-05-27  3230.110107  3069.914795\n",
              "2021-05-28  3223.070068  3069.818359\n",
              "2021-06-01  3218.649902  3069.020264\n",
              "2021-06-02  3233.989990  3067.684326\n",
              "...                 ...          ...\n",
              "2021-09-23  3416.000000  3197.778076\n",
              "2021-09-24  3425.520020  3193.575439\n",
              "2021-09-27  3405.800049  3190.941162\n",
              "2021-09-28  3315.959961  3188.691406\n",
              "2021-09-29  3301.120117  3183.565430\n",
              "\n",
              "[88 rows x 2 columns]"
            ]
          },
          "metadata": {},
          "execution_count": 18
        }
      ]
    },
    {
      "cell_type": "code",
      "metadata": {
        "colab": {
          "base_uri": "https://localhost:8080/"
        },
        "id": "1_Z2x6IdK0eM",
        "outputId": "17ff2c47-b8b0-47fe-d0d0-cbdcfc67c22e"
      },
      "source": [
        "#get the quote\n",
        "apple_quote = yf.download('AMZN', start=start_date, end=end_date)\n",
        "#Create a new dataframe\n",
        "new_data = apple_quote.filter(['Close'])\n",
        "#Get the last 60 day closing price values and convert the dataframe to an array\n",
        "last_60_days = new_data[-60:].values\n",
        "last_60_days_scaled = scaler.transform(last_60_days)\n",
        "#Create an empty list\n",
        "X_test = []\n",
        "#Append the past 60 days\n",
        "X_test.append(last_60_days_scaled)\n",
        "#Convert the X_test data set to a numpy array\n",
        "X_test = np.array(X_test)\n",
        "#Reshape the data\n",
        "X_test = np.reshape(X_test, (X_test.shape[0], X_test.shape[1],1))\n",
        "#Get the predicted scaled price\n",
        "pred_price = model.predict(X_test)\n",
        "#undo the scaling\n",
        "pred_price = scaler.inverse_transform(pred_price)\n",
        "print(pred_price)\n"
      ],
      "execution_count": 19,
      "outputs": [
        {
          "output_type": "stream",
          "name": "stdout",
          "text": [
            "\r[*********************100%***********************]  1 of 1 completed\n",
            "[[3176.3303]]\n"
          ]
        }
      ]
    }
  ]
}