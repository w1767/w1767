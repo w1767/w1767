{
  "nbformat": 4,
  "nbformat_minor": 0,
  "metadata": {
    "colab": {
      "name": "Untitled0.ipynb",
      "provenance": [],
      "authorship_tag": "ABX9TyOASXV6jACmR2KWSoztdylL",
      "include_colab_link": true
    },
    "kernelspec": {
      "name": "python3",
      "display_name": "Python 3"
    },
    "language_info": {
      "name": "python"
    }
  },
  "cells": [
    {
      "cell_type": "markdown",
      "metadata": {
        "id": "view-in-github",
        "colab_type": "text"
      },
      "source": [
        "<a href=\"https://colab.research.google.com/github/w1767/w1767/blob/main/AMAZON.ipynb\" target=\"_parent\"><img src=\"https://colab.research.google.com/assets/colab-badge.svg\" alt=\"Open In Colab\"/></a>"
      ]
    },
    {
      "cell_type": "code",
      "metadata": {
        "id": "jF-rA78EBttL"
      },
      "source": [
        "# Description: this program uses an aritificial recurrent neural network called Long Short Term Memory (LSTM) to predict\n",
        "# the closing stock price of a corporation (Apple Inc.) using the past 60 day stock price. "
      ],
      "execution_count": 29,
      "outputs": []
    },
    {
      "cell_type": "code",
      "metadata": {
        "id": "wpTDFiYaHooV"
      },
      "source": [
        ""
      ],
      "execution_count": null,
      "outputs": []
    },
    {
      "cell_type": "code",
      "metadata": {
        "id": "4t9te_ZzCKmA",
        "colab": {
          "base_uri": "https://localhost:8080/"
        },
        "outputId": "4d4e5c3d-9a7b-4c90-ff0a-584c13647851"
      },
      "source": [
        "# Import the libraries\n",
        "!pip install pandas_datareader\n",
        "!pip install yfinance\n",
        "!pip install mplfinance\n",
        "import os\n",
        "import argparse\n",
        "import signal\n",
        "import yfinance as yf\n",
        "import pickle\n",
        "import mplfinance as mpf\n",
        "import math\n",
        "import pandas_datareader.data as web\n",
        "from datetime import datetime, timedelta\n",
        "import numpy as np\n",
        "import pandas as pd\n",
        "from sklearn.preprocessing import MinMaxScaler\n",
        "from keras.models import Sequential\n",
        "from keras.layers import Dense, LSTM\n",
        "#from yfinance import stock_info\n",
        "from dateutil.parser import parse\n",
        "from urllib.request import urlopen, Request\n",
        "from bs4 import BeautifulSoup\n",
        "import matplotlib.pyplot as plt\n",
        "plt.style.use('fivethirtyeight')\n",
        "start_date = datetime(2020, 1,1)\n",
        "end_date = datetime(2021, 7, 23)\n"
      ],
      "execution_count": 30,
      "outputs": [
        {
          "output_type": "stream",
          "text": [
            "Requirement already satisfied: pandas_datareader in /usr/local/lib/python3.7/dist-packages (0.9.0)\n",
            "Requirement already satisfied: lxml in /usr/local/lib/python3.7/dist-packages (from pandas_datareader) (4.6.3)\n",
            "Requirement already satisfied: requests>=2.19.0 in /usr/local/lib/python3.7/dist-packages (from pandas_datareader) (2.23.0)\n",
            "Requirement already satisfied: pandas>=0.23 in /usr/local/lib/python3.7/dist-packages (from pandas_datareader) (1.1.5)\n",
            "Requirement already satisfied: python-dateutil>=2.7.3 in /usr/local/lib/python3.7/dist-packages (from pandas>=0.23->pandas_datareader) (2.8.1)\n",
            "Requirement already satisfied: pytz>=2017.2 in /usr/local/lib/python3.7/dist-packages (from pandas>=0.23->pandas_datareader) (2018.9)\n",
            "Requirement already satisfied: numpy>=1.15.4 in /usr/local/lib/python3.7/dist-packages (from pandas>=0.23->pandas_datareader) (1.19.5)\n",
            "Requirement already satisfied: six>=1.5 in /usr/local/lib/python3.7/dist-packages (from python-dateutil>=2.7.3->pandas>=0.23->pandas_datareader) (1.15.0)\n",
            "Requirement already satisfied: chardet<4,>=3.0.2 in /usr/local/lib/python3.7/dist-packages (from requests>=2.19.0->pandas_datareader) (3.0.4)\n",
            "Requirement already satisfied: certifi>=2017.4.17 in /usr/local/lib/python3.7/dist-packages (from requests>=2.19.0->pandas_datareader) (2021.5.30)\n",
            "Requirement already satisfied: idna<3,>=2.5 in /usr/local/lib/python3.7/dist-packages (from requests>=2.19.0->pandas_datareader) (2.10)\n",
            "Requirement already satisfied: urllib3!=1.25.0,!=1.25.1,<1.26,>=1.21.1 in /usr/local/lib/python3.7/dist-packages (from requests>=2.19.0->pandas_datareader) (1.24.3)\n",
            "Requirement already satisfied: yfinance in /usr/local/lib/python3.7/dist-packages (0.1.63)\n",
            "Requirement already satisfied: requests>=2.20 in /usr/local/lib/python3.7/dist-packages (from yfinance) (2.23.0)\n",
            "Requirement already satisfied: multitasking>=0.0.7 in /usr/local/lib/python3.7/dist-packages (from yfinance) (0.0.9)\n",
            "Requirement already satisfied: numpy>=1.15 in /usr/local/lib/python3.7/dist-packages (from yfinance) (1.19.5)\n",
            "Requirement already satisfied: pandas>=0.24 in /usr/local/lib/python3.7/dist-packages (from yfinance) (1.1.5)\n",
            "Requirement already satisfied: lxml>=4.5.1 in /usr/local/lib/python3.7/dist-packages (from yfinance) (4.6.3)\n",
            "Requirement already satisfied: python-dateutil>=2.7.3 in /usr/local/lib/python3.7/dist-packages (from pandas>=0.24->yfinance) (2.8.1)\n",
            "Requirement already satisfied: pytz>=2017.2 in /usr/local/lib/python3.7/dist-packages (from pandas>=0.24->yfinance) (2018.9)\n",
            "Requirement already satisfied: six>=1.5 in /usr/local/lib/python3.7/dist-packages (from python-dateutil>=2.7.3->pandas>=0.24->yfinance) (1.15.0)\n",
            "Requirement already satisfied: chardet<4,>=3.0.2 in /usr/local/lib/python3.7/dist-packages (from requests>=2.20->yfinance) (3.0.4)\n",
            "Requirement already satisfied: certifi>=2017.4.17 in /usr/local/lib/python3.7/dist-packages (from requests>=2.20->yfinance) (2021.5.30)\n",
            "Requirement already satisfied: idna<3,>=2.5 in /usr/local/lib/python3.7/dist-packages (from requests>=2.20->yfinance) (2.10)\n",
            "Requirement already satisfied: urllib3!=1.25.0,!=1.25.1,<1.26,>=1.21.1 in /usr/local/lib/python3.7/dist-packages (from requests>=2.20->yfinance) (1.24.3)\n",
            "Requirement already satisfied: mplfinance in /usr/local/lib/python3.7/dist-packages (0.12.7a17)\n",
            "Requirement already satisfied: pandas in /usr/local/lib/python3.7/dist-packages (from mplfinance) (1.1.5)\n",
            "Requirement already satisfied: matplotlib in /usr/local/lib/python3.7/dist-packages (from mplfinance) (3.2.2)\n",
            "Requirement already satisfied: python-dateutil>=2.1 in /usr/local/lib/python3.7/dist-packages (from matplotlib->mplfinance) (2.8.1)\n",
            "Requirement already satisfied: kiwisolver>=1.0.1 in /usr/local/lib/python3.7/dist-packages (from matplotlib->mplfinance) (1.3.1)\n",
            "Requirement already satisfied: numpy>=1.11 in /usr/local/lib/python3.7/dist-packages (from matplotlib->mplfinance) (1.19.5)\n",
            "Requirement already satisfied: cycler>=0.10 in /usr/local/lib/python3.7/dist-packages (from matplotlib->mplfinance) (0.10.0)\n",
            "Requirement already satisfied: pyparsing!=2.0.4,!=2.1.2,!=2.1.6,>=2.0.1 in /usr/local/lib/python3.7/dist-packages (from matplotlib->mplfinance) (2.4.7)\n",
            "Requirement already satisfied: six in /usr/local/lib/python3.7/dist-packages (from cycler>=0.10->matplotlib->mplfinance) (1.15.0)\n",
            "Requirement already satisfied: pytz>=2017.2 in /usr/local/lib/python3.7/dist-packages (from pandas->mplfinance) (2018.9)\n"
          ],
          "name": "stdout"
        }
      ]
    },
    {
      "cell_type": "code",
      "metadata": {
        "colab": {
          "base_uri": "https://localhost:8080/",
          "height": 467
        },
        "id": "Tkat1PpYDTgp",
        "outputId": "f6375158-d223-492a-a7ed-60a36ebc3196"
      },
      "source": [
        "#Get the stock quote\n",
        "data = yf.download('AMZN', start=start_date, end=end_date)\n",
        "#df = web.DataReader('AMZN', data_source='yahoo',start='2012-01',end='2019-12-17')\n",
        "#show the data\n",
        "data.head(391)"
      ],
      "execution_count": 73,
      "outputs": [
        {
          "output_type": "stream",
          "text": [
            "\r[*********************100%***********************]  1 of 1 completed\n"
          ],
          "name": "stdout"
        },
        {
          "output_type": "execute_result",
          "data": {
            "text/html": [
              "<div>\n",
              "<style scoped>\n",
              "    .dataframe tbody tr th:only-of-type {\n",
              "        vertical-align: middle;\n",
              "    }\n",
              "\n",
              "    .dataframe tbody tr th {\n",
              "        vertical-align: top;\n",
              "    }\n",
              "\n",
              "    .dataframe thead th {\n",
              "        text-align: right;\n",
              "    }\n",
              "</style>\n",
              "<table border=\"1\" class=\"dataframe\">\n",
              "  <thead>\n",
              "    <tr style=\"text-align: right;\">\n",
              "      <th></th>\n",
              "      <th>Open</th>\n",
              "      <th>High</th>\n",
              "      <th>Low</th>\n",
              "      <th>Close</th>\n",
              "      <th>Adj Close</th>\n",
              "      <th>Volume</th>\n",
              "    </tr>\n",
              "    <tr>\n",
              "      <th>Date</th>\n",
              "      <th></th>\n",
              "      <th></th>\n",
              "      <th></th>\n",
              "      <th></th>\n",
              "      <th></th>\n",
              "      <th></th>\n",
              "    </tr>\n",
              "  </thead>\n",
              "  <tbody>\n",
              "    <tr>\n",
              "      <th>2020-01-02</th>\n",
              "      <td>1875.000000</td>\n",
              "      <td>1898.010010</td>\n",
              "      <td>1864.150024</td>\n",
              "      <td>1898.010010</td>\n",
              "      <td>1898.010010</td>\n",
              "      <td>4029000</td>\n",
              "    </tr>\n",
              "    <tr>\n",
              "      <th>2020-01-03</th>\n",
              "      <td>1864.500000</td>\n",
              "      <td>1886.199951</td>\n",
              "      <td>1864.500000</td>\n",
              "      <td>1874.969971</td>\n",
              "      <td>1874.969971</td>\n",
              "      <td>3764400</td>\n",
              "    </tr>\n",
              "    <tr>\n",
              "      <th>2020-01-06</th>\n",
              "      <td>1860.000000</td>\n",
              "      <td>1903.689941</td>\n",
              "      <td>1860.000000</td>\n",
              "      <td>1902.880005</td>\n",
              "      <td>1902.880005</td>\n",
              "      <td>4061800</td>\n",
              "    </tr>\n",
              "    <tr>\n",
              "      <th>2020-01-07</th>\n",
              "      <td>1904.500000</td>\n",
              "      <td>1913.890015</td>\n",
              "      <td>1892.040039</td>\n",
              "      <td>1906.859985</td>\n",
              "      <td>1906.859985</td>\n",
              "      <td>4044900</td>\n",
              "    </tr>\n",
              "    <tr>\n",
              "      <th>2020-01-08</th>\n",
              "      <td>1898.040039</td>\n",
              "      <td>1911.000000</td>\n",
              "      <td>1886.439941</td>\n",
              "      <td>1891.969971</td>\n",
              "      <td>1891.969971</td>\n",
              "      <td>3508000</td>\n",
              "    </tr>\n",
              "    <tr>\n",
              "      <th>...</th>\n",
              "      <td>...</td>\n",
              "      <td>...</td>\n",
              "      <td>...</td>\n",
              "      <td>...</td>\n",
              "      <td>...</td>\n",
              "      <td>...</td>\n",
              "    </tr>\n",
              "    <tr>\n",
              "      <th>2021-07-15</th>\n",
              "      <td>3694.199951</td>\n",
              "      <td>3695.399902</td>\n",
              "      <td>3620.919922</td>\n",
              "      <td>3631.199951</td>\n",
              "      <td>3631.199951</td>\n",
              "      <td>3185300</td>\n",
              "    </tr>\n",
              "    <tr>\n",
              "      <th>2021-07-16</th>\n",
              "      <td>3633.310059</td>\n",
              "      <td>3646.060059</td>\n",
              "      <td>3570.459961</td>\n",
              "      <td>3573.629883</td>\n",
              "      <td>3573.629883</td>\n",
              "      <td>4038400</td>\n",
              "    </tr>\n",
              "    <tr>\n",
              "      <th>2021-07-19</th>\n",
              "      <td>3532.580078</td>\n",
              "      <td>3550.209961</td>\n",
              "      <td>3499.159912</td>\n",
              "      <td>3549.590088</td>\n",
              "      <td>3549.590088</td>\n",
              "      <td>3784600</td>\n",
              "    </tr>\n",
              "    <tr>\n",
              "      <th>2021-07-20</th>\n",
              "      <td>3567.320068</td>\n",
              "      <td>3592.000000</td>\n",
              "      <td>3518.000000</td>\n",
              "      <td>3573.189941</td>\n",
              "      <td>3573.189941</td>\n",
              "      <td>3251900</td>\n",
              "    </tr>\n",
              "    <tr>\n",
              "      <th>2021-07-21</th>\n",
              "      <td>3576.379883</td>\n",
              "      <td>3586.449951</td>\n",
              "      <td>3543.639893</td>\n",
              "      <td>3585.199951</td>\n",
              "      <td>3585.199951</td>\n",
              "      <td>2305400</td>\n",
              "    </tr>\n",
              "  </tbody>\n",
              "</table>\n",
              "<p>391 rows × 6 columns</p>\n",
              "</div>"
            ],
            "text/plain": [
              "                   Open         High  ...    Adj Close   Volume\n",
              "Date                                  ...                      \n",
              "2020-01-02  1875.000000  1898.010010  ...  1898.010010  4029000\n",
              "2020-01-03  1864.500000  1886.199951  ...  1874.969971  3764400\n",
              "2020-01-06  1860.000000  1903.689941  ...  1902.880005  4061800\n",
              "2020-01-07  1904.500000  1913.890015  ...  1906.859985  4044900\n",
              "2020-01-08  1898.040039  1911.000000  ...  1891.969971  3508000\n",
              "...                 ...          ...  ...          ...      ...\n",
              "2021-07-15  3694.199951  3695.399902  ...  3631.199951  3185300\n",
              "2021-07-16  3633.310059  3646.060059  ...  3573.629883  4038400\n",
              "2021-07-19  3532.580078  3550.209961  ...  3549.590088  3784600\n",
              "2021-07-20  3567.320068  3592.000000  ...  3573.189941  3251900\n",
              "2021-07-21  3576.379883  3586.449951  ...  3585.199951  2305400\n",
              "\n",
              "[391 rows x 6 columns]"
            ]
          },
          "metadata": {
            "tags": []
          },
          "execution_count": 73
        }
      ]
    },
    {
      "cell_type": "code",
      "metadata": {
        "id": "iINONBjJCmEs"
      },
      "source": [
        ""
      ],
      "execution_count": 73,
      "outputs": []
    },
    {
      "cell_type": "code",
      "metadata": {
        "colab": {
          "base_uri": "https://localhost:8080/"
        },
        "id": "-1NflEs4D4Bv",
        "outputId": "84dcfb32-cce1-4791-9015-649267cde224"
      },
      "source": [
        "#Get the number of rows and columns in the data set\n",
        "data.shape\n",
        "\n"
      ],
      "execution_count": 74,
      "outputs": [
        {
          "output_type": "execute_result",
          "data": {
            "text/plain": [
              "(392, 6)"
            ]
          },
          "metadata": {
            "tags": []
          },
          "execution_count": 74
        }
      ]
    },
    {
      "cell_type": "code",
      "metadata": {
        "colab": {
          "base_uri": "https://localhost:8080/",
          "height": 523
        },
        "id": "nASYYE3wEFyH",
        "outputId": "84de8fb8-888b-4ed0-efbe-11f4592f35ab"
      },
      "source": [
        "mpf.plot(data, type='candle', mav= (3,6,9), volume=True, show_nontrading=True)\n",
        "#Visualize the closing price history\n",
        "#plt.figure(figsize=(16,8))\n",
        "#plt.title('Close Price History')\n",
        "#plt.plot(df['Close'])\n",
        "#plt.xlabel('Date',fontsize=18)\n",
        "#plt.ylabel('Close Price USD($)',fontsize=18)\n",
        "#plt.show()"
      ],
      "execution_count": 75,
      "outputs": [
        {
          "output_type": "display_data",
          "data": {
            "image/png": "[encoded data removed]",
            "text/plain": [
              "<Figure size 800x575 with 4 Axes>"
            ]
          },
          "metadata": {
            "tags": []
          }
        }
      ]
    },
    {
      "cell_type": "code",
      "metadata": {
        "id": "5u3vU4T5HqUi"
      },
      "source": [
        ""
      ],
      "execution_count": 38,
      "outputs": []
    },
    {
      "cell_type": "code",
      "metadata": {
        "colab": {
          "base_uri": "https://localhost:8080/"
        },
        "id": "LhjmcNHG7Tbm",
        "outputId": "44f9eb00-d929-4591-9a30-63d5cb9e2cf2"
      },
      "source": [
        "#Create a new dataframe with only the 'Close column'\n",
        "data = data.filter(['Close'])\n",
        "#Convert the dataframe to a numpy array\n",
        "dataset = data.values\n",
        "#Get the number of rows to train the model on \n",
        "training_data_len = math.ceil(len(dataset) * .8)\n",
        "\n",
        "training_data_len"
      ],
      "execution_count": 76,
      "outputs": [
        {
          "output_type": "execute_result",
          "data": {
            "text/plain": [
              "314"
            ]
          },
          "metadata": {
            "tags": []
          },
          "execution_count": 76
        }
      ]
    },
    {
      "cell_type": "code",
      "metadata": {
        "colab": {
          "base_uri": "https://localhost:8080/"
        },
        "id": "7KFZs2c38gaO",
        "outputId": "7af66bfc-0241-49bc-fcff-eb2d5126abe2"
      },
      "source": [
        "#Scale the data\n",
        "scaler = MinMaxScaler(feature_range=(0,1))\n",
        "scaled_data = scaler.fit_transform(dataset)\n",
        "scaled_data\n",
        "\n"
      ],
      "execution_count": 77,
      "outputs": [
        {
          "output_type": "execute_result",
          "data": {
            "text/plain": [
              "array([[0.10774773],\n",
              "       [0.09653494],\n",
              "       [0.11011779],\n",
              "       [0.11205471],\n",
              "       [0.10480825],\n",
              "       [0.10922721],\n",
              "       [0.10052076],\n",
              "       [0.10448222],\n",
              "       [0.09384367],\n",
              "       [0.09023265],\n",
              "       [0.09798032],\n",
              "       [0.09154662],\n",
              "       [0.10482286],\n",
              "       [0.10261338],\n",
              "       [0.10121179],\n",
              "       [0.09004771],\n",
              "       [0.07384173],\n",
              "       [0.08596458],\n",
              "       [0.08827624],\n",
              "       [0.09444718],\n",
              "       [0.16162643],\n",
              "       [0.1594267 ],\n",
              "       [0.18155536],\n",
              "       [0.17678607],\n",
              "       [0.18182792],\n",
              "       [0.19596557],\n",
              "       [0.22255205],\n",
              "       [0.23077189],\n",
              "       [0.23524919],\n",
              "       [0.23031932],\n",
              "       [0.22301934],\n",
              "       [0.23314189],\n",
              "       [0.24022289],\n",
              "       [0.23189124],\n",
              "       [0.20408799],\n",
              "       [0.16190387],\n",
              "       [0.14411622],\n",
              "       [0.14744987],\n",
              "       [0.10107556],\n",
              "       [0.10080788],\n",
              "       [0.13497176],\n",
              "       [0.1130913 ],\n",
              "       [0.14562   ],\n",
              "       [0.12041077],\n",
              "       [0.10924664],\n",
              "       [0.06034651],\n",
              "       [0.10473524],\n",
              "       [0.07020148],\n",
              "       [0.        ],\n",
              "       [0.05274967],\n",
              "       [0.0061028 ],\n",
              "       [0.06386509],\n",
              "       [0.07464961],\n",
              "       [0.0994355 ],\n",
              "       [0.08248004],\n",
              "       [0.11009343],\n",
              "       [0.12823146],\n",
              "       [0.10182499],\n",
              "       [0.13572125],\n",
              "       [0.10876484],\n",
              "       [0.13983842],\n",
              "       [0.13291318],\n",
              "       [0.11246349],\n",
              "       [0.11788008],\n",
              "       [0.1119233 ],\n",
              "       [0.15620985],\n",
              "       [0.16302803],\n",
              "       [0.17830934],\n",
              "       [0.17819254],\n",
              "       [0.23956597],\n",
              "       [0.2952648 ],\n",
              "       [0.3071199 ],\n",
              "       [0.35603464],\n",
              "       [0.33988225],\n",
              "       [0.34893914],\n",
              "       [0.31706743],\n",
              "       [0.33428072],\n",
              "       [0.35178119],\n",
              "       [0.35702259],\n",
              "       [0.34036891],\n",
              "       [0.31023463],\n",
              "       [0.33876776],\n",
              "       [0.38806212],\n",
              "       [0.29658851],\n",
              "       [0.31116412],\n",
              "       [0.31204501],\n",
              "       [0.32832881],\n",
              "       [0.33628584],\n",
              "       [0.34212583],\n",
              "       [0.35642887],\n",
              "       [0.33109791],\n",
              "       [0.33643662],\n",
              "       [0.34662261],\n",
              "       [0.35680848],\n",
              "       [0.36482872],\n",
              "       [0.37605612],\n",
              "       [0.39971286],\n",
              "       [0.37479562],\n",
              "       [0.36999704],\n",
              "       [0.36268744],\n",
              "       [0.35710528],\n",
              "       [0.35258426],\n",
              "       [0.37266895],\n",
              "       [0.38662161],\n",
              "       [0.38728828],\n",
              "       [0.3902034 ],\n",
              "       [0.38154085],\n",
              "       [0.39244211],\n",
              "       [0.41242462],\n",
              "       [0.44980054],\n",
              "       [0.47247421],\n",
              "       [0.42892253],\n",
              "       [0.4226251 ],\n",
              "       [0.43608623],\n",
              "       [0.45681335],\n",
              "       [0.4693255 ],\n",
              "       [0.47565215],\n",
              "       [0.48588673],\n",
              "       [0.50477425],\n",
              "       [0.52939457],\n",
              "       [0.51478974],\n",
              "       [0.52461073],\n",
              "       [0.49457863],\n",
              "       [0.48850006],\n",
              "       [0.52667419],\n",
              "       [0.58501558],\n",
              "       [0.59066094],\n",
              "       [0.67180753],\n",
              "       [0.64410657],\n",
              "       [0.68352159],\n",
              "       [0.73292776],\n",
              "       [0.74138119],\n",
              "       [0.69466131],\n",
              "       [0.68492801],\n",
              "       [0.64836489],\n",
              "       [0.6439994 ],\n",
              "       [0.62554021],\n",
              "       [0.73984337],\n",
              "       [0.71134909],\n",
              "       [0.69267081],\n",
              "       [0.63750249],\n",
              "       [0.64838426],\n",
              "       [0.67091689],\n",
              "       [0.64420875],\n",
              "       [0.66036602],\n",
              "       [0.66929626],\n",
              "       [0.72419214],\n",
              "       [0.69850105],\n",
              "       [0.71161191],\n",
              "       [0.74382913],\n",
              "       [0.75354782],\n",
              "       [0.72554508],\n",
              "       [0.71615241],\n",
              "       [0.68330737],\n",
              "       [0.7230047 ],\n",
              "       [0.72241098],\n",
              "       [0.71608433],\n",
              "       [0.7328207 ],\n",
              "       [0.79612617],\n",
              "       [0.7708147 ],\n",
              "       [0.78876786],\n",
              "       [0.78261147],\n",
              "       [0.79367823],\n",
              "       [0.8126728 ],\n",
              "       [0.85908126],\n",
              "       [0.83871427],\n",
              "       [0.83959029],\n",
              "       [0.86351472],\n",
              "       [0.8869526 ],\n",
              "       [0.90268641],\n",
              "       [0.82314097],\n",
              "       [0.78742953],\n",
              "       [0.7169701 ],\n",
              "       [0.77477135],\n",
              "       [0.72926814],\n",
              "       [0.70060835],\n",
              "       [0.69416003],\n",
              "       [0.72003112],\n",
              "       [0.68205673],\n",
              "       [0.64829669],\n",
              "       [0.62210433],\n",
              "       [0.62481022],\n",
              "       [0.70682308],\n",
              "       [0.64398003],\n",
              "       [0.65367924],\n",
              "       [0.69034453],\n",
              "       [0.72875225],\n",
              "       [0.71455614],\n",
              "       [0.71642985],\n",
              "       [0.7517277 ],\n",
              "       [0.70488129],\n",
              "       [0.74099183],\n",
              "       [0.69269517],\n",
              "       [0.73928363],\n",
              "       [0.73678223],\n",
              "       [0.7835507 ],\n",
              "       [0.85960678],\n",
              "       [0.85994742],\n",
              "       [0.82105316],\n",
              "       [0.8088573 ],\n",
              "       [0.77676661],\n",
              "       [0.74489003],\n",
              "       [0.74965937],\n",
              "       [0.73405198],\n",
              "       [0.72989584],\n",
              "       [0.74352247],\n",
              "       [0.74480733],\n",
              "       [0.78339505],\n",
              "       [0.72326752],\n",
              "       [0.74673938],\n",
              "       [0.66164102],\n",
              "       [0.64622836],\n",
              "       [0.66760754],\n",
              "       [0.76141229],\n",
              "       [0.80075437],\n",
              "       [0.79558117],\n",
              "       [0.71400139],\n",
              "       [0.66109114],\n",
              "       [0.71091102],\n",
              "       [0.69771759],\n",
              "       [0.70673551],\n",
              "       [0.70783051],\n",
              "       [0.7100691 ],\n",
              "       [0.69537183],\n",
              "       [0.70099771],\n",
              "       [0.6924226 ],\n",
              "       [0.69193107],\n",
              "       [0.70150386],\n",
              "       [0.73411531],\n",
              "       [0.73911337],\n",
              "       [0.72582738],\n",
              "       [0.75115347],\n",
              "       [0.74309913],\n",
              "       [0.73492313],\n",
              "       [0.72317021],\n",
              "       [0.72094124],\n",
              "       [0.73032904],\n",
              "       [0.69475862],\n",
              "       [0.69343978],\n",
              "       [0.70070566],\n",
              "       [0.72043996],\n",
              "       [0.72440636],\n",
              "       [0.76131499],\n",
              "       [0.75894012],\n",
              "       [0.74218414],\n",
              "       [0.74438875],\n",
              "       [0.74455426],\n",
              "       [0.73421262],\n",
              "       [0.72809033],\n",
              "       [0.7822416 ],\n",
              "       [0.80075437],\n",
              "       [0.78316146],\n",
              "       [0.76908702],\n",
              "       [0.73487442],\n",
              "       [0.75038937],\n",
              "       [0.71139281],\n",
              "       [0.72296573],\n",
              "       [0.73296185],\n",
              "       [0.69963015],\n",
              "       [0.70285193],\n",
              "       [0.72478098],\n",
              "       [0.70608334],\n",
              "       [0.69478298],\n",
              "       [0.70281783],\n",
              "       [0.77222599],\n",
              "       [0.79344951],\n",
              "       [0.78626633],\n",
              "       [0.78712774],\n",
              "       [0.80276424],\n",
              "       [0.75723679],\n",
              "       [0.7596896 ],\n",
              "       [0.74439849],\n",
              "       [0.81091588],\n",
              "       [0.82898096],\n",
              "       [0.79614566],\n",
              "       [0.80513436],\n",
              "       [0.81542728],\n",
              "       [0.8012118 ],\n",
              "       [0.79248106],\n",
              "       [0.78351672],\n",
              "       [0.77161765],\n",
              "       [0.77919994],\n",
              "       [0.77493674],\n",
              "       [0.79425247],\n",
              "       [0.80378628],\n",
              "       [0.76566575],\n",
              "       [0.73200801],\n",
              "       [0.73870453],\n",
              "       [0.72168586],\n",
              "       [0.67186586],\n",
              "       [0.68927389],\n",
              "       [0.71516934],\n",
              "       [0.69005261],\n",
              "       [0.64648144],\n",
              "       [0.63313224],\n",
              "       [0.64427196],\n",
              "       [0.62066382],\n",
              "       [0.67463508],\n",
              "       [0.67209945],\n",
              "       [0.69932848],\n",
              "       [0.68759979],\n",
              "       [0.68379891],\n",
              "       [0.68875325],\n",
              "       [0.7101032 ],\n",
              "       [0.65766987],\n",
              "       [0.68052853],\n",
              "       [0.69800476],\n",
              "       [0.7109646 ],\n",
              "       [0.6864221 ],\n",
              "       [0.66656126],\n",
              "       [0.66936933],\n",
              "       [0.68090327],\n",
              "       [0.67095586],\n",
              "       [0.68983363],\n",
              "       [0.72240124],\n",
              "       [0.75438975],\n",
              "       [0.75297359],\n",
              "       [0.7800175 ],\n",
              "       [0.78970709],\n",
              "       [0.82518495],\n",
              "       [0.82868404],\n",
              "       [0.83871427],\n",
              "       [0.80610769],\n",
              "       [0.82853814],\n",
              "       [0.83844171],\n",
              "       [0.82509251],\n",
              "       [0.80693012],\n",
              "       [0.82023073],\n",
              "       [0.7944472 ],\n",
              "       [0.80994255],\n",
              "       [0.84309426],\n",
              "       [0.84719681],\n",
              "       [0.86718419],\n",
              "       [0.8734184 ],\n",
              "       [0.87152521],\n",
              "       [0.83213941],\n",
              "       [0.7958245 ],\n",
              "       [0.77571059],\n",
              "       [0.79314784],\n",
              "       [0.78596466],\n",
              "       [0.736753  ],\n",
              "       [0.75301732],\n",
              "       [0.71799202],\n",
              "       [0.72262996],\n",
              "       [0.75252578],\n",
              "       [0.77563751],\n",
              "       [0.75709076],\n",
              "       [0.75685717],\n",
              "       [0.76458536],\n",
              "       [0.74288016],\n",
              "       [0.76327626],\n",
              "       [0.7701188 ],\n",
              "       [0.77309226],\n",
              "       [0.75603474],\n",
              "       [0.75260859],\n",
              "       [0.75045745],\n",
              "       [0.75792294],\n",
              "       [0.73505941],\n",
              "       [0.74440823],\n",
              "       [0.74041273],\n",
              "       [0.77258136],\n",
              "       [0.78087404],\n",
              "       [0.81421062],\n",
              "       [0.81283831],\n",
              "       [0.83086441],\n",
              "       [0.83050417],\n",
              "       [0.84613591],\n",
              "       [0.88214428],\n",
              "       [0.88100544],\n",
              "       [0.86497471],\n",
              "       [0.89002824],\n",
              "       [0.8892399 ],\n",
              "       [0.86259984],\n",
              "       [0.83942478],\n",
              "       [0.86007396],\n",
              "       [0.86214229],\n",
              "       [0.85825871],\n",
              "       [0.85475961],\n",
              "       [0.89272438],\n",
              "       [0.97290738],\n",
              "       [0.98304953],\n",
              "       [1.        ],\n",
              "       [0.99412603],\n",
              "       [0.99374155],\n",
              "       [0.97369583],\n",
              "       [0.97579814],\n",
              "       [0.95123128],\n",
              "       [0.92321392],\n",
              "       [0.91151459],\n",
              "       [0.92299982],\n",
              "       [0.92884467],\n",
              "       [0.95455524]])"
            ]
          },
          "metadata": {
            "tags": []
          },
          "execution_count": 77
        }
      ]
    },
    {
      "cell_type": "code",
      "metadata": {
        "colab": {
          "base_uri": "https://localhost:8080/"
        },
        "id": "ryDBUAM-9WEv",
        "outputId": "b5527865-2e5e-48ca-9551-6f9c771c3784"
      },
      "source": [
        "#Create the training data set\n",
        "#Create the scaled training data set\n",
        "train_data = scaled_data[0:training_data_len , :]\n",
        "#Split the data into x_train and y_train data sets\n",
        "x_train = []\n",
        "y_train = []\n",
        "\n",
        "for i in range(60, len(train_data)):\n",
        "  x_train.append(train_data[i-60:i, 0])\n",
        "  y_train.append(train_data[i,0])\n",
        "  if i <= 60:\n",
        "    print (x_train)\n",
        "    print (y_train)\n",
        "    print ()"
      ],
      "execution_count": 78,
      "outputs": [
        {
          "output_type": "stream",
          "text": [
            "[array([0.10774773, 0.09653494, 0.11011779, 0.11205471, 0.10480825,\n",
            "       0.10922721, 0.10052076, 0.10448222, 0.09384367, 0.09023265,\n",
            "       0.09798032, 0.09154662, 0.10482286, 0.10261338, 0.10121179,\n",
            "       0.09004771, 0.07384173, 0.08596458, 0.08827624, 0.09444718,\n",
            "       0.16162643, 0.1594267 , 0.18155536, 0.17678607, 0.18182792,\n",
            "       0.19596557, 0.22255205, 0.23077189, 0.23524919, 0.23031932,\n",
            "       0.22301934, 0.23314189, 0.24022289, 0.23189124, 0.20408799,\n",
            "       0.16190387, 0.14411622, 0.14744987, 0.10107556, 0.10080788,\n",
            "       0.13497176, 0.1130913 , 0.14562   , 0.12041077, 0.10924664,\n",
            "       0.06034651, 0.10473524, 0.07020148, 0.        , 0.05274967,\n",
            "       0.0061028 , 0.06386509, 0.07464961, 0.0994355 , 0.08248004,\n",
            "       0.11009343, 0.12823146, 0.10182499, 0.13572125, 0.10876484])]\n",
            "[0.13983841544791897]\n",
            "\n"
          ],
          "name": "stdout"
        }
      ]
    },
    {
      "cell_type": "code",
      "metadata": {
        "colab": {
          "base_uri": "https://localhost:8080/"
        },
        "id": "dmJfr5Rh-me3",
        "outputId": "580c8def-364c-479f-ed3b-e565aa0c6000"
      },
      "source": [
        "#Convert the x_train and y_train to numpy arrays\n",
        "x_train, y_train = np.array(x_train), np.array(y_train)\n",
        "\n",
        "#Reshape the data\n",
        "x_train = np.reshape(x_train, (x_train.shape[0], x_train.shape[1], 1))\n",
        "x_train.shape\n"
      ],
      "execution_count": 79,
      "outputs": [
        {
          "output_type": "execute_result",
          "data": {
            "text/plain": [
              "(254, 60, 1)"
            ]
          },
          "metadata": {
            "tags": []
          },
          "execution_count": 79
        }
      ]
    },
    {
      "cell_type": "code",
      "metadata": {
        "id": "asLm_vfh_s7Y"
      },
      "source": [
        "#Build the LSTM model\n",
        "model = Sequential()\n",
        "model.add(LSTM(50, return_sequences=True, input_shape=(x_train.shape[1], 1)))\n",
        "model.add(LSTM(50, return_sequences= False))\n",
        "model.add(Dense(25))\n",
        "model.add(Dense(1))\n",
        "\n"
      ],
      "execution_count": 82,
      "outputs": []
    },
    {
      "cell_type": "code",
      "metadata": {
        "id": "t2HR6Nd_CnK7"
      },
      "source": [
        "#Compile the model\n",
        "model.compile(optimizer = 'adam', loss = 'mean_squared_error')"
      ],
      "execution_count": 83,
      "outputs": []
    },
    {
      "cell_type": "code",
      "metadata": {
        "id": "9oWMWd78DgoF"
      },
      "source": [
        ""
      ],
      "execution_count": null,
      "outputs": []
    },
    {
      "cell_type": "code",
      "metadata": {
        "colab": {
          "base_uri": "https://localhost:8080/"
        },
        "id": "26KDGTykD8p2",
        "outputId": "69c7516c-2531-41c6-ed6b-34a4cee4c7b7"
      },
      "source": [
        "#train the model\n",
        "model.fit(x_train, y_train, batch_size=1, epochs=1)"
      ],
      "execution_count": 84,
      "outputs": [
        {
          "output_type": "stream",
          "text": [
            "254/254 [==============================] - 10s 26ms/step - loss: 0.0367\n"
          ],
          "name": "stdout"
        },
        {
          "output_type": "execute_result",
          "data": {
            "text/plain": [
              "<keras.callbacks.History at 0x7f896ba0bad0>"
            ]
          },
          "metadata": {
            "tags": []
          },
          "execution_count": 84
        }
      ]
    },
    {
      "cell_type": "code",
      "metadata": {
        "id": "ftOrs7HgEdBX"
      },
      "source": [
        "#Create the testing data set\n",
        "#Create a new array containing scaled values from index 1543 to 2003\n",
        "test_data = scaled_data[training_data_len - 60: , :]\n",
        "#Create the data sets x_test and y_test\n",
        "x_test = []\n",
        "y_test = dataset[training_data_len:, :]\n",
        "for i in range(60, len(test_data)):\n",
        "  x_test.append(test_data[i-60:i,0])"
      ],
      "execution_count": 85,
      "outputs": []
    },
    {
      "cell_type": "code",
      "metadata": {
        "id": "4gRIhRssFQx2"
      },
      "source": [
        "#Convert the data to a numpy array\n",
        "x_test = np.array(x_test)\n",
        "\n"
      ],
      "execution_count": 86,
      "outputs": []
    },
    {
      "cell_type": "code",
      "metadata": {
        "id": "6GXuXBDkFk0-"
      },
      "source": [
        "#Reshape the data\n",
        "x_test = np.reshape(x_test, (x_test.shape[0], x_test.shape[1],1))\n",
        "\n",
        "#Get the models predicted price values\n",
        "predictions = model.predict(x_test)\n",
        "predictions = scaler.inverse_transform(predictions)\n"
      ],
      "execution_count": 87,
      "outputs": []
    },
    {
      "cell_type": "code",
      "metadata": {
        "colab": {
          "base_uri": "https://localhost:8080/"
        },
        "id": "R_bqn0kwGHWu",
        "outputId": "241376fb-d331-4f1a-c70b-18cd25b0e874"
      },
      "source": [
        "#Get the root mean squared error (RMSE)\n",
        "rmse = np.sqrt( np.mean(predictions - y_test)**2)\n",
        "rmse"
      ],
      "execution_count": 88,
      "outputs": [
        {
          "output_type": "execute_result",
          "data": {
            "text/plain": [
              "37.6419928135016"
            ]
          },
          "metadata": {
            "tags": []
          },
          "execution_count": 88
        }
      ]
    },
    {
      "cell_type": "code",
      "metadata": {
        "colab": {
          "base_uri": "https://localhost:8080/",
          "height": 575
        },
        "id": "H3fHhAOjGr-y",
        "outputId": "aa478701-e2b7-4d16-a392-acda7f43c997"
      },
      "source": [
        "#Plot the data\n",
        "train = data[:training_data_len]\n",
        "valid = data[training_data_len:]\n",
        "valid['Predictions'] = predictions\n",
        "#Visualise the data\n",
        "plt.figure(figsize=(16,8))\n",
        "plt.title('Model')\n",
        "plt.xlabel('Date',fontsize=18)\n",
        "plt.ylabel('Close Price USD ($)', fontsize=18)\n",
        "plt.plot(train['Close'])\n",
        "plt.plot(valid[['Close','Predictions']])\n",
        "plt.legend(['Train', 'Val', 'Predictions'], loc='lower right')\n",
        "plt.show()\n"
      ],
      "execution_count": 89,
      "outputs": [
        {
          "output_type": "stream",
          "text": [
            "/usr/local/lib/python3.7/dist-packages/ipykernel_launcher.py:4: SettingWithCopyWarning: \n",
            "A value is trying to be set on a copy of a slice from a DataFrame.\n",
            "Try using .loc[row_indexer,col_indexer] = value instead\n",
            "\n",
            "See the caveats in the documentation: https://pandas.pydata.org/pandas-docs/stable/user_guide/indexing.html#returning-a-view-versus-a-copy\n",
            "  after removing the cwd from sys.path.\n"
          ],
          "name": "stderr"
        },
        {
          "output_type": "display_data",
          "data": {
            "image/png": "[encoded data removed]",
            "text/plain": [
              "<Figure size 1600x800 with 1 Axes>"
            ]
          },
          "metadata": {
            "tags": []
          }
        }
      ]
    },
    {
      "cell_type": "code",
      "metadata": {
        "colab": {
          "base_uri": "https://localhost:8080/",
          "height": 450
        },
        "id": "8MziIYyZKV8k",
        "outputId": "a288a07b-deef-407e-fc96-a8aca9c28d50"
      },
      "source": [
        "#show the valid and predicted return\n",
        "valid"
      ],
      "execution_count": 90,
      "outputs": [
        {
          "output_type": "execute_result",
          "data": {
            "text/html": [
              "<div>\n",
              "<style scoped>\n",
              "    .dataframe tbody tr th:only-of-type {\n",
              "        vertical-align: middle;\n",
              "    }\n",
              "\n",
              "    .dataframe tbody tr th {\n",
              "        vertical-align: top;\n",
              "    }\n",
              "\n",
              "    .dataframe thead th {\n",
              "        text-align: right;\n",
              "    }\n",
              "</style>\n",
              "<table border=\"1\" class=\"dataframe\">\n",
              "  <thead>\n",
              "    <tr style=\"text-align: right;\">\n",
              "      <th></th>\n",
              "      <th>Close</th>\n",
              "      <th>Predictions</th>\n",
              "    </tr>\n",
              "    <tr>\n",
              "      <th>Date</th>\n",
              "      <th></th>\n",
              "      <th></th>\n",
              "    </tr>\n",
              "  </thead>\n",
              "  <tbody>\n",
              "    <tr>\n",
              "      <th>2021-04-01</th>\n",
              "      <td>3161.000000</td>\n",
              "      <td>3136.249512</td>\n",
              "    </tr>\n",
              "    <tr>\n",
              "      <th>2021-04-05</th>\n",
              "      <td>3226.729980</td>\n",
              "      <td>3138.860840</td>\n",
              "    </tr>\n",
              "    <tr>\n",
              "      <th>2021-04-06</th>\n",
              "      <td>3223.820068</td>\n",
              "      <td>3145.876221</td>\n",
              "    </tr>\n",
              "    <tr>\n",
              "      <th>2021-04-07</th>\n",
              "      <td>3279.389893</td>\n",
              "      <td>3155.298584</td>\n",
              "    </tr>\n",
              "    <tr>\n",
              "      <th>2021-04-08</th>\n",
              "      <td>3299.300049</td>\n",
              "      <td>3167.938477</td>\n",
              "    </tr>\n",
              "    <tr>\n",
              "      <th>...</th>\n",
              "      <td>...</td>\n",
              "      <td>...</td>\n",
              "    </tr>\n",
              "    <tr>\n",
              "      <th>2021-07-16</th>\n",
              "      <td>3573.629883</td>\n",
              "      <td>3566.492188</td>\n",
              "    </tr>\n",
              "    <tr>\n",
              "      <th>2021-07-19</th>\n",
              "      <td>3549.590088</td>\n",
              "      <td>3572.801514</td>\n",
              "    </tr>\n",
              "    <tr>\n",
              "      <th>2021-07-20</th>\n",
              "      <td>3573.189941</td>\n",
              "      <td>3574.831055</td>\n",
              "    </tr>\n",
              "    <tr>\n",
              "      <th>2021-07-21</th>\n",
              "      <td>3585.199951</td>\n",
              "      <td>3574.864746</td>\n",
              "    </tr>\n",
              "    <tr>\n",
              "      <th>2021-07-22</th>\n",
              "      <td>3638.030029</td>\n",
              "      <td>3574.022949</td>\n",
              "    </tr>\n",
              "  </tbody>\n",
              "</table>\n",
              "<p>78 rows × 2 columns</p>\n",
              "</div>"
            ],
            "text/plain": [
              "                  Close  Predictions\n",
              "Date                                \n",
              "2021-04-01  3161.000000  3136.249512\n",
              "2021-04-05  3226.729980  3138.860840\n",
              "2021-04-06  3223.820068  3145.876221\n",
              "2021-04-07  3279.389893  3155.298584\n",
              "2021-04-08  3299.300049  3167.938477\n",
              "...                 ...          ...\n",
              "2021-07-16  3573.629883  3566.492188\n",
              "2021-07-19  3549.590088  3572.801514\n",
              "2021-07-20  3573.189941  3574.831055\n",
              "2021-07-21  3585.199951  3574.864746\n",
              "2021-07-22  3638.030029  3574.022949\n",
              "\n",
              "[78 rows x 2 columns]"
            ]
          },
          "metadata": {
            "tags": []
          },
          "execution_count": 90
        }
      ]
    },
    {
      "cell_type": "code",
      "metadata": {
        "colab": {
          "base_uri": "https://localhost:8080/"
        },
        "id": "1_Z2x6IdK0eM",
        "outputId": "4eaf9d20-226c-4e58-dddd-215b03ca21ba"
      },
      "source": [
        "#get the quote\n",
        "apple_quote = yf.download('AMZN', start=start_date, end=end_date)\n",
        "#Create a new dataframe\n",
        "new_data = apple_quote.filter(['Close'])\n",
        "#Get the last 60 day closing price values and convert the dataframe to an array\n",
        "last_60_days = new_data[-60:].values\n",
        "last_60_days_scaled = scaler.transform(last_60_days)\n",
        "#Create an empty list\n",
        "X_test = []\n",
        "#Append the past 60 days\n",
        "X_test.append(last_60_days_scaled)\n",
        "#Convert the X_test data set to a numpy array\n",
        "X_test = np.array(X_test)\n",
        "#Reshape the data\n",
        "X_test = np.reshape(X_test, (X_test.shape[0], X_test.shape[1],1))\n",
        "#Get the predicted scaled price\n",
        "pred_price = model.predict(X_test)\n",
        "#undo the scaling\n",
        "pred_price = scaler.inverse_transform(pred_price)\n",
        "print(pred_price)\n"
      ],
      "execution_count": 92,
      "outputs": [
        {
          "output_type": "stream",
          "text": [
            "\r[*********************100%***********************]  1 of 1 completed\n",
            "[[3574.5293]]\n"
          ],
          "name": "stdout"
        }
      ]
    }
  ]
}