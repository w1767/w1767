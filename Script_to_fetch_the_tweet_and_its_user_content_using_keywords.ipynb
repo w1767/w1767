{
  "nbformat": 4,
  "nbformat_minor": 0,
  "metadata": {
    "kernelspec": {
      "display_name": "Python 3",
      "language": "python",
      "name": "python3"
    },
    "language_info": {
      "codemirror_mode": {
        "name": "ipython",
        "version": 3
      },
      "file_extension": ".py",
      "mimetype": "text/x-python",
      "name": "python",
      "nbconvert_exporter": "python",
      "pygments_lexer": "ipython3",
      "version": "3.8.5"
    },
    "colab": {
      "name": "Script to fetch the tweet and its user content using keywords.ipynb",
      "provenance": [],
      "include_colab_link": true
    }
  },
  "cells": [
    {
      "cell_type": "markdown",
      "metadata": {
        "id": "view-in-github",
        "colab_type": "text"
      },
      "source": [
        "<a href=\"https://colab.research.google.com/github/w1767/w1767/blob/main/Script_to_fetch_the_tweet_and_its_user_content_using_keywords.ipynb\" target=\"_parent\"><img src=\"https://colab.research.google.com/assets/colab-badge.svg\" alt=\"Open In Colab\"/></a>"
      ]
    },
    {
      "cell_type": "markdown",
      "metadata": {
        "id": "R3HPD-L2K7wD"
      },
      "source": [
        "#### PANGAIA"
      ]
    },
    {
      "cell_type": "code",
      "metadata": {
        "id": "uNYCR2T3K7wF"
      },
      "source": [
        "import os\n",
        "import tweepy as tw\n",
        "import pandas as pd\n",
        "consumer_key= 'PWSW8ixkM13L35pREUbsGuYSG'\n",
        "consumer_secret= 'VIaYRkNNn9oZmQtENZLvNQzlavBGRimMmOlyTQvvpPnVhbHMYL'\n",
        "access_token= '826107931846463488-rBaRFGTxHVXyKDMlyh76439HxtiqrK2'\n",
        "access_token_secret= 'KVyJwx9tMZAIoPSd4edWcPGRIB9o7fCNQUceNktnPabtG'\n",
        "auth = tw.OAuthHandler(consumer_key, consumer_secret)\n",
        "auth.set_access_token(access_token, access_token_secret)\n",
        "api = tw.API(auth, wait_on_rate_limit=True)\n",
        "auth = tw.OAuthHandler(consumer_key, consumer_secret)\n",
        "auth.set_access_token(access_token, access_token_secret)\n",
        "\n",
        "api = tw.API(auth)\n",
        "count=0\n",
        "lst=[]\n",
        "\n",
        "# Define the search term and the date_since date as variables\n",
        "search_words = \"#PANGAIA\"\n",
        "# Collect tweets\n",
        "\n",
        "#Tweet attributes\n",
        "tId=[]\n",
        "tDate=[]\n",
        "tweetText=[]\n",
        "rc=[]\n",
        "fc=[]\n",
        "favourite=[]\n",
        "retweeted=[]\n",
        "\n",
        "#User Attributes\n",
        "uDate=[] \n",
        "screen_name=[]\n",
        "sc=[]\n",
        "followerCount=[]\n",
        "friendCount=[]\n",
        "userFavCount=[]\n",
        "\n",
        "\n",
        "\n",
        "\n",
        "for tweet in tw.Cursor(api.search,q=search_words,lang=\"en\").items():\n",
        "        #Tweet Level\n",
        "        tId.append(tweet.id)\n",
        "        tweetText.append(tweet.text)\n",
        "        tDate.append(tweet.created_at)\n",
        "        rc.append(tweet.retweet_count)\n",
        "        fc.append(tweet.favorite_count)\n",
        "        favourite.append(tweet.favorited)\n",
        "        retweeted.append(tweet.retweeted)\n",
        "        #User level\n",
        "        uDate.append(tweet.user.created_at)\n",
        "        screen_name.append(tweet.user.screen_name)\n",
        "        sc.append(tweet.user.statuses_count)\n",
        "        followerCount.append(tweet.user.followers_count)\n",
        "        friendCount.append(tweet.user.friends_count)\n",
        "        userFavCount.append(tweet.user.favourites_count)\n",
        "        \n",
        "        "
      ],
      "execution_count": 41,
      "outputs": []
    },
    {
      "cell_type": "code",
      "metadata": {
        "id": "V_ats3bUK7wG"
      },
      "source": [
        ""
      ],
      "execution_count": null,
      "outputs": []
    },
    {
      "cell_type": "code",
      "metadata": {
        "id": "p317nDB4K7wG"
      },
      "source": [
        "import os\n",
        "import tweepy as tw\n",
        "import pandas as pd\n",
        "consumer_key= 'PWSW8ixkM13L35pREUbsGuYSG'\n",
        "consumer_secret= 'VIaYRkNNn9oZmQtENZLvNQzlavBGRimMmOlyTQvvpPnVhbHMYL'\n",
        "access_token= '826107931846463488-rBaRFGTxHVXyKDMlyh76439HxtiqrK2'\n",
        "access_token_secret= 'KVyJwx9tMZAIoPSd4edWcPGRIB9o7fCNQUceNktnPabtG'\n",
        "auth = tw.OAuthHandler(consumer_key, consumer_secret)\n",
        "auth.set_access_token(access_token, access_token_secret)\n",
        "api = tw.API(auth, wait_on_rate_limit=True)\n",
        "auth = tw.OAuthHandler(consumer_key, consumer_secret)\n",
        "auth.set_access_token(access_token, access_token_secret)\n",
        "\n",
        "api = tw.API(auth)\n",
        "count=0\n",
        "lst=[]\n",
        "\n",
        "# Define the search term and the date_since date as variables\n",
        "search_words = \"PANGAIA\"\n",
        "#date_since = \"2018-09-01\"\n",
        "#,since=date_since\n",
        "# Collect tweets\n",
        "count=0\n",
        "for tweet in tw.Cursor(api.search,q=search_words,lang=\"en\").items(1000):\n",
        "        #Tweet Level\n",
        "        tId.append(tweet.id)\n",
        "        tweetText.append(tweet.text)\n",
        "        tDate.append(tweet.created_at)\n",
        "        rc.append(tweet.retweet_count)\n",
        "        fc.append(tweet.favorite_count)\n",
        "        favourite.append(tweet.favorited)\n",
        "        retweeted.append(tweet.retweeted)\n",
        "        #User level\n",
        "        uDate.append(tweet.user.created_at)\n",
        "        screen_name.append(tweet.user.screen_name)\n",
        "        sc.append(tweet.user.statuses_count)\n",
        "        followerCount.append(tweet.user.followers_count)\n",
        "        friendCount.append(tweet.user.friends_count)\n",
        "        userFavCount.append(tweet.user.favourites_count)"
      ],
      "execution_count": 42,
      "outputs": []
    },
    {
      "cell_type": "code",
      "metadata": {
        "colab": {
          "base_uri": "https://localhost:8080/"
        },
        "id": "HxhTtAGuK7wH",
        "outputId": "065a7ab5-276a-45fa-b615-522fc4d8eac8"
      },
      "source": [
        "count"
      ],
      "execution_count": 28,
      "outputs": [
        {
          "output_type": "execute_result",
          "data": {
            "text/plain": [
              "0"
            ]
          },
          "metadata": {
            "tags": []
          },
          "execution_count": 28
        }
      ]
    },
    {
      "cell_type": "code",
      "metadata": {
        "colab": {
          "base_uri": "https://localhost:8080/"
        },
        "id": "5ZTeiwO8K7wI",
        "outputId": "faa4c2c4-6a03-4c0e-9f97-7178d9ab7916"
      },
      "source": [
        "import os\n",
        "import tweepy as tw\n",
        "import pandas as pd\n",
        "consumer_key= 'PWSW8ixkM13L35pREUbsGuYSG'\n",
        "consumer_secret= 'VIaYRkNNn9oZmQtENZLvNQzlavBGRimMmOlyTQvvpPnVhbHMYL'\n",
        "access_token= '826107931846463488-rBaRFGTxHVXyKDMlyh76439HxtiqrK2'\n",
        "access_token_secret= 'KVyJwx9tMZAIoPSd4edWcPGRIB9o7fCNQUceNktnPabtG'\n",
        "auth = tw.OAuthHandler(consumer_key, consumer_secret)\n",
        "auth.set_access_token(access_token, access_token_secret)\n",
        "api = tw.API(auth, wait_on_rate_limit=True)\n",
        "auth = tw.OAuthHandler(consumer_key, consumer_secret)\n",
        "auth.set_access_token(access_token, access_token_secret)\n",
        "\n",
        "api = tw.API(auth)\n",
        "count=0\n",
        "lst=[]\n",
        "\n",
        "# Define the search term and the date_since date as variables\n",
        "search_words = \"@thepangaia\"\n",
        "\n",
        "# Collect tweets\n",
        "\n",
        "for tweet in tw.Cursor(api.search,q=search_words,lang=\"en\").items():\n",
        "        #Tweet Level\n",
        "        print(tweet.text)\n",
        "        tId.append(tweet.id)\n",
        "        tweetText.append(tweet.text)\n",
        "        tDate.append(tweet.created_at)\n",
        "        rc.append(tweet.retweet_count)\n",
        "        fc.append(tweet.favorite_count)\n",
        "        favourite.append(tweet.favorited)\n",
        "        retweeted.append(tweet.retweeted)\n",
        "        #User level\n",
        "        uDate.append(tweet.user.created_at)\n",
        "        screen_name.append(tweet.user.screen_name)\n",
        "        sc.append(tweet.user.statuses_count)\n",
        "        followerCount.append(tweet.user.followers_count)\n",
        "        friendCount.append(tweet.user.friends_count)\n",
        "        userFavCount.append(tweet.user.favourites_count)"
      ],
      "execution_count": 43,
      "outputs": [
        {
          "output_type": "stream",
          "text": [
            "ROICA™ V550, part of the ROICA Eco-Smart™\n",
            "family on @voguemagazine together with @thepangaia \n",
            "\n",
            "#ClassEcoHub… https://t.co/Ts2XUw5cf7\n",
            "RT @thepangaia: PANGAIA Gym is finally open and you don’t need to line up!\n",
            "Packed with our top technologies, our plant-powered activewear k…\n",
            "@ju_jegorova @BlackUnicornPR @MajeOfficiel @thepangaia Niiice color scheme👍🏽👍🏽👍🏽\n",
            "Find out more about @thepangaia's innovations in material science, the urgent changes needed to move the needle tow… https://t.co/N6VKv7q4O3\n",
            "Happiness is also your new favourite cap from @thepangaia (#botanicaldyes, beautiful colours and impeccable style),… https://t.co/V9Q5nxJxsv\n",
            "@thepangaia's laid-back, colourful essentials have proved a hit with consumers. We speak to its chief innovation of… https://t.co/WWx0C8dY2a\n",
            "RT @thepangaia: \"Family to me is love” - @flowerovlove\n",
            "\n",
            "https://t.co/Ks6spBKqW2 https://t.co/hXkwcRgnmd\n",
            "Thank you @thepangaia and @Biofabricate_  joining our panel talks at #futurefabricsexpo talking about #biobased mat… https://t.co/4CnjAwnEaj\n",
            "#UK-based #sustainable #fashion brand @thepangaia has deployed decision-making platform Board International’s BI… https://t.co/ibDCRNnKfw\n"
          ],
          "name": "stdout"
        }
      ]
    },
    {
      "cell_type": "code",
      "metadata": {
        "id": "umH23JIjK7wI"
      },
      "source": [
        "import os\n",
        "import tweepy as tw\n",
        "import pandas as pd\n",
        "consumer_key= 'PWSW8ixkM13L35pREUbsGuYSG'\n",
        "consumer_secret= 'VIaYRkNNn9oZmQtENZLvNQzlavBGRimMmOlyTQvvpPnVhbHMYL'\n",
        "access_token= '826107931846463488-rBaRFGTxHVXyKDMlyh76439HxtiqrK2'\n",
        "access_token_secret= 'KVyJwx9tMZAIoPSd4edWcPGRIB9o7fCNQUceNktnPabtG'\n",
        "auth = tw.OAuthHandler(consumer_key, consumer_secret)\n",
        "auth.set_access_token(access_token, access_token_secret)\n",
        "api = tw.API(auth, wait_on_rate_limit=True)\n",
        "auth = tw.OAuthHandler(consumer_key, consumer_secret)\n",
        "auth.set_access_token(access_token, access_token_secret)\n",
        "\n",
        "api = tw.API(auth)\n",
        "count=0\n",
        "lst=[]\n",
        "\n",
        "# Define the search term and the date_since date as variables\n",
        "search_words = \"#PANGAIAChangemaker\"\n",
        "\n",
        "\n",
        "# Collect tweets\n",
        "\n",
        "for tweet in tw.Cursor(api.search,q=search_words,lang=\"en\").items():\n",
        "        print(tweet.text)\n",
        "        #Tweet Level\n",
        "        tId.append(tweet.id)\n",
        "        tweetText.append(tweet.text)\n",
        "        tDate.append(tweet.created_at)\n",
        "        rc.append(tweet.retweet_count)\n",
        "        fc.append(tweet.favorite_count)\n",
        "        favourite.append(tweet.favorited)\n",
        "        retweeted.append(tweet.retweeted)\n",
        "        #User level\n",
        "        uDate.append(tweet.user.created_at)\n",
        "        screen_name.append(tweet.user.screen_name)\n",
        "        sc.append(tweet.user.statuses_count)\n",
        "        followerCount.append(tweet.user.followers_count)\n",
        "        friendCount.append(tweet.user.friends_count)\n",
        "        userFavCount.append(tweet.user.favourites_count)"
      ],
      "execution_count": 44,
      "outputs": []
    },
    {
      "cell_type": "code",
      "metadata": {
        "colab": {
          "base_uri": "https://localhost:8080/"
        },
        "id": "BrCzRIjGK7wJ",
        "outputId": "618d1505-8e18-45fc-d7ff-7941794c3467"
      },
      "source": [
        "import os\n",
        "import tweepy as tw\n",
        "import pandas as pd\n",
        "consumer_key= 'PWSW8ixkM13L35pREUbsGuYSG'\n",
        "consumer_secret= 'VIaYRkNNn9oZmQtENZLvNQzlavBGRimMmOlyTQvvpPnVhbHMYL'\n",
        "access_token= '826107931846463488-rBaRFGTxHVXyKDMlyh76439HxtiqrK2'\n",
        "access_token_secret= 'KVyJwx9tMZAIoPSd4edWcPGRIB9o7fCNQUceNktnPabtG'\n",
        "auth = tw.OAuthHandler(consumer_key, consumer_secret)\n",
        "auth.set_access_token(access_token, access_token_secret)\n",
        "api = tw.API(auth, wait_on_rate_limit=True)\n",
        "auth = tw.OAuthHandler(consumer_key, consumer_secret)\n",
        "auth.set_access_token(access_token, access_token_secret)\n",
        "\n",
        "api = tw.API(auth)\n",
        "count=0\n",
        "lst=[]\n",
        "\n",
        "# Define the search term and the date_since date as variables\n",
        "search_words = \"Air Pollution ink\"\n",
        "\n",
        "\n",
        "for tweet in tw.Cursor(api.search,q=search_words,lang=\"en\").items():\n",
        "        print(tweet.text)\n",
        "        #Tweet Level\n",
        "        tId.append(tweet.id)\n",
        "        tweetText.append(tweet.text)\n",
        "        tDate.append(tweet.created_at)\n",
        "        rc.append(tweet.retweet_count)\n",
        "        fc.append(tweet.favorite_count)\n",
        "        favourite.append(tweet.favorited)\n",
        "        retweeted.append(tweet.retweeted)\n",
        "        #User level\n",
        "        uDate.append(tweet.user.created_at)\n",
        "        screen_name.append(tweet.user.screen_name)\n",
        "        sc.append(tweet.user.statuses_count)\n",
        "        followerCount.append(tweet.user.followers_count)\n",
        "        friendCount.append(tweet.user.friends_count)\n",
        "        userFavCount.append(tweet.user.favourites_count)"
      ],
      "execution_count": 45,
      "outputs": [
        {
          "output_type": "stream",
          "text": [
            "RT @avsm: This is such an interesting approach to carbon reduction, via blank ink created from upcycled carbon emissions. They \"invented a…\n",
            "This is such an interesting approach to carbon reduction, via blank ink created from upcycled carbon emissions. The… https://t.co/JUyUjL9D8J\n"
          ],
          "name": "stdout"
        }
      ]
    },
    {
      "cell_type": "code",
      "metadata": {
        "id": "JOMiu7evK7wJ"
      },
      "source": [
        "import os\n",
        "import tweepy as tw\n",
        "import pandas as pd\n",
        "consumer_key= 'PWSW8ixkM13L35pREUbsGuYSG'\n",
        "consumer_secret= 'VIaYRkNNn9oZmQtENZLvNQzlavBGRimMmOlyTQvvpPnVhbHMYL'\n",
        "access_token= '826107931846463488-rBaRFGTxHVXyKDMlyh76439HxtiqrK2'\n",
        "access_token_secret= 'KVyJwx9tMZAIoPSd4edWcPGRIB9o7fCNQUceNktnPabtG'\n",
        "auth = tw.OAuthHandler(consumer_key, consumer_secret)\n",
        "auth.set_access_token(access_token, access_token_secret)\n",
        "api = tw.API(auth, wait_on_rate_limit=True)\n",
        "auth = tw.OAuthHandler(consumer_key, consumer_secret)\n",
        "auth.set_access_token(access_token, access_token_secret)\n",
        "\n",
        "api = tw.API(auth)\n",
        "count=0\n",
        "lst=[]\n",
        "\n",
        "# Define the search term and the date_since date as variables\n",
        "search_words = \"Pangaia SweatShirt\"\n",
        "\n",
        "\n",
        "for tweet in tw.Cursor(api.search,q=search_words,lang=\"en\").items():\n",
        "        print(tweet.text)\n",
        "        #Tweet Level\n",
        "        tId.append(tweet.id)\n",
        "        tweetText.append(tweet.text)\n",
        "        tDate.append(tweet.created_at)\n",
        "        rc.append(tweet.retweet_count)\n",
        "        fc.append(tweet.favorite_count)\n",
        "        favourite.append(tweet.favorited)\n",
        "        retweeted.append(tweet.retweeted)\n",
        "        #User level\n",
        "        uDate.append(tweet.user.created_at)\n",
        "        screen_name.append(tweet.user.screen_name)\n",
        "        sc.append(tweet.user.statuses_count)\n",
        "        followerCount.append(tweet.user.followers_count)\n",
        "        friendCount.append(tweet.user.friends_count)\n",
        "        userFavCount.append(tweet.user.favourites_count)"
      ],
      "execution_count": 46,
      "outputs": []
    },
    {
      "cell_type": "code",
      "metadata": {
        "colab": {
          "base_uri": "https://localhost:8080/"
        },
        "id": "YCwEBJLvK7wK",
        "outputId": "7d4a344a-cbe4-4d1b-939c-7619ab18611f"
      },
      "source": [
        "\n",
        "#Libraries \n",
        "import os\n",
        "#Tweepy Library\n",
        "import tweepy as tw\n",
        "import pandas as pd\n",
        "\n",
        "#Twitter API Keys and Tokens \n",
        "consumer_key= 'PWSW8ixkM13L35pREUbsGuYSG'\n",
        "consumer_secret= 'VIaYRkNNn9oZmQtENZLvNQzlavBGRimMmOlyTQvvpPnVhbHMYL'\n",
        "access_token= '826107931846463488-rBaRFGTxHVXyKDMlyh76439HxtiqrK2'\n",
        "access_token_secret= 'KVyJwx9tMZAIoPSd4edWcPGRIB9o7fCNQUceNktnPabtG'\n",
        "\n",
        "#Authentication\n",
        "auth = tw.OAuthHandler(consumer_key, consumer_secret)\n",
        "auth.set_access_token(access_token, access_token_secret)\n",
        "api = tw.API(auth, wait_on_rate_limit=True)\n",
        "auth = tw.OAuthHandler(consumer_key, consumer_secret)\n",
        "auth.set_access_token(access_token, access_token_secret)\n",
        "\n",
        "api = tw.API(auth)\n",
        "\n",
        "# Define the search term and the date_since date as variables\n",
        "search_words = \"PANGAIA Collection\"\n",
        "\n",
        "#Loop through every tweet then save the features of tweets in a list \n",
        "for tweet in tw.Cursor(api.search,q=search_words,lang=\"en\").items():\n",
        "        print(tweet.text)\n",
        "        #Tweet Level\n",
        "        tId.append(tweet.id)\n",
        "        tweetText.append(tweet.text)\n",
        "        tDate.append(tweet.created_at)\n",
        "        rc.append(tweet.retweet_count)\n",
        "        fc.append(tweet.favorite_count)\n",
        "        favourite.append(tweet.favorited)\n",
        "        retweeted.append(tweet.retweeted)\n",
        "        #User level\n",
        "        uDate.append(tweet.user.created_at)\n",
        "        screen_name.append(tweet.user.screen_name)\n",
        "        sc.append(tweet.user.statuses_count)\n",
        "        followerCount.append(tweet.user.followers_count)\n",
        "        friendCount.append(tweet.user.friends_count)\n",
        "        userFavCount.append(tweet.user.favourites_count)"
      ],
      "execution_count": 47,
      "outputs": [
        {
          "output_type": "stream",
          "text": [
            "Pangaia’s First Activewear Collection is Made From Plants, Not Plastic https://t.co/K2U8Q4bMlr\n",
            "RT @teamunefy: #Pangaia Launches First Sustainable #Activewear Collection Made From #Seaweed Fiber https://t.co/mPYtyui3bb\n"
          ],
          "name": "stdout"
        }
      ]
    },
    {
      "cell_type": "code",
      "metadata": {
        "colab": {
          "base_uri": "https://localhost:8080/"
        },
        "id": "tn6gSXMzK7wL",
        "outputId": "019a1ca8-3500-475c-bfec-ad3eb33cdd69"
      },
      "source": [
        "import os\n",
        "import tweepy as tw\n",
        "import pandas as pd\n",
        "consumer_key= 'PWSW8ixkM13L35pREUbsGuYSG'\n",
        "consumer_secret= 'VIaYRkNNn9oZmQtENZLvNQzlavBGRimMmOlyTQvvpPnVhbHMYL'\n",
        "access_token= '826107931846463488-rBaRFGTxHVXyKDMlyh76439HxtiqrK2'\n",
        "access_token_secret= 'KVyJwx9tMZAIoPSd4edWcPGRIB9o7fCNQUceNktnPabtG'\n",
        "auth = tw.OAuthHandler(consumer_key, consumer_secret)\n",
        "auth.set_access_token(access_token, access_token_secret)\n",
        "api = tw.API(auth, wait_on_rate_limit=True)\n",
        "auth = tw.OAuthHandler(consumer_key, consumer_secret)\n",
        "auth.set_access_token(access_token, access_token_secret)\n",
        "\n",
        "api = tw.API(auth)\n",
        "count=0\n",
        "lst=[]\n",
        "\n",
        "# Define the search term and the date_since date as variables\n",
        "search_words = \"PANGAIA fashion\"\n",
        "\n",
        "\n",
        "for tweet in tw.Cursor(api.search,q=search_words,lang=\"en\").items():\n",
        "        print(tweet.text)\n",
        "        #Tweet Level\n",
        "        tId.append(tweet.id)\n",
        "        tweetText.append(tweet.text)\n",
        "        tDate.append(tweet.created_at)\n",
        "        rc.append(tweet.retweet_count)\n",
        "        fc.append(tweet.favorite_count)\n",
        "        favourite.append(tweet.favorited)\n",
        "        retweeted.append(tweet.retweeted)\n",
        "        #User level\n",
        "        uDate.append(tweet.user.created_at)\n",
        "        screen_name.append(tweet.user.screen_name)\n",
        "        sc.append(tweet.user.statuses_count)\n",
        "        followerCount.append(tweet.user.followers_count)\n",
        "        friendCount.append(tweet.user.friends_count)\n",
        "        userFavCount.append(tweet.user.favourites_count)"
      ],
      "execution_count": 48,
      "outputs": [
        {
          "output_type": "stream",
          "text": [
            "So good I had to share! Check out all the items I'm loving on @Poshmarkapp from @abenne37 #poshmark #fashion #style… https://t.co/KhJFHy7xMs\n",
            "Industry News &amp; Insight\n",
            "\n",
            "\"Telfar and Pangaia announce new collections as lockdowns blur lines between work, home an… https://t.co/pcI6CMxjF2\n",
            "Find out more about @thepangaia's innovations in material science, the urgent changes needed to move the needle tow… https://t.co/N6VKv7q4O3\n",
            "Here's why you need to start shopping from Pangaia https://t.co/os5SebZtiW https://t.co/33piam0t9e\n",
            "RT @BritishVogue: Let’s get physical. https://t.co/zxGuQsEz8S\n",
            "RT @BritishVogue: Let’s get physical. https://t.co/zxGuQsEz8S\n",
            "RT @BritishVogue: Let’s get physical. https://t.co/zxGuQsEz8S\n",
            "RT @BritishVogue: Let’s get physical. https://t.co/zxGuQsEz8S\n",
            "Let’s get physical. https://t.co/zxGuQsEz8S\n",
            "@thepangaia's laid-back, colourful essentials have proved a hit with consumers. We speak to its chief innovation of… https://t.co/WWx0C8dY2a\n",
            "#Sustainable Apparel &amp; Fashion in the news, including sustainability labels, @thredUP, @Allbirds, @Nike, @gucci, Pa… https://t.co/UeDqG6pZZM\n",
            "#UK-based #sustainable #fashion brand @thepangaia has deployed decision-making platform Board International’s BI… https://t.co/ibDCRNnKfw\n"
          ],
          "name": "stdout"
        }
      ]
    },
    {
      "cell_type": "code",
      "metadata": {
        "colab": {
          "base_uri": "https://localhost:8080/"
        },
        "id": "w6tG8I5NK7wL",
        "outputId": "14df17b6-b83f-4e34-f5c7-3253c8a28faf"
      },
      "source": [
        "import os\n",
        "import tweepy as tw\n",
        "import pandas as pd\n",
        "consumer_key= 'PWSW8ixkM13L35pREUbsGuYSG'\n",
        "consumer_secret= 'VIaYRkNNn9oZmQtENZLvNQzlavBGRimMmOlyTQvvpPnVhbHMYL'\n",
        "access_token= '826107931846463488-rBaRFGTxHVXyKDMlyh76439HxtiqrK2'\n",
        "access_token_secret= 'KVyJwx9tMZAIoPSd4edWcPGRIB9o7fCNQUceNktnPabtG'\n",
        "auth = tw.OAuthHandler(consumer_key, consumer_secret)\n",
        "auth.set_access_token(access_token, access_token_secret)\n",
        "api = tw.API(auth, wait_on_rate_limit=True)\n",
        "auth = tw.OAuthHandler(consumer_key, consumer_secret)\n",
        "auth.set_access_token(access_token, access_token_secret)\n",
        "\n",
        "api = tw.API(auth)\n",
        "count=0\n",
        "lst=[]\n",
        "\n",
        "# Define the search term and the date_since date as variables\n",
        "search_words = \"PANGAIA Vogue\"\n",
        "\n",
        "\n",
        "for tweet in tw.Cursor(api.search,q=search_words,lang=\"en\").items():\n",
        "        print(tweet.text)\n",
        "        #Tweet Level\n",
        "        tId.append(tweet.id)\n",
        "        tweetText.append(tweet.text)\n",
        "        tDate.append(tweet.created_at)\n",
        "        rc.append(tweet.retweet_count)\n",
        "        fc.append(tweet.favorite_count)\n",
        "        favourite.append(tweet.favorited)\n",
        "        retweeted.append(tweet.retweeted)\n",
        "        #User level\n",
        "        uDate.append(tweet.user.created_at)\n",
        "        screen_name.append(tweet.user.screen_name)\n",
        "        sc.append(tweet.user.statuses_count)\n",
        "        followerCount.append(tweet.user.followers_count)\n",
        "        friendCount.append(tweet.user.friends_count)\n",
        "        userFavCount.append(tweet.user.favourites_count)"
      ],
      "execution_count": 49,
      "outputs": [
        {
          "output_type": "stream",
          "text": [
            "ROICA™ V550, part of the ROICA Eco-Smart™\n",
            "family on @voguemagazine together with @thepangaia \n",
            "\n",
            "#ClassEcoHub… https://t.co/Ts2XUw5cf7\n",
            "Find out more about @thepangaia's innovations in material science, the urgent changes needed to move the needle tow… https://t.co/N6VKv7q4O3\n",
            "Pangaia’s First Activewear Collection is Made From Plants, Not Plastic https://t.co/K2U8Q4bMlr\n",
            "RT @BritishVogue: Let’s get physical. https://t.co/zxGuQsEz8S\n",
            "RT @BritishVogue: Let’s get physical. https://t.co/zxGuQsEz8S\n",
            "RT @BritishVogue: Let’s get physical. https://t.co/zxGuQsEz8S\n",
            "RT @BritishVogue: Let’s get physical. https://t.co/zxGuQsEz8S\n",
            "Let’s get physical. https://t.co/zxGuQsEz8S\n"
          ],
          "name": "stdout"
        }
      ]
    },
    {
      "cell_type": "code",
      "metadata": {
        "colab": {
          "base_uri": "https://localhost:8080/",
          "height": 760
        },
        "id": "ixqYYEfAK7wM",
        "outputId": "21d43006-7e8d-452a-c1bf-1af5003f70df"
      },
      "source": [
        "df1=pd.DataFrame()\n",
        "df1['TweetID']=tId\n",
        "df1['TweetDate']=tDate\n",
        "df1['TweetText']=tweetText\n",
        "df1['retweetCount']=rc\n",
        "df1['FavouriteCount']=fc\n",
        "df1['IsFavourite']=favourite\n",
        "df1['ISretweetd']=retweeted\n",
        "df1['userDate']=uDate\n",
        "df1['screen_name']=screen_name\n",
        "df1['status_count']=sc\n",
        "df1['follower_count']=followerCount\n",
        "df1['freind_count']=friendCount\n",
        "df1['userFavouriteCount']=userFavCount\n",
        "df1"
      ],
      "execution_count": 50,
      "outputs": [
        {
          "output_type": "execute_result",
          "data": {
            "text/html": [
              "<div>\n",
              "<style scoped>\n",
              "    .dataframe tbody tr th:only-of-type {\n",
              "        vertical-align: middle;\n",
              "    }\n",
              "\n",
              "    .dataframe tbody tr th {\n",
              "        vertical-align: top;\n",
              "    }\n",
              "\n",
              "    .dataframe thead th {\n",
              "        text-align: right;\n",
              "    }\n",
              "</style>\n",
              "<table border=\"1\" class=\"dataframe\">\n",
              "  <thead>\n",
              "    <tr style=\"text-align: right;\">\n",
              "      <th></th>\n",
              "      <th>TweetID</th>\n",
              "      <th>TweetDate</th>\n",
              "      <th>TweetText</th>\n",
              "      <th>retweetCount</th>\n",
              "      <th>FavouriteCount</th>\n",
              "      <th>IsFavourite</th>\n",
              "      <th>ISretweetd</th>\n",
              "      <th>userDate</th>\n",
              "      <th>screen_name</th>\n",
              "      <th>status_count</th>\n",
              "      <th>follower_count</th>\n",
              "      <th>freind_count</th>\n",
              "      <th>userFavouriteCount</th>\n",
              "    </tr>\n",
              "  </thead>\n",
              "  <tbody>\n",
              "    <tr>\n",
              "      <th>0</th>\n",
              "      <td>1410364953236697089</td>\n",
              "      <td>2021-06-30 22:29:42</td>\n",
              "      <td>So good I had to share! Check out all the item...</td>\n",
              "      <td>0</td>\n",
              "      <td>0</td>\n",
              "      <td>False</td>\n",
              "      <td>False</td>\n",
              "      <td>2021-03-11 04:16:40</td>\n",
              "      <td>1_pecan</td>\n",
              "      <td>891</td>\n",
              "      <td>287</td>\n",
              "      <td>666</td>\n",
              "      <td>43</td>\n",
              "    </tr>\n",
              "    <tr>\n",
              "      <th>1</th>\n",
              "      <td>1409233081458905088</td>\n",
              "      <td>2021-06-27 19:32:03</td>\n",
              "      <td>PANGAIA Activewear - plant-powered performance...</td>\n",
              "      <td>0</td>\n",
              "      <td>2</td>\n",
              "      <td>False</td>\n",
              "      <td>False</td>\n",
              "      <td>2018-09-24 08:07:14</td>\n",
              "      <td>thepangaia</td>\n",
              "      <td>417</td>\n",
              "      <td>1356</td>\n",
              "      <td>77</td>\n",
              "      <td>327</td>\n",
              "    </tr>\n",
              "    <tr>\n",
              "      <th>2</th>\n",
              "      <td>1408722765121736704</td>\n",
              "      <td>2021-06-26 09:44:14</td>\n",
              "      <td>RT @teamunefy: #Pangaia Launches First Sustain...</td>\n",
              "      <td>1</td>\n",
              "      <td>0</td>\n",
              "      <td>False</td>\n",
              "      <td>False</td>\n",
              "      <td>2011-12-09 20:18:07</td>\n",
              "      <td>SisterSeaweed</td>\n",
              "      <td>38872</td>\n",
              "      <td>3619</td>\n",
              "      <td>4060</td>\n",
              "      <td>33956</td>\n",
              "    </tr>\n",
              "    <tr>\n",
              "      <th>3</th>\n",
              "      <td>1408691177138884610</td>\n",
              "      <td>2021-06-26 07:38:43</td>\n",
              "      <td>“Me” #whippetlitter and “me” #pangaia for brea...</td>\n",
              "      <td>0</td>\n",
              "      <td>0</td>\n",
              "      <td>False</td>\n",
              "      <td>False</td>\n",
              "      <td>2009-05-16 09:54:02</td>\n",
              "      <td>davidmtt</td>\n",
              "      <td>49504</td>\n",
              "      <td>1267</td>\n",
              "      <td>90</td>\n",
              "      <td>1286</td>\n",
              "    </tr>\n",
              "    <tr>\n",
              "      <th>4</th>\n",
              "      <td>1408689204289323012</td>\n",
              "      <td>2021-06-26 07:30:53</td>\n",
              "      <td>@thepangaia's laid-back, colourful essentials ...</td>\n",
              "      <td>0</td>\n",
              "      <td>0</td>\n",
              "      <td>False</td>\n",
              "      <td>False</td>\n",
              "      <td>2008-07-18 15:26:44</td>\n",
              "      <td>Drapers</td>\n",
              "      <td>54323</td>\n",
              "      <td>64271</td>\n",
              "      <td>1027</td>\n",
              "      <td>2272</td>\n",
              "    </tr>\n",
              "    <tr>\n",
              "      <th>...</th>\n",
              "      <td>...</td>\n",
              "      <td>...</td>\n",
              "      <td>...</td>\n",
              "      <td>...</td>\n",
              "      <td>...</td>\n",
              "      <td>...</td>\n",
              "      <td>...</td>\n",
              "      <td>...</td>\n",
              "      <td>...</td>\n",
              "      <td>...</td>\n",
              "      <td>...</td>\n",
              "      <td>...</td>\n",
              "      <td>...</td>\n",
              "    </tr>\n",
              "    <tr>\n",
              "      <th>85</th>\n",
              "      <td>1409029270773583872</td>\n",
              "      <td>2021-06-27 06:02:11</td>\n",
              "      <td>RT @BritishVogue: Let’s get physical. https://...</td>\n",
              "      <td>5</td>\n",
              "      <td>0</td>\n",
              "      <td>False</td>\n",
              "      <td>False</td>\n",
              "      <td>2018-09-17 07:12:59</td>\n",
              "      <td>ana_captures</td>\n",
              "      <td>408541</td>\n",
              "      <td>2540</td>\n",
              "      <td>3355</td>\n",
              "      <td>632550</td>\n",
              "    </tr>\n",
              "    <tr>\n",
              "      <th>86</th>\n",
              "      <td>1409023891637424129</td>\n",
              "      <td>2021-06-27 05:40:48</td>\n",
              "      <td>RT @BritishVogue: Let’s get physical. https://...</td>\n",
              "      <td>5</td>\n",
              "      <td>0</td>\n",
              "      <td>False</td>\n",
              "      <td>False</td>\n",
              "      <td>2016-12-25 19:59:51</td>\n",
              "      <td>YASSiNE_DURAND</td>\n",
              "      <td>21632</td>\n",
              "      <td>113</td>\n",
              "      <td>2209</td>\n",
              "      <td>35246</td>\n",
              "    </tr>\n",
              "    <tr>\n",
              "      <th>87</th>\n",
              "      <td>1409021958004658177</td>\n",
              "      <td>2021-06-27 05:33:07</td>\n",
              "      <td>RT @BritishVogue: Let’s get physical. https://...</td>\n",
              "      <td>5</td>\n",
              "      <td>0</td>\n",
              "      <td>False</td>\n",
              "      <td>False</td>\n",
              "      <td>2011-07-16 01:28:26</td>\n",
              "      <td>Tricksy4</td>\n",
              "      <td>107117</td>\n",
              "      <td>377</td>\n",
              "      <td>695</td>\n",
              "      <td>30460</td>\n",
              "    </tr>\n",
              "    <tr>\n",
              "      <th>88</th>\n",
              "      <td>1409021335100182528</td>\n",
              "      <td>2021-06-27 05:30:39</td>\n",
              "      <td>RT @BritishVogue: Let’s get physical. https://...</td>\n",
              "      <td>5</td>\n",
              "      <td>0</td>\n",
              "      <td>False</td>\n",
              "      <td>False</td>\n",
              "      <td>2009-04-09 00:57:13</td>\n",
              "      <td>annieEscobedo</td>\n",
              "      <td>10839</td>\n",
              "      <td>282</td>\n",
              "      <td>1554</td>\n",
              "      <td>8194</td>\n",
              "    </tr>\n",
              "    <tr>\n",
              "      <th>89</th>\n",
              "      <td>1409021151217602562</td>\n",
              "      <td>2021-06-27 05:29:55</td>\n",
              "      <td>Let’s get physical. https://t.co/zxGuQsEz8S</td>\n",
              "      <td>5</td>\n",
              "      <td>11</td>\n",
              "      <td>False</td>\n",
              "      <td>False</td>\n",
              "      <td>2009-03-31 09:59:43</td>\n",
              "      <td>BritishVogue</td>\n",
              "      <td>377063</td>\n",
              "      <td>3660794</td>\n",
              "      <td>970</td>\n",
              "      <td>1018</td>\n",
              "    </tr>\n",
              "  </tbody>\n",
              "</table>\n",
              "<p>90 rows × 13 columns</p>\n",
              "</div>"
            ],
            "text/plain": [
              "                TweetID           TweetDate  ... freind_count  userFavouriteCount\n",
              "0   1410364953236697089 2021-06-30 22:29:42  ...          666                  43\n",
              "1   1409233081458905088 2021-06-27 19:32:03  ...           77                 327\n",
              "2   1408722765121736704 2021-06-26 09:44:14  ...         4060               33956\n",
              "3   1408691177138884610 2021-06-26 07:38:43  ...           90                1286\n",
              "4   1408689204289323012 2021-06-26 07:30:53  ...         1027                2272\n",
              "..                  ...                 ...  ...          ...                 ...\n",
              "85  1409029270773583872 2021-06-27 06:02:11  ...         3355              632550\n",
              "86  1409023891637424129 2021-06-27 05:40:48  ...         2209               35246\n",
              "87  1409021958004658177 2021-06-27 05:33:07  ...          695               30460\n",
              "88  1409021335100182528 2021-06-27 05:30:39  ...         1554                8194\n",
              "89  1409021151217602562 2021-06-27 05:29:55  ...          970                1018\n",
              "\n",
              "[90 rows x 13 columns]"
            ]
          },
          "metadata": {
            "tags": []
          },
          "execution_count": 50
        }
      ]
    },
    {
      "cell_type": "code",
      "metadata": {
        "colab": {
          "base_uri": "https://localhost:8080/"
        },
        "id": "Cyh8xf5GK7wM",
        "outputId": "3aea91d7-f9a1-4230-a306-40b2510dce9f"
      },
      "source": [
        "df1['TweetID'].nunique()"
      ],
      "execution_count": 51,
      "outputs": [
        {
          "output_type": "execute_result",
          "data": {
            "text/plain": [
              "57"
            ]
          },
          "metadata": {
            "tags": []
          },
          "execution_count": 51
        }
      ]
    },
    {
      "cell_type": "code",
      "metadata": {
        "colab": {
          "base_uri": "https://localhost:8080/"
        },
        "id": "qWWOlUskK7wM",
        "outputId": "a8eb3c0e-64e9-4464-c553-ab1e9aea5059"
      },
      "source": [
        "df1['screen_name'].nunique()"
      ],
      "execution_count": 38,
      "outputs": [
        {
          "output_type": "execute_result",
          "data": {
            "text/plain": [
              "51"
            ]
          },
          "metadata": {
            "tags": []
          },
          "execution_count": 38
        }
      ]
    },
    {
      "cell_type": "code",
      "metadata": {
        "id": "dWWXOkbzK7wN"
      },
      "source": [
        "df1.to_csv(\"04-May_2021PangaiaCampaignTweets.csv\",index=False)"
      ],
      "execution_count": 39,
      "outputs": []
    },
    {
      "cell_type": "code",
      "metadata": {
        "colab": {
          "base_uri": "https://localhost:8080/"
        },
        "id": "qJEPgIOhK7wN",
        "outputId": "8f477917-ca3a-437a-9e21-ecc0d13e9ff3"
      },
      "source": [
        "df1['TweetDate'].unique()"
      ],
      "execution_count": null,
      "outputs": [
        {
          "output_type": "execute_result",
          "data": {
            "text/plain": [
              "array(['2021-06-30T22:29:42.000000000', '2021-06-27T19:32:03.000000000',\n",
              "       '2021-06-26T09:44:14.000000000', '2021-06-26T07:38:43.000000000',\n",
              "       '2021-06-26T07:30:53.000000000', '2021-06-30T14:55:37.000000000',\n",
              "       '2021-06-30T13:50:10.000000000', '2021-06-29T12:27:09.000000000',\n",
              "       '2021-06-29T08:00:01.000000000', '2021-06-26T17:39:46.000000000',\n",
              "       '2021-06-25T16:47:09.000000000', '2021-06-25T12:50:29.000000000',\n",
              "       '2021-06-25T08:22:02.000000000', '2021-06-29T09:40:04.000000000',\n",
              "       '2021-06-29T08:27:01.000000000', '2021-06-28T07:21:23.000000000',\n",
              "       '2021-06-30T13:29:59.000000000', '2021-06-29T02:18:30.000000000',\n",
              "       '2021-06-27T06:02:11.000000000', '2021-06-27T05:40:48.000000000',\n",
              "       '2021-06-27T05:33:07.000000000', '2021-06-27T05:30:39.000000000',\n",
              "       '2021-06-27T05:29:55.000000000', '2021-06-25T18:43:54.000000000'],\n",
              "      dtype='datetime64[ns]')"
            ]
          },
          "metadata": {
            "tags": []
          },
          "execution_count": 23
        }
      ]
    },
    {
      "cell_type": "code",
      "metadata": {
        "colab": {
          "base_uri": "https://localhost:8080/"
        },
        "id": "7QhWDWnwK7wN",
        "outputId": "4b14119e-b3e7-4a16-ab80-10ef2d31e513"
      },
      "source": [
        "import os\n",
        "import tweepy as tw\n",
        "import pandas as pd\n",
        "consumer_key= 'PWSW8ixkM13L35pREUbsGuYSG'\n",
        "consumer_secret= 'VIaYRkNNn9oZmQtENZLvNQzlavBGRimMmOlyTQvvpPnVhbHMYL'\n",
        "access_token= '826107931846463488-rBaRFGTxHVXyKDMlyh76439HxtiqrK2'\n",
        "access_token_secret= 'KVyJwx9tMZAIoPSd4edWcPGRIB9o7fCNQUceNktnPabtG'\n",
        "auth = tw.OAuthHandler(consumer_key, consumer_secret)\n",
        "auth.set_access_token(access_token, access_token_secret)\n",
        "api = tw.API(auth, wait_on_rate_limit=True)\n",
        "auth = tw.OAuthHandler(consumer_key, consumer_secret)\n",
        "auth.set_access_token(access_token, access_token_secret)\n",
        "\n",
        "api = tw.API(auth)\n",
        "count=0\n",
        "lst=[]\n",
        "\n",
        "# Define the search term and the date_since date as variables\n",
        "search_words = \"PANGAIA Vogue\"\n",
        "\n",
        "\n",
        "for tweet in tw.Cursor(api.search,q=search_words,lang=\"en\").items():\n",
        "        print(tweet.text)\n",
        "        #Tweet Level\n",
        "        tId.append(tweet.id)\n",
        "        tweetText.append(tweet.text)\n",
        "        tDate.append(tweet.created_at)\n",
        "        rc.append(tweet.retweet_count)\n",
        "        fc.append(tweet.favorite_count)\n",
        "        favourite.append(tweet.favorited)\n",
        "        retweeted.append(tweet.retweeted)\n",
        "        #User level\n",
        "        uDate.append(tweet.user.created_at)\n",
        "        screen_name.append(tweet.user.screen_name)\n",
        "        sc.append(tweet.user.statuses_count)\n",
        "        followerCount.append(tweet.user.followers_count)\n",
        "        friendCount.append(tweet.user.friends_count)\n",
        "        userFavCount.append(tweet.user.favourites_count)"
      ],
      "execution_count": 52,
      "outputs": [
        {
          "output_type": "stream",
          "text": [
            "ROICA™ V550, part of the ROICA Eco-Smart™\n",
            "family on @voguemagazine together with @thepangaia \n",
            "\n",
            "#ClassEcoHub… https://t.co/Ts2XUw5cf7\n",
            "Find out more about @thepangaia's innovations in material science, the urgent changes needed to move the needle tow… https://t.co/N6VKv7q4O3\n",
            "Pangaia’s First Activewear Collection is Made From Plants, Not Plastic https://t.co/K2U8Q4bMlr\n",
            "RT @BritishVogue: Let’s get physical. https://t.co/zxGuQsEz8S\n",
            "RT @BritishVogue: Let’s get physical. https://t.co/zxGuQsEz8S\n",
            "RT @BritishVogue: Let’s get physical. https://t.co/zxGuQsEz8S\n",
            "RT @BritishVogue: Let’s get physical. https://t.co/zxGuQsEz8S\n",
            "Let’s get physical. https://t.co/zxGuQsEz8S\n"
          ],
          "name": "stdout"
        }
      ]
    },
    {
      "cell_type": "code",
      "metadata": {
        "id": "WR4KFk8cK7wN"
      },
      "source": [
        ""
      ],
      "execution_count": null,
      "outputs": []
    }
  ]
}